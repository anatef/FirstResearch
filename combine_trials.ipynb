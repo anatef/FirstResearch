{
 "cells": [
  {
   "cell_type": "code",
   "execution_count": 1,
   "metadata": {
    "collapsed": true
   },
   "outputs": [],
   "source": [
    "import pandas as pd\n",
    "import numpy as np\n",
    "import pickle\n",
    "from collections import defaultdict"
   ]
  },
  {
   "cell_type": "code",
   "execution_count": 8,
   "metadata": {
    "collapsed": true
   },
   "outputs": [],
   "source": [
    "curr_dir = !pwd\n",
    "datafile_date = \"06.20.18\"\n",
    "prec_th_str = \"dna0.5_rna0.25_ion0.75\"\n",
    "input_path = curr_dir[0]+\"/hyperparam_tuning/phase1_initial_run/\"+datafile_date+\"_\"+prec_th_str+\"/per_trial/\"\n",
    "#ligands = [\"dna\", \"dnabase\", \"dnabackbone\", \"rna\", \"rnabase\", \"rnabackbone\", \"peptide\", \"ion\", \"metabolite\", \"all_ligands\"]\n",
    "ligands = [\"metabolite\", \"peptide\", \"rna\", \"ion\", \"sm\", \"dna\"]\n",
    "ligand = \"dna\"\n",
    "#classifiers = [\"RF\", \"SVM\", \"KNN\", \"ADA\", \"XGB\"]\n",
    "classifiers = [\"NN\"]\n",
    "no_trials = 100\n",
    "folds_num = 5\n",
    "classifier = \"XGB\"\n"
   ]
  },
  {
   "cell_type": "code",
   "execution_count": 9,
   "metadata": {},
   "outputs": [],
   "source": [
    "for ligand in ligands:\n",
    "    for i in range(5):\n",
    "        fold = i+1\n",
    "        fold_df = pd.DataFrame()\n",
    "        for trial in range(no_trials):\n",
    "            trial_filename = input_path+ligand+\"_\"+classifier+\"_fold\"+str(fold)+\"_trial\"+str(trial)+\"_\"+str(folds_num)+\"w_hyperparameters.csv\"\n",
    "            trial_hyperparameters_df = pd.read_csv(trial_filename, sep='\\t', index_col=0)\n",
    "            fold_df = fold_df.append(trial_hyperparameters_df)\n",
    "        fold_df = fold_df.sort_values(by = \"mean_AUPRC\", ascending = False)\n",
    "        fold_df.to_csv(input_path+ligand+\"_\"+classifier+\"_fold\"+str(fold)+\"_hyperparameters.csv\", sep=',')"
   ]
  },
  {
   "cell_type": "code",
   "execution_count": null,
   "metadata": {
    "collapsed": true
   },
   "outputs": [],
   "source": []
  }
 ],
 "metadata": {
  "kernelspec": {
   "display_name": "Python 2",
   "language": "python",
   "name": "python2"
  },
  "language_info": {
   "codemirror_mode": {
    "name": "ipython",
    "version": 2
   },
   "file_extension": ".py",
   "mimetype": "text/x-python",
   "name": "python",
   "nbconvert_exporter": "python",
   "pygments_lexer": "ipython2",
   "version": "2.7.11"
  }
 },
 "nbformat": 4,
 "nbformat_minor": 2
}
