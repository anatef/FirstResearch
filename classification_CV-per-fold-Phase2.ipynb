{
 "cells": [
  {
   "cell_type": "code",
   "execution_count": 1,
   "metadata": {},
   "outputs": [
    {
     "data": {
      "text/html": [
       "<style>.container { width:100% !important; }</style>"
      ],
      "text/plain": [
       "<IPython.core.display.HTML object>"
      ]
     },
     "execution_count": 1,
     "metadata": {},
     "output_type": "execute_result"
    }
   ],
   "source": [
    "#Basic imports\n",
    "import pandas as pd\n",
    "import numpy as np\n",
    "import pickle\n",
    "from collections import defaultdict\n",
    "from os import environ, getcwd\n",
    "import sys\n",
    "import csv\n",
    "\n",
    "#Classifier imports\n",
    "from sklearn.neighbors import KNeighborsClassifier \n",
    "from sklearn.ensemble import RandomForestClassifier, AdaBoostClassifier\n",
    "from sklearn.linear_model import LogisticRegression\n",
    "from sklearn.svm import SVC\n",
    "from xgboost import XGBClassifier\n",
    "\n",
    "#ML framework imports\n",
    "from sklearn.metrics import auc, roc_auc_score, precision_recall_curve, precision_score\n",
    "from sklearn.model_selection import RepeatedStratifiedKFold\n",
    "from sklearn.preprocessing import scale\n",
    "from sklearn.preprocessing import StandardScaler\n",
    "from sklearn.utils import shuffle\n",
    "\n",
    "# Neural Net imports\n",
    "import torch\n",
    "import torch.nn as nn\n",
    "import torch.nn.functional as F\n",
    "import torch.optim as optim\n",
    "\n",
    "#Import utils functions\n",
    "curr_dir = !pwd\n",
    "sys.path.append(curr_dir[0]+\"/utils\")\n",
    "from prop_threshold_funcs import create_negatives_datasets_combined, create_positives_datasets_combined\n",
    "from prediction_general_funcs import ligands, score_cols_suffix, get_features_cols, remove_unimportant_features\n",
    "from CV_funcs import add_domain_name_from_table_idx, calc_CV_idx_iterative\n",
    "\n",
    "from IPython.core.display import HTML\n",
    "HTML(\"<style>.container { width:100% !important; }</style>\")"
   ]
  },
  {
   "cell_type": "markdown",
   "metadata": {},
   "source": [
    "### Reading the input dataset"
   ]
  },
  {
   "cell_type": "code",
   "execution_count": 2,
   "metadata": {},
   "outputs": [
    {
     "name": "stdout",
     "output_type": "stream",
     "text": [
      "all samples positions #: 42535\n"
     ]
    }
   ],
   "source": [
    "curr_dir = !pwd\n",
    "pfam_version = \"31\"\n",
    "datafile_date = \"06.20.18\"\n",
    "input_path = curr_dir[0]+\"/domains_similarity/filtered_features_table/\"\n",
    "filename = \"windowed_positions_features_mediode_filter_\"+datafile_date+\".csv\"\n",
    "out_dir = \"mediode_NegLigand_NoFilter\"\n",
    "\n",
    "#flags for creating negatives\n",
    "zero_prop = True\n",
    "no_prop = True\n",
    "all_ligands = False\n",
    "prec_th = 0.25\n",
    "folds_num = 5\n",
    "\n",
    "#Features table\n",
    "features_all = pd.read_csv(input_path+filename, sep='\\t', index_col=0)\n",
    "\n",
    "#Features columns names, without the labels (the binding scores)\n",
    "features_cols = get_features_cols(features_all)\n",
    "remove_unimportant_features(features_all, features_cols)\n",
    "features_all.to_csv(curr_dir[0]+\"/features_all.csv\", sep = \",\")\n",
    "\n",
    "print \"all samples positions #: \"+str(features_all.shape[0])\n",
    "\n",
    "#CV splits dictionary\n",
    "with open(curr_dir[0]+\"/CV_splits/pfam-v\"+pfam_version+\"/domain_\"+str(folds_num)+\"_folds_\"+str(prec_th)+\"_prec_dict.pik\", 'rb') as handle:\n",
    "    splits_dict = pickle.load(handle)\n"
   ]
  },
  {
   "cell_type": "markdown",
   "metadata": {},
   "source": [
    "#### Dataset of negative examples"
   ]
  },
  {
   "cell_type": "code",
   "execution_count": 3,
   "metadata": {},
   "outputs": [
    {
     "name": "stdout",
     "output_type": "stream",
     "text": [
      "dna non-binding #:41680\n",
      "dnabase non-binding #:42089\n",
      "dnabackbone non-binding #:41689\n",
      "dna combined non binding #: 41555\n",
      "rna non-binding #:41613\n",
      "rnabase non-binding #:41828\n",
      "rnabackbone non-binding #:41619\n",
      "rna combined non binding #: 41401\n",
      "peptide non-binding #:38794\n",
      "ion non-binding #:37525\n",
      "metabolite non-binding #:37463\n",
      "sm non-binding #:30978\n"
     ]
    }
   ],
   "source": [
    "# add combined function\n",
    "ligands_negatives_df = create_negatives_datasets_combined(zero_prop, no_prop, features_all, features_cols, all_ligands)"
   ]
  },
  {
   "cell_type": "markdown",
   "metadata": {},
   "source": [
    "#### Datasets of positive examples by ligand"
   ]
  },
  {
   "cell_type": "code",
   "execution_count": 4,
   "metadata": {},
   "outputs": [
    {
     "name": "stdout",
     "output_type": "stream",
     "text": [
      "dna #: 239\n",
      "dnabase #: 170\n",
      "dnabackbone #: 244\n",
      "dna combined #: 353\n",
      "rna #: 360\n",
      "rnabase #: 246\n",
      "rnabackbone #: 346\n",
      "rna combined #: 468\n",
      "peptide #: 462\n",
      "ion #: 350\n",
      "metabolite #: 504\n",
      "sm #: 708\n"
     ]
    },
    {
     "name": "stderr",
     "output_type": "stream",
     "text": [
      "/Users/madhumithashridharan/anaconda/lib/python2.7/site-packages/pandas/core/frame.py:1997: UserWarning: Boolean Series key will be reindexed to match DataFrame index.\n",
      "  \"DataFrame index.\", UserWarning)\n"
     ]
    }
   ],
   "source": [
    "ligands_positives_df = create_positives_datasets_combined(features_all, features_cols, all_ligands)"
   ]
  },
  {
   "cell_type": "markdown",
   "metadata": {},
   "source": [
    "### Reading env input for downsampler technique, ligand and classifier"
   ]
  },
  {
   "cell_type": "code",
   "execution_count": 8,
   "metadata": {
    "scrolled": true
   },
   "outputs": [
    {
     "name": "stdout",
     "output_type": "stream",
     "text": [
      "ligand = sm\n",
      "fold = 3\n",
      "classifier_method = NN\n"
     ]
    }
   ],
   "source": [
    "#Reading the ligand input\n",
    "try:\n",
    "    ligand = environ['ligand']\n",
    "except:\n",
    "    ligand = \"sm\"\n",
    "print \"ligand = \"+ligand\n",
    "    \n",
    "#Reading the downsampler input\n",
    "try: \n",
    "    fold = environ['fold']\n",
    "except:\n",
    "    fold = \"3\"\n",
    "print \"fold = \"+fold\n",
    "\n",
    "#Reading the classifier input\n",
    "try: \n",
    "    classifier_method = environ['classifier']\n",
    "except:\n",
    "    classifier_method = \"NN\"\n",
    "print \"classifier_method = \"+classifier_method"
   ]
  },
  {
   "cell_type": "markdown",
   "metadata": {},
   "source": [
    "### Read dictionary of hyperparameters"
   ]
  },
  {
   "cell_type": "code",
   "execution_count": 9,
   "metadata": {
    "scrolled": true
   },
   "outputs": [
    {
     "name": "stdout",
     "output_type": "stream",
     "text": [
      "{'epoch_count': 3, 'hidden_units_2': 359, 'learning_rate': 0.0035384535909065507, 'mean_AUPRC': 0.17061267840744834, 'batch_size': 147, 'beta': 0.9357945617622756, 'weight_decay': 2.7711337379161135e-09, 'hidden_units_1': 153}\n"
     ]
    }
   ],
   "source": [
    "# read hyperparameters\n",
    "with open(curr_dir[0]+\"/best_hyperparameters/\"+ligand+\"_\"+classifier_method+\"_best_hyperparameters.pik\", 'rb') as dictionary:\n",
    "    hyperparameters = pickle.load(dictionary)\n",
    "\n",
    "print hyperparameters"
   ]
  },
  {
   "cell_type": "markdown",
   "metadata": {},
   "source": [
    "### Neural Net Class\n",
    "\n",
    "Tutorial for Neural Net Architecture: https://pytorch.org/tutorials/beginner/blitz/neural_networks_tutorial.html\n",
    "\n",
    "Utilize batch normalization, as explained here: https://www.youtube.com/watch?v=fv1Luwd-LOI&index=69&list=PLBAGcD3siRDguyYYzhVwZ3tLvOyyG5k6K"
   ]
  },
  {
   "cell_type": "code",
   "execution_count": 20,
   "metadata": {
    "collapsed": true
   },
   "outputs": [],
   "source": [
    "# define the network with batch normalization\n",
    "class Net(nn.Module):\n",
    "    def __init__(self, hyperparameters):\n",
    "        hidden_units_1 = hyperparameters[\"hidden_units_1\"]\n",
    "        hidden_units_2 = hyperparameters[\"hidden_units_2\"]\n",
    "        super(Net, self).__init__()\n",
    "        self.input = nn.Linear(len(features_cols), hidden_units_1) # read input size from the .shape of data table\n",
    "        self.hidden1 = nn.Linear(hidden_units_1, hidden_units_2)\n",
    "        self.hidden1_bn = nn.BatchNorm1d(hidden_units_2)\n",
    "        self.hidden2 = nn.Linear(hidden_units_2, hidden_units_2)\n",
    "        self.hidden2_bn = nn.BatchNorm1d(hidden_units_2)\n",
    "        self.hidden3 = nn.Linear(hidden_units_2, hidden_units_1)\n",
    "        self.hidden3_bn = nn.BatchNorm1d(hidden_units_1)\n",
    "        self.output = nn.Linear(hidden_units_1,2)\n",
    "        self.batch_size = hyperparameters[\"batch_size\"]\n",
    "        self.learning_rate = hyperparameters[\"learning_rate\"]\n",
    "        self.beta = hyperparameters[\"beta\"]\n",
    "        self.weight_decay = hyperparameters[\"weight_decay\"]\n",
    "        self.epoch_count = hyperparameters[\"epoch_count\"]\n",
    "        \n",
    "\n",
    "    def forward(self, x):\n",
    "        x = F.relu(self.input(x))\n",
    "        x = F.relu(self.hidden1_bn(self.hidden1(x)))\n",
    "        x = F.relu(self.hidden2_bn(self.hidden2(x)))\n",
    "        x = F.relu(self.hidden3_bn(self.hidden3(x)))\n",
    "        x = self.output(x)\n",
    "        return x\n",
    "    \n",
    "    def fit(self, train_valid_data, train_valid_labels, weight):\n",
    "        # set random seed\n",
    "        torch.manual_seed(0)\n",
    "          \n",
    "        trainset = pd.concat([train_valid_data,train_valid_labels],axis=1)\n",
    "        trainset = shuffle(trainset, random_state = 0)\n",
    "\n",
    "        train_valid_data = trainset.iloc[:,:trainset.shape[1]-1]\n",
    "        train_valid_labels = trainset.iloc[:,trainset.shape[1]-1]\n",
    "\n",
    "        # create loss function\n",
    "        loss = nn.CrossEntropyLoss(weight = weight)\n",
    "        # mini-batching\n",
    "        batch_size = self.batch_size\n",
    "\n",
    "        no_batch_minus_1 = train_valid_data.shape[0] / batch_size \n",
    "\n",
    "        skf_2 = RepeatedStratifiedKFold(n_splits=no_batch_minus_1,n_repeats = self.epoch_count,random_state=0)\n",
    "\n",
    "        # create adam optimizer for Phase 2\n",
    "        optimizer_2 = optim.Adam(self.parameters(), lr=self.learning_rate,betas = (self.beta,0.999), \n",
    "                                 weight_decay = self.weight_decay)\n",
    "\n",
    "        for train,test in skf_2.split(train_valid_data,train_valid_labels):\n",
    "            data = train_valid_data.iloc[test,:]\n",
    "            data = torch.Tensor(data.values.astype(np.float32))\n",
    "            # forward pass          \n",
    "            output = self.forward(data)\n",
    "            output.data = output.data.view(data.shape[0],2)\n",
    "\n",
    "            labels = train_valid_labels[test]\n",
    "            labels = torch.Tensor(labels.astype(np.float32))\n",
    "            labels = torch.autograd.Variable(labels).long()\n",
    "\n",
    "            # zero the gradient buffers\n",
    "            optimizer_2.zero_grad()\n",
    "            # compute loss and gradients\n",
    "            loss_output = loss(output,labels)\n",
    "            loss_output.backward()\n",
    "            # Does the update\n",
    "            optimizer_2.step()\n",
    "        \n",
    "    #prediction probabilities array\n",
    "    def predict_proba(self, X_test):\n",
    "        self = self.eval()\n",
    "        #forward pass\n",
    "        test = torch.Tensor(X_test.values.astype(np.float32))\n",
    "        output = self.forward(test)\n",
    "        sf = nn.Softmax()\n",
    "        probs = sf(output.data)\n",
    "        return probs[:,1]\n",
    "\n"
   ]
  },
  {
   "cell_type": "markdown",
   "metadata": {},
   "source": [
    "### Models Tested (and their hyperparameters)"
   ]
  },
  {
   "cell_type": "code",
   "execution_count": 21,
   "metadata": {
    "collapsed": true
   },
   "outputs": [],
   "source": [
    "if (classifier_method == \"XGB\"):\n",
    "    ligand_pos = ligands_positives_df[ligand].shape[0]\n",
    "    ligand_neg = ligands_negatives_df[ligand].shape[0]\n",
    "    scale_weight = ligand_neg/float(ligand_pos)\n",
    "    model = XGBClassifier(n_estimators=hyperparameters[\"n_estimators\"], n_jobs=-1, random_state=0, max_depth=hyperparameters[\"max_depth\"], min_child_weight=hyperparameters[\"min_child_weight\"], colsample_bytree=hyperparameters[\"colsample_bytree\"], \n",
    "                          scale_pos_weight=scale_weight)\n",
    "elif (classifier_method == \"RF\"):\n",
    "    model = RandomForestClassifier(n_estimators=hyperparameters[\"n_estimators\"], n_jobs=-1, random_state=0)  \n",
    "elif(classifier_method == \"Logistic\"):\n",
    "    model = LogisticRegression(C=hyperparameters[\"C\"], random_state=0, n_jobs=-1)\n",
    "elif (classifier_method == \"KNN\"):\n",
    "    model = KNeighborsClassifier(n_neighbors=hyperparameters[\"n_neighbors\"], n_jobs=-1)\n",
    "elif (classifier_method == \"ADA\"):\n",
    "    model = AdaBoostClassifier(n_estimators=hyperparameters[\"n_estimators\"], random_state=0)\n",
    "elif (classifier_method == \"SVM\"):\n",
    "    model = SVC(C=hyperparameters[\"C\"], gamma = hyperparameters[\"gamma\"], kernel=\"rbf\", probability=True, random_state=0)\n",
    "elif (classifier_method ==\"NN\"):\n",
    "    torch.manual_seed(0)\n",
    "    model = Net(hyperparameters)\n",
    "    # sets model in training mode because batch normalization behavior in training and testing modes are different\n",
    "    model = model.train()"
   ]
  },
  {
   "cell_type": "code",
   "execution_count": 22,
   "metadata": {
    "collapsed": true
   },
   "outputs": [],
   "source": [
    "def compute_per_domain_auc(y_test, pred_probs, domain_pred_dict, pred_idx, classifier):\n",
    "    \"\"\"\n",
    "    Compute the average per_domain auc and auprc for the test set\n",
    "    \"\"\"\n",
    "    \n",
    "    y_test_copy = y_test.copy(deep=True)\n",
    "    y_test_copy[\"pred_probs\"] = pred_probs\n",
    "    \n",
    "    domain_auc_list = []\n",
    "    domain_auprc_list = []\n",
    "    domain_auprc_ratio_list = []\n",
    "    domain_name_list = []\n",
    "    \n",
    "    idx = y_test.index\n",
    "    y_test_copy[\"domain_name\"] = [x[:x.rfind(\"_\")] for x in idx]\n",
    "    domains_list = y_test_copy[\"domain_name\"].unique().tolist()\n",
    "        \n",
    "    for domain_name in domains_list:\n",
    "        \n",
    "        #Get only the domain positions\n",
    "        domain_df = y_test_copy[y_test_copy[\"domain_name\"] == domain_name]\n",
    "\n",
    "        #Find the binding and non-binding positions of this domain \n",
    "        bind_list = domain_df[domain_df[\"label\"] == 1].index\n",
    "        bind_idx = [int(x[len(domain_name)+1:]) for x in bind_list]\n",
    "        bind_num = len(bind_idx)\n",
    "        non_bind_list = domain_df[domain_df[\"label\"] == 0].index\n",
    "        non_bind_idx = [int(x[len(domain_name)+1:]) for x in non_bind_list]\n",
    "        non_bind_num = len(non_bind_idx)\n",
    "        if (bind_num == 0 or non_bind_num == 0):\n",
    "            #No positions of one of the classes \"binding/non-binding\" - skipping\"\n",
    "            continue\n",
    "        \n",
    "        domain_pred_dict[\"obs\"].extend(domain_df[\"label\"])\n",
    "        domain_pred_dict[\"prob\"].extend(domain_df[\"pred_probs\"])\n",
    "        fold_list = [pred_idx] * len(domain_df[\"pred_probs\"])\n",
    "        domain_pred_dict[\"fold\"].extend(fold_list)\n",
    "        model_list = [classifier] * len(domain_df[\"pred_probs\"])\n",
    "        domain_pred_dict[\"model\"].extend(model_list)\n",
    "        domain_str_list = [domain_name] * len(domain_df[\"pred_probs\"])\n",
    "        domain_pred_dict[\"domain\"].extend(domain_str_list)\n",
    "    \n",
    "        #Compute domain AUC\n",
    "        domain_auc = roc_auc_score(domain_df[\"label\"], domain_df[\"pred_probs\"])\n",
    "        domain_auc_list.append(domain_auc)\n",
    "        #Compute domain AUPRC\n",
    "        precision, recall, thresholds = precision_recall_curve(domain_df[\"label\"], domain_df[\"pred_probs\"])\n",
    "        domain_auprc = auc(recall, precision)\n",
    "        domain_auprc_list.append(domain_auprc)\n",
    "        #Add positives fraction to list\n",
    "        pos_frac_ratio = bind_num/float(domain_df.shape[0])\n",
    "        #Add ratio of AUPRC and positives fraction to list\n",
    "        domain_auprc_ratio_list.append(domain_auprc/float(pos_frac_ratio))\n",
    "        #Add domain name for AUC/AUPRC/Ratio tables\n",
    "        domain_name_list.append(domain_name)\n",
    "        \n",
    "    #Compute the means for the lists \n",
    "    domain_auc_mean = np.mean(domain_auc_list)\n",
    "    domain_auprc_mean = np.mean(domain_auprc_list)\n",
    "    domain_auprc_ratio_mean = np.mean(domain_auprc_ratio_list)\n",
    "    \n",
    "    return (domain_auc_mean, domain_auprc_mean, domain_auprc_ratio_mean, domain_auc_list, domain_auprc_list, domain_auprc_ratio_list, domain_name_list)"
   ]
  },
  {
   "cell_type": "markdown",
   "metadata": {},
   "source": [
    "### Dealing with model imbalance\n",
    "Weight Vector: https://towardsdatascience.com/dealing-with-imbalanced-classes-in-machine-learning-d43d6fa19d2 (look at section on \"Cost-sensitive Learning\")"
   ]
  },
  {
   "cell_type": "code",
   "execution_count": 23,
   "metadata": {
    "collapsed": true
   },
   "outputs": [],
   "source": [
    "def test_model_iterative_fixed(pred_dict, domain_pred_dict, auc_dict, auprc_dict, domain_auc_mean_dict, domain_auprc_mean_dict, domain_auprc_ratio_mean_dict, domain_auc_dict, domain_auprc_dict, domain_auprc_ratio_dict,\n",
    "                               ligand_bind_features, ligand_negatives_features, ligand_name, features=[]):\n",
    "    \n",
    "    \"\"\"\n",
    "    Test different models in 10-folds cross-validation.\n",
    "    \"\"\"\n",
    "    \n",
    "    #Default: Exclude no features\n",
    "    if len(features) == 0:\n",
    "        features = np.ones([ligand_bind_features.shape[1],]).astype(bool)\n",
    "        \n",
    "    #Arranging the features table by the CV order, for each model\n",
    "    #features_pred_dfs = dict.fromkeys(classifiers.keys())\n",
    "    classifier = classifier_method\n",
    "    features_pred_dfs = {}\n",
    "    \n",
    "    models_req_scaling = [\"SVM\", \"KNN\", \"Logistic\",\"NN\"]\n",
    "    \n",
    "    features_pred_dfs[classifier] = pd.DataFrame()\n",
    "\n",
    "    #Create X and y with included features\n",
    "    X = pd.concat([ligand_bind_features.iloc[:,features], ligand_negatives_features.iloc[:,features]])\n",
    "    y = [1] * ligand_bind_features.shape[0]\n",
    "    y.extend([0] * ligand_negatives_features.shape[0])\n",
    "    y = np.array(y)\n",
    "    y_df = pd.DataFrame(y)\n",
    "    y_df.index = X.index\n",
    "    y_df.columns = [\"label\"]\n",
    "    \n",
    "    #Get the fold indices\n",
    "    cv_idx = calc_CV_idx_iterative(X, splits_dict)\n",
    "    k = (int(fold)-1)\n",
    "    \n",
    "    pred_idx = k+1\n",
    "    print \"fold #: \"+str(pred_idx)\n",
    "    test_index = cv_idx[k][\"test\"]\n",
    "    train_index = cv_idx[k][\"train\"]\n",
    "\n",
    "    X_train, X_test = X.loc[train_index,:], X.loc[test_index,:]\n",
    "    y_train, y_test= y_df.loc[train_index,:], y_df.loc[test_index,:]\n",
    "    \n",
    "    if (classifier in models_req_scaling):\n",
    "        cols = X_train.columns\n",
    "    \n",
    "        #scaling with full training set\n",
    "        scalar = StandardScaler()\n",
    "        scalar.fit(X_train)\n",
    "        X_train = pd.DataFrame(scalar.transform(X_train))\n",
    "\n",
    "        #apply same transformation to test data\n",
    "        X_test = pd.DataFrame(scalar.transform(X_test))\n",
    "\n",
    "        # restore indices\n",
    "        X_train.index = train_index\n",
    "        X_test.index = test_index\n",
    "\n",
    "        # restore feature names\n",
    "        X_test.columns = cols\n",
    "\n",
    "    # no down sampling\n",
    "    X_train_sampled = X_train\n",
    "    y_train_sampled = y_train\n",
    "\n",
    "    \n",
    "    # training with best hyperparameters on entire training set\n",
    "    if classifier == \"NN\":     \n",
    "        #weight vector for NN\n",
    "        no_pos = ligand_bind_features.shape[0]\n",
    "        no_neg = ligand_negatives_features.shape[0]\n",
    "        neg_weight = float(no_pos) / float(no_neg + no_pos)\n",
    "        pos_weight = 1 - neg_weight\n",
    "        weight = torch.Tensor([neg_weight, pos_weight])\n",
    "        model.fit(X_train_sampled, y_train_sampled[\"label\"], weight)\n",
    "        probs_list = model.predict_proba(X_test)\n",
    "    else:\n",
    "        model.fit(X_train_sampled, y_train_sampled[\"label\"])\n",
    "        \n",
    "        probs_list = []\n",
    "        probs = model.predict_proba(X_test)\n",
    "        for l in probs:\n",
    "            probs_list.append(l[1])\n",
    "\n",
    "    pred_dict[\"obs\"].extend(y_test[\"label\"])\n",
    "    pred_dict[\"prob\"].extend(probs_list)\n",
    "    fold_list = [pred_idx] * len(probs_list)\n",
    "    pred_dict[\"fold\"].extend(fold_list)\n",
    "\n",
    "    model_list = [classifier] * len(probs_list)\n",
    "    pred_dict[\"model\"].extend(model_list)\n",
    "\n",
    "    #Update auc auprc dictionaries\n",
    "    auc_dict[classifier].append(roc_auc_score(y_test[\"label\"], probs_list))\n",
    "    precision, recall, _ = precision_recall_curve(y_test[\"label\"], probs_list)\n",
    "    auprc_dict[classifier].append(auc(recall, precision))\n",
    "    \n",
    "    #Compute per domain AUC and AUPRC\n",
    "    (domain_auc_mean, domain_auprc_mean, domain_auprc_ratio_mean, domain_auc_list, domain_auprc_list, domain_auprc_ratio_list, domain_name_list) = compute_per_domain_auc(y_test, probs_list, domain_pred_dict,pred_idx, classifier)\n",
    "    \n",
    "    #Update relevant dictionaries for per-domain folds mean\n",
    "    domain_auc_mean_dict[classifier].append(domain_auc_mean)\n",
    "    domain_auprc_mean_dict[classifier].append(domain_auprc_mean)\n",
    "    domain_auprc_ratio_mean_dict[classifier].append(domain_auprc_ratio_mean)\n",
    "    \n",
    "    #Update relevant dictionaries for per-domain individual metrices scores\n",
    "    domain_auc_dict[classifier].extend(domain_auc_list)\n",
    "    domain_auc_dict[\"domain\"].extend(domain_name_list)\n",
    "    domain_auprc_dict[classifier].extend(domain_auprc_list)\n",
    "    domain_auprc_dict[\"domain\"].extend(domain_name_list)\n",
    "    domain_auprc_ratio_dict[classifier].extend(domain_auprc_ratio_list)\n",
    "    domain_auprc_ratio_dict[\"domain\"].extend(domain_name_list)\n",
    "    \n",
    "    #Update features table\n",
    "    features_pred_dfs[classifier] = features_pred_dfs[classifier].append(X_test)\n",
    "    pred_idx += 1\n",
    "\n",
    "    print \"AUC = \"+str(auc_dict[classifier][-1])\n",
    "    print \"AUPRC = \"+str(auprc_dict[classifier][-1])\n",
    "    print \"domain AUC mean = \"+str(domain_auc_mean_dict[classifier][-1])\n",
    "    print \"domain AUPRC mean = \"+str(domain_auprc_mean_dict[classifier][-1])\n",
    "    print \"domain AUPRC ratio mean = \"+str(domain_auprc_ratio_mean_dict[classifier][-1])\n",
    "\n",
    "    print \"Finished \"+ligand+\" \"+classifier+\" fold: \"+fold\n",
    "    \n",
    "    return features_pred_dfs"
   ]
  },
  {
   "cell_type": "markdown",
   "metadata": {},
   "source": [
    "### Test model functions"
   ]
  },
  {
   "cell_type": "code",
   "execution_count": 24,
   "metadata": {
    "collapsed": true
   },
   "outputs": [],
   "source": [
    "def combine_features_predictions(ligand, ordered_features, pred_df):\n",
    "    \n",
    "    pred_res = pred_df.copy(deep=True)\n",
    "    for classifier in classifiers.keys():\n",
    "        classifier = classifier_method\n",
    "        model_pred = pred_res[pred_res[\"model\"] == classifier]\n",
    "        model_pred.index = ordered_features[classifier].index\n",
    "        \n",
    "        #Creating the combined table\n",
    "        features_pred = pd.concat([ordered_features[classifier], model_pred], axis=1)\n",
    "        \n",
    "        #Saving\n",
    "        features_pred.to_csv(curr_dir[0]+\"/pred_AUC_AUPRC/\"+out_dir+\"/\"+downsample_method+\"/\"+datafile_date+\"_domain_CV/features_pred_tables/\"+ligand+\"_\"+classifier+\"_features_pred.csv\", sep='\\t')\n",
    "        break"
   ]
  },
  {
   "cell_type": "markdown",
   "metadata": {},
   "source": [
    "#### Predict for each ligand seperatelly"
   ]
  },
  {
   "cell_type": "code",
   "execution_count": 25,
   "metadata": {
    "scrolled": true
   },
   "outputs": [
    {
     "name": "stdout",
     "output_type": "stream",
     "text": [
      "fold #: 3\n",
      "AUC = 0.776239286251\n",
      "AUPRC = 0.140960651254\n",
      "domain AUC mean = 0.737868196479\n",
      "domain AUPRC mean = 0.455758963568\n",
      "domain AUPRC ratio mean = 25.4732488733\n",
      "Finished sm NN fold: 3\n",
      "Finished ligand sm\n"
     ]
    },
    {
     "name": "stderr",
     "output_type": "stream",
     "text": [
      "/Users/madhumithashridharan/anaconda/lib/python2.7/site-packages/ipykernel/__main__.py:79: UserWarning: Implicit dimension choice for softmax has been deprecated. Change the call to include dim=X as an argument.\n"
     ]
    }
   ],
   "source": [
    "#%%time\n",
    "\n",
    "#Initialize dictionary\n",
    "pred_dict = defaultdict(list)\n",
    "domain_pred_dict = defaultdict(list)\n",
    "auc_dict = defaultdict(list)\n",
    "auprc_dict = defaultdict(list)\n",
    "domain_auc_mean_dict = defaultdict(list)\n",
    "domain_auprc_mean_dict = defaultdict(list)\n",
    "domain_auprc_ratio_mean_dict = defaultdict(list)\n",
    "domain_auc_dict = defaultdict(list)\n",
    "domain_auprc_dict = defaultdict(list)\n",
    "domain_auprc_ratio_dict = defaultdict(list)\n",
    "downsample_method = \"NoDown\"\n",
    "\n",
    "ordered_features = test_model_iterative_fixed(pred_dict, domain_pred_dict, auc_dict, auprc_dict, domain_auc_mean_dict, domain_auprc_mean_dict, domain_auprc_ratio_mean_dict, domain_auc_dict, domain_auprc_dict, domain_auprc_ratio_dict, ligands_positives_df[ligand], ligands_negatives_df[ligand], ligand)\n",
    "\n",
    "\n",
    "pred_df = pd.DataFrame.from_dict(pred_dict)\n",
    "domain_pred_df = pd.DataFrame.from_dict(domain_pred_dict)\n",
    "#global matrics dfs\n",
    "auc_df = pd.DataFrame.from_dict(auc_dict)\n",
    "auprc_df = pd.DataFrame.from_dict(auprc_dict)\n",
    "#per domain mean dfs\n",
    "domain_auc_mean_df = pd.DataFrame.from_dict(domain_auc_mean_dict)\n",
    "domain_auprc_mean_df = pd.DataFrame.from_dict(domain_auprc_mean_dict)\n",
    "domain_auprc_ratio_mean_df = pd.DataFrame.from_dict(domain_auprc_ratio_mean_dict)\n",
    "#per domain dfs\n",
    "domain_auc_df = pd.DataFrame.from_dict(domain_auc_dict)\n",
    "domain_auprc_df = pd.DataFrame.from_dict(domain_auprc_dict)\n",
    "domain_auprc_ratio_df= pd.DataFrame.from_dict(domain_auprc_ratio_dict)\n",
    "\n",
    "#Save to file\n",
    "pred_df.to_csv(curr_dir[0]+\"/pred_AUC_AUPRC/\"+out_dir+\"/\"+downsample_method+\"/\"+datafile_date+\"_domain_CV/per_fold/\"+ligand+\"_\"+classifier_method+\"_fold\"+fold+\"_\"+str(folds_num)+\"w.csv\", sep='\\t')\n",
    "domain_pred_df.to_csv(curr_dir[0]+\"/pred_AUC_AUPRC/\"+out_dir+\"/\"+downsample_method+\"/\"+datafile_date+\"_domain_CV/per_fold/\"+ligand+\"_\"+classifier_method+\"_fold\"+fold+\"_\"+str(folds_num)+\"w_d.csv\", sep='\\t')\n",
    "\n",
    "auc_df.to_csv(curr_dir[0]+\"/pred_AUC_AUPRC/\"+out_dir+\"/\"+downsample_method+\"/\"+datafile_date+\"_domain_CV/per_fold/\"+ligand+\"_\"+classifier_method+\"_fold\"+fold+\"_\"+str(folds_num)+\"w_auc.csv\", sep='\\t')\n",
    "auprc_df.to_csv(curr_dir[0]+\"/pred_AUC_AUPRC/\"+out_dir+\"/\"+downsample_method+\"/\"+datafile_date+\"_domain_CV/per_fold/\"+ligand+\"_\"+classifier_method+\"_fold\"+fold+\"_\"+str(folds_num)+\"w_auprc.csv\", sep='\\t')\n",
    "\n",
    "domain_auc_mean_df.to_csv(curr_dir[0]+\"/pred_AUC_AUPRC/\"+out_dir+\"/\"+downsample_method+\"/\"+datafile_date+\"_domain_CV/per_fold/\"+ligand+\"_\"+classifier_method+\"_fold\"+fold+\"_\"+str(folds_num)+\"w_dm_auc.csv\", sep='\\t')\n",
    "domain_auprc_mean_df.to_csv(curr_dir[0]+\"/pred_AUC_AUPRC/\"+out_dir+\"/\"+downsample_method+\"/\"+datafile_date+\"_domain_CV/per_fold/\"+ligand+\"_\"+classifier_method+\"_fold\"+fold+\"_\"+str(folds_num)+\"w_dm_auprc.csv\", sep='\\t')\n",
    "domain_auprc_ratio_mean_df.to_csv(curr_dir[0]+\"/pred_AUC_AUPRC/\"+out_dir+\"/\"+downsample_method+\"/\"+datafile_date+\"_domain_CV/per_fold/\"+ligand+\"_\"+classifier_method+\"_fold\"+fold+\"_10w_dm_auprc_ratio.csv\", sep='\\t')\n",
    "\n",
    "domain_auc_df.to_csv(curr_dir[0]+\"/pred_AUC_AUPRC/\"+out_dir+\"/\"+downsample_method+\"/\"+datafile_date+\"_domain_CV/per_fold/\"+ligand+\"_\"+classifier_method+\"_fold\"+fold+\"_\"+str(folds_num)+\"w_d_auc.csv\", sep='\\t')\n",
    "domain_auprc_df.to_csv(curr_dir[0]+\"/pred_AUC_AUPRC/\"+out_dir+\"/\"+downsample_method+\"/\"+datafile_date+\"_domain_CV/per_fold/\"+ligand+\"_\"+classifier_method+\"_fold\"+fold+\"_\"+str(folds_num)+\"w_d_auprc.csv\", sep='\\t')\n",
    "domain_auprc_ratio_df.to_csv(curr_dir[0]+\"/pred_AUC_AUPRC/\"+out_dir+\"/\"+downsample_method+\"/\"+datafile_date+\"_domain_CV/per_fold/\"+ligand+\"_\"+classifier_method+\"_fold\"+fold+\"_\"+str(folds_num)+\"w_d_auprc_ratio.csv\", sep='\\t')\n",
    "\n",
    "#Combine features and pred results to a unified table\n",
    "#combine_features_predictions(ligand, ordered_features, pred_df)\n",
    "\n",
    "print \"Finished ligand \"+ligand"
   ]
  },
  {
   "cell_type": "markdown",
   "metadata": {
    "collapsed": true
   },
   "source": [
    "## "
   ]
  },
  {
   "cell_type": "code",
   "execution_count": null,
   "metadata": {
    "collapsed": true
   },
   "outputs": [],
   "source": []
  }
 ],
 "metadata": {
  "kernelspec": {
   "display_name": "Python 2",
   "language": "python",
   "name": "python2"
  },
  "language_info": {
   "codemirror_mode": {
    "name": "ipython",
    "version": 2
   },
   "file_extension": ".py",
   "mimetype": "text/x-python",
   "name": "python",
   "nbconvert_exporter": "python",
   "pygments_lexer": "ipython2",
   "version": "2.7.11"
  }
 },
 "nbformat": 4,
 "nbformat_minor": 1
}
