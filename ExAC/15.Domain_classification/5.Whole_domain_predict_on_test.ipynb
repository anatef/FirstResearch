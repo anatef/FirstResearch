{
 "cells": [
  {
   "cell_type": "code",
   "execution_count": 1,
   "metadata": {},
   "outputs": [
    {
     "data": {
      "text/html": [
       "<style>.container { width:100% !important; }</style>"
      ],
      "text/plain": [
       "<IPython.core.display.HTML object>"
      ]
     },
     "execution_count": 1,
     "metadata": {},
     "output_type": "execute_result"
    }
   ],
   "source": [
    "#Basic imports\n",
    "import pandas as pd\n",
    "import numpy as np\n",
    "import pickle\n",
    "from collections import defaultdict\n",
    "from os import environ, getcwd\n",
    "import sys\n",
    "\n",
    "#Import utils functions\n",
    "curr_dir = getcwd()\n",
    "sys.path.append(curr_dir+\"/../10.Prediction/utils\")\n",
    "from prediction_general_funcs import test_model_iterative_fixed\n",
    "\n",
    "sys.path.append(curr_dir+\"/utils\")\n",
    "from generate_models_dict_whole_domain import generate_models_dict\n",
    "\n",
    "from IPython.core.display import HTML\n",
    "HTML(\"<style>.container { width:100% !important; }</style>\")"
   ]
  },
  {
   "cell_type": "markdown",
   "metadata": {},
   "source": [
    "### Reading env input"
   ]
  },
  {
   "cell_type": "code",
   "execution_count": 2,
   "metadata": {
    "scrolled": true
   },
   "outputs": [
    {
     "name": "stdout",
     "output_type": "stream",
     "text": [
      "ligand = sm\n",
      "fold = 5\n",
      "classifier_method = XGB\n"
     ]
    }
   ],
   "source": [
    "#Reading the ligand input\n",
    "try:\n",
    "    ligand = environ['ligand']\n",
    "except:\n",
    "    ligand = \"sm\"\n",
    "print \"ligand = \"+ligand\n",
    "    \n",
    "#Reading the fold input\n",
    "try: \n",
    "    fold = environ['fold']\n",
    "except:\n",
    "    fold = \"5\"\n",
    "print \"fold = \"+fold\n",
    "\n",
    "#Reading the classifier input\n",
    "try: \n",
    "    classifier_method = environ['classifier']\n",
    "except:\n",
    "    classifier_method = \"XGB\"\n",
    "print \"classifier_method = \"+classifier_method"
   ]
  },
  {
   "cell_type": "markdown",
   "metadata": {},
   "source": [
    "### Read data"
   ]
  },
  {
   "cell_type": "code",
   "execution_count": 3,
   "metadata": {},
   "outputs": [
    {
     "name": "stdout",
     "output_type": "stream",
     "text": [
      "all samples domains #: 327\n"
     ]
    }
   ],
   "source": [
    "date = \"08.06.18\"\n",
    "folds_num = 5\n",
    "\n",
    "#Read input and sort by domain\n",
    "features_table = pd.read_csv(curr_dir+\"/domain_features_tables/domain_features_\"+fold+\".csv\", sep=\"\\t\", index_col=0)\n",
    "features_table.sort_index(inplace=True)\n",
    "labels = pd.read_csv(curr_dir+\"/domain_labels/train_domain_labels_\"+date+\".csv\", sep=\"\\t\", index_col=0)\n",
    "labels.sort_index(inplace=True)\n",
    "\n",
    "print \"all samples domains #: \"+str(features_table.shape[0])"
   ]
  },
  {
   "cell_type": "code",
   "execution_count": 4,
   "metadata": {},
   "outputs": [],
   "source": [
    "#Arrange positives and negatives data\n",
    "ligand_str = ligand+\"_label\"\n",
    "domains_positives = labels[labels[ligand_str] == 1].index\n",
    "domains_negatvies = labels[labels[ligand_str] == 0].index\n",
    "ligand_features_positives = features_table.loc[domains_positives,:]\n",
    "ligand_features_negatives = features_table.loc[domains_negatvies,:]"
   ]
  },
  {
   "cell_type": "code",
   "execution_count": 5,
   "metadata": {},
   "outputs": [
    {
     "data": {
      "text/plain": [
       "rna_max                        0.013946\n",
       "rna_entropy                    0.793161\n",
       "rna_thresh_25                  1.000000\n",
       "rna_thresh_50                  0.955882\n",
       "rna_thresh_75                  0.647059\n",
       "rna_zthresh_above_0.5          0.007353\n",
       "rna_zthresh_above_1            0.007353\n",
       "rna_zthresh_above_2            0.000000\n",
       "rna_zthresh_above_3            0.000000\n",
       "rna_sig_win_num              102.000000\n",
       "domain_length                136.000000\n",
       "avg_protein_len              481.875803\n",
       "avg_phastCons                  0.842090\n",
       "avg_phyloP                     3.671216\n",
       "avg_maf                        0.000397\n",
       "avg_blosum                    -0.218913\n",
       "avg_hindex                    -0.412116\n",
       "avg_positve_cnt                1.338235\n",
       "avg_solvent_acc               54.454751\n",
       "avg_helix_prob                 0.496762\n",
       "avg_sheet_prob                 0.113306\n",
       "avg_turn_prob                  0.391322\n",
       "max_pfam_C                     0.207215\n",
       "max_pfam_H                     0.291499\n",
       "max_pfam_K                     0.781000\n",
       "max_pfam_R                     0.438445\n",
       "pfam_prob_max                  0.909209\n",
       "cnt_pfam_conserved             6.000000\n",
       "dna_max                        0.000520\n",
       "dna_entropy                    0.890826\n",
       "                                ...    \n",
       "ion_max                        0.021840\n",
       "ion_entropy                    0.877721\n",
       "ion_thresh_25                  0.803738\n",
       "ion_thresh_50                  0.485981\n",
       "ion_thresh_75                  0.252336\n",
       "ion_zthresh_above_0.5          0.000000\n",
       "ion_zthresh_above_1            0.000000\n",
       "ion_zthresh_above_2            0.000000\n",
       "ion_zthresh_above_3            0.000000\n",
       "ion_sig_win_num               32.000000\n",
       "peptide_max                    0.000758\n",
       "peptide_entropy                0.904855\n",
       "peptide_thresh_25              0.647059\n",
       "peptide_thresh_50              0.242647\n",
       "peptide_thresh_75              0.066176\n",
       "peptide_zthresh_above_0.5      0.000000\n",
       "peptide_zthresh_above_1        0.000000\n",
       "peptide_zthresh_above_2        0.000000\n",
       "peptide_zthresh_above_3        0.000000\n",
       "peptide_sig_win_num            5.000000\n",
       "sm_max                         0.478803\n",
       "sm_entropy                     0.903887\n",
       "sm_thresh_25                   0.948980\n",
       "sm_thresh_50                   0.663265\n",
       "sm_thresh_75                   0.316327\n",
       "sm_zthresh_above_0.5           0.153061\n",
       "sm_zthresh_above_1             0.112245\n",
       "sm_zthresh_above_2             0.061224\n",
       "sm_zthresh_above_3             0.020408\n",
       "sm_sig_win_num                30.000000\n",
       "Name: AAA_17, dtype: float64"
      ]
     },
     "execution_count": 5,
     "metadata": {},
     "output_type": "execute_result"
    }
   ],
   "source": [
    "ligand_features_positives.iloc[2]"
   ]
  },
  {
   "cell_type": "code",
   "execution_count": 6,
   "metadata": {},
   "outputs": [],
   "source": [
    "no_features = features_table.shape[1]\n",
    "models_dict = generate_models_dict(ligand, classifier_method, ligand_features_positives, ligand_features_negatives, folds_num, no_features)"
   ]
  },
  {
   "cell_type": "markdown",
   "metadata": {},
   "source": [
    "### Predict for each ligand seperatelly"
   ]
  },
  {
   "cell_type": "code",
   "execution_count": 7,
   "metadata": {
    "scrolled": true
   },
   "outputs": [
    {
     "name": "stdout",
     "output_type": "stream",
     "text": [
      "fold #: 5\n",
      "AUC = 0.7373949579831932\n",
      "AUPRC = 0.7410338037731106\n",
      "AU prec prob = 0.24304999320208576\n",
      "Finished sm XGB fold: 5\n",
      "Finished ligand sm\n"
     ]
    }
   ],
   "source": [
    "#%%time\n",
    "\n",
    "save_to_file = True\n",
    "\n",
    "#Initialize dictionary\n",
    "pred_dict = defaultdict(list)\n",
    "domain_pred_dict = defaultdict(list)\n",
    "auc_dict = defaultdict(list)\n",
    "auprc_dict = defaultdict(list)\n",
    "domain_auc_mean_dict = defaultdict(list)\n",
    "domain_auprc_mean_dict = defaultdict(list)\n",
    "domain_auprc_ratio_mean_dict = defaultdict(list)\n",
    "domain_auc_dict = defaultdict(list)\n",
    "domain_auprc_dict = defaultdict(list)\n",
    "domain_auprc_ratio_dict = defaultdict(list)\n",
    "prec_prob_dict = defaultdict(list)\n",
    "\n",
    "model = models_dict[classifier_method][ligand][int(fold)]\n",
    "(ordered_features, model) = test_model_iterative_fixed(pred_dict, None, auc_dict, auprc_dict, None, None, None, None, None, None, prec_prob_dict, ligand_features_positives, \n",
    "                                                        ligand_features_negatives, ligand, model, classifier_method, fold, features=[], whole_domain=True)\n",
    "\n",
    "\n",
    "pred_df = pd.DataFrame.from_dict(pred_dict)\n",
    "domain_pred_df = pd.DataFrame.from_dict(domain_pred_dict)\n",
    "#global matrics dfs\n",
    "auc_df = pd.DataFrame.from_dict(auc_dict)\n",
    "auprc_df = pd.DataFrame.from_dict(auprc_dict)\n",
    "#per domain mean dfs\n",
    "domain_auc_mean_df = pd.DataFrame.from_dict(domain_auc_mean_dict)\n",
    "domain_auprc_mean_df = pd.DataFrame.from_dict(domain_auprc_mean_dict)\n",
    "domain_auprc_ratio_mean_df = pd.DataFrame.from_dict(domain_auprc_ratio_mean_dict)\n",
    "#per domain dfs\n",
    "domain_auc_df = pd.DataFrame.from_dict(domain_auc_dict)\n",
    "domain_auprc_df = pd.DataFrame.from_dict(domain_auprc_dict)\n",
    "domain_auprc_ratio_df= pd.DataFrame.from_dict(domain_auprc_ratio_dict)\n",
    "\n",
    "#Save to file\n",
    "if (save_to_file):\n",
    "    pred_df.to_csv(curr_dir+\"/pred_results/per_fold/\"+ligand+\"_\"+classifier_method+\"_fold\"+fold+\"_\"+str(folds_num)+\"w.csv\", sep='\\t')\n",
    "    auc_df.to_csv(curr_dir+\"/pred_results/per_fold/\"+ligand+\"_\"+classifier_method+\"_fold\"+fold+\"_\"+str(folds_num)+\"w_auc.csv\", sep='\\t')\n",
    "    auprc_df.to_csv(curr_dir+\"/pred_results/per_fold/\"+ligand+\"_\"+classifier_method+\"_fold\"+fold+\"_\"+str(folds_num)+\"w_auprc.csv\", sep='\\t')\n",
    "        \n",
    "print \"Finished ligand \"+ligand"
   ]
  },
  {
   "cell_type": "code",
   "execution_count": null,
   "metadata": {},
   "outputs": [],
   "source": []
  }
 ],
 "metadata": {
  "kernelspec": {
   "display_name": "Python 2",
   "language": "python",
   "name": "python2"
  },
  "language_info": {
   "codemirror_mode": {
    "name": "ipython",
    "version": 2
   },
   "file_extension": ".py",
   "mimetype": "text/x-python",
   "name": "python",
   "nbconvert_exporter": "python",
   "pygments_lexer": "ipython2",
   "version": "2.7.12"
  }
 },
 "nbformat": 4,
 "nbformat_minor": 1
}
