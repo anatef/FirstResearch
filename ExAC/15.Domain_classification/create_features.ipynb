{
 "cells": [
  {
   "cell_type": "code",
   "execution_count": 1,
   "metadata": {
    "collapsed": true
   },
   "outputs": [],
   "source": [
    "import pandas as pd\n",
    "import numpy as np\n",
    "import pickle\n",
    "from collections import defaultdict\n",
    "import os\n",
    "import sys"
   ]
  },
  {
   "cell_type": "code",
   "execution_count": 2,
   "metadata": {
    "collapsed": true
   },
   "outputs": [],
   "source": [
    "def create_features(input_path, ligand):\n",
    "    thresholds = [0.001, 0.01, 0.1, 0.25, 0.5, 0.75]\n",
    "    zscores_thresholds = [0.5, 1, 2, 3]\n",
    "    \n",
    "    #Raw scores\n",
    "    predicted_scores = pd.read_csv(input_path+\"/\"+ligand+\"_5w.csv\",index_col=0,sep='\\t')\n",
    "    \n",
    "    #Initialize dataframe\n",
    "    cols = [ligand+\"_max\", ligand+\"_count\"]\n",
    "    for t in thresholds:\n",
    "        cols.append(ligand+\"_thresh_\"+str(t))\n",
    "    for z in zscores_thresholds:\n",
    "        cols.append(ligand+\"_zthresh_above_\"+str(z))\n",
    "    domain_labels = pd.DataFrame(columns=cols)\n",
    "    \n",
    "    #Values for z-scoring\n",
    "    ligand_mean = np.mean(predicted_scores[\"prob\"])\n",
    "    ligand_std = np.std(predicted_scores[\"prob\"])\n",
    "\n",
    "    for idx,row in predicted_scores.iterrows():\n",
    "        #Extract domain name and check if already added\n",
    "        domain_name = \"_\".join(row[\"idx\"].split(\"_\")[:-1])\n",
    "        if not domain_name in domain_labels.index:\n",
    "            domain_labels.loc[domain_name] = np.zeros(len(domain_labels.columns))\n",
    "            \n",
    "        domain_labels.loc[domain_name,ligand+\"_count\"] += 1\n",
    "\n",
    "        #Update counts\n",
    "        for t in thresholds:\n",
    "            if row[\"prob\"] > t:\n",
    "                domain_labels.loc[domain_name,ligand+\"_thresh_\"+str(t)] += 1\n",
    "\n",
    "        #Max labels\n",
    "        domain_labels.loc[domain_name,ligand+\"_max\"] = max(domain_labels.loc[domain_name,ligand+\"_max\"], row[\"prob\"])\n",
    "        \n",
    "        #z-scores\n",
    "        for z in zscores_thresholds:\n",
    "            if (row[\"prob\"]-ligand_mean) / ligand_std > z:\n",
    "                domain_labels.loc[domain_name,ligand+\"_zthresh_above_\"+str(z)] += 1\n",
    "                \n",
    "    #Convert to fractions\n",
    "    for idx,row in domain_labels.iterrows():\n",
    "        for t in thresholds:\n",
    "            domain_labels.loc[idx,ligand+\"_thresh_\"+str(t)] = row[ligand+\"_thresh_\"+str(t)] / row[ligand+\"_count\"]\n",
    "        for z in zscores_thresholds:\n",
    "            domain_labels.loc[idx,ligand+\"_zthresh_above_\"+str(z)] = row[ligand+\"_zthresh_above_\"+str(z)] / row[ligand+\"_count\"]\n",
    "            \n",
    "    del domain_labels[ligand+\"_count\"]\n",
    "    return domain_labels"
   ]
  },
  {
   "cell_type": "code",
   "execution_count": 3,
   "metadata": {},
   "outputs": [],
   "source": [
    "#Create features for each of the relevant ligands\n",
    "ligands = [\"dna\",\"rna\",\"ion\",\"peptide\",\"sm\"]\n",
    "input_path = os.getcwd()+\"/../10.Prediction/stacking/2nd_level_pred/08.06.18_dna0.5_rna0.5_ion0.75/global_auprc/model_features\"\n",
    "domain_labels = pd.DataFrame()\n",
    "\n",
    "for ligand in ligands:\n",
    "    domain_labels = pd.concat([domain_labels, create_features(input_path, ligand)], axis=1)\n",
    "    \n",
    "domain_labels.to_csv(\"domain_features.csv\", sep='\\t')"
   ]
  }
 ],
 "metadata": {
  "kernelspec": {
   "display_name": "Python 2",
   "language": "python",
   "name": "python2"
  },
  "language_info": {
   "codemirror_mode": {
    "name": "ipython",
    "version": 2
   },
   "file_extension": ".py",
   "mimetype": "text/x-python",
   "name": "python",
   "nbconvert_exporter": "python",
   "pygments_lexer": "ipython2",
   "version": "2.7.13"
  }
 },
 "nbformat": 4,
 "nbformat_minor": 2
}
