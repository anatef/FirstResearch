{
 "cells": [
  {
   "cell_type": "code",
   "execution_count": 1,
   "metadata": {},
   "outputs": [],
   "source": [
    "import pandas as pd\n",
    "import numpy as np\n",
    "import pickle\n",
    "from collections import defaultdict\n",
    "import os\n",
    "import sys\n",
    "\n",
    "#Helper functions to classify positives/negatives by position\n",
    "curr_dir = os.getcwd()\n",
    "sys.path.append(curr_dir+\"/../10.Prediction/utils\")\n",
    "from prop_threshold_funcs import create_negatives_datasets_combined, create_positives_datasets_combined"
   ]
  },
  {
   "cell_type": "code",
   "execution_count": 23,
   "metadata": {},
   "outputs": [],
   "source": [
    "#Reading the training dataset\n",
    "train_datafile_date = \"08.06.18\"\n",
    "input_path = curr_dir+\"/../10.Prediction/domains_similarity/filtered_features_table/\"\n",
    "filename = \"windowed_positions_features_mediode_filter_\"+train_datafile_date+\".csv\"\n",
    "features_all = pd.read_csv(input_path+filename, sep='\\t', index_col=0)\n",
    "position_prop = features_all.copy(deep=True)"
   ]
  },
  {
   "cell_type": "code",
   "execution_count": 24,
   "metadata": {},
   "outputs": [],
   "source": [
    "#Remove feature columns and save labels\n",
    "for col in position_prop.columns:\n",
    "    if not \"prop_th\" in col and not \"propensity\" in col and not \"domain_length\" in col and not \"domain_name\" in col:\n",
    "        del position_prop[col]"
   ]
  },
  {
   "cell_type": "code",
   "execution_count": 25,
   "metadata": {},
   "outputs": [],
   "source": [
    "domains_list = features_all[\"domain_name\"].unique().tolist()"
   ]
  },
  {
   "cell_type": "markdown",
   "metadata": {},
   "source": [
    "### Option 1: \n",
    "binding: any non-zero position, neutral: all positions are 0"
   ]
  },
  {
   "cell_type": "code",
   "execution_count": 54,
   "metadata": {},
   "outputs": [],
   "source": [
    "domain_labels_dict1 = {}\n",
    "\n",
    "for domain in domains_list:\n",
    "    domain_table = position_prop[position_prop[\"domain_name\"] == domain]\n",
    "    \n",
    "    labels = []\n",
    "    \n",
    "    #DNA label\n",
    "    if (max(domain_table[\"dna_propensity\"]) > 0 or max(domain_table[\"dnabase_propensity\"]) > 0 or max(domain_table[\"dnabackbone_propensity\"]) > 0):\n",
    "        labels.append(1)\n",
    "    else:\n",
    "        labels.append(0)\n",
    "    \n",
    "    #RNA label\n",
    "    if (max(domain_table[\"rna_propensity\"]) > 0 or max(domain_table[\"rnabase_propensity\"]) > 0 or max(domain_table[\"rnabackbone_propensity\"]) > 0):\n",
    "        labels.append(1)\n",
    "    else:\n",
    "        labels.append(0)\n",
    "        \n",
    "    #ion label\n",
    "    if (max(domain_table[\"ion_propensity\"]) > 0):\n",
    "        labels.append(1)\n",
    "    else:\n",
    "        labels.append(0)\n",
    "        \n",
    "    #peptide label\n",
    "    if (max(domain_table[\"peptide_propensity\"]) > 0):\n",
    "        labels.append(1)\n",
    "    else:\n",
    "        labels.append(0)  \n",
    "        \n",
    "    #sm label\n",
    "    if (max(domain_table[\"sm_propensity\"]) > 0):\n",
    "        labels.append(1)\n",
    "    else:\n",
    "        labels.append(0)\n",
    "    \n",
    "    domain_labels_dict1[domain] = labels"
   ]
  },
  {
   "cell_type": "code",
   "execution_count": 55,
   "metadata": {},
   "outputs": [],
   "source": [
    "#Convert to labels df\n",
    "domain_labels_df1 = pd.DataFrame.from_dict(domain_labels_dict1, orient=\"index\")\n",
    "domain_labels_df1 = domain_labels_df1.sort_index()\n",
    "domain_labels_df1.columns = [\"dna\", \"rna\", \"ion\", \"peptide\", \"sm\"]\n",
    "\n",
    "#Save df\n",
    "domain_labels_df1.to_csv(curr_dir+\"/domain_labels/train_domain_labels_positive_prop.csv\", sep='\\t')"
   ]
  },
  {
   "cell_type": "markdown",
   "metadata": {},
   "source": [
    "### Option 2: \n",
    "binding: a position above binding th, neutral: all positions are 0"
   ]
  },
  {
   "cell_type": "code",
   "execution_count": 63,
   "metadata": {},
   "outputs": [],
   "source": [
    "domain_labels_dict2 = {}\n",
    "\n",
    "for domain in domains_list:\n",
    "    domain_table = position_prop[position_prop[\"domain_name\"] == domain]\n",
    "    \n",
    "    labels = []\n",
    "    \n",
    "    #DNA label\n",
    "    if (max(domain_table[\"dna_propensity\"]) > domain_table[\"dna_prop_th_0.5\"][0] \n",
    "        or max(domain_table[\"dnabase_propensity\"]) > domain_table[\"dnabase_prop_th_0.5\"][0]\n",
    "        or max(domain_table[\"dnabackbone_propensity\"]) > domain_table[\"dnabackbone_prop_th_0.5\"][0]):\n",
    "        labels.append(1)\n",
    "    elif (max(domain_table[\"dna_propensity\"]) < 0 or max(domain_table[\"dnabase_propensity\"]) < 0 or max(domain_table[\"dnabackbone_propensity\"]) < 0):\n",
    "        labels.append(0)\n",
    "    else:\n",
    "        labels.append(-1)\n",
    "    \n",
    "    #RNA label\n",
    "    if (max(domain_table[\"rna_propensity\"]) > domain_table[\"rna_prop_th_0.5\"][0] \n",
    "        or max(domain_table[\"rnabase_propensity\"]) > domain_table[\"rnabase_prop_th_0.5\"][0]\n",
    "        or max(domain_table[\"rnabackbone_propensity\"]) > domain_table[\"rnabackbone_prop_th_0.5\"][0]):\n",
    "        labels.append(1)\n",
    "    elif (max(domain_table[\"rna_propensity\"]) < 0 or max(domain_table[\"rnabase_propensity\"]) < 0 or max(domain_table[\"rnabackbone_propensity\"]) < 0):\n",
    "        labels.append(0)\n",
    "    else:\n",
    "        labels.append(-1)\n",
    "        \n",
    "    #ion label\n",
    "    if (max(domain_table[\"ion_propensity\"]) > domain_table[\"ion_prop_th_0.75\"][0]):\n",
    "        labels.append(1)\n",
    "    elif (max(domain_table[\"ion_propensity\"]) < 0):\n",
    "        labels.append(0)\n",
    "    else:\n",
    "        labels.append(-1)\n",
    "        \n",
    "    #peptide label\n",
    "    if (max(domain_table[\"peptide_propensity\"]) > domain_table[\"peptide_prop_th_0.5\"][0]):\n",
    "        labels.append(1)\n",
    "    elif (max(domain_table[\"peptide_propensity\"]) < 0):\n",
    "        labels.append(0)\n",
    "    else:\n",
    "        labels.append(-1)\n",
    "        \n",
    "    #sm label\n",
    "    if (max(domain_table[\"sm_propensity\"]) > domain_table[\"sm_prop_th_0.5\"][0]):\n",
    "        labels.append(1)\n",
    "    elif (max(domain_table[\"sm_propensity\"]) < 0):\n",
    "        labels.append(0)\n",
    "    else:\n",
    "        labels.append(-1)\n",
    "    \n",
    "    domain_labels_dict2[domain] = labels"
   ]
  },
  {
   "cell_type": "code",
   "execution_count": 72,
   "metadata": {},
   "outputs": [],
   "source": [
    "#Convert to labels df\n",
    "domain_labels_df2 = pd.DataFrame.from_dict(domain_labels_dict2, orient=\"index\")\n",
    "domain_labels_df2 = domain_labels_df2.sort_index()\n",
    "domain_labels_df2.columns = [\"dna\", \"rna\", \"ion\", \"peptide\", \"sm\"]\n",
    "\n",
    "#Save df\n",
    "domain_labels_df2.to_csv(curr_dir+\"/domain_labels/train_domain_labels_th_prop.csv\", sep='\\t')"
   ]
  }
 ],
 "metadata": {
  "kernelspec": {
   "display_name": "Python 2",
   "language": "python",
   "name": "python2"
  },
  "language_info": {
   "codemirror_mode": {
    "name": "ipython",
    "version": 2
   },
   "file_extension": ".py",
   "mimetype": "text/x-python",
   "name": "python",
   "nbconvert_exporter": "python",
   "pygments_lexer": "ipython2",
   "version": "2.7.12"
  }
 },
 "nbformat": 4,
 "nbformat_minor": 2
}
