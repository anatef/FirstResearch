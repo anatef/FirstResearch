{
 "cells": [
  {
   "cell_type": "code",
   "execution_count": 1,
   "metadata": {},
   "outputs": [],
   "source": [
    "import pandas as pd\n",
    "import numpy as np\n",
    "import pickle\n",
    "from collections import defaultdict\n",
    "import subprocess\n",
    "import sys"
   ]
  },
  {
   "cell_type": "code",
   "execution_count": 2,
   "metadata": {},
   "outputs": [],
   "source": [
    "curr_dir = !pwd\n",
    "ligands = [\"sm\"]\n",
    "model = \"XGB\"\n",
    "datafile_date = \"08.06.18\"\n",
    "folds = 5\n",
    "dirname = \"comb_dna0.5_rna0.5_ion0.75\"\n",
    "features_type = \"all_features_probs\"\n",
    "\n",
    "oof_path = curr_dir[0]+\"/stacked_oof_predictions/\"\n",
    "heldout_fold_path = curr_dir[0]+\"/../10.Prediction/stacking/2nd_level_pred/08.06.18_dna0.5_rna0.5_ion0.75/global_auprc/\"+features_type+\"/per_fold/\"\n",
    "out_path = curr_dir[0]+\"/test_oof_combined/\"+features_type+\"/\""
   ]
  },
  {
   "cell_type": "code",
   "execution_count": 3,
   "metadata": {},
   "outputs": [
    {
     "name": "stdout",
     "output_type": "stream",
     "text": [
      "Finished reading data sm\n",
      "Finished writing sm heldout fold: 1\n",
      "Finished writing sm heldout fold: 2\n",
      "Finished writing sm heldout fold: 3\n",
      "Finished writing sm heldout fold: 4\n",
      "Finished writing sm heldout fold: 5\n"
     ]
    }
   ],
   "source": [
    "#%%time\n",
    "pred_prob_dict = defaultdict(dict)\n",
    "\n",
    "for ligand in ligands:\n",
    "    #Read the data tables\n",
    "    \n",
    "    pred_prob_dict[ligand][model] = dict()\n",
    "\n",
    "    for heldout_fold in range(1,folds+1):\n",
    "        pred_prob_dict[ligand][model][heldout_fold] = dict()\n",
    "\n",
    "        #Reading the ligand-model oof training predictions (of all other 4 folds)\n",
    "        pred_prob_dict[ligand][model][heldout_fold][\"oof-train\"] = pd.DataFrame()\n",
    "        for test_fold in range(1, folds+1):\n",
    "\n",
    "            if (test_fold == heldout_fold):\n",
    "                continue\n",
    "            curr_oof_table = pd.read_csv(oof_path+str(heldout_fold)+\"/\"+ligand+\"_\"+model+\"_test_fold\"+str(test_fold)+\"_5w.csv\", sep='\\t', index_col=0)[[\"fold\", \"idx\", \"prob\"]]\n",
    "            #curr_oof_table.columns = [\"idx\", \"prob\"]\n",
    "\n",
    "            if (pred_prob_dict[ligand][model][heldout_fold][\"oof-train\"].shape[0] == 0): \n",
    "                pred_prob_dict[ligand][model][heldout_fold][\"oof-train\"] = curr_oof_table\n",
    "            else:\n",
    "                pred_prob_dict[ligand][model][heldout_fold][\"oof-train\"] = pd.concat([pred_prob_dict[ligand][model][heldout_fold][\"oof-train\"], curr_oof_table])\n",
    "\n",
    "        #Reading the ligand-model heldout fold predictions\n",
    "        pred_prob_dict[ligand][model][heldout_fold][\"heldout\"] = pd.read_csv(heldout_fold_path+ligand+\"_\"+model+\"_fold\"+str(heldout_fold)+\"_5w.csv\", sep='\\t', index_col=0)[[\"fold\", \"idx\", \"prob\"]]\n",
    "        #pred_prob_dict[ligand][model][heldout_fold][\"heldout\"].columns = [\"idx\", \"prob\"]\n",
    "            \n",
    "               \n",
    "    print \"Finished reading data \"+ligand\n",
    "    \n",
    "    #Combine them into ligand-folds tables\n",
    "    for heldout_fold in range(1,folds+1):\n",
    "        ligand_fold_combined_table = pd.DataFrame()\n",
    "        \n",
    "        model_combined_table = pd.concat([pred_prob_dict[ligand][model][heldout_fold][\"heldout\"], pred_prob_dict[ligand][model][heldout_fold][\"oof-train\"]])\n",
    "\n",
    "        if (ligand_fold_combined_table.shape[0] == 0):\n",
    "            ligand_fold_combined_table = model_combined_table\n",
    "        else:\n",
    "            ligand_fold_combined_table = pd.merge(ligand_fold_combined_table, model_combined_table, on=\"idx\")\n",
    "\n",
    "        #Saving to .csv\n",
    "        ligand_fold_combined_table = ligand_fold_combined_table.sort_values(by=\"idx\")\n",
    "        ligand_fold_combined_table = ligand_fold_combined_table.reset_index(drop=True)\n",
    "        ligand_fold_combined_table.to_csv(out_path+str(heldout_fold)+\"/\"+ligand+\"_stacking_probs.csv\", sep='\\t')\n",
    "        \n",
    "        print \"Finished writing \"+ligand+\" heldout fold: \"+str(heldout_fold)"
   ]
  },
  {
   "cell_type": "code",
   "execution_count": null,
   "metadata": {},
   "outputs": [],
   "source": []
  }
 ],
 "metadata": {
  "kernelspec": {
   "display_name": "Python 2",
   "language": "python",
   "name": "python2"
  },
  "language_info": {
   "codemirror_mode": {
    "name": "ipython",
    "version": 2
   },
   "file_extension": ".py",
   "mimetype": "text/x-python",
   "name": "python",
   "nbconvert_exporter": "python",
   "pygments_lexer": "ipython2",
   "version": "2.7.12"
  }
 },
 "nbformat": 4,
 "nbformat_minor": 2
}
