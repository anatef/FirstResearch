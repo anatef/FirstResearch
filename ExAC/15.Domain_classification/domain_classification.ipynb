{
 "cells": [
  {
   "cell_type": "code",
   "execution_count": 1,
   "metadata": {
    "collapsed": true
   },
   "outputs": [],
   "source": [
    "#Basic imports\n",
    "import pandas as pd\n",
    "import numpy as np\n",
    "import pickle\n",
    "from collections import defaultdict\n",
    "import os\n",
    "import sys\n",
    "\n",
    "#Model\n",
    "from xgboost import XGBClassifier\n",
    "from sklearn.model_selection import StratifiedKFold\n",
    "from sklearn.metrics import auc, roc_auc_score, precision_recall_curve, precision_score, fbeta_score\n",
    "\n",
    "curr_dir = os.getcwd()"
   ]
  },
  {
   "cell_type": "code",
   "execution_count": 11,
   "metadata": {
    "scrolled": true
   },
   "outputs": [
    {
     "data": {
      "text/plain": [
       "['RNase_T',\n",
       " 'Neur_chan_LBD',\n",
       " 'SH2',\n",
       " 'zf-CXXC',\n",
       " 'Carb_anhydrase',\n",
       " 'F5_F8_type_C',\n",
       " 'FGF',\n",
       " 'Glyco_transf_7C',\n",
       " 'Hydrolase',\n",
       " 'MreB_Mbl',\n",
       " 'Rhodanese',\n",
       " 'Asp',\n",
       " 'HRM',\n",
       " 'MHC_II_beta',\n",
       " 'TPR_1',\n",
       " 'PUF',\n",
       " 'S4',\n",
       " 'Bcl-2',\n",
       " 'CUB',\n",
       " 'E1-E2_ATPase',\n",
       " 'FCH',\n",
       " 'FG-GAP',\n",
       " 'Hemopexin',\n",
       " 'Integrin_alpha2',\n",
       " 'Kunitz_BPTI',\n",
       " 'Ldl_recept_a',\n",
       " 'Notch',\n",
       " 'THAP',\n",
       " 'VWA_2',\n",
       " 'ZZ',\n",
       " 'GTP_EFTU_D2',\n",
       " 'HLH',\n",
       " 'MH1',\n",
       " '7TM_GPCR_Srsx',\n",
       " 'BTB',\n",
       " 'FERM_M',\n",
       " 'MHC_I',\n",
       " 'Abhydrolase_6',\n",
       " 'Acyl-CoA_dh_M',\n",
       " 'Biotin_lipoyl',\n",
       " 'C2',\n",
       " 'Cyt-b5',\n",
       " 'GST_N',\n",
       " 'Glycos_transf_2',\n",
       " 'Ion_trans',\n",
       " 'Kringle',\n",
       " 'Mito_carr',\n",
       " 'PI-PLC-X',\n",
       " 'TSP_1',\n",
       " 'TTL',\n",
       " 'Trypsin_2',\n",
       " 'UCH_1',\n",
       " 'hEGF',\n",
       " 'ABC_membrane',\n",
       " 'ANATO',\n",
       " 'ARID',\n",
       " 'Acyl-CoA_dh_2',\n",
       " 'Arrestin_N',\n",
       " 'CIMR',\n",
       " 'Ephrin_lbd',\n",
       " 'HSP20',\n",
       " 'LRR_5',\n",
       " 'Na_Ca_ex',\n",
       " 'PLAT',\n",
       " 'RabGAP-TBC',\n",
       " 'TUDOR',\n",
       " 'VPS9']"
      ]
     },
     "execution_count": 11,
     "metadata": {},
     "output_type": "execute_result"
    }
   ],
   "source": [
    "splits_dict[1][\"domains\"]"
   ]
  },
  {
   "cell_type": "code",
   "execution_count": 7,
   "metadata": {
    "collapsed": true,
    "scrolled": true
   },
   "outputs": [],
   "source": [
    "curr_dir = os.getcwd()\n",
    "date = \"08.06.18\"\n",
    "\n",
    "#Read input and sort by domain\n",
    "features_table = pd.read_csv(curr_dir+\"/domain_features.csv\", sep=\"\\t\", index_col=0)\n",
    "features_table.sort_index(inplace=True)\n",
    "labels = pd.read_csv(curr_dir+\"/train_domain_labels_\"+date+\".csv\", sep=\"\\t\", index_col=0)\n",
    "labels.sort_index(inplace=True)\n",
    "\n",
    "#Verify input\n",
    "for i in range(0,features_table.shape[0]):\n",
    "    if features_table.index[i] != labels.index[i]:\n",
    "        print(features_table.index[i])\n",
    "        print(labels.index[i])\n",
    "        print(\"Error: Domains do not match\")\n",
    "        \n",
    "domain_list = list(features_table.index)\n",
    "features_table.index = range(0,features_table.shape[0])\n",
    "labels.index = range(0,labels.shape[0])\n",
    "\n",
    "#Read splits dict and flatten to domains\n",
    "with open(curr_dir+\"/../10.Prediction/CV_splits/pfam-v31/domain_5_folds_combined_dna0.5_rna0.5_ion0.75_prec_dict.pik\", 'rb') as handle:\n",
    "    splits_dict = pickle.load(handle)"
   ]
  },
  {
   "cell_type": "code",
   "execution_count": 11,
   "metadata": {},
   "outputs": [
    {
     "data": {
      "text/plain": [
       "array([  0,   1,   2,   3,   4,   5,   6,   7,   8,   9,  10,  11,  12,\n",
       "        13,  14,  15,  16,  17,  18,  19,  20,  21,  22,  23,  24,  25,\n",
       "        26,  27,  28,  29,  30,  31,  32,  33,  34,  35,  36,  37,  38,\n",
       "        39,  40,  41,  42,  43,  44,  45,  46,  47,  48,  49,  50,  51,\n",
       "        52,  53,  54,  55,  56,  57,  58,  59,  60,  61,  62,  63,  64,\n",
       "        65,  66,  67,  68,  69,  70,  71,  72,  73,  74,  75,  76,  77,\n",
       "        78,  79,  80,  81,  82,  83,  84,  85,  86,  87,  88,  89,  90,\n",
       "        91,  92,  93,  94,  95,  96,  97,  98,  99, 100, 101, 102, 103,\n",
       "       104, 105, 106, 107, 108, 109, 110, 111, 112, 113, 114, 115, 116,\n",
       "       117, 118, 119, 120, 121, 122, 123, 124, 125, 126, 127, 128, 129,\n",
       "       130, 131, 132, 133, 134, 135, 136, 137, 138, 139, 140, 141, 142,\n",
       "       143, 144, 145, 146, 147, 148, 149, 150, 151, 152, 153, 154, 155,\n",
       "       156, 157, 158, 159, 160, 161, 162, 163, 164, 165, 166, 167, 168,\n",
       "       169, 170, 171, 172, 173, 174, 175, 176, 177, 178, 179, 180, 181,\n",
       "       182, 183, 184, 185, 186, 187, 188, 189, 190, 191, 192, 193, 194,\n",
       "       195, 196, 197, 198, 199, 200, 201, 202, 203, 204, 205, 206, 207,\n",
       "       208, 209, 210, 211, 212, 213, 214, 215, 216, 217, 218, 219, 220,\n",
       "       221, 222, 223, 224, 225, 226, 227, 228, 229, 230, 231, 232, 233,\n",
       "       234, 235, 236, 237, 238, 239, 240, 241, 242, 243, 244, 245, 246,\n",
       "       247, 248, 249, 250, 251, 252, 253, 254, 255, 256, 257, 258, 259,\n",
       "       260, 261, 262, 263, 264, 265, 266, 267, 268, 269, 270, 271, 272,\n",
       "       273, 274, 275, 276, 277, 278, 279, 280, 281, 282, 283, 284, 285,\n",
       "       286, 287, 288, 289, 290, 291, 292, 293, 294, 295, 296, 297, 298,\n",
       "       299, 300, 301, 302, 303, 304, 305, 306, 307, 308, 309, 310, 311,\n",
       "       312, 313, 314, 315, 316, 317, 318, 319, 320, 321, 322, 323, 324,\n",
       "       325, 326])"
      ]
     },
     "execution_count": 11,
     "metadata": {},
     "output_type": "execute_result"
    }
   ],
   "source": [
    "np.arange(len(domain_list))"
   ]
  },
  {
   "cell_type": "code",
   "execution_count": 15,
   "metadata": {
    "scrolled": true
   },
   "outputs": [
    {
     "name": "stdout",
     "output_type": "stream",
     "text": [
      "---------- dna ----------\n",
      "AUC: 0.84120391261\n",
      "AUPRC: 0.45105197446\n",
      "---------- rna ----------\n",
      "AUC: 0.807791577375\n",
      "AUPRC: 0.350945281887\n",
      "---------- peptide ----------\n",
      "AUC: 0.604338371201\n",
      "AUPRC: 0.353005454003\n",
      "---------- ion ----------\n",
      "AUC: 0.767369571037\n",
      "AUPRC: 0.635175274678\n",
      "---------- sm ----------\n",
      "AUC: 0.747541171094\n",
      "AUPRC: 0.654181630781\n"
     ]
    }
   ],
   "source": [
    "#Perform 5 fold CV split\n",
    "ligands = [\"dna\", \"rna\", \"peptide\", \"ion\", \"sm\"]\n",
    "for ligand in ligands:\n",
    "    ligand_label = labels[ligand+\"_label\"]\n",
    "    roc_auc = []\n",
    "    auprc = []\n",
    "    #Use domains splits\n",
    "    for fold in splits_dict:\n",
    "        #Recover indices of train/test\n",
    "        test_index = map(domain_list.index, splits_dict[fold][\"domains\"])\n",
    "        train_index = [i not in test_index for i in range(len(domain_list))]\n",
    "        train_index = np.arange(len(domain_list))[train_index]\n",
    "        \n",
    "        #Train model\n",
    "        X_train, X_test = features_table.iloc[train_index,:], features_table.iloc[test_index,:]\n",
    "        y_train, y_test = ligand_label.iloc[train_index], ligand_label.iloc[test_index]\n",
    "        model = XGBClassifier()\n",
    "        model.fit(X_train, y_train)\n",
    "        probs_list = []\n",
    "\n",
    "        probs = model.predict_proba(X_test)\n",
    "        for l in probs:\n",
    "            probs_list.append(l[1])\n",
    "        roc_auc.append(roc_auc_score(y_test, probs[:, 1]))\n",
    "        precision, recall, _ = precision_recall_curve(y_test, probs[:, 1])\n",
    "        auprc.append(auc(recall, precision))\n",
    "    print(\"---------- \"+ligand+\" ----------\")\n",
    "    print(\"AUC: \"+str(np.mean(roc_auc)))\n",
    "    print(\"AUPRC: \"+str(np.mean(auprc)))"
   ]
  }
 ],
 "metadata": {
  "kernelspec": {
   "display_name": "Python 2",
   "language": "python",
   "name": "python2"
  },
  "language_info": {
   "codemirror_mode": {
    "name": "ipython",
    "version": 2
   },
   "file_extension": ".py",
   "mimetype": "text/x-python",
   "name": "python",
   "nbconvert_exporter": "python",
   "pygments_lexer": "ipython2",
   "version": "2.7.6"
  }
 },
 "nbformat": 4,
 "nbformat_minor": 2
}
