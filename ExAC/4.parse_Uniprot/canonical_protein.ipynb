{
 "cells": [
  {
   "cell_type": "code",
   "execution_count": 1,
   "metadata": {},
   "outputs": [],
   "source": [
    "#Import packages\n",
    "import pandas as pd#Return the Uniprot id for querying json entries in Uniprot, or \"\" if not found\n",
    "def get_uniprot_id(ensembl_id):\n",
    "    #Querying the Biomart database to get number of matches\n",
    "    num = ens_genes.count({\n",
    "        'filters': {\n",
    "                'ensembl_gene_id': ensembl_id\n",
    "        },\n",
    "        'attributes': [\n",
    "                'uniprotswissprot'\n",
    "        ]\n",
    "    })\n",
    "\n",
    "    #In case no match is found\n",
    "    if (num == 0):\n",
    "        return \"\"\n",
    "\n",
    "    #In case of at least one match: querying the Biomart database\n",
    "    response = ens_genes.search({\n",
    "        'filters': {\n",
    "                'ensembl_gene_id': ensembl_id\n",
    "        },\n",
    "        'attributes': [\n",
    "                'uniprotswissprot'\n",
    "        ]\n",
    "    })\n",
    "\n",
    "    #Reading the query result\n",
    "    uniprot_id = \"\"\n",
    "    for line in response.iter_lines():\n",
    "        line = line.decode('utf-8')\n",
    "        uniprot_id = (line.split(\"\\t\")[0]).encode('ascii','ignore')\n",
    "        break\n",
    "    \n",
    "    return uniprot_id\n",
    "import numpy as np\n",
    "from biomart import BiomartServer\n",
    "import json\n",
    "import pickle\n",
    "from IPython.core.display import HTML\n",
    "HTML(\"<style>.container { width:100% !important; }</style>\");"
   ]
  },
  {
   "cell_type": "code",
   "execution_count": 2,
   "metadata": {},
   "outputs": [],
   "source": [
    "#Return the Uniprot id for querying json entries in Uniprot, or \"\" if not found\n",
    "def get_uniprot_id(ensembl_id):\n",
    "    #Querying the Biomart database to get number of matches\n",
    "    num = ens_genes.count({\n",
    "        'filters': {\n",
    "                'ensembl_gene_id': ensembl_id\n",
    "        },\n",
    "        'attributes': [\n",
    "                'uniprotswissprot'\n",
    "        ]\n",
    "    })\n",
    "\n",
    "    #In case no match is found\n",
    "    if (num == 0):\n",
    "        return \"\"\n",
    "\n",
    "    #In case of at least one match: querying the Biomart database\n",
    "    response = ens_genes.search({\n",
    "        'filters': {\n",
    "                'ensembl_gene_id': ensembl_id\n",
    "        },\n",
    "        'attributes': [\n",
    "                'uniprotswissprot'\n",
    "        ]\n",
    "    })\n",
    "\n",
    "    #Reading the query result\n",
    "    uniprot_id = \"\"\n",
    "    for line in response.iter_lines():\n",
    "        line = line.decode('utf-8')\n",
    "        uniprot_id = (line.split(\"\\t\")[0]).encode('ascii','ignore')\n",
    "        break\n",
    "    \n",
    "    return uniprot_id"
   ]
  },
  {
   "cell_type": "code",
   "execution_count": 3,
   "metadata": {},
   "outputs": [],
   "source": [
    "def find_longest_prot(prot_ids):\n",
    "    max_len = 0\n",
    "    max_prot_id = \"\"\n",
    "    for prot in prot_ids:\n",
    "        prot_lens = (gene_table[gene_table[\"prot\"] == prot][\"length\"]).unique()\n",
    "        if (len(prot_lens) > 1):\n",
    "            print \"Error: more than one length fir protein id: \"+prot #Sanity check\n",
    "        if (prot_lens[0] > max_len):\n",
    "            max_len = prot_lens[0]\n",
    "            max_prot_id = prot\n",
    "    return max_prot_id"
   ]
  },
  {
   "cell_type": "code",
   "execution_count": 4,
   "metadata": {},
   "outputs": [],
   "source": [
    "#Reading the domain data\n",
    "curr_dir = !pwd\n",
    "pfam_version = \"32\"\n",
    "in_path = curr_dir[0]+\"/../3.parse_HMMER/hmm_domains/pfam-v\"+pfam_version+\"/\"\n",
    "out_path = curr_dir[0]+\"/domains_canonic_prot/pfam-v\"+pfam_version+\"/\"\n",
    "domains_files = !ls $in_path\n",
    "\n",
    "#Importing Biomart database\n",
    "server = BiomartServer(\"http://grch37.ensembl.org/biomart\")\n",
    "ens_genes = server.datasets[u'hsapiens_gene_ensembl']"
   ]
  },
  {
   "cell_type": "code",
   "execution_count": 5,
   "metadata": {},
   "outputs": [
    {
     "data": {
      "text/plain": [
       "6510"
      ]
     },
     "execution_count": 5,
     "metadata": {},
     "output_type": "execute_result"
    }
   ],
   "source": [
    "len(domains_files[:])"
   ]
  },
  {
   "cell_type": "code",
   "execution_count": 21,
   "metadata": {},
   "outputs": [
    {
     "data": {
      "text/plain": [
       "6392"
      ]
     },
     "execution_count": 21,
     "metadata": {},
     "output_type": "execute_result"
    }
   ],
   "source": [
    "domains_files.index(\"zf-C3HC4_5.csv\")"
   ]
  },
  {
   "cell_type": "code",
   "execution_count": 11,
   "metadata": {},
   "outputs": [
    {
     "data": {
      "text/plain": [
       "'CLPTM1.csv'"
      ]
     },
     "execution_count": 11,
     "metadata": {},
     "output_type": "execute_result"
    }
   ],
   "source": [
    "domains_files[951]"
   ]
  },
  {
   "cell_type": "code",
   "execution_count": 22,
   "metadata": {
    "scrolled": true
   },
   "outputs": [
    {
     "name": "stdout",
     "output_type": "stream",
     "text": [
      "Starting...\n",
      "Finished zf-C3HC4.csv\n",
      "Finished zf-C3HC.csv\n",
      "Finished zf-C4.csv\n",
      "Finished zf-C4H2.csv\n",
      "Finished zf-C4pol.csv\n",
      "Finished zf-C4_Topoisom.csv\n",
      "Finished zf-C5HC2.csv\n",
      "Finished zf-C6H2.csv\n",
      "Finished zf-CCCH_2.csv\n",
      "Finished zf-CCCH_3.csv\n",
      "Finished zf_CCCH_4.csv\n",
      "Finished zf-CCCH_4.csv\n",
      "Finished zf_CCCH_5.csv\n",
      "Finished zf-CCCH_8.csv\n",
      "Finished zf-CCCH.csv\n",
      "Finished zf-CCHC_2.csv\n",
      "Finished zf-CCHC_3.csv\n",
      "Finished zf-CCHC_6.csv\n",
      "Finished zf-CCHC.csv\n",
      "Finished zf-CCHH.csv\n",
      "Finished zf-CDGSH.csv\n",
      "Finished zf-CHCC.csv\n",
      "Finished zf-CHY.csv\n",
      "Finished zf-CpG_bind_C.csv\n",
      "Finished zf-CRD.csv\n",
      "Finished zf-CSL.csv\n",
      "Finished zf-CW.csv\n",
      "Finished zf-CXXC.csv\n",
      "Finished zf-DBF.csv\n",
      "Finished zf-Di19.csv\n",
      "Finished zf-DNA_Pol.csv\n",
      "Finished zf-DNL.csv\n",
      "Finished zf-dskA_traR.csv\n",
      "Finished zf-FCS.csv\n",
      "Finished zf-FPG_IleRS.csv\n",
      "Finished zf-GRF.csv\n",
      "Finished zf-H2C2_2.csv\n",
      "Finished zf-H2C2_5.csv\n",
      "Finished zf_Hakai.csv\n",
      "Finished zf-HC5HC2H_2.csv\n",
      "Finished zf-HC5HC2H.csv\n",
      "Finished zf-HIT.csv\n",
      "Finished zf-LITAF-like.csv\n",
      "Finished zf-LYAR.csv\n",
      "Finished zf-met.csv\n",
      "Finished zf-MIZ.csv\n",
      "Finished zf-MYND.csv\n",
      "Finished zf-MYST.csv\n",
      "Finished zf-NADH-PPase.csv\n",
      "Finished zf-nanos.csv\n",
      "Finished zf-NF-X1.csv\n",
      "Finished zf-NOSIP.csv\n",
      "Finished zf-NPL4.csv\n",
      "Finished zf-Nse.csv\n",
      "Finished zf-PARP.csv\n",
      "Finished zf-piccolo.csv\n",
      "Finished zf-primase.csv\n",
      "Finished zf_PR_Knuckle.csv\n",
      "Finished zf-RAG1.csv\n",
      "Finished zf-RanBP.csv\n",
      "Finished zf-rbx1.csv\n",
      "Finished zf-RING_10.csv\n",
      "Finished zf-RING_11.csv\n",
      "Finished zf-RING_12.csv\n",
      "Finished zf-RING_14.csv\n",
      "Finished zf-RING_2.csv\n",
      "Finished zf-RING_4.csv\n",
      "Finished zf-RING_5.csv\n",
      "Finished zf-RING_6.csv\n",
      "Finished zf-RING_9.csv\n",
      "Finished Zf_RING.csv\n",
      "Finished zf-RING-like.csv\n",
      "Finished zf-RING_UBOX.csv\n",
      "Finished zf-RNPHF.csv\n",
      "Finished zf-RRN7.csv\n",
      "Finished zf-SAP30.csv\n",
      "Finished zf-SCNM1.csv\n",
      "Finished zf-Sec23_Sec24.csv\n",
      "Finished zf-SNAP50_C.csv\n",
      "Finished zf-TAZ.csv\n",
      "Finished zf-tcix.csv\n",
      "Finished zf-TFIIIC.csv\n",
      "Finished zf-Tim10_DDP.csv\n",
      "Finished zf-TRAF_2.csv\n",
      "Finished zf-TRAF.csv\n",
      "Finished zf-TRM13_CCCH.csv\n",
      "Finished zf-U11-48K.csv\n",
      "Finished zf-U1.csv\n",
      "Finished zf-UBP.csv\n",
      "Finished zf-UBP_var.csv\n",
      "Finished zf-UBR.csv\n",
      "Finished zf_UBZ.csv\n",
      "Finished zf-WRNIP1_ubi.csv\n",
      "Finished Zfx_Zfy_act.csv\n",
      "Finished ZFYVE21_C.csv\n",
      "Finished zf_ZIC.csv\n",
      "Finished zf-ZPR1.csv\n",
      "Finished zinc_ribbon_10.csv\n",
      "Finished zinc_ribbon_12.csv\n",
      "Finished zinc_ribbon_16.csv\n",
      "Finished zinc_ribbon_2.csv\n",
      "Finished zinc_ribbon_6.csv\n",
      "Finished zinc_ribbon_9.csv\n",
      "Finished ZIP4_domain.csv\n",
      "Finished Zip.csv\n",
      "Finished Zmiz1_N.csv\n",
      "Finished Zn-C2H2_12.csv\n",
      "Finished Zn_dep_PLPC.csv\n",
      "Finished ZNRF_3_ecto.csv\n",
      "Finished zn-ribbon_14.csv\n",
      "Finished Zn_ribbon_17.csv\n",
      "Finished Zona_pellucida.csv\n",
      "Finished ZU5.csv\n",
      "Finished Zw10.csv\n",
      "Finished Zwilch.csv\n",
      "Finished Zwint.csv\n",
      "Finished ZZ.csv\n",
      "CPU times: user 44 s, sys: 2.32 s, total: 46.3 s\n",
      "Wall time: 54min 2s\n"
     ]
    }
   ],
   "source": [
    "%%time\n",
    "print \"Starting...\"\n",
    "for dom_filename in domains_files[6393:]:\n",
    "    \n",
    "    domain_data = pd.read_csv(in_path+dom_filename, sep='\\t', index_col=0)\n",
    "    canonic_protein = {}\n",
    "    genes_ids = (domain_data[\"gene\"]).unique()\n",
    "    no_uniprot = 0\n",
    "    no_canonic_len = 0\n",
    "    \n",
    "    for i in range(0,len(genes_ids)):\n",
    "        ens_gene = genes_ids[i]\n",
    "        #print \"ens_gene = \"+ens_gene\n",
    "        gene_table = domain_data[domain_data[\"gene\"] == ens_gene]\n",
    "        protein_ids = (gene_table[\"prot\"]).unique()\n",
    "\n",
    "        if (len(protein_ids) == 1):\n",
    "            #Saving the one protein id available\n",
    "            canonic_protein[ens_gene] = protein_ids[0]\n",
    "\n",
    "        #If there's more then one transcript: finding what's the canonic protein length from uniprot\n",
    "        else:\n",
    "            ens_gene_major_number = ens_gene[:ens_gene.find(\".\")]\n",
    "            uniprot_id = get_uniprot_id(ens_gene_major_number)\n",
    "            if (uniprot_id == \"\"):\n",
    "                #print ens_gene+\": uniprot wasn't found for \"+ens_gene\n",
    "                canonic_protein[ens_gene] = find_longest_prot(protein_ids)\n",
    "                no_uniprot += 1\n",
    "                continue\n",
    "            uniprot_url = \"http://togows.dbcls.jp/entry/uniprot/\"+uniprot_id+\".json\"\n",
    "            try:\n",
    "                uniprot_json = pd.read_json(uniprot_url)\n",
    "                canonic_len = uniprot_json.aalen[0]\n",
    "            except:\n",
    "                canonic_protein[ens_gene] = find_longest_prot(protein_ids)\n",
    "                no_uniprot += 1\n",
    "                continue\n",
    "\n",
    "            found = False\n",
    "            for prot in protein_ids:\n",
    "                prot_lens = (gene_table[gene_table[\"prot\"] == prot][\"length\"]).unique()\n",
    "                if (len(prot_lens) > 1):\n",
    "                    print \"Error: more than one length for protein id: \"+prot #Sanity check\n",
    "\n",
    "                #If the length equal the canonical, this is the canonical protein id\n",
    "                if (prot_lens[0] == canonic_len):\n",
    "                    found = True\n",
    "                    canonic_protein[ens_gene] = prot\n",
    "                    break\n",
    "\n",
    "            if (found == False):\n",
    "                #print ens_gene+\": Proteins don't match the Uniprot canonic\"\n",
    "                no_canonic_len += 1\n",
    "                canonic_protein[ens_gene] = find_longest_prot(protein_ids)\n",
    "                \n",
    "    domain_sym = dom_filename[:dom_filename.find(\".\")]\n",
    "    with open(out_path+domain_sym+\"_canonic_prot.pik\", 'wb') as handle:\n",
    "        pickle.dump(canonic_protein, handle, protocol=pickle.HIGHEST_PROTOCOL)  \n",
    "        \n",
    "    print \"Finished \"+dom_filename\n",
    "    "
   ]
  },
  {
   "cell_type": "code",
   "execution_count": 6,
   "metadata": {},
   "outputs": [
    {
     "data": {
      "text/plain": [
       "{'ENSG00000100601.5': 'ENSP00000216489.3',\n",
       " 'ENSG00000125652.3': 'ENSP00000245812.2',\n",
       " 'ENSG00000137760.10': 'ENSP00000374219.3',\n",
       " 'ENSG00000166199.8': 'ENSP00000302232.4',\n",
       " 'ENSG00000189046.6': 'ENSP00000343021.3',\n",
       " 'ENSG00000239382.6': 'ENSP00000252984.6'}"
      ]
     },
     "execution_count": 6,
     "metadata": {},
     "output_type": "execute_result"
    }
   ],
   "source": [
    "canonic_protein"
   ]
  },
  {
   "cell_type": "code",
   "execution_count": 12,
   "metadata": {},
   "outputs": [
    {
     "data": {
      "text/plain": [
       "(1317, 25)"
      ]
     },
     "execution_count": 12,
     "metadata": {},
     "output_type": "execute_result"
    }
   ],
   "source": [
    "domain_data.shape"
   ]
  },
  {
   "cell_type": "markdown",
   "metadata": {
    "collapsed": true
   },
   "source": [
    "### draft - old code - don't run"
   ]
  },
  {
   "cell_type": "code",
   "execution_count": 36,
   "metadata": {},
   "outputs": [],
   "source": [
    "#Create a dictionary of the canonical transcipt ids and protein ids\n",
    "#canonic_transcript = {}\n",
    "canonic_protein = {}\n",
    "genes_ids = (domain_data[\"gene\"]).unique()\n",
    "no_uniprot = 0\n",
    "no_canonic_len = 0"
   ]
  },
  {
   "cell_type": "code",
   "execution_count": 37,
   "metadata": {},
   "outputs": [
    {
     "name": "stdout",
     "output_type": "stream",
     "text": [
      "ENSG00000167840.9: Proteins don't match the Uniprot canonic\n",
      "ENSG00000105261.5: uniprot wasn't found for ENSG00000105261.5\n",
      "ENSG00000170325.10: Proteins don't match the Uniprot canonic\n",
      "ENSG00000147124.8: Proteins don't match the Uniprot canonic\n",
      "ENSG00000171606.13: Proteins don't match the Uniprot canonic\n",
      "ENSG00000184937.8: Proteins don't match the Uniprot canonic\n",
      "ENSG00000196381.6: Proteins don't match the Uniprot canonic\n",
      "ENSG00000164011.13: Proteins don't match the Uniprot canonic\n",
      "ENSG00000204644.5: Proteins don't match the Uniprot canonic\n",
      "ENSG00000206510.5: Proteins don't match the Uniprot canonic\n",
      "ENSG00000141040.10: Proteins don't match the Uniprot canonic\n",
      "ENSG00000227124.4: Proteins don't match the Uniprot canonic\n",
      "ENSG00000089335.16: Proteins don't match the Uniprot canonic\n",
      "ENSG00000234669.3: Proteins don't match the Uniprot canonic\n",
      "ENSG00000223858.3: Proteins don't match the Uniprot canonic\n",
      "ENSG00000187607.11: uniprot wasn't found for ENSG00000187607.11\n",
      "ENSG00000223852.3: Proteins don't match the Uniprot canonic\n",
      "ENSG00000232099.3: Proteins don't match the Uniprot canonic\n",
      "ENSG00000226858.3: Proteins don't match the Uniprot canonic\n",
      "ENSG00000169955.6: Proteins don't match the Uniprot canonic\n",
      "ENSG00000255073.4: uniprot wasn't found for ENSG00000255073.4\n",
      "ENSG00000263310.1: uniprot wasn't found for ENSG00000263310.1\n",
      "ENSG00000272602.1: uniprot wasn't found for ENSG00000272602.1\n",
      "ENSG00000272580.1: uniprot wasn't found for ENSG00000272580.1\n"
     ]
    }
   ],
   "source": [
    "for i in range(0,len(genes_ids)):\n",
    "    ens_gene = genes_ids[i]\n",
    "    gene_table = domain_data[domain_data[\"gene\"] == ens_gene]\n",
    "    protein_ids = (gene_table[\"prot\"]).unique()\n",
    "\n",
    "    if (len(protein_ids) == 1):\n",
    "        #Saving the one protein id available\n",
    "        canonic_protein[ens_gene] = protein_ids[0]\n",
    "\n",
    "    #If there's more then one transcript: finding what's the canonic protein length from uniprot\n",
    "    else:\n",
    "        ens_gene_major_number = ens_gene[:ens_gene.find(\".\")]\n",
    "        uniprot_id = get_uniprot_id(ens_gene_major_number)\n",
    "        if (uniprot_id == \"\"):\n",
    "            print ens_gene+\": uniprot wasn't found for \"+ens_gene\n",
    "            canonic_protein[ens_gene] = find_longest_prot(protein_ids)\n",
    "            no_uniprot += 1\n",
    "            continue\n",
    "        uniprot_url = \"http://togows.dbcls.jp/entry/uniprot/\"+uniprot_id+\".json\"\n",
    "        uniprot_json = pd.read_json(uniprot_url)\n",
    "        canonic_len = uniprot_json.aalen[0]\n",
    "\n",
    "        found = False\n",
    "        for prot in protein_ids:\n",
    "            prot_lens = (gene_table[gene_table[\"prot\"] == prot][\"length\"]).unique()\n",
    "            if (len(prot_lens) > 1):\n",
    "                print \"Error: more than one length for protein id: \"+prot #Sanity check\n",
    "\n",
    "            #If the length equal the canonical, this is the canonical protein id\n",
    "            if (prot_lens[0] == canonic_len):\n",
    "                found = True\n",
    "                canonic_protein[ens_gene] = prot\n",
    "                break\n",
    "\n",
    "        if (found == False):\n",
    "            print ens_gene+\": Proteins don't match the Uniprot canonic\"\n",
    "            no_canonic_len += 1\n",
    "            canonic_protein[ens_gene] = find_longest_prot(protein_ids)"
   ]
  },
  {
   "cell_type": "code",
   "execution_count": 38,
   "metadata": {},
   "outputs": [],
   "source": [
    "with open(out_path+domain+\"_canonic_prot.pik\", 'wb') as handle:\n",
    "    pickle.dump(canonic_protein, handle, protocol=pickle.HIGHEST_PROTOCOL)"
   ]
  },
  {
   "cell_type": "code",
   "execution_count": null,
   "metadata": {
    "collapsed": true
   },
   "outputs": [],
   "source": [
    "#Printouts from creating the canonic dictionary for Zinc finger domain\n",
    "ENSG00000167840.9: Proteins don't match the Uniprot canonic\n",
    "ENSG00000105261.5: uniprot wasn't found for ENSG00000105261.5\n",
    "ENSG00000170325.10: Proteins don't match the Uniprot canonic\n",
    "ENSG00000147124.8: Proteins don't match the Uniprot canonic\n",
    "ENSG00000171606.13: Proteins don't match the Uniprot canonic\n",
    "ENSG00000184937.8: Proteins don't match the Uniprot canonic\n",
    "ENSG00000196381.6: Proteins don't match the Uniprot canonic\n",
    "ENSG00000164011.13: Proteins don't match the Uniprot canonic\n",
    "ENSG00000204644.5: Proteins don't match the Uniprot canonic\n",
    "ENSG00000206510.5: Proteins don't match the Uniprot canonic\n",
    "ENSG00000141040.10: Proteins don't match the Uniprot canonic\n",
    "ENSG00000227124.4: Proteins don't match the Uniprot canonic\n",
    "ENSG00000089335.16: Proteins don't match the Uniprot canonic\n",
    "ENSG00000234669.3: Proteins don't match the Uniprot canonic\n",
    "ENSG00000223858.3: Proteins don't match the Uniprot canonic\n",
    "ENSG00000187607.11: uniprot wasn't found for ENSG00000187607.11\n",
    "ENSG00000223852.3: Proteins don't match the Uniprot canonic\n",
    "ENSG00000232099.3: Proteins don't match the Uniprot canonic\n",
    "ENSG00000226858.3: Proteins don't match the Uniprot canonic\n",
    "ENSG00000169955.6: Proteins don't match the Uniprot canonic\n",
    "ENSG00000255073.4: uniprot wasn't found for ENSG00000255073.4\n",
    "ENSG00000263310.1: uniprot wasn't found for ENSG00000263310.1\n",
    "ENSG00000272602.1: uniprot wasn't found for ENSG00000272602.1\n",
    "ENSG00000272580.1: uniprot wasn't found for ENSG00000272580.1"
   ]
  },
  {
   "cell_type": "code",
   "execution_count": null,
   "metadata": {
    "collapsed": true
   },
   "outputs": [],
   "source": [
    "#Printouts from creating the canonic dictionary for Homeobox domain\n",
    "ENSG00000006377.9: Proteins don't match the Uniprot canonic\n",
    "ENSG00000257923.5: Proteins don't match the Uniprot canonic\n",
    "ENSG00000106331.10: Proteins don't match the Uniprot canonic\n",
    "ENSG00000109072.9: Proteins don't match the Uniprot canonic\n",
    "ENSG00000258389.2: uniprot wasn't found for ENSG00000258389.2"
   ]
  },
  {
   "cell_type": "code",
   "execution_count": null,
   "metadata": {
    "collapsed": true
   },
   "outputs": [],
   "source": [
    "#Printouts from creating the canonic dictionary for WW domain\n",
    "ENSG00000081026.14: Proteins don't match the Uniprot canonic\n",
    "ENSG00000151276.19: Proteins don't match the Uniprot canonic\n",
    "ENSG00000196504.11: Proteins don't match the Uniprot canonic"
   ]
  },
  {
   "cell_type": "code",
   "execution_count": null,
   "metadata": {
    "collapsed": true
   },
   "outputs": [],
   "source": [
    "#Printouts from creating the canonic dictionary for PUF domain"
   ]
  },
  {
   "cell_type": "code",
   "execution_count": null,
   "metadata": {
    "collapsed": true
   },
   "outputs": [],
   "source": [
    "#Printouts from creating the canonic dictionary for SH3_1 domain\n",
    "ENSG00000008735.10: Proteins don't match the Uniprot canonic\n",
    "ENSG00000163486.8: uniprot wasn't found for ENSG00000163486.8\n",
    "ENSG00000143514.12: Proteins don't match the Uniprot canonic\n",
    "ENSG00000188747.4: Proteins don't match the Uniprot canonic\n",
    "ENSG00000266028.3: uniprot wasn't found for ENSG00000266028.3"
   ]
  }
 ],
 "metadata": {
  "kernelspec": {
   "display_name": "Python 2",
   "language": "python",
   "name": "python2"
  },
  "language_info": {
   "codemirror_mode": {
    "name": "ipython",
    "version": 2
   },
   "file_extension": ".py",
   "mimetype": "text/x-python",
   "name": "python",
   "nbconvert_exporter": "python",
   "pygments_lexer": "ipython2",
   "version": "2.7.12"
  }
 },
 "nbformat": 4,
 "nbformat_minor": 1
}
