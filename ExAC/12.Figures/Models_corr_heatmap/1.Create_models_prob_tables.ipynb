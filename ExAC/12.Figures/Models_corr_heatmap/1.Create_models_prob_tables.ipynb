{
 "cells": [
  {
   "cell_type": "code",
   "execution_count": 1,
   "metadata": {},
   "outputs": [],
   "source": [
    "import pandas as pd\n",
    "import numpy as np\n",
    "import pickle\n",
    "from collections import defaultdict"
   ]
  },
  {
   "cell_type": "code",
   "execution_count": 6,
   "metadata": {},
   "outputs": [],
   "source": [
    "curr_dir = !pwd\n",
    "input_path = curr_dir[0]+\"/../../10.Prediction/pred_AUC_AUPRC/mediode_NegLigand_NoFilter/NoDown/08.06.18_5f_comb_dna0.5_rna0.25_ion0.75/\"\n",
    "output_path = curr_dir[0]+\"/models_prob_tables/\"\n",
    "models = [\"RF\", \"ADA\", \"SVM\", \"Logistic\", \"KNN\", \"XGB\", \"NN\"]\n",
    "ligands = [\"dna\", \"rna\", \"peptide\", \"ion\", \"sm\"]"
   ]
  },
  {
   "cell_type": "code",
   "execution_count": 24,
   "metadata": {},
   "outputs": [
    {
     "name": "stdout",
     "output_type": "stream",
     "text": [
      "Finished ligand dna\n",
      "Finished ligand rna\n",
      "Finished ligand peptide\n",
      "Finished ligand ion\n",
      "Finished ligand sm\n"
     ]
    }
   ],
   "source": [
    "for ligand in ligands:\n",
    "    \n",
    "    #the data\n",
    "    prob_table = pd.read_csv(input_path+ligand+\"_5w.csv\", sep='\\t', index_col=0)\n",
    "        \n",
    "    #Creating a unified prob df\n",
    "    unified_df = pd.DataFrame()\n",
    "    for model in models:\n",
    "        \n",
    "        model_table = prob_table[prob_table[\"model\"] == model]\n",
    "        model_table = model_table.sort_values(by=\"idx\")\n",
    "        model_table.index = model_table[\"idx\"]\n",
    "        \n",
    "        if (unified_df.shape[0] == 0):\n",
    "            unified_df = model_table[[\"prob\"]]\n",
    "            unified_df.columns = [model]\n",
    "        else:\n",
    "            unified_df = unified_df.merge(model_table[[\"prob\"]], left_index=True, right_index=True)\n",
    "            cols = unified_df.columns.tolist()\n",
    "            cols[-1] = model\n",
    "            unified_df.columns = cols\n",
    "    \n",
    "    #Saving the df\n",
    "    unified_df.to_csv(output_path+ligand+\"_models_prob.csv\", sep='\\t')\n",
    "    \n",
    "    print \"Finished ligand \"+ligand"
   ]
  },
  {
   "cell_type": "code",
   "execution_count": null,
   "metadata": {},
   "outputs": [],
   "source": []
  }
 ],
 "metadata": {
  "kernelspec": {
   "display_name": "Python 2",
   "language": "python",
   "name": "python2"
  },
  "language_info": {
   "codemirror_mode": {
    "name": "ipython",
    "version": 2
   },
   "file_extension": ".py",
   "mimetype": "text/x-python",
   "name": "python",
   "nbconvert_exporter": "python",
   "pygments_lexer": "ipython2",
   "version": "2.7.12"
  }
 },
 "nbformat": 4,
 "nbformat_minor": 2
}
