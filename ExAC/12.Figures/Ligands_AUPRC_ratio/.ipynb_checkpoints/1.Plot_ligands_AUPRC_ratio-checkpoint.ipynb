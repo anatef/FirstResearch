{
 "cells": [
  {
   "cell_type": "code",
   "execution_count": 1,
   "metadata": {},
   "outputs": [
    {
     "name": "stderr",
     "output_type": "stream",
     "text": [
      "Loading required package: magrittr\n"
     ]
    }
   ],
   "source": [
    "library(ggplot2)\n",
    "library(scales)\n",
    "library(ggpubr)\n",
    "library(reshape2)\n",
    "library(grid)"
   ]
  },
  {
   "cell_type": "code",
   "execution_count": 2,
   "metadata": {},
   "outputs": [],
   "source": [
    "#All data paths\n",
    "tuning_type <- \"global_auprc\"\n",
    "data_path <- paste0(\"/home/anat/Research/ExAC/10.Prediction/phase2_pred_res/08.06.18_5f_comb_dna0.5_rna0.5_ion0.75/\",tuning_type,\"/\")\n",
    "ligand_stacking_path <- paste0(\"~/Research/ExAC/10.Prediction/stacking/2nd_level_pred/08.06.18_dna0.5_rna0.5_ion0.75/\",tuning_type,\"/ligand_features_probs/\")\n",
    "prob_stacking_path <- paste0(\"~/Research/ExAC/10.Prediction/stacking/2nd_level_pred/08.06.18_dna0.5_rna0.5_ion0.75/\",tuning_type,\"/just_probs/\")\n",
    "model_stacking_path <- paste0(\"~/Research/ExAC/10.Prediction/stacking/2nd_level_pred/08.06.18_dna0.5_rna0.5_ion0.75/\",tuning_type,\"/model_features/\")\n",
    "all_stacking_path <- paste0(\"~/Research/ExAC/10.Prediction/stacking/2nd_level_pred/08.06.18_dna0.5_rna0.5_ion0.75/\",tuning_type,\"/all_features_probs/\")\n",
    "\n",
    "cv_groups_path <- \"~/Research/ExAC/10.Prediction/CV_splits/pfam-v31/\"\n",
    "cv_groups_filename <- \"domain_5_folds_combined_dna0.5_rna0.5_ion0.75_prec_group_stats_df.csv\"\n",
    "\n",
    "ligands_list <- c(\"rna\", \"dna\", \"ion\", \"peptide\", \"sm\")\n",
    "chosen_models <- c(\"MODEL\", \"LIGAND\", \"MODEL\", \"MODEL\", \"ALL\")\n",
    "folds <- 5\n",
    "#pos and negative numbers in the training dataset\n",
    "pos_num <- c(247, 397, 351, 436, 825)\n",
    "neg_num <- c(43720, 43884, 39630, 41105, 32697)"
   ]
  },
  {
   "cell_type": "markdown",
   "metadata": {},
   "source": [
    "### Get chosen models AUPRCs"
   ]
  },
  {
   "cell_type": "code",
   "execution_count": 3,
   "metadata": {},
   "outputs": [],
   "source": [
    "ligand_data <- list()\n",
    "for (i in 1:length(ligands_list)) {     \n",
    "    ligand <- ligands_list[[i]]\n",
    "    ligand_filename <- paste0(ligand, \"_5w_auprc.csv\")\n",
    "    chosen_model <- chosen_models[[i]]\n",
    "    if (chosen_model == \"MODEL\") {\n",
    "        ligand_stacking_data <- read.csv(paste0(model_stacking_path, ligand_filename), header = TRUE, sep = '\\t', row.names = 1, stringsAsFactors=FALSE)\n",
    "        \n",
    "    } else if (chosen_model == \"LIGAND\") {\n",
    "        ligand_stacking_data <- read.csv(paste0(ligand_stacking_path, ligand_filename), header = TRUE, sep = '\\t', row.names = 1, stringsAsFactors=FALSE)\n",
    "    } else if (chosen_model == \"ALL\") {\n",
    "        ligand_stacking_data <- read.csv(paste0(all_stacking_path, ligand_filename), header = TRUE, sep = '\\t', row.names = 1, stringsAsFactors=FALSE)\n",
    "    } else {\n",
    "        ligand_stacking_data <- read.csv(paste0(prob_stacking_path, ligand_filename), header = TRUE, sep = '\\t', row.names = 1, stringsAsFactors=FALSE)\n",
    "    }\n",
    "    colnames(ligand_stacking_data) <- c(\"auprc\")\n",
    "    ligand_data[[i]] <- ligand_stacking_data\n",
    "}"
   ]
  },
  {
   "cell_type": "markdown",
   "metadata": {},
   "source": [
    "### Calculate the AUPRC as mean of the folds"
   ]
  },
  {
   "cell_type": "code",
   "execution_count": 4,
   "metadata": {},
   "outputs": [],
   "source": [
    "AUPRC <- list()\n",
    "for (i in 1:length(ligands_list)) {\n",
    "    mean_auprc <- mean(ligand_data[[i]]$auprc)\n",
    "    AUPRC[[i]] <- mean_auprc\n",
    "}"
   ]
  },
  {
   "cell_type": "markdown",
   "metadata": {},
   "source": [
    "### Read the CV groups pos/neg numbers"
   ]
  },
  {
   "cell_type": "code",
   "execution_count": 6,
   "metadata": {},
   "outputs": [],
   "source": [
    "cv_groups_stats <- read.csv(paste0(cv_groups_path, cv_groups_filename), header = TRUE, sep = '\\t', row.names = 1)\n",
    "\n",
    "#Calculate the per-fold baseline\n",
    "#Baseline\n",
    "auprc_ratio_list <- list()\n",
    "for (i in 1:length(ligands_list)) {\n",
    "    ligand <- ligands_list[[i]]\n",
    "    ligand_pos_str <- paste0(ligand,\"_pos\")\n",
    "    ligand_neg_str <- paste0(ligand,\"_neg\")\n",
    "    ligand_auprc <- ligand_data[[i]]$auprc\n",
    "    \n",
    "    auprc_ratio_list[[i]] <- list()\n",
    "    for (j in 1:folds) {\n",
    "        group_name <- paste0(\"X\",j)\n",
    "        fold_pos <- cv_groups_stats[ligand_pos_str, ][[group_name]]\n",
    "        fold_neg <- cv_groups_stats[ligand_neg_str, ][[group_name]]\n",
    "        fold_baseline <- fold_pos/fold_neg\n",
    "        fold_auprc <- ligand_auprc[[j]]\n",
    "        fold_auprc_ratio <- fold_auprc/fold_baseline\n",
    "        auprc_ratio_list[[i]][[j]] <- fold_auprc_ratio\n",
    "    }   \n",
    "}"
   ]
  },
  {
   "cell_type": "code",
   "execution_count": 14,
   "metadata": {},
   "outputs": [
    {
     "data": {
      "text/html": [
       "<ol>\n",
       "\t<li><ol>\n",
       "\t<li>68.2365007042269</li>\n",
       "\t<li>82.4379518900451</li>\n",
       "\t<li>79.4698118045498</li>\n",
       "\t<li>22.6713809793417</li>\n",
       "\t<li>11.480257601553</li>\n",
       "</ol>\n",
       "</li>\n",
       "\t<li><ol>\n",
       "\t<li>52.4852357888603</li>\n",
       "\t<li>57.3608499526593</li>\n",
       "\t<li>56.7020398009645</li>\n",
       "\t<li>36.6511764756333</li>\n",
       "\t<li>18.5579901891047</li>\n",
       "</ol>\n",
       "</li>\n",
       "\t<li><ol>\n",
       "\t<li>53.3622183879998</li>\n",
       "\t<li>55.8347730093163</li>\n",
       "\t<li>73.1637676318904</li>\n",
       "\t<li>56.0781902112229</li>\n",
       "\t<li>73.1572578164359</li>\n",
       "</ol>\n",
       "</li>\n",
       "\t<li><ol>\n",
       "\t<li>11.0620834702677</li>\n",
       "\t<li>10.3470480554671</li>\n",
       "\t<li>8.05587952522094</li>\n",
       "\t<li>17.7294261235192</li>\n",
       "\t<li>15.0189501061895</li>\n",
       "</ol>\n",
       "</li>\n",
       "\t<li><ol>\n",
       "\t<li>8.67244553739956</li>\n",
       "\t<li>10.3360691904052</li>\n",
       "\t<li>8.15837103880082</li>\n",
       "\t<li>8.5518279408904</li>\n",
       "\t<li>14.0483733952719</li>\n",
       "</ol>\n",
       "</li>\n",
       "</ol>\n"
      ],
      "text/latex": [
       "\\begin{enumerate}\n",
       "\\item \\begin{enumerate}\n",
       "\\item 68.2365007042269\n",
       "\\item 82.4379518900451\n",
       "\\item 79.4698118045498\n",
       "\\item 22.6713809793417\n",
       "\\item 11.480257601553\n",
       "\\end{enumerate}\n",
       "\n",
       "\\item \\begin{enumerate}\n",
       "\\item 52.4852357888603\n",
       "\\item 57.3608499526593\n",
       "\\item 56.7020398009645\n",
       "\\item 36.6511764756333\n",
       "\\item 18.5579901891047\n",
       "\\end{enumerate}\n",
       "\n",
       "\\item \\begin{enumerate}\n",
       "\\item 53.3622183879998\n",
       "\\item 55.8347730093163\n",
       "\\item 73.1637676318904\n",
       "\\item 56.0781902112229\n",
       "\\item 73.1572578164359\n",
       "\\end{enumerate}\n",
       "\n",
       "\\item \\begin{enumerate}\n",
       "\\item 11.0620834702677\n",
       "\\item 10.3470480554671\n",
       "\\item 8.05587952522094\n",
       "\\item 17.7294261235192\n",
       "\\item 15.0189501061895\n",
       "\\end{enumerate}\n",
       "\n",
       "\\item \\begin{enumerate}\n",
       "\\item 8.67244553739956\n",
       "\\item 10.3360691904052\n",
       "\\item 8.15837103880082\n",
       "\\item 8.5518279408904\n",
       "\\item 14.0483733952719\n",
       "\\end{enumerate}\n",
       "\n",
       "\\end{enumerate}\n"
      ],
      "text/markdown": [
       "1. 1. 68.2365007042269\n",
       "2. 82.4379518900451\n",
       "3. 79.4698118045498\n",
       "4. 22.6713809793417\n",
       "5. 11.480257601553\n",
       "\n",
       "\n",
       "\n",
       "2. 1. 52.4852357888603\n",
       "2. 57.3608499526593\n",
       "3. 56.7020398009645\n",
       "4. 36.6511764756333\n",
       "5. 18.5579901891047\n",
       "\n",
       "\n",
       "\n",
       "3. 1. 53.3622183879998\n",
       "2. 55.8347730093163\n",
       "3. 73.1637676318904\n",
       "4. 56.0781902112229\n",
       "5. 73.1572578164359\n",
       "\n",
       "\n",
       "\n",
       "4. 1. 11.0620834702677\n",
       "2. 10.3470480554671\n",
       "3. 8.05587952522094\n",
       "4. 17.7294261235192\n",
       "5. 15.0189501061895\n",
       "\n",
       "\n",
       "\n",
       "5. 1. 8.67244553739956\n",
       "2. 10.3360691904052\n",
       "3. 8.15837103880082\n",
       "4. 8.5518279408904\n",
       "5. 14.0483733952719\n",
       "\n",
       "\n",
       "\n",
       "\n",
       "\n"
      ],
      "text/plain": [
       "[[1]]\n",
       "[[1]][[1]]\n",
       "[1] 68.2365\n",
       "\n",
       "[[1]][[2]]\n",
       "[1] 82.43795\n",
       "\n",
       "[[1]][[3]]\n",
       "[1] 79.46981\n",
       "\n",
       "[[1]][[4]]\n",
       "[1] 22.67138\n",
       "\n",
       "[[1]][[5]]\n",
       "[1] 11.48026\n",
       "\n",
       "\n",
       "[[2]]\n",
       "[[2]][[1]]\n",
       "[1] 52.48524\n",
       "\n",
       "[[2]][[2]]\n",
       "[1] 57.36085\n",
       "\n",
       "[[2]][[3]]\n",
       "[1] 56.70204\n",
       "\n",
       "[[2]][[4]]\n",
       "[1] 36.65118\n",
       "\n",
       "[[2]][[5]]\n",
       "[1] 18.55799\n",
       "\n",
       "\n",
       "[[3]]\n",
       "[[3]][[1]]\n",
       "[1] 53.36222\n",
       "\n",
       "[[3]][[2]]\n",
       "[1] 55.83477\n",
       "\n",
       "[[3]][[3]]\n",
       "[1] 73.16377\n",
       "\n",
       "[[3]][[4]]\n",
       "[1] 56.07819\n",
       "\n",
       "[[3]][[5]]\n",
       "[1] 73.15726\n",
       "\n",
       "\n",
       "[[4]]\n",
       "[[4]][[1]]\n",
       "[1] 11.06208\n",
       "\n",
       "[[4]][[2]]\n",
       "[1] 10.34705\n",
       "\n",
       "[[4]][[3]]\n",
       "[1] 8.05588\n",
       "\n",
       "[[4]][[4]]\n",
       "[1] 17.72943\n",
       "\n",
       "[[4]][[5]]\n",
       "[1] 15.01895\n",
       "\n",
       "\n",
       "[[5]]\n",
       "[[5]][[1]]\n",
       "[1] 8.672446\n",
       "\n",
       "[[5]][[2]]\n",
       "[1] 10.33607\n",
       "\n",
       "[[5]][[3]]\n",
       "[1] 8.158371\n",
       "\n",
       "[[5]][[4]]\n",
       "[1] 8.551828\n",
       "\n",
       "[[5]][[5]]\n",
       "[1] 14.04837\n",
       "\n"
      ]
     },
     "metadata": {},
     "output_type": "display_data"
    }
   ],
   "source": [
    "auprc_ratio_list"
   ]
  },
  {
   "cell_type": "markdown",
   "metadata": {},
   "source": [
    "### Calculate global AUPRC ratios"
   ]
  },
  {
   "cell_type": "code",
   "execution_count": 7,
   "metadata": {},
   "outputs": [],
   "source": [
    "#Baseline\n",
    "auprc_baseline <- c()\n",
    "for (i in 1:length(pos_num)) {\n",
    "    curr_pos <- pos_num[[i]]\n",
    "    curr_neg <- neg_num[[i]]\n",
    "    curr_base <- curr_pos/curr_neg\n",
    "    auprc_baseline <- cbind(auprc_baseline, curr_base)\n",
    "}\n",
    "#Ratio\n",
    "auprc_ratio <- c()\n",
    "for (i in 1:length(auprc_baseline)) {\n",
    "    curr_base <- auprc_baseline[[i]]\n",
    "    curr_auprc <- AUPRC[[i]]\n",
    "    curr_ratio <- curr_auprc/curr_base\n",
    "    auprc_ratio <- cbind(auprc_ratio, curr_ratio)\n",
    "}"
   ]
  },
  {
   "cell_type": "code",
   "execution_count": 13,
   "metadata": {},
   "outputs": [
    {
     "data": {
      "text/html": [
       "<table>\n",
       "<thead><tr><th scope=col>curr_base</th><th scope=col>curr_base</th><th scope=col>curr_base</th><th scope=col>curr_base</th><th scope=col>curr_base</th></tr></thead>\n",
       "<tbody>\n",
       "\t<tr><td>0.005649588</td><td>0.009046577</td><td>0.008856927</td><td>0.01060698 </td><td>0.02523167 </td></tr>\n",
       "</tbody>\n",
       "</table>\n"
      ],
      "text/latex": [
       "\\begin{tabular}{lllll}\n",
       " curr\\_base & curr\\_base & curr\\_base & curr\\_base & curr\\_base\\\\\n",
       "\\hline\n",
       "\t 0.005649588 & 0.009046577 & 0.008856927 & 0.01060698  & 0.02523167 \\\\\n",
       "\\end{tabular}\n"
      ],
      "text/markdown": [
       "\n",
       "curr_base | curr_base | curr_base | curr_base | curr_base | \n",
       "|---|\n",
       "| 0.005649588 | 0.009046577 | 0.008856927 | 0.01060698  | 0.02523167  | \n",
       "\n",
       "\n"
      ],
      "text/plain": [
       "     curr_base   curr_base   curr_base   curr_base  curr_base \n",
       "[1,] 0.005649588 0.009046577 0.008856927 0.01060698 0.02523167"
      ]
     },
     "metadata": {},
     "output_type": "display_data"
    }
   ],
   "source": [
    "auprc_baseline"
   ]
  },
  {
   "cell_type": "markdown",
   "metadata": {},
   "source": [
    "### Create a table for plotting folds boxplots"
   ]
  },
  {
   "cell_type": "code",
   "execution_count": 9,
   "metadata": {},
   "outputs": [
    {
     "name": "stderr",
     "output_type": "stream",
     "text": [
      "Warning message in data.row.names(row.names, rowsi, i):\n",
      "“some row.names duplicated: 2,3,4,5,6,7,8,9,10,11,12,13,14,15,16,17,18,19,20,21,22,23,24,25 --> row.names NOT used”"
     ]
    }
   ],
   "source": [
    "fold_auprc_ratio <- c()\n",
    "ligands_names <- c()\n",
    "for (i in 1:length(ligands_list)) {\n",
    "    ligand <- ligands_list[[i]] \n",
    "    for (j in 1:folds) {\n",
    "        fold_auprc_ratio <- rbind(fold_auprc_ratio, auprc_ratio_list[[i]][[j]])\n",
    "        ligands_names <- rbind(ligands_names, ligand)\n",
    "    }\n",
    "}\n",
    "folds_auprc_ratio_table <- data.frame(fold_auprc_ratio, ligands_names)  \n",
    "colnames(folds_auprc_ratio_table) <- c(\"auprc\", \"ligand\")\n",
    "\n",
    "#Arrange factor models order\n",
    "folds_auprc_ratio_table$ligand <- factor(folds_auprc_ratio_table$ligand, levels =c(\"rna\", \"dna\", \"ion\", \"peptide\", \"sm\"), labels=c(\"RNA\", \"DNA\", \"ion\", \"peptide\", \"small molecule\"))"
   ]
  },
  {
   "cell_type": "code",
   "execution_count": 10,
   "metadata": {},
   "outputs": [
    {
     "data": {},
     "metadata": {},
     "output_type": "display_data"
    },
    {
     "data": {
      "image/png": "[encoded data removed]",
      "text/plain": [
       "plot without title"
      ]
     },
     "metadata": {},
     "output_type": "display_data"
    }
   ],
   "source": [
    "#Looking at boxplots median, RNA looks better than ion\n",
    "options(repr.plot.width=6, repr.plot.height=4)\n",
    "colors_list <- c(\"#e41a1c\", \"#377eb8\", \"#4daf4a\", \"#984ea3\", \"#ff7f00\")\n",
    "\n",
    "ggplot(folds_auprc_ratio_table, aes(x=ligand, y=auprc, fill=ligand)) +\n",
    "    geom_boxplot(aes(fill=ligand), outlier.shape = 21, outlier.colour = NA) +\n",
    "    scale_fill_manual(values = colors_list) +\n",
    "    geom_jitter(size=1.5, color=\"black\") +\n",
    "    theme_bw()\n",
    "    "
   ]
  },
  {
   "cell_type": "markdown",
   "metadata": {},
   "source": [
    "### Plotting global AUPRC mean with std"
   ]
  },
  {
   "cell_type": "code",
   "execution_count": 11,
   "metadata": {},
   "outputs": [
    {
     "data": {},
     "metadata": {},
     "output_type": "display_data"
    },
    {
     "data": {
      "text/html": [
       "<strong>png:</strong> 2"
      ],
      "text/latex": [
       "\\textbf{png:} 2"
      ],
      "text/markdown": [
       "**png:** 2"
      ],
      "text/plain": [
       "png \n",
       "  2 "
      ]
     },
     "metadata": {},
     "output_type": "display_data"
    },
    {
     "data": {},
     "metadata": {},
     "output_type": "display_data"
    },
    {
     "data": {
      "image/png": "[encoded data removed]",
      "text/plain": [
       "plot without title"
      ]
     },
     "metadata": {},
     "output_type": "display_data"
    }
   ],
   "source": [
    "auprc_ratio_mean_plot <- ggplot(folds_auprc_ratio_table, aes(x=ligand, y=auprc, fill=ligand)) +\n",
    "    geom_bar(stat = \"summary\", fun.y = \"mean\") +\n",
    "    scale_fill_manual(values = colors_list) +\n",
    "    stat_summary(fun.data=mean_sdl, fun.args = list(mult=1), geom=\"errorbar\", width=0.2) +\n",
    "    xlab(\"\") +\n",
    "    ylab(\"\") +\n",
    "    #coord_flip() +\n",
    "    ggtitle(\"Mean AUPRC fold improvment\") +\n",
    "    theme_bw() +\n",
    "    theme(axis.text.x = element_blank(),\n",
    "         axis.ticks.x = element_blank(),\n",
    "         panel.grid.major.x = element_blank(),\n",
    "         plot.title = element_text(hjust = 0.5))\n",
    "\n",
    "#Save plot\n",
    "options(repr.plot.width=4, repr.plot.height=6)\n",
    "svg(\"plots/auprc_ratio_means_bars.svg\", width=4, height=6)\n",
    "final_fig <- ggarrange(plotlist=list(auprc_ratio_mean_plot), ncol = 1, nrow=1, common.legend = TRUE, legend=\"bottom\")\n",
    "final_fig\n",
    "dev.off()\n",
    "final_fig"
   ]
  },
  {
   "cell_type": "code",
   "execution_count": 12,
   "metadata": {},
   "outputs": [
    {
     "data": {
      "text/html": [
       "<table>\n",
       "<thead><tr><th scope=col>auprc</th><th scope=col>ligand</th></tr></thead>\n",
       "<tbody>\n",
       "\t<tr><td>68.236501     </td><td>RNA           </td></tr>\n",
       "\t<tr><td>82.437952     </td><td>RNA           </td></tr>\n",
       "\t<tr><td>79.469812     </td><td>RNA           </td></tr>\n",
       "\t<tr><td>22.671381     </td><td>RNA           </td></tr>\n",
       "\t<tr><td>11.480258     </td><td>RNA           </td></tr>\n",
       "\t<tr><td>52.485236     </td><td>DNA           </td></tr>\n",
       "\t<tr><td>57.360850     </td><td>DNA           </td></tr>\n",
       "\t<tr><td>56.702040     </td><td>DNA           </td></tr>\n",
       "\t<tr><td>36.651176     </td><td>DNA           </td></tr>\n",
       "\t<tr><td>18.557990     </td><td>DNA           </td></tr>\n",
       "\t<tr><td>53.362218     </td><td>ion           </td></tr>\n",
       "\t<tr><td>55.834773     </td><td>ion           </td></tr>\n",
       "\t<tr><td>73.163768     </td><td>ion           </td></tr>\n",
       "\t<tr><td>56.078190     </td><td>ion           </td></tr>\n",
       "\t<tr><td>73.157258     </td><td>ion           </td></tr>\n",
       "\t<tr><td>11.062083     </td><td>peptide       </td></tr>\n",
       "\t<tr><td>10.347048     </td><td>peptide       </td></tr>\n",
       "\t<tr><td> 8.055880     </td><td>peptide       </td></tr>\n",
       "\t<tr><td>17.729426     </td><td>peptide       </td></tr>\n",
       "\t<tr><td>15.018950     </td><td>peptide       </td></tr>\n",
       "\t<tr><td> 8.672446     </td><td>small molecule</td></tr>\n",
       "\t<tr><td>10.336069     </td><td>small molecule</td></tr>\n",
       "\t<tr><td> 8.158371     </td><td>small molecule</td></tr>\n",
       "\t<tr><td> 8.551828     </td><td>small molecule</td></tr>\n",
       "\t<tr><td>14.048373     </td><td>small molecule</td></tr>\n",
       "</tbody>\n",
       "</table>\n"
      ],
      "text/latex": [
       "\\begin{tabular}{r|ll}\n",
       " auprc & ligand\\\\\n",
       "\\hline\n",
       "\t 68.236501      & RNA           \\\\\n",
       "\t 82.437952      & RNA           \\\\\n",
       "\t 79.469812      & RNA           \\\\\n",
       "\t 22.671381      & RNA           \\\\\n",
       "\t 11.480258      & RNA           \\\\\n",
       "\t 52.485236      & DNA           \\\\\n",
       "\t 57.360850      & DNA           \\\\\n",
       "\t 56.702040      & DNA           \\\\\n",
       "\t 36.651176      & DNA           \\\\\n",
       "\t 18.557990      & DNA           \\\\\n",
       "\t 53.362218      & ion           \\\\\n",
       "\t 55.834773      & ion           \\\\\n",
       "\t 73.163768      & ion           \\\\\n",
       "\t 56.078190      & ion           \\\\\n",
       "\t 73.157258      & ion           \\\\\n",
       "\t 11.062083      & peptide       \\\\\n",
       "\t 10.347048      & peptide       \\\\\n",
       "\t  8.055880      & peptide       \\\\\n",
       "\t 17.729426      & peptide       \\\\\n",
       "\t 15.018950      & peptide       \\\\\n",
       "\t  8.672446      & small molecule\\\\\n",
       "\t 10.336069      & small molecule\\\\\n",
       "\t  8.158371      & small molecule\\\\\n",
       "\t  8.551828      & small molecule\\\\\n",
       "\t 14.048373      & small molecule\\\\\n",
       "\\end{tabular}\n"
      ],
      "text/markdown": [
       "\n",
       "auprc | ligand | \n",
       "|---|---|---|---|---|---|---|---|---|---|---|---|---|---|---|---|---|---|---|---|---|---|---|---|---|\n",
       "| 68.236501      | RNA            | \n",
       "| 82.437952      | RNA            | \n",
       "| 79.469812      | RNA            | \n",
       "| 22.671381      | RNA            | \n",
       "| 11.480258      | RNA            | \n",
       "| 52.485236      | DNA            | \n",
       "| 57.360850      | DNA            | \n",
       "| 56.702040      | DNA            | \n",
       "| 36.651176      | DNA            | \n",
       "| 18.557990      | DNA            | \n",
       "| 53.362218      | ion            | \n",
       "| 55.834773      | ion            | \n",
       "| 73.163768      | ion            | \n",
       "| 56.078190      | ion            | \n",
       "| 73.157258      | ion            | \n",
       "| 11.062083      | peptide        | \n",
       "| 10.347048      | peptide        | \n",
       "|  8.055880      | peptide        | \n",
       "| 17.729426      | peptide        | \n",
       "| 15.018950      | peptide        | \n",
       "|  8.672446      | small molecule | \n",
       "| 10.336069      | small molecule | \n",
       "|  8.158371      | small molecule | \n",
       "|  8.551828      | small molecule | \n",
       "| 14.048373      | small molecule | \n",
       "\n",
       "\n"
      ],
      "text/plain": [
       "   auprc     ligand        \n",
       "1  68.236501 RNA           \n",
       "2  82.437952 RNA           \n",
       "3  79.469812 RNA           \n",
       "4  22.671381 RNA           \n",
       "5  11.480258 RNA           \n",
       "6  52.485236 DNA           \n",
       "7  57.360850 DNA           \n",
       "8  56.702040 DNA           \n",
       "9  36.651176 DNA           \n",
       "10 18.557990 DNA           \n",
       "11 53.362218 ion           \n",
       "12 55.834773 ion           \n",
       "13 73.163768 ion           \n",
       "14 56.078190 ion           \n",
       "15 73.157258 ion           \n",
       "16 11.062083 peptide       \n",
       "17 10.347048 peptide       \n",
       "18  8.055880 peptide       \n",
       "19 17.729426 peptide       \n",
       "20 15.018950 peptide       \n",
       "21  8.672446 small molecule\n",
       "22 10.336069 small molecule\n",
       "23  8.158371 small molecule\n",
       "24  8.551828 small molecule\n",
       "25 14.048373 small molecule"
      ]
     },
     "metadata": {},
     "output_type": "display_data"
    }
   ],
   "source": [
    "folds_auprc_ratio_table"
   ]
  },
  {
   "cell_type": "code",
   "execution_count": null,
   "metadata": {},
   "outputs": [],
   "source": []
  }
 ],
 "metadata": {
  "kernelspec": {
   "display_name": "R",
   "language": "R",
   "name": "ir"
  },
  "language_info": {
   "codemirror_mode": "r",
   "file_extension": ".r",
   "mimetype": "text/x-r-source",
   "name": "R",
   "pygments_lexer": "r",
   "version": "3.4.4"
  }
 },
 "nbformat": 4,
 "nbformat_minor": 2
}
