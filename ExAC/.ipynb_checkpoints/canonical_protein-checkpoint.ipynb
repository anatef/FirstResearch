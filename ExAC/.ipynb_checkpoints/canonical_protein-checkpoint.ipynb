{
 "cells": [
  {
   "cell_type": "code",
   "execution_count": 1,
   "metadata": {
    "collapsed": false
   },
   "outputs": [
    {
     "data": {
      "text/html": [
       "<style>.container { width:100% !important; }</style>"
      ],
      "text/plain": [
       "<IPython.core.display.HTML object>"
      ]
     },
     "execution_count": 1,
     "metadata": {},
     "output_type": "execute_result"
    }
   ],
   "source": [
    "#Import packages\n",
    "import pandas as pd\n",
    "import numpy as np\n",
    "from biomart import BiomartServer\n",
    "import json\n",
    "import pickle\n",
    "from IPython.core.display import HTML\n",
    "HTML(\"<style>.container { width:100% !important; }</style>\")"
   ]
  },
  {
   "cell_type": "code",
   "execution_count": 2,
   "metadata": {
    "collapsed": true
   },
   "outputs": [],
   "source": [
    "#Reading the Zinc-finger domain data\n",
    "curr_dir = !pwd\n",
    "my_path = curr_dir[0]+\"/hmm_domains/\"\n",
    "#filename = \"zf-C2H2.csv\"\n",
    "filename = \"Homeobox.csv\"\n",
    "domain_data = pd.read_csv(my_path+filename, sep='\\t', index_col=0)"
   ]
  },
  {
   "cell_type": "code",
   "execution_count": 3,
   "metadata": {
    "collapsed": true
   },
   "outputs": [],
   "source": [
    "#Importing Biomart database\n",
    "server = BiomartServer(\"http://grch37.ensembl.org/biomart\")\n",
    "ens_genes = server.datasets[u'hsapiens_gene_ensembl']"
   ]
  },
  {
   "cell_type": "code",
   "execution_count": 4,
   "metadata": {
    "collapsed": true
   },
   "outputs": [],
   "source": [
    "#Return the Uniprot id for querying json entries in Uniprot, or \"\" if not found\n",
    "def get_uniprot_id(ensembl_id):\n",
    "    #Querying the Biomart database to get number of matches\n",
    "    num = ens_genes.count({\n",
    "        'filters': {\n",
    "                'ensembl_gene_id': ensembl_id\n",
    "        },\n",
    "        'attributes': [\n",
    "                'uniprot_swissprot'\n",
    "        ]\n",
    "    })\n",
    "\n",
    "    #In case no match is found\n",
    "    if (num == 0):\n",
    "        return \"\"\n",
    "\n",
    "    #In case of at least one match: querying the Biomart database\n",
    "    response = ens_genes.search({\n",
    "        'filters': {\n",
    "                'ensembl_gene_id': ensembl_id\n",
    "        },\n",
    "        'attributes': [\n",
    "                'uniprot_swissprot'\n",
    "        ]\n",
    "    })\n",
    "\n",
    "    #Reading the query result\n",
    "    uniprot_id = \"\"\n",
    "    for line in response.iter_lines():\n",
    "        line = line.decode('utf-8')\n",
    "        uniprot_id = (line.split(\"\\t\")[0]).encode('ascii','ignore')\n",
    "        break\n",
    "    \n",
    "    return uniprot_id"
   ]
  },
  {
   "cell_type": "code",
   "execution_count": 5,
   "metadata": {
    "collapsed": true
   },
   "outputs": [],
   "source": [
    "def find_longest_prot(prot_ids):\n",
    "    max_len = 0\n",
    "    max_prot_id = \"\"\n",
    "    for prot in prot_ids:\n",
    "        prot_lens = (gene_table[gene_table[\"prot_id\"] == prot][\"length\"]).unique()\n",
    "        if (len(prot_lens) > 1):\n",
    "            print \"Error: more than one length fir protein id: \"+prot #Sanity check\n",
    "        if (prot_lens[0] > max_len):\n",
    "            max_len = prot_lens[0]\n",
    "            max_prot_id = prot\n",
    "    return max_prot_id"
   ]
  },
  {
   "cell_type": "code",
   "execution_count": 6,
   "metadata": {
    "collapsed": true
   },
   "outputs": [],
   "source": [
    "#Create a dictionary of the canonical transcipt ids and protein ids\n",
    "#canonic_transcript = {}\n",
    "canonic_protein = {}\n",
    "genes_ids = (domain_data[\"ensembl_id\"]).unique()\n",
    "no_uniprot = 0\n",
    "no_canonic_len = 0"
   ]
  },
  {
   "cell_type": "code",
   "execution_count": 7,
   "metadata": {
    "collapsed": false
   },
   "outputs": [
    {
     "name": "stdout",
     "output_type": "stream",
     "text": [
      "ENSG00000234669: Proteins don't match the Uniprot canonic\n",
      "ENSG00000148516: Proteins don't match the Uniprot canonic\n",
      "ENSG00000184937: Proteins don't match the Uniprot canonic\n",
      "ENSG00000147124: Proteins don't match the Uniprot canonic\n",
      "ENSG00000130544: Proteins don't match the Uniprot canonic\n",
      "ENSG00000170954: Proteins don't match the Uniprot canonic\n",
      "ENSG00000203326: Proteins don't match the Uniprot canonic\n",
      "ENSG00000164011: Proteins don't match the Uniprot canonic\n",
      "ENSG00000171606: Proteins don't match the Uniprot canonic\n",
      "ENSG00000066827: Proteins don't match the Uniprot canonic\n",
      "ENSG00000263310: uniprot wasn't found for ENSG00000263310\n",
      "ENSG00000170325: Proteins don't match the Uniprot canonic\n",
      "ENSG00000272602: uniprot wasn't found for ENSG00000272602\n",
      "ENSG00000167840: Proteins don't match the Uniprot canonic\n",
      "ENSG00000187607: uniprot wasn't found for ENSG00000187607\n",
      "ENSG00000030419: Proteins don't match the Uniprot canonic\n",
      "ENSG00000063587: Proteins don't match the Uniprot canonic\n",
      "ENSG00000141040: Proteins don't match the Uniprot canonic\n",
      "ENSG00000196381: Proteins don't match the Uniprot canonic\n",
      "ENSG00000089335: Proteins don't match the Uniprot canonic\n",
      "ENSG00000256463: Proteins don't match the Uniprot canonic\n",
      "ENSG00000124782: Proteins don't match the Uniprot canonic\n"
     ]
    }
   ],
   "source": [
    "for i in range(len(genes_ids)):\n",
    "    ens_gene = genes_ids[i]\n",
    "    gene_table = domain_data[domain_data[\"ensembl_id\"] == ens_gene]\n",
    "    protein_ids = (gene_table[\"prot_id\"]).unique()\n",
    "\n",
    "    if (len(protein_ids) == 1):\n",
    "        #Saving the one protein id available\n",
    "        canonic_protein[ens_gene] = protein_ids[0]\n",
    "\n",
    "    #If there's more then one transcript: finding what's the canonic protein length from uniprot\n",
    "    else:\n",
    "        uniprot_id = get_uniprot_id(ens_gene)\n",
    "        if (uniprot_id == \"\"):\n",
    "            print ens_gene+\": uniprot wasn't found for \"+ens_gene\n",
    "            canonic_protein[ens_gene] = find_longest_prot(protein_ids)\n",
    "            no_uniprot += 1\n",
    "            continue\n",
    "        uniprot_url = \"http://togows.dbcls.jp/entry/uniprot/\"+uniprot_id+\".json\"\n",
    "        uniprot_json = pd.read_json(uniprot_url)\n",
    "        canonic_len = uniprot_json.aalen[0]\n",
    "\n",
    "        found = False\n",
    "        for prot in protein_ids:\n",
    "            prot_lens = (gene_table[gene_table[\"prot_id\"] == prot][\"length\"]).unique()\n",
    "            if (len(prot_lens) > 1):\n",
    "                print \"Error: more than one length for protein id: \"+prot #Sanity check\n",
    "\n",
    "            #If the length equal the canonical, this is the canonical protein id\n",
    "            if (prot_lens[0] == canonic_len):\n",
    "                found = True\n",
    "                canonic_protein[ens_gene] = prot\n",
    "                break\n",
    "\n",
    "        if (found == False):\n",
    "            print ens_gene+\": Proteins don't match the Uniprot canonic\"\n",
    "            no_canonic_len += 1\n",
    "            canonic_protein[ens_gene] = find_longest_prot(protein_ids)"
   ]
  },
  {
   "cell_type": "code",
   "execution_count": 9,
   "metadata": {
    "collapsed": false
   },
   "outputs": [],
   "source": [
    "with open(my_path+'zinc_canonic_prot.pik', 'wb') as handle:\n",
    "    pickle.dump(canonic_protein, handle, protocol=pickle.HIGHEST_PROTOCOL)"
   ]
  },
  {
   "cell_type": "code",
   "execution_count": null,
   "metadata": {
    "collapsed": true
   },
   "outputs": [],
   "source": [
    "#Printouts from creating the canonic dictionary\n",
    "ENSG00000234669: Proteins don't match the Uniprot canonic\n",
    "ENSG00000148516: Proteins don't match the Uniprot canonic\n",
    "ENSG00000184937: Proteins don't match the Uniprot canonic\n",
    "ENSG00000147124: Proteins don't match the Uniprot canonic\n",
    "ENSG00000130544: Proteins don't match the Uniprot canonic\n",
    "ENSG00000170954: Proteins don't match the Uniprot canonic\n",
    "ENSG00000203326: Proteins don't match the Uniprot canonic\n",
    "ENSG00000164011: Proteins don't match the Uniprot canonic\n",
    "ENSG00000171606: Proteins don't match the Uniprot canonic\n",
    "ENSG00000066827: Proteins don't match the Uniprot canonic\n",
    "ENSG00000263310: uniprot wasn't found for ENSG00000263310\n",
    "ENSG00000170325: Proteins don't match the Uniprot canonic\n",
    "ENSG00000272602: uniprot wasn't found for ENSG00000272602\n",
    "ENSG00000167840: Proteins don't match the Uniprot canonic\n",
    "ENSG00000187607: uniprot wasn't found for ENSG00000187607\n",
    "ENSG00000030419: Proteins don't match the Uniprot canonic\n",
    "ENSG00000063587: Proteins don't match the Uniprot canonic\n",
    "ENSG00000141040: Proteins don't match the Uniprot canonic\n",
    "ENSG00000196381: Proteins don't match the Uniprot canonic\n",
    "ENSG00000089335: Proteins don't match the Uniprot canonic\n",
    "ENSG00000256463: Proteins don't match the Uniprot canonic\n",
    "ENSG00000124782: Proteins don't match the Uniprot canonic"
   ]
  }
 ],
 "metadata": {
  "kernelspec": {
   "display_name": "Python 2",
   "language": "python",
   "name": "python2"
  },
  "language_info": {
   "codemirror_mode": {
    "name": "ipython",
    "version": 2
   },
   "file_extension": ".py",
   "mimetype": "text/x-python",
   "name": "python",
   "nbconvert_exporter": "python",
   "pygments_lexer": "ipython2",
   "version": "2.7.10"
  }
 },
 "nbformat": 4,
 "nbformat_minor": 0
}
