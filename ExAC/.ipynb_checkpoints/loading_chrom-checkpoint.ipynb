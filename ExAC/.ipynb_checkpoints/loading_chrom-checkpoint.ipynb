{
 "cells": [
  {
   "cell_type": "code",
   "execution_count": 1,
   "metadata": {
    "collapsed": false
   },
   "outputs": [
    {
     "data": {
      "text/html": [
       "<style>.container { width:100% !important; }</style>"
      ],
      "text/plain": [
       "<IPython.core.display.HTML object>"
      ]
     },
     "execution_count": 1,
     "metadata": {},
     "output_type": "execute_result"
    }
   ],
   "source": [
    "import pandas as pd\n",
    "import numpy as np\n",
    "from IPython.core.display import HTML\n",
    "HTML(\"<style>.container { width:100% !important; }</style>\")"
   ]
  },
  {
   "cell_type": "code",
   "execution_count": 2,
   "metadata": {
    "collapsed": true
   },
   "outputs": [],
   "source": [
    "curr_dir = !pwd\n",
    "my_path = curr_dir[0]+\"/parsed/\"\n",
    "filename = \"parsed_chrom\""
   ]
  },
  {
   "cell_type": "code",
   "execution_count": 3,
   "metadata": {
    "collapsed": false
   },
   "outputs": [
    {
     "name": "stderr",
     "output_type": "stream",
     "text": [
      "/home/anat/anaconda2/lib/python2.7/site-packages/IPython/core/interactiveshell.py:2723: DtypeWarning: Columns (29) have mixed types. Specify dtype option on import or set low_memory=False.\n",
      "  interactivity=interactivity, compiler=compiler, result=result)\n"
     ]
    }
   ],
   "source": [
    "chrom_csv = pd.read_csv(my_path+filename+\"19.csv\", sep='\\t', index_col=0)\n",
    "chrom_csv = chrom_csv.sort_values(by=[\"pos\"])\n",
    "chrom_csv = chrom_csv.reset_index(drop=True)\n",
    "chrom_csv.fillna('', inplace=True)"
   ]
  },
  {
   "cell_type": "code",
   "execution_count": 5,
   "metadata": {
    "collapsed": false
   },
   "outputs": [
    {
     "name": "stderr",
     "output_type": "stream",
     "text": [
      "/home/anat/anaconda2/lib/python2.7/site-packages/pandas/core/frame.py:1997: UserWarning: Boolean Series key will be reindexed to match DataFrame index.\n",
      "  \"DataFrame index.\", UserWarning)\n"
     ]
    },
    {
     "data": {
      "text/plain": [
       "{'AC': {651: '2'},\n",
       " 'AC_Adj': {651: '0'},\n",
       " 'AF': {651: '1.254e-04'},\n",
       " 'AN': {651: 15954},\n",
       " 'AN_Adj': {651: 3550},\n",
       " 'DP': {651: 82169},\n",
       " 'ENSP': {651: ''},\n",
       " 'PolyPhen': {651: ''},\n",
       " 'SIFT': {651: ''},\n",
       " 'SWISSPROT': {651: ''},\n",
       " 'alt': {651: 'A'},\n",
       " 'amino_acids': {651: ''},\n",
       " 'chrom': {651: 1},\n",
       " 'clin_sig': {651: ''},\n",
       " 'codons': {651: ''},\n",
       " 'conseq': {651: 'intron_variant&non_coding_transcript_variant'},\n",
       " 'domains': {651: ''},\n",
       " 'exon': {651: ''},\n",
       " 'feature': {651: 'ENST00000588951'},\n",
       " 'feature_type': {651: 'Transcript'},\n",
       " 'filter': {651: 'AC_Adj0_Filter'},\n",
       " 'gene': {651: 'ENSG00000237491'},\n",
       " 'id': {651: '.'},\n",
       " 'intron': {651: '1/3'},\n",
       " 'pos': {651: 721371},\n",
       " 'prot_pos': {651: ''},\n",
       " 'qual': {651: 6892.1400000000003},\n",
       " 'ref': {651: 'G'},\n",
       " 'strand': {651: 1.0}}"
      ]
     },
     "execution_count": 5,
     "metadata": {},
     "output_type": "execute_result"
    }
   ],
   "source": [
    "chrom_csv[chrom_csv[\"pos\"] == 721371][chrom_csv[\"feature\"] == \"ENST00000588951\"].to_dict()"
   ]
  },
  {
   "cell_type": "code",
   "execution_count": 4,
   "metadata": {
    "collapsed": false
   },
   "outputs": [
    {
     "data": {
      "text/plain": [
       "Index([u'chrom', u'pos', u'id', u'ref', u'alt', u'qual', u'filter', u'AC',\n",
       "       u'AC_Adj', u'AF', u'AN', u'AN_Adj', u'DP', u'gene', u'feature',\n",
       "       u'feature_type', u'conseq', u'prot_pos', u'amino_acids', u'codons',\n",
       "       u'strand', u'ENSP', u'SWISSPROT', u'SIFT', u'PolyPhen', u'exon',\n",
       "       u'intron', u'domains', u'clin_sig'],\n",
       "      dtype='object')"
      ]
     },
     "execution_count": 4,
     "metadata": {},
     "output_type": "execute_result"
    }
   ],
   "source": [
    "chrom_csv.columns"
   ]
  },
  {
   "cell_type": "code",
   "execution_count": 21,
   "metadata": {
    "collapsed": false
   },
   "outputs": [
    {
     "data": {
      "text/plain": [
       "{'AC': {0: 1300, 1: 1300, 2: 1300, 3: 1300},\n",
       " 'AC_Adj': {0: 208, 1: 208, 2: 208, 3: 208},\n",
       " 'AF': {0: 0.075999999999999998,\n",
       "  1: 0.075999999999999998,\n",
       "  2: 0.075999999999999998,\n",
       "  3: 0.075999999999999998},\n",
       " 'AN': {0: 17130, 1: 17130, 2: 17130, 3: 17130},\n",
       " 'AN_Adj': {0: 1146, 1: 1146, 2: 1146, 3: 1146},\n",
       " 'DP': {0: 35898, 1: 35898, 2: 35898, 3: 35898},\n",
       " 'PolyPhen': {0: '', 1: '', 2: '', 3: ''},\n",
       " 'SIFT': {0: '', 1: '', 2: '', 3: ''},\n",
       " 'SWISSPROT': {0: '', 1: '', 2: '', 3: ''},\n",
       " 'alt': {0: 'CGAGA', 1: 'CGAGA', 2: 'CGAGA', 3: 'CGAGA'},\n",
       " 'amino_acids': {0: '', 1: '', 2: '', 3: ''},\n",
       " 'chrom': {0: 1, 1: 1, 2: 1, 3: 1},\n",
       " 'clin_sig': {0: '', 1: '', 2: '', 3: ''},\n",
       " 'codons': {0: '', 1: '', 2: '', 3: ''},\n",
       " 'conseq': {0: 'non_coding_transcript_exon_variant&non_coding_transcript_variant&feature_elongation',\n",
       "  1: 'intron_variant&non_coding_transcript_variant&feature_elongation',\n",
       "  2: 'non_coding_transcript_exon_variant&non_coding_transcript_variant&feature_elongation',\n",
       "  3: 'non_coding_transcript_exon_variant&non_coding_transcript_variant&feature_elongation'},\n",
       " 'domains': {0: '', 1: '', 2: '', 3: ''},\n",
       " 'exon': {0: '3/3', 1: '', 2: '3/3', 3: '3/4'},\n",
       " 'feature': {0: 'ENST00000456328',\n",
       "  1: 'ENST00000450305',\n",
       "  2: 'ENST00000515242',\n",
       "  3: 'ENST00000518655'},\n",
       " 'feature_type': {0: 'Transcript',\n",
       "  1: 'Transcript',\n",
       "  2: 'Transcript',\n",
       "  3: 'Transcript'},\n",
       " 'filter': {0: 'PASS', 1: 'PASS', 2: 'PASS', 3: 'PASS'},\n",
       " 'gene': {0: 'ENSG00000223972',\n",
       "  1: 'ENSG00000223972',\n",
       "  2: 'ENSG00000223972',\n",
       "  3: 'ENSG00000223972'},\n",
       " 'id': {0: '.', 1: '.', 2: '.', 3: '.'},\n",
       " 'intron': {0: '', 1: '5/5', 2: '', 3: ''},\n",
       " 'pos': {0: 13417, 1: 13417, 2: 13417, 3: 13417},\n",
       " 'prot_pos': {0: '', 1: '', 2: '', 3: ''},\n",
       " 'qual': {0: 258189.04000000001,\n",
       "  1: 258189.04000000001,\n",
       "  2: 258189.04000000001,\n",
       "  3: 258189.04000000001},\n",
       " 'ref': {0: 'C', 1: 'C', 2: 'C', 3: 'C'}}"
      ]
     },
     "execution_count": 21,
     "metadata": {},
     "output_type": "execute_result"
    }
   ],
   "source": [
    "chrom_csv.to_dict()"
   ]
  },
  {
   "cell_type": "code",
   "execution_count": 41,
   "metadata": {
    "collapsed": false
   },
   "outputs": [
    {
     "data": {
      "text/plain": [
       "'VQSRTrancheSNP99.60to99.80'"
      ]
     },
     "execution_count": 41,
     "metadata": {},
     "output_type": "execute_result"
    }
   ],
   "source": [
    "chrom_csv[\"filter\"][4]"
   ]
  },
  {
   "cell_type": "code",
   "execution_count": 38,
   "metadata": {
    "collapsed": false
   },
   "outputs": [
    {
     "data": {
      "text/plain": [
       "'1.251e-04,6.253e-05'"
      ]
     },
     "execution_count": 38,
     "metadata": {},
     "output_type": "execute_result"
    }
   ],
   "source": [
    "chrom_csv[\"AF\"][4]"
   ]
  },
  {
   "cell_type": "code",
   "execution_count": 9,
   "metadata": {
    "collapsed": false
   },
   "outputs": [
    {
     "name": "stdout",
     "output_type": "stream",
     "text": [
      "26004\n",
      "26055\n",
      "26126\n",
      "30753\n",
      "78855\n",
      "102605\n",
      "102606\n",
      "102617\n",
      "102625\n",
      "102632\n",
      "102643\n",
      "102656\n",
      "102667\n",
      "102675\n",
      "102679\n",
      "102681\n",
      "102684\n",
      "160587\n",
      "319328\n",
      "359558\n",
      "366074\n",
      "366101\n",
      "366104\n",
      "469273\n",
      "470566\n",
      "473008\n",
      "477273\n",
      "477279\n",
      "494229\n",
      "512426\n",
      "512438\n",
      "548100\n",
      "548132\n",
      "548141\n",
      "548143\n",
      "548157\n",
      "548172\n",
      "605802\n",
      "634593\n",
      "634594\n",
      "634597\n",
      "634599\n",
      "643216\n",
      "721113\n",
      "722126\n",
      "722130\n",
      "763692\n",
      "773423\n",
      "773424\n",
      "773425\n",
      "794200\n",
      "794201\n",
      "794205\n",
      "914625\n",
      "915916\n",
      "1092230\n",
      "1151582\n",
      "1154498\n",
      "1154500\n",
      "1250923\n",
      "1273211\n",
      "1303594\n",
      "1310891\n",
      "1311161\n",
      "1311163\n",
      "1320868\n",
      "1450510\n",
      "1450517\n",
      "1523203\n",
      "1548268\n",
      "1628255\n",
      "1646297\n",
      "1874037\n",
      "1883910\n",
      "1883911\n",
      "1883913\n",
      "1883921\n",
      "1883930\n",
      "1942304\n",
      "2039255\n",
      "2111457\n",
      "2176304\n",
      "2176313\n",
      "2176525\n",
      "2200567\n",
      "2243521\n",
      "2243522\n",
      "2308606\n",
      "2343447\n",
      "2367776\n",
      "2408167\n",
      "2408171\n",
      "2408185\n",
      "2408190\n",
      "2408254\n",
      "2408261\n",
      "2408263\n",
      "2476350\n",
      "2539457\n",
      "2539459\n",
      "2539460\n",
      "2539464\n",
      "2539470\n",
      "2539471\n",
      "2554556\n",
      "2554557\n",
      "2554567\n",
      "2554699\n",
      "2554702\n",
      "2554709\n",
      "2554712\n",
      "2554879\n",
      "2554882\n",
      "2554886\n",
      "2719731\n",
      "2721442\n",
      "2722391\n",
      "2722392\n",
      "2722396\n",
      "2722397\n",
      "2722399\n",
      "2728742\n",
      "2764170\n",
      "2764172\n",
      "2764176\n",
      "2773713\n",
      "2796770\n",
      "2796775\n",
      "2810399\n",
      "2940540\n",
      "2940541\n",
      "2940543\n",
      "2952306\n",
      "2965272\n",
      "3074532\n",
      "3075541\n",
      "3075559\n",
      "3076116\n",
      "3076348\n",
      "3076351\n",
      "3080283\n",
      "3080285\n",
      "3093205\n",
      "3094295\n",
      "3111456\n",
      "3258217\n",
      "3258220\n",
      "3258221\n",
      "3258224\n",
      "3258227\n",
      "3258228\n",
      "3258229\n",
      "3258230\n",
      "3258231\n",
      "3258232\n",
      "3258233\n",
      "3258235\n",
      "3258246\n",
      "3258247\n",
      "3258248\n",
      "3258257\n",
      "3258308\n",
      "3258309\n",
      "3337072\n",
      "3337074\n",
      "3337075\n",
      "3396277\n",
      "3400103\n",
      "3554048\n",
      "3554050\n",
      "3554052\n",
      "3554054\n",
      "3554055\n",
      "3554057\n",
      "3562850\n",
      "3562855\n",
      "3562856\n",
      "3562859\n",
      "3574366\n",
      "3613659\n",
      "3613661\n",
      "3613664\n",
      "3613667\n",
      "3613668\n",
      "3613669\n",
      "3613670\n",
      "3719790\n",
      "3817806\n",
      "3817809\n",
      "3905663\n",
      "3963180\n",
      "3966074\n",
      "3966076\n",
      "4014300\n",
      "4014304\n",
      "4014312\n",
      "4046165\n",
      "4046167\n",
      "4161016\n",
      "4161017\n",
      "4161019\n",
      "4161020\n",
      "4161021\n",
      "4161022\n",
      "4161024\n",
      "4161025\n",
      "4161026\n",
      "4161029\n",
      "4161030\n",
      "4161036\n",
      "4161038\n",
      "4161187\n",
      "4161189\n",
      "4161193\n",
      "4191741\n",
      "4229722\n",
      "4229730\n",
      "4231120\n",
      "4384649\n",
      "4384823\n",
      "4386033\n",
      "4386290\n",
      "4389754\n",
      "4390211\n",
      "4390692\n",
      "4390696\n",
      "4391018\n",
      "4391246\n",
      "4391418\n",
      "4391883\n",
      "4392148\n",
      "4392539\n",
      "4392542\n",
      "4392547\n",
      "4392550\n",
      "4392558\n",
      "4392944\n",
      "4393228\n",
      "4393231\n",
      "4393233\n",
      "4394000\n",
      "4394441\n",
      "4394442\n",
      "4394445\n",
      "4394447\n",
      "4394448\n",
      "4394656\n",
      "4394660\n",
      "4394661\n",
      "4394662\n",
      "4394666\n",
      "4395026\n",
      "4395031\n",
      "4395044\n"
     ]
    }
   ],
   "source": [
    "l = chrom_csv[\"alt\"].tolist()\n",
    "for i in range(len(l)):\n",
    "    if (l[i].find(\",\") != -1):\n",
    "        print i"
   ]
  },
  {
   "cell_type": "code",
   "execution_count": 10,
   "metadata": {
    "collapsed": false
   },
   "outputs": [
    {
     "data": {
      "text/plain": [
       "1102460"
      ]
     },
     "execution_count": 10,
     "metadata": {},
     "output_type": "execute_result"
    }
   ],
   "source": [
    "chrom_csv[\"pos\"].tolist()[26004]"
   ]
  },
  {
   "cell_type": "code",
   "execution_count": 11,
   "metadata": {
    "collapsed": false
   },
   "outputs": [
    {
     "data": {
      "text/html": [
       "<div>\n",
       "<table border=\"1\" class=\"dataframe\">\n",
       "  <thead>\n",
       "    <tr style=\"text-align: right;\">\n",
       "      <th></th>\n",
       "      <th>chrom</th>\n",
       "      <th>pos</th>\n",
       "      <th>id</th>\n",
       "      <th>ref</th>\n",
       "      <th>alt</th>\n",
       "      <th>qual</th>\n",
       "      <th>filter</th>\n",
       "      <th>AC</th>\n",
       "      <th>AC_Adj</th>\n",
       "      <th>AF</th>\n",
       "      <th>...</th>\n",
       "      <th>codons</th>\n",
       "      <th>strand</th>\n",
       "      <th>ENSP</th>\n",
       "      <th>SWISSPROT</th>\n",
       "      <th>SIFT</th>\n",
       "      <th>PolyPhen</th>\n",
       "      <th>exon</th>\n",
       "      <th>intron</th>\n",
       "      <th>domains</th>\n",
       "      <th>clin_sig</th>\n",
       "    </tr>\n",
       "  </thead>\n",
       "  <tbody>\n",
       "    <tr>\n",
       "      <th>26004</th>\n",
       "      <td>1</td>\n",
       "      <td>1102460</td>\n",
       "      <td>.</td>\n",
       "      <td>C</td>\n",
       "      <td>T,A</td>\n",
       "      <td>10263.24</td>\n",
       "      <td>PASS</td>\n",
       "      <td>5,4</td>\n",
       "      <td>5,4</td>\n",
       "      <td>4.735e-05,3.788e-05</td>\n",
       "      <td>...</td>\n",
       "      <td></td>\n",
       "      <td></td>\n",
       "      <td></td>\n",
       "      <td></td>\n",
       "      <td></td>\n",
       "      <td></td>\n",
       "      <td></td>\n",
       "      <td></td>\n",
       "      <td></td>\n",
       "      <td></td>\n",
       "    </tr>\n",
       "  </tbody>\n",
       "</table>\n",
       "<p>1 rows × 29 columns</p>\n",
       "</div>"
      ],
      "text/plain": [
       "       chrom      pos id ref  alt      qual filter   AC AC_Adj  \\\n",
       "26004      1  1102460  .   C  T,A  10263.24   PASS  5,4    5,4   \n",
       "\n",
       "                        AF   ...     codons  strand  ENSP SWISSPROT SIFT  \\\n",
       "26004  4.735e-05,3.788e-05   ...                                           \n",
       "\n",
       "      PolyPhen exon intron domains clin_sig  \n",
       "26004                                        \n",
       "\n",
       "[1 rows x 29 columns]"
      ]
     },
     "execution_count": 11,
     "metadata": {},
     "output_type": "execute_result"
    }
   ],
   "source": [
    "chrom_csv[chrom_csv[\"pos\"] == 1102460]"
   ]
  },
  {
   "cell_type": "code",
   "execution_count": null,
   "metadata": {
    "collapsed": true
   },
   "outputs": [],
   "source": []
  }
 ],
 "metadata": {
  "kernelspec": {
   "display_name": "Python 2",
   "language": "python",
   "name": "python2"
  },
  "language_info": {
   "codemirror_mode": {
    "name": "ipython",
    "version": 2
   },
   "file_extension": ".py",
   "mimetype": "text/x-python",
   "name": "python",
   "nbconvert_exporter": "python",
   "pygments_lexer": "ipython2",
   "version": "2.7.10"
  }
 },
 "nbformat": 4,
 "nbformat_minor": 0
}
