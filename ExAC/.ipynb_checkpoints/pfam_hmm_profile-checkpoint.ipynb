{
 "cells": [
  {
   "cell_type": "markdown",
   "metadata": {},
   "source": [
    "## Getting HMM match states emission probabilities"
   ]
  },
  {
   "cell_type": "markdown",
   "metadata": {},
   "source": [
    "09/13/2016 - Parsing a pfam .hmm file, and getting the data corresponding to match states emission probabilities.\n",
    "\n",
    "The data is saved as -log(prob), so later converting it to prob, and saving to file"
   ]
  },
  {
   "cell_type": "code",
   "execution_count": 10,
   "metadata": {
    "collapsed": false
   },
   "outputs": [
    {
     "data": {
      "text/html": [
       "<style>.container { width:100% !important; }</style>"
      ],
      "text/plain": [
       "<IPython.core.display.HTML object>"
      ]
     },
     "execution_count": 10,
     "metadata": {},
     "output_type": "execute_result"
    }
   ],
   "source": [
    "import fileinput\n",
    "import sys\n",
    "import pickle\n",
    "import pandas as pd\n",
    "from collections import defaultdict\n",
    "import numpy as np\n",
    "import pickle\n",
    "from IPython.core.display import HTML\n",
    "HTML(\"<style>.container { width:100% !important; }</style>\")"
   ]
  },
  {
   "cell_type": "code",
   "execution_count": 2,
   "metadata": {
    "collapsed": true
   },
   "outputs": [],
   "source": [
    "curr_dir = !pwd\n",
    "my_path = curr_dir[0]+\"/Pfam/\""
   ]
  },
  {
   "cell_type": "code",
   "execution_count": 3,
   "metadata": {
    "collapsed": true
   },
   "outputs": [],
   "source": [
    "#Constants\n",
    "EOF = \"//\""
   ]
  },
  {
   "cell_type": "code",
   "execution_count": 4,
   "metadata": {
    "collapsed": false
   },
   "outputs": [
    {
     "name": "stdout",
     "output_type": "stream",
     "text": [
      "['A', 'C', 'D', 'E', 'F', 'G', 'H', 'I', 'K', 'L', 'M', 'N', 'P', 'Q', 'R', 'S', 'T', 'V', 'W', 'Y']\n"
     ]
    }
   ],
   "source": [
    "#Reading the -log(prob) of the match states emissions from the Pfam HMM file\n",
    "hmm_log_prob_dict = defaultdict(list)\n",
    "\n",
    "pfam_hmm_file = fileinput.input(my_path+\"zf-C2H2.hmm\")\n",
    "for line in pfam_hmm_file:\n",
    "    if (line[0:4] == \"HMM \"):\n",
    "        aa = line.split()\n",
    "        aa.remove(\"HMM\")\n",
    "        print aa\n",
    "        break\n",
    "\n",
    "states_cnt = 1\n",
    "for line in pfam_hmm_file:\n",
    "    line_list = line.split()\n",
    "    if (line_list[0] == EOF):\n",
    "        break\n",
    "    if (line_list[0] == str(states_cnt)):\n",
    "        #Saving the probalities as a list for the corresponding HMM state\n",
    "        prob_strs = line.split()[1:1+len(aa)]\n",
    "        hmm_log_prob_dict[states_cnt] = [float(i) for i in prob_strs]\n",
    "        states_cnt += 1\n",
    "\n",
    "fileinput.close()"
   ]
  },
  {
   "cell_type": "code",
   "execution_count": 5,
   "metadata": {
    "collapsed": false
   },
   "outputs": [],
   "source": [
    "#Converting to probalities, and saving a vector for each HMM match state\n",
    "hmm_prob_dict = {}\n",
    "for state in hmm_log_prob_dict.keys():\n",
    "    hmm_prob_dict[state] = 1/np.exp(hmm_log_prob_dict[state])"
   ]
  },
  {
   "cell_type": "code",
   "execution_count": 12,
   "metadata": {
    "collapsed": false
   },
   "outputs": [],
   "source": [
    "#Saving to file\n",
    "with open(my_path+'zinc_match_state_prob.pik', 'wb') as handle:\n",
    "    pickle.dump(hmm_prob_dict, handle, protocol=pickle.HIGHEST_PROTOCOL)"
   ]
  }
 ],
 "metadata": {
  "kernelspec": {
   "display_name": "Python 2",
   "language": "python",
   "name": "python2"
  },
  "language_info": {
   "codemirror_mode": {
    "name": "ipython",
    "version": 2
   },
   "file_extension": ".py",
   "mimetype": "text/x-python",
   "name": "python",
   "nbconvert_exporter": "python",
   "pygments_lexer": "ipython2",
   "version": "2.7.10"
  }
 },
 "nbformat": 4,
 "nbformat_minor": 0
}
