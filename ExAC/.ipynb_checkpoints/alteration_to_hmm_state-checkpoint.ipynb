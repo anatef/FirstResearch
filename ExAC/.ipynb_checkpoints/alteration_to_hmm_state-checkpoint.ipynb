{
 "cells": [
  {
   "cell_type": "code",
   "execution_count": 11,
   "metadata": {
    "collapsed": false
   },
   "outputs": [
    {
     "data": {
      "text/html": [
       "<style>.container { width:100% !important; }</style>"
      ],
      "text/plain": [
       "<IPython.core.display.HTML object>"
      ]
     },
     "execution_count": 11,
     "metadata": {},
     "output_type": "execute_result"
    }
   ],
   "source": [
    "import pandas as pd\n",
    "import numpy as np\n",
    "import math\n",
    "import json\n",
    "from collections import defaultdict\n",
    "import matplotlib.pyplot as plt\n",
    "import pickle\n",
    "from IPython.core.display import HTML\n",
    "HTML(\"<style>.container { width:100% !important; }</style>\")"
   ]
  },
  {
   "cell_type": "code",
   "execution_count": 2,
   "metadata": {
    "collapsed": true
   },
   "outputs": [],
   "source": [
    "#Reading the Zinc-finger domain data\n",
    "curr_dir = !pwd\n",
    "my_path = curr_dir[0]+\"/hmm_domains/\"\n",
    "filename = \"zf-C2H2.csv\"\n",
    "zinc_finger = pd.read_csv(my_path+filename, sep='\\t', index_col=0)\n",
    "#Sort the zinc finger data\n",
    "sorted_zinc = zinc_finger.sort_values(by=[\"chrom_num\", \"ensembl_id\", \"TargetStart\"])\n",
    "sorted_zinc = sorted_zinc.reset_index(drop=True)"
   ]
  },
  {
   "cell_type": "code",
   "execution_count": 23,
   "metadata": {
    "collapsed": false
   },
   "outputs": [
    {
     "name": "stdout",
     "output_type": "stream",
     "text": [
      "Leaving outside 74 out of 10492\n"
     ]
    }
   ],
   "source": [
    "chrom_names_list = sorted_zinc[\"chrom_num\"].tolist()\n",
    "starnge_chrom_sum = 0\n",
    "for name in chrom_names_list:\n",
    "    if (name not in chromosome_names):\n",
    "        starnge_chrom_sum += 1\n",
    "print \"Leaving outside \"+str(starnge_chrom_sum)+\" out of \"+str(len(chrom_names_list))"
   ]
  },
  {
   "cell_type": "code",
   "execution_count": 3,
   "metadata": {
    "collapsed": false
   },
   "outputs": [],
   "source": [
    "#Get the canonic transcript for Zinc domain\n",
    "canonic_trans_prot = json.load(file(my_path+'zinc_canonic_trans_prot.json'))"
   ]
  },
  {
   "cell_type": "code",
   "execution_count": 4,
   "metadata": {
    "collapsed": true
   },
   "outputs": [],
   "source": [
    "chromosome_names = [\"1\", \"2\", \"3\", \"4\", \"5\", \"6\", \"7\", \"8\", \"9\", \"10\", \"11\", \"12\", \"13\", \"14\", \"15\", \"16\", \"17\", \"18\", \"19\", \"20\", \"21\", \"22\", \"X\", \"Y\"]"
   ]
  },
  {
   "cell_type": "code",
   "execution_count": 5,
   "metadata": {
    "collapsed": false
   },
   "outputs": [],
   "source": [
    "#A function that get chromosome raw data from the hmmer results and return a table of the exons\n",
    "def create_exon_pos_table(chrom_raw):\n",
    "    exons_raw = chrom_raw\n",
    "    \n",
    "    #Removing the complement bracates if exist\n",
    "    if (exons_raw.find(\"complement(\") >= 0):\n",
    "        exons_raw = exons_raw[exons_raw.find(\"complement(\")+11:-1]\n",
    "    \n",
    "    #Removing the join bracates if exist\n",
    "    if (exons_raw.find(\"join(\") >= 0):\n",
    "        exons_raw = exons_raw[exons_raw.find(\"join(\")+5:-1]\n",
    "        \n",
    "    #In case there's only one exon, take everything after the second \":\"\n",
    "    else:\n",
    "        exons_raw = exons_raw[exons_raw.find(\":\", chrom_raw.find(\":\")+1)+1:]\n",
    "    \n",
    "    exons_list = exons_raw.split(\",\")\n",
    "    exon_pos = []\n",
    "    for ex in exons_list:\n",
    "        exon_pos.append(ex.split(\"..\"))\n",
    "    exon_df = pd.DataFrame(exon_pos)\n",
    "    exon_df.columns = [\"start_pos\", \"end_pos\"]\n",
    "    exon_len = []\n",
    "    for index, exon in exon_df.iterrows():\n",
    "        exon_len.append(int(exon[1]) - int(exon[0])+1)\n",
    "    exon_df[\"length\"] = exon_len\n",
    "    first_bp_count = 1\n",
    "    first_bp_list = []\n",
    "    for index, exon in exon_df.iterrows():\n",
    "        first_bp_list.append(first_bp_count)\n",
    "        first_bp_count += int(exon[2])\n",
    "    exon_df[\"first_bp_count\"] = first_bp_list\n",
    "    return(exon_df)"
   ]
  },
  {
   "cell_type": "code",
   "execution_count": 6,
   "metadata": {
    "collapsed": false
   },
   "outputs": [],
   "source": [
    "#A function that get chromosome position and table of exons, and return the protein position or -1 if it's not within any exon\n",
    "def find_protein_pos(chrom_pos, exon_df, chrom_raw):\n",
    "    for index, exon in exon_df.iterrows():\n",
    "        start_pos = int(exon[0])\n",
    "        end_pos = int(exon[1])\n",
    "        first_bp_count = int(exon[3])\n",
    "        if (chrom_pos >= start_pos and chrom_pos <= end_pos):\n",
    "            \n",
    "            #Calculate position for reverse complement strand: the protein is translated from the end position towards the start position of the exon\n",
    "            if (chrom_raw.find(\"complement\")):\n",
    "                len_from_exon_start = end_pos - chrom_pos\n",
    "            #Calculate position for forward starnd\n",
    "            else:\n",
    "                len_from_exon_start = chrom_pos - start_pos\n",
    "            \n",
    "            #Calculate the position on the mRNA transcript\n",
    "            transcript_pos = len_from_exon_start + first_bp_count\n",
    "            \n",
    "            #Calculate the position on the protein sequence\n",
    "            protein_pos = int(math.ceil(float(transcript_pos)/3))\n",
    "            return protein_pos\n",
    "    \n",
    "    #If the position wasn't in the regions of any exon\n",
    "    return -1"
   ]
  },
  {
   "cell_type": "code",
   "execution_count": 7,
   "metadata": {
    "collapsed": true
   },
   "outputs": [],
   "source": [
    "#Boolean function - determine if a given text can be converted to a number\n",
    "def is_number(s):\n",
    "    try:\n",
    "        float(s)\n",
    "        return True\n",
    "    except ValueError:\n",
    "        return False"
   ]
  },
  {
   "cell_type": "code",
   "execution_count": 8,
   "metadata": {
    "collapsed": true
   },
   "outputs": [],
   "source": [
    "#A function that return the hmm state of that protein position\n",
    "# return -1 for positions outside of domains regions, -2 for matching insertion\n",
    "#TODO: do we need also transcript id? do we want to consider more than 1 transcript per gene?\n",
    "def protein_pos_to_hmm_state(protein_pos, domain_gene_table):\n",
    "    for index, row in domain_gene_table.iterrows():\n",
    "        target_start = row[6]\n",
    "        target_end = row[7]\n",
    "        hmm_pos = (row[10]).split(\",\")\n",
    "        if (protein_pos >= target_start and protein_pos <= target_end):\n",
    "            index_inside_match = (protein_pos - target_start)\n",
    "            hmm_state_text = hmm_pos[index_inside_match]\n",
    "            if is_number(hmm_state_text):\n",
    "                hmm_state = int(hmm_state_text)\n",
    "                return hmm_state\n",
    "            else:\n",
    "                #the position match insertion\n",
    "                return -2\n",
    "            \n",
    "    #The protein position isn't in any domain region        \n",
    "    return -1"
   ]
  },
  {
   "cell_type": "code",
   "execution_count": 9,
   "metadata": {
    "collapsed": false,
    "scrolled": true
   },
   "outputs": [
    {
     "name": "stdout",
     "output_type": "stream",
     "text": [
      "Finished chromosome 1\n",
      "Finished chromosome 2\n",
      "Finished chromosome 3\n",
      "Finished chromosome 4\n",
      "Finished chromosome 5\n",
      "Finished chromosome 6\n",
      "Finished chromosome 7\n",
      "Finished chromosome 8"
     ]
    },
    {
     "name": "stderr",
     "output_type": "stream",
     "text": [
      "/home/anat/anaconda2/lib/python2.7/site-packages/pandas/core/frame.py:1997: UserWarning: Boolean Series key will be reindexed to match DataFrame index.\n",
      "  \"DataFrame index.\", UserWarning)\n",
      "/home/anat/anaconda2/lib/python2.7/site-packages/IPython/core/interactiveshell.py:2723: DtypeWarning: Columns (16,17,18,19,20,21,22) have mixed types. Specify dtype option on import or set low_memory=False.\n",
      "  interactivity=interactivity, compiler=compiler, result=result)\n"
     ]
    },
    {
     "name": "stdout",
     "output_type": "stream",
     "text": [
      "\n",
      "Finished chromosome 9\n",
      "Finished chromosome 10\n",
      "Finished chromosome 11\n",
      "Finished chromosome 12\n",
      "Finished chromosome 13\n",
      "Finished chromosome 14\n",
      "Finished chromosome 15\n",
      "Finished chromosome 16\n",
      "Finished chromosome 17\n",
      "Finished chromosome 18\n",
      "Finished chromosome 19\n",
      "Finished chromosome 20\n",
      "Finished chromosome 21\n",
      "Finished chromosome 22\n",
      "Finished chromosome X\n",
      "Finished chromosome Y\n"
     ]
    }
   ],
   "source": [
    "chrom_path = curr_dir[0]+\"/parsed/\"\n",
    "chrom_filename = \"parsed_chrom\"\n",
    "states_dict = defaultdict(list)\n",
    "\n",
    "for chrom in chromosome_names:\n",
    "    \n",
    "    #Filtering the domain data relevant to this chromosome\n",
    "    domain_chrom_data = sorted_zinc[sorted_zinc[\"chrom_num\"] == chrom]\n",
    "    \n",
    "    #Loading the ExAC parsed data of this chromosome\n",
    "    chrom_csv = pd.read_csv(chrom_path+chrom_filename+chrom+\".csv\", sep='\\t', index_col=0)\n",
    "    \n",
    "    #Getting a list of all the relevant ensembl gene ids for this chromosome\n",
    "    domain_ens_genes = (domain_chrom_data[\"ensembl_id\"]).unique()\n",
    "    \n",
    "    #For each ensembl gene in the domain data - finding all the ExAC alterations\n",
    "    for ens_gene in domain_ens_genes:\n",
    "        \n",
    "        #Filtering the domain data for this gene according to the canonical transcript and protein ids\n",
    "        canonic_trans = canonic_trans_prot[ens_gene][0]\n",
    "        canonic_prot = canonic_trans_prot[ens_gene][1]\n",
    "        domain_gene_table = domain_chrom_data[domain_chrom_data[\"transcript_id\"] == canonic_trans]\n",
    "        domain_gene_table = domain_gene_table[domain_gene_table[\"prot_id\"] == canonic_prot]\n",
    "        #Making sure that if two HMM-matches overlaps, the high bit score will come first in the table\n",
    "        domain_gene_table = domain_gene_table.sort_values(by=\"BitScore\", ascending=False)\n",
    "        \n",
    "        #Creating a table of the exons for this gene, according to the canonical transcript\n",
    "        chrom_raw_data = domain_gene_table[\"chromosome_id\"].unique()[0] #there should be only one element here\n",
    "        if (len(domain_gene_table[\"chromosome_id\"].unique()) > 1):\n",
    "            print ens_gene+\": more than one chromosome raw data\" #sanity check\n",
    "        exon_table = create_exon_pos_table(chrom_raw_data)\n",
    "        \n",
    "        #Filtering the chromosome data to the exons region\n",
    "        exons_start_pos = min(exon_table[\"start_pos\"][0],exon_table[\"start_pos\"][len(exon_table)-1]) #in case of complelemt, the minimal position could be at the last row\n",
    "        exons_end_pos = max(exon_table[\"end_pos\"][0],exon_table[\"end_pos\"][len(exon_table)-1]) #in case of complelemt, the maximal position could be at the first row\n",
    "        chrom_gene_table = chrom_csv[chrom_csv[\"pos\"] >= int(exons_start_pos)][chrom_csv[\"pos\"] <= int(exons_end_pos)]\n",
    "        chrom_gene_table = chrom_gene_table.reset_index(drop=True)\n",
    "        chrom_gene_size = chrom_gene_table.shape[0]\n",
    "        \n",
    "        #Iterating over the exons of this gene\n",
    "        for i, row in exon_table.iterrows():\n",
    "            ex_begin = int(row[\"start_pos\"])\n",
    "            ex_end = int(row[\"end_pos\"])\n",
    "            \n",
    "            #Itrerating over the exon positions\n",
    "            for chrom_pos in range(ex_begin, ex_end+1):\n",
    "                \n",
    "                #calculate the protein position \n",
    "                protein_pos = find_protein_pos(chrom_pos, exon_table, chrom_raw_data)\n",
    "                    \n",
    "                if (protein_pos < 0):\n",
    "                    print \"sanity check: exon position not inside the protein? \"+str(chrom_pos)+\" \"+ens_gene\n",
    "                    continue\n",
    "                    \n",
    "                #Trying to match HMM-state\n",
    "                hmm_state = protein_pos_to_hmm_state(protein_pos, domain_gene_table) #TODO: what happens when two matches overlap? maybe sort to the best bit score?\n",
    "                \n",
    "                #If there's a match to HMM-state (our goal!): saving relevant information to the dictionary\n",
    "                if (hmm_state > 0):\n",
    "                    \n",
    "                    #Checking if there's an ExAC alteration at that position\n",
    "                    chrom_alter = chrom_gene_table[chrom_gene_table[\"pos\"] == chrom_pos]\n",
    "                    chrom_alter = chrom_alter.reset_index(drop=True)\n",
    "                    \n",
    "                    #In case no alteration is found, we assume AF = 0\n",
    "                    if (chrom_alter.shape[0] == 0):\n",
    "                        info_dict = {}\n",
    "                        info_dict[\"af\"] = 0\n",
    "                        info_dict[\"af_adj\"] = 0\n",
    "                        info_dict[\"pos\"] = int(chrom_pos)\n",
    "                        info_dict[\"chrom\"] = chrom\n",
    "                        states_dict[hmm_state].append(info_dict)\n",
    "                        \n",
    "                    #In case there is ExAC alteration, we save the relevant AF and other parameters\n",
    "                    else:\n",
    "                        #Extracting the relevant information from the ExAC data table\n",
    "                        \n",
    "                        info_dict = {}\n",
    "                        info_dict[\"an\"] = int(chrom_alter[\"AN\"][0])\n",
    "                        info_dict[\"an_adj\"] = int(chrom_alter[\"AN_Adj\"][0])\n",
    "                        info_dict[\"ref\"] = chrom_alter[\"ref\"][0]\n",
    "                        info_dict[\"alt\"] = chrom_alter[\"alt\"][0]\n",
    "                        info_dict[\"qual\"] = chrom_alter[\"qual\"][0]\n",
    "                        info_dict[\"pos\"] = int(chrom_pos)\n",
    "                        info_dict[\"chrom\"] = chrom\n",
    "                        \n",
    "                        #In case there is more than one alteration in this position: adding their AF sum to the list\n",
    "                        ac_list = (chrom_alter[\"AC\"][0]).split(\",\")\n",
    "                        af_list = (chrom_alter[\"AF\"][0]).split(\",\")\n",
    "                        ac_adj_list = (chrom_alter[\"AC_Adj\"][0]).split(\",\")\n",
    "                        info_dict[\"ac\"] = 0\n",
    "                        info_dict[\"af\"] = 0\n",
    "                        info_dict[\"ac_adj\"] = 0\n",
    "                        info_dict[\"af_adj\"] = 0\n",
    "                        for j in range(len(ac_list)):\n",
    "                            info_dict[\"ac\"] += int(ac_list[j])\n",
    "                            info_dict[\"af\"] += float(af_list[j])\n",
    "                            info_dict[\"ac_adj\"] += int(ac_adj_list[j])\n",
    "                            af_adj = float(info_dict[\"ac_adj\"])/float(info_dict[\"an_adj\"])\n",
    "                            af_adj_format = float('{:.3e}'.format(float(af_adj)))\n",
    "                            info_dict[\"af_adj\"] += af_adj_format\n",
    "                        \n",
    "                        #Adding the dictionary to the HMM-state list\n",
    "                        states_dict[hmm_state].append(info_dict)\n",
    "                    \n",
    "    print \"Finished chromosome \"+chrom"
   ]
  },
  {
   "cell_type": "code",
   "execution_count": 12,
   "metadata": {
    "collapsed": false
   },
   "outputs": [],
   "source": [
    "with open(my_path+'zinc_hmm_states_dict.pik', 'wb') as handle:\n",
    "    pickle.dump(states_dict, handle, protocol=pickle.HIGHEST_PROTOCOL)"
   ]
  }
 ],
 "metadata": {
  "kernelspec": {
   "display_name": "Python 2",
   "language": "python",
   "name": "python2"
  },
  "language_info": {
   "codemirror_mode": {
    "name": "ipython",
    "version": 2
   },
   "file_extension": ".py",
   "mimetype": "text/x-python",
   "name": "python",
   "nbconvert_exporter": "python",
   "pygments_lexer": "ipython2",
   "version": "2.7.10"
  }
 },
 "nbformat": 4,
 "nbformat_minor": 0
}
