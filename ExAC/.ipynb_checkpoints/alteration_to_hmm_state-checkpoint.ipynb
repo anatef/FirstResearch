{
 "cells": [
  {
   "cell_type": "code",
   "execution_count": 1,
   "metadata": {
    "collapsed": false
   },
   "outputs": [
    {
     "data": {
      "text/html": [
       "<style>.container { width:100% !important; }</style>"
      ],
      "text/plain": [
       "<IPython.core.display.HTML object>"
      ]
     },
     "execution_count": 1,
     "metadata": {},
     "output_type": "execute_result"
    }
   ],
   "source": [
    "import pandas as pd\n",
    "import numpy as np\n",
    "import math\n",
    "from collections import defaultdict\n",
    "import matplotlib.pyplot as plt\n",
    "import pickle\n",
    "import sys\n",
    "from IPython.core.display import HTML\n",
    "HTML(\"<style>.container { width:100% !important; }</style>\")"
   ]
  },
  {
   "cell_type": "code",
   "execution_count": 2,
   "metadata": {
    "collapsed": true
   },
   "outputs": [],
   "source": [
    "#Reading the Zinc-finger domain data\n",
    "curr_dir = !pwd\n",
    "my_path = curr_dir[0]+\"/hmm_domains/\"\n",
    "filename = \"zf-C2H2.csv\"\n",
    "zinc_finger = pd.read_csv(my_path+filename, sep='\\t', index_col=0)\n",
    "#Sort the zinc finger data\n",
    "sorted_zinc = zinc_finger.sort_values(by=[\"chrom_num\", \"ensembl_id\", \"TargetStart\"])\n",
    "sorted_zinc = sorted_zinc.reset_index(drop=True)"
   ]
  },
  {
   "cell_type": "code",
   "execution_count": 3,
   "metadata": {
    "collapsed": true
   },
   "outputs": [],
   "source": [
    "#Get the canonic protein id for Zinc domain\n",
    "with open(my_path+'zinc_canonic_prot.pik', 'rb') as handle:\n",
    "    canonic_protein = pickle.load(handle)"
   ]
  },
  {
   "cell_type": "code",
   "execution_count": 4,
   "metadata": {
    "collapsed": true
   },
   "outputs": [],
   "source": [
    "chromosome_names = [\"1\", \"2\", \"3\", \"4\", \"5\", \"6\", \"7\", \"8\", \"9\", \"10\", \"11\", \"12\", \"13\", \"14\", \"15\", \"16\", \"17\", \"18\", \"19\", \"20\", \"21\", \"22\", \"X\", \"Y\"]"
   ]
  },
  {
   "cell_type": "code",
   "execution_count": 5,
   "metadata": {
    "collapsed": false
   },
   "outputs": [
    {
     "name": "stdout",
     "output_type": "stream",
     "text": [
      "Leaving outside 74 out of 10492\n"
     ]
    }
   ],
   "source": [
    "chrom_names_list = sorted_zinc[\"chrom_num\"].tolist()\n",
    "starnge_chrom_sum = 0\n",
    "for name in chrom_names_list:\n",
    "    if (name not in chromosome_names):\n",
    "        starnge_chrom_sum += 1\n",
    "print \"Leaving outside \"+str(starnge_chrom_sum)+\" out of \"+str(len(chrom_names_list))"
   ]
  },
  {
   "cell_type": "code",
   "execution_count": 6,
   "metadata": {
    "collapsed": false
   },
   "outputs": [],
   "source": [
    "#A function that get chromosome raw data from the hmmer results and return a table of the exons\n",
    "def create_exon_pos_table(chrom_raw):\n",
    "    exons_raw = chrom_raw\n",
    "    \n",
    "    #Removing the complement bracates if exist\n",
    "    if (exons_raw.find(\"complement(\") >= 0):\n",
    "        exons_raw = exons_raw[exons_raw.find(\"complement(\")+11:-1]\n",
    "    \n",
    "    #Removing the join bracates if exist\n",
    "    if (exons_raw.find(\"join(\") >= 0):\n",
    "        exons_raw = exons_raw[exons_raw.find(\"join(\")+5:-1]\n",
    "        \n",
    "    #In case there's only one exon, take everything after the second \":\"\n",
    "    else:\n",
    "        exons_raw = exons_raw[exons_raw.find(\":\", chrom_raw.find(\":\")+1)+1:]\n",
    "    \n",
    "    exons_list = exons_raw.split(\",\")\n",
    "    exon_pos = []\n",
    "    for ex in exons_list:\n",
    "        exon_pos.append(ex.split(\"..\"))\n",
    "    exon_df = pd.DataFrame(exon_pos)\n",
    "    exon_df.columns = [\"start_pos\", \"end_pos\"]\n",
    "    exon_len = []\n",
    "    for index, exon in exon_df.iterrows():\n",
    "        exon_len.append(int(exon[1]) - int(exon[0])+1)\n",
    "    exon_df[\"length\"] = exon_len\n",
    "    first_bp_count = 1\n",
    "    first_bp_list = []\n",
    "    for index, exon in exon_df.iterrows():\n",
    "        first_bp_list.append(first_bp_count)\n",
    "        first_bp_count += int(exon[2])\n",
    "    exon_df[\"first_bp_count\"] = first_bp_list\n",
    "    return(exon_df)"
   ]
  },
  {
   "cell_type": "code",
   "execution_count": 7,
   "metadata": {
    "collapsed": false
   },
   "outputs": [],
   "source": [
    "#A function that get chromosome position and table of exons, and return the protein position or -1 if it's not within any exon\n",
    "def find_protein_pos(chrom_pos, exon_df, chrom_raw):\n",
    "    for index, exon in exon_df.iterrows():\n",
    "        start_pos = int(exon[0])\n",
    "        end_pos = int(exon[1])\n",
    "        first_bp_count = int(exon[3])\n",
    "        if (chrom_pos >= start_pos and chrom_pos <= end_pos):\n",
    "            \n",
    "            #Calculate position for reverse complement strand: the protein is translated from the end position towards the start position of the exon\n",
    "            if (chrom_raw.find(\"complement\") >= 0):\n",
    "                len_from_exon_start = end_pos - chrom_pos\n",
    "            #Calculate position for forward starnd\n",
    "            else:\n",
    "                len_from_exon_start = chrom_pos - start_pos\n",
    "            \n",
    "            #Calculate the position on the mRNA transcript\n",
    "            transcript_pos = len_from_exon_start + first_bp_count\n",
    "            \n",
    "            #Calculate the position on the protein sequence\n",
    "            protein_pos = int(math.ceil(float(transcript_pos)/3))\n",
    "            return protein_pos\n",
    "    \n",
    "    #If the position wasn't in the regions of any exon\n",
    "    return -1"
   ]
  },
  {
   "cell_type": "code",
   "execution_count": 8,
   "metadata": {
    "collapsed": true
   },
   "outputs": [],
   "source": [
    "#A function that get protein position and table of exons, and return the chromosome positions of the corresponding codon\n",
    "def find_chrom_bps(protein_pos, exon_table, chrom_raw_data):\n",
    "    \n",
    "    #calculate the mRNA transcript index of this protein position (the 1st bp in the triplet)\n",
    "    transcript_pos = (protein_pos*3)-2\n",
    "    \n",
    "    #Iterating over all the gene exons\n",
    "    for index, exon in exon_table.iterrows():  \n",
    "        first_bp_count = int(exon[\"first_bp_count\"])\n",
    "        exon_length = int(exon[\"length\"])\n",
    "        last_bp_count = first_bp_count + exon_length - 1\n",
    "        \n",
    "        #Checking if the transcript position is within this exon\n",
    "        if (first_bp_count <= transcript_pos and transcript_pos <= last_bp_count):\n",
    "            \n",
    "            start_pos = int(exon[\"start_pos\"])\n",
    "            end_pos = int(exon[\"end_pos\"])\n",
    "            \n",
    "            len_from_exon_start = transcript_pos - first_bp_count\n",
    "            \n",
    "            #Calculate bps position for reverse complement strand: the protein is translated from the end position towards the start position of the exon\n",
    "            if (chrom_raw_data.find(\"complement\") >= 0):\n",
    "                chrom_pos_1st = end_pos - len_from_exon_start\n",
    "                \n",
    "                chrom_pos_2nd = chrom_pos_1st - 1\n",
    "                #If the exons ends here: move to the next exon\n",
    "                if (chrom_pos_2nd < start_pos):\n",
    "                    index += 1\n",
    "                    chrom_pos_2nd = int(exon_table[\"end_pos\"][index])\n",
    "                    start_pos = int(exon_table[\"start_pos\"][index])\n",
    "                    end_pos = int(exon_table[\"end_pos\"][index])\n",
    "                \n",
    "                #If the exons ends here: move to the next exon\n",
    "                chrom_pos_3rd = chrom_pos_2nd - 1\n",
    "                if (chrom_pos_3rd < start_pos):\n",
    "                    index += 1\n",
    "                    chrom_pos_3rd = int(exon_table[\"end_pos\"][index])\n",
    "                    \n",
    "            #Calculate position for forward strand\n",
    "            else:\n",
    "                chrom_pos_1st = start_pos + len_from_exon_start\n",
    "                \n",
    "                chrom_pos_2nd = chrom_pos_1st + 1\n",
    "                 #If the exons ends here: move to the next exon\n",
    "                if (chrom_pos_2nd > end_pos):\n",
    "                    index += 1\n",
    "                    chrom_pos_2nd = int(exon_table[\"start_pos\"][index])\n",
    "                    start_pos = int(exon_table[\"start_pos\"][index])\n",
    "                    end_pos = int(exon_table[\"end_pos\"][index])\n",
    "                \n",
    "                #If the exons ends here: move to the next exon\n",
    "                chrom_pos_3rd = chrom_pos_2nd + 1\n",
    "                if (chrom_pos_3rd > end_pos):\n",
    "                    index += 1\n",
    "                    chrom_pos_3rd = int(exon_table[\"start_pos\"][index])\n",
    "            \n",
    "            return (chrom_pos_1st, chrom_pos_2nd, chrom_pos_3rd)\n",
    "        "
   ]
  },
  {
   "cell_type": "code",
   "execution_count": 9,
   "metadata": {
    "collapsed": true
   },
   "outputs": [],
   "source": [
    "#Boolean function - determine if a given text can be converted to a number\n",
    "def is_number(s):\n",
    "    try:\n",
    "        float(s)\n",
    "        return True\n",
    "    except ValueError:\n",
    "        return False"
   ]
  },
  {
   "cell_type": "code",
   "execution_count": 10,
   "metadata": {
    "collapsed": true
   },
   "outputs": [],
   "source": [
    "#A function that return the hmm state of that protein position\n",
    "# return -1 for positions outside of domains regions, -2 for matching insertion\n",
    "#TODO: do we need also transcript id? do we want to consider more than 1 transcript per gene?\n",
    "def protein_pos_to_hmm_state_and_aa(protein_pos, domain_gene_table):\n",
    "    for index, row in domain_gene_table.iterrows():\n",
    "        target_start = row[\"TargetStart\"]\n",
    "        target_end = row[\"TargetEnd\"]\n",
    "        \n",
    "        #Check if the position is inside this domain instance of the gene\n",
    "        if (protein_pos >= target_start and protein_pos <= target_end):\n",
    "            \n",
    "            #Find the HMM match state\n",
    "            hmm_pos = (row[\"HMM_Pos\"]).split(\",\")\n",
    "            index_inside_match = (protein_pos - target_start)\n",
    "            hmm_state_text = hmm_pos[index_inside_match]\n",
    "            if is_number(hmm_state_text):\n",
    "                hmm_state = int(hmm_state_text)\n",
    "            else:\n",
    "                #the position match insertion\n",
    "                hmm_state = -2\n",
    "                \n",
    "            #Find the amino acid\n",
    "            target_seq = list(row[\"Target_Seq\"])\n",
    "            aa = (target_seq[index_inside_match]).upper()\n",
    "            \n",
    "            return(hmm_state, aa)\n",
    "            \n",
    "    #The protein position isn't in any domain region        \n",
    "    return (-1,'-')"
   ]
  },
  {
   "cell_type": "code",
   "execution_count": 11,
   "metadata": {
    "collapsed": false
   },
   "outputs": [],
   "source": [
    "#A function that create the new codon for the alteration\n",
    "def create_alt_codon(exac_ref_bp, curr_alt_bp, ref_codon, alt_codon_pos, chrom_raw_data):\n",
    "    \n",
    "    #For error logging\n",
    "    functionNameAsString = sys._getframe().f_code.co_name\n",
    "    \n",
    "    #Complement strand - transversing the bp to base-complement\n",
    "    if (chrom_raw_data.find(\"complement\") >= 0):\n",
    "        new_bp = \"\"\n",
    "        for c in curr_alt_bp:\n",
    "            if (c == 'A'):\n",
    "                new_bp = new_bp+'T'\n",
    "            elif (c == 'T'):\n",
    "                new_bp = new_bp+'A'\n",
    "            elif (c == 'G'):\n",
    "                new_bp = new_bp+'C'\n",
    "            else:\n",
    "                new_bp = new_bp+'G'\n",
    "            new_bp = new_bp[::-1] #TODO: is the reverse needed?\n",
    "        \n",
    "        exac_ref_bp_adj = \"\"\n",
    "        for c in exac_ref_bp:\n",
    "            if (c == 'A'):\n",
    "                exac_ref_bp_adj = exac_ref_bp_adj+'T'\n",
    "            elif (c == 'T'):\n",
    "                exac_ref_bp_adj = exac_ref_bp_adj+'A'\n",
    "            elif (c == 'G'):\n",
    "                exac_ref_bp_adj = exac_ref_bp_adj+'C'\n",
    "            else:\n",
    "                exac_ref_bp_adj = exac_ref_bp_adj+'G'\n",
    "            exac_ref_bp_adj = exac_ref_bp_adj[::-1] #TODO: is the reverse needed?\n",
    "        \n",
    "    #Regular strand\n",
    "    else:\n",
    "        new_bp = curr_alt_bp\n",
    "        exac_ref_bp_adj = exac_ref_bp\n",
    "        \n",
    "    #Validation: making sure the ref bp from ExAC is inside the ref codon sequence retrieved from hg19 or the other way around (at least one contain the other)\n",
    "    if (ref_codon.find(exac_ref_bp_adj) == -1 and exac_ref_bp_adj.find(ref_codon) == -1):\n",
    "        print functionNameAsString+\" Error: ExAC ref sequence \"+exac_ref_bp_adj+\" isn't found in hg19 retrieved codon sequence \"+ref_codon\n",
    "        \n",
    "    new_alt_codon = ref_codon[:alt_codon_pos]+new_bp+ref_codon[alt_codon_pos+len(exac_ref_bp_adj):]\n",
    "    \n",
    "    return new_alt_codon"
   ]
  },
  {
   "cell_type": "code",
   "execution_count": 103,
   "metadata": {
    "collapsed": false
   },
   "outputs": [
    {
     "name": "stdout",
     "output_type": "stream",
     "text": [
      "create_alt_codon Error: ExAC ref sequence TTA isn't found in hg19 retrieved codon sequence TTT\n"
     ]
    }
   ],
   "source": [
    "alt_codon = create_alt_codon(exac_ref_bp, curr_alt_bp, res_dict[\"bp_ref\"], alt_codon_pos, chrom_raw_data)"
   ]
  },
  {
   "cell_type": "code",
   "execution_count": 110,
   "metadata": {
    "collapsed": false
   },
   "outputs": [
    {
     "data": {
      "text/plain": [
       "'TT'"
      ]
     },
     "execution_count": 110,
     "metadata": {},
     "output_type": "execute_result"
    }
   ],
   "source": [
    "res_dict[\"bp_ref\"][:alt_codon_pos]+curr_alt_bp+res_dict[\"bp_ref\"][alt_codon_pos+len(\"TTA\"):]"
   ]
  },
  {
   "cell_type": "code",
   "execution_count": 12,
   "metadata": {
    "collapsed": true
   },
   "outputs": [],
   "source": [
    "codon_table = {\n",
    "    'ATA':'I', 'ATC':'I', 'ATT':'I', 'ATG':'M',\n",
    "    'ACA':'T', 'ACC':'T', 'ACG':'T', 'ACT':'T',\n",
    "    'AAC':'N', 'AAT':'N', 'AAA':'K', 'AAG':'K',\n",
    "    'AGC':'S', 'AGT':'S', 'AGA':'R', 'AGG':'R',\n",
    "    'CTA':'L', 'CTC':'L', 'CTG':'L', 'CTT':'L',\n",
    "    'CCA':'P', 'CCC':'P', 'CCG':'P', 'CCT':'P',\n",
    "    'CAC':'H', 'CAT':'H', 'CAA':'Q', 'CAG':'Q',\n",
    "    'CGA':'R', 'CGC':'R', 'CGG':'R', 'CGT':'R',\n",
    "    'GTA':'V', 'GTC':'V', 'GTG':'V', 'GTT':'V',\n",
    "    'GCA':'A', 'GCC':'A', 'GCG':'A', 'GCT':'A',\n",
    "    'GAC':'D', 'GAT':'D', 'GAA':'E', 'GAG':'E',\n",
    "    'GGA':'G', 'GGC':'G', 'GGG':'G', 'GGT':'G',\n",
    "    'TCA':'S', 'TCC':'S', 'TCG':'S', 'TCT':'S',\n",
    "    'TTC':'F', 'TTT':'F', 'TTA':'L', 'TTG':'L',\n",
    "    'TAC':'Y', 'TAT':'Y', 'TAA':'*', 'TAG':'*',\n",
    "    'TGC':'C', 'TGT':'C', 'TGA':'*', 'TGG':'W',\n",
    "    }"
   ]
  },
  {
   "cell_type": "code",
   "execution_count": 13,
   "metadata": {
    "collapsed": true
   },
   "outputs": [],
   "source": [
    "#Retrieve the codon base-parirs from the ref sequence\n",
    "def retrieve_codon_seq(chrom_pos_list, chrom_raw_data, chrom):\n",
    "    chromsome_name = \"chr\"+chrom\n",
    "    chrom_pos_1st = chrom_pos_list[0]\n",
    "    chrom_pos_2nd = chrom_pos_list[1]\n",
    "    chrom_pos_3rd = chrom_pos_list[2]\n",
    "    \n",
    "    if (chrom_pos_1st < chrom_pos_3rd):\n",
    "        chrom_pos_list_adj = chrom_pos_list\n",
    "    else:\n",
    "        chrom_pos_list_adj = reversed(chrom_pos_list) #For reverse strand - order is reveresed\n",
    "        \n",
    "    seq = \"\"\n",
    "    for chrom_pos in chrom_pos_list:\n",
    "        seq_start = chrom_pos - 1\n",
    "        query = !./twoBitToFa hg19.2bit stdout -seq=$chromsome_name -start=$seq_start -end=$chrom_pos\n",
    "        seq = seq+query[1]\n",
    "    \n",
    "    #Complement strand - transversing the bp to base-complement\n",
    "    if (chrom_raw_data.find(\"complement\") >= 0):\n",
    "        complement_seq = []\n",
    "        for c in seq:\n",
    "            if (c == 'A'):\n",
    "                complement_seq.append('T')\n",
    "            elif (c == 'T'):\n",
    "                complement_seq.append('A')\n",
    "            elif (c == 'G'):\n",
    "                complement_seq.append('C')\n",
    "            else:\n",
    "                complement_seq.append('G')\n",
    "        seq = complement_seq[0]+complement_seq[1]+complement_seq[2]\n",
    "        \n",
    "    return seq"
   ]
  },
  {
   "cell_type": "code",
   "execution_count": 14,
   "metadata": {
    "collapsed": false
   },
   "outputs": [],
   "source": [
    "#A function that return a dict with the MAF info for the protein position and corresponding chromosomal location\n",
    "def calc_exac_maf_data(chrom_pos_list, chrom_gene_table, protein_pos, aa, chrom_raw_data, chrom):\n",
    "    \n",
    "    res_dict = {}\n",
    "    res_dict[\"chrom\"] = chrom\n",
    "    res_dict[\"chrom_pos\"] = chrom_pos_list\n",
    "    res_dict[\"prot_pos\"] = protein_pos\n",
    "    res_dict[\"aa_ref\"] = aa\n",
    "    res_dict[\"bp_ref\"] = retrieve_codon_seq(chrom_pos_list, chrom_raw_data, chrom)\n",
    "    \n",
    "    #For error logging\n",
    "    functionNameAsString = sys._getframe().f_code.co_name\n",
    "    #print \"chrom_pos_list = \"+str(chrom_pos_list)\n",
    "    \n",
    "    #Validation: checking that the returned codon sequence from hg19 match the HMMER amino-acid\n",
    "    translated_aa = codon_table[(res_dict[\"bp_ref\"]).upper()]\n",
    "    if (translated_aa != aa):\n",
    "        print functionNameAsString+\" Error: hg19 codon sequence retrieved \"+(res_dict[\"bp_ref\"]).upper()+\"=\"+translated_aa+\" doesn't match HMMER amino-acid \"+aa\n",
    "    \n",
    "    alterations_af_dict = defaultdict(list)\n",
    "    alterations_af_adj_dict = defaultdict(list)\n",
    "    \n",
    "    for i in range(len(chrom_pos_list)):\n",
    "        chrom_pos = chrom_pos_list[i]\n",
    "        alt_codon_pos = i\n",
    "        #print str(chrom_pos)\n",
    "            \n",
    "        #Retreiving relevant ExAC entry\n",
    "        chrom_alter = chrom_gene_table[chrom_gene_table[\"pos\"] == chrom_pos]\n",
    "        chrom_alter = chrom_alter.reset_index(drop=True)\n",
    "                \n",
    "        if (chrom_alter.shape[0] == 0):\n",
    "            #No ExAC entry for this chromosome position - not adding alteration data\n",
    "            continue\n",
    "        else:\n",
    "            exac_prot_data = True\n",
    "            #Validation: the ExAC chromosome position is within the protein\n",
    "            if (chrom_alter[\"prot_pos\"][0] == \"\"):\n",
    "                #print functionNameAsString+\" Error: ExAC chromosome position \"+str(chrom_pos)+\" doesn't correspond to a protein\"\n",
    "                #We assume it's an error in ExAC and logging alteration anyway.\n",
    "                exac_prot_data = False\n",
    "            else:\n",
    "                #Validation: the ExAC protein position match the HMMER protein position\n",
    "                exac_prot_pos = chrom_alter[\"prot_pos\"][0]\n",
    "                if (exac_prot_pos.find(\"-\") >=0):\n",
    "                    first_exac_prot_pos = int(exac_prot_pos[:exac_prot_pos.find(\"-\")])\n",
    "                else:\n",
    "                    first_exac_prot_pos = int(exac_prot_pos)\n",
    "                #in case there's more than one position listed\n",
    "                if (first_exac_prot_pos != protein_pos):\n",
    "                    print functionNameAsString+\" \"+ str(chrom_pos)+\" Error: ExAC protein position \"+str(first_exac_prot_pos)+\" doesn't match HMMER protein position \"+str(protein_pos)\n",
    "\n",
    "                #Validation: the ExAC aa match the HMMER aa\n",
    "                exac_aa = chrom_alter[\"amino_acids\"][0]\n",
    "                exac_ref_aa = exac_aa[:1]\n",
    "                exac_alt_aa = exac_aa[exac_aa.find(\"/\")+1:]\n",
    "                if (exac_ref_aa != aa):\n",
    "                    print functionNameAsString+\" \"+ str(chrom_pos)+\" Error: ExAC amino acid identity \"+exac_ref_aa+\" doesn't match HMMER amino-acid \"+aa\n",
    "                \n",
    "                #Extracting aa codon data if exist\n",
    "                exac_codons = chrom_alter[\"codons\"][0]\n",
    "                exac_ref_codon = exac_codons[:exac_codons.find(\"/\")]\n",
    "                exac_alt_codon = exac_codons[exac_codons.find(\"/\")+1:]\n",
    "                #Validation: the ExAC codon match the returned codon sequence from hg19\n",
    "                if (exac_ref_codon.upper() != (res_dict[\"bp_ref\"]).upper()):\n",
    "                    print functionNameAsString+\" \"+ str(chrom_pos)+\" Error: ExAC bp codon \"+exac_ref_codon.upper()+\" doesn't match hg19 codon sequence retrieved \"+(res_dict[\"bp_ref\"]).upper()\n",
    "                \n",
    "                #Getting the changed position inside the ExAC codon\n",
    "                exac_alt_codon_pos = 0\n",
    "                for c in exac_ref_codon:\n",
    "                    if c.isupper():\n",
    "                        break\n",
    "                    exac_alt_codon_pos += 1\n",
    "                #Validation: the ExAC alt position match my alt codon position calculation\n",
    "                if (exac_alt_codon_pos != alt_codon_pos):\n",
    "                    print functionNameAsString+\" \"+ str(chrom_pos)+\" Error: the ExAC alt position in codon \"+str(exac_alt_codon_pos)+\" doesn't match my codon position calculation \"+str(alt_codon_pos)\n",
    "\n",
    "            #Creating lists in case there's more than one alteration in this chromosomal position\n",
    "            alt_bp_list = (chrom_alter[\"alt\"][0]).split(\",\")\n",
    "            af_list = (chrom_alter[\"AF\"][0]).split(\",\")\n",
    "            an_adj = int(chrom_alter[\"AN_Adj\"][0])\n",
    "            ac_adj_list = (chrom_alter[\"AC_Adj\"][0]).split(\",\")\n",
    "            exac_ref_bp = chrom_alter[\"ref\"][0]\n",
    "                \n",
    "            for j in range(len(alt_bp_list)):\n",
    "                \n",
    "                #Calculating the alteration relevant data\n",
    "                curr_alt_bp = alt_bp_list[j]\n",
    "                #print \"curr_alt_bp = \"+curr_alt_bp\n",
    "                alt_codon = create_alt_codon(exac_ref_bp, curr_alt_bp, res_dict[\"bp_ref\"], alt_codon_pos, chrom_raw_data)\n",
    "                if (len(alt_codon) != 3):\n",
    "                    alt_aa = \"indel\"\n",
    "                else:\n",
    "                    alt_aa = codon_table[alt_codon.upper()]\n",
    "                #print \"alt codon = \"+alt_codon\n",
    "                #print \"alt aa = \"+alt_aa\n",
    "                \n",
    "                #Validation: ExAC alt codon and aa for the first alteration match the claculated alt\n",
    "                if (j == 0 and exac_prot_data and exac_alt_codon.upper() != alt_codon):\n",
    "                    #print \"alt_codon = \"+alt_codon\n",
    "                    #print \"exac_alt_codon = \"+exac_alt_codon.upper()\n",
    "                    print functionNameAsString+\" \"+ str(chrom_pos)+\" Error: the ExAC alt codon \"+exac_alt_codon+\" doesn't match my alt codon calculation \"+alt_codon\n",
    "                if (j == 0 and exac_prot_data and exac_alt_aa != alt_aa):\n",
    "                    print functionNameAsString+\" \"+ str(chrom_pos)+\" Error: the ExAC alt aa \"+exac_alt_aa+\" doesn't match my alt aa calculation \"+alt_aa\n",
    "                    \n",
    "                if (alt_aa == res_dict[\"aa_ref\"]):\n",
    "                    #Not logging alteration for synonymous mutations\n",
    "                    #print \"Synonuymous\"\n",
    "                    continue\n",
    "                \n",
    "                #Non-synonymous(!!!) - logging the alteration\n",
    "                else:\n",
    "                    #print \"Non-Synonuymous\"\n",
    "                    alterations_af_dict[alt_aa].append(float(af_list[j]))\n",
    "                    af_adj = float(ac_adj_list[j])/float(an_adj)\n",
    "                    af_adj_format = float('{:.3e}'.format(float(af_adj)))\n",
    "                    alterations_af_adj_dict[alt_aa].append(af_adj_format)\n",
    "    \n",
    "    #Calculating the overall MAF from the alteration dicts\n",
    "    res_dict[\"af\"] = 0\n",
    "    res_dict[\"af_adj\"] = 0\n",
    "    \n",
    "    #Checking if any alteration is above 0.5, and changing the ref accordingly\n",
    "    for aa in alterations_af_dict.keys():\n",
    "        aa_sum = sum(alterations_af_dict[aa])\n",
    "        aa_adj_sum = sum(alterations_af_adj_dict[aa])\n",
    "        if (aa != \"indel\" and aa_sum > 0.5):\n",
    "            res_dict[\"aa_ref\"] = aa\n",
    "            res_dict[\"af\"] =(1 - aa_sum)\n",
    "            res_dict[\"af_adj\"] = (1 - aa_adj_sum)\n",
    "            break\n",
    "        else:\n",
    "            res_dict[\"af\"] += aa_sum\n",
    "            res_dict[\"af_adj\"] += aa_adj_sum\n",
    "        \n",
    "        #Fix the AF format\n",
    "        res_dict[\"af\"] = float('{:.3e}'.format(float(res_dict[\"af\"])))\n",
    "        res_dict[\"af_adj\"] = float('{:.3e}'.format(float(res_dict[\"af_adj\"])))\n",
    "    \n",
    "    return res_dict"
   ]
  },
  {
   "cell_type": "code",
   "execution_count": 15,
   "metadata": {
    "collapsed": false
   },
   "outputs": [
    {
     "name": "stderr",
     "output_type": "stream",
     "text": [
      "/home/anat/anaconda2/lib/python2.7/site-packages/IPython/core/interactiveshell.py:2723: DtypeWarning: Columns (27) have mixed types. Specify dtype option on import or set low_memory=False.\n",
      "  interactivity=interactivity, compiler=compiler, result=result)\n",
      "/home/anat/anaconda2/lib/python2.7/site-packages/pandas/core/frame.py:1997: UserWarning: Boolean Series key will be reindexed to match DataFrame index.\n",
      "  \"DataFrame index.\", UserWarning)\n"
     ]
    },
    {
     "name": "stdout",
     "output_type": "stream",
     "text": [
      "calc_exac_maf_data 16269915 Error: the ExAC alt position in codon 3 doesn't match my codon position calculation 1\n",
      "calc_exac_maf_data 16269915 Error: the ExAC alt aa GX doesn't match my alt aa calculation indel\n",
      "calc_exac_maf_data 16269157 Error: the ExAC alt codon acG doesn't match my alt codon calculation ACT\n",
      "calc_exac_maf_data 41012508 Error: ExAC protein position 172 doesn't match HMMER protein position 171\n",
      "calc_exac_maf_data 41012508 Error: ExAC amino acid identity F doesn't match HMMER amino-acid K\n",
      "calc_exac_maf_data 41012508 Error: ExAC bp codon TTTCAT doesn't match hg19 codon sequence retrieved AAG\n",
      "calc_exac_maf_data 41012508 Error: the ExAC alt position in codon 0 doesn't match my codon position calculation 2\n",
      "create_alt_codon Error: ExAC ref sequence GTTTCA isn't found in hg19 retrieved codon sequence AAG\n",
      "calc_exac_maf_data 41012508 Error: the ExAC alt codon t doesn't match my alt codon calculation AAG\n",
      "calc_exac_maf_data 41012508 Error: the ExAC alt aa X doesn't match my alt aa calculation K\n",
      "calc_exac_maf_data 41012527 Error: the ExAC alt position in codon 1 doesn't match my codon position calculation 0\n",
      "calc_exac_maf_data 41012527 Error: the ExAC alt aa X doesn't match my alt aa calculation indel\n",
      "calc_exac_maf_data 41012583 Error: ExAC protein position 197 doesn't match HMMER protein position 196\n",
      "calc_exac_maf_data 41012583 Error: ExAC amino acid identity S doesn't match HMMER amino-acid Y\n",
      "calc_exac_maf_data 41012583 Error: ExAC bp codon AGC doesn't match hg19 codon sequence retrieved TAT\n",
      "calc_exac_maf_data 41012583 Error: the ExAC alt position in codon 0 doesn't match my codon position calculation 2\n",
      "calc_exac_maf_data 41012583 Error: the ExAC alt codon gc doesn't match my alt codon calculation TAT\n",
      "calc_exac_maf_data 41012583 Error: the ExAC alt aa X doesn't match my alt aa calculation Y\n",
      "calc_exac_maf_data 41012856 Error: ExAC amino acid identity - doesn't match HMMER amino-acid Y\n",
      "calc_exac_maf_data 41012856 Error: ExAC bp codon - doesn't match hg19 codon sequence retrieved TAT\n",
      "calc_exac_maf_data 41012856 Error: the ExAC alt position in codon 1 doesn't match my codon position calculation 2\n",
      "calc_exac_maf_data 41012856 Error: the ExAC alt codon AAAC doesn't match my alt codon calculation TATAAAC\n",
      "calc_exac_maf_data 41012856 Error: the ExAC alt aa KX doesn't match my alt aa calculation indel\n",
      "calc_exac_maf_data 33960113 Error: ExAC protein position 724 doesn't match HMMER protein position 723\n",
      "calc_exac_maf_data 33960113 Error: ExAC amino acid identity H doesn't match HMMER amino-acid S\n",
      "calc_exac_maf_data 33960113 Error: ExAC bp codon CAC doesn't match hg19 codon sequence retrieved TCC\n",
      "calc_exac_maf_data 33960113 Error: the ExAC alt position in codon 0 doesn't match my codon position calculation 2\n",
      "create_alt_codon Error: ExAC ref sequence CCA isn't found in hg19 retrieved codon sequence TCC\n",
      "calc_exac_maf_data 33960113 Error: the ExAC alt codon c doesn't match my alt codon calculation TCC\n",
      "calc_exac_maf_data 33960113 Error: the ExAC alt aa X doesn't match my alt aa calculation S\n"
     ]
    },
    {
     "ename": "KeyboardInterrupt",
     "evalue": "",
     "output_type": "error",
     "traceback": [
      "\u001b[1;31m---------------------------------------------------------------------------\u001b[0m",
      "\u001b[1;31mKeyboardInterrupt\u001b[0m                         Traceback (most recent call last)",
      "\u001b[1;32m<ipython-input-15-f178c3a4d322>\u001b[0m in \u001b[0;36m<module>\u001b[1;34m()\u001b[0m\n\u001b[0;32m     57\u001b[0m \u001b[1;33m\u001b[0m\u001b[0m\n\u001b[0;32m     58\u001b[0m                 \u001b[1;31m#Analysis of the amino-acid MAF and realted data, returned in a dictionary\u001b[0m\u001b[1;33m\u001b[0m\u001b[1;33m\u001b[0m\u001b[0m\n\u001b[1;32m---> 59\u001b[1;33m                 \u001b[0minfo_dict\u001b[0m \u001b[1;33m=\u001b[0m \u001b[0mcalc_exac_maf_data\u001b[0m\u001b[1;33m(\u001b[0m\u001b[0mchrom_pos_list\u001b[0m\u001b[1;33m,\u001b[0m \u001b[0mchrom_gene_table\u001b[0m\u001b[1;33m,\u001b[0m \u001b[0mprotein_pos\u001b[0m\u001b[1;33m,\u001b[0m \u001b[0maa\u001b[0m\u001b[1;33m,\u001b[0m \u001b[0mchrom_raw_data\u001b[0m\u001b[1;33m,\u001b[0m \u001b[0mchrom\u001b[0m\u001b[1;33m)\u001b[0m\u001b[1;33m\u001b[0m\u001b[0m\n\u001b[0m\u001b[0;32m     60\u001b[0m \u001b[1;33m\u001b[0m\u001b[0m\n\u001b[0;32m     61\u001b[0m                 \u001b[1;31m#Adding the dictionary to the HMM-state list\u001b[0m\u001b[1;33m\u001b[0m\u001b[1;33m\u001b[0m\u001b[0m\n",
      "\u001b[1;32m<ipython-input-14-bc4b8b3412b5>\u001b[0m in \u001b[0;36mcalc_exac_maf_data\u001b[1;34m(chrom_pos_list, chrom_gene_table, protein_pos, aa, chrom_raw_data, chrom)\u001b[0m\n\u001b[0;32m      7\u001b[0m     \u001b[0mres_dict\u001b[0m\u001b[1;33m[\u001b[0m\u001b[1;34m\"prot_pos\"\u001b[0m\u001b[1;33m]\u001b[0m \u001b[1;33m=\u001b[0m \u001b[0mprotein_pos\u001b[0m\u001b[1;33m\u001b[0m\u001b[0m\n\u001b[0;32m      8\u001b[0m     \u001b[0mres_dict\u001b[0m\u001b[1;33m[\u001b[0m\u001b[1;34m\"aa_ref\"\u001b[0m\u001b[1;33m]\u001b[0m \u001b[1;33m=\u001b[0m \u001b[0maa\u001b[0m\u001b[1;33m\u001b[0m\u001b[0m\n\u001b[1;32m----> 9\u001b[1;33m     \u001b[0mres_dict\u001b[0m\u001b[1;33m[\u001b[0m\u001b[1;34m\"bp_ref\"\u001b[0m\u001b[1;33m]\u001b[0m \u001b[1;33m=\u001b[0m \u001b[0mretrieve_codon_seq\u001b[0m\u001b[1;33m(\u001b[0m\u001b[0mchrom_pos_list\u001b[0m\u001b[1;33m,\u001b[0m \u001b[0mchrom_raw_data\u001b[0m\u001b[1;33m,\u001b[0m \u001b[0mchrom\u001b[0m\u001b[1;33m)\u001b[0m\u001b[1;33m\u001b[0m\u001b[0m\n\u001b[0m\u001b[0;32m     10\u001b[0m \u001b[1;33m\u001b[0m\u001b[0m\n\u001b[0;32m     11\u001b[0m     \u001b[1;31m#For error logging\u001b[0m\u001b[1;33m\u001b[0m\u001b[1;33m\u001b[0m\u001b[0m\n",
      "\u001b[1;32m<ipython-input-13-80e33eed94a3>\u001b[0m in \u001b[0;36mretrieve_codon_seq\u001b[1;34m(chrom_pos_list, chrom_raw_data, chrom)\u001b[0m\n\u001b[0;32m     14\u001b[0m     \u001b[1;32mfor\u001b[0m \u001b[0mchrom_pos\u001b[0m \u001b[1;32min\u001b[0m \u001b[0mchrom_pos_list\u001b[0m\u001b[1;33m:\u001b[0m\u001b[1;33m\u001b[0m\u001b[0m\n\u001b[0;32m     15\u001b[0m         \u001b[0mseq_start\u001b[0m \u001b[1;33m=\u001b[0m \u001b[0mchrom_pos\u001b[0m \u001b[1;33m-\u001b[0m \u001b[1;36m1\u001b[0m\u001b[1;33m\u001b[0m\u001b[0m\n\u001b[1;32m---> 16\u001b[1;33m         \u001b[0mquery\u001b[0m \u001b[1;33m=\u001b[0m \u001b[0mget_ipython\u001b[0m\u001b[1;33m(\u001b[0m\u001b[1;33m)\u001b[0m\u001b[1;33m.\u001b[0m\u001b[0mgetoutput\u001b[0m\u001b[1;33m(\u001b[0m\u001b[1;34mu'./twoBitToFa hg19.2bit stdout -seq=$chromsome_name -start=$seq_start -end=$chrom_pos'\u001b[0m\u001b[1;33m)\u001b[0m\u001b[1;33m\u001b[0m\u001b[0m\n\u001b[0m\u001b[0;32m     17\u001b[0m         \u001b[0mseq\u001b[0m \u001b[1;33m=\u001b[0m \u001b[0mseq\u001b[0m\u001b[1;33m+\u001b[0m\u001b[0mquery\u001b[0m\u001b[1;33m[\u001b[0m\u001b[1;36m1\u001b[0m\u001b[1;33m]\u001b[0m\u001b[1;33m\u001b[0m\u001b[0m\n\u001b[0;32m     18\u001b[0m \u001b[1;33m\u001b[0m\u001b[0m\n",
      "\u001b[1;32m/home/anat/anaconda2/lib/python2.7/site-packages/IPython/core/interactiveshell.pyc\u001b[0m in \u001b[0;36mgetoutput\u001b[1;34m(self, cmd, split, depth)\u001b[0m\n\u001b[0;32m   2290\u001b[0m             \u001b[1;31m# this is *far* from a rigorous test\u001b[0m\u001b[1;33m\u001b[0m\u001b[1;33m\u001b[0m\u001b[0m\n\u001b[0;32m   2291\u001b[0m             \u001b[1;32mraise\u001b[0m \u001b[0mOSError\u001b[0m\u001b[1;33m(\u001b[0m\u001b[1;34m\"Background processes not supported.\"\u001b[0m\u001b[1;33m)\u001b[0m\u001b[1;33m\u001b[0m\u001b[0m\n\u001b[1;32m-> 2292\u001b[1;33m         \u001b[0mout\u001b[0m \u001b[1;33m=\u001b[0m \u001b[0mgetoutput\u001b[0m\u001b[1;33m(\u001b[0m\u001b[0mself\u001b[0m\u001b[1;33m.\u001b[0m\u001b[0mvar_expand\u001b[0m\u001b[1;33m(\u001b[0m\u001b[0mcmd\u001b[0m\u001b[1;33m,\u001b[0m \u001b[0mdepth\u001b[0m\u001b[1;33m=\u001b[0m\u001b[0mdepth\u001b[0m\u001b[1;33m+\u001b[0m\u001b[1;36m1\u001b[0m\u001b[1;33m)\u001b[0m\u001b[1;33m)\u001b[0m\u001b[1;33m\u001b[0m\u001b[0m\n\u001b[0m\u001b[0;32m   2293\u001b[0m         \u001b[1;32mif\u001b[0m \u001b[0msplit\u001b[0m\u001b[1;33m:\u001b[0m\u001b[1;33m\u001b[0m\u001b[0m\n\u001b[0;32m   2294\u001b[0m             \u001b[0mout\u001b[0m \u001b[1;33m=\u001b[0m \u001b[0mSList\u001b[0m\u001b[1;33m(\u001b[0m\u001b[0mout\u001b[0m\u001b[1;33m.\u001b[0m\u001b[0msplitlines\u001b[0m\u001b[1;33m(\u001b[0m\u001b[1;33m)\u001b[0m\u001b[1;33m)\u001b[0m\u001b[1;33m\u001b[0m\u001b[0m\n",
      "\u001b[1;32m/home/anat/anaconda2/lib/python2.7/site-packages/IPython/utils/_process_common.pyc\u001b[0m in \u001b[0;36mgetoutput\u001b[1;34m(cmd)\u001b[0m\n\u001b[0;32m    120\u001b[0m     correct order as would be seen if running the command in a terminal).\n\u001b[0;32m    121\u001b[0m     \"\"\"\n\u001b[1;32m--> 122\u001b[1;33m     \u001b[0mout\u001b[0m \u001b[1;33m=\u001b[0m \u001b[0mprocess_handler\u001b[0m\u001b[1;33m(\u001b[0m\u001b[0mcmd\u001b[0m\u001b[1;33m,\u001b[0m \u001b[1;32mlambda\u001b[0m \u001b[0mp\u001b[0m\u001b[1;33m:\u001b[0m \u001b[0mp\u001b[0m\u001b[1;33m.\u001b[0m\u001b[0mcommunicate\u001b[0m\u001b[1;33m(\u001b[0m\u001b[1;33m)\u001b[0m\u001b[1;33m[\u001b[0m\u001b[1;36m0\u001b[0m\u001b[1;33m]\u001b[0m\u001b[1;33m,\u001b[0m \u001b[0msubprocess\u001b[0m\u001b[1;33m.\u001b[0m\u001b[0mSTDOUT\u001b[0m\u001b[1;33m)\u001b[0m\u001b[1;33m\u001b[0m\u001b[0m\n\u001b[0m\u001b[0;32m    123\u001b[0m     \u001b[1;32mif\u001b[0m \u001b[0mout\u001b[0m \u001b[1;32mis\u001b[0m \u001b[0mNone\u001b[0m\u001b[1;33m:\u001b[0m\u001b[1;33m\u001b[0m\u001b[0m\n\u001b[0;32m    124\u001b[0m         \u001b[1;32mreturn\u001b[0m \u001b[1;34m''\u001b[0m\u001b[1;33m\u001b[0m\u001b[0m\n",
      "\u001b[1;32m/home/anat/anaconda2/lib/python2.7/site-packages/IPython/utils/_process_common.pyc\u001b[0m in \u001b[0;36mprocess_handler\u001b[1;34m(cmd, callback, stderr)\u001b[0m\n\u001b[0;32m     74\u001b[0m                          \u001b[0mstdout\u001b[0m\u001b[1;33m=\u001b[0m\u001b[0msubprocess\u001b[0m\u001b[1;33m.\u001b[0m\u001b[0mPIPE\u001b[0m\u001b[1;33m,\u001b[0m\u001b[1;33m\u001b[0m\u001b[0m\n\u001b[0;32m     75\u001b[0m                          \u001b[0mstderr\u001b[0m\u001b[1;33m=\u001b[0m\u001b[0mstderr\u001b[0m\u001b[1;33m,\u001b[0m\u001b[1;33m\u001b[0m\u001b[0m\n\u001b[1;32m---> 76\u001b[1;33m                          close_fds=close_fds)\n\u001b[0m\u001b[0;32m     77\u001b[0m \u001b[1;33m\u001b[0m\u001b[0m\n\u001b[0;32m     78\u001b[0m     \u001b[1;32mtry\u001b[0m\u001b[1;33m:\u001b[0m\u001b[1;33m\u001b[0m\u001b[0m\n",
      "\u001b[1;32m/home/anat/anaconda2/lib/python2.7/subprocess.pyc\u001b[0m in \u001b[0;36m__init__\u001b[1;34m(self, args, bufsize, executable, stdin, stdout, stderr, preexec_fn, close_fds, shell, cwd, env, universal_newlines, startupinfo, creationflags)\u001b[0m\n\u001b[0;32m    708\u001b[0m                                 \u001b[0mp2cread\u001b[0m\u001b[1;33m,\u001b[0m \u001b[0mp2cwrite\u001b[0m\u001b[1;33m,\u001b[0m\u001b[1;33m\u001b[0m\u001b[0m\n\u001b[0;32m    709\u001b[0m                                 \u001b[0mc2pread\u001b[0m\u001b[1;33m,\u001b[0m \u001b[0mc2pwrite\u001b[0m\u001b[1;33m,\u001b[0m\u001b[1;33m\u001b[0m\u001b[0m\n\u001b[1;32m--> 710\u001b[1;33m                                 errread, errwrite)\n\u001b[0m\u001b[0;32m    711\u001b[0m         \u001b[1;32mexcept\u001b[0m \u001b[0mException\u001b[0m\u001b[1;33m:\u001b[0m\u001b[1;33m\u001b[0m\u001b[0m\n\u001b[0;32m    712\u001b[0m             \u001b[1;31m# Preserve original exception in case os.close raises.\u001b[0m\u001b[1;33m\u001b[0m\u001b[1;33m\u001b[0m\u001b[0m\n",
      "\u001b[1;32m/home/anat/anaconda2/lib/python2.7/subprocess.pyc\u001b[0m in \u001b[0;36m_execute_child\u001b[1;34m(self, args, executable, preexec_fn, close_fds, cwd, env, universal_newlines, startupinfo, creationflags, shell, to_close, p2cread, p2cwrite, c2pread, c2pwrite, errread, errwrite)\u001b[0m\n\u001b[0;32m   1314\u001b[0m                 \u001b[1;31m# Wait for exec to fail or succeed; possibly raising exception\u001b[0m\u001b[1;33m\u001b[0m\u001b[1;33m\u001b[0m\u001b[0m\n\u001b[0;32m   1315\u001b[0m                 \u001b[1;31m# Exception limited to 1M\u001b[0m\u001b[1;33m\u001b[0m\u001b[1;33m\u001b[0m\u001b[0m\n\u001b[1;32m-> 1316\u001b[1;33m                 \u001b[0mdata\u001b[0m \u001b[1;33m=\u001b[0m \u001b[0m_eintr_retry_call\u001b[0m\u001b[1;33m(\u001b[0m\u001b[0mos\u001b[0m\u001b[1;33m.\u001b[0m\u001b[0mread\u001b[0m\u001b[1;33m,\u001b[0m \u001b[0merrpipe_read\u001b[0m\u001b[1;33m,\u001b[0m \u001b[1;36m1048576\u001b[0m\u001b[1;33m)\u001b[0m\u001b[1;33m\u001b[0m\u001b[0m\n\u001b[0m\u001b[0;32m   1317\u001b[0m             \u001b[1;32mfinally\u001b[0m\u001b[1;33m:\u001b[0m\u001b[1;33m\u001b[0m\u001b[0m\n\u001b[0;32m   1318\u001b[0m                 \u001b[1;32mif\u001b[0m \u001b[0mp2cread\u001b[0m \u001b[1;32mis\u001b[0m \u001b[1;32mnot\u001b[0m \u001b[0mNone\u001b[0m \u001b[1;32mand\u001b[0m \u001b[0mp2cwrite\u001b[0m \u001b[1;32mis\u001b[0m \u001b[1;32mnot\u001b[0m \u001b[0mNone\u001b[0m\u001b[1;33m:\u001b[0m\u001b[1;33m\u001b[0m\u001b[0m\n",
      "\u001b[1;32m/home/anat/anaconda2/lib/python2.7/subprocess.pyc\u001b[0m in \u001b[0;36m_eintr_retry_call\u001b[1;34m(func, *args)\u001b[0m\n\u001b[0;32m    474\u001b[0m     \u001b[1;32mwhile\u001b[0m \u001b[0mTrue\u001b[0m\u001b[1;33m:\u001b[0m\u001b[1;33m\u001b[0m\u001b[0m\n\u001b[0;32m    475\u001b[0m         \u001b[1;32mtry\u001b[0m\u001b[1;33m:\u001b[0m\u001b[1;33m\u001b[0m\u001b[0m\n\u001b[1;32m--> 476\u001b[1;33m             \u001b[1;32mreturn\u001b[0m \u001b[0mfunc\u001b[0m\u001b[1;33m(\u001b[0m\u001b[1;33m*\u001b[0m\u001b[0margs\u001b[0m\u001b[1;33m)\u001b[0m\u001b[1;33m\u001b[0m\u001b[0m\n\u001b[0m\u001b[0;32m    477\u001b[0m         \u001b[1;32mexcept\u001b[0m \u001b[1;33m(\u001b[0m\u001b[0mOSError\u001b[0m\u001b[1;33m,\u001b[0m \u001b[0mIOError\u001b[0m\u001b[1;33m)\u001b[0m \u001b[1;32mas\u001b[0m \u001b[0me\u001b[0m\u001b[1;33m:\u001b[0m\u001b[1;33m\u001b[0m\u001b[0m\n\u001b[0;32m    478\u001b[0m             \u001b[1;32mif\u001b[0m \u001b[0me\u001b[0m\u001b[1;33m.\u001b[0m\u001b[0merrno\u001b[0m \u001b[1;33m==\u001b[0m \u001b[0merrno\u001b[0m\u001b[1;33m.\u001b[0m\u001b[0mEINTR\u001b[0m\u001b[1;33m:\u001b[0m\u001b[1;33m\u001b[0m\u001b[0m\n",
      "\u001b[1;31mKeyboardInterrupt\u001b[0m: "
     ]
    }
   ],
   "source": [
    "chrom_path = curr_dir[0]+\"/parsed/\"\n",
    "chrom_filename = \"parsed_chrom\"\n",
    "states_dict = defaultdict(list)\n",
    "\n",
    "#For error logging\n",
    "functionNameAsString = sys._getframe().f_code.co_name\n",
    "\n",
    "for chrom in chromosome_names:\n",
    "    \n",
    "    #Filtering the domain data relevant to this chromosome\n",
    "    domain_chrom_data = sorted_zinc[sorted_zinc[\"chrom_num\"] == chrom]\n",
    "    \n",
    "    #Loading the ExAC parsed data of this chromosome\n",
    "    chrom_csv = pd.read_csv(chrom_path+chrom_filename+chrom+\".csv\", sep='\\t', index_col=0)\n",
    "    chrom_csv = chrom_csv.sort_values(by=[\"pos\"])\n",
    "    chrom_csv = chrom_csv.reset_index(drop=True)\n",
    "    chrom_csv.fillna('', inplace=True)\n",
    "    \n",
    "    #Getting a list of all the relevant ensembl gene ids for this chromosome\n",
    "    domain_ens_genes = (domain_chrom_data[\"ensembl_id\"]).unique()\n",
    "    \n",
    "    #For each ensembl gene in the domain data - finding all the ExAC alterations\n",
    "    for ens_gene in domain_ens_genes:\n",
    "        \n",
    "        #Filtering the domain data for this gene according to the canonical protein id\n",
    "        canonic_prot = canonic_protein[ens_gene]\n",
    "        domain_gene_table = domain_chrom_data[domain_chrom_data[\"prot_id\"] == canonic_prot]\n",
    "        #Making sure that if two HMM-matches overlaps, the higher bit score will come first in the table\n",
    "        domain_gene_table = domain_gene_table.sort_values(by=\"BitScore\", ascending=False)\n",
    "        \n",
    "        #Getting the chosen protein transcript id for the ExAC filtering\n",
    "        canonic_transcript_id = domain_gene_table[\"transcript_id\"].tolist()[0]\n",
    "        \n",
    "        #Creating a table of the exons for this gene, according to the canonical protein\n",
    "        chrom_raw_data = domain_gene_table[\"chromosome_id\"].unique()[0] #there should be only one element here\n",
    "        if (len(domain_gene_table[\"chromosome_id\"].unique()) > 1):\n",
    "            print functionNameAsString+\" Error: \"+ens_gene+\": more than one chromosome raw data\" #sanity check\n",
    "        exon_table = create_exon_pos_table(chrom_raw_data)\n",
    "        \n",
    "        #Filtering the chromosome data to the gene exons region\n",
    "        exons_start_pos = min(exon_table[\"start_pos\"][0],exon_table[\"start_pos\"][len(exon_table)-1]) #in case of complelemt, the minimal position could be at the last row\n",
    "        exons_end_pos = max(exon_table[\"end_pos\"][0],exon_table[\"end_pos\"][len(exon_table)-1]) #in case of complelemt, the maximal position could be at the first row\n",
    "        chrom_gene_table = chrom_csv[chrom_csv[\"pos\"] >= int(exons_start_pos)][chrom_csv[\"pos\"] <= int(exons_end_pos)][chrom_csv[\"feature\"] == canonic_transcript_id]\n",
    "        chrom_gene_table = chrom_gene_table.reset_index(drop=True)\n",
    "        chrom_gene_size = chrom_gene_table.shape[0]\n",
    "        \n",
    "        #Iterating over the amino-acids of the protein\n",
    "        prot_len = domain_gene_table[\"length\"].unique()[0]\n",
    "        for protein_pos in range(1,prot_len+1):\n",
    "    \n",
    "            #Trying to match HMM-state, and retreive the aa from HMMER results\n",
    "            (hmm_state, aa) = protein_pos_to_hmm_state_and_aa(protein_pos, domain_gene_table) #TODO: what happens when two matches overlap? maybe sort to the best bit score?\n",
    "                \n",
    "            #If there's a match to HMM-state: find the corresponding codon bps chromosome positions\n",
    "            if (hmm_state > 0):\n",
    "                chrom_pos_list =find_chrom_bps(protein_pos, exon_table, chrom_raw_data)\n",
    "                \n",
    "                #Analysis of the amino-acid MAF and realted data, returned in a dictionary\n",
    "                info_dict = calc_exac_maf_data(chrom_pos_list, chrom_gene_table, protein_pos, aa, chrom_raw_data, chrom)\n",
    "                \n",
    "                #Adding the dictionary to the HMM-state list\n",
    "                states_dict[hmm_state].append(info_dict)\n",
    "                    \n",
    "    print \"Finished chromosome \"+chrom\n",
    "\n",
    "with open(my_path+'zinc_hmm_states_dict.pik', 'wb') as handle:\n",
    "    pickle.dump(states_dict, handle, protocol=pickle.HIGHEST_PROTOCOL)"
   ]
  },
  {
   "cell_type": "code",
   "execution_count": 144,
   "metadata": {
    "collapsed": true
   },
   "outputs": [],
   "source": [
    "chrom = \"1\"\n",
    "\n",
    "#Filtering the domain data relevant to this chromosome\n",
    "domain_chrom_data = sorted_zinc[sorted_zinc[\"chrom_num\"] == chrom]\n",
    "\n",
    "#Loading the ExAC parsed data of this chromosome\n",
    "chrom_csv = pd.read_csv(chrom_path+chrom_filename+chrom+\".csv\", sep='\\t', index_col=0)\n",
    "chrom_csv = chrom_csv.sort_values(by=[\"pos\"])\n",
    "chrom_csv = chrom_csv.reset_index(drop=True)\n",
    "chrom_csv.fillna('', inplace=True)\n",
    "\n",
    "#Getting a list of all the relevant ensembl gene ids for this chromosome\n",
    "domain_ens_genes = (domain_chrom_data[\"ensembl_id\"]).unique()"
   ]
  },
  {
   "cell_type": "code",
   "execution_count": 145,
   "metadata": {
    "collapsed": false
   },
   "outputs": [],
   "source": [
    "ens_gene = \"ENSG00000204859\"\n",
    "canonic_prot = canonic_protein[ens_gene]\n",
    "domain_gene_table = domain_chrom_data[domain_chrom_data[\"prot_id\"] == canonic_prot]\n",
    "#Making sure that if two HMM-matches overlaps, the higher bit score will come first in the table\n",
    "domain_gene_table = domain_gene_table.sort_values(by=\"BitScore\", ascending=False\n",
    "                                                  \n",
    "#Getting the chosen protein transcript id for the ExAC filtering\n",
    "canonic_transcript_id = domain_gene_table[\"transcript_id\"].tolist()[0]\n",
    "\n",
    "#Creating a table of the exons for this gene, according to the canonical protein\n",
    "chrom_raw_data = domain_gene_table[\"chromosome_id\"].unique()[0] #there should be only one element here\n",
    "if (len(domain_gene_table[\"chromosome_id\"].unique()) > 1):\n",
    "    print functionNameAsString+\" Error: \"+ens_gene+\": more than one chromosome raw data\" #sanity check\n",
    "exon_table = create_exon_pos_table(chrom_raw_data)\n",
    "\n",
    "exons_start_pos = min(exon_table[\"start_pos\"][0],exon_table[\"start_pos\"][len(exon_table)-1]) #in case of complelemt, the minimal position could be at the last row\n",
    "exons_end_pos = max(exon_table[\"end_pos\"][0],exon_table[\"end_pos\"][len(exon_table)-1]) #in case of complelemt, the maximal position could be at the first row\n",
    "chrom_gene_table = chrom_csv[chrom_csv[\"pos\"] >= int(exons_start_pos)][chrom_csv[\"pos\"] <= int(exons_end_pos)][chrom_csv[\"feature\"] == canonic_transcript_id]\n",
    "chrom_gene_table = chrom_gene_table.reset_index(drop=True)\n",
    "chrom_gene_size = chrom_gene_table.shape[0]"
   ]
  },
  {
   "cell_type": "code",
   "execution_count": 181,
   "metadata": {
    "collapsed": false
   },
   "outputs": [
    {
     "data": {
      "text/plain": [
       "'ENST00000377674'"
      ]
     },
     "execution_count": 181,
     "metadata": {},
     "output_type": "execute_result"
    }
   ],
   "source": [
    "domain_gene_table[\"transcript_id\"].tolist()[0]"
   ]
  },
  {
   "cell_type": "code",
   "execution_count": 146,
   "metadata": {
    "collapsed": false
   },
   "outputs": [
    {
     "data": {
      "text/html": [
       "<div>\n",
       "<table border=\"1\" class=\"dataframe\">\n",
       "  <thead>\n",
       "    <tr style=\"text-align: right;\">\n",
       "      <th></th>\n",
       "      <th>start_pos</th>\n",
       "      <th>end_pos</th>\n",
       "      <th>length</th>\n",
       "      <th>first_bp_count</th>\n",
       "    </tr>\n",
       "  </thead>\n",
       "  <tbody>\n",
       "    <tr>\n",
       "      <th>0</th>\n",
       "      <td>6640670</td>\n",
       "      <td>6641359</td>\n",
       "      <td>690</td>\n",
       "      <td>1</td>\n",
       "    </tr>\n",
       "    <tr>\n",
       "      <th>1</th>\n",
       "      <td>6642118</td>\n",
       "      <td>6642359</td>\n",
       "      <td>242</td>\n",
       "      <td>691</td>\n",
       "    </tr>\n",
       "    <tr>\n",
       "      <th>2</th>\n",
       "      <td>6645979</td>\n",
       "      <td>6646090</td>\n",
       "      <td>112</td>\n",
       "      <td>933</td>\n",
       "    </tr>\n",
       "    <tr>\n",
       "      <th>3</th>\n",
       "      <td>6646755</td>\n",
       "      <td>6646847</td>\n",
       "      <td>93</td>\n",
       "      <td>1045</td>\n",
       "    </tr>\n",
       "    <tr>\n",
       "      <th>4</th>\n",
       "      <td>6647265</td>\n",
       "      <td>6647351</td>\n",
       "      <td>87</td>\n",
       "      <td>1138</td>\n",
       "    </tr>\n",
       "    <tr>\n",
       "      <th>5</th>\n",
       "      <td>6647538</td>\n",
       "      <td>6647692</td>\n",
       "      <td>155</td>\n",
       "      <td>1225</td>\n",
       "    </tr>\n",
       "    <tr>\n",
       "      <th>6</th>\n",
       "      <td>6648120</td>\n",
       "      <td>6648256</td>\n",
       "      <td>137</td>\n",
       "      <td>1380</td>\n",
       "    </tr>\n",
       "    <tr>\n",
       "      <th>7</th>\n",
       "      <td>6648338</td>\n",
       "      <td>6648502</td>\n",
       "      <td>165</td>\n",
       "      <td>1517</td>\n",
       "    </tr>\n",
       "    <tr>\n",
       "      <th>8</th>\n",
       "      <td>6648816</td>\n",
       "      <td>6648904</td>\n",
       "      <td>89</td>\n",
       "      <td>1682</td>\n",
       "    </tr>\n",
       "    <tr>\n",
       "      <th>9</th>\n",
       "      <td>6648976</td>\n",
       "      <td>6649272</td>\n",
       "      <td>297</td>\n",
       "      <td>1771</td>\n",
       "    </tr>\n",
       "  </tbody>\n",
       "</table>\n",
       "</div>"
      ],
      "text/plain": [
       "  start_pos  end_pos  length  first_bp_count\n",
       "0   6640670  6641359     690               1\n",
       "1   6642118  6642359     242             691\n",
       "2   6645979  6646090     112             933\n",
       "3   6646755  6646847      93            1045\n",
       "4   6647265  6647351      87            1138\n",
       "5   6647538  6647692     155            1225\n",
       "6   6648120  6648256     137            1380\n",
       "7   6648338  6648502     165            1517\n",
       "8   6648816  6648904      89            1682\n",
       "9   6648976  6649272     297            1771"
      ]
     },
     "execution_count": 146,
     "metadata": {},
     "output_type": "execute_result"
    }
   ],
   "source": [
    "exon_table"
   ]
  },
  {
   "cell_type": "code",
   "execution_count": 148,
   "metadata": {
    "collapsed": false
   },
   "outputs": [
    {
     "data": {
      "text/plain": [
       "'GRCh37.75:1:join(6640670..6641359,6642118..6642359,6645979..6646090,6646755..6646847,6647265..6647351,6647538..6647692,6648120..6648256,6648338..6648502,6648816..6648904,6648976..6649272)'"
      ]
     },
     "execution_count": 148,
     "metadata": {},
     "output_type": "execute_result"
    }
   ],
   "source": [
    "chrom_raw_data"
   ]
  },
  {
   "cell_type": "code",
   "execution_count": 149,
   "metadata": {
    "collapsed": false
   },
   "outputs": [
    {
     "name": "stdout",
     "output_type": "stream",
     "text": [
      "calc_exac_maf_data 6646818 Error: ExAC protein position 125 doesn't match HMMER protein position 370\n"
     ]
    }
   ],
   "source": [
    "protein_pos = 370\n",
    "(hmm_state, aa) = protein_pos_to_hmm_state_and_aa(protein_pos, domain_gene_table)\n",
    "chrom_pos_list = find_chrom_bps(protein_pos, exon_table, chrom_raw_data)\n",
    "info_dict = calc_exac_maf_data(chrom_pos_list, chrom_gene_table, protein_pos, aa, chrom_raw_data, chrom)"
   ]
  },
  {
   "cell_type": "code",
   "execution_count": 150,
   "metadata": {
    "collapsed": false
   },
   "outputs": [
    {
     "data": {
      "text/plain": [
       "(6646818, 6646819, 6646820)"
      ]
     },
     "execution_count": 150,
     "metadata": {},
     "output_type": "execute_result"
    }
   ],
   "source": [
    "chrom_pos_list"
   ]
  },
  {
   "cell_type": "code",
   "execution_count": 81,
   "metadata": {
    "collapsed": false
   },
   "outputs": [
    {
     "data": {
      "text/plain": [
       "{'aa_ref': 'F',\n",
       " 'af': 9.431e-06,\n",
       " 'af_adj': 9.474e-06,\n",
       " 'bp_ref': 'TTT',\n",
       " 'chrom': '1',\n",
       " 'chrom_pos': (33960183, 33960184, 33960185),\n",
       " 'prot_pos': 747}"
      ]
     },
     "execution_count": 81,
     "metadata": {},
     "output_type": "execute_result"
    }
   ],
   "source": [
    "info_dict"
   ]
  },
  {
   "cell_type": "code",
   "execution_count": 178,
   "metadata": {
    "collapsed": false
   },
   "outputs": [
    {
     "data": {
      "text/plain": [
       "{'AC': {52335: '1'},\n",
       " 'AC_Adj': {52335: '1'},\n",
       " 'AF': {52335: '9.416e-06'},\n",
       " 'AN': {52335: 106198},\n",
       " 'AN_Adj': {52335: 90142},\n",
       " 'DP': {52335: 1044605},\n",
       " 'SIFT': {52335: 'tolerated(0.31)'},\n",
       " 'SWISSPROT': {52335: ''},\n",
       " 'alt': {52335: 'T'},\n",
       " 'amino_acids': {52335: 'V/L'},\n",
       " 'chrom': {52335: 1},\n",
       " 'clin_sig': {52335: ''},\n",
       " 'codons': {52335: 'Gtg/Ttg'},\n",
       " 'conseq': {52335: 'missense_variant'},\n",
       " 'domains': {52335: 'Pfam_domain:PF00096&PROSITE_profiles:PS50157&SMART_domains:SM00355&Superfamily_domains:SSF57667'},\n",
       " 'filter': {52335: 'PASS'},\n",
       " 'gene': {52335: 'ENSG00000204859'},\n",
       " 'id': {52335: '.'},\n",
       " 'pos': {52335: 6646818},\n",
       " 'prot_pos': {52335: '125'},\n",
       " 'qual': {52335: 341.50999999999999},\n",
       " 'ref': {52335: 'G'}}"
      ]
     },
     "execution_count": 178,
     "metadata": {},
     "output_type": "execute_result"
    }
   ],
   "source": [
    "(chrom_csv[chrom_csv[\"pos\"] == 6646818]).to_dict()"
   ]
  },
  {
   "cell_type": "code",
   "execution_count": null,
   "metadata": {
    "collapsed": true
   },
   "outputs": [],
   "source": []
  }
 ],
 "metadata": {
  "kernelspec": {
   "display_name": "Python 2",
   "language": "python",
   "name": "python2"
  },
  "language_info": {
   "codemirror_mode": {
    "name": "ipython",
    "version": 2
   },
   "file_extension": ".py",
   "mimetype": "text/x-python",
   "name": "python",
   "nbconvert_exporter": "python",
   "pygments_lexer": "ipython2",
   "version": "2.7.10"
  }
 },
 "nbformat": 4,
 "nbformat_minor": 0
}
