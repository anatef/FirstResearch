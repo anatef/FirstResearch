{
 "cells": [
  {
   "cell_type": "code",
   "execution_count": 1,
   "metadata": {
    "collapsed": true
   },
   "outputs": [],
   "source": [
    "import pandas as pd\n",
    "import numpy as np\n",
    "import gzip\n",
    "from collections import defaultdict\n",
    "import pickle\n",
    "from IPython.core.display import HTML\n",
    "HTML(\"<style>.container { width:100% !important; }</style>\");"
   ]
  },
  {
   "cell_type": "code",
   "execution_count": 2,
   "metadata": {
    "collapsed": true
   },
   "outputs": [],
   "source": [
    "curr_dir = !pwd\n",
    "filename = \"Pfam-A.hmm.gz\"\n",
    "pfam_file = gzip.open(curr_dir[0]+\"/v30/\"+filename,'r')"
   ]
  },
  {
   "cell_type": "code",
   "execution_count": 3,
   "metadata": {
    "collapsed": true
   },
   "outputs": [],
   "source": [
    "#Constants\n",
    "EOF = \"//\"\n",
    "conservation_threshold = 0.8"
   ]
  },
  {
   "cell_type": "code",
   "execution_count": 4,
   "metadata": {
    "collapsed": false
   },
   "outputs": [
    {
     "name": "stdout",
     "output_type": "stream",
     "text": [
      "CPU times: user 1min 4s, sys: 2.36 s, total: 1min 6s\n",
      "Wall time: 1min 6s\n"
     ]
    }
   ],
   "source": [
    "%%time \n",
    "#Reading the -log(prob) of the match states emissions from the Pfam HMM file\n",
    "\n",
    "domains_hmm_dict = {}\n",
    "print_flag = True\n",
    "\n",
    "while (print_flag):\n",
    "    print_flag = False\n",
    "    hmm_log_prob_dict = defaultdict(list)\n",
    "    for line in pfam_file:\n",
    "        print_flag = True\n",
    "        if (line[0:4] == \"NAME\"):\n",
    "            domain_name = line[6:-1]\n",
    "        if (line[0:4] == \"HMM \"):\n",
    "            aa = line.split()\n",
    "            aa.remove(\"HMM\")\n",
    "            break\n",
    "\n",
    "    states_cnt = 1\n",
    "    for line in pfam_file:\n",
    "        print_flag = True\n",
    "        line_list = line.split()\n",
    "        if (line_list[0] == EOF):\n",
    "            break\n",
    "        if (line_list[0] == str(states_cnt)):\n",
    "            #Saving the probalities as a list for the corresponding HMM state\n",
    "            prob_strs = line.split()[1:1+len(aa)]\n",
    "            for i in prob_strs:\n",
    "                if (i == \"*\"):\n",
    "                    hmm_log_prob_dict[states_cnt].append(float('inf'))\n",
    "                else:\n",
    "                    hmm_log_prob_dict[states_cnt].append(float(i))\n",
    "            states_cnt += 1\n",
    "\n",
    "    domains_hmm_dict[domain_name] = hmm_log_prob_dict"
   ]
  },
  {
   "cell_type": "code",
   "execution_count": 5,
   "metadata": {
    "collapsed": false
   },
   "outputs": [],
   "source": [
    "#Saving to file\n",
    "with open(curr_dir[0]+'/v30/domains_hmm_dict.pik', 'wb') as handle:\n",
    "    pickle.dump(domains_hmm_dict, handle, protocol=pickle.HIGHEST_PROTOCOL)"
   ]
  },
  {
   "cell_type": "code",
   "execution_count": 7,
   "metadata": {
    "collapsed": false
   },
   "outputs": [
    {
     "name": "stdout",
     "output_type": "stream",
     "text": [
      "CPU times: user 2min, sys: 7.54 s, total: 2min 8s\n",
      "Wall time: 2min 7s\n"
     ]
    }
   ],
   "source": [
    "%%time\n",
    "#Converting to probalities, and saving a vector for each HMM match state\n",
    "domains_hmm_prob_dict = {}\n",
    "for domain_name in domains_hmm_dict.keys():\n",
    "    hmm_prob_dict = {}\n",
    "    for state in domains_hmm_dict[domain_name].keys():\n",
    "        hmm_prob_dict[state] = 1/np.exp(domains_hmm_dict[domain_name][state])\n",
    "    domains_hmm_prob_dict[domain_name] = hmm_prob_dict\n",
    "\n",
    "#Saving to file\n",
    "with open(curr_dir[0]+'/v30/domains_hmm_prob_dict.pik', 'wb') as handle:\n",
    "    pickle.dump(domains_hmm_prob_dict, handle, protocol=pickle.HIGHEST_PROTOCOL)"
   ]
  }
 ],
 "metadata": {
  "kernelspec": {
   "display_name": "Python 2",
   "language": "python",
   "name": "python2"
  },
  "language_info": {
   "codemirror_mode": {
    "name": "ipython",
    "version": 2
   },
   "file_extension": ".py",
   "mimetype": "text/x-python",
   "name": "python",
   "nbconvert_exporter": "python",
   "pygments_lexer": "ipython2",
   "version": "2.7.12"
  }
 },
 "nbformat": 4,
 "nbformat_minor": 0
}
