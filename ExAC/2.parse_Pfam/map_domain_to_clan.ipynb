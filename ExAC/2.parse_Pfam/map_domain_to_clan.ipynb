{
 "cells": [
  {
   "cell_type": "code",
   "execution_count": 1,
   "metadata": {},
   "outputs": [
    {
     "data": {
      "text/html": [
       "<style>.container { width:100% !important; }</style>"
      ],
      "text/plain": [
       "<IPython.core.display.HTML object>"
      ]
     },
     "execution_count": 1,
     "metadata": {},
     "output_type": "execute_result"
    }
   ],
   "source": [
    "import pandas as pd\n",
    "import numpy as np\n",
    "import pickle\n",
    "from collections import defaultdict\n",
    "\n",
    "from IPython.core.display import HTML\n",
    "HTML(\"<style>.container { width:100% !important; }</style>\")"
   ]
  },
  {
   "cell_type": "markdown",
   "metadata": {},
   "source": [
    "### Using the Pfam-A.clans.tsv file"
   ]
  },
  {
   "cell_type": "code",
   "execution_count": 2,
   "metadata": {},
   "outputs": [],
   "source": [
    "curr_dir = !pwd\n",
    "pfam_version = \"32\"\n",
    "input_path = curr_dir[0]+\"/../2.parse_Pfam/v\"+pfam_version+\"/\"\n",
    "filename = \"Pfam-A.clans.tsv\"\n",
    "\n",
    "#Get the data into a data frame (header has a different delimeter)\n",
    "pfam_human_proteome = pd.read_csv(input_path+filename, sep='\\t', index_col=False, header=None)\n",
    "pfam_human_proteome.columns = [\"pfam_id\", \"clan_id\", \"clan_name\", \"domain_name\", \"description\"]"
   ]
  },
  {
   "cell_type": "markdown",
   "metadata": {},
   "source": [
    "#### Creating a dict to map domain to clan and vice versa"
   ]
  },
  {
   "cell_type": "code",
   "execution_count": 3,
   "metadata": {},
   "outputs": [],
   "source": [
    "domain_to_clan = {}\n",
    "clan_to_domain = defaultdict(set)\n",
    "for index, line in pfam_human_proteome.iterrows():\n",
    "    domain_name = line[\"domain_name\"]\n",
    "    clan = line[\"clan_name\"]\n",
    "    domain_to_clan[domain_name] = clan\n",
    "    clan_to_domain[clan].add(domain_name)"
   ]
  },
  {
   "cell_type": "code",
   "execution_count": 4,
   "metadata": {},
   "outputs": [],
   "source": [
    "#Saving dicts\n",
    "with open(input_path+\"updated_domain_to_clan_dict.pik\", 'wb') as handle:\n",
    "    pickle.dump(domain_to_clan, handle, protocol=pickle.HIGHEST_PROTOCOL)\n",
    "with open(input_path+\"updated_clan_to_domains_dict.pik\", 'wb') as handle:\n",
    "    pickle.dump(clan_to_domain, handle, protocol=pickle.HIGHEST_PROTOCOL)"
   ]
  },
  {
   "cell_type": "markdown",
   "metadata": {},
   "source": [
    "#### Mapping of domain names to PFAM ids"
   ]
  },
  {
   "cell_type": "code",
   "execution_count": 5,
   "metadata": {},
   "outputs": [],
   "source": [
    "domain_to_pfam_acc = {}\n",
    "for index, line in pfam_human_proteome.iterrows():\n",
    "    domain_name = line[\"domain_name\"]\n",
    "    domain_acc = line[\"pfam_id\"]\n",
    "    domain_to_pfam_acc[domain_name] = domain_acc"
   ]
  },
  {
   "cell_type": "code",
   "execution_count": 6,
   "metadata": {},
   "outputs": [],
   "source": [
    "with open(input_path+\"updated_domain_to_pfam_acc_dict.pik\", 'wb') as handle:\n",
    "    pickle.dump(domain_to_pfam_acc, handle, protocol=pickle.HIGHEST_PROTOCOL)"
   ]
  },
  {
   "cell_type": "markdown",
   "metadata": {},
   "source": [
    "### Using the 9606.tsv file (that had some clan associations missing!)"
   ]
  },
  {
   "cell_type": "code",
   "execution_count": 2,
   "metadata": {},
   "outputs": [],
   "source": [
    "curr_dir = !pwd\n",
    "pfam_version = \"31\"\n",
    "input_path = curr_dir[0]+\"/../2.parse_Pfam/v\"+pfam_version+\"/\"\n",
    "filename = \"9606.tsv\" #Downloaded from: ftp://ftp.ebi.ac.uk/pub/databases/Pfam/releases/Pfam30.0/proteomes/\n",
    "\n",
    "#Get the data into a data frame (header has a different delimeter)\n",
    "pfam_human_proteome = pd.read_csv(input_path+filename, sep='\\t', skiprows=[0,1,2], index_col=False, header=None)\n",
    "pfam_human_proteome_header = pd.read_csv(input_path+filename, sep='<', skiprows=[0,1], nrows=1, header=None)\n",
    "pfam_human_proteome_header = pfam_human_proteome_header.iloc[0].tolist()\n",
    "pfam_human_proteome_header.remove(\"#\")\n",
    "pfam_human_proteome_header = [x[:x.find('>')] for x in pfam_human_proteome_header]\n",
    "pfam_human_proteome_header\n",
    "pfam_human_proteome.columns = pfam_human_proteome_header"
   ]
  },
  {
   "cell_type": "markdown",
   "metadata": {},
   "source": [
    "#### Creating a dict to map domain to clan and vice versa"
   ]
  },
  {
   "cell_type": "code",
   "execution_count": 3,
   "metadata": {},
   "outputs": [],
   "source": [
    "domain_to_clan = {}\n",
    "clan_to_domain = defaultdict(set)\n",
    "for index, line in pfam_human_proteome.iterrows():\n",
    "    domain_name = line[\"hmm name\"]\n",
    "    clan = line[\"clan\"]\n",
    "    domain_to_clan[domain_name] = clan\n",
    "    clan_to_domain[clan].add(domain_name)"
   ]
  },
  {
   "cell_type": "code",
   "execution_count": 4,
   "metadata": {},
   "outputs": [],
   "source": [
    "#Saving dicts\n",
    "with open(input_path+\"domain_to_clan_dict.pik\", 'wb') as handle:\n",
    "    pickle.dump(domain_to_clan, handle, protocol=pickle.HIGHEST_PROTOCOL)\n",
    "with open(input_path+\"clan_to_domains_dict.pik\", 'wb') as handle:\n",
    "    pickle.dump(clan_to_domain, handle, protocol=pickle.HIGHEST_PROTOCOL)"
   ]
  },
  {
   "cell_type": "markdown",
   "metadata": {},
   "source": [
    "#### Mapping of domain names to PFAM ids"
   ]
  },
  {
   "cell_type": "code",
   "execution_count": 6,
   "metadata": {},
   "outputs": [],
   "source": [
    "domain_to_pfam_acc = {}\n",
    "for index, line in pfam_human_proteome.iterrows():\n",
    "    domain_name = line[\"hmm name\"]\n",
    "    domain_acc = line[\"hmm acc\"]\n",
    "    domain_to_pfam_acc[domain_name] = domain_acc"
   ]
  },
  {
   "cell_type": "code",
   "execution_count": 8,
   "metadata": {},
   "outputs": [],
   "source": [
    "with open(input_path+\"domain_to_pfam_acc_dict.pik\", 'wb') as handle:\n",
    "    pickle.dump(domain_to_pfam_acc, handle, protocol=pickle.HIGHEST_PROTOCOL)"
   ]
  },
  {
   "cell_type": "code",
   "execution_count": null,
   "metadata": {},
   "outputs": [],
   "source": []
  }
 ],
 "metadata": {
  "kernelspec": {
   "display_name": "Python 2",
   "language": "python",
   "name": "python2"
  },
  "language_info": {
   "codemirror_mode": {
    "name": "ipython",
    "version": 2
   },
   "file_extension": ".py",
   "mimetype": "text/x-python",
   "name": "python",
   "nbconvert_exporter": "python",
   "pygments_lexer": "ipython2",
   "version": "2.7.12"
  }
 },
 "nbformat": 4,
 "nbformat_minor": 1
}
