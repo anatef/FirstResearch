{
 "cells": [
  {
   "cell_type": "code",
   "execution_count": 1,
   "metadata": {},
   "outputs": [],
   "source": [
    "import pandas as pd\n",
    "import numpy as np\n",
    "import gzip\n",
    "from collections import defaultdict\n",
    "import matplotlib.pyplot as plt\n",
    "import pickle\n",
    "from IPython.core.display import HTML\n",
    "HTML(\"<style>.container { width:100% !important; }</style>\");"
   ]
  },
  {
   "cell_type": "code",
   "execution_count": 2,
   "metadata": {},
   "outputs": [],
   "source": [
    "curr_dir = !pwd\n",
    "pfam_version = \"32\"\n",
    "filename = \"Pfam-A.hmm.gz\"\n",
    "pfam_file = gzip.open(curr_dir[0]+\"/v\"+pfam_version+\"/\"+filename,'r')"
   ]
  },
  {
   "cell_type": "code",
   "execution_count": 3,
   "metadata": {},
   "outputs": [],
   "source": [
    "#Constants\n",
    "EOF = \"//\""
   ]
  },
  {
   "cell_type": "code",
   "execution_count": 4,
   "metadata": {
    "scrolled": true
   },
   "outputs": [],
   "source": [
    "#%%time \n",
    "#Reading the -log(prob) of the match states emissions from the Pfam HMM file\n",
    "\n",
    "domains_hmm_dict = {}\n",
    "print_flag = True\n",
    "\n",
    "while (print_flag):\n",
    "    print_flag = False\n",
    "    hmm_log_prob_dict = defaultdict(list)\n",
    "    for line in pfam_file:\n",
    "        print_flag = True\n",
    "        if (line[0:4] == \"NAME\"):\n",
    "            domain_name = line[6:-1]\n",
    "        if (line[0:4] == \"HMM \"):\n",
    "            aa = line.split()\n",
    "            aa.remove(\"HMM\")\n",
    "            break\n",
    "\n",
    "    states_cnt = 1\n",
    "    for line in pfam_file:\n",
    "        print_flag = True\n",
    "        line_list = line.split()\n",
    "        if (line_list[0] == EOF):\n",
    "            break\n",
    "        if (line_list[0] == str(states_cnt)):\n",
    "            #Saving the probalities as a list for the corresponding HMM state\n",
    "            prob_strs = line.split()[1:1+len(aa)]\n",
    "            for i in prob_strs:\n",
    "                if (i == \"*\"):\n",
    "                    hmm_log_prob_dict[states_cnt].append(float('inf'))\n",
    "                else:\n",
    "                    hmm_log_prob_dict[states_cnt].append(float(i))\n",
    "            states_cnt += 1\n",
    "\n",
    "    #Checking if its the end of the entire file\n",
    "    if (len(hmm_log_prob_dict.keys()) == 0):\n",
    "        break\n",
    "    domains_hmm_dict[domain_name] = hmm_log_prob_dict"
   ]
  },
  {
   "cell_type": "code",
   "execution_count": 5,
   "metadata": {},
   "outputs": [],
   "source": [
    "#Saving to file\n",
    "with open(curr_dir[0]+\"/v\"+pfam_version+\"/domains_hmm_dict.pik\", 'wb') as handle:\n",
    "    pickle.dump(domains_hmm_dict, handle, protocol=pickle.HIGHEST_PROTOCOL)"
   ]
  },
  {
   "cell_type": "code",
   "execution_count": 6,
   "metadata": {},
   "outputs": [
    {
     "name": "stdout",
     "output_type": "stream",
     "text": [
      "CPU times: user 2min 14s, sys: 8.98 s, total: 2min 23s\n",
      "Wall time: 2min 22s\n"
     ]
    }
   ],
   "source": [
    "%%time\n",
    "#Converting to probalities, and saving a vector for each HMM match state\n",
    "domains_hmm_prob_dict = {}\n",
    "for domain_name in domains_hmm_dict.keys():\n",
    "    hmm_prob_dict = {}\n",
    "    for state in domains_hmm_dict[domain_name].keys():\n",
    "        hmm_prob_dict[state] = 1/np.exp(domains_hmm_dict[domain_name][state])\n",
    "    domains_hmm_prob_dict[domain_name] = hmm_prob_dict\n",
    "\n",
    "#Saving to file\n",
    "with open(curr_dir[0]+\"/v\"+pfam_version+\"/domains_hmm_prob_dict.pik\", 'wb') as handle:\n",
    "    pickle.dump(domains_hmm_prob_dict, handle, protocol=pickle.HIGHEST_PROTOCOL)"
   ]
  },
  {
   "cell_type": "code",
   "execution_count": 4,
   "metadata": {},
   "outputs": [],
   "source": [
    "#Reading the dictionary of HMM probabilities\n",
    "with open(curr_dir[0]+\"/../2.parse_Pfam/v\"+pfam_version+\"/domains_hmm_prob_dict.pik\", 'rb') as handle:\n",
    "    domains_hmm_prob_dict = pickle.load(handle)"
   ]
  },
  {
   "cell_type": "markdown",
   "metadata": {},
   "source": [
    "### Looking at the distribution of emission prob."
   ]
  },
  {
   "cell_type": "code",
   "execution_count": 5,
   "metadata": {},
   "outputs": [],
   "source": [
    "emission_prob = []\n",
    "for domain in domains_hmm_prob_dict.keys():\n",
    "    for state in domains_hmm_prob_dict[domain]:\n",
    "        emission_prob.extend(domains_hmm_prob_dict[domain][state])"
   ]
  },
  {
   "cell_type": "code",
   "execution_count": 10,
   "metadata": {},
   "outputs": [
    {
     "data": {
      "text/plain": [
       "57215700"
      ]
     },
     "execution_count": 10,
     "metadata": {},
     "output_type": "execute_result"
    }
   ],
   "source": [
    "len(emission_prob)"
   ]
  },
  {
   "cell_type": "code",
   "execution_count": 6,
   "metadata": {},
   "outputs": [],
   "source": [
    "my_bins = [0,0.8,0.9,0.91,0.92,0.93,0.94,0.95,0.96,0.97,0.98,0.99,1]\n",
    "hist_info = plt.hist(emission_prob, bins=my_bins)\n",
    "plt.show()"
   ]
  },
  {
   "cell_type": "code",
   "execution_count": 15,
   "metadata": {
    "collapsed": true
   },
   "outputs": [],
   "source": [
    "plt.show()"
   ]
  },
  {
   "cell_type": "code",
   "execution_count": 8,
   "metadata": {},
   "outputs": [
    {
     "data": {
      "text/plain": [
       "array([  5.71942710e+07,   1.55690000e+04,   1.04300000e+03,\n",
       "         1.01800000e+03,   8.75000000e+02,   7.38000000e+02,\n",
       "         6.74000000e+02,   6.31000000e+02,   5.89000000e+02,\n",
       "         4.40000000e+02,   3.57000000e+02,   3.95000000e+02])"
      ]
     },
     "execution_count": 8,
     "metadata": {},
     "output_type": "execute_result"
    }
   ],
   "source": [
    "hist_info[0]"
   ]
  },
  {
   "cell_type": "code",
   "execution_count": 7,
   "metadata": {},
   "outputs": [
    {
     "data": {
      "text/plain": [
       "array([ 0.  ,  0.8 ,  0.9 ,  0.91,  0.92,  0.93,  0.94,  0.95,  0.96,\n",
       "        0.97,  0.98,  0.99,  1.  ])"
      ]
     },
     "execution_count": 7,
     "metadata": {},
     "output_type": "execute_result"
    }
   ],
   "source": [
    "hist_info[1]"
   ]
  },
  {
   "cell_type": "code",
   "execution_count": null,
   "metadata": {},
   "outputs": [],
   "source": []
  }
 ],
 "metadata": {
  "kernelspec": {
   "display_name": "Python 2",
   "language": "python",
   "name": "python2"
  },
  "language_info": {
   "codemirror_mode": {
    "name": "ipython",
    "version": 2
   },
   "file_extension": ".py",
   "mimetype": "text/x-python",
   "name": "python",
   "nbconvert_exporter": "python",
   "pygments_lexer": "ipython2",
   "version": "2.7.12"
  }
 },
 "nbformat": 4,
 "nbformat_minor": 1
}
