{
 "cells": [
  {
   "cell_type": "markdown",
   "metadata": {},
   "source": [
    "## Get Domains Gathering Threshold"
   ]
  },
  {
   "cell_type": "markdown",
   "metadata": {},
   "source": [
    "After downloading Pfam-A.hmm data, parsing the file to find all domains gathering thresholds.\n",
    "Then, saving them to .csv to be used later during domain filtering."
   ]
  },
  {
   "cell_type": "code",
   "execution_count": 1,
   "metadata": {},
   "outputs": [],
   "source": [
    "import pandas as pd\n",
    "import numpy as np\n",
    "import gzip\n",
    "from collections import defaultdict\n",
    "import matplotlib.pyplot as plt\n",
    "import pickle\n",
    "import sys\n",
    "from IPython.core.display import HTML\n",
    "HTML(\"<style>.container { width:100% !important; }</style>\");"
   ]
  },
  {
   "cell_type": "code",
   "execution_count": 2,
   "metadata": {},
   "outputs": [],
   "source": [
    "curr_dir = !pwd\n",
    "filename = \"Pfam-A.hmm.gz\"\n",
    "pfam_version = \"32\""
   ]
  },
  {
   "cell_type": "code",
   "execution_count": 3,
   "metadata": {},
   "outputs": [],
   "source": [
    "pfam_file = gzip.open(curr_dir[0]+\"/v\"+pfam_version+\"/\"+filename,'r')"
   ]
  },
  {
   "cell_type": "code",
   "execution_count": 4,
   "metadata": {},
   "outputs": [],
   "source": [
    "#Extract domain names and gathering threshold\n",
    "domain_names = []\n",
    "domain_GA = []\n",
    "for line in pfam_file:\n",
    "    if (line[0:4] == \"NAME\"):\n",
    "        domain_names.append(line[6:-1])\n",
    "    if (line[0:2] == \"GA\"):\n",
    "        domain_GA.append(float(line[6:].split(\" \")[0]))"
   ]
  },
  {
   "cell_type": "code",
   "execution_count": 5,
   "metadata": {},
   "outputs": [],
   "source": [
    "#Create a table of names and GA\n",
    "domain_GA_table = pd.DataFrame()\n",
    "domain_GA_table[\"name\"] = domain_names\n",
    "domain_GA_table[\"GA\"] = domain_GA"
   ]
  },
  {
   "cell_type": "code",
   "execution_count": 6,
   "metadata": {},
   "outputs": [],
   "source": [
    "#Save the table to file\n",
    "domain_GA_table.to_csv(curr_dir[0]+\"/v\"+pfam_version+\"/domains_GA.csv\", sep='\\t')"
   ]
  },
  {
   "cell_type": "code",
   "execution_count": null,
   "metadata": {},
   "outputs": [],
   "source": []
  }
 ],
 "metadata": {
  "kernelspec": {
   "display_name": "Python 2",
   "language": "python",
   "name": "python2"
  },
  "language_info": {
   "codemirror_mode": {
    "name": "ipython",
    "version": 2
   },
   "file_extension": ".py",
   "mimetype": "text/x-python",
   "name": "python",
   "nbconvert_exporter": "python",
   "pygments_lexer": "ipython2",
   "version": "2.7.12"
  }
 },
 "nbformat": 4,
 "nbformat_minor": 1
}
