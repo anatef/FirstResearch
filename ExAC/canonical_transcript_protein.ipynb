{
 "cells": [
  {
   "cell_type": "code",
   "execution_count": 25,
   "metadata": {
    "collapsed": false
   },
   "outputs": [
    {
     "data": {
      "text/html": [
       "<style>.container { width:100% !important; }</style>"
      ],
      "text/plain": [
       "<IPython.core.display.HTML object>"
      ]
     },
     "execution_count": 25,
     "metadata": {},
     "output_type": "execute_result"
    }
   ],
   "source": [
    "#Import packages\n",
    "import pandas as pd\n",
    "import numpy as np\n",
    "from biomart import BiomartServer\n",
    "import json\n",
    "from IPython.core.display import HTML\n",
    "HTML(\"<style>.container { width:100% !important; }</style>\")"
   ]
  },
  {
   "cell_type": "code",
   "execution_count": 3,
   "metadata": {
    "collapsed": true
   },
   "outputs": [],
   "source": [
    "#Reading the Zinc-finger domain data\n",
    "curr_dir = !pwd\n",
    "my_path = curr_dir[0]+\"/hmm_domains/\"\n",
    "filename = \"zf-C2H2.csv\"\n",
    "zinc_finger = pd.read_csv(my_path+filename, sep='\\t', index_col=0)"
   ]
  },
  {
   "cell_type": "code",
   "execution_count": 4,
   "metadata": {
    "collapsed": true
   },
   "outputs": [],
   "source": [
    "#Importing Biomart database\n",
    "server = BiomartServer(\"http://grch37.ensembl.org/biomart\")\n",
    "ens_genes = server.datasets[u'hsapiens_gene_ensembl']"
   ]
  },
  {
   "cell_type": "code",
   "execution_count": 5,
   "metadata": {
    "collapsed": true
   },
   "outputs": [],
   "source": [
    "#Return the Uniprot id for querying json entries in Uniprot, or \"\" if not found\n",
    "def get_uniprot_id(ensembl_id):\n",
    "    #Querying the Biomart database to get number of matches\n",
    "    num = ens_genes.count({\n",
    "        'filters': {\n",
    "                'ensembl_gene_id': ensembl_id\n",
    "        },\n",
    "        'attributes': [\n",
    "                'uniprot_swissprot'\n",
    "        ]\n",
    "    })\n",
    "\n",
    "    #In case no match is found\n",
    "    if (num == 0):\n",
    "        return \"\"\n",
    "\n",
    "    #In case of at least one match: querying the Biomart database\n",
    "    response = ens_genes.search({\n",
    "        'filters': {\n",
    "                'ensembl_gene_id': ensembl_id\n",
    "        },\n",
    "        'attributes': [\n",
    "                'uniprot_swissprot'\n",
    "        ]\n",
    "    })\n",
    "\n",
    "    #Reading the query result\n",
    "    uniprot_id = \"\"\n",
    "    for line in response.iter_lines():\n",
    "        line = line.decode('utf-8')\n",
    "        uniprot_id = (line.split(\"\\t\")[0]).encode('ascii','ignore')\n",
    "        break\n",
    "    \n",
    "    return uniprot_id"
   ]
  },
  {
   "cell_type": "code",
   "execution_count": 57,
   "metadata": {
    "collapsed": true
   },
   "outputs": [],
   "source": [
    "#Given transcript ids for particular gene, return the transcript id and protein id with the biggest length\n",
    "def find_longest_trans_prot(transcript_ids):\n",
    "    max_len = 0\n",
    "    max_trans_id = \"\"\n",
    "    max_prot_id = \"\"\n",
    "    for trans in transcript_ids:\n",
    "        trans_table = gene_table[gene_table[\"transcript_id\"] == trans]\n",
    "        protein_ids = (trans_table[\"prot_id\"]).unique()\n",
    "        for prot in protein_ids:\n",
    "            #all the lines with the same transcript id and protein id should have the same length\n",
    "            trans_prot_len = (trans_table[trans_table[\"prot_id\"] == prot][\"length\"]).tolist()[0] \n",
    "            if (trans_prot_len > max_len):\n",
    "                max_len = trans_len\n",
    "                max_trans_id = trans\n",
    "                max_prot_id = prot\n",
    "    return [max_trans_id, max_prot_id]"
   ]
  },
  {
   "cell_type": "code",
   "execution_count": 58,
   "metadata": {
    "collapsed": true
   },
   "outputs": [],
   "source": [
    "#Create a dictionary of the canonical transcipt ids and protein ids\n",
    "canonic_transcript = {}\n",
    "genes_ids = (zinc_finger[\"ensembl_id\"]).unique()\n",
    "no_uniprot = 0\n",
    "no_canonic_len = 0"
   ]
  },
  {
   "cell_type": "code",
   "execution_count": 67,
   "metadata": {
    "collapsed": false
   },
   "outputs": [
    {
     "name": "stdout",
     "output_type": "stream",
     "text": [
      "ENSG00000089335: Transcripts don't match the Uniprot canonic\n",
      "ENSG00000256463: Transcripts don't match the Uniprot canonic\n",
      "ENSG00000124782: Transcripts don't match the Uniprot canonic\n"
     ]
    }
   ],
   "source": [
    "for i in range(len(genes_ids)):\n",
    "    ens_gene = genes_ids[i]\n",
    "    gene_table = zinc_finger[zinc_finger[\"ensembl_id\"] == ens_gene]\n",
    "    transcript_ids = (gene_table[\"transcript_id\"]).unique()\n",
    "    \n",
    "    if (len(transcript_ids) == 1):\n",
    "        #Just find the longest protein for this transcript\n",
    "        canonic_transcript[ens_gene] = find_longest_trans_prot(transcript_ids)\n",
    "        \n",
    "    #If there's more then one transcript: finding what's the canonic protein length from uniprot\n",
    "    else:\n",
    "        uniprot_id = get_uniprot_id(ens_gene)\n",
    "        if (uniprot_id == \"\"):\n",
    "            print ens_gene+\": uniprot wasn't found for \"+ens_gene\n",
    "            canonic_transcript[ens_gene] = find_longest_trans_prot(transcript_ids)\n",
    "            no_uniprot += 1\n",
    "            continue\n",
    "        uniprot_url = \"http://togows.dbcls.jp/entry/uniprot/\"+uniprot_id+\".json\"\n",
    "        uniprot_json = pd.read_json(uniprot_url)\n",
    "        canonic_len = uniprot_json.aalen[0]\n",
    "\n",
    "\n",
    "        found = False\n",
    "        for trans in transcript_ids:\n",
    "            trans_table = gene_table[gene_table[\"transcript_id\"] == trans]\n",
    "            protein_ids = (trans_table[\"prot_id\"]).unique()\n",
    "            for prot in protein_ids:\n",
    "                #all the lines with the same transcript id and protein id should have the same length\n",
    "                trans_prot_len = (trans_table[trans_table[\"prot_id\"] == prot][\"length\"]).tolist()[0] \n",
    "\n",
    "                #If the length equal the canonical, this is the canonical transcript id\n",
    "                if (trans_prot_len == canonic_len):\n",
    "                    found = True\n",
    "                    canonic_transcript[ens_gene] = [trans, prot]\n",
    "                    break\n",
    "\n",
    "            if (found == True):\n",
    "                break\n",
    "\n",
    "        #The canonic length isn't one of the ensembl transcripts, taking the longest transcript(?)\n",
    "        if (found == False):\n",
    "            print ens_gene+\": Transcripts don't match the Uniprot canonic\"\n",
    "            no_canonic_len += 1\n",
    "            canonic_transcript[ens_gene] = find_longest_trans_prot(transcript_ids)"
   ]
  },
  {
   "cell_type": "code",
   "execution_count": 70,
   "metadata": {
    "collapsed": true
   },
   "outputs": [],
   "source": [
    "json.dump(canonic_transcript, file(my_path+'zinc_canonic_trans_prot.json', 'w'))"
   ]
  },
  {
   "cell_type": "code",
   "execution_count": null,
   "metadata": {
    "collapsed": true
   },
   "outputs": [],
   "source": [
    "#Printouts from creating the canonic dictionary\n",
    "ENSG00000234669: Transcripts don't match the Uniprot canonic\n",
    "ENSG00000148516: Transcripts don't match the Uniprot canonic\n",
    "ENSG00000184937: Transcripts don't match the Uniprot canonic\n",
    "ENSG00000147124: Transcripts don't match the Uniprot canonic\n",
    "ENSG00000130544: Transcripts don't match the Uniprot canonic\n",
    "ENSG00000170954: Transcripts don't match the Uniprot canonic\n",
    "ENSG00000203326: Transcripts don't match the Uniprot canonic\n",
    "ENSG00000164011: Transcripts don't match the Uniprot canonic\n",
    "ENSG00000171606: Transcripts don't match the Uniprot canonic\n",
    "ENSG00000066827: Transcripts don't match the Uniprot canonic\n",
    "ENSG00000263310: uniprot wasn't found for ENSG00000263310\n",
    "ENSG00000170325: Transcripts don't match the Uniprot canonic\n",
    "ENSG00000272602: uniprot wasn't found for ENSG00000272602\n",
    "ENSG00000167840: Transcripts don't match the Uniprot canonic\n",
    "ENSG00000187607: uniprot wasn't found for ENSG00000187607\n",
    "ENSG00000030419: Transcripts don't match the Uniprot canonic\n",
    "ENSG00000063587: Transcripts don't match the Uniprot canonic\n",
    "ENSG00000141040: Transcripts don't match the Uniprot canonic\n",
    "ENSG00000196381: Transcripts don't match the Uniprot canonic\n",
    "ENSG00000089335: Transcripts don't match the Uniprot canonic\n",
    "ENSG00000256463: Transcripts don't match the Uniprot canonic\n",
    "ENSG00000124782: Transcripts don't match the Uniprot canonic"
   ]
  }
 ],
 "metadata": {
  "kernelspec": {
   "display_name": "Python 2",
   "language": "python",
   "name": "python2"
  },
  "language_info": {
   "codemirror_mode": {
    "name": "ipython",
    "version": 2
   },
   "file_extension": ".py",
   "mimetype": "text/x-python",
   "name": "python",
   "nbconvert_exporter": "python",
   "pygments_lexer": "ipython2",
   "version": "2.7.10"
  }
 },
 "nbformat": 4,
 "nbformat_minor": 0
}
