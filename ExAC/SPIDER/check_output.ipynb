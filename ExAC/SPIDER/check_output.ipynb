{
 "cells": [
  {
   "cell_type": "code",
   "execution_count": null,
   "metadata": {
    "collapsed": true
   },
   "outputs": [],
   "source": [
    "import os\n",
    "import pandas as pd\n",
    "import numpy as np\n",
    "import math\n",
    "from collections import defaultdict\n",
    "import cPickle as pickle\n",
    "\n",
    "# pfam version\n",
    "PFAM = 'pfam-v31'\n",
    "\n",
    "# Getting path\n",
    "curr_dir = os.getcwd()\n",
    "files_dir = curr_dir+'/../' \n",
    "spider_dir = curr_dir+'/SPIDER2/protein_seq_results/'\n",
    "    \n",
    "# Diff between v30 and v31\n",
    "with open(spider_dir+\"/../../v30-v31_diff_domains_genes_prot_seq.pik\", 'rb') as handle:\n",
    "    diff_genes = pickle.load(handle)\n",
    "    \n",
    "# The dictionary of genes -> proteins -> sequence that will be run\n",
    "sequence_dict = diff_genes"
   ]
  },
  {
   "cell_type": "code",
   "execution_count": null,
   "metadata": {
    "collapsed": true
   },
   "outputs": [],
   "source": [
    "dirfiles = !ls -t $'./SPIDER2/protein_seq_results/out'\n",
    "\n",
    "# Only look at new out jobs\n",
    "threshold = 4018018\n",
    "\n",
    "for f in dirfiles:\n",
    "    # Only check out files\n",
    "    if f[len(f)-3:len(f)] != 'out' or int(f.split(\"-\")[1].split(\".\")[0]) <= threshold:\n",
    "        continue\n",
    "    # Check for print statement at end\n",
    "    out = open(spider_dir+'/out/'+f).read()\n",
    "    if not 'SUCCESS!!!' in out or 'Error' in out:\n",
    "        print(f)"
   ]
  },
  {
   "cell_type": "code",
   "execution_count": null,
   "metadata": {
    "collapsed": true
   },
   "outputs": [],
   "source": [
    "# Rerunning might take a bit, so only do it if you're sure\n",
    "import subprocess\n",
    "rerun_list = [] # Add items in the form <gene_id>-<prot_id> e.g. ENSG00000085276.13-ENSP00000417899.1\n",
    "\n",
    "for term in rerun_list:\n",
    "    gene = term.split(\"-\")[0]\n",
    "    prot = term.split(\"-\")[1]\n",
    "    # Save sequence to file\n",
    "    filename = files_dir+\"/SPIDER/seq/\"+term.replace('.','-')+'.seq'\n",
    "    with open(filename,'w') as f:\n",
    "        f.write(sequence_dict[gene][prot].replace('*',''))\n",
    "    f.close()\n",
    "\n",
    "    # Run SPIDER2\n",
    "    subprocess.call([files_dir+'/SPIDER/misc/run_local.sh',filename])"
   ]
  }
 ],
 "metadata": {
  "kernelspec": {
   "display_name": "Python 2",
   "language": "python",
   "name": "python2"
  },
  "language_info": {
   "codemirror_mode": {
    "name": "ipython",
    "version": 2
   },
   "file_extension": ".py",
   "mimetype": "text/x-python",
   "name": "python",
   "nbconvert_exporter": "python",
   "pygments_lexer": "ipython2",
   "version": "2.7.13"
  }
 },
 "nbformat": 4,
 "nbformat_minor": 2
}
