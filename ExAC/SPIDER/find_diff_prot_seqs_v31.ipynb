{
 "cells": [
  {
   "cell_type": "code",
   "execution_count": 1,
   "metadata": {},
   "outputs": [
    {
     "data": {
      "text/html": [
       "<style>.container { width:100% !important; }</style>"
      ],
      "text/plain": [
       "<IPython.core.display.HTML object>"
      ]
     },
     "execution_count": 1,
     "metadata": {},
     "output_type": "execute_result"
    }
   ],
   "source": [
    "import os\n",
    "import pandas as pd\n",
    "import numpy as np\n",
    "import math\n",
    "from collections import defaultdict\n",
    "import cPickle as pickle\n",
    "\n",
    "from IPython.core.display import HTML\n",
    "HTML(\"<style>.container { width:100% !important; }</style>\")"
   ]
  },
  {
   "cell_type": "code",
   "execution_count": 7,
   "metadata": {},
   "outputs": [],
   "source": [
    "curr_dir = !pwd\n",
    "\n",
    "# Map of all genes to protein seqs\n",
    "with open(curr_dir[0]+\"/../3.parse_HMMER/canonic_prot_seq/pfam-v30/all_domains_genes_prot_seq.pik\", 'rb') as handle:\n",
    "    prot_dict_v30 = pickle.load(handle)\n",
    "    \n",
    "# Map of all genes to protein seqs\n",
    "with open(curr_dir[0]+\"/../3.parse_HMMER/canonic_prot_seq/pfam-v31/all_domains_genes_prot_seq.pik\", 'rb') as handle:\n",
    "    prot_dict_v31 = pickle.load(handle)"
   ]
  },
  {
   "cell_type": "code",
   "execution_count": 11,
   "metadata": {},
   "outputs": [
    {
     "name": "stdout",
     "output_type": "stream",
     "text": [
      "missing gene ENSG00000142327.7\n",
      "missing gene ENSG00000107249.17\n",
      "missing prot ENSP00000386772.2 in gene ENSG00000152133.10\n",
      "missing gene ENSG00000173404.3\n",
      "missing prot ENSP00000411355.3 in gene ENSG00000081237.14\n",
      "missing prot ENSP00000376965.5 in gene ENSG00000066427.17\n",
      "missing prot ENSP00000380293.3 in gene ENSG00000213973.4\n",
      "missing prot ENSP00000440864.1 in gene ENSG00000123358.15\n",
      "missing prot ENSP00000385727.1 in gene ENSG00000069020.14\n",
      "missing prot ENSP00000403491.3 in gene ENSG00000198668.6\n",
      "missing prot ENSP00000366699.2 in gene ENSG00000162426.10\n",
      "missing prot ENSP00000347582.2 in gene ENSG00000213030.4\n",
      "missing prot ENSP00000473462.1 in gene ENSG00000204130.8\n",
      "missing prot ENSP00000451658.1 in gene ENSG00000119715.10\n",
      "missing prot ENSP00000379712.3 in gene ENSG00000124313.8\n",
      "missing prot ENSP00000430690.1 in gene ENSG00000160180.14\n",
      "missing prot ENSP00000473565.1 in gene ENSG00000137145.16\n",
      "missing gene ENSG00000068383.14\n",
      "missing prot ENSP00000387065.1 in gene ENSG00000143933.12\n",
      "missing prot ENSP00000381727.2 in gene ENSG00000164393.4\n",
      "missing prot ENSP00000333262.5 in gene ENSG00000185133.9\n",
      "missing prot ENSP00000414635.1 in gene ENSG00000171757.11\n",
      "missing prot ENSP00000422009.1 in gene ENSG00000205403.8\n",
      "missing prot ENSP00000381430.1 in gene ENSG00000161647.14\n",
      "missing prot ENSP00000252027.7 in gene ENSG00000100241.16\n",
      "missing prot ENSP00000262241.5 in gene ENSG00000089902.8\n",
      "missing prot ENSP00000404438.1 in gene ENSG00000165643.6\n",
      "missing prot ENSP00000357472.3 in gene ENSG00000143515.12\n",
      "missing prot ENSP00000350911.2 in gene ENSG00000196188.6\n",
      "missing prot ENSP00000473036.1 in gene ENSG00000204851.5\n",
      "missing prot ENSP00000296443.9 in gene ENSG00000213689.5\n",
      "missing gene ENSG00000152784.11\n",
      "missing prot ENSP00000417899.1 in gene ENSG00000085276.13\n",
      "missing gene ENSG00000214376.5\n",
      "missing gene ENSG00000174332.3\n",
      "missing gene ENSG00000243943.5\n",
      "missing prot ENSP00000301190.6 in gene ENSG00000167612.8\n",
      "missing gene ENSG00000162702.7\n",
      "missing gene ENSG00000143373.13\n",
      "missing prot ENSP00000353176.2 in gene ENSG00000117266.11\n",
      "missing prot ENSP00000319003.2 in gene ENSG00000111199.6\n",
      "missing gene ENSG00000136451.4\n",
      "missing gene ENSG00000213918.6\n",
      "missing prot ENSP00000364449.1 in gene ENSG00000160584.11\n",
      "missing gene ENSG00000167968.8\n",
      "missing gene ENSG00000180305.4\n"
     ]
    }
   ],
   "source": [
    "missing_dict = defaultdict(dict)\n",
    "for gene31 in prot_dict_v31.keys():\n",
    "    \n",
    "    #Cehck if the gene exist\n",
    "    if (gene31 not in prot_dict_v30.keys()):\n",
    "        missing_dict[gene31] = prot_dict_v31[gene31]\n",
    "        print \"missing gene \"+gene31\n",
    "        \n",
    "    else:\n",
    "        for prot31 in prot_dict_v31[gene31].keys():\n",
    "            if (prot31 not in prot_dict_v30[gene31].keys()):\n",
    "                missing_dict[gene31][prot31] = prot_dict_v31[gene31][prot31]\n",
    "                print \"missing prot \"+prot31+\" in gene \"+gene31"
   ]
  },
  {
   "cell_type": "code",
   "execution_count": 16,
   "metadata": {},
   "outputs": [],
   "source": [
    "with open(curr_dir[0]+\"/v30-v31_diff_domains_genes_prot_seq.pik\", 'wb') as handle:\n",
    "    pickle.dump(missing_dict, handle, protocol=pickle.HIGHEST_PROTOCOL)"
   ]
  }
 ],
 "metadata": {
  "kernelspec": {
   "display_name": "Python 2",
   "language": "python",
   "name": "python2"
  },
  "language_info": {
   "codemirror_mode": {
    "name": "ipython",
    "version": 2
   },
   "file_extension": ".py",
   "mimetype": "text/x-python",
   "name": "python",
   "nbconvert_exporter": "python",
   "pygments_lexer": "ipython2",
   "version": "2.7.12"
  }
 },
 "nbformat": 4,
 "nbformat_minor": 2
}
