{
 "cells": [
  {
   "cell_type": "code",
   "execution_count": 1,
   "metadata": {},
   "outputs": [],
   "source": [
    "%matplotlib inline\n",
    "import pandas as pd\n",
    "import numpy as np\n",
    "import pickle\n",
    "from collections import defaultdict"
   ]
  },
  {
   "cell_type": "code",
   "execution_count": 150,
   "metadata": {},
   "outputs": [],
   "source": [
    "curr_dir = !pwd\n",
    "\n",
    "ligand = \"dnabase\"\n",
    "classifier = \"RF\"\n",
    "features_df= pd.read_csv(curr_dir[0]+\"/../10.Prediction/pred_AUC_AUPRC/no_downsample/features_pred_tables/\"+ligand+\"_\"+classifier+\"_features_pred.csv\", sep='\\t', index_col=0)\n",
    "features_df['stridx']=features_rf.index"
   ]
  },
  {
   "cell_type": "code",
   "execution_count": 154,
   "metadata": {},
   "outputs": [
    {
     "data": {
      "text/plain": [
       "(224, 2)"
      ]
     },
     "execution_count": 154,
     "metadata": {},
     "output_type": "execute_result"
    }
   ],
   "source": [
    "features_df[features_df[\"prob\"] < 0.5][features_df[\"obs\"] == 1][[\"obs\", \"prob\"]].shape"
   ]
  },
  {
   "cell_type": "code",
   "execution_count": null,
   "metadata": {},
   "outputs": [],
   "source": [
    "True negative: 32,348, 25,066\n",
    "True positive: 232, 184\n",
    "False negative: 47, 18\n",
    "False positive: 5011, 1,955\n",
    "%pos: 13.9%"
   ]
  },
  {
   "cell_type": "code",
   "execution_count": null,
   "metadata": {},
   "outputs": [],
   "source": []
  },
  {
   "cell_type": "code",
   "execution_count": 94,
   "metadata": {},
   "outputs": [],
   "source": [
    "#For exmaple: get a table of just the zf-C2H2 positions\n",
    "zf_features = features_rf[features_rf['stridx'].str.contains(\"zf-C2H2\")]"
   ]
  },
  {
   "cell_type": "code",
   "execution_count": 99,
   "metadata": {},
   "outputs": [
    {
     "data": {
      "text/html": [
       "<div>\n",
       "<table border=\"1\" class=\"dataframe\">\n",
       "  <thead>\n",
       "    <tr style=\"text-align: right;\">\n",
       "      <th></th>\n",
       "      <th>GO:NO_TERM</th>\n",
       "      <th>GO:NUCLEIC_ACID_BINDING</th>\n",
       "      <th>GO:PROTEIN_BINDING</th>\n",
       "      <th>GO:METAL_ION_BINDING</th>\n",
       "      <th>GO:MEMBRANE</th>\n",
       "      <th>GO:INTRACELLULAR</th>\n",
       "      <th>GO:SIGNAL_TRANSDUCTION</th>\n",
       "      <th>obs</th>\n",
       "      <th>prob</th>\n",
       "    </tr>\n",
       "  </thead>\n",
       "  <tbody>\n",
       "    <tr>\n",
       "      <th>zf-C2H2_17</th>\n",
       "      <td>0</td>\n",
       "      <td>0</td>\n",
       "      <td>0</td>\n",
       "      <td>1</td>\n",
       "      <td>0</td>\n",
       "      <td>0</td>\n",
       "      <td>0</td>\n",
       "      <td>1</td>\n",
       "      <td>0.916</td>\n",
       "    </tr>\n",
       "    <tr>\n",
       "      <th>zf-C2H2_7</th>\n",
       "      <td>0</td>\n",
       "      <td>0</td>\n",
       "      <td>0</td>\n",
       "      <td>1</td>\n",
       "      <td>0</td>\n",
       "      <td>0</td>\n",
       "      <td>0</td>\n",
       "      <td>0</td>\n",
       "      <td>0.508</td>\n",
       "    </tr>\n",
       "    <tr>\n",
       "      <th>zf-C2H2_14</th>\n",
       "      <td>0</td>\n",
       "      <td>0</td>\n",
       "      <td>0</td>\n",
       "      <td>1</td>\n",
       "      <td>0</td>\n",
       "      <td>0</td>\n",
       "      <td>0</td>\n",
       "      <td>1</td>\n",
       "      <td>0.882</td>\n",
       "    </tr>\n",
       "    <tr>\n",
       "      <th>zf-C2H2_15</th>\n",
       "      <td>0</td>\n",
       "      <td>0</td>\n",
       "      <td>0</td>\n",
       "      <td>1</td>\n",
       "      <td>0</td>\n",
       "      <td>0</td>\n",
       "      <td>0</td>\n",
       "      <td>1</td>\n",
       "      <td>0.951</td>\n",
       "    </tr>\n",
       "    <tr>\n",
       "      <th>zf-C2H2_18</th>\n",
       "      <td>0</td>\n",
       "      <td>0</td>\n",
       "      <td>0</td>\n",
       "      <td>1</td>\n",
       "      <td>0</td>\n",
       "      <td>0</td>\n",
       "      <td>0</td>\n",
       "      <td>1</td>\n",
       "      <td>0.932</td>\n",
       "    </tr>\n",
       "    <tr>\n",
       "      <th>zf-C2H2_2</th>\n",
       "      <td>0</td>\n",
       "      <td>0</td>\n",
       "      <td>0</td>\n",
       "      <td>1</td>\n",
       "      <td>0</td>\n",
       "      <td>0</td>\n",
       "      <td>0</td>\n",
       "      <td>0</td>\n",
       "      <td>0.898</td>\n",
       "    </tr>\n",
       "    <tr>\n",
       "      <th>zf-C2H2_12</th>\n",
       "      <td>0</td>\n",
       "      <td>0</td>\n",
       "      <td>0</td>\n",
       "      <td>1</td>\n",
       "      <td>0</td>\n",
       "      <td>0</td>\n",
       "      <td>0</td>\n",
       "      <td>1</td>\n",
       "      <td>0.952</td>\n",
       "    </tr>\n",
       "  </tbody>\n",
       "</table>\n",
       "</div>"
      ],
      "text/plain": [
       "            GO:NO_TERM  GO:NUCLEIC_ACID_BINDING  GO:PROTEIN_BINDING  \\\n",
       "zf-C2H2_17           0                        0                   0   \n",
       "zf-C2H2_7            0                        0                   0   \n",
       "zf-C2H2_14           0                        0                   0   \n",
       "zf-C2H2_15           0                        0                   0   \n",
       "zf-C2H2_18           0                        0                   0   \n",
       "zf-C2H2_2            0                        0                   0   \n",
       "zf-C2H2_12           0                        0                   0   \n",
       "\n",
       "            GO:METAL_ION_BINDING  GO:MEMBRANE  GO:INTRACELLULAR  \\\n",
       "zf-C2H2_17                     1            0                 0   \n",
       "zf-C2H2_7                      1            0                 0   \n",
       "zf-C2H2_14                     1            0                 0   \n",
       "zf-C2H2_15                     1            0                 0   \n",
       "zf-C2H2_18                     1            0                 0   \n",
       "zf-C2H2_2                      1            0                 0   \n",
       "zf-C2H2_12                     1            0                 0   \n",
       "\n",
       "            GO:SIGNAL_TRANSDUCTION  obs   prob  \n",
       "zf-C2H2_17                       0    1  0.916  \n",
       "zf-C2H2_7                        0    0  0.508  \n",
       "zf-C2H2_14                       0    1  0.882  \n",
       "zf-C2H2_15                       0    1  0.951  \n",
       "zf-C2H2_18                       0    1  0.932  \n",
       "zf-C2H2_2                        0    0  0.898  \n",
       "zf-C2H2_12                       0    1  0.952  "
      ]
     },
     "execution_count": 99,
     "metadata": {},
     "output_type": "execute_result"
    }
   ],
   "source": [
    "#Check all the GO terms features of zf-C2H2\n",
    "zf_features[[\"GO:NO_TERM\",\"GO:NUCLEIC_ACID_BINDING\",\"GO:PROTEIN_BINDING\", \"GO:METAL_ION_BINDING\", \"GO:MEMBRANE\", \"GO:INTRACELLULAR\", \"GO:SIGNAL_TRANSDUCTION\", \"obs\", \"prob\"]]"
   ]
  },
  {
   "cell_type": "code",
   "execution_count": null,
   "metadata": {},
   "outputs": [],
   "source": []
  }
 ],
 "metadata": {
  "kernelspec": {
   "display_name": "Python 2",
   "language": "python",
   "name": "python2"
  },
  "language_info": {
   "codemirror_mode": {
    "name": "ipython",
    "version": 2
   },
   "file_extension": ".py",
   "mimetype": "text/x-python",
   "name": "python",
   "nbconvert_exporter": "python",
   "pygments_lexer": "ipython2",
   "version": "2.7.12"
  }
 },
 "nbformat": 4,
 "nbformat_minor": 2
}
