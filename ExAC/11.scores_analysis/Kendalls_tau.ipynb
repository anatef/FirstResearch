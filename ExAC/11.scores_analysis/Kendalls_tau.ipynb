{
 "cells": [
  {
   "cell_type": "code",
   "execution_count": 61,
   "metadata": {},
   "outputs": [],
   "source": [
    "import pandas as pd\n",
    "import numpy as np\n",
    "import pickle\n",
    "from collections import defaultdict\n",
    "from scipy.stats import kendalltau, rankdata"
   ]
  },
  {
   "cell_type": "code",
   "execution_count": 26,
   "metadata": {},
   "outputs": [],
   "source": [
    "curr_dir = !pwd\n",
    "ligands = [\"dna\", \"dnabase\", \"dnabackbone\", \"rna\", \"rnabase\", \"rnabackbone\", \"peptide\", \"ion\", \"metabolite\", \"all_ligands\"]\n",
    "models = [\"RF\", \"KNN\", \"SVM\", \"ADA\", \"Logistic\"]\n",
    "\n",
    "input_path = curr_dir[0]+\"/../10.Prediction/domains_similarity/filtered_features_table/\"\n",
    "filename = \"positions_features_mediode_filter_01.25.18.csv\"\n",
    "features_all = pd.read_csv(input_path+filename, sep='\\t', index_col=0)\n",
    "features_all[\"stridx\"] = features_all.index"
   ]
  },
  {
   "cell_type": "code",
   "execution_count": 88,
   "metadata": {
    "scrolled": true
   },
   "outputs": [
    {
     "name": "stdout",
     "output_type": "stream",
     "text": [
      "Finished ligand dna\n",
      "Finished ligand dnabase\n",
      "Finished ligand dnabackbone\n",
      "Finished ligand rna\n",
      "Finished ligand rnabase\n",
      "Finished ligand rnabackbone\n",
      "Finished ligand peptide\n",
      "Finished ligand ion\n",
      "Finished ligand metabolite\n",
      "Finished ligand all_ligands\n"
     ]
    }
   ],
   "source": [
    "tau_corr_dict = defaultdict(dict)\n",
    "\n",
    "for ligand in ligands:\n",
    "    \n",
    "    for classifier in models:\n",
    "        \n",
    "        #Get the prediction results\n",
    "        ligand_model_pred_df= pd.read_csv(curr_dir[0]+\"/../10.Prediction/pred_AUC_AUPRC/mediode_NegAbs_NoFilter/NoDown/01.25.2018/features_pred_tables/\"+ligand+\"_\"+classifier+\"_features_pred.csv\", sep='\\t', index_col=0)\n",
    "        ligand_model_pred_df['stridx'] = ligand_model_pred_df.index\n",
    "        pred_df = ligand_model_pred_df[[\"stridx\", \"prob\"]]\n",
    "        \n",
    "        #Get the binding scores\n",
    "        if (ligand == \"all_ligands\"):\n",
    "            ligand_bind_str = \"max_binding_score\"\n",
    "        else:\n",
    "            ligand_bind_str = ligand+\"_binding_score\"\n",
    "        bind_score_df = features_all[[\"stridx\", ligand_bind_str]]\n",
    "            \n",
    "        #match the binding scores\n",
    "        pred_bind_merge_df = pred_df.merge(bind_score_df, left_index=True, left_on=\"stridx\", right_on=\"stridx\")\n",
    "        \n",
    "        #compute ranking for all positions according to binding score and according to predictions\n",
    "        sorted_positions_list = pred_bind_merge_df.sort_index().index.tolist()\n",
    "        pred_ranking = rankdata(pred_bind_merge_df.sort_index()[\"prob\"].tolist())\n",
    "        bind_score_ranking = rankdata(pred_bind_merge_df.sort_index()[ligand_bind_str].tolist())\n",
    "        \n",
    "        tau, p_value = kendalltau(pred_ranking, bind_score_ranking)\n",
    "        tau_corr_dict[ligand][classifier] = {\"tau\": tau, \"pval\": p_value}\n",
    "        \n",
    "    print \"Finished ligand \"+ligand\n",
    "        "
   ]
  },
  {
   "cell_type": "code",
   "execution_count": 124,
   "metadata": {},
   "outputs": [
    {
     "data": {
      "text/plain": [
       "{'ADA': {'pval': 0.0, 'tau': 0.22427336766144995},\n",
       " 'KNN': {'pval': 6.6417707935478493e-297, 'tau': 0.16740680886371895},\n",
       " 'Logistic': {'pval': 1.0697554418908385e-21, 'tau': 0.042332874024985791},\n",
       " 'RF': {'pval': 0.0, 'tau': 0.22727592028307894},\n",
       " 'SVM': {'pval': 0.0, 'tau': 0.17618208629102949}}"
      ]
     },
     "execution_count": 124,
     "metadata": {},
     "output_type": "execute_result"
    }
   ],
   "source": [
    "tau_corr_dict[\"all_ligands\"]"
   ]
  }
 ],
 "metadata": {
  "kernelspec": {
   "display_name": "Python 2",
   "language": "python",
   "name": "python2"
  },
  "language_info": {
   "codemirror_mode": {
    "name": "ipython",
    "version": 2
   },
   "file_extension": ".py",
   "mimetype": "text/x-python",
   "name": "python",
   "nbconvert_exporter": "python",
   "pygments_lexer": "ipython2",
   "version": "2.7.12"
  }
 },
 "nbformat": 4,
 "nbformat_minor": 2
}
