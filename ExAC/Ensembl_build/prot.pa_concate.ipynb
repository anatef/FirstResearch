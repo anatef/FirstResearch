{
 "cells": [
  {
   "cell_type": "markdown",
   "metadata": {},
   "source": [
    "### Creating the Homo_sapiens.GRCh37-ensembl-verified-ALL.fa file\n",
    "The file is the concatination of all the protein FASTA of the verified proteins."
   ]
  },
  {
   "cell_type": "code",
   "execution_count": 2,
   "metadata": {
    "collapsed": true
   },
   "outputs": [],
   "source": [
    "import os"
   ]
  },
  {
   "cell_type": "code",
   "execution_count": 4,
   "metadata": {
    "collapsed": false
   },
   "outputs": [],
   "source": [
    "#Gathering a list of all the prot.pa filenames.\n",
    "curr_dir = !pwd\n",
    "files_list = []\n",
    "\n",
    "for d in sorted(os.listdir(curr_dir[0]+\"/ensembl/Homo_sapiens.GRCh37/\")):\n",
    "    if (os.path.isdir(curr_dir[0]+\"/ensembl/Homo_sapiens.GRCh37/\"+d)):\n",
    "        for gn in sorted(os.listdir(curr_dir[0]+\"/ensembl/Homo_sapiens.GRCh37/\"+d)):\n",
    "            for f in sorted(os.listdir(curr_dir[0]+\"/ensembl/Homo_sapiens.GRCh37/\"+d+\"/\"+gn)):\n",
    "                if f.endswith(\"prot.fa\"):\n",
    "                    files_list.append(curr_dir[0]+\"/ensembl/Homo_sapiens.GRCh37/\"+d+\"/\"+gn+\"/\"+f)"
   ]
  },
  {
   "cell_type": "code",
   "execution_count": 6,
   "metadata": {
    "collapsed": true
   },
   "outputs": [],
   "source": [
    "#Concatinating all the prot.pa to one big file\n",
    "with open('Homo_sapiens.GRCh37-ensembl-verified-ALL.fa', 'w') as outfile:\n",
    "    for fname in files_list:\n",
    "        with open(fname) as infile:\n",
    "            outfile.write(infile.read())"
   ]
  }
 ],
 "metadata": {
  "kernelspec": {
   "display_name": "Python 2",
   "language": "python",
   "name": "python2"
  },
  "language_info": {
   "codemirror_mode": {
    "name": "ipython",
    "version": 2
   },
   "file_extension": ".py",
   "mimetype": "text/x-python",
   "name": "python",
   "nbconvert_exporter": "python",
   "pygments_lexer": "ipython2",
   "version": "2.7.12"
  }
 },
 "nbformat": 4,
 "nbformat_minor": 0
}
