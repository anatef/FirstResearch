{
 "cells": [
  {
   "cell_type": "code",
   "execution_count": 1,
   "metadata": {
    "collapsed": false
   },
   "outputs": [
    {
     "data": {
      "text/html": [
       "<style>.container { width:100% !important; }</style>"
      ],
      "text/plain": [
       "<IPython.core.display.HTML object>"
      ]
     },
     "execution_count": 1,
     "metadata": {},
     "output_type": "execute_result"
    }
   ],
   "source": [
    "import pandas as pd\n",
    "import pickle\n",
    "from IPython.core.display import HTML\n",
    "HTML(\"<style>.container { width:100% !important; }</style>\")"
   ]
  },
  {
   "cell_type": "code",
   "execution_count": 15,
   "metadata": {
    "collapsed": false
   },
   "outputs": [],
   "source": [
    "curr_dir = !pwd\n",
    "domains_path = curr_dir[0]+\"/../3.parse_HMMER/hmm_domains/pfam-v30/\"\n",
    "canonic_prot_path = curr_dir[0]+\"/../4.parse_Uniprot/domains_canonic_prot/pfam-v30/\""
   ]
  },
  {
   "cell_type": "code",
   "execution_count": 8,
   "metadata": {
    "collapsed": false
   },
   "outputs": [],
   "source": [
    "domains_filenames = !ls $domains_path"
   ]
  },
  {
   "cell_type": "code",
   "execution_count": 99,
   "metadata": {
    "collapsed": false
   },
   "outputs": [],
   "source": [
    "def count_domain_instances(domain_gene_table, count_overlaps=True):\n",
    "    \n",
    "    if (count_overlaps):\n",
    "        return domain_gene_table.shape[0]\n",
    "    \n",
    "    else:\n",
    "        instance_counter = 0\n",
    "        last_target_end = 0\n",
    "\n",
    "        for i, row in domain_gene_table.iterrows():\n",
    "            curr_target_start = int(row[\"TargetStart\"])\n",
    "            curr_target_end = int(row[\"TargetEnd\"])\n",
    "            if (curr_target_start > last_target_end):\n",
    "                instance_counter += 1\n",
    "                last_target_end = curr_target_end\n",
    "            #If the instance overlpas the previous one\n",
    "            else: \n",
    "                #Updating to the smaller traget end\n",
    "                if (curr_target_end > last_target_end):\n",
    "                    last_target_end = curr_target_end\n",
    "                #Continue without incrememnting the counter\n",
    "                continue \n",
    "        \n",
    "        return instance_counter"
   ]
  },
  {
   "cell_type": "code",
   "execution_count": 102,
   "metadata": {
    "collapsed": false
   },
   "outputs": [],
   "source": [
    "domains_stats = {}\n",
    "\n",
    "for dom_filename in domains_filenames:\n",
    "    curr_domain_stats = []\n",
    "    \n",
    "    domain_sym = dom_filename[:dom_filename.find(\".\")]\n",
    "    domain_data = pd.read_csv(domains_path+dom_filename, sep='\\t', index_col=0)\n",
    "    domain_ens_genes = (domain_data[\"gene\"]).unique()\n",
    "    \n",
    "    with open(canonic_prot_path+domain_sym+\"_canonic_prot.pik\", 'rb') as handle:\n",
    "        canonic_protein = pickle.load(handle)\n",
    "    \n",
    "    domain_intance_num = 0\n",
    "    for ens_gene in domain_ens_genes:\n",
    "        #Filtering the domain data for this gene according to the canonical protein id\n",
    "        canonic_prot = canonic_protein[ens_gene]\n",
    "        canonic_prot_t = canonic_prot[:canonic_prot.find(\".\")] #Trimming the \".#\" at the end\n",
    "        domain_gene_table = domain_data[domain_data[\"prot\"] == canonic_prot]\n",
    "        \n",
    "        #Count the number of domain instances in this gene\n",
    "        domain_gene_table = domain_gene_table.sort_values(by=[\"TargetStart\", \"BitScore\"], ascending=[True, False])\n",
    "        gene_intance_num = count_domain_instances(domain_gene_table, count_overlaps=True)\n",
    "        domain_intance_num += gene_intance_num\n",
    "    \n",
    "    #Saving domains stats:\n",
    "    curr_domain_stats.append(len(domain_ens_genes)) # No. of genes\n",
    "    curr_domain_stats.append(domain_intance_num) #No. of domain instances\n",
    "    \n",
    "    #Updating the big dict\n",
    "    domains_stats[domain_sym] = curr_domain_stats"
   ]
  },
  {
   "cell_type": "code",
   "execution_count": 147,
   "metadata": {
    "collapsed": false
   },
   "outputs": [],
   "source": [
    "domains_stats_df = pd.DataFrame.from_dict(domains_stats,orient='index')\n",
    "domains_stats_df.columns = [\"genes\", \"instances\"]\n",
    "domains_stats_df = domains_stats_df.sort_values(by=[\"instances\", \"genes\"], ascending=[False, False])\n",
    "domains_stats_df.to_csv(curr_dir[0]+\"/domains_stats_df.csv\", sep='\\t')"
   ]
  },
  {
   "cell_type": "code",
   "execution_count": 149,
   "metadata": {
    "collapsed": true
   },
   "outputs": [],
   "source": [
    "#Filter domains according to number of instances\n",
    "instance_threshold = 50\n",
    "filtered_domains_df = domains_stats_df[domains_stats_df[\"instances\"] > instance_threshold]\n",
    "\n",
    "#Save to file\n",
    "filtered_domains_df.to_csv(curr_dir[0]+\"/filtered50_domains_df.csv\", sep='\\t')"
   ]
  }
 ],
 "metadata": {
  "kernelspec": {
   "display_name": "Python 2",
   "language": "python",
   "name": "python2"
  },
  "language_info": {
   "codemirror_mode": {
    "name": "ipython",
    "version": 2
   },
   "file_extension": ".py",
   "mimetype": "text/x-python",
   "name": "python",
   "nbconvert_exporter": "python",
   "pygments_lexer": "ipython2",
   "version": "2.7.12"
  }
 },
 "nbformat": 4,
 "nbformat_minor": 0
}
