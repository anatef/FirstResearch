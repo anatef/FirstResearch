{
 "cells": [
  {
   "cell_type": "code",
   "execution_count": 10,
   "metadata": {},
   "outputs": [
    {
     "data": {
      "text/html": [
       "<style>.container { width:100% !important; }</style>"
      ],
      "text/plain": [
       "<IPython.core.display.HTML object>"
      ]
     },
     "execution_count": 10,
     "metadata": {},
     "output_type": "execute_result"
    }
   ],
   "source": [
    "import pandas as pd\n",
    "import numpy as np\n",
    "import pylab as pl\n",
    "import pickle\n",
    "from IPython.core.display import HTML\n",
    "HTML(\"<style>.container { width:100% !important; }</style>\")"
   ]
  },
  {
   "cell_type": "code",
   "execution_count": 11,
   "metadata": {},
   "outputs": [],
   "source": [
    "curr_dir = !pwd\n",
    "pfam_version = \"31\"\n",
    "domains_path = curr_dir[0]+\"/../3.parse_HMMER/hmm_domains/pfam-v\"+pfam_version+\"/\"\n",
    "canonic_prot_path = curr_dir[0]+\"/../4.parse_Uniprot/domains_canonic_prot/pfam-v\"+pfam_version+\"/\""
   ]
  },
  {
   "cell_type": "code",
   "execution_count": 12,
   "metadata": {},
   "outputs": [],
   "source": [
    "def count_domain_instances(domain_gene_table, count_overlaps=True):\n",
    "    \n",
    "    if (count_overlaps):\n",
    "        return domain_gene_table.shape[0]\n",
    "    \n",
    "    else:\n",
    "        instance_counter = 0\n",
    "        last_target_end = 0\n",
    "\n",
    "        for i, row in domain_gene_table.iterrows():\n",
    "            curr_target_start = int(row[\"TargetStart\"])\n",
    "            curr_target_end = int(row[\"TargetEnd\"])\n",
    "            if (curr_target_start > last_target_end):\n",
    "                instance_counter += 1\n",
    "                last_target_end = curr_target_end\n",
    "            #If the instance overlpas the previous one\n",
    "            else: \n",
    "                #Updating to the smaller traget end\n",
    "                if (curr_target_end > last_target_end):\n",
    "                    last_target_end = curr_target_end\n",
    "                #Continue without incrememnting the counter\n",
    "                continue \n",
    "        \n",
    "        return instance_counter"
   ]
  },
  {
   "cell_type": "markdown",
   "metadata": {},
   "source": [
    "### Counting the number of genes and number of instances per domain"
   ]
  },
  {
   "cell_type": "code",
   "execution_count": null,
   "metadata": {},
   "outputs": [],
   "source": [
    "domains_stats = {}\n",
    "domains_filenames = !ls $domains_path\n",
    "\n",
    "for dom_filename in domains_filenames:\n",
    "    curr_domain_stats = []\n",
    "    \n",
    "    domain_sym = dom_filename[:dom_filename.find(\".\")]\n",
    "    domain_data = pd.read_csv(domains_path+dom_filename, sep='\\t', index_col=0)\n",
    "    domain_ens_genes = (domain_data[\"gene\"]).unique()\n",
    "    \n",
    "    with open(canonic_prot_path+domain_sym+\"_canonic_prot.pik\", 'rb') as handle:\n",
    "        canonic_protein = pickle.load(handle)\n",
    "    \n",
    "    domain_intance_num = 0\n",
    "    for ens_gene in domain_ens_genes:\n",
    "        #Filtering the domain data for this gene according to the canonical protein id\n",
    "        canonic_prot = canonic_protein[ens_gene]\n",
    "        canonic_prot_t = canonic_prot[:canonic_prot.find(\".\")] #Trimming the \".#\" at the end\n",
    "        domain_gene_table = domain_data[domain_data[\"prot\"] == canonic_prot]\n",
    "        \n",
    "        #Count the number of domain instances in this gene\n",
    "        domain_gene_table = domain_gene_table.sort_values(by=[\"TargetStart\", \"BitScore\"], ascending=[True, False])\n",
    "        gene_intance_num = count_domain_instances(domain_gene_table, count_overlaps=True)\n",
    "        domain_intance_num += gene_intance_num\n",
    "    \n",
    "    #Saving domains stats:\n",
    "    curr_domain_stats.append(len(domain_ens_genes)) # No. of genes\n",
    "    curr_domain_stats.append(domain_intance_num) #No. of domain instances\n",
    "    \n",
    "    #Updating the big dict\n",
    "    domains_stats[domain_sym] = curr_domain_stats"
   ]
  },
  {
   "cell_type": "code",
   "execution_count": 6,
   "metadata": {},
   "outputs": [],
   "source": [
    "#Saving in dictionary format\n",
    "with open(curr_dir[0]+\"/pfam-v\"+pfam_version+\"/domains_stats_dict.pik\", 'wb') as handle:\n",
    "    pickle.dump(domains_stats, handle, protocol=pickle.HIGHEST_PROTOCOL)"
   ]
  },
  {
   "cell_type": "code",
   "execution_count": 7,
   "metadata": {},
   "outputs": [],
   "source": [
    "#Saving in data-frame foramts\n",
    "domains_stats_df = pd.DataFrame.from_dict(domains_stats,orient='index')\n",
    "domains_stats_df.columns = [\"genes\", \"instances\"]\n",
    "domains_stats_df = domains_stats_df.sort_values(by=[\"instances\", \"genes\"], ascending=[False, False])\n",
    "domains_stats_df.to_csv(curr_dir[0]+\"/pfam-v\"+pfam_version+\"/domains_stats_df.csv\", sep='\\t')"
   ]
  },
  {
   "cell_type": "code",
   "execution_count": 4,
   "metadata": {},
   "outputs": [],
   "source": [
    "domains_stats_df = pd.read_csv(curr_dir[0]+\"/pfam-v\"+pfam_version+\"/domains_stats_df.csv\", sep='\\t', index_col=0)"
   ]
  },
  {
   "cell_type": "markdown",
   "metadata": {},
   "source": [
    "### Counting the number of genes covered"
   ]
  },
  {
   "cell_type": "code",
   "execution_count": 5,
   "metadata": {},
   "outputs": [
    {
     "name": "stdout",
     "output_type": "stream",
     "text": [
      "19823\n"
     ]
    }
   ],
   "source": [
    "domain_all_names = domains_stats_df.index.tolist()\n",
    "domain_all_genes = []\n",
    "\n",
    "for dom_name in domain_all_names:\n",
    "    domain_data = pd.read_csv(domains_path+dom_name+\".csv\", sep='\\t', index_col=0)\n",
    "    domain_ens_genes = (domain_data[\"gene\"]).unique()\n",
    "    domain_all_genes.extend(domain_ens_genes)\n",
    "\n",
    "domain_all_genes = set(domain_all_genes)\n",
    "print len(domain_all_genes)"
   ]
  },
  {
   "cell_type": "code",
   "execution_count": 6,
   "metadata": {},
   "outputs": [],
   "source": [
    "domain_stats_df_10 = pd.read_csv(curr_dir[0]+\"/pfam-v\"+pfam_version+\"/filtered10_domains_df.csv\", sep='\\t', index_col=0)"
   ]
  },
  {
   "cell_type": "code",
   "execution_count": 8,
   "metadata": {},
   "outputs": [
    {
     "name": "stdout",
     "output_type": "stream",
     "text": [
      "13254\n"
     ]
    }
   ],
   "source": [
    "domain_10_names = domain_stats_df_10.index.tolist()\n",
    "domain_10_genes = []\n",
    "\n",
    "for dom_name in domain_10_names:\n",
    "    domain_data = pd.read_csv(domains_path+dom_name+\".csv\", sep='\\t', index_col=0)\n",
    "    domain_ens_genes = (domain_data[\"gene\"]).unique()\n",
    "    domain_10_genes.extend(domain_ens_genes)\n",
    "\n",
    "domain_10_genes = set(domain_10_genes)\n",
    "print len(domain_10_genes)"
   ]
  },
  {
   "cell_type": "code",
   "execution_count": 12,
   "metadata": {},
   "outputs": [],
   "source": [
    "all_domains_list = domains_stats_df.index\n",
    "with open(curr_dir[0]+\"/pfam-v\"+pfam_version+\"/all_domains_list.pik\", 'wb') as handle:\n",
    "    pickle.dump(all_domains_list, handle, protocol=pickle.HIGHEST_PROTOCOL)"
   ]
  },
  {
   "cell_type": "markdown",
   "metadata": {},
   "source": [
    "### Creating datasets of filtering by number of instances"
   ]
  },
  {
   "cell_type": "code",
   "execution_count": 19,
   "metadata": {},
   "outputs": [],
   "source": [
    "#Filter domains according to 100 instances\n",
    "instance_threshold = 10\n",
    "filtered_domains_df = domains_stats_df[domains_stats_df[\"instances\"] > instance_threshold]\n",
    "\n",
    "#Save to file\n",
    "filtered_domains_df.to_csv(curr_dir[0]+\"/pfam-v\"+pfam_version+\"/filtered\"+str(instance_threshold)+\"_domains_df.csv\", sep='\\t')"
   ]
  },
  {
   "cell_type": "code",
   "execution_count": 20,
   "metadata": {},
   "outputs": [],
   "source": [
    "#Saving a list of the filtered domains names\n",
    "filtered_domains_list = []\n",
    "for domain in domains_stats.keys():\n",
    "    if (domains_stats[domain][1] > instance_threshold):\n",
    "        filtered_domains_list.append(domain)\n",
    "\n",
    "#Pickeling\n",
    "with open(curr_dir[0]+\"/pfam-v\"+pfam_version+\"/filtered\"+str(instance_threshold)+\"_list.pik\", 'wb') as handle:\n",
    "    pickle.dump(filtered_domains_list, handle, protocol=pickle.HIGHEST_PROTOCOL)"
   ]
  },
  {
   "cell_type": "code",
   "execution_count": 22,
   "metadata": {},
   "outputs": [
    {
     "name": "stdout",
     "output_type": "stream",
     "text": [
      "13254\n"
     ]
    }
   ],
   "source": [
    "#Counting the number of genes covered in the filtered datasets\n",
    "domain_filtered_names = filtered_domains_df.index.tolist()\n",
    "domain_filtered_genes = []\n",
    "\n",
    "for dom_name in domain_filtered_names:\n",
    "    domain_data = pd.read_csv(domains_path+dom_name+\".csv\", sep='\\t', index_col=0)\n",
    "    domain_ens_genes = (domain_data[\"gene\"]).unique()\n",
    "    domain_filtered_genes.extend(domain_ens_genes)\n",
    "\n",
    "domain_filtered_genes = set(domain_filtered_genes)\n",
    "print len(domain_filtered_genes)"
   ]
  },
  {
   "cell_type": "code",
   "execution_count": 5,
   "metadata": {},
   "outputs": [],
   "source": [
    "with open(curr_dir[0]+\"/../binding_score/domains_binding_dict.pik\", 'rb') as handle:\n",
    "    binding_scores_dict = pickle.load(handle)"
   ]
  },
  {
   "cell_type": "code",
   "execution_count": 59,
   "metadata": {},
   "outputs": [
    {
     "data": {
      "text/plain": [
       "Index([u'zf-C2H2', u'zf-H2C2_2', u'ig', u'Cadherin', u'I-set', u'7tm_1',\n",
       "       u'fn3', u'Ig_3', u'Ig_2', u'EGF', u'Ank', u'Collagen', u'Ank_4',\n",
       "       u'LRR_8', u'Ank_5', u'Pkinase', u'Ank_3', u'Ank_2', u'Pkinase_Tyr',\n",
       "       u'7tm_4', u'EGF_CA', u'KRAB', u'V-set', u'RRM_1', u'Sushi', u'WD40',\n",
       "       u'EGF_2', u'DUF1220', u'zf-C3HC4', u'Homeobox', u'Spectrin', u'Kelch_1',\n",
       "       u'PH', u'Keratin_B2_2', u'SH3_2', u'PDZ', u'SH3_1', u'C1-set', u'cEGF',\n",
       "       u'zf-RING_UBOX', u'zf-RING_2', u'zf-C3HC4_2', u'SH3_9', u'zf-C2H2_6',\n",
       "       u'zf-C2H2_4', u'Ldl_recept_a', u'zf-C3HC4_3', u'C2', u'Laminin_EGF',\n",
       "       u'hEGF', u'zf-RING_5', u'LRR_4', u'Ion_trans', u'EF-hand_1', u'TSP_1',\n",
       "       u'LIM', u'Nebulin', u'Ras', u'Mito_carr', u'FXa_inhibition', u'Roc',\n",
       "       u'CUB', u'BTB', u'7TM_GPCR_Srsx', u'Lectin_C', u'Kelch_3',\n",
       "       u'Ldl_recept_b', u'Arm', u'Trypsin', u'zf-C3HC4_4', u'TPR_1', u'IQ',\n",
       "       u'Helicase_C', u'Plectin', u'Kelch_6', u'Kelch_2', u'EF-hand_7',\n",
       "       u'zf-B_box', u'PHD', u'SPRY', u'VWA_2', u'SH2', u'VWA', u'MFS_1',\n",
       "       u'RCC1', u'HLH', u'Arf', u'Laminin_G_2', u'C2-set_2', u'CH', u'SAM_2',\n",
       "       u'ABC_tran', u'SAM_1', u'Hemopexin'],\n",
       "      dtype='object')"
      ]
     },
     "execution_count": 59,
     "metadata": {},
     "output_type": "execute_result"
    }
   ],
   "source": [
    "domains_stats_df[domains_stats_df[\"instances\"] >= 100].index"
   ]
  },
  {
   "cell_type": "markdown",
   "metadata": {
    "collapsed": true
   },
   "source": [
    "### Training dataset stats"
   ]
  },
  {
   "cell_type": "code",
   "execution_count": 8,
   "metadata": {},
   "outputs": [],
   "source": [
    "# Reading training dataset\n",
    "datafile_date = \"08.06.18\"\n",
    "input_path = curr_dir[0]+\"/../10.Prediction/domains_similarity/filtered_features_table/\"\n",
    "filename = \"windowed_positions_features_mediode_filter_\"+datafile_date+\".csv\"\n",
    "\n",
    "#Features table\n",
    "features_all = pd.read_csv(input_path+filename, sep='\\t', index_col=0)\n",
    "training_domains = features_all[\"domain_name\"].unique().tolist()"
   ]
  },
  {
   "cell_type": "code",
   "execution_count": 13,
   "metadata": {},
   "outputs": [
    {
     "name": "stdout",
     "output_type": "stream",
     "text": [
      "9515\n"
     ]
    }
   ],
   "source": [
    "#Counting number of genes covered\n",
    "training_domain_genes = []\n",
    "\n",
    "for dom_name in training_domains:\n",
    "    domain_data = pd.read_csv(domains_path+dom_name+\".csv\", sep='\\t', index_col=0)\n",
    "    domain_ens_genes = (domain_data[\"gene\"]).unique()\n",
    "    training_domain_genes.extend(domain_ens_genes)\n",
    "\n",
    "training_domain_genes = set(training_domain_genes)\n",
    "print len(training_domain_genes)"
   ]
  },
  {
   "cell_type": "code",
   "execution_count": null,
   "metadata": {},
   "outputs": [],
   "source": []
  }
 ],
 "metadata": {
  "kernelspec": {
   "display_name": "Python 2",
   "language": "python",
   "name": "python2"
  },
  "language_info": {
   "codemirror_mode": {
    "name": "ipython",
    "version": 2
   },
   "file_extension": ".py",
   "mimetype": "text/x-python",
   "name": "python",
   "nbconvert_exporter": "python",
   "pygments_lexer": "ipython2",
   "version": "2.7.12"
  }
 },
 "nbformat": 4,
 "nbformat_minor": 1
}
