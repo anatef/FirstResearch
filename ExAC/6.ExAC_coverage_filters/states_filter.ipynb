{
 "cells": [
  {
   "cell_type": "code",
   "execution_count": 1,
   "metadata": {
    "collapsed": false
   },
   "outputs": [
    {
     "data": {
      "text/html": [
       "<style>.container { width:100% !important; }</style>"
      ],
      "text/plain": [
       "<IPython.core.display.HTML object>"
      ]
     },
     "execution_count": 1,
     "metadata": {},
     "output_type": "execute_result"
    }
   ],
   "source": [
    "import pandas as pd\n",
    "import numpy as np\n",
    "import pickle\n",
    "import datetime\n",
    "from collections import defaultdict\n",
    "from IPython.core.display import HTML\n",
    "HTML(\"<style>.container { width:100% !important; }</style>\")"
   ]
  },
  {
   "cell_type": "code",
   "execution_count": 18,
   "metadata": {
    "collapsed": false
   },
   "outputs": [],
   "source": [
    "curr_dir = !pwd\n",
    "\n",
    "domain_name = \"PUF\"\n",
    "output_path = curr_dir[0]+\"/filtered_dicts/pfam-v30/\"+domain_name+\"/\"\n",
    "input_path = curr_dir[0]+\"/../6.ExAC_coverage/coverage_states_dicts/pfam-v30/\"+domain_name+\"/\"\n",
    "\n",
    "dirfiles = !ls -t $input_path\n",
    "filename = dirfiles[0]\n",
    "\n",
    "with open(input_path+filename, 'rb') as handle:\n",
    "    states_dict = pickle.load(handle)"
   ]
  },
  {
   "cell_type": "markdown",
   "metadata": {},
   "source": [
    "### Filter by coverage, VQSR status"
   ]
  },
  {
   "cell_type": "code",
   "execution_count": 23,
   "metadata": {
    "collapsed": true
   },
   "outputs": [],
   "source": [
    "filter_cov_states_dict = defaultdict(list)\n",
    "for state in states_dict.keys():\n",
    "    for i in range(len(states_dict[state])):\n",
    "        curr_dict = states_dict[state][i]\n",
    "        mean_cov = curr_dict[\"coverage_mean\"]\n",
    "        vqsr_list = curr_dict[\"filter\"]\n",
    "        \n",
    "        #Filter by coverage\n",
    "        if (mean_cov < 50):\n",
    "            continue\n",
    "        \n",
    "        if (len(vqsr_list) > 0):\n",
    "            for i in range(len(vqsr_list)):\n",
    "                if (vsqr_list[i] != \"PASS\"):\n",
    "                    af_to_remove = curr_dict[\"af\"]\n",
    "                    \n",
    "        filter_cov_states_dict[state].append(curr_dict)\n",
    "                    \n",
    "        "
   ]
  },
  {
   "cell_type": "markdown",
   "metadata": {},
   "source": [
    "### filter by VQSR status"
   ]
  },
  {
   "cell_type": "code",
   "execution_count": 21,
   "metadata": {
    "collapsed": false
   },
   "outputs": [
    {
     "name": "stdout",
     "output_type": "stream",
     "text": [
      "{'ens_gene': 'ENSG00000134644.11', 'syn_mut_num': 0, 'af': 1.883e-05, 'af_adj': 1.883e-05, 'aa_ref': 'I', 'prot_pos': 1065, 'filter': ['PASS', 'PASS'], 'an_adj': [106188, 106188], 'alterations_af_adj_dict': defaultdict(<type 'list'>, {'L': [9.417e-06], 'V': [9.417e-06]}), 'ac_adj': [1, 1], 'chrom_pos': (31414041, 31414040, 31414039), 'chrom': '1', 'bp_ref': 'ATC'}\n"
     ]
    }
   ],
   "source": [
    "for d in states_dict[2]:\n",
    "    if (len(d[\"filter\"]) > 1):\n",
    "        print d\n",
    "        "
   ]
  },
  {
   "cell_type": "code",
   "execution_count": 22,
   "metadata": {
    "collapsed": false
   },
   "outputs": [
    {
     "data": {
      "text/plain": [
       "{'aa_ref': 'P',\n",
       " 'ac_adj': [],\n",
       " 'af': 0,\n",
       " 'af_adj': 0,\n",
       " 'alterations_af_adj_dict': defaultdict(list, {}),\n",
       " 'an_adj': [],\n",
       " 'bp_ref': 'CCT',\n",
       " 'chrom': '2',\n",
       " 'chrom_pos': (20453690, 20453689, 20453688),\n",
       " 'ens_gene': 'ENSG00000055917.11',\n",
       " 'filter': [],\n",
       " 'prot_pos': 988,\n",
       " 'syn_mut_num': 0}"
      ]
     },
     "execution_count": 22,
     "metadata": {},
     "output_type": "execute_result"
    }
   ],
   "source": [
    "d"
   ]
  },
  {
   "cell_type": "code",
   "execution_count": 24,
   "metadata": {
    "collapsed": false
   },
   "outputs": [],
   "source": [
    "!mkdir -p filtered_dicts/pfam-v30/$domain_name\n",
    "with open(output_path+domain_name+\"_hmm_states_dict_cov_\"+datetime.date.today().strftime(\"%m.%d\")+\"_cov.pik\", 'wb') as handle:\n",
    "    pickle.dump(states_dict, handle, protocol=pickle.HIGHEST_PROTOCOL)"
   ]
  },
  {
   "cell_type": "code",
   "execution_count": null,
   "metadata": {
    "collapsed": true
   },
   "outputs": [],
   "source": [
    "syn_mut_num"
   ]
  }
 ],
 "metadata": {
  "kernelspec": {
   "display_name": "Python 2",
   "language": "python",
   "name": "python2"
  },
  "language_info": {
   "codemirror_mode": {
    "name": "ipython",
    "version": 2
   },
   "file_extension": ".py",
   "mimetype": "text/x-python",
   "name": "python",
   "nbconvert_exporter": "python",
   "pygments_lexer": "ipython2",
   "version": "2.7.12"
  }
 },
 "nbformat": 4,
 "nbformat_minor": 0
}
