{
 "cells": [
  {
   "cell_type": "markdown",
   "metadata": {},
   "source": [
    "## Finding index and length of frameshift"
   ]
  },
  {
   "cell_type": "markdown",
   "metadata": {},
   "source": [
    "08/04/2016: this code is going over the exon sequences I received from Shilpa, which correspond to the HMMER results.\n",
    "In some cases, Shilpa noted a frameshift, meaning, 1 or two bases were missing in a paticular location, and those need to be\n",
    "added in order to get the correct translation to amino-acids.\n",
    "The code here find all those cases and retreive the filename along with the fraemshift index and the length (1 or 2) of bases\n",
    "needed to be added for the correct translation.\n",
    "\n",
    "The code then save the results as a pickled dicionary called: \"exons_index_length.pik\", \n",
    "and also in a readable table called: \"exons_index_length_table.csv\"."
   ]
  },
  {
   "cell_type": "code",
   "execution_count": 123,
   "metadata": {
    "collapsed": false
   },
   "outputs": [
    {
     "data": {
      "text/html": [
       "<style>.container { width:100% !important; }</style>"
      ],
      "text/plain": [
       "<IPython.core.display.HTML object>"
      ]
     },
     "execution_count": 123,
     "metadata": {},
     "output_type": "execute_result"
    }
   ],
   "source": [
    "import fileinput\n",
    "import sys\n",
    "import pickle\n",
    "import pandas as pd\n",
    "\n",
    "from IPython.core.display import HTML\n",
    "HTML(\"<style>.container { width:100% !important; }</style>\")"
   ]
  },
  {
   "cell_type": "code",
   "execution_count": 2,
   "metadata": {
    "collapsed": true
   },
   "outputs": [],
   "source": [
    "curr_dir = !pwd\n",
    "my_path = curr_dir[0]+\"/from_shilpa/exons_seqs/\""
   ]
  },
  {
   "cell_type": "code",
   "execution_count": 4,
   "metadata": {
    "collapsed": true
   },
   "outputs": [],
   "source": [
    "chromosome_names = [\"1\", \"2\", \"3\", \"4\", \"5\", \"6\", \"7\", \"8\", \"9\", \"10\", \"11\", \"12\", \"13\", \"14\", \"15\", \"16\", \"17\", \"18\", \"19\", \"20\", \"21\", \"22\", \"X\", \"Y\"]"
   ]
  },
  {
   "cell_type": "code",
   "execution_count": 118,
   "metadata": {
    "collapsed": false
   },
   "outputs": [
    {
     "name": "stdout",
     "output_type": "stream",
     "text": [
      "Finished Chromosome 1\n",
      "Finished Chromosome 2\n",
      "Finished Chromosome 3\n",
      "Finished Chromosome 4\n",
      "Finished Chromosome 5\n",
      "Finished Chromosome 6\n",
      "Finished Chromosome 7\n",
      "Finished Chromosome 8\n",
      "Finished Chromosome 9\n",
      "Finished Chromosome 10\n",
      "Finished Chromosome 11\n",
      "Finished Chromosome 12\n",
      "Finished Chromosome 13\n",
      "Finished Chromosome 14\n",
      "Finished Chromosome 15\n",
      "Finished Chromosome 16\n",
      "Finished Chromosome 17\n",
      "Finished Chromosome 18\n",
      "Finished Chromosome 19\n",
      "Finished Chromosome 20\n",
      "Finished Chromosome 21\n",
      "Finished Chromosome 22\n",
      "Finished Chromosome X\n",
      "Finished Chromosome Y\n"
     ]
    }
   ],
   "source": [
    "index_list = []\n",
    "length_list = []\n",
    "filename_list = []\n",
    "frameshifts_dict = {}\n",
    "for chrom in chromosome_names:\n",
    "    chrom_dir = my_path+chrom+\"/\"\n",
    "    chrom_files = !ls $chrom_dir\n",
    "    for gene_dir in chrom_files:\n",
    "        exons_files = !ls $chrom_dir$gene_dir\n",
    "        for f in exons_files:\n",
    "            index = -1\n",
    "            for line in fileinput.input(chrom_dir+\"/\"+gene_dir+\"/\"+f):\n",
    "                \n",
    "                #Getting exons data from the first line\n",
    "                if (line.find(\"chromosome\") >= 0):\n",
    "                    chrom_raw_data = line[line.find(\"GRCh37\"):line.find(\"length\")-1]\n",
    "                    #Removing the complement bracates if exist\n",
    "                    if (chrom_raw_data.find(\"complement(\") >= 0):\n",
    "                        chrom_raw_data = chrom_raw_data[chrom_raw_data.find(\"complement(\")+11:-1]\n",
    "                        #Removing the join bracates if exist\n",
    "                    if (chrom_raw_data.find(\"join(\") >= 0):\n",
    "                        chrom_raw_data = chrom_raw_data[chrom_raw_data.find(\"join(\")+5:-1]\n",
    "\n",
    "                    exons_list = chrom_raw_data.split(\",\")\n",
    "                    if (exons_list[0][0] == \"-\"):\n",
    "                        index = int(exons_list[0][1:exons_list[0].find(\"..\")])\n",
    "                        continue\n",
    "                \n",
    "                #Getting the frameshift length from another line\n",
    "                if (index > 0 and line[0] == \"-\"):\n",
    "                    length = len(line.split(\"\\t\")[1][:-1])\n",
    "                    break\n",
    "                    \n",
    "        \n",
    "            #After interating all the lines: saving index and length information\n",
    "            if (index > 0):\n",
    "                frameshifts_dict[f] = (index, length)\n",
    "                index_list.append(index)\n",
    "                length_list.append(length)\n",
    "                filename_list.append(f)\n",
    "            \n",
    "            fileinput.close()\n",
    "        \n",
    "    print \"Finished Chromosome \"+chrom\n",
    "    \n",
    "with open(my_path+'exons_index_length.pik', 'wb') as handle:\n",
    "    pickle.dump(frameshifts_dict, handle, protocol=pickle.HIGHEST_PROTOCOL)"
   ]
  },
  {
   "cell_type": "code",
   "execution_count": 117,
   "metadata": {
    "collapsed": true
   },
   "outputs": [],
   "source": [
    "fileinput.close()"
   ]
  },
  {
   "cell_type": "code",
   "execution_count": 130,
   "metadata": {
    "collapsed": false
   },
   "outputs": [],
   "source": [
    "frameshifts_table = pd.DataFrame([filename_list, index_list, length_list])\n",
    "frameshifts_table = frameshifts_table.transpose()\n",
    "frameshifts_table.columns = [\"filename\", \"index\", \"length\"]\n",
    "frameshifts_table.to_csv(my_path+\"exons_index_length_table.csv\", sep='\\t')"
   ]
  }
 ],
 "metadata": {
  "kernelspec": {
   "display_name": "Python 2",
   "language": "python",
   "name": "python2"
  },
  "language_info": {
   "codemirror_mode": {
    "name": "ipython",
    "version": 2
   },
   "file_extension": ".py",
   "mimetype": "text/x-python",
   "name": "python",
   "nbconvert_exporter": "python",
   "pygments_lexer": "ipython2",
   "version": "2.7.10"
  }
 },
 "nbformat": 4,
 "nbformat_minor": 0
}
