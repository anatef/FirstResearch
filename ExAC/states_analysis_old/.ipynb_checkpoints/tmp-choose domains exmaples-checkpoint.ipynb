{
 "cells": [
  {
   "cell_type": "code",
   "execution_count": 1,
   "metadata": {
    "collapsed": true
   },
   "outputs": [],
   "source": [
    "import pandas as pd\n",
    "import numpy as np\n",
    "import pickle\n",
    "from collections import defaultdict"
   ]
  },
  {
   "cell_type": "code",
   "execution_count": 27,
   "metadata": {
    "collapsed": false
   },
   "outputs": [
    {
     "data": {
      "text/plain": [
       "81"
      ]
     },
     "execution_count": 27,
     "metadata": {},
     "output_type": "execute_result"
    }
   ],
   "source": [
    "curr_dir = !pwd\n",
    "\n",
    "#Reading the table of all domains stats\n",
    "filtered_domains_df = pd.read_csv(curr_dir[0]+\"/../5.domains_stats/filtered100_domains_df.csv\", sep='\\t', index_col=0)\n",
    "\n",
    "with open(curr_dir[0]+\"/../5.domains_stats/domains_stats_dict.pik\", 'rb') as handle:\n",
    "    domains_stats_dict = pickle.load(handle)\n",
    "\n",
    "#Read binding scores\n",
    "with open(curr_dir[0]+\"/../binding_score/domains_binding_dict.pik\", 'rb') as handle:\n",
    "    binding_scores_dict = pickle.load(handle)\n",
    "\n",
    "#Read the list of domains\n",
    "with open(curr_dir[0]+\"/../5.domains_stats/filtered100_list.pik\", 'rb') as handle:\n",
    "    filtered_domains_list = pickle.load(handle)\n",
    "filtered_domains_list.sort()\n",
    "\n",
    "#Creating a list of the intersection of domains with binding scores and domains with states dicts\n",
    "domains = []\n",
    "for domain in filtered_domains_list:\n",
    "    if (domain in binding_scores_dict.keys()):\n",
    "        domains.append(domain)\n",
    "len(domains)"
   ]
  },
  {
   "cell_type": "code",
   "execution_count": 28,
   "metadata": {
    "collapsed": false
   },
   "outputs": [
    {
     "data": {
      "text/plain": [
       "[695, 4608]"
      ]
     },
     "execution_count": 28,
     "metadata": {},
     "output_type": "execute_result"
    }
   ],
   "source": [
    "domains_stats_dict[\"zf-C2H2\"]"
   ]
  },
  {
   "cell_type": "code",
   "execution_count": 29,
   "metadata": {
    "collapsed": false
   },
   "outputs": [],
   "source": [
    "domains_dict = {}\n",
    "for domain_name in domains:\n",
    "    #domain_name = \"Hemopexin\"\n",
    "    input_path = curr_dir[0]+\"/../5.HMM_alter_align/domains_states_dicts/pfam-v30/\"+domain_name+\"/\"\n",
    "    dirfiles = !ls -t $input_path\n",
    "    filename = dirfiles[0]\n",
    "\n",
    "    with open(input_path+filename, 'rb') as handle:\n",
    "        states_dict = pickle.load(handle)\n",
    "\n",
    "    #Getting the number of states for this domain\n",
    "    states_num = len(states_dict.keys())\n",
    "    genes_num = domains_stats_dict[domain_name][0]\n",
    "    instances_num = domains_stats_dict[domain_name][1]\n",
    "    domains_dict[domain_name] = [states_num, genes_num, instances_num]"
   ]
  },
  {
   "cell_type": "code",
   "execution_count": 30,
   "metadata": {
    "collapsed": true
   },
   "outputs": [],
   "source": [
    "domains_df = pd.DataFrame.from_dict(domains_dict,orient='index')\n",
    "domains_df.columns = [\"length\", \"genes\", \"instances\"]"
   ]
  },
  {
   "cell_type": "code",
   "execution_count": 33,
   "metadata": {
    "collapsed": false
   },
   "outputs": [],
   "source": [
    "short_domains_df = domains_df[domains_df[\"length\"] <= 50]\n",
    "short_domains_df_250instances = short_domains_df[short_domains_df[\"instances\"] >= 250]"
   ]
  },
  {
   "cell_type": "code",
   "execution_count": 37,
   "metadata": {
    "collapsed": false
   },
   "outputs": [
    {
     "data": {
      "text/html": [
       "<div>\n",
       "<table border=\"1\" class=\"dataframe\">\n",
       "  <thead>\n",
       "    <tr style=\"text-align: right;\">\n",
       "      <th></th>\n",
       "      <th>length</th>\n",
       "      <th>genes</th>\n",
       "      <th>instances</th>\n",
       "    </tr>\n",
       "  </thead>\n",
       "  <tbody>\n",
       "    <tr>\n",
       "      <th>zf-H2C2_2</th>\n",
       "      <td>26</td>\n",
       "      <td>428</td>\n",
       "      <td>1135</td>\n",
       "    </tr>\n",
       "    <tr>\n",
       "      <th>WD40</th>\n",
       "      <td>38</td>\n",
       "      <td>151</td>\n",
       "      <td>349</td>\n",
       "    </tr>\n",
       "    <tr>\n",
       "      <th>EGF</th>\n",
       "      <td>32</td>\n",
       "      <td>162</td>\n",
       "      <td>721</td>\n",
       "    </tr>\n",
       "    <tr>\n",
       "      <th>zf-C2H2</th>\n",
       "      <td>23</td>\n",
       "      <td>695</td>\n",
       "      <td>4608</td>\n",
       "    </tr>\n",
       "    <tr>\n",
       "      <th>Ank_3</th>\n",
       "      <td>31</td>\n",
       "      <td>207</td>\n",
       "      <td>504</td>\n",
       "    </tr>\n",
       "    <tr>\n",
       "      <th>Kelch_1</th>\n",
       "      <td>46</td>\n",
       "      <td>74</td>\n",
       "      <td>271</td>\n",
       "    </tr>\n",
       "    <tr>\n",
       "      <th>EGF_CA</th>\n",
       "      <td>42</td>\n",
       "      <td>111</td>\n",
       "      <td>459</td>\n",
       "    </tr>\n",
       "    <tr>\n",
       "      <th>zf-C3HC4</th>\n",
       "      <td>41</td>\n",
       "      <td>295</td>\n",
       "      <td>299</td>\n",
       "    </tr>\n",
       "    <tr>\n",
       "      <th>Ank</th>\n",
       "      <td>32</td>\n",
       "      <td>224</td>\n",
       "      <td>691</td>\n",
       "    </tr>\n",
       "  </tbody>\n",
       "</table>\n",
       "</div>"
      ],
      "text/plain": [
       "           length  genes  instances\n",
       "zf-H2C2_2      26    428       1135\n",
       "WD40           38    151        349\n",
       "EGF            32    162        721\n",
       "zf-C2H2        23    695       4608\n",
       "Ank_3          31    207        504\n",
       "Kelch_1        46     74        271\n",
       "EGF_CA         42    111        459\n",
       "zf-C3HC4       41    295        299\n",
       "Ank            32    224        691"
      ]
     },
     "execution_count": 37,
     "metadata": {},
     "output_type": "execute_result"
    }
   ],
   "source": [
    "short_domains_df_250instances"
   ]
  },
  {
   "cell_type": "code",
   "execution_count": null,
   "metadata": {
    "collapsed": true
   },
   "outputs": [],
   "source": [
    "#Beta propeller:\n",
    "Kelch_1\n",
    "WD40\n",
    "\n",
    "#C2H2-zf\n",
    "zf-C2H2\n",
    "zf-H2C2_2\n",
    "\n",
    "#EGF\n",
    "EGF_CA\n",
    "EGF\n",
    "\n",
    "#Ring\n",
    "zf-C3HC4\n",
    "\n",
    "#Ank\n",
    "Ank\n",
    "Ank_repeat"
   ]
  }
 ],
 "metadata": {
  "kernelspec": {
   "display_name": "Python 2",
   "language": "python",
   "name": "python2"
  },
  "language_info": {
   "codemirror_mode": {
    "name": "ipython",
    "version": 2
   },
   "file_extension": ".py",
   "mimetype": "text/x-python",
   "name": "python",
   "nbconvert_exporter": "python",
   "pygments_lexer": "ipython2",
   "version": "2.7.12"
  }
 },
 "nbformat": 4,
 "nbformat_minor": 1
}
