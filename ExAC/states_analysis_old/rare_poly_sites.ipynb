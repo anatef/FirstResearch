{
 "cells": [
  {
   "cell_type": "code",
   "execution_count": 1,
   "metadata": {
    "collapsed": true
   },
   "outputs": [],
   "source": [
    "import pandas as pd\n",
    "import numpy as np\n",
    "from collections import defaultdict\n",
    "import pickle"
   ]
  },
  {
   "cell_type": "code",
   "execution_count": 136,
   "metadata": {
    "collapsed": false
   },
   "outputs": [],
   "source": [
    "curr_dir = !pwd\n",
    "domain_name = \"Homeobox\"\n",
    "input_path = curr_dir[0]+\"/../5.HMM_alter_align/domains_states_dicts/pfam_v30/\"+domain_name+\"/\"\n",
    "dirfiles = !ls -t $input_path\n",
    "filename = dirfiles[0]\n",
    "\n",
    "with open(input_path+filename, 'rb') as handle:\n",
    "    states_dict = pickle.load(handle)\n",
    "    \n",
    "#Getting the number of states for this domain\n",
    "states_num = len(states_dict.keys())"
   ]
  },
  {
   "cell_type": "code",
   "execution_count": 137,
   "metadata": {
    "collapsed": false
   },
   "outputs": [],
   "source": [
    "MAF_thresholds = [0.05, 0.005, 0.0005, 0.00005, 0.000005]\n",
    "\n",
    "rare_pol_dict = defaultdict(list)\n",
    "for maft in MAF_thresholds:\n",
    "    for state in states_dict.keys():\n",
    "        pol_sites_num = 0\n",
    "        pol_rare_num = 0\n",
    "        for d in states_dict[state]:\n",
    "            if (d[\"af_adj\"] > 0):\n",
    "                pol_sites_num += 1\n",
    "                if (d[\"af_adj\"] <= maft):\n",
    "                    pol_rare_num += 1\n",
    "        if (pol_sites_num == 0):\n",
    "            rare_pol_frac = 0\n",
    "        else:\n",
    "            rare_pol_frac = pol_rare_num/float(pol_sites_num)\n",
    "        rare_pol_dict[state].append(rare_pol_frac)\n",
    "\n",
    "#Adding number of SNPs in each state\n",
    "for state in states_dict.keys():\n",
    "    pol_sites_num = 0\n",
    "    for d in states_dict[state]:\n",
    "        if (d[\"af_adj\"] > 0):\n",
    "            pol_sites_num += 1\n",
    "    rare_pol_dict[state].append(pol_sites_num)"
   ]
  },
  {
   "cell_type": "code",
   "execution_count": 138,
   "metadata": {
    "collapsed": false
   },
   "outputs": [],
   "source": [
    "#Exporting to data-frames tables\n",
    "rare_poly_df = pd.DataFrame.from_dict(rare_pol_dict,orient='index')\n",
    "rare_poly_df.columns = [\"0.05\", \"0.005\", \"0.0005\", \"0.00005\",\"0.000005\", \"number\"]\n",
    "rare_poly_df[\"state\"] = rare_pol_dict.keys()\n",
    "\n",
    "rare_poly_df.to_csv(curr_dir[0]+\"/data-frames/rare_poly/\"+domain_name+\"_poly.csv\", sep='\\t')"
   ]
  },
  {
   "cell_type": "code",
   "execution_count": 118,
   "metadata": {
    "collapsed": false
   },
   "outputs": [],
   "source": [
    "total_snp = 0\n",
    "rare_snp = 0\n",
    "sum_snp = 0\n",
    "for state in states_dict.keys():\n",
    "    for d in states_dict[state]:\n",
    "        if (d[\"af_adj\"] > 0):\n",
    "            total_snp += 1\n",
    "            sum_snp += d[\"af_adj\"]\n",
    "            if (d[\"af_adj\"] < 0.00005):\n",
    "                rare_snp += 1\n",
    "                \n",
    "rare_pol_frac = rare_snp/float(total_snp)\n",
    "af_avg = sum_snp/float(total_snp)"
   ]
  },
  {
   "cell_type": "code",
   "execution_count": 99,
   "metadata": {
    "collapsed": false
   },
   "outputs": [
    {
     "data": {
      "text/plain": [
       "0.8229537366548043"
      ]
     },
     "execution_count": 99,
     "metadata": {},
     "output_type": "execute_result"
    }
   ],
   "source": [
    "rare_pol_frac"
   ]
  },
  {
   "cell_type": "code",
   "execution_count": 100,
   "metadata": {
    "collapsed": false
   },
   "outputs": [
    {
     "data": {
      "text/plain": [
       "1850"
      ]
     },
     "execution_count": 100,
     "metadata": {},
     "output_type": "execute_result"
    }
   ],
   "source": [
    "rare_snp"
   ]
  },
  {
   "cell_type": "code",
   "execution_count": 85,
   "metadata": {
    "collapsed": false
   },
   "outputs": [
    {
     "data": {
      "text/plain": [
       "2248"
      ]
     },
     "execution_count": 85,
     "metadata": {},
     "output_type": "execute_result"
    }
   ],
   "source": [
    "total_snp"
   ]
  },
  {
   "cell_type": "code",
   "execution_count": 119,
   "metadata": {
    "collapsed": false
   },
   "outputs": [
    {
     "data": {
      "text/plain": [
       "0.002131481"
      ]
     },
     "execution_count": 119,
     "metadata": {},
     "output_type": "execute_result"
    }
   ],
   "source": [
    "sum_snp"
   ]
  },
  {
   "cell_type": "code",
   "execution_count": 120,
   "metadata": {
    "collapsed": false
   },
   "outputs": [
    {
     "data": {
      "text/plain": [
       "2.804580263157895e-05"
      ]
     },
     "execution_count": 120,
     "metadata": {},
     "output_type": "execute_result"
    }
   ],
   "source": [
    "af_avg"
   ]
  },
  {
   "cell_type": "code",
   "execution_count": null,
   "metadata": {
    "collapsed": true
   },
   "outputs": [],
   "source": []
  }
 ],
 "metadata": {
  "kernelspec": {
   "display_name": "Python 2",
   "language": "python",
   "name": "python2"
  },
  "language_info": {
   "codemirror_mode": {
    "name": "ipython",
    "version": 2
   },
   "file_extension": ".py",
   "mimetype": "text/x-python",
   "name": "python",
   "nbconvert_exporter": "python",
   "pygments_lexer": "ipython2",
   "version": "2.7.12"
  }
 },
 "nbformat": 4,
 "nbformat_minor": 0
}
