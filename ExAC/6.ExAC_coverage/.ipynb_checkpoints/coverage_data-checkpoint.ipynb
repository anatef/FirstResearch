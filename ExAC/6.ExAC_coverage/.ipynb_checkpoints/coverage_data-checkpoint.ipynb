{
 "cells": [
  {
   "cell_type": "code",
   "execution_count": 1,
   "metadata": {
    "collapsed": false
   },
   "outputs": [
    {
     "data": {
      "text/html": [
       "<style>.container { width:100% !important; }</style>"
      ],
      "text/plain": [
       "<IPython.core.display.HTML object>"
      ]
     },
     "execution_count": 1,
     "metadata": {},
     "output_type": "execute_result"
    }
   ],
   "source": [
    "%matplotlib inline\n",
    "import matplotlib.pyplot as plt\n",
    "import pandas as pd\n",
    "import numpy as np\n",
    "import pickle\n",
    "import gzip\n",
    "from collections import defaultdict\n",
    "from IPython.core.display import HTML\n",
    "HTML(\"<style>.container { width:100% !important; }</style>\")"
   ]
  },
  {
   "cell_type": "code",
   "execution_count": 2,
   "metadata": {
    "collapsed": true
   },
   "outputs": [],
   "source": [
    "curr_dir = !pwd\n",
    "input_path = curr_dir[0]+\"../5.HMM_alter_align/domains_states_dicts/zf-C2H2/\"\n",
    "output_path = curr_dir[0]+\"/coverage_states_dicts/zf-C2H2/\""
   ]
  },
  {
   "cell_type": "code",
   "execution_count": 3,
   "metadata": {
    "collapsed": false
   },
   "outputs": [],
   "source": [
    "with open(input_path+'zinc_hmm_states_dict_JSD_SE_9.23.pik', 'rb') as handle:\n",
    "    states_dict = pickle.load(handle)"
   ]
  },
  {
   "cell_type": "code",
   "execution_count": 4,
   "metadata": {
    "collapsed": false
   },
   "outputs": [],
   "source": [
    "#Load all chromosomes coverage matrices\n",
    "chromosome_names = [\"1\", \"2\", \"3\", \"4\", \"5\", \"6\", \"7\", \"8\", \"9\", \"10\", \"11\", \"12\", \"13\", \"14\", \"15\", \"16\", \"17\", \"18\", \"19\", \"20\", \"21\", \"22\", \"X\", \"Y\"]\n",
    "cov_dict = {}\n",
    "\n",
    "for chrom in chromosome_names:\n",
    "    cov_dict[chrom] = pd.read_csv(curr_dir[0]+\"/coverage_raw/Panel.chr\"+chrom+\".coverage.txt\", sep='\\t')"
   ]
  },
  {
   "cell_type": "code",
   "execution_count": 5,
   "metadata": {
    "collapsed": false
   },
   "outputs": [
    {
     "name": "stdout",
     "output_type": "stream",
     "text": [
      "Finished state 1\n",
      "Finished state 2\n",
      "Finished state 3\n",
      "Finished state 4\n",
      "Finished state 5\n",
      "Finished state 6\n",
      "Finished state 7\n",
      "Finished state 8\n",
      "Finished state 9\n",
      "Finished state 10\n",
      "Finished state 11\n",
      "Finished state 12\n",
      "Finished state 13\n",
      "Finished state 14\n",
      "Finished state 15\n",
      "Finished state 16\n",
      "Finished state 17\n",
      "Finished state 18\n",
      "Finished state 19\n",
      "Finished state 20\n",
      "Finished state 21\n",
      "Finished state 22\n",
      "Finished state 23\n"
     ]
    }
   ],
   "source": [
    "for state in states_dict.keys():\n",
    "    for i in range(len(states_dict[state])):\n",
    "        curr_dict = states_dict[state][i]\n",
    "        curr_pos = curr_dict[\"chrom_pos\"]\n",
    "        curr_chrom = curr_dict[\"chrom\"]\n",
    "        curr_cov = cov_dict[curr_chrom]\n",
    "        mean_sum = 0\n",
    "        for pos in curr_pos:\n",
    "            curr_mean = curr_cov[curr_cov[\"pos\"] == pos][\"mean\"]\n",
    "            if (len(curr_mean) == 0):\n",
    "                continue\n",
    "            mean_sum += float(curr_mean)\n",
    "        cov_mean = float('{:.3e}'.format(float(mean_sum/3)))\n",
    "        curr_dict[\"coverage_mean\"] = cov_mean\n",
    "    print \"Finished state \"+str(state)"
   ]
  },
  {
   "cell_type": "code",
   "execution_count": 6,
   "metadata": {
    "collapsed": false
   },
   "outputs": [],
   "source": [
    "with open(output_path+'zinc_hmm_states_dict_JSD_SE_9.23_cov.pik', 'wb') as handle:\n",
    "    pickle.dump(states_dict, handle, protocol=pickle.HIGHEST_PROTOCOL)"
   ]
  }
 ],
 "metadata": {
  "kernelspec": {
   "display_name": "Python 2",
   "language": "python",
   "name": "python2"
  },
  "language_info": {
   "codemirror_mode": {
    "name": "ipython",
    "version": 2
   },
   "file_extension": ".py",
   "mimetype": "text/x-python",
   "name": "python",
   "nbconvert_exporter": "python",
   "pygments_lexer": "ipython2",
   "version": "2.7.10"
  }
 },
 "nbformat": 4,
 "nbformat_minor": 0
}
