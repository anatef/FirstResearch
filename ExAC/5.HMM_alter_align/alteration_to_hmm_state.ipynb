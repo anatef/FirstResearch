{
 "cells": [
  {
   "cell_type": "code",
   "execution_count": 2,
   "metadata": {
    "collapsed": false
   },
   "outputs": [
    {
     "data": {
      "text/html": [
       "<style>.container { width:100% !important; }</style>"
      ],
      "text/plain": [
       "<IPython.core.display.HTML object>"
      ]
     },
     "execution_count": 2,
     "metadata": {},
     "output_type": "execute_result"
    }
   ],
   "source": [
    "import pandas as pd\n",
    "import numpy as np\n",
    "import math\n",
    "from collections import defaultdict\n",
    "import matplotlib.pyplot as plt\n",
    "from os import environ\n",
    "import pickle\n",
    "import fileinput\n",
    "import sys\n",
    "import datetime\n",
    "from mapping_func import create_exon_pos_table, find_chrom_bps, protein_pos_to_hmm_state_and_aa\n",
    "from calc_exac_freq_func import create_alt_codon, exac_validation_checks, retrieve_codon_seq, codon_table\n",
    "from indels_func import is_indel, table_editing, indel_type\n",
    "from entropy_func import JSD_background, JSD, SE\n",
    "from IPython.core.display import HTML\n",
    "HTML(\"<style>.container { width:100% !important; }</style>\")"
   ]
  },
  {
   "cell_type": "code",
   "execution_count": 3,
   "metadata": {
    "collapsed": false
   },
   "outputs": [],
   "source": [
    "#Getting path\n",
    "curr_dir = !pwd\n",
    "\n",
    "#Reading the list of filtered domains\n",
    "with open(curr_dir[0]+\"/../5.domains_stats/filtered50_list.pik\", 'rb') as handle:\n",
    "    filtered_domains_list = pickle.load(handle)\n",
    "filtered_domains_list.sort()\n",
    "\n",
    "#Getting the domain index as environment variable called \"idx\"\n",
    "try:\n",
    "    domain_index = int(environ['idx'])\n",
    "except:\n",
    "    domain_index = 0\n",
    "domain_name = filtered_domains_list[domain_index]"
   ]
  },
  {
   "cell_type": "code",
   "execution_count": 6,
   "metadata": {
    "collapsed": false
   },
   "outputs": [
    {
     "data": {
      "text/plain": [
       "['7TM_GPCR_Srsx',\n",
       " '7tm_1',\n",
       " '7tm_4',\n",
       " 'AAA',\n",
       " 'AAA_5',\n",
       " 'ABC_membrane',\n",
       " 'ABC_tran',\n",
       " 'Ank',\n",
       " 'Ank_2',\n",
       " 'Ank_3',\n",
       " 'Ank_4',\n",
       " 'Ank_5',\n",
       " 'Annexin',\n",
       " 'Arf',\n",
       " 'Arm',\n",
       " 'BACK',\n",
       " 'BTB',\n",
       " 'BTB_2',\n",
       " 'Bromodomain',\n",
       " 'C1-set',\n",
       " 'C1_1',\n",
       " 'C2',\n",
       " 'C2-set_2',\n",
       " 'CBFD_NFYB_HMF',\n",
       " 'CH',\n",
       " 'CUB',\n",
       " 'Cadherin',\n",
       " 'Cadherin_2',\n",
       " 'Cadherin_3',\n",
       " 'Cadherin_C_2',\n",
       " 'Cadherin_tail',\n",
       " 'Collagen',\n",
       " 'DEAD',\n",
       " 'DUF1220',\n",
       " 'EF-hand_1',\n",
       " 'EF-hand_5',\n",
       " 'EF-hand_6',\n",
       " 'EF-hand_7',\n",
       " 'EF-hand_8',\n",
       " 'EGF',\n",
       " 'EGF_2',\n",
       " 'EGF_3',\n",
       " 'EGF_CA',\n",
       " 'F-box',\n",
       " 'F-box-like',\n",
       " 'FXa_inhibition',\n",
       " 'Filament',\n",
       " 'Filamin',\n",
       " 'Forkhead',\n",
       " 'HLH',\n",
       " 'HMG_box',\n",
       " 'HMG_box_2',\n",
       " 'Helicase_C',\n",
       " 'Hemopexin',\n",
       " 'Histone',\n",
       " 'Homeobox',\n",
       " 'Homeobox_KN',\n",
       " 'Hormone_recep',\n",
       " 'I-set',\n",
       " 'IQ',\n",
       " 'Ig_2',\n",
       " 'Ig_3',\n",
       " 'Ion_trans',\n",
       " 'Ion_trans_2',\n",
       " 'KH_1',\n",
       " 'KRAB',\n",
       " 'Kazal_2',\n",
       " 'Kelch_1',\n",
       " 'Kelch_2',\n",
       " 'Kelch_3',\n",
       " 'Kelch_4',\n",
       " 'Kelch_6',\n",
       " 'Keratin_B2_2',\n",
       " 'LIM',\n",
       " 'LRRNT',\n",
       " 'LRR_4',\n",
       " 'LRR_5',\n",
       " 'LRR_6',\n",
       " 'LRR_8',\n",
       " 'Laminin_EGF',\n",
       " 'Laminin_G_1',\n",
       " 'Laminin_G_2',\n",
       " 'Ldl_recept_a',\n",
       " 'Ldl_recept_b',\n",
       " 'Lectin_C',\n",
       " 'MAGE',\n",
       " 'MFS_1',\n",
       " 'MHC_I',\n",
       " 'MMR_HSR1',\n",
       " 'MORN',\n",
       " 'Mito_carr',\n",
       " 'Nebulin',\n",
       " 'PDZ',\n",
       " 'PH',\n",
       " 'PHD',\n",
       " 'PRY',\n",
       " 'Pkinase',\n",
       " 'Pkinase_Tyr',\n",
       " 'Plectin',\n",
       " 'Prok-RING_4',\n",
       " 'RCC1',\n",
       " 'RCC1_2',\n",
       " 'RRM_1',\n",
       " 'RabGAP-TBC',\n",
       " 'Ras',\n",
       " 'RhoGAP',\n",
       " 'RhoGEF',\n",
       " 'Roc',\n",
       " 'SAM_1',\n",
       " 'SAM_2',\n",
       " 'SCAN',\n",
       " 'SH2',\n",
       " 'SH3_1',\n",
       " 'SH3_2',\n",
       " 'SH3_9',\n",
       " 'SPRY',\n",
       " 'SRCR',\n",
       " 'Spectrin',\n",
       " 'Sushi',\n",
       " 'TAS2R',\n",
       " 'TIG',\n",
       " 'TPR_1',\n",
       " 'TPR_12',\n",
       " 'TPR_2',\n",
       " 'TSP_1',\n",
       " 'Trypsin',\n",
       " 'UCH_1',\n",
       " 'V-set',\n",
       " 'VWA',\n",
       " 'VWA_2',\n",
       " 'VWC',\n",
       " 'VWD',\n",
       " 'WD40',\n",
       " 'WW',\n",
       " 'Y_phosphatase',\n",
       " 'adh_short',\n",
       " 'cEGF',\n",
       " 'fn3',\n",
       " 'hEGF',\n",
       " 'ig',\n",
       " 'p450',\n",
       " 'ubiquitin',\n",
       " 'zf-B_box',\n",
       " 'zf-C2H2',\n",
       " 'zf-C2H2_4',\n",
       " 'zf-C2H2_6',\n",
       " 'zf-C3HC4',\n",
       " 'zf-C3HC4_2',\n",
       " 'zf-C3HC4_3',\n",
       " 'zf-C3HC4_4',\n",
       " 'zf-CCCH',\n",
       " 'zf-H2C2_2',\n",
       " 'zf-H2C2_5',\n",
       " 'zf-RING_2',\n",
       " 'zf-RING_5',\n",
       " 'zf-RING_UBOX',\n",
       " 'zf-met']"
      ]
     },
     "execution_count": 6,
     "metadata": {},
     "output_type": "execute_result"
    }
   ],
   "source": [
    "filtered_domains_list"
   ]
  },
  {
   "cell_type": "code",
   "execution_count": 4,
   "metadata": {
    "collapsed": false
   },
   "outputs": [],
   "source": [
    "in_path = curr_dir[0]+\"/../3.parse_HMMER/hmm_domains/pfam-v30/\"\n",
    "filename = domain_name+\".csv\"\n",
    "domain_data = pd.read_csv(in_path+filename, sep='\\t', index_col=0, dtype={\"chrom_num\": str})\n",
    "#Sort the zinc finger data\n",
    "sorted_domain_data = domain_data.sort_values(by=[\"chrom_num\", \"gene\", \"TargetStart\"])\n",
    "sorted_domain_data = sorted_domain_data.reset_index(drop=True)\n",
    "\n",
    "#Get the canonic protein id for Zinc domain\n",
    "with open(curr_dir[0]+\"/../4.parse_Uniprot/domains_canonic_prot/pfam-v30/\"+domain_name+\"_canonic_prot.pik\", 'rb') as handle:\n",
    "    canonic_protein = pickle.load(handle)\n",
    "    \n",
    "#Get the filtered table of domains\n",
    "    \n",
    "chromosome_names = [\"1\", \"2\", \"3\", \"4\", \"5\", \"6\", \"7\", \"8\", \"9\", \"10\", \"11\", \"12\", \"13\", \"14\", \"15\", \"16\", \"17\", \"18\", \"19\", \"20\", \"21\", \"22\", \"X\", \"Y\"]"
   ]
  },
  {
   "cell_type": "code",
   "execution_count": 5,
   "metadata": {
    "collapsed": false
   },
   "outputs": [
    {
     "name": "stdout",
     "output_type": "stream",
     "text": [
      "Leaving outside 19 out of 239\n"
     ]
    }
   ],
   "source": [
    "#Counting how many domains instances are excluded because of strange chrom names.\n",
    "chrom_names_list = sorted_domain_data[\"chrom_num\"].tolist()\n",
    "strange_chrom_sum = 0\n",
    "for name in chrom_names_list:\n",
    "    if (name not in chromosome_names):\n",
    "        strange_chrom_sum += 1\n",
    "print \"Leaving outside \"+str(strange_chrom_sum)+\" out of \"+str(len(chrom_names_list))"
   ]
  },
  {
   "cell_type": "code",
   "execution_count": 23,
   "metadata": {
    "collapsed": false
   },
   "outputs": [],
   "source": [
    "#A function that return a dict with the MAF info for the protein position and corresponding chromosomal location\n",
    "def calc_exac_maf_data(chrom_pos_list, chrom_gene_table, indels_table, protein_pos, aa, chrom_raw_data, chrom, hmm_state):\n",
    "    \n",
    "    res_dict = {}\n",
    "    res_dict[\"chrom\"] = chrom\n",
    "    res_dict[\"chrom_pos\"] = chrom_pos_list\n",
    "    res_dict[\"prot_pos\"] = protein_pos\n",
    "    res_dict[\"aa_ref\"] = aa\n",
    "    res_dict[\"bp_ref\"] = retrieve_codon_seq(chrom_pos_list, chrom_raw_data, chrom)\n",
    "    res_dict[\"an_adj\"] = []\n",
    "    res_dict[\"filter\"] = []\n",
    "    frameshift_cnt = 0\n",
    "    errors_cnt = 0\n",
    "    filter_cnt = 0\n",
    "    inframe_ids = []\n",
    "    \n",
    "    #For error logging\n",
    "    functionNameAsString = sys._getframe().f_code.co_name\n",
    "    \n",
    "    #Coverting the HMMER 'x' chat to '*' for stop codon notion unifirmity\n",
    "    if (aa == 'X'):\n",
    "        aa = '*'\n",
    "    \n",
    "    #Validation: checking that the returned codon sequence from hg19 match the HMMER amino-acid\n",
    "    translated_aa = codon_table[(res_dict[\"bp_ref\"]).upper()]\n",
    "    if (translated_aa != aa):\n",
    "        print \"chrom_pos_list = \" +str(chrom_pos_list)+\" protein_pos = \"+str(protein_pos)+\" hmm_state = \"+str(hmm_state)\n",
    "        print functionNameAsString+\" Error: hg19 codon sequence retrieved \"+(res_dict[\"bp_ref\"]).upper()+\"=\"+translated_aa+\" doesn't match HMMER amino-acid \"+aa\n",
    "    \n",
    "    alterations_af_dict = defaultdict(list)\n",
    "    alterations_af_adj_dict = defaultdict(list)\n",
    "    \n",
    "    for i in range(len(chrom_pos_list)):\n",
    "        chrom_pos = chrom_pos_list[i]\n",
    "        alt_codon_pos = i\n",
    "            \n",
    "        #Retreiving relevant ExAC entry\n",
    "        chrom_alter_table = chrom_gene_table[chrom_gene_table[\"pos\"] == chrom_pos]\n",
    "        chrom_alter_table = chrom_alter_table.reset_index(drop=True)\n",
    "                \n",
    "        if (chrom_alter_table.shape[0] == 0):\n",
    "            #No ExAC entry for this chromosome position - not adding alteration data\n",
    "            continue\n",
    "        \n",
    "        else:\n",
    "            #In case there are several alterations for that position, iterating\n",
    "            for index, line in chrom_alter_table.iterrows():\n",
    "                chrom_alter = line\n",
    "                \n",
    "                res_dict[\"filter\"].append(chrom_alter[\"filter\"])\n",
    "                res_dict[\"an_adj\"].append(chrom_alter[\"AN_Adj\"])\n",
    "                \n",
    "                #Extracting ref and alt\n",
    "                exac_ref_bp = chrom_alter[\"ref\"]\n",
    "                exac_alt_bp = chrom_alter[\"alt\"]\n",
    "                \n",
    "                #Check if frameshift indel - skip (we assume the whole protein may not function and don't add those to the MAF count)\n",
    "                if (is_indel(exac_ref_bp, exac_alt_bp, chrom_alter) == indel_type.FRAME_SHIFT_INDEL):\n",
    "                    frameshift_cnt += 1\n",
    "                    continue\n",
    "                    \n",
    "                #Check if inframe indel - take data from the indels table later\n",
    "                elif (is_indel(exac_ref_bp, exac_alt_bp, chrom_alter) == indel_type.IN_FRAME_INDEL):\n",
    "                    indel_id = chrom_alter[\"comments\"][chrom_alter[\"comments\"].find(\"-\"):]\n",
    "                    inframe_ids.append(indel_id)\n",
    "                    continue     \n",
    "                \n",
    "                #Perform validation checks (comparing ExAC and HMMER data)\n",
    "                (exac_prot_data, exac_alt_aa, exac_alt_codon, errors) = exac_validation_checks(chrom_alter, protein_pos, aa, alt_codon_pos, chrom_pos, res_dict[\"bp_ref\"])\n",
    "                if (errors):\n",
    "                    errors_cnt += 1\n",
    "                    #Skipping if there are validation errors\n",
    "                    #continue\n",
    "\n",
    "                #Extracting ExAC allele frequency data\n",
    "                af = chrom_alter[\"AF\"]\n",
    "                an = int(chrom_alter[\"AN\"])\n",
    "                an_adj = int(chrom_alter[\"AN_Adj\"])\n",
    "                ac_adj = chrom_alter[\"AC_Adj\"]\n",
    "                \n",
    "                #Calculating the alteration relevant data\n",
    "                alt_codon = create_alt_codon(exac_ref_bp, exac_alt_bp, res_dict[\"bp_ref\"], alt_codon_pos, chrom_raw_data)\n",
    "                if (len(alt_codon) != 3):\n",
    "                    alt_aa = \"indel\"\n",
    "                    continue #TODO: handle inframe indels\n",
    "                else:\n",
    "                    alt_aa = codon_table[alt_codon.upper()]\n",
    "\n",
    "                #Validation: ExAC alt codon and aa for the first alteration match the calculated alt\n",
    "                #if (exac_prot_data and exac_alt_codon.upper() != alt_codon):\n",
    "                    #print functionNameAsString+\" \"+ str(chrom_pos)+\" Error: the ExAC alt codon \"+exac_alt_codon.upper()+\" doesn't match my alt codon calculation \"+alt_codon\n",
    "                if (exac_prot_data and exac_alt_aa != alt_aa):\n",
    "                    print functionNameAsString+\" \"+ str(chrom_pos)+\" Error: the ExAC alt aa \"+exac_alt_aa+\" doesn't match my alt aa calculation \"+alt_aa\n",
    "\n",
    "                if (alt_aa == res_dict[\"aa_ref\"]):\n",
    "                    #Not logging alteration for synonymous mutations\n",
    "                    continue\n",
    "\n",
    "                #Non-synonymous(!!!) - logging the alteration\n",
    "                else:\n",
    "                    alterations_af_dict[alt_aa].append(float(af))\n",
    "                    if (an_adj == 0):\n",
    "                        af_adj = 0\n",
    "                    else:\n",
    "                        af_adj = float(ac_adj)/float(an_adj)\n",
    "                    af_adj_format = float('{:.3e}'.format(float(af_adj)))\n",
    "                    alterations_af_adj_dict[alt_aa].append(af_adj_format)\n",
    "\n",
    "    #Calculating the overall MAF from the alteration dicts\n",
    "    res_dict[\"af\"] = 0\n",
    "    res_dict[\"af_adj\"] = 0\n",
    "    \n",
    "    for aa in alterations_af_dict.keys():\n",
    "        aa_sum = sum(alterations_af_dict[aa])\n",
    "        aa_adj_sum = sum(alterations_af_adj_dict[aa])\n",
    "        \n",
    "        #Checking if any alteration is above 0.5, and changing the ref accordingly\n",
    "        if (aa != \"indel\" and aa_sum > 0.5):\n",
    "            \n",
    "            #Adding the refrence allele to the alterations dicts\n",
    "            old_ref = res_dict[\"aa_ref\"]\n",
    "            sum_of_all_alt = sum(sum(alterations_af_dict.values(), []))\n",
    "            sum_of_all_alt_adj = sum(sum(alterations_af_adj_dict.values(), []))\n",
    "            alterations_af_dict[old_ref] = [1 - sum_of_all_alt]\n",
    "            alterations_af_adj_dict[old_ref] = [1 - sum_of_all_alt_adj]\n",
    "            \n",
    "            #Updating the aa to be the ref\n",
    "            res_dict[\"aa_ref\"] = aa\n",
    "            #Updating the alt bp to be the ref\n",
    "            exac_codons = chrom_alter[\"codons\"]\n",
    "            exac_alt_codon = exac_codons[exac_codons.find(\"/\")+1:]\n",
    "            res_dict[\"bp_ref\"] = exac_alt_codon.upper()\n",
    "            res_dict[\"af\"] =(1 - aa_sum)\n",
    "            res_dict[\"af_adj\"] = (1 - aa_adj_sum)\n",
    "            \n",
    "            #Deleting from the alterations dicts\n",
    "            del alterations_af_dict[aa]\n",
    "            del alterations_af_adj_dict[aa]\n",
    "            break\n",
    "        else:\n",
    "            res_dict[\"af\"] += aa_sum\n",
    "            res_dict[\"af_adj\"] += aa_adj_sum\n",
    "        \n",
    "        #Fix the AF format\n",
    "        res_dict[\"af\"] = float('{:.3e}'.format(float(res_dict[\"af\"])))\n",
    "        res_dict[\"af_adj\"] = float('{:.3e}'.format(float(res_dict[\"af_adj\"])))\n",
    "        \n",
    "    #Calculating the overall Jensen-Shannon Divergrence\n",
    "    #if (len(alterations_af_dict.keys()) == 0):\n",
    "        #res_dict[\"JSD\"] = 0\n",
    "        #res_dict[\"JSD_adj\"] = 0\n",
    "    #else:\n",
    "        #res_dict[\"JSD\"] = JSD(alterations_af_dict, res_dict[\"aa_ref\"], res_dict[\"af\"], hmm_state, JSD_background.MAJOR_ALLELE)\n",
    "        #res_dict[\"JSD_adj\"] = JSD(alterations_af_adj_dict, res_dict[\"aa_ref\"], res_dict[\"af_adj\"], hmm_state, JSD_background.MAJOR_ALLELE)\n",
    "    \n",
    "    res_dict[\"alterations_af_adj_dict\"] = alterations_af_adj_dict\n",
    "    \n",
    "    return (res_dict, frameshift_cnt, errors_cnt, filter_cnt)"
   ]
  },
  {
   "cell_type": "code",
   "execution_count": 6,
   "metadata": {
    "collapsed": false
   },
   "outputs": [
    {
     "name": "stdout",
     "output_type": "stream",
     "text": [
      "Starting....\n",
      "Finished protein ENSG00000116329.6\n",
      "Finished protein ENSG00000121764.7\n",
      "Finished protein ENSG00000121933.13\n",
      "Finished protein ENSG00000133019.7\n",
      "Finished protein ENSG00000163485.11\n",
      "Finished protein ENSG00000170989.8\n",
      "Finished protein ENSG00000177151.3\n",
      "Finished protein ENSG00000179546.3\n",
      "Finished protein ENSG00000188822.6\n",
      "Finished protein ENSG00000196240.2\n",
      "Finished protein ENSG00000198049.5\n",
      "Finished chromosome 1\n",
      "Finished protein ENSG00000121966.6\n",
      "Finished protein ENSG00000135914.5\n",
      "Finished protein ENSG00000171596.6\n",
      "Finished protein ENSG00000222040.3\n",
      "Finished chromosome 2\n",
      "Finished protein ENSG00000121807.5\n",
      "Finished protein ENSG00000121853.3\n",
      "Finished protein ENSG00000151577.8\n",
      "Finished protein ENSG00000160791.12\n",
      "Finished protein ENSG00000163823.3\n",
      "Finished protein ENSG00000163914.4\n",
      "Finished protein ENSG00000179097.4\n",
      "Finished protein ENSG00000179934.5\n",
      "Finished protein ENSG00000180914.6\n",
      "Finished protein ENSG00000183625.10\n",
      "Finished protein ENSG00000183813.6\n",
      "Finished protein ENSG00000196639.6\n",
      "Finished chromosome 3\n",
      "Finished protein ENSG00000056291.13\n",
      "Finished protein ENSG00000163394.5\n",
      "Finished protein ENSG00000164128.2\n",
      "Finished protein ENSG00000164129.7\n",
      "Finished protein ENSG00000168412.6\n",
      "Finished protein ENSG00000169676.4\n",
      "Finished protein ENSG00000169836.4\n",
      "Finished protein ENSG00000180245.4\n",
      "Finished protein ENSG00000184160.6\n",
      "Finished protein ENSG00000185149.5\n",
      "Finished chromosome 4\n",
      "Finished protein ENSG00000113749.5\n",
      "Finished protein ENSG00000132911.4\n",
      "Finished protein ENSG00000169252.4\n",
      "Finished protein ENSG00000170214.3\n",
      "Finished protein ENSG00000178394.3\n",
      "Finished protein ENSG00000184845.3\n",
      "Finished chromosome 5\n",
      "Finished protein ENSG00000112038.13\n",
      "Finished protein ENSG00000112218.7\n",
      "Finished protein ENSG00000118432.11\n",
      "Finished protein ENSG00000135312.4\n",
      "Finished protein ENSG00000135577.4\n",
      "Finished protein ENSG00000137252.5\n",
      "Finished protein ENSG00000146378.5\n",
      "Finished protein ENSG00000146383.7\n",
      "Finished protein ENSG00000146385.1\n",
      "Finished protein ENSG00000146399.1\n",
      "Finished protein ENSG00000152034.6\n",
      "Finished protein ENSG00000168830.6\n",
      "Finished protein ENSG00000204703.3\n",
      "chrom_pos_list = (132859609, 132859610, 132859611) protein_pos = 61 hmm_state = 19\n",
      "calc_exac_maf_data Error: hg19 codon sequence retrieved TAA=* doesn't match HMMER amino-acid X\n",
      "exac_validation_checks 132859609 Error: ExAC amino acid identity * doesn't match HMMER amino-acid X\n",
      "Finished protein ENSG00000237110.1\n",
      "Finished chromosome 6\n",
      "Finished chromosome 7\n",
      "Finished protein ENSG00000082556.6\n",
      "Finished protein ENSG00000120907.13\n",
      "Finished protein ENSG00000174417.2\n",
      "Finished protein ENSG00000183729.3\n",
      "Finished protein ENSG00000188778.3\n",
      "Finished chromosome 8\n",
      "Finished protein ENSG00000213694.3\n",
      "Finished protein ENSG00000239590.1\n",
      "Finished chromosome 9\n",
      "Finished protein ENSG00000043591.4\n",
      "Finished protein ENSG00000075073.10\n",
      "Finished protein ENSG00000119973.3\n",
      "Finished protein ENSG00000122375.7\n",
      "Finished protein ENSG00000148680.11\n",
      "Finished protein ENSG00000148734.7\n",
      "Finished protein ENSG00000150594.5\n",
      "Finished protein ENSG00000204174.2\n",
      "Finished chromosome 10\n",
      "Finished protein ENSG00000069696.6\n",
      "Finished protein ENSG00000110148.5\n",
      "Finished protein ENSG00000123901.4\n",
      "Finished protein ENSG00000134640.2\n",
      "Finished protein ENSG00000149295.9\n",
      "Finished protein ENSG00000167359.8\n",
      "Finished protein ENSG00000168539.3\n",
      "Finished protein ENSG00000176798.1\n",
      "Finished protein ENSG00000176895.8\n",
      "Finished protein ENSG00000176900.2\n",
      "Finished protein ENSG00000180720.6\n",
      "Finished protein ENSG00000181023.5\n",
      "Finished protein ENSG00000181074.3\n",
      "Finished protein ENSG00000181609.5\n",
      "Finished protein ENSG00000184478.6\n",
      "Finished protein ENSG00000184698.3\n",
      "Finished protein ENSG00000187918.3\n",
      "Finished protein ENSG00000205496.1\n",
      "Finished protein ENSG00000205497.2\n",
      "Finished protein ENSG00000255307.1\n",
      "Finished chromosome 11\n",
      "Finished protein ENSG00000139572.3\n",
      "Finished protein ENSG00000183150.3\n",
      "Finished protein ENSG00000184954.4\n",
      "Finished chromosome 12\n",
      "Finished protein ENSG00000102468.6\n",
      "Finished protein ENSG00000136160.10\n",
      "Finished chromosome 13\n",
      "Finished protein ENSG00000139874.5\n",
      "Finished protein ENSG00000176230.4\n",
      "Finished protein ENSG00000176246.1\n",
      "Finished protein ENSG00000221977.1\n",
      "Finished protein ENSG00000255804.1\n",
      "Finished chromosome 14\n",
      "Finished protein ENSG00000184984.8\n",
      "Finished chromosome 15\n",
      "Finished protein ENSG00000162009.7\n",
      "Finished chromosome 16\n",
      "Finished protein ENSG00000170425.3\n",
      "Finished protein ENSG00000180616.4\n",
      "Finished protein ENSG00000182687.3\n",
      "Finished chromosome 17\n",
      "Finished protein ENSG00000134489.6\n",
      "Finished protein ENSG00000166573.4\n",
      "Finished protein ENSG00000166603.3\n",
      "Finished protein ENSG00000176136.4\n",
      "Finished protein ENSG00000185231.4\n",
      "Finished chromosome 18\n",
      "Finished protein ENSG00000064547.9\n",
      "Finished protein ENSG00000116014.5\n",
      "Finished protein ENSG00000197405.3\n",
      "Finished chromosome 19\n",
      "Finished protein ENSG00000101180.11\n",
      "Finished protein ENSG00000125510.11\n",
      "Finished protein ENSG00000125522.3\n",
      "Finished protein ENSG00000132671.4\n",
      "Finished protein ENSG00000171873.6\n",
      "Finished chromosome 20\n",
      "Finished chromosome 21\n",
      "Finished protein ENSG00000128271.15\n",
      "Finished protein ENSG00000128285.4\n",
      "Finished protein ENSG00000183473.5\n",
      "Finished chromosome 22\n",
      "Finished protein ENSG00000102195.7\n",
      "Finished protein ENSG00000102239.4\n",
      "Finished protein ENSG00000126010.5\n",
      "Finished protein ENSG00000126895.9\n",
      "Finished protein ENSG00000147145.8\n",
      "Finished protein ENSG00000147246.5\n",
      "Finished chromosome X\n",
      "Finished chromosome Y\n"
     ]
    },
    {
     "name": "stderr",
     "output_type": "stream",
     "text": [
      "/home/anat/anaconda2/lib/python2.7/site-packages/pandas/core/frame.py:1997: UserWarning: Boolean Series key will be reindexed to match DataFrame index.\n",
      "  \"DataFrame index.\", UserWarning)\n"
     ]
    }
   ],
   "source": [
    "chrom_path = curr_dir[0]+\"/../1.parse_ExAC/parsed/\"\n",
    "chrom_filename = \"parsed_chrom\"\n",
    "states_dict = defaultdict(list)\n",
    "print \"Starting....\"\n",
    "\n",
    "#For error logging\n",
    "functionNameAsString = sys._getframe().f_code.co_name\n",
    "\n",
    "#A list of all the ens genes\n",
    "domain_ens_genes_all = []\n",
    "\n",
    "#A list to count frameshifts per gene\n",
    "domain_ens_genes_frameshifts = []\n",
    "\n",
    "#A list to count validation errors per gene\n",
    "domain_ens_genes_errors = []\n",
    "\n",
    "#A list to count ExAC filtered-out per gene\n",
    "domain_ens_genes_filter = []\n",
    "\n",
    "for chrom in chromosome_names:\n",
    "    \n",
    "    #Filtering the domain data relevant to this chromosome\n",
    "    domain_chrom_data = sorted_domain_data[sorted_domain_data[\"chrom_num\"] == chrom]\n",
    "    \n",
    "    #Loading the ExAC parsed data of this chromosome\n",
    "    fields = ['chrom', 'pos', 'ref', 'alt', \"filter\", 'AC', 'AC_Adj', 'AF', 'AN', 'AN_Adj', 'gene', 'feature', \n",
    "              'feature_type', 'conseq', 'prot_pos', 'amino_acids', 'codons', 'strand', 'ENSP', 'exon', \n",
    "              'intron', 'domains']\n",
    "    chrom_csv = pd.read_csv(chrom_path+chrom_filename+chrom+\".csv\", sep='\\t', index_col=0, usecols=fields)\n",
    "    chrom_csv = chrom_csv.sort_values(by=[\"pos\"])\n",
    "    chrom_csv = chrom_csv.reset_index(drop=True)\n",
    "    chrom_csv.fillna('', inplace=True)\n",
    "    chrom_csv[\"comments\"] = \"\"\n",
    "    \n",
    "    #Getting a list of all the relevant ensembl gene ids for this chromosome\n",
    "    domain_ens_genes = (domain_chrom_data[\"gene\"]).unique()\n",
    "    domain_ens_genes_all.extend(domain_ens_genes)\n",
    "    \n",
    "    #For each ensembl gene in the domain data - finding all the ExAC alterations\n",
    "    for ens_gene in domain_ens_genes:\n",
    "        \n",
    "        #Filtering the domain data for this gene according to the canonical protein id\n",
    "        canonic_prot = canonic_protein[ens_gene]\n",
    "        canonic_prot_t = canonic_prot[:canonic_prot.find(\".\")] #Trimming the \".#\" at the end\n",
    "        domain_gene_table = domain_chrom_data[domain_chrom_data[\"prot\"] == canonic_prot]\n",
    "        #Making sure that if two HMM-matches overlaps, the higher bit score will come first in the table\n",
    "        domain_gene_table = domain_gene_table.sort_values(by=\"BitScore\", ascending=False)\n",
    "        domain_gene_name = domain_gene_table[\"hugoSymbol\"].unique()[0]\n",
    "        if (len(domain_gene_table[\"hugoSymbol\"].unique()) > 1):\n",
    "            print functionNameAsString+\" Error: \"+ens_gene+\": more than one Hugo symbol\" #sanity check\n",
    "        \n",
    "        #Creating a table of the exons for this gene, according to the canonical protein\n",
    "        chrom_raw_data = domain_gene_table[\"chromosome\"].unique()[0] #there should be only one element here\n",
    "        if (len(domain_gene_table[\"chromosome\"].unique()) > 1):\n",
    "            print functionNameAsString+\" Error: \"+ens_gene+\": more than one chromosome raw data\" #sanity check\n",
    "        targetid = domain_gene_table[\"#TargetID\"].unique()[0]\n",
    "        exon_table = create_exon_pos_table(chrom_raw_data, targetid)\n",
    "        \n",
    "        #Filtering the chromosome data to the gene exons region\n",
    "        exons_start_pos = min(exon_table[\"start_pos\"][0],exon_table[\"start_pos\"][len(exon_table)-1]) #in case of complelemt, the minimal position could be at the last row\n",
    "        exons_end_pos = max(exon_table[\"end_pos\"][0],exon_table[\"end_pos\"][len(exon_table)-1]) #in case of complelemt, the maximal position could be at the first row\n",
    "        chrom_gene_table = chrom_csv[chrom_csv[\"pos\"] >= int(exons_start_pos)][chrom_csv[\"pos\"] <= int(exons_end_pos)][chrom_csv[\"ENSP\"] == canonic_prot_t]\n",
    "        chrom_gene_table = chrom_gene_table.reset_index(drop=True)\n",
    "        \n",
    "        #Handling indels\n",
    "        indels_table = table_editing(chrom_gene_table)\n",
    "        \n",
    "        #A counter for frameshifts inside the domain\n",
    "        protein_frameshifts_cnt = 0\n",
    "        #A counter for validation errors inside the domain\n",
    "        protein_errors_cnt = 0\n",
    "        #A counter for ExAC filter-out inside the domain\n",
    "        protein_filter_cnt = 0\n",
    "        \n",
    "        #Iterating over the amino-acids of the protein\n",
    "        prot_len = int(domain_gene_table[\"length\"].unique()[0])\n",
    "        for protein_pos in range(1,prot_len+1):\n",
    "    \n",
    "            #Trying to match HMM-state, and retreive the aa from HMMER results\n",
    "            (hmm_state, aa) = protein_pos_to_hmm_state_and_aa(protein_pos, domain_gene_table) #TODO: what happens when two matches overlap? maybe sort to the best bit score?\n",
    "                \n",
    "            #If there's a match to HMM-state: find the corresponding codon bps chromosome positions\n",
    "            if (hmm_state > 0):\n",
    "                chrom_pos_list =find_chrom_bps(protein_pos, exon_table, chrom_raw_data)\n",
    "                \n",
    "                #Analysis of the amino-acid MAF and realted data, returned in a dictionary\n",
    "                (info_dict, frameshift_cnt, errors_cnt, filter_cnt) = calc_exac_maf_data(chrom_pos_list, chrom_gene_table, indels_table, protein_pos, aa, chrom_raw_data, chrom, hmm_state)\n",
    "                info_dict[\"ens_gene\"] = ens_gene\n",
    "                \n",
    "                #Adding the dictionary to the HMM-state list\n",
    "                states_dict[hmm_state].append(info_dict)\n",
    "                \n",
    "                #Adding the frameshifts to the global counter\n",
    "                protein_frameshifts_cnt += frameshift_cnt\n",
    "                \n",
    "                #Adding the errors to the global counter\n",
    "                protein_errors_cnt += errors_cnt\n",
    "                \n",
    "                #Adding the filtered to the global counter\n",
    "                protein_filter_cnt += filter_cnt\n",
    "        \n",
    "        \n",
    "        domain_ens_genes_frameshifts.append(protein_frameshifts_cnt)\n",
    "        domain_ens_genes_errors.append(protein_errors_cnt)\n",
    "        domain_ens_genes_filter.append(protein_filter_cnt)\n",
    "        print \"Finished protein \"+ens_gene\n",
    "                                \n",
    "    print \"Finished chromosome \"+chrom\n",
    "\n",
    "!mkdir -p domains_states_dicts/pfam-v30/$domain_name\n",
    "with open(curr_dir[0]+\"/domains_states_dicts/pfam-v30/\"+domain_name+\"/\"+domain_name+\"_hmm_states_dict_\"+datetime.date.today().strftime(\"%m.%d\")+\".pik\", 'wb') as handle:\n",
    "    pickle.dump(states_dict, handle, protocol=pickle.HIGHEST_PROTOCOL)"
   ]
  },
  {
   "cell_type": "code",
   "execution_count": 9,
   "metadata": {
    "collapsed": false
   },
   "outputs": [],
   "source": []
  },
  {
   "cell_type": "code",
   "execution_count": 30,
   "metadata": {
    "collapsed": false
   },
   "outputs": [
    {
     "data": {
      "text/plain": [
       "0"
      ]
     },
     "execution_count": 30,
     "metadata": {},
     "output_type": "execute_result"
    }
   ],
   "source": [
    "sum(domain_ens_genes_errors)"
   ]
  },
  {
   "cell_type": "code",
   "execution_count": 30,
   "metadata": {
    "collapsed": false
   },
   "outputs": [
    {
     "data": {
      "text/plain": [
       "1360"
      ]
     },
     "execution_count": 30,
     "metadata": {},
     "output_type": "execute_result"
    }
   ],
   "source": [
    "sum(domain_ens_genes_frameshifts)"
   ]
  },
  {
   "cell_type": "code",
   "execution_count": 31,
   "metadata": {
    "collapsed": false
   },
   "outputs": [
    {
     "data": {
      "text/plain": [
       "5056"
      ]
     },
     "execution_count": 31,
     "metadata": {},
     "output_type": "execute_result"
    }
   ],
   "source": [
    "sum(domain_ens_genes_filter)"
   ]
  },
  {
   "cell_type": "code",
   "execution_count": 28,
   "metadata": {
    "collapsed": false
   },
   "outputs": [
    {
     "data": {
      "text/plain": [
       "5690"
      ]
     },
     "execution_count": 28,
     "metadata": {},
     "output_type": "execute_result"
    }
   ],
   "source": [
    "sum(domain_ens_genes_filter)"
   ]
  },
  {
   "cell_type": "code",
   "execution_count": 35,
   "metadata": {
    "collapsed": false
   },
   "outputs": [
    {
     "data": {
      "text/plain": [
       "68528"
      ]
     },
     "execution_count": 35,
     "metadata": {},
     "output_type": "execute_result"
    }
   ],
   "source": [
    "max(chrom_gene_table[\"AN\"])"
   ]
  },
  {
   "cell_type": "markdown",
   "metadata": {},
   "source": [
    "### Debugging code"
   ]
  },
  {
   "cell_type": "code",
   "execution_count": 20,
   "metadata": {
    "collapsed": false
   },
   "outputs": [
    {
     "name": "stdout",
     "output_type": "stream",
     "text": [
      "Starting....\n"
     ]
    }
   ],
   "source": [
    "chrom_path = curr_dir[0]+\"/../1.parse_ExAC/parsed/\"\n",
    "chrom_filename = \"parsed_chrom\"\n",
    "states_dict = defaultdict(list)\n",
    "print \"Starting....\"\n",
    "\n",
    "chrom = \"6\"\n",
    "\n",
    "#For error logging\n",
    "functionNameAsString = sys._getframe().f_code.co_name\n",
    "\n",
    "#A list of all the ens genes\n",
    "domain_ens_genes_all = []\n",
    "\n",
    "#A list to count frameshifts per gene\n",
    "domain_ens_genes_frameshifts = []\n",
    "\n",
    "#A list to count validation errors per gene\n",
    "domain_ens_genes_errors = []\n",
    "\n",
    "#A list to count ExAC filtered-out per gene\n",
    "domain_ens_genes_filter = []\n",
    "\n",
    "#Filtering the domain data relevant to this chromosome\n",
    "domain_chrom_data = sorted_domain_data[sorted_domain_data[\"chrom_num\"] == chrom]\n",
    "\n",
    "#Loading the ExAC parsed data of this chromosome\n",
    "fields = ['chrom', 'pos', 'ref', 'alt', \"filter\", 'AC', 'AC_Adj', 'AF', 'AN', 'AN_Adj', 'gene', 'feature', \n",
    "          'feature_type', 'conseq', 'prot_pos', 'amino_acids', 'codons', 'strand', 'ENSP', 'exon', \n",
    "          'intron', 'domains']\n",
    "chrom_csv = pd.read_csv(chrom_path+chrom_filename+chrom+\".csv\", sep='\\t', index_col=0, usecols=fields)\n",
    "chrom_csv = chrom_csv.sort_values(by=[\"pos\"])\n",
    "chrom_csv = chrom_csv.reset_index(drop=True)\n",
    "chrom_csv.fillna('', inplace=True)\n",
    "chrom_csv[\"comments\"] = \"\"\n",
    "\n",
    "#Getting a list of all the relevant ensembl gene ids for this chromosome\n",
    "domain_ens_genes = (domain_chrom_data[\"gene\"]).unique()"
   ]
  },
  {
   "cell_type": "code",
   "execution_count": 8,
   "metadata": {
    "collapsed": false
   },
   "outputs": [
    {
     "data": {
      "text/plain": [
       "array(['ENSG00000112038.13', 'ENSG00000112218.7', 'ENSG00000118432.11',\n",
       "       'ENSG00000135312.4', 'ENSG00000135577.4', 'ENSG00000137252.5',\n",
       "       'ENSG00000146378.5', 'ENSG00000146383.7', 'ENSG00000146385.1',\n",
       "       'ENSG00000146399.1', 'ENSG00000152034.6', 'ENSG00000168830.6',\n",
       "       'ENSG00000204703.3', 'ENSG00000237110.1'], dtype=object)"
      ]
     },
     "execution_count": 8,
     "metadata": {},
     "output_type": "execute_result"
    }
   ],
   "source": [
    "domain_ens_genes"
   ]
  },
  {
   "cell_type": "code",
   "execution_count": 21,
   "metadata": {
    "collapsed": false
   },
   "outputs": [
    {
     "name": "stdout",
     "output_type": "stream",
     "text": [
      "chrom_pos_list = (132859609, 132859610, 132859611) protein_pos = 61 hmm_state = 19\n",
      "calc_exac_maf_data Error: hg19 codon sequence retrieved TAA=* doesn't match HMMER amino-acid X\n",
      "exac_validation_checks 132859609 Error: ExAC amino acid identity * doesn't match HMMER amino-acid X\n",
      "Finished protein ENSG00000237110.1\n"
     ]
    }
   ],
   "source": [
    "ens_gene = \"ENSG00000237110.1\"\n",
    "\n",
    "#Filtering the domain data for this gene according to the canonical protein id\n",
    "canonic_prot = canonic_protein[ens_gene]\n",
    "canonic_prot_t = canonic_prot[:canonic_prot.find(\".\")] #Trimming the \".#\" at the end\n",
    "domain_gene_table = domain_chrom_data[domain_chrom_data[\"prot\"] == canonic_prot]\n",
    "#Making sure that if two HMM-matches overlaps, the higher bit score will come first in the table\n",
    "domain_gene_table = domain_gene_table.sort_values(by=\"BitScore\", ascending=False)\n",
    "domain_gene_name = domain_gene_table[\"hugoSymbol\"].unique()[0]\n",
    "if (len(domain_gene_table[\"hugoSymbol\"].unique()) > 1):\n",
    "    print functionNameAsString+\" Error: \"+ens_gene+\": more than one Hugo symbol\" #sanity check\n",
    "\n",
    "#Creating a table of the exons for this gene, according to the canonical protein\n",
    "chrom_raw_data = domain_gene_table[\"chromosome\"].unique()[0] #there should be only one element here\n",
    "if (len(domain_gene_table[\"chromosome\"].unique()) > 1):\n",
    "    print functionNameAsString+\" Error: \"+ens_gene+\": more than one chromosome raw data\" #sanity check\n",
    "targetid = domain_gene_table[\"#TargetID\"].unique()[0]\n",
    "exon_table = create_exon_pos_table(chrom_raw_data, targetid)\n",
    "\n",
    "#Filtering the chromosome data to the gene exons region\n",
    "#Filtering the chromosome data to the gene exons region\n",
    "exons_start_pos = min(exon_table[\"start_pos\"][0],exon_table[\"start_pos\"][len(exon_table)-1]) #in case of complelemt, the minimal position could be at the last row\n",
    "exons_end_pos = max(exon_table[\"end_pos\"][0],exon_table[\"end_pos\"][len(exon_table)-1]) #in case of complelemt, the maximal position could be at the first row\n",
    "chrom_gene_table = chrom_csv[chrom_csv[\"pos\"] >= int(exons_start_pos)][chrom_csv[\"pos\"] <= int(exons_end_pos)][chrom_csv[\"ENSP\"] == canonic_prot_t]\n",
    "chrom_gene_table = chrom_gene_table.reset_index(drop=True)\n",
    "\n",
    "#Handling indels\n",
    "indels_table = table_editing(chrom_gene_table)\n",
    "\n",
    "#A counter for frameshifts inside the domain\n",
    "protein_frameshifts_cnt = 0\n",
    "#A counter for validation errors inside the domain\n",
    "protein_errors_cnt = 0\n",
    "#A counter for ExAC filter-out inside the domain\n",
    "protein_filter_cnt = 0\n",
    "\n",
    "#Iterating over the amino-acids of the protein\n",
    "prot_len = int(domain_gene_table[\"length\"].unique()[0])\n",
    "for protein_pos in range(1,prot_len+1):\n",
    "\n",
    "    #Trying to match HMM-state, and retreive the aa from HMMER results\n",
    "    (hmm_state, aa) = protein_pos_to_hmm_state_and_aa(protein_pos, domain_gene_table)\n",
    "\n",
    "    #If there's a match to HMM-state: find the corresponding codon bps chromosome positions\n",
    "    if (hmm_state > 0):\n",
    "        chrom_pos_list =find_chrom_bps(protein_pos, exon_table, chrom_raw_data)\n",
    "\n",
    "        #Analysis of the amino-acid MAF and realted data, returned in a dictionary\n",
    "        (info_dict, frameshift_cnt, errors_cnt, filter_cnt) = calc_exac_maf_data(chrom_pos_list, chrom_gene_table, indels_table, protein_pos, aa, chrom_raw_data, chrom, hmm_state)\n",
    "        info_dict[\"ens_gene\"] = ens_gene\n",
    "\n",
    "        #Adding the dictionary to the HMM-state list\n",
    "        states_dict[hmm_state].append(info_dict)\n",
    "\n",
    "        #Adding the frameshifts to the global counter\n",
    "        protein_frameshifts_cnt += frameshift_cnt\n",
    "\n",
    "        #Adding the errors to the global counter\n",
    "        protein_errors_cnt += errors_cnt\n",
    "\n",
    "        #Adding the filtered to the global counter\n",
    "        protein_filter_cnt += filter_cnt\n",
    "\n",
    "domain_ens_genes_frameshifts.append(protein_frameshifts_cnt)\n",
    "domain_ens_genes_errors.append(protein_errors_cnt)\n",
    "domain_ens_genes_filter.append(protein_filter_cnt)\n",
    "print \"Finished protein \"+ens_gene"
   ]
  },
  {
   "cell_type": "code",
   "execution_count": 22,
   "metadata": {
    "collapsed": false
   },
   "outputs": [
    {
     "data": {
      "text/plain": [
       "[{'JSD': 3.2768464049097433e-06,\n",
       "  'JSD_adj': 3.266939962647083e-06,\n",
       "  'aa_ref': 'K',\n",
       "  'af': 0.245,\n",
       "  'af_adj': 0.24470000000000003,\n",
       "  'alterations_af_adj_dict': defaultdict(list, {'X': [0.24470000000000003]}),\n",
       "  'an_adj': [105448],\n",
       "  'bp_ref': 'Aaa',\n",
       "  'chrom': '6',\n",
       "  'chrom_pos': (132859609, 132859610, 132859611),\n",
       "  'ens_gene': 'ENSG00000237110.1',\n",
       "  'filter': ['PASS'],\n",
       "  'prot_pos': 61}]"
      ]
     },
     "execution_count": 22,
     "metadata": {},
     "output_type": "execute_result"
    }
   ],
   "source": [
    "states_dict[19]"
   ]
  },
  {
   "cell_type": "code",
   "execution_count": 12,
   "metadata": {
    "collapsed": false
   },
   "outputs": [
    {
     "data": {
      "text/plain": [
       "'X'"
      ]
     },
     "execution_count": 12,
     "metadata": {},
     "output_type": "execute_result"
    }
   ],
   "source": [
    "domain_gene_table[\"Target_Seq\"].tolist()[0][18]"
   ]
  },
  {
   "cell_type": "code",
   "execution_count": 24,
   "metadata": {
    "collapsed": false
   },
   "outputs": [
    {
     "data": {
      "text/plain": [
       "190    GRCh37:6:132859429..132860470\n",
       "Name: chromosome, dtype: object"
      ]
     },
     "execution_count": 24,
     "metadata": {},
     "output_type": "execute_result"
    }
   ],
   "source": [
    "domain_gene_table[\"chromosome\"]"
   ]
  },
  {
   "cell_type": "code",
   "execution_count": 10,
   "metadata": {
    "collapsed": false
   },
   "outputs": [
    {
     "data": {
      "text/html": [
       "<div>\n",
       "<table border=\"1\" class=\"dataframe\">\n",
       "  <thead>\n",
       "    <tr style=\"text-align: right;\">\n",
       "      <th></th>\n",
       "      <th>#TargetID</th>\n",
       "      <th>pfam_id</th>\n",
       "      <th>domain_name</th>\n",
       "      <th>E-value</th>\n",
       "      <th>BitScore</th>\n",
       "      <th>TargetStart</th>\n",
       "      <th>TargetEnd</th>\n",
       "      <th>HMM_Seq</th>\n",
       "      <th>Target_Seq</th>\n",
       "      <th>HMM_Pos</th>\n",
       "      <th>...</th>\n",
       "      <th>transcript</th>\n",
       "      <th>gene_biotype</th>\n",
       "      <th>transcript_biotype</th>\n",
       "      <th>hgncID</th>\n",
       "      <th>hugoSymbol</th>\n",
       "      <th>refseq</th>\n",
       "      <th>entrez</th>\n",
       "      <th>length</th>\n",
       "      <th>HMMStart</th>\n",
       "      <th>HMMEnd</th>\n",
       "    </tr>\n",
       "  </thead>\n",
       "  <tbody>\n",
       "    <tr>\n",
       "      <th>190</th>\n",
       "      <td>ENSP00000424607.1</td>\n",
       "      <td>PF10320</td>\n",
       "      <td>7TM_GPCR_Srsx</td>\n",
       "      <td>1.300000e-08</td>\n",
       "      <td>29.5</td>\n",
       "      <td>43</td>\n",
       "      <td>326</td>\n",
       "      <td>lviGliGNvllilltlkkkkLrskssiLicvlciadllclvgelvf...</td>\n",
       "      <td>AVLAAFGNLLVMIAILHFXQLHTPTNFLIASLACADFLVGVTVMPF...</td>\n",
       "      <td>1,2,3,4,5,6,7,8,9,10,11,12,13,14,15,16,17,18,1...</td>\n",
       "      <td>...</td>\n",
       "      <td>ENST00000434551.1</td>\n",
       "      <td>polymorphic_pseudogene</td>\n",
       "      <td>polymorphic_pseudogene</td>\n",
       "      <td>20977</td>\n",
       "      <td>TAAR9</td>\n",
       "      <td>NP_778227</td>\n",
       "      <td>134860</td>\n",
       "      <td>346</td>\n",
       "      <td>1</td>\n",
       "      <td>257</td>\n",
       "    </tr>\n",
       "  </tbody>\n",
       "</table>\n",
       "<p>1 rows × 25 columns</p>\n",
       "</div>"
      ],
      "text/plain": [
       "             #TargetID  pfam_id    domain_name       E-value  BitScore  \\\n",
       "190  ENSP00000424607.1  PF10320  7TM_GPCR_Srsx  1.300000e-08      29.5   \n",
       "\n",
       "     TargetStart  TargetEnd  \\\n",
       "190           43        326   \n",
       "\n",
       "                                               HMM_Seq  \\\n",
       "190  lviGliGNvllilltlkkkkLrskssiLicvlciadllclvgelvf...   \n",
       "\n",
       "                                            Target_Seq  \\\n",
       "190  AVLAAFGNLLVMIAILHFXQLHTPTNFLIASLACADFLVGVTVMPF...   \n",
       "\n",
       "                                               HMM_Pos  ...    \\\n",
       "190  1,2,3,4,5,6,7,8,9,10,11,12,13,14,15,16,17,18,1...  ...     \n",
       "\n",
       "            transcript            gene_biotype      transcript_biotype hgncID  \\\n",
       "190  ENST00000434551.1  polymorphic_pseudogene  polymorphic_pseudogene  20977   \n",
       "\n",
       "    hugoSymbol     refseq  entrez length HMMStart HMMEnd  \n",
       "190      TAAR9  NP_778227  134860    346        1    257  \n",
       "\n",
       "[1 rows x 25 columns]"
      ]
     },
     "execution_count": 10,
     "metadata": {},
     "output_type": "execute_result"
    }
   ],
   "source": [
    "domain_gene_table"
   ]
  },
  {
   "cell_type": "code",
   "execution_count": 13,
   "metadata": {
    "collapsed": false
   },
   "outputs": [
    {
     "data": {
      "text/html": [
       "<div>\n",
       "<table border=\"1\" class=\"dataframe\">\n",
       "  <thead>\n",
       "    <tr style=\"text-align: right;\">\n",
       "      <th></th>\n",
       "      <th>pos</th>\n",
       "      <th>ref</th>\n",
       "      <th>alt</th>\n",
       "      <th>filter</th>\n",
       "      <th>AC</th>\n",
       "      <th>AC_Adj</th>\n",
       "      <th>AF</th>\n",
       "      <th>AN</th>\n",
       "      <th>AN_Adj</th>\n",
       "      <th>gene</th>\n",
       "      <th>...</th>\n",
       "      <th>conseq</th>\n",
       "      <th>prot_pos</th>\n",
       "      <th>amino_acids</th>\n",
       "      <th>codons</th>\n",
       "      <th>strand</th>\n",
       "      <th>ENSP</th>\n",
       "      <th>exon</th>\n",
       "      <th>intron</th>\n",
       "      <th>domains</th>\n",
       "      <th>comments</th>\n",
       "    </tr>\n",
       "  </thead>\n",
       "  <tbody>\n",
       "    <tr>\n",
       "      <th>32</th>\n",
       "      <td>132859609</td>\n",
       "      <td>T</td>\n",
       "      <td>A</td>\n",
       "      <td>PASS</td>\n",
       "      <td>79916</td>\n",
       "      <td>79646</td>\n",
       "      <td>0.755</td>\n",
       "      <td>105892</td>\n",
       "      <td>105448</td>\n",
       "      <td>ENSG00000237110</td>\n",
       "      <td>...</td>\n",
       "      <td>stop_lost</td>\n",
       "      <td>61</td>\n",
       "      <td>*/K</td>\n",
       "      <td>Taa/Aaa</td>\n",
       "      <td>1</td>\n",
       "      <td>ENSP00000424607</td>\n",
       "      <td>1/1</td>\n",
       "      <td></td>\n",
       "      <td></td>\n",
       "      <td></td>\n",
       "    </tr>\n",
       "  </tbody>\n",
       "</table>\n",
       "<p>1 rows × 22 columns</p>\n",
       "</div>"
      ],
      "text/plain": [
       "          pos ref alt filter     AC  AC_Adj     AF      AN  AN_Adj  \\\n",
       "32  132859609   T   A   PASS  79916   79646  0.755  105892  105448   \n",
       "\n",
       "               gene   ...        conseq prot_pos amino_acids   codons strand  \\\n",
       "32  ENSG00000237110   ...     stop_lost       61         */K  Taa/Aaa      1   \n",
       "\n",
       "               ENSP exon intron domains comments  \n",
       "32  ENSP00000424607  1/1                          \n",
       "\n",
       "[1 rows x 22 columns]"
      ]
     },
     "execution_count": 13,
     "metadata": {},
     "output_type": "execute_result"
    }
   ],
   "source": [
    "chrom_gene_table[chrom_gene_table[\"pos\"] == 132859609]"
   ]
  },
  {
   "cell_type": "code",
   "execution_count": 14,
   "metadata": {
    "collapsed": false
   },
   "outputs": [
    {
     "data": {
      "text/plain": [
       "[{'JSD': 0,\n",
       "  'JSD_adj': 0,\n",
       "  'aa_ref': 'X',\n",
       "  'af': 0,\n",
       "  'af_adj': 0,\n",
       "  'alterations_af_adj_dict': defaultdict(list, {}),\n",
       "  'an_adj': [105448],\n",
       "  'bp_ref': 'TAA',\n",
       "  'chrom': '6',\n",
       "  'chrom_pos': (132859609, 132859610, 132859611),\n",
       "  'ens_gene': 'ENSG00000237110.1',\n",
       "  'filter': ['PASS'],\n",
       "  'prot_pos': 61}]"
      ]
     },
     "execution_count": 14,
     "metadata": {},
     "output_type": "execute_result"
    }
   ],
   "source": [
    "states_dict[19]"
   ]
  },
  {
   "cell_type": "code",
   "execution_count": null,
   "metadata": {
    "collapsed": true
   },
   "outputs": [],
   "source": [
    "for d in states_dict[19]:\n",
    "    if (d[\"pos\"] == \"132859609\""
   ]
  },
  {
   "cell_type": "code",
   "execution_count": 109,
   "metadata": {
    "collapsed": false
   },
   "outputs": [
    {
     "data": {
      "text/plain": [
       "(122, 'K')"
      ]
     },
     "execution_count": 109,
     "metadata": {},
     "output_type": "execute_result"
    }
   ],
   "source": [
    "protein_pos_to_hmm_state_and_aa(204, domain_gene_table)"
   ]
  },
  {
   "cell_type": "code",
   "execution_count": null,
   "metadata": {
    "collapsed": true
   },
   "outputs": [],
   "source": []
  },
  {
   "cell_type": "code",
   "execution_count": 72,
   "metadata": {
    "collapsed": false
   },
   "outputs": [],
   "source": [
    "protein_pos = 276\n",
    "row = domain_gene_table.ix[9]\n",
    "target_start = row[\"TargetStart\"]\n",
    "target_end = row[\"TargetEnd\"]\n",
    "hmm_pos = (row[\"HMM_Pos\"]).split(\",\")\n",
    "target_seq = list(row[\"Target_Seq\"])\n",
    "index_inside_match = int(protein_pos - target_start)\n",
    "orig_index = index_inside_match\n",
    "aa = (target_seq[index_inside_match]).upper()"
   ]
  },
  {
   "cell_type": "code",
   "execution_count": 75,
   "metadata": {
    "collapsed": false
   },
   "outputs": [
    {
     "data": {
      "text/plain": [
       "240"
      ]
     },
     "execution_count": 75,
     "metadata": {},
     "output_type": "execute_result"
    }
   ],
   "source": [
    "index_inside_match"
   ]
  },
  {
   "cell_type": "code",
   "execution_count": 76,
   "metadata": {
    "collapsed": true
   },
   "outputs": [],
   "source": [
    "for j in range(orig_index):\n",
    "    if (target_seq[j] == \"-\"):\n",
    "        index_inside_match += 1"
   ]
  },
  {
   "cell_type": "code",
   "execution_count": 69,
   "metadata": {
    "collapsed": false
   },
   "outputs": [
    {
     "data": {
      "text/plain": [
       "141"
      ]
     },
     "execution_count": 69,
     "metadata": {},
     "output_type": "execute_result"
    }
   ],
   "source": [
    "index_inside_match"
   ]
  },
  {
   "cell_type": "code",
   "execution_count": 58,
   "metadata": {
    "collapsed": false
   },
   "outputs": [
    {
     "data": {
      "text/plain": [
       "'vllyGppGtGKTllakavakel......gvefleisgsellsk......................yvgesekkirelfkeakeka....kpsilfiDEidalaksrsgseseeeervvnqLlteldgvkkkeskvivigatnrpdkldpallrgRfdrkieiel'"
      ]
     },
     "execution_count": 58,
     "metadata": {},
     "output_type": "execute_result"
    }
   ],
   "source": [
    "HMM_Seq"
   ]
  },
  {
   "cell_type": "code",
   "execution_count": 94,
   "metadata": {
    "collapsed": false
   },
   "outputs": [],
   "source": [
    "#Get deletions indices\n",
    "indices = [i for i, x in enumerate(target_seq) if x == \"-\"]\n",
    "\n",
    "target_seq_no_del = [i for j, i in enumerate(target_seq) if j not in indices]\n",
    "hmm_pos_no_del = [i for j, i in enumerate(hmm_pos) if j not in indices]"
   ]
  },
  {
   "cell_type": "code",
   "execution_count": 105,
   "metadata": {
    "collapsed": false
   },
   "outputs": [
    {
     "data": {
      "text/plain": [
       "'122'"
      ]
     },
     "execution_count": 105,
     "metadata": {},
     "output_type": "execute_result"
    }
   ],
   "source": [
    "hmm_pos_no_del[141]"
   ]
  },
  {
   "cell_type": "code",
   "execution_count": 86,
   "metadata": {
    "collapsed": false
   },
   "outputs": [],
   "source": [
    "target_seq_no_del = remove_values_from_list(target_seq, \"-\")"
   ]
  },
  {
   "cell_type": "code",
   "execution_count": 88,
   "metadata": {
    "collapsed": false
   },
   "outputs": [
    {
     "data": {
      "text/plain": [
       "'K'"
      ]
     },
     "execution_count": 88,
     "metadata": {},
     "output_type": "execute_result"
    }
   ],
   "source": [
    "target_seq_no_del[141]"
   ]
  },
  {
   "cell_type": "code",
   "execution_count": 90,
   "metadata": {
    "collapsed": false
   },
   "outputs": [],
   "source": [
    "indices = [i for i, x in enumerate(target_seq) if x == \"-\"]"
   ]
  },
  {
   "cell_type": "code",
   "execution_count": 91,
   "metadata": {
    "collapsed": false
   },
   "outputs": [
    {
     "data": {
      "text/plain": [
       "[106, 107, 108, 109, 110, 111, 112, 113, 114, 115, 145, 152]"
      ]
     },
     "execution_count": 91,
     "metadata": {},
     "output_type": "execute_result"
    }
   ],
   "source": [
    "indices"
   ]
  },
  {
   "cell_type": "code",
   "execution_count": 21,
   "metadata": {
    "collapsed": true
   },
   "outputs": [],
   "source": [
    "def is_number(s):\n",
    "    \"\"\"\n",
    "    Boolean function - determine if a given text can be converted to a number\n",
    "    \"\"\"\n",
    "    try:\n",
    "        float(s)\n",
    "        return True\n",
    "    except ValueError:\n",
    "        return False\n"
   ]
  },
  {
   "cell_type": "code",
   "execution_count": 107,
   "metadata": {
    "collapsed": true
   },
   "outputs": [],
   "source": [
    "def protein_pos_to_hmm_state_and_aa(protein_pos, domain_gene_table):\n",
    "    \"\"\"\n",
    "    A function that return the hmm state of that protein position, and the amino acid.\n",
    "    return -1 for positions outside of domains regions, -2 for matching insertion\n",
    "    #TODO: do we need also transcript id? do we want to consider more than 1 transcript per gene?\n",
    "    \"\"\"\n",
    "    for index, row in domain_gene_table.iterrows():\n",
    "        target_start = row[\"TargetStart\"]\n",
    "        target_end = row[\"TargetEnd\"]\n",
    "        aa = \"-\"\n",
    "        \n",
    "        #Check if the position is inside this domain instance of the gene\n",
    "        if (protein_pos >= target_start and protein_pos <= target_end):\n",
    "            \n",
    "            hmm_pos = (row[\"HMM_Pos\"]).split(\",\")\n",
    "            target_seq = list(row[\"Target_Seq\"])\n",
    "            index_inside_match = int(protein_pos - target_start)\n",
    "            \n",
    "            #Get deletions indices\n",
    "            indices = [i for i, x in enumerate(target_seq) if x == \"-\"]\n",
    "            \n",
    "            #Remove deletions from bith lists\n",
    "            target_seq_no_del = [i for j, i in enumerate(target_seq) if j not in indices]\n",
    "            hmm_pos_no_del = [i for j, i in enumerate(hmm_pos) if j not in indices]\n",
    "            \n",
    "            #Get the aa\n",
    "            aa = (target_seq_no_del[index_inside_match]).upper()\n",
    "            \n",
    "            #Find the HMM match state\n",
    "            hmm_state_text = hmm_pos_no_del[index_inside_match]\n",
    "            if (is_number(hmm_state_text) == True):\n",
    "                hmm_state = int(hmm_state_text)\n",
    "            else:\n",
    "                #the position match insertion\n",
    "                hmm_state = -2\n",
    "            \n",
    "            #Returning hmm_state and aa for match inside a domain's regions\n",
    "            return(hmm_state, aa)\n",
    "            \n",
    "    #The protein position isn't in any domain region        \n",
    "    return (-1,'-')"
   ]
  },
  {
   "cell_type": "code",
   "execution_count": null,
   "metadata": {
    "collapsed": true
   },
   "outputs": [],
   "source": [
    "def protein_pos_to_hmm_state_and_aa(protein_pos, domain_gene_table):\n",
    "    \"\"\"\n",
    "    A function that return the hmm state of that protein position, and the amino acid.\n",
    "    return -1 for positions outside of domains regions, -2 for matching insertion\n",
    "    #TODO: do we need also transcript id? do we want to consider more than 1 transcript per gene?\n",
    "    \"\"\"\n",
    "    for index, row in domain_gene_table.iterrows():\n",
    "        target_start = row[\"TargetStart\"]\n",
    "        target_end = row[\"TargetEnd\"]\n",
    "        aa = \"-\"\n",
    "        \n",
    "        #Check if the position is inside this domain instance of the gene\n",
    "        if (protein_pos >= target_start and protein_pos <= target_end):\n",
    "            \n",
    "            hmm_pos = (row[\"HMM_Pos\"]).split(\",\")\n",
    "            target_seq = list(row[\"Target_Seq\"])\n",
    "            index_inside_match = int(protein_pos - target_start)\n",
    "            \n",
    "            #Get deletions indices\n",
    "            indices = [i for i, x in enumerate(target_seq) if x == \"-\"]\n",
    "            \n",
    "            #Remove deletions from bith lists\n",
    "            target_seq_no_del = [i for j, i in enumerate(target_seq) if j not in indices]\n",
    "            hmm_pos_no_del = [i for j, i in enumerate(hmm_pos) if j not in indices]\n",
    "            \n",
    "            #Find the HMM match state\n",
    "            hmm_state_text = hmm_pos[index_inside_match]\n",
    "            if (is_number(hmm_state_text) == True):\n",
    "                hmm_state = int(hmm_state_text)\n",
    "            else:\n",
    "                #the position match insertion\n",
    "                hmm_state = -2\n",
    "            \n",
    "            #Returning hmm_state and aa for match inside a domain's regions\n",
    "            return(hmm_state, aa)\n",
    "            \n",
    "            orig_index = index_inside_match\n",
    "            \n",
    "            #If original index is inside a deletion, advance index to the end of the deletion.\n",
    "            aa = (target_seq[index_inside_match]).upper()\n",
    "            while (aa == \"-\"):\n",
    "                index_inside_match += 1\n",
    "                aa = (target_seq[index_inside_match]).upper()\n",
    "\n",
    "            #Correct index_inside_match for previous deletions '-' inside the HMM alignment\n",
    "            prev_del_move = 0\n",
    "            for j in range(orig_index):\n",
    "                if (target_seq[j] == \"-\"):\n",
    "                    index_inside_match += 1\n",
    "                    prev_del_move += 1\n",
    "            \n",
    "            #Check \"previous deletions\" added while correcting counter\n",
    "            corr_del = 0\n",
    "            for j in range(index_inside_match-prev_del_move, index_inside_match):\n",
    "                if (target_seq[j] == \"-\"):\n",
    "                    corr_del += 1\n",
    "                    \n",
    "            #If corrected counter led to a new deletion, advance counter to the end of the new deletion\n",
    "            aa = (target_seq[index_inside_match]).upper()\n",
    "            while (aa == \"-\"):\n",
    "                aa = (target_seq[index_inside_match]).upper()\n",
    "                index_inside_match += 1\n",
    "            \n",
    "            #Update in case previous deletions were added for corrected index\n",
    "            if (corr_del > 0):\n",
    "                index_inside_match += corr_del\n",
    "                aa = (target_seq[index_inside_match]).upper()\n",
    "                while (aa == \"-\"):\n",
    "                    index_inside_match += 1\n",
    "                    aa = (target_seq[index_inside_match]).upper()\n",
    "            \n",
    "            #Find the HMM match state\n",
    "            hmm_state_text = hmm_pos[index_inside_match]\n",
    "            if (is_number(hmm_state_text) == True):\n",
    "                hmm_state = int(hmm_state_text)\n",
    "            else:\n",
    "                #the position match insertion\n",
    "                hmm_state = -2\n",
    "            \n",
    "            #Returning hmm_state and aa for match inside a domain's regions\n",
    "            return(hmm_state, aa)\n",
    "            \n",
    "    #The protein position isn't in any domain region        \n",
    "    return (-1,'-')"
   ]
  },
  {
   "cell_type": "code",
   "execution_count": null,
   "metadata": {
    "collapsed": true
   },
   "outputs": [],
   "source": [
    "###from the .py file\n",
    "def protein_pos_to_hmm_state_and_aa(protein_pos, domain_gene_table):\n",
    "    \"\"\"\n",
    "    A function that return the hmm state of that protein position, and the amino acid.\n",
    "    return -1 for positions outside of domains regions, -2 for matching insertion\n",
    "    #TODO: do we need also transcript id? do we want to consider more than 1 transcript per gene?\n",
    "    \"\"\"\n",
    "    for index, row in domain_gene_table.iterrows():\n",
    "        target_start = row[\"TargetStart\"]\n",
    "        target_end = row[\"TargetEnd\"]\n",
    "        aa = \"-\"\n",
    "        \n",
    "        #Check if the position is inside this domain instance of the gene\n",
    "        if (protein_pos >= target_start and protein_pos <= target_end):\n",
    "            \n",
    "            hmm_pos = (row[\"HMM_Pos\"]).split(\",\")\n",
    "            target_seq = list(row[\"Target_Seq\"])\n",
    "            index_inside_match = int(protein_pos - target_start)\n",
    "            orig_index = index_inside_match\n",
    "            \n",
    "            #If original index is inside a deletion, advance index to the end of the deletion.\n",
    "            while (aa == \"-\"):\n",
    "                aa = (target_seq[index_inside_match]).upper()\n",
    "                if (aa == \"-\"):\n",
    "                    index_inside_match += 1\n",
    "\n",
    "            #Correct index_inside_match for previous deletions '-' inside the HMM alignment\n",
    "            prev_del_move = 0\n",
    "            for j in range(orig_index):\n",
    "                if (target_seq[j] == \"-\"):\n",
    "                    index_inside_match += 1\n",
    "                    prev_del_move += 1\n",
    "                    \n",
    "            #Reading aa again in case index has changed\n",
    "            aa = (target_seq[index_inside_match]).upper()\n",
    "            \n",
    "            #Check previous deletions added while correcting counter\n",
    "            corr_del = 0\n",
    "            for j in range(index_inside_match-prev_del_move, index_inside_match):\n",
    "                if (target_seq[j] == \"-\"):\n",
    "                    corr_del += 1\n",
    "            \n",
    "            #If corrected counter led to a new deletion, advance counter to the end of the new deletion\n",
    "            while (aa == \"-\"):\n",
    "                aa = (target_seq[index_inside_match]).upper()\n",
    "                if (aa == \"-\"):\n",
    "                    index_inside_match += 1\n",
    "            \n",
    "            #Update in case previous deletions were added for corrected index\n",
    "            if (corr_del > 0):\n",
    "                index_inside_match += corr_del\n",
    "                aa = (target_seq[index_inside_match]).upper()\n",
    "            \n",
    "            #Find the HMM match state\n",
    "            hmm_state_text = hmm_pos[index_inside_match]\n",
    "            if (is_number(hmm_state_text) == True):\n",
    "                hmm_state = int(hmm_state_text)\n",
    "            else:\n",
    "                #the position match insertion\n",
    "                hmm_state = -2\n",
    "            \n",
    "            #Returning hmm_state and aa for match inside a domain's regions\n",
    "            return(hmm_state, aa)\n",
    "            \n",
    "    #The protein position isn't in any domain region        \n",
    "    return (-1,'-')"
   ]
  }
 ],
 "metadata": {
  "kernelspec": {
   "display_name": "Python 2",
   "language": "python",
   "name": "python2"
  },
  "language_info": {
   "codemirror_mode": {
    "name": "ipython",
    "version": 2
   },
   "file_extension": ".py",
   "mimetype": "text/x-python",
   "name": "python",
   "nbconvert_exporter": "python",
   "pygments_lexer": "ipython2",
   "version": "2.7.12"
  }
 },
 "nbformat": 4,
 "nbformat_minor": 0
}
