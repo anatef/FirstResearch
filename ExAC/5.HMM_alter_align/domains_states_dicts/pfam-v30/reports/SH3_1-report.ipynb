{
 "metadata": {
  "kernelspec": {
   "display_name": "Python 2",
   "language": "python",
   "name": "python2"
  },
  "language_info": {
   "codemirror_mode": {
    "name": "ipython",
    "version": 2
   },
   "file_extension": ".py",
   "mimetype": "text/x-python",
   "name": "python",
   "nbconvert_exporter": "python",
   "pygments_lexer": "ipython2",
   "version": "2.7.12"
  },
  "name": ""
 },
 "nbformat": 3,
 "nbformat_minor": 0,
 "worksheets": [
  {
   "cells": [
    {
     "cell_type": "code",
     "collapsed": false,
     "input": [
      "import pandas as pd\n",
      "import numpy as np\n",
      "import math\n",
      "from collections import defaultdict\n",
      "import matplotlib.pyplot as plt\n",
      "from os import environ\n",
      "import pickle\n",
      "import fileinput\n",
      "import sys\n",
      "import datetime\n",
      "from mapping_func import create_exon_pos_table, find_chrom_bps, protein_pos_to_hmm_state_and_aa\n",
      "from calc_exac_freq_func import create_alt_codon, exac_validation_checks, retrieve_codon_seq, codon_table\n",
      "from indels_func import is_indel, table_editing, indel_type\n",
      "from entropy_func import JSD_background, JSD, SE\n",
      "from IPython.core.display import HTML\n",
      "HTML(\"<style>.container { width:100% !important; }</style>\")"
     ],
     "language": "python",
     "metadata": {},
     "outputs": [
      {
       "html": [
        "<style>.container { width:100% !important; }</style>"
       ],
       "output_type": "pyout",
       "prompt_number": 1,
       "text": [
        "<IPython.core.display.HTML object>"
       ]
      }
     ],
     "prompt_number": 1
    },
    {
     "cell_type": "code",
     "collapsed": false,
     "input": [
      "#Getting path\n",
      "curr_dir = !pwd\n",
      "\n",
      "#Reading the list of filtered domains\n",
      "with open(curr_dir[0]+\"/../5.domains_stats/filtered100_list.pik\", 'rb') as handle:\n",
      "    filtered_domains_list = pickle.load(handle)\n",
      "filtered_domains_list.sort()\n",
      "\n",
      "#Getting the domain index as environment variable called \"idx\"\n",
      "try:\n",
      "    domain_index = int(environ['idx'])\n",
      "except:\n",
      "    domain_index = 0\n",
      "domain_name = filtered_domains_list[domain_index]"
     ],
     "language": "python",
     "metadata": {},
     "outputs": [],
     "prompt_number": 2
    },
    {
     "cell_type": "code",
     "collapsed": false,
     "input": [
      "filtered_domains_list[28]"
     ],
     "language": "python",
     "metadata": {},
     "outputs": [
      {
       "output_type": "pyout",
       "prompt_number": 3,
       "text": [
        "'Homeobox'"
       ]
      }
     ],
     "prompt_number": 3
    },
    {
     "cell_type": "code",
     "collapsed": false,
     "input": [
      "in_path = curr_dir[0]+\"/../3.parse_HMMER/hmm_domains/pfam-v30/\"\n",
      "filename = domain_name+\".csv\"\n",
      "domain_data = pd.read_csv(in_path+filename, sep='\\t', index_col=0, dtype={\"chrom_num\": str})\n",
      "#Sort the zinc finger data\n",
      "sorted_domain_data = domain_data.sort_values(by=[\"chrom_num\", \"gene\", \"TargetStart\"])\n",
      "sorted_domain_data = sorted_domain_data.reset_index(drop=True)\n",
      "\n",
      "#Get the canonic protein id for Zinc domain\n",
      "with open(curr_dir[0]+\"/../4.parse_Uniprot/domains_canonic_prot/pfam-v30/\"+domain_name+\"_canonic_prot.pik\", 'rb') as handle:\n",
      "    canonic_protein = pickle.load(handle)\n",
      "    \n",
      "#Get the filtered table of domains\n",
      "    \n",
      "chromosome_names = [\"1\", \"2\", \"3\", \"4\", \"5\", \"6\", \"7\", \"8\", \"9\", \"10\", \"11\", \"12\", \"13\", \"14\", \"15\", \"16\", \"17\", \"18\", \"19\", \"20\", \"21\", \"22\", \"X\", \"Y\"]"
     ],
     "language": "python",
     "metadata": {},
     "outputs": [],
     "prompt_number": 4
    },
    {
     "cell_type": "code",
     "collapsed": false,
     "input": [
      "#Counting how many domains instances are excluded because of strange chrom names.\n",
      "chrom_names_list = sorted_domain_data[\"chrom_num\"].tolist()\n",
      "strange_chrom_sum = 0\n",
      "for name in chrom_names_list:\n",
      "    if (name not in chromosome_names):\n",
      "        strange_chrom_sum += 1\n",
      "print \"Leaving outside \"+str(strange_chrom_sum)+\" out of \"+str(len(chrom_names_list))"
     ],
     "language": "python",
     "metadata": {},
     "outputs": [
      {
       "output_type": "stream",
       "stream": "stdout",
       "text": [
        "Leaving outside 22 out of 877\n"
       ]
      }
     ],
     "prompt_number": 5
    },
    {
     "cell_type": "code",
     "collapsed": false,
     "input": [
      "#A function that return a dict with the MAF info for the protein position and corresponding chromosomal location\n",
      "def calc_exac_maf_data(chrom_pos_list, chrom_gene_table, indels_table, protein_pos, aa, chrom_raw_data, chrom, hmm_state):\n",
      "    \n",
      "    res_dict = {}\n",
      "    res_dict[\"chrom\"] = chrom\n",
      "    res_dict[\"chrom_pos\"] = chrom_pos_list\n",
      "    res_dict[\"prot_pos\"] = protein_pos\n",
      "    res_dict[\"aa_ref\"] = aa\n",
      "    res_dict[\"bp_ref\"] = retrieve_codon_seq(chrom_pos_list, chrom_raw_data, chrom)\n",
      "    res_dict[\"an_adj\"] = []\n",
      "    res_dict[\"filter\"] = []\n",
      "    frameshift_cnt = 0\n",
      "    errors_cnt = 0\n",
      "    filter_cnt = 0\n",
      "    inframe_ids = []\n",
      "    \n",
      "    #For error logging\n",
      "    functionNameAsString = sys._getframe().f_code.co_name\n",
      "    \n",
      "    #Coverting the HMMER 'x' chat to '*' for stop codon notion unifirmity\n",
      "    if (aa == 'X'):\n",
      "        aa = '*'\n",
      "    \n",
      "    #Validation: checking that the returned codon sequence from hg19 match the HMMER amino-acid\n",
      "    translated_aa = codon_table[(res_dict[\"bp_ref\"]).upper()]\n",
      "    if (translated_aa != aa):\n",
      "        print \"chrom_pos_list = \" +str(chrom_pos_list)+\" protein_pos = \"+str(protein_pos)+\" hmm_state = \"+str(hmm_state)\n",
      "        print functionNameAsString+\" Error: hg19 codon sequence retrieved \"+(res_dict[\"bp_ref\"]).upper()+\"=\"+translated_aa+\" doesn't match HMMER amino-acid \"+aa\n",
      "    \n",
      "    alterations_af_dict = defaultdict(list)\n",
      "    alterations_af_adj_dict = defaultdict(list)\n",
      "    \n",
      "    for i in range(len(chrom_pos_list)):\n",
      "        chrom_pos = chrom_pos_list[i]\n",
      "        alt_codon_pos = i\n",
      "            \n",
      "        #Retreiving relevant ExAC entry\n",
      "        chrom_alter_table = chrom_gene_table[chrom_gene_table[\"pos\"] == chrom_pos]\n",
      "        chrom_alter_table = chrom_alter_table.reset_index(drop=True)\n",
      "                \n",
      "        if (chrom_alter_table.shape[0] == 0):\n",
      "            #No ExAC entry for this chromosome position - not adding alteration data\n",
      "            continue\n",
      "        \n",
      "        else:\n",
      "            #In case there are several alterations for that position, iterating\n",
      "            for index, line in chrom_alter_table.iterrows():\n",
      "                chrom_alter = line\n",
      "                \n",
      "                res_dict[\"filter\"].append(chrom_alter[\"filter\"])\n",
      "                res_dict[\"an_adj\"].append(chrom_alter[\"AN_Adj\"])\n",
      "                \n",
      "                #Extracting ref and alt\n",
      "                exac_ref_bp = chrom_alter[\"ref\"]\n",
      "                exac_alt_bp = chrom_alter[\"alt\"]\n",
      "                \n",
      "                #Check if frameshift indel - skip (we assume the whole protein may not function and don't add those to the MAF count)\n",
      "                if (is_indel(exac_ref_bp, exac_alt_bp, chrom_alter) == indel_type.FRAME_SHIFT_INDEL):\n",
      "                    frameshift_cnt += 1\n",
      "                    continue\n",
      "                    \n",
      "                #Check if inframe indel - take data from the indels table later\n",
      "                elif (is_indel(exac_ref_bp, exac_alt_bp, chrom_alter) == indel_type.IN_FRAME_INDEL):\n",
      "                    indel_id = chrom_alter[\"comments\"][chrom_alter[\"comments\"].find(\"-\"):]\n",
      "                    inframe_ids.append(indel_id)\n",
      "                    continue     \n",
      "                \n",
      "                #Perform validation checks (comparing ExAC and HMMER data)\n",
      "                (exac_prot_data, exac_alt_aa, exac_alt_codon, errors) = exac_validation_checks(chrom_alter, protein_pos, aa, alt_codon_pos, chrom_pos, res_dict[\"bp_ref\"])\n",
      "                if (errors):\n",
      "                    errors_cnt += 1\n",
      "                    #Skipping if there are validation errors\n",
      "                    #continue\n",
      "\n",
      "                #Extracting ExAC allele frequency data\n",
      "                af = chrom_alter[\"AF\"]\n",
      "                an = int(chrom_alter[\"AN\"])\n",
      "                an_adj = int(chrom_alter[\"AN_Adj\"])\n",
      "                ac_adj = chrom_alter[\"AC_Adj\"]\n",
      "                \n",
      "                #Calculating the alteration relevant data\n",
      "                alt_codon = create_alt_codon(exac_ref_bp, exac_alt_bp, res_dict[\"bp_ref\"], alt_codon_pos, chrom_raw_data)\n",
      "                if (len(alt_codon) != 3):\n",
      "                    alt_aa = \"indel\"\n",
      "                    continue #TODO: handle inframe indels\n",
      "                else:\n",
      "                    alt_aa = codon_table[alt_codon.upper()]\n",
      "\n",
      "                #Validation: ExAC alt codon and aa for the first alteration match the calculated alt\n",
      "                #if (exac_prot_data and exac_alt_codon.upper() != alt_codon):\n",
      "                    #print functionNameAsString+\" \"+ str(chrom_pos)+\" Error: the ExAC alt codon \"+exac_alt_codon.upper()+\" doesn't match my alt codon calculation \"+alt_codon\n",
      "                if (exac_prot_data and exac_alt_aa != alt_aa):\n",
      "                    print functionNameAsString+\" \"+ str(chrom_pos)+\" Error: the ExAC alt aa \"+exac_alt_aa+\" doesn't match my alt aa calculation \"+alt_aa\n",
      "\n",
      "                if (alt_aa == res_dict[\"aa_ref\"]):\n",
      "                    #Not logging alteration for synonymous mutations\n",
      "                    continue\n",
      "\n",
      "                #Non-synonymous(!!!) - logging the alteration\n",
      "                else:\n",
      "                    alterations_af_dict[alt_aa].append(float(af))\n",
      "                    if (an_adj == 0):\n",
      "                        af_adj = 0\n",
      "                    else:\n",
      "                        af_adj = float(ac_adj)/float(an_adj)\n",
      "                    af_adj_format = float('{:.3e}'.format(float(af_adj)))\n",
      "                    alterations_af_adj_dict[alt_aa].append(af_adj_format)\n",
      "\n",
      "    #Calculating the overall MAF from the alteration dicts\n",
      "    res_dict[\"af\"] = 0\n",
      "    res_dict[\"af_adj\"] = 0\n",
      "    \n",
      "    for aa in alterations_af_dict.keys():\n",
      "        aa_sum = sum(alterations_af_dict[aa])\n",
      "        aa_adj_sum = sum(alterations_af_adj_dict[aa])\n",
      "        \n",
      "        #Checking if any alteration is above 0.5, and changing the ref accordingly\n",
      "        if (aa != \"indel\" and aa_sum > 0.5):\n",
      "            \n",
      "            #Adding the refrence allele to the alterations dicts\n",
      "            old_ref = res_dict[\"aa_ref\"]\n",
      "            sum_of_all_alt = sum(sum(alterations_af_dict.values(), []))\n",
      "            sum_of_all_alt_adj = sum(sum(alterations_af_adj_dict.values(), []))\n",
      "            alterations_af_dict[old_ref] = [1 - sum_of_all_alt]\n",
      "            alterations_af_adj_dict[old_ref] = [1 - sum_of_all_alt_adj]\n",
      "            \n",
      "            #Updating the aa to be the ref\n",
      "            res_dict[\"aa_ref\"] = aa\n",
      "            #Updating the alt bp to be the ref\n",
      "            exac_codons = chrom_alter[\"codons\"]\n",
      "            exac_alt_codon = exac_codons[exac_codons.find(\"/\")+1:]\n",
      "            res_dict[\"bp_ref\"] = exac_alt_codon.upper()\n",
      "            res_dict[\"af\"] =(1 - aa_sum)\n",
      "            res_dict[\"af_adj\"] = (1 - aa_adj_sum)\n",
      "            \n",
      "            #Deleting from the alterations dicts\n",
      "            del alterations_af_dict[aa]\n",
      "            del alterations_af_adj_dict[aa]\n",
      "            break\n",
      "        else:\n",
      "            res_dict[\"af\"] += aa_sum\n",
      "            res_dict[\"af_adj\"] += aa_adj_sum\n",
      "        \n",
      "        #Fix the AF format\n",
      "        res_dict[\"af\"] = float('{:.3e}'.format(float(res_dict[\"af\"])))\n",
      "        res_dict[\"af_adj\"] = float('{:.3e}'.format(float(res_dict[\"af_adj\"])))\n",
      "        \n",
      "    #Calculating the overall Jensen-Shannon Divergrence\n",
      "    #if (len(alterations_af_dict.keys()) == 0):\n",
      "        #res_dict[\"JSD\"] = 0\n",
      "        #res_dict[\"JSD_adj\"] = 0\n",
      "    #else:\n",
      "        #res_dict[\"JSD\"] = JSD(alterations_af_dict, res_dict[\"aa_ref\"], res_dict[\"af\"], hmm_state, JSD_background.MAJOR_ALLELE)\n",
      "        #res_dict[\"JSD_adj\"] = JSD(alterations_af_adj_dict, res_dict[\"aa_ref\"], res_dict[\"af_adj\"], hmm_state, JSD_background.MAJOR_ALLELE)\n",
      "    \n",
      "    res_dict[\"alterations_af_adj_dict\"] = alterations_af_adj_dict\n",
      "    \n",
      "    return (res_dict, frameshift_cnt, errors_cnt, filter_cnt)"
     ],
     "language": "python",
     "metadata": {},
     "outputs": [],
     "prompt_number": 6
    },
    {
     "cell_type": "code",
     "collapsed": false,
     "input": [
      "chrom_path = curr_dir[0]+\"/../1.parse_ExAC/parsed/\"\n",
      "chrom_filename = \"parsed_chrom\"\n",
      "states_dict = defaultdict(list)\n",
      "print \"Starting....\"\n",
      "\n",
      "#For error logging\n",
      "functionNameAsString = sys._getframe().f_code.co_name\n",
      "\n",
      "#A list of all the ens genes\n",
      "domain_ens_genes_all = []\n",
      "\n",
      "#A list to count frameshifts per gene\n",
      "domain_ens_genes_frameshifts = []\n",
      "\n",
      "#A list to count validation errors per gene\n",
      "domain_ens_genes_errors = []\n",
      "\n",
      "#A list to count ExAC filtered-out per gene\n",
      "domain_ens_genes_filter = []\n",
      "\n",
      "for chrom in chromosome_names:\n",
      "    \n",
      "    #Filtering the domain data relevant to this chromosome\n",
      "    domain_chrom_data = sorted_domain_data[sorted_domain_data[\"chrom_num\"] == chrom]\n",
      "    \n",
      "    #Loading the ExAC parsed data of this chromosome\n",
      "    fields = ['chrom', 'pos', 'ref', 'alt', \"filter\", 'AC', 'AC_Adj', 'AF', 'AN', 'AN_Adj', 'gene', 'feature', \n",
      "              'feature_type', 'conseq', 'prot_pos', 'amino_acids', 'codons', 'strand', 'ENSP', 'exon', \n",
      "              'intron', 'domains']\n",
      "    chrom_csv = pd.read_csv(chrom_path+chrom_filename+chrom+\".csv\", sep='\\t', index_col=0, usecols=fields)\n",
      "    chrom_csv = chrom_csv.sort_values(by=[\"pos\"])\n",
      "    chrom_csv = chrom_csv.reset_index(drop=True)\n",
      "    chrom_csv.fillna('', inplace=True)\n",
      "    chrom_csv[\"comments\"] = \"\"\n",
      "    \n",
      "    #Getting a list of all the relevant ensembl gene ids for this chromosome\n",
      "    domain_ens_genes = (domain_chrom_data[\"gene\"]).unique()\n",
      "    domain_ens_genes_all.extend(domain_ens_genes)\n",
      "    \n",
      "    #For each ensembl gene in the domain data - finding all the ExAC alterations\n",
      "    for ens_gene in domain_ens_genes:\n",
      "        \n",
      "        #Filtering the domain data for this gene according to the canonical protein id\n",
      "        canonic_prot = canonic_protein[ens_gene]\n",
      "        canonic_prot_t = canonic_prot[:canonic_prot.find(\".\")] #Trimming the \".#\" at the end\n",
      "        domain_gene_table = domain_chrom_data[domain_chrom_data[\"prot\"] == canonic_prot]\n",
      "        #Making sure that if two HMM-matches overlaps, the higher bit score will come first in the table\n",
      "        domain_gene_table = domain_gene_table.sort_values(by=\"BitScore\", ascending=False)\n",
      "        domain_gene_name = domain_gene_table[\"hugoSymbol\"].unique()[0]\n",
      "        if (len(domain_gene_table[\"hugoSymbol\"].unique()) > 1):\n",
      "            print functionNameAsString+\" Error: \"+ens_gene+\": more than one Hugo symbol\" #sanity check\n",
      "        \n",
      "        #Creating a table of the exons for this gene, according to the canonical protein\n",
      "        chrom_raw_data = domain_gene_table[\"chromosome\"].unique()[0] #there should be only one element here\n",
      "        if (len(domain_gene_table[\"chromosome\"].unique()) > 1):\n",
      "            print functionNameAsString+\" Error: \"+ens_gene+\": more than one chromosome raw data\" #sanity check\n",
      "        targetid = domain_gene_table[\"#TargetID\"].unique()[0]\n",
      "        exon_table = create_exon_pos_table(chrom_raw_data, targetid)\n",
      "        \n",
      "        #Filtering the chromosome data to the gene exons region\n",
      "        exons_start_pos = min(exon_table[\"start_pos\"][0],exon_table[\"start_pos\"][len(exon_table)-1]) #in case of complelemt, the minimal position could be at the last row\n",
      "        exons_end_pos = max(exon_table[\"end_pos\"][0],exon_table[\"end_pos\"][len(exon_table)-1]) #in case of complelemt, the maximal position could be at the first row\n",
      "        chrom_gene_table = chrom_csv[chrom_csv[\"pos\"] >= int(exons_start_pos)][chrom_csv[\"pos\"] <= int(exons_end_pos)][chrom_csv[\"ENSP\"] == canonic_prot_t]\n",
      "        chrom_gene_table = chrom_gene_table.reset_index(drop=True)\n",
      "        \n",
      "        #Handling indels\n",
      "        indels_table = table_editing(chrom_gene_table)\n",
      "        \n",
      "        #A counter for frameshifts inside the domain\n",
      "        protein_frameshifts_cnt = 0\n",
      "        #A counter for validation errors inside the domain\n",
      "        protein_errors_cnt = 0\n",
      "        #A counter for ExAC filter-out inside the domain\n",
      "        protein_filter_cnt = 0\n",
      "        \n",
      "        #Iterating over the amino-acids of the protein\n",
      "        prot_len = int(domain_gene_table[\"length\"].unique()[0])\n",
      "        for protein_pos in range(1,prot_len+1):\n",
      "    \n",
      "            #Trying to match HMM-state, and retreive the aa from HMMER results\n",
      "            (hmm_state, aa) = protein_pos_to_hmm_state_and_aa(protein_pos, domain_gene_table) #TODO: what happens when two matches overlap? maybe sort to the best bit score?\n",
      "                \n",
      "            #If there's a match to HMM-state: find the corresponding codon bps chromosome positions\n",
      "            if (hmm_state > 0):\n",
      "                chrom_pos_list =find_chrom_bps(protein_pos, exon_table, chrom_raw_data)\n",
      "                \n",
      "                #Analysis of the amino-acid MAF and realted data, returned in a dictionary\n",
      "                (info_dict, frameshift_cnt, errors_cnt, filter_cnt) = calc_exac_maf_data(chrom_pos_list, chrom_gene_table, indels_table, protein_pos, aa, chrom_raw_data, chrom, hmm_state)\n",
      "                info_dict[\"ens_gene\"] = ens_gene\n",
      "                \n",
      "                #Adding the dictionary to the HMM-state list\n",
      "                states_dict[hmm_state].append(info_dict)\n",
      "                \n",
      "                #Adding the frameshifts to the global counter\n",
      "                protein_frameshifts_cnt += frameshift_cnt\n",
      "                \n",
      "                #Adding the errors to the global counter\n",
      "                protein_errors_cnt += errors_cnt\n",
      "                \n",
      "                #Adding the filtered to the global counter\n",
      "                protein_filter_cnt += filter_cnt\n",
      "        \n",
      "        \n",
      "        domain_ens_genes_frameshifts.append(protein_frameshifts_cnt)\n",
      "        domain_ens_genes_errors.append(protein_errors_cnt)\n",
      "        domain_ens_genes_filter.append(protein_filter_cnt)\n",
      "        print \"Finished protein \"+ens_gene\n",
      "                                \n",
      "    print \"Finished chromosome \"+chrom\n",
      "\n",
      "!mkdir -p domains_states_dicts/pfam-v30/$domain_name\n",
      "with open(curr_dir[0]+\"/domains_states_dicts/pfam-v30/\"+domain_name+\"/\"+domain_name+\"_hmm_states_dict_\"+datetime.date.today().strftime(\"%m.%d\")+\".pik\", 'wb') as handle:\n",
      "    pickle.dump(states_dict, handle, protocol=pickle.HIGHEST_PROTOCOL)"
     ],
     "language": "python",
     "metadata": {},
     "outputs": [
      {
       "output_type": "stream",
       "stream": "stdout",
       "text": [
        "Starting....\n",
        "Finished protein ENSG00000000938.8"
       ]
      },
      {
       "output_type": "stream",
       "stream": "stdout",
       "text": [
        "\n",
        "Finished protein ENSG00000097033.10"
       ]
      },
      {
       "output_type": "stream",
       "stream": "stdout",
       "text": [
        "\n",
        "Finished protein ENSG00000116701.10"
       ]
      },
      {
       "output_type": "stream",
       "stream": "stdout",
       "text": [
        "\n",
        "Finished protein ENSG00000130762.10"
       ]
      },
      {
       "output_type": "stream",
       "stream": "stdout",
       "text": [
        "\n",
        "Finished protein ENSG00000134215.11"
       ]
      },
      {
       "output_type": "stream",
       "stream": "stdout",
       "text": [
        "\n",
        "Finished protein ENSG00000137942.12"
       ]
      },
      {
       "output_type": "stream",
       "stream": "stdout",
       "text": [
        "\n",
        "Finished protein ENSG00000142632.12"
       ]
      },
      {
       "output_type": "stream",
       "stream": "stdout",
       "text": [
        "\n",
        "Finished protein ENSG00000143322.15"
       ]
      },
      {
       "output_type": "stream",
       "stream": "stdout",
       "text": [
        "\n",
        "Finished protein ENSG00000143514.12"
       ]
      },
      {
       "output_type": "stream",
       "stream": "stdout",
       "text": [
        "\n",
        "Finished protein ENSG00000143674.6"
       ]
      },
      {
       "output_type": "stream",
       "stream": "stdout",
       "text": [
        "\n",
        "Finished protein ENSG00000160753.11"
       ]
      },
      {
       "output_type": "stream",
       "stream": "stdout",
       "text": [
        "\n",
        "Finished protein ENSG00000163486.8"
       ]
      },
      {
       "output_type": "stream",
       "stream": "stdout",
       "text": [
        "\n",
        "Finished protein ENSG00000163554.7"
       ]
      },
      {
       "output_type": "stream",
       "stream": "stdout",
       "text": [
        "\n",
        "Finished protein ENSG00000182866.12"
       ]
      },
      {
       "output_type": "stream",
       "stream": "stdout",
       "text": [
        "\n",
        "Finished protein ENSG00000198758.6"
       ]
      },
      {
       "output_type": "stream",
       "stream": "stdout",
       "text": [
        "\n",
        "Finished protein ENSG00000214193.5"
       ]
      },
      {
       "output_type": "stream",
       "stream": "stdout",
       "text": [
        "\n",
        "Finished chromosome 1\n",
        "Finished protein ENSG00000035115.17"
       ]
      },
      {
       "output_type": "stream",
       "stream": "stdout",
       "text": [
        "\n",
        "Finished protein ENSG00000066248.10"
       ]
      },
      {
       "output_type": "stream",
       "stream": "stdout",
       "text": [
        "\n",
        "Finished protein ENSG00000071051.9"
       ]
      },
      {
       "output_type": "stream",
       "stream": "stdout",
       "text": [
        "\n",
        "Finished protein ENSG00000115145.5"
       ]
      },
      {
       "output_type": "stream",
       "stream": "stdout",
       "text": [
        "\n",
        "Finished protein ENSG00000130147.11"
       ]
      },
      {
       "output_type": "stream",
       "stream": "stdout",
       "text": [
        "\n",
        "Finished protein ENSG00000136002.12"
       ]
      },
      {
       "output_type": "stream",
       "stream": "stdout",
       "text": [
        "\n",
        "Finished protein ENSG00000136717.10"
       ]
      },
      {
       "output_type": "stream",
       "stream": "stdout",
       "text": [
        "\n",
        "Finished protein ENSG00000138443.11"
       ]
      },
      {
       "output_type": "stream",
       "stream": "stdout",
       "text": [
        "\n",
        "Finished protein ENSG00000144061.8"
       ]
      },
      {
       "output_type": "stream",
       "stream": "stdout",
       "text": [
        "\n",
        "Finished protein ENSG00000151693.5"
       ]
      },
      {
       "output_type": "stream",
       "stream": "stdout",
       "text": [
        "\n",
        "Finished protein ENSG00000162928.8"
       ]
      },
      {
       "output_type": "stream",
       "stream": "stdout",
       "text": [
        "\n",
        "Finished protein ENSG00000163072.10"
       ]
      },
      {
       "output_type": "stream",
       "stream": "stdout",
       "text": [
        "\n",
        "Finished protein ENSG00000169994.14"
       ]
      },
      {
       "output_type": "stream",
       "stream": "stdout",
       "text": [
        "\n",
        "Finished protein ENSG00000172985.8"
       ]
      },
      {
       "output_type": "stream",
       "stream": "stdout",
       "text": [
        "\n",
        "Finished protein ENSG00000183091.15"
       ]
      },
      {
       "output_type": "stream",
       "stream": "stdout",
       "text": [
        "\n",
        "Finished protein ENSG00000198399.10"
       ]
      },
      {
       "output_type": "stream",
       "stream": "stdout",
       "text": [
        "\n",
        "Finished chromosome 2\n",
        "Finished protein ENSG00000061938.12"
       ]
      },
      {
       "output_type": "stream",
       "stream": "stdout",
       "text": [
        "\n",
        "Finished protein ENSG00000075711.16"
       ]
      },
      {
       "output_type": "stream",
       "stream": "stdout",
       "text": [
        "\n",
        "Finished protein ENSG00000114790.8"
       ]
      },
      {
       "output_type": "stream",
       "stream": "stdout",
       "text": [
        "\n",
        "Finished protein ENSG00000144681.6"
       ]
      },
      {
       "output_type": "stream",
       "stream": "stdout",
       "text": [
        "\n",
        "Finished protein ENSG00000158092.2"
       ]
      },
      {
       "output_type": "stream",
       "stream": "stdout",
       "text": [
        "\n",
        "Finished protein ENSG00000160145.11"
       ]
      },
      {
       "output_type": "stream",
       "stream": "stdout",
       "text": [
        "\n",
        "Finished protein ENSG00000180353.6"
       ]
      },
      {
       "output_type": "stream",
       "stream": "stdout",
       "text": [
        "\n",
        "Finished protein ENSG00000196220.11"
       ]
      },
      {
       "output_type": "stream",
       "stream": "stdout",
       "text": [
        "\n",
        "Finished protein ENSG00000213672.3"
       ]
      },
      {
       "output_type": "stream",
       "stream": "stdout",
       "text": [
        "\n",
        "Finished chromosome 3\n",
        "Finished protein ENSG00000071205.7"
       ]
      },
      {
       "output_type": "stream",
       "stream": "stdout",
       "text": [
        "\n",
        "Finished protein ENSG00000074966.6"
       ]
      },
      {
       "output_type": "stream",
       "stream": "stdout",
       "text": [
        "\n",
        "Finished protein ENSG00000109686.12"
       ]
      },
      {
       "output_type": "stream",
       "stream": "stdout",
       "text": [
        "\n",
        "Finished protein ENSG00000135605.8"
       ]
      },
      {
       "output_type": "stream",
       "stream": "stdout",
       "text": [
        "\n",
        "Finished protein ENSG00000154447.10"
       ]
      },
      {
       "output_type": "stream",
       "stream": "stdout",
       "text": [
        "\n",
        "Finished protein ENSG00000154556.13"
       ]
      },
      {
       "output_type": "stream",
       "stream": "stdout",
       "text": [
        "\n",
        "Finished protein ENSG00000236699.4"
       ]
      },
      {
       "output_type": "stream",
       "stream": "stdout",
       "text": [
        "\n",
        "Finished chromosome 4\n",
        "Finished protein ENSG00000038382.13"
       ]
      },
      {
       "output_type": "stream",
       "stream": "stdout",
       "text": [
        "\n",
        "Finished protein ENSG00000113263.8"
       ]
      },
      {
       "output_type": "stream",
       "stream": "stdout",
       "text": [
        "\n",
        "Finished protein ENSG00000134516.11"
       ]
      },
      {
       "output_type": "stream",
       "stream": "stdout",
       "text": [
        "\n",
        "Finished protein ENSG00000145675.10"
       ]
      },
      {
       "output_type": "stream",
       "stream": "stdout",
       "text": [
        "\n",
        "Finished protein ENSG00000145819.11"
       ]
      },
      {
       "output_type": "stream",
       "stream": "stdout",
       "text": [
        "\n",
        "Finished protein ENSG00000156463.13"
       ]
      },
      {
       "output_type": "stream",
       "stream": "stdout",
       "text": [
        "\n",
        "Finished protein ENSG00000169247.7"
       ]
      },
      {
       "output_type": "stream",
       "stream": "stdout",
       "text": [
        "\n",
        "Finished protein ENSG00000174705.7"
       ]
      },
      {
       "output_type": "stream",
       "stream": "stdout",
       "text": [
        "\n",
        "Finished protein ENSG00000178996.8"
       ]
      },
      {
       "output_type": "stream",
       "stream": "stdout",
       "text": [
        "\n",
        "Finished protein ENSG00000183111.7"
       ]
      },
      {
       "output_type": "stream",
       "stream": "stdout",
       "text": [
        "\n",
        "Finished protein ENSG00000197948.6"
       ]
      },
      {
       "output_type": "stream",
       "stream": "stdout",
       "text": [
        "\n",
        "Finished chromosome 5\n",
        "Finished protein ENSG00000010810.13"
       ]
      },
      {
       "output_type": "stream",
       "stream": "stdout",
       "text": [
        "\n",
        "Finished protein ENSG00000111816.6"
       ]
      },
      {
       "output_type": "stream",
       "stream": "stdout",
       "text": [
        "\n",
        "Finished protein ENSG00000111859.12"
       ]
      },
      {
       "output_type": "stream",
       "stream": "stdout",
       "text": [
        "\n",
        "Finished protein ENSG00000124507.6"
       ]
      },
      {
       "output_type": "stream",
       "stream": "stdout",
       "text": [
        "\n",
        "exac_validation_checks 158288664 ExAC amino acid is blank"
       ]
      },
      {
       "output_type": "stream",
       "stream": "stdout",
       "text": [
        "\n",
        "calc_exac_maf_data 158288664 Error: the ExAC alt aa  doesn't match my alt aa calculation L\n",
        "Finished protein ENSG00000130340.10"
       ]
      },
      {
       "output_type": "stream",
       "stream": "stdout",
       "text": [
        "\n",
        "Finished protein ENSG00000135541.16"
       ]
      },
      {
       "output_type": "stream",
       "stream": "stdout",
       "text": [
        "\n",
        "Finished protein ENSG00000198087.7"
       ]
      },
      {
       "output_type": "stream",
       "stream": "stdout",
       "text": [
        "\n",
        "Finished chromosome 6\n",
        "Finished protein ENSG00000005020.8"
       ]
      },
      {
       "output_type": "stream",
       "stream": "stdout",
       "text": [
        "\n",
        "Finished protein ENSG00000006453.9"
       ]
      },
      {
       "output_type": "stream",
       "stream": "stdout",
       "text": [
        "\n",
        "Finished protein ENSG00000050327.10"
       ]
      },
      {
       "output_type": "stream",
       "stream": "stdout",
       "text": [
        "\n",
        "Finished protein ENSG00000128512.15"
       ]
      },
      {
       "output_type": "stream",
       "stream": "stdout",
       "text": [
        "\n",
        "Finished protein ENSG00000136279.14"
       ]
      },
      {
       "output_type": "stream",
       "stream": "stdout",
       "text": [
        "\n",
        "Finished protein ENSG00000158517.9"
       ]
      },
      {
       "output_type": "stream",
       "stream": "stdout",
       "text": [
        "\n",
        "Finished chromosome 7\n",
        "Finished protein ENSG00000120896.9"
       ]
      },
      {
       "output_type": "stream",
       "stream": "stdout",
       "text": [
        "\n",
        "Finished protein ENSG00000136573.8"
       ]
      },
      {
       "output_type": "stream",
       "stream": "stdout",
       "text": [
        "\n",
        "Finished protein ENSG00000147459.13"
       ]
      },
      {
       "output_type": "stream",
       "stream": "stdout",
       "text": [
        "\n",
        "Finished protein ENSG00000153317.10"
       ]
      },
      {
       "output_type": "stream",
       "stream": "stdout",
       "text": [
        "\n",
        "Finished protein ENSG00000155926.9"
       ]
      },
      {
       "output_type": "stream",
       "stream": "stdout",
       "text": [
        "\n",
        "Finished protein ENSG00000254087.3"
       ]
      },
      {
       "output_type": "stream",
       "stream": "stdout",
       "text": [
        "\n",
        "Finished chromosome 8\n",
        "Finished protein ENSG00000097007.13"
       ]
      },
      {
       "output_type": "stream",
       "stream": "stdout",
       "text": [
        "\n",
        "Finished protein ENSG00000107295.8"
       ]
      },
      {
       "output_type": "stream",
       "stream": "stdout",
       "text": [
        "\n",
        "Finished protein ENSG00000134996.11"
       ]
      },
      {
       "output_type": "stream",
       "stream": "stdout",
       "text": [
        "\n",
        "Finished protein ENSG00000148341.13"
       ]
      },
      {
       "output_type": "stream",
       "stream": "stdout",
       "text": [
        "\n",
        "Finished protein ENSG00000160293.12"
       ]
      },
      {
       "output_type": "stream",
       "stream": "stdout",
       "text": [
        "\n",
        "Finished protein ENSG00000187239.12"
       ]
      },
      {
       "output_type": "stream",
       "stream": "stdout",
       "text": [
        "\n",
        "Finished protein ENSG00000188747.4"
       ]
      },
      {
       "output_type": "stream",
       "stream": "stdout",
       "text": [
        "\n",
        "Finished protein ENSG00000197694.9"
       ]
      },
      {
       "output_type": "stream",
       "stream": "stdout",
       "text": [
        "\n",
        "Finished protein ENSG00000198853.7"
       ]
      },
      {
       "output_type": "stream",
       "stream": "stdout",
       "text": [
        "\n",
        "Finished chromosome 9\n",
        "Finished protein ENSG00000078114.14"
       ]
      },
      {
       "output_type": "stream",
       "stream": "stdout",
       "text": [
        "\n",
        "Finished protein ENSG00000095637.16"
       ]
      },
      {
       "output_type": "stream",
       "stream": "stdout",
       "text": [
        "\n",
        "Finished protein ENSG00000107554.11"
       ]
      },
      {
       "output_type": "stream",
       "stream": "stdout",
       "text": [
        "\n",
        "Finished protein ENSG00000107957.12"
       ]
      },
      {
       "output_type": "stream",
       "stream": "stdout",
       "text": [
        "\n",
        "Finished protein ENSG00000136738.10"
       ]
      },
      {
       "output_type": "stream",
       "stream": "stdout",
       "text": [
        "\n",
        "Finished protein ENSG00000136754.12"
       ]
      },
      {
       "output_type": "stream",
       "stream": "stdout",
       "text": [
        "\n",
        "Finished protein ENSG00000150054.14"
       ]
      },
      {
       "output_type": "stream",
       "stream": "stdout",
       "text": [
        "\n",
        "Finished protein ENSG00000150760.8"
       ]
      },
      {
       "output_type": "stream",
       "stream": "stdout",
       "text": [
        "\n",
        "Finished protein ENSG00000165322.13"
       ]
      },
      {
       "output_type": "stream",
       "stream": "stdout",
       "text": [
        "\n",
        "Finished chromosome 10\n",
        "Finished protein ENSG00000085733.11"
       ]
      },
      {
       "output_type": "stream",
       "stream": "stdout",
       "text": [
        "\n",
        "Finished protein ENSG00000121653.7"
       ]
      },
      {
       "output_type": "stream",
       "stream": "stdout",
       "text": [
        "\n",
        "Finished protein ENSG00000134909.14"
       ]
      },
      {
       "output_type": "stream",
       "stream": "stdout",
       "text": [
        "\n",
        "Finished protein ENSG00000137478.10"
       ]
      },
      {
       "output_type": "stream",
       "stream": "stdout",
       "text": [
        "\n",
        "Finished protein ENSG00000150672.12"
       ]
      },
      {
       "output_type": "stream",
       "stream": "stdout",
       "text": [
        "\n",
        "Finished protein ENSG00000154127.5"
       ]
      },
      {
       "output_type": "stream",
       "stream": "stdout",
       "text": [
        "\n",
        "Finished protein ENSG00000165895.13"
       ]
      },
      {
       "output_type": "stream",
       "stream": "stdout",
       "text": [
        "\n",
        "Finished protein ENSG00000165912.11"
       ]
      },
      {
       "output_type": "stream",
       "stream": "stdout",
       "text": [
        "\n",
        "Finished protein ENSG00000173327.3"
       ]
      },
      {
       "output_type": "stream",
       "stream": "stdout",
       "text": [
        "\n",
        "Finished protein ENSG00000177106.10"
       ]
      },
      {
       "output_type": "stream",
       "stream": "stdout",
       "text": [
        "\n",
        "Finished chromosome 11\n",
        "Finished protein ENSG00000123329.13"
       ]
      },
      {
       "output_type": "stream",
       "stream": "stdout",
       "text": [
        "\n",
        "Finished protein ENSG00000151491.8"
       ]
      },
      {
       "output_type": "stream",
       "stream": "stdout",
       "text": [
        "\n",
        "Finished protein ENSG00000185482.3"
       ]
      },
      {
       "output_type": "stream",
       "stream": "stdout",
       "text": [
        "\n",
        "Finished protein ENSG00000196935.4"
       ]
      },
      {
       "output_type": "stream",
       "stream": "stdout",
       "text": [
        "\n",
        "Finished chromosome 12\n",
        "Finished protein ENSG00000102606.13"
       ]
      },
      {
       "output_type": "stream",
       "stream": "stdout",
       "text": [
        "\n",
        "Finished protein ENSG00000182957.11"
       ]
      },
      {
       "output_type": "stream",
       "stream": "stdout",
       "text": [
        "\n",
        "Finished protein ENSG00000273167.1"
       ]
      },
      {
       "output_type": "stream",
       "stream": "stdout",
       "text": [
        "\n",
        "Finished chromosome 13\n",
        "Finished protein ENSG00000006432.11"
       ]
      },
      {
       "output_type": "stream",
       "stream": "stdout",
       "text": [
        "\n",
        "Finished protein ENSG00000072415.4"
       ]
      },
      {
       "output_type": "stream",
       "stream": "stdout",
       "text": [
        "\n",
        "Finished protein ENSG00000088808.12"
       ]
      },
      {
       "output_type": "stream",
       "stream": "stdout",
       "text": [
        "\n",
        "Finished protein ENSG00000100842.8"
       ]
      },
      {
       "output_type": "stream",
       "stream": "stdout",
       "text": [
        "\n",
        "Finished chromosome 14\n",
        "Finished protein ENSG00000103653.12"
       ]
      },
      {
       "output_type": "stream",
       "stream": "stdout",
       "text": [
        "\n",
        "Finished protein ENSG00000140368.8"
       ]
      },
      {
       "output_type": "stream",
       "stream": "stdout",
       "text": [
        "\n",
        "Finished protein ENSG00000140600.12"
       ]
      },
      {
       "output_type": "stream",
       "stream": "stdout",
       "text": [
        "\n",
        "Finished protein ENSG00000157483.4"
       ]
      },
      {
       "output_type": "stream",
       "stream": "stdout",
       "text": [
        "\n",
        "Finished protein ENSG00000173548.8"
       ]
      },
      {
       "output_type": "stream",
       "stream": "stdout",
       "text": [
        "\n",
        "Finished chromosome 15\n",
        "Finished protein ENSG00000050820.12"
       ]
      },
      {
       "output_type": "stream",
       "stream": "stdout",
       "text": [
        "\n",
        "Finished protein ENSG00000196408.7"
       ]
      },
      {
       "output_type": "stream",
       "stream": "stdout",
       "text": [
        "\n",
        "Finished protein ENSG00000197943.5"
       ]
      },
      {
       "output_type": "stream",
       "stream": "stdout",
       "text": [
        "\n",
        "Finished chromosome 16\n",
        "Finished protein ENSG00000002834.13"
       ]
      },
      {
       "output_type": "stream",
       "stream": "stdout",
       "text": [
        "\n",
        "Finished protein ENSG00000007237.14"
       ]
      },
      {
       "output_type": "stream",
       "stream": "stdout",
       "text": [
        "\n",
        "Finished protein ENSG00000108798.4"
       ]
      },
      {
       "output_type": "stream",
       "stream": "stdout",
       "text": [
        "\n",
        "Finished protein ENSG00000108852.10"
       ]
      },
      {
       "output_type": "stream",
       "stream": "stdout",
       "text": [
        "\n",
        "Finished protein ENSG00000132535.14"
       ]
      },
      {
       "output_type": "stream",
       "stream": "stdout",
       "text": [
        "\n",
        "Finished protein ENSG00000141293.11"
       ]
      },
      {
       "output_type": "stream",
       "stream": "stdout",
       "text": [
        "\n",
        "Finished protein ENSG00000141750.6"
       ]
      },
      {
       "output_type": "stream",
       "stream": "stdout",
       "text": [
        "\n",
        "Finished protein ENSG00000154016.9"
       ]
      },
      {
       "output_type": "stream",
       "stream": "stdout",
       "text": [
        "\n",
        "Finished protein ENSG00000167193.7"
       ]
      },
      {
       "output_type": "stream",
       "stream": "stdout",
       "text": [
        "\n",
        "Finished protein ENSG00000175866.11"
       ]
      },
      {
       "output_type": "stream",
       "stream": "stdout",
       "text": [
        "\n",
        "Finished protein ENSG00000177885.9"
       ]
      },
      {
       "output_type": "stream",
       "stream": "stdout",
       "text": [
        "\n",
        "Finished protein ENSG00000189152.6"
       ]
      },
      {
       "output_type": "stream",
       "stream": "stdout",
       "text": [
        "\n",
        "Finished chromosome 17\n",
        "Finished protein ENSG00000176105.9"
       ]
      },
      {
       "output_type": "stream",
       "stream": "stdout",
       "text": [
        "\n",
        "Finished chromosome 18\n",
        "Finished protein ENSG00000004777.14"
       ]
      },
      {
       "output_type": "stream",
       "stream": "stdout",
       "text": [
        "\n",
        "Finished protein ENSG00000104881.10"
       ]
      },
      {
       "output_type": "stream",
       "stream": "stdout",
       "text": [
        "\n",
        "Finished protein ENSG00000125733.13"
       ]
      },
      {
       "output_type": "stream",
       "stream": "stdout",
       "text": [
        "\n",
        "Finished protein ENSG00000130758.3"
       ]
      },
      {
       "output_type": "stream",
       "stream": "stdout",
       "text": [
        "\n",
        "Finished protein ENSG00000131037.10"
       ]
      },
      {
       "output_type": "stream",
       "stream": "stdout",
       "text": [
        "\n",
        "Finished protein ENSG00000141968.3"
       ]
      },
      {
       "output_type": "stream",
       "stream": "stdout",
       "text": [
        "\n",
        "Finished protein ENSG00000141985.5"
       ]
      },
      {
       "output_type": "stream",
       "stream": "stdout",
       "text": [
        "\n",
        "Finished protein ENSG00000142347.12"
       ]
      },
      {
       "output_type": "stream",
       "stream": "stdout",
       "text": [
        "\n",
        "Finished chromosome 19\n",
        "Finished protein ENSG00000087589.12"
       ]
      },
      {
       "output_type": "stream",
       "stream": "stdout",
       "text": [
        "\n",
        "Finished protein ENSG00000101082.9"
       ]
      },
      {
       "output_type": "stream",
       "stream": "stdout",
       "text": [
        "\n",
        "Finished protein ENSG00000101213.5"
       ]
      },
      {
       "output_type": "stream",
       "stream": "stdout",
       "text": [
        "\n",
        "Finished protein ENSG00000101336.8"
       ]
      },
      {
       "output_type": "stream",
       "stream": "stdout",
       "text": [
        "\n",
        "Finished protein ENSG00000124181.10"
       ]
      },
      {
       "output_type": "stream",
       "stream": "stdout",
       "text": [
        "\n",
        "Finished protein ENSG00000197122.7"
       ]
      },
      {
       "output_type": "stream",
       "stream": "stdout",
       "text": [
        "\n",
        "Finished chromosome 20\n",
        "Finished protein ENSG00000160185.9"
       ]
      },
      {
       "output_type": "stream",
       "stream": "stdout",
       "text": [
        "\n",
        "Finished protein ENSG00000160310.12"
       ]
      },
      {
       "output_type": "stream",
       "stream": "stdout",
       "text": [
        "\n",
        "Finished protein ENSG00000205726.9"
       ]
      },
      {
       "output_type": "stream",
       "stream": "stdout",
       "text": [
        "\n",
        "Finished chromosome 21\n",
        "Finished protein ENSG00000008735.10"
       ]
      },
      {
       "output_type": "stream",
       "stream": "stdout",
       "text": [
        "\n",
        "Finished protein ENSG00000099942.8"
       ]
      },
      {
       "output_type": "stream",
       "stream": "stdout",
       "text": [
        "\n",
        "Finished protein ENSG00000100266.13"
       ]
      },
      {
       "output_type": "stream",
       "stream": "stdout",
       "text": [
        "\n",
        "Finished protein ENSG00000100351.12"
       ]
      },
      {
       "output_type": "stream",
       "stream": "stdout",
       "text": [
        "\n",
        "Finished protein ENSG00000100365.10"
       ]
      },
      {
       "output_type": "stream",
       "stream": "stdout",
       "text": [
        "\n",
        "Finished chromosome 22\n",
        "Finished protein ENSG00000010671.11"
       ]
      },
      {
       "output_type": "stream",
       "stream": "stdout",
       "text": [
        "\n",
        "Finished protein ENSG00000082458.7"
       ]
      },
      {
       "output_type": "stream",
       "stream": "stdout",
       "text": [
        "\n",
        "Finished protein ENSG00000089820.11"
       ]
      },
      {
       "output_type": "stream",
       "stream": "stdout",
       "text": [
        "\n",
        "Finished protein ENSG00000129675.11"
       ]
      },
      {
       "output_type": "stream",
       "stream": "stdout",
       "text": [
        "\n",
        "Finished protein ENSG00000130830.10"
       ]
      },
      {
       "output_type": "stream",
       "stream": "stdout",
       "text": [
        "\n",
        "Finished protein ENSG00000131089.9"
       ]
      },
      {
       "output_type": "stream",
       "stream": "stdout",
       "text": [
        "\n",
        "Finished protein ENSG00000147010.13"
       ]
      },
      {
       "output_type": "stream",
       "stream": "stdout",
       "text": [
        "\n",
        "Finished protein ENSG00000147044.16"
       ]
      },
      {
       "output_type": "stream",
       "stream": "stdout",
       "text": [
        "\n",
        "Finished chromosome X\n",
        "Finished chromosome Y"
       ]
      },
      {
       "output_type": "stream",
       "stream": "stdout",
       "text": [
        "\n"
       ]
      },
      {
       "output_type": "stream",
       "stream": "stderr",
       "text": [
        "/home/anat/anaconda2/lib/python2.7/site-packages/pandas/core/frame.py:1997: UserWarning: Boolean Series key will be reindexed to match DataFrame index.\n",
        "  \"DataFrame index.\", UserWarning)\n"
       ]
      }
     ],
     "prompt_number": 7
    },
    {
     "cell_type": "code",
     "collapsed": false,
     "input": [],
     "language": "python",
     "metadata": {},
     "outputs": [],
     "prompt_number": 8
    },
    {
     "cell_type": "code",
     "collapsed": false,
     "input": [
      "sum(domain_ens_genes_errors)"
     ],
     "language": "python",
     "metadata": {},
     "outputs": [
      {
       "output_type": "pyout",
       "prompt_number": 8,
       "text": [
        "0"
       ]
      }
     ],
     "prompt_number": 8
    },
    {
     "cell_type": "code",
     "collapsed": false,
     "input": [
      "sum(domain_ens_genes_frameshifts)"
     ],
     "language": "python",
     "metadata": {},
     "outputs": [
      {
       "output_type": "pyout",
       "prompt_number": 9,
       "text": [
        "74"
       ]
      }
     ],
     "prompt_number": 9
    },
    {
     "cell_type": "code",
     "collapsed": false,
     "input": [
      "sum(domain_ens_genes_filter)"
     ],
     "language": "python",
     "metadata": {},
     "outputs": [
      {
       "output_type": "pyout",
       "prompt_number": 10,
       "text": [
        "0"
       ]
      }
     ],
     "prompt_number": 10
    },
    {
     "cell_type": "code",
     "collapsed": false,
     "input": [
      "sum(domain_ens_genes_filter)"
     ],
     "language": "python",
     "metadata": {},
     "outputs": [
      {
       "output_type": "pyout",
       "prompt_number": 11,
       "text": [
        "0"
       ]
      }
     ],
     "prompt_number": 11
    },
    {
     "cell_type": "code",
     "collapsed": false,
     "input": [
      "max(chrom_gene_table[\"AN\"])"
     ],
     "language": "python",
     "metadata": {},
     "outputs": [
      {
       "output_type": "pyout",
       "prompt_number": 12,
       "text": [
        "106208"
       ]
      }
     ],
     "prompt_number": 12
    }
   ],
   "metadata": {}
  }
 ]
}
