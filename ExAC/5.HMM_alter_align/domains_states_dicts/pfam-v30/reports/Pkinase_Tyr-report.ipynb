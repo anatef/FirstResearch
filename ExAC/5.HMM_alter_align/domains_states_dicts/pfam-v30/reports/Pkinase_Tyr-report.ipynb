{
 "metadata": {
  "kernelspec": {
   "display_name": "Python 2",
   "language": "python",
   "name": "python2"
  },
  "language_info": {
   "codemirror_mode": {
    "name": "ipython",
    "version": 2
   },
   "file_extension": ".py",
   "mimetype": "text/x-python",
   "name": "python",
   "nbconvert_exporter": "python",
   "pygments_lexer": "ipython2",
   "version": "2.7.12"
  },
  "name": ""
 },
 "nbformat": 3,
 "nbformat_minor": 0,
 "worksheets": [
  {
   "cells": [
    {
     "cell_type": "code",
     "collapsed": false,
     "input": [
      "import pandas as pd\n",
      "import numpy as np\n",
      "import math\n",
      "from collections import defaultdict\n",
      "import matplotlib.pyplot as plt\n",
      "from os import environ\n",
      "import pickle\n",
      "import fileinput\n",
      "import sys\n",
      "import datetime\n",
      "from mapping_func import create_exon_pos_table, find_chrom_bps, protein_pos_to_hmm_state_and_aa\n",
      "from calc_exac_freq_func import create_alt_codon, exac_validation_checks, retrieve_codon_seq, codon_table\n",
      "from indels_func import is_indel, table_editing, indel_type\n",
      "from entropy_func import JSD_background, JSD, SE\n",
      "from IPython.core.display import HTML\n",
      "HTML(\"<style>.container { width:100% !important; }</style>\")"
     ],
     "language": "python",
     "metadata": {},
     "outputs": [
      {
       "html": [
        "<style>.container { width:100% !important; }</style>"
       ],
       "output_type": "pyout",
       "prompt_number": 1,
       "text": [
        "<IPython.core.display.HTML object>"
       ]
      }
     ],
     "prompt_number": 1
    },
    {
     "cell_type": "code",
     "collapsed": false,
     "input": [
      "#Getting path\n",
      "curr_dir = !pwd\n",
      "\n",
      "#Reading the list of filtered domains\n",
      "with open(curr_dir[0]+\"/../5.domains_stats/filtered100_list.pik\", 'rb') as handle:\n",
      "    filtered_domains_list = pickle.load(handle)\n",
      "filtered_domains_list.sort()\n",
      "\n",
      "#Getting the domain index as environment variable called \"idx\"\n",
      "try:\n",
      "    domain_index = int(environ['idx'])\n",
      "except:\n",
      "    domain_index = 0\n",
      "domain_name = filtered_domains_list[domain_index]"
     ],
     "language": "python",
     "metadata": {},
     "outputs": [],
     "prompt_number": 2
    },
    {
     "cell_type": "code",
     "collapsed": false,
     "input": [
      "filtered_domains_list[28]"
     ],
     "language": "python",
     "metadata": {},
     "outputs": [
      {
       "output_type": "pyout",
       "prompt_number": 3,
       "text": [
        "'Homeobox'"
       ]
      }
     ],
     "prompt_number": 3
    },
    {
     "cell_type": "code",
     "collapsed": false,
     "input": [
      "in_path = curr_dir[0]+\"/../3.parse_HMMER/hmm_domains/pfam-v30/\"\n",
      "filename = domain_name+\".csv\"\n",
      "domain_data = pd.read_csv(in_path+filename, sep='\\t', index_col=0, dtype={\"chrom_num\": str})\n",
      "#Sort the zinc finger data\n",
      "sorted_domain_data = domain_data.sort_values(by=[\"chrom_num\", \"gene\", \"TargetStart\"])\n",
      "sorted_domain_data = sorted_domain_data.reset_index(drop=True)\n",
      "\n",
      "#Get the canonic protein id for Zinc domain\n",
      "with open(curr_dir[0]+\"/../4.parse_Uniprot/domains_canonic_prot/pfam-v30/\"+domain_name+\"_canonic_prot.pik\", 'rb') as handle:\n",
      "    canonic_protein = pickle.load(handle)\n",
      "    \n",
      "#Get the filtered table of domains\n",
      "    \n",
      "chromosome_names = [\"1\", \"2\", \"3\", \"4\", \"5\", \"6\", \"7\", \"8\", \"9\", \"10\", \"11\", \"12\", \"13\", \"14\", \"15\", \"16\", \"17\", \"18\", \"19\", \"20\", \"21\", \"22\", \"X\", \"Y\"]"
     ],
     "language": "python",
     "metadata": {},
     "outputs": [],
     "prompt_number": 4
    },
    {
     "cell_type": "code",
     "collapsed": false,
     "input": [
      "#Counting how many domains instances are excluded because of strange chrom names.\n",
      "chrom_names_list = sorted_domain_data[\"chrom_num\"].tolist()\n",
      "strange_chrom_sum = 0\n",
      "for name in chrom_names_list:\n",
      "    if (name not in chromosome_names):\n",
      "        strange_chrom_sum += 1\n",
      "print \"Leaving outside \"+str(strange_chrom_sum)+\" out of \"+str(len(chrom_names_list))"
     ],
     "language": "python",
     "metadata": {},
     "outputs": [
      {
       "output_type": "stream",
       "stream": "stdout",
       "text": [
        "Leaving outside 68 out of 1562\n"
       ]
      }
     ],
     "prompt_number": 5
    },
    {
     "cell_type": "code",
     "collapsed": false,
     "input": [
      "#A function that return a dict with the MAF info for the protein position and corresponding chromosomal location\n",
      "def calc_exac_maf_data(chrom_pos_list, chrom_gene_table, indels_table, protein_pos, aa, chrom_raw_data, chrom, hmm_state):\n",
      "    \n",
      "    res_dict = {}\n",
      "    res_dict[\"chrom\"] = chrom\n",
      "    res_dict[\"chrom_pos\"] = chrom_pos_list\n",
      "    res_dict[\"prot_pos\"] = protein_pos\n",
      "    res_dict[\"aa_ref\"] = aa\n",
      "    res_dict[\"bp_ref\"] = retrieve_codon_seq(chrom_pos_list, chrom_raw_data, chrom)\n",
      "    res_dict[\"an_adj\"] = []\n",
      "    res_dict[\"filter\"] = []\n",
      "    frameshift_cnt = 0\n",
      "    errors_cnt = 0\n",
      "    filter_cnt = 0\n",
      "    inframe_ids = []\n",
      "    \n",
      "    #For error logging\n",
      "    functionNameAsString = sys._getframe().f_code.co_name\n",
      "    \n",
      "    #Coverting the HMMER 'x' chat to '*' for stop codon notion unifirmity\n",
      "    if (aa == 'X'):\n",
      "        aa = '*'\n",
      "    \n",
      "    #Validation: checking that the returned codon sequence from hg19 match the HMMER amino-acid\n",
      "    translated_aa = codon_table[(res_dict[\"bp_ref\"]).upper()]\n",
      "    if (translated_aa != aa):\n",
      "        print \"chrom_pos_list = \" +str(chrom_pos_list)+\" protein_pos = \"+str(protein_pos)+\" hmm_state = \"+str(hmm_state)\n",
      "        print functionNameAsString+\" Error: hg19 codon sequence retrieved \"+(res_dict[\"bp_ref\"]).upper()+\"=\"+translated_aa+\" doesn't match HMMER amino-acid \"+aa\n",
      "    \n",
      "    alterations_af_dict = defaultdict(list)\n",
      "    alterations_af_adj_dict = defaultdict(list)\n",
      "    \n",
      "    for i in range(len(chrom_pos_list)):\n",
      "        chrom_pos = chrom_pos_list[i]\n",
      "        alt_codon_pos = i\n",
      "            \n",
      "        #Retreiving relevant ExAC entry\n",
      "        chrom_alter_table = chrom_gene_table[chrom_gene_table[\"pos\"] == chrom_pos]\n",
      "        chrom_alter_table = chrom_alter_table.reset_index(drop=True)\n",
      "                \n",
      "        if (chrom_alter_table.shape[0] == 0):\n",
      "            #No ExAC entry for this chromosome position - not adding alteration data\n",
      "            continue\n",
      "        \n",
      "        else:\n",
      "            #In case there are several alterations for that position, iterating\n",
      "            for index, line in chrom_alter_table.iterrows():\n",
      "                chrom_alter = line\n",
      "                \n",
      "                res_dict[\"filter\"].append(chrom_alter[\"filter\"])\n",
      "                res_dict[\"an_adj\"].append(chrom_alter[\"AN_Adj\"])\n",
      "                \n",
      "                #Extracting ref and alt\n",
      "                exac_ref_bp = chrom_alter[\"ref\"]\n",
      "                exac_alt_bp = chrom_alter[\"alt\"]\n",
      "                \n",
      "                #Check if frameshift indel - skip (we assume the whole protein may not function and don't add those to the MAF count)\n",
      "                if (is_indel(exac_ref_bp, exac_alt_bp, chrom_alter) == indel_type.FRAME_SHIFT_INDEL):\n",
      "                    frameshift_cnt += 1\n",
      "                    continue\n",
      "                    \n",
      "                #Check if inframe indel - take data from the indels table later\n",
      "                elif (is_indel(exac_ref_bp, exac_alt_bp, chrom_alter) == indel_type.IN_FRAME_INDEL):\n",
      "                    indel_id = chrom_alter[\"comments\"][chrom_alter[\"comments\"].find(\"-\"):]\n",
      "                    inframe_ids.append(indel_id)\n",
      "                    continue     \n",
      "                \n",
      "                #Perform validation checks (comparing ExAC and HMMER data)\n",
      "                (exac_prot_data, exac_alt_aa, exac_alt_codon, errors) = exac_validation_checks(chrom_alter, protein_pos, aa, alt_codon_pos, chrom_pos, res_dict[\"bp_ref\"])\n",
      "                if (errors):\n",
      "                    errors_cnt += 1\n",
      "                    #Skipping if there are validation errors\n",
      "                    #continue\n",
      "\n",
      "                #Extracting ExAC allele frequency data\n",
      "                af = chrom_alter[\"AF\"]\n",
      "                an = int(chrom_alter[\"AN\"])\n",
      "                an_adj = int(chrom_alter[\"AN_Adj\"])\n",
      "                ac_adj = chrom_alter[\"AC_Adj\"]\n",
      "                \n",
      "                #Calculating the alteration relevant data\n",
      "                alt_codon = create_alt_codon(exac_ref_bp, exac_alt_bp, res_dict[\"bp_ref\"], alt_codon_pos, chrom_raw_data)\n",
      "                if (len(alt_codon) != 3):\n",
      "                    alt_aa = \"indel\"\n",
      "                    continue #TODO: handle inframe indels\n",
      "                else:\n",
      "                    alt_aa = codon_table[alt_codon.upper()]\n",
      "\n",
      "                #Validation: ExAC alt codon and aa for the first alteration match the calculated alt\n",
      "                #if (exac_prot_data and exac_alt_codon.upper() != alt_codon):\n",
      "                    #print functionNameAsString+\" \"+ str(chrom_pos)+\" Error: the ExAC alt codon \"+exac_alt_codon.upper()+\" doesn't match my alt codon calculation \"+alt_codon\n",
      "                if (exac_prot_data and exac_alt_aa != alt_aa):\n",
      "                    print functionNameAsString+\" \"+ str(chrom_pos)+\" Error: the ExAC alt aa \"+exac_alt_aa+\" doesn't match my alt aa calculation \"+alt_aa\n",
      "\n",
      "                if (alt_aa == res_dict[\"aa_ref\"]):\n",
      "                    #Not logging alteration for synonymous mutations\n",
      "                    continue\n",
      "\n",
      "                #Non-synonymous(!!!) - logging the alteration\n",
      "                else:\n",
      "                    alterations_af_dict[alt_aa].append(float(af))\n",
      "                    if (an_adj == 0):\n",
      "                        af_adj = 0\n",
      "                    else:\n",
      "                        af_adj = float(ac_adj)/float(an_adj)\n",
      "                    af_adj_format = float('{:.3e}'.format(float(af_adj)))\n",
      "                    alterations_af_adj_dict[alt_aa].append(af_adj_format)\n",
      "\n",
      "    #Calculating the overall MAF from the alteration dicts\n",
      "    res_dict[\"af\"] = 0\n",
      "    res_dict[\"af_adj\"] = 0\n",
      "    \n",
      "    for aa in alterations_af_dict.keys():\n",
      "        aa_sum = sum(alterations_af_dict[aa])\n",
      "        aa_adj_sum = sum(alterations_af_adj_dict[aa])\n",
      "        \n",
      "        #Checking if any alteration is above 0.5, and changing the ref accordingly\n",
      "        if (aa != \"indel\" and aa_sum > 0.5):\n",
      "            \n",
      "            #Adding the refrence allele to the alterations dicts\n",
      "            old_ref = res_dict[\"aa_ref\"]\n",
      "            sum_of_all_alt = sum(sum(alterations_af_dict.values(), []))\n",
      "            sum_of_all_alt_adj = sum(sum(alterations_af_adj_dict.values(), []))\n",
      "            alterations_af_dict[old_ref] = [1 - sum_of_all_alt]\n",
      "            alterations_af_adj_dict[old_ref] = [1 - sum_of_all_alt_adj]\n",
      "            \n",
      "            #Updating the aa to be the ref\n",
      "            res_dict[\"aa_ref\"] = aa\n",
      "            #Updating the alt bp to be the ref\n",
      "            exac_codons = chrom_alter[\"codons\"]\n",
      "            exac_alt_codon = exac_codons[exac_codons.find(\"/\")+1:]\n",
      "            res_dict[\"bp_ref\"] = exac_alt_codon.upper()\n",
      "            res_dict[\"af\"] =(1 - aa_sum)\n",
      "            res_dict[\"af_adj\"] = (1 - aa_adj_sum)\n",
      "            \n",
      "            #Deleting from the alterations dicts\n",
      "            del alterations_af_dict[aa]\n",
      "            del alterations_af_adj_dict[aa]\n",
      "            break\n",
      "        else:\n",
      "            res_dict[\"af\"] += aa_sum\n",
      "            res_dict[\"af_adj\"] += aa_adj_sum\n",
      "        \n",
      "        #Fix the AF format\n",
      "        res_dict[\"af\"] = float('{:.3e}'.format(float(res_dict[\"af\"])))\n",
      "        res_dict[\"af_adj\"] = float('{:.3e}'.format(float(res_dict[\"af_adj\"])))\n",
      "        \n",
      "    #Calculating the overall Jensen-Shannon Divergrence\n",
      "    #if (len(alterations_af_dict.keys()) == 0):\n",
      "        #res_dict[\"JSD\"] = 0\n",
      "        #res_dict[\"JSD_adj\"] = 0\n",
      "    #else:\n",
      "        #res_dict[\"JSD\"] = JSD(alterations_af_dict, res_dict[\"aa_ref\"], res_dict[\"af\"], hmm_state, JSD_background.MAJOR_ALLELE)\n",
      "        #res_dict[\"JSD_adj\"] = JSD(alterations_af_adj_dict, res_dict[\"aa_ref\"], res_dict[\"af_adj\"], hmm_state, JSD_background.MAJOR_ALLELE)\n",
      "    \n",
      "    res_dict[\"alterations_af_adj_dict\"] = alterations_af_adj_dict\n",
      "    \n",
      "    return (res_dict, frameshift_cnt, errors_cnt, filter_cnt)"
     ],
     "language": "python",
     "metadata": {},
     "outputs": [],
     "prompt_number": 6
    },
    {
     "cell_type": "code",
     "collapsed": false,
     "input": [
      "chrom_path = curr_dir[0]+\"/../1.parse_ExAC/parsed/\"\n",
      "chrom_filename = \"parsed_chrom\"\n",
      "states_dict = defaultdict(list)\n",
      "print \"Starting....\"\n",
      "\n",
      "#For error logging\n",
      "functionNameAsString = sys._getframe().f_code.co_name\n",
      "\n",
      "#A list of all the ens genes\n",
      "domain_ens_genes_all = []\n",
      "\n",
      "#A list to count frameshifts per gene\n",
      "domain_ens_genes_frameshifts = []\n",
      "\n",
      "#A list to count validation errors per gene\n",
      "domain_ens_genes_errors = []\n",
      "\n",
      "#A list to count ExAC filtered-out per gene\n",
      "domain_ens_genes_filter = []\n",
      "\n",
      "for chrom in chromosome_names:\n",
      "    \n",
      "    #Filtering the domain data relevant to this chromosome\n",
      "    domain_chrom_data = sorted_domain_data[sorted_domain_data[\"chrom_num\"] == chrom]\n",
      "    \n",
      "    #Loading the ExAC parsed data of this chromosome\n",
      "    fields = ['chrom', 'pos', 'ref', 'alt', \"filter\", 'AC', 'AC_Adj', 'AF', 'AN', 'AN_Adj', 'gene', 'feature', \n",
      "              'feature_type', 'conseq', 'prot_pos', 'amino_acids', 'codons', 'strand', 'ENSP', 'exon', \n",
      "              'intron', 'domains']\n",
      "    chrom_csv = pd.read_csv(chrom_path+chrom_filename+chrom+\".csv\", sep='\\t', index_col=0, usecols=fields)\n",
      "    chrom_csv = chrom_csv.sort_values(by=[\"pos\"])\n",
      "    chrom_csv = chrom_csv.reset_index(drop=True)\n",
      "    chrom_csv.fillna('', inplace=True)\n",
      "    chrom_csv[\"comments\"] = \"\"\n",
      "    \n",
      "    #Getting a list of all the relevant ensembl gene ids for this chromosome\n",
      "    domain_ens_genes = (domain_chrom_data[\"gene\"]).unique()\n",
      "    domain_ens_genes_all.extend(domain_ens_genes)\n",
      "    \n",
      "    #For each ensembl gene in the domain data - finding all the ExAC alterations\n",
      "    for ens_gene in domain_ens_genes:\n",
      "        \n",
      "        #Filtering the domain data for this gene according to the canonical protein id\n",
      "        canonic_prot = canonic_protein[ens_gene]\n",
      "        canonic_prot_t = canonic_prot[:canonic_prot.find(\".\")] #Trimming the \".#\" at the end\n",
      "        domain_gene_table = domain_chrom_data[domain_chrom_data[\"prot\"] == canonic_prot]\n",
      "        #Making sure that if two HMM-matches overlaps, the higher bit score will come first in the table\n",
      "        domain_gene_table = domain_gene_table.sort_values(by=\"BitScore\", ascending=False)\n",
      "        domain_gene_name = domain_gene_table[\"hugoSymbol\"].unique()[0]\n",
      "        if (len(domain_gene_table[\"hugoSymbol\"].unique()) > 1):\n",
      "            print functionNameAsString+\" Error: \"+ens_gene+\": more than one Hugo symbol\" #sanity check\n",
      "        \n",
      "        #Creating a table of the exons for this gene, according to the canonical protein\n",
      "        chrom_raw_data = domain_gene_table[\"chromosome\"].unique()[0] #there should be only one element here\n",
      "        if (len(domain_gene_table[\"chromosome\"].unique()) > 1):\n",
      "            print functionNameAsString+\" Error: \"+ens_gene+\": more than one chromosome raw data\" #sanity check\n",
      "        targetid = domain_gene_table[\"#TargetID\"].unique()[0]\n",
      "        exon_table = create_exon_pos_table(chrom_raw_data, targetid)\n",
      "        \n",
      "        #Filtering the chromosome data to the gene exons region\n",
      "        exons_start_pos = min(exon_table[\"start_pos\"][0],exon_table[\"start_pos\"][len(exon_table)-1]) #in case of complelemt, the minimal position could be at the last row\n",
      "        exons_end_pos = max(exon_table[\"end_pos\"][0],exon_table[\"end_pos\"][len(exon_table)-1]) #in case of complelemt, the maximal position could be at the first row\n",
      "        chrom_gene_table = chrom_csv[chrom_csv[\"pos\"] >= int(exons_start_pos)][chrom_csv[\"pos\"] <= int(exons_end_pos)][chrom_csv[\"ENSP\"] == canonic_prot_t]\n",
      "        chrom_gene_table = chrom_gene_table.reset_index(drop=True)\n",
      "        \n",
      "        #Handling indels\n",
      "        indels_table = table_editing(chrom_gene_table)\n",
      "        \n",
      "        #A counter for frameshifts inside the domain\n",
      "        protein_frameshifts_cnt = 0\n",
      "        #A counter for validation errors inside the domain\n",
      "        protein_errors_cnt = 0\n",
      "        #A counter for ExAC filter-out inside the domain\n",
      "        protein_filter_cnt = 0\n",
      "        \n",
      "        #Iterating over the amino-acids of the protein\n",
      "        prot_len = int(domain_gene_table[\"length\"].unique()[0])\n",
      "        for protein_pos in range(1,prot_len+1):\n",
      "    \n",
      "            #Trying to match HMM-state, and retreive the aa from HMMER results\n",
      "            (hmm_state, aa) = protein_pos_to_hmm_state_and_aa(protein_pos, domain_gene_table) #TODO: what happens when two matches overlap? maybe sort to the best bit score?\n",
      "                \n",
      "            #If there's a match to HMM-state: find the corresponding codon bps chromosome positions\n",
      "            if (hmm_state > 0):\n",
      "                chrom_pos_list =find_chrom_bps(protein_pos, exon_table, chrom_raw_data)\n",
      "                \n",
      "                #Analysis of the amino-acid MAF and realted data, returned in a dictionary\n",
      "                (info_dict, frameshift_cnt, errors_cnt, filter_cnt) = calc_exac_maf_data(chrom_pos_list, chrom_gene_table, indels_table, protein_pos, aa, chrom_raw_data, chrom, hmm_state)\n",
      "                info_dict[\"ens_gene\"] = ens_gene\n",
      "                \n",
      "                #Adding the dictionary to the HMM-state list\n",
      "                states_dict[hmm_state].append(info_dict)\n",
      "                \n",
      "                #Adding the frameshifts to the global counter\n",
      "                protein_frameshifts_cnt += frameshift_cnt\n",
      "                \n",
      "                #Adding the errors to the global counter\n",
      "                protein_errors_cnt += errors_cnt\n",
      "                \n",
      "                #Adding the filtered to the global counter\n",
      "                protein_filter_cnt += filter_cnt\n",
      "        \n",
      "        \n",
      "        domain_ens_genes_frameshifts.append(protein_frameshifts_cnt)\n",
      "        domain_ens_genes_errors.append(protein_errors_cnt)\n",
      "        domain_ens_genes_filter.append(protein_filter_cnt)\n",
      "        print \"Finished protein \"+ens_gene\n",
      "                                \n",
      "    print \"Finished chromosome \"+chrom\n",
      "\n",
      "!mkdir -p domains_states_dicts/pfam-v30/$domain_name\n",
      "with open(curr_dir[0]+\"/domains_states_dicts/pfam-v30/\"+domain_name+\"/\"+domain_name+\"_hmm_states_dict_\"+datetime.date.today().strftime(\"%m.%d\")+\".pik\", 'wb') as handle:\n",
      "    pickle.dump(states_dict, handle, protocol=pickle.HIGHEST_PROTOCOL)"
     ],
     "language": "python",
     "metadata": {},
     "outputs": [
      {
       "output_type": "stream",
       "stream": "stdout",
       "text": [
        "Starting....\n",
        "Finished protein ENSG00000000938.8"
       ]
      },
      {
       "output_type": "stream",
       "stream": "stdout",
       "text": [
        "\n",
        "Finished protein ENSG00000008118.5"
       ]
      },
      {
       "output_type": "stream",
       "stream": "stdout",
       "text": [
        "\n",
        "Finished protein ENSG00000008128.18"
       ]
      },
      {
       "output_type": "stream",
       "stream": "stdout",
       "text": [
        "\n",
        "Finished protein ENSG00000027644.4"
       ]
      },
      {
       "output_type": "stream",
       "stream": "stdout",
       "text": [
        "\n",
        "Finished protein ENSG00000065243.14"
       ]
      },
      {
       "output_type": "stream",
       "stream": "stdout",
       "text": [
        "\n",
        "Finished protein ENSG00000066056.9"
       ]
      },
      {
       "output_type": "stream",
       "stream": "stdout",
       "text": [
        "\n",
        "Finished protein ENSG00000067606.11"
       ]
      },
      {
       "output_type": "stream",
       "stream": "stdout",
       "text": [
        "\n",
        "Finished protein ENSG00000070759.12"
       ]
      },
      {
       "output_type": "stream",
       "stream": "stdout",
       "text": [
        "\n",
        "Finished protein ENSG00000070886.6"
       ]
      },
      {
       "output_type": "stream",
       "stream": "stdout",
       "text": [
        "\n",
        "Finished protein ENSG00000079277.15"
       ]
      },
      {
       "output_type": "stream",
       "stream": "stdout",
       "text": [
        "\n",
        "Finished protein ENSG00000086015.16"
       ]
      },
      {
       "output_type": "stream",
       "stream": "stdout",
       "text": [
        "\n",
        "Finished protein ENSG00000097046.8"
       ]
      },
      {
       "output_type": "stream",
       "stream": "stdout",
       "text": [
        "\n",
        "Finished protein ENSG00000116141.11"
       ]
      },
      {
       "output_type": "stream",
       "stream": "stdout",
       "text": [
        "\n",
        "Finished protein ENSG00000116783.10"
       ]
      },
      {
       "output_type": "stream",
       "stream": "stdout",
       "text": [
        "\n",
        "Finished protein ENSG00000117020.12"
       ]
      },
      {
       "output_type": "stream",
       "stream": "stdout",
       "text": [
        "\n",
        "Finished protein ENSG00000117266.11"
       ]
      },
      {
       "output_type": "stream",
       "stream": "stdout",
       "text": [
        "\n",
        "Finished protein ENSG00000117650.8"
       ]
      },
      {
       "output_type": "stream",
       "stream": "stdout",
       "text": [
        "\n",
        "Finished protein ENSG00000117676.9"
       ]
      },
      {
       "output_type": "stream",
       "stream": "stdout",
       "text": [
        "\n",
        "Finished protein ENSG00000133059.12"
       ]
      },
      {
       "output_type": "stream",
       "stream": "stdout",
       "text": [
        "\n",
        "Finished protein ENSG00000133216.12"
       ]
      },
      {
       "output_type": "stream",
       "stream": "stdout",
       "text": [
        "\n",
        "Finished protein ENSG00000136643.7"
       ]
      },
      {
       "output_type": "stream",
       "stream": "stdout",
       "text": [
        "\n",
        "Finished protein ENSG00000142627.9"
       ]
      },
      {
       "output_type": "stream",
       "stream": "stdout",
       "text": [
        "\n",
        "Finished protein ENSG00000142733.10"
       ]
      },
      {
       "output_type": "stream",
       "stream": "stdout",
       "text": [
        "\n",
        "Finished protein ENSG00000142875.15"
       ]
      },
      {
       "output_type": "stream",
       "stream": "stdout",
       "text": [
        "\n",
        "Finished protein ENSG00000143322.15"
       ]
      },
      {
       "output_type": "stream",
       "stream": "stdout",
       "text": [
        "\n",
        "Finished protein ENSG00000143466.9"
       ]
      },
      {
       "output_type": "stream",
       "stream": "stdout",
       "text": [
        "\n",
        "Finished protein ENSG00000143479.11"
       ]
      },
      {
       "output_type": "stream",
       "stream": "stdout",
       "text": [
        "\n",
        "Finished protein ENSG00000143674.6"
       ]
      },
      {
       "output_type": "stream",
       "stream": "stdout",
       "text": [
        "\n",
        "Finished protein ENSG00000143776.14"
       ]
      },
      {
       "output_type": "stream",
       "stream": "stdout",
       "text": [
        "\n",
        "Finished protein ENSG00000151414.10"
       ]
      },
      {
       "output_type": "stream",
       "stream": "stdout",
       "text": [
        "\n",
        "Finished protein ENSG00000152332.11"
       ]
      },
      {
       "output_type": "stream",
       "stream": "stdout",
       "text": [
        "\n",
        "Finished protein ENSG00000154358.15"
       ]
      },
      {
       "output_type": "stream",
       "stream": "stdout",
       "text": [
        "\n",
        "Finished protein ENSG00000158828.5"
       ]
      },
      {
       "output_type": "stream",
       "stream": "stdout",
       "text": [
        "\n",
        "Finished protein ENSG00000162409.6"
       ]
      },
      {
       "output_type": "stream",
       "stream": "stdout",
       "text": [
        "\n",
        "Finished protein ENSG00000162434.7"
       ]
      },
      {
       "output_type": "stream",
       "stream": "stdout",
       "text": [
        "\n",
        "Finished protein ENSG00000162526.6"
       ]
      },
      {
       "output_type": "stream",
       "stream": "stdout",
       "text": [
        "\n",
        "Finished protein ENSG00000162733.12"
       ]
      },
      {
       "output_type": "stream",
       "stream": "stdout",
       "text": [
        "\n",
        "Finished protein ENSG00000162889.6"
       ]
      },
      {
       "output_type": "stream",
       "stream": "stdout",
       "text": [
        "\n",
        "Finished protein ENSG00000163349.17"
       ]
      },
      {
       "output_type": "stream",
       "stream": "stdout",
       "text": [
        "\n",
        "Finished protein ENSG00000163545.7"
       ]
      },
      {
       "output_type": "stream",
       "stream": "stdout",
       "text": [
        "\n",
        "Finished protein ENSG00000169418.9"
       ]
      },
      {
       "output_type": "stream",
       "stream": "stdout",
       "text": [
        "\n",
        "Finished protein ENSG00000173846.8"
       ]
      },
      {
       "output_type": "stream",
       "stream": "stdout",
       "text": [
        "\n",
        "Finished protein ENSG00000175087.5"
       ]
      },
      {
       "output_type": "stream",
       "stream": "stdout",
       "text": [
        "\n",
        "Finished protein ENSG00000176444.14"
       ]
      },
      {
       "output_type": "stream",
       "stream": "stdout",
       "text": [
        "\n",
        "Finished protein ENSG00000182866.12"
       ]
      },
      {
       "output_type": "stream",
       "stream": "stdout",
       "text": [
        "\n",
        "exac_validation_checks 38186225 ExAC amino acid is blank"
       ]
      },
      {
       "output_type": "stream",
       "stream": "stdout",
       "text": [
        "\n",
        "calc_exac_maf_data 38186225 Error: the ExAC alt aa  doesn't match my alt aa calculation Q\n",
        "Finished protein ENSG00000183317.12"
       ]
      },
      {
       "output_type": "stream",
       "stream": "stdout",
       "text": [
        "\n",
        "Finished protein ENSG00000185483.7"
       ]
      },
      {
       "output_type": "stream",
       "stream": "stdout",
       "text": [
        "\n",
        "Finished protein ENSG00000196182.6"
       ]
      },
      {
       "output_type": "stream",
       "stream": "stdout",
       "text": [
        "\n",
        "Finished protein ENSG00000198400.7"
       ]
      },
      {
       "output_type": "stream",
       "stream": "stdout",
       "text": [
        "\n",
        "Finished protein ENSG00000248333.3"
       ]
      },
      {
       "output_type": "stream",
       "stream": "stdout",
       "text": [
        "\n",
        "Finished protein ENSG00000259030.2"
       ]
      },
      {
       "output_type": "stream",
       "stream": "stdout",
       "text": [
        "\n",
        "Finished chromosome 1\n",
        "Finished protein ENSG00000011566.10"
       ]
      },
      {
       "output_type": "stream",
       "stream": "stdout",
       "text": [
        "\n",
        "exac_validation_checks 201722812 ExAC amino acid is blank"
       ]
      },
      {
       "output_type": "stream",
       "stream": "stdout",
       "text": [
        "\n",
        "calc_exac_maf_data 201722812 Error: the ExAC alt aa  doesn't match my alt aa calculation A\n",
        "Finished protein ENSG00000013441.11"
       ]
      },
      {
       "output_type": "stream",
       "stream": "stdout",
       "text": [
        "\n",
        "Finished protein ENSG00000028116.12"
       ]
      },
      {
       "output_type": "stream",
       "stream": "stdout",
       "text": [
        "\n",
        "Finished protein ENSG00000055332.12"
       ]
      },
      {
       "output_type": "stream",
       "stream": "stdout",
       "text": [
        "\n",
        "Finished protein ENSG00000071054.11"
       ]
      },
      {
       "output_type": "stream",
       "stream": "stdout",
       "text": [
        "\n",
        "Finished protein ENSG00000071575.7"
       ]
      },
      {
       "output_type": "stream",
       "stream": "stdout",
       "text": [
        "\n",
        "Finished protein ENSG00000071909.14"
       ]
      },
      {
       "output_type": "stream",
       "stream": "stdout",
       "text": [
        "\n",
        "Finished protein ENSG00000072195.10"
       ]
      },
      {
       "output_type": "stream",
       "stream": "stdout",
       "text": [
        "\n",
        "Finished protein ENSG00000081320.6"
       ]
      },
      {
       "output_type": "stream",
       "stream": "stdout",
       "text": [
        "\n",
        "Finished protein ENSG00000082146.8"
       ]
      },
      {
       "output_type": "stream",
       "stream": "stdout",
       "text": [
        "\n",
        "Finished protein ENSG00000091436.12"
       ]
      },
      {
       "output_type": "stream",
       "stream": "stdout",
       "text": [
        "\n",
        "Finished protein ENSG00000115085.9"
       ]
      },
      {
       "output_type": "stream",
       "stream": "stdout",
       "text": [
        "\n",
        "Finished protein ENSG00000115170.9"
       ]
      },
      {
       "output_type": "stream",
       "stream": "stdout",
       "text": [
        "\n",
        "Finished protein ENSG00000115216.9"
       ]
      },
      {
       "output_type": "stream",
       "stream": "stdout",
       "text": [
        "\n",
        "Finished protein ENSG00000115661.9"
       ]
      },
      {
       "output_type": "stream",
       "stream": "stdout",
       "text": [
        "\n",
        "Finished protein ENSG00000115687.9"
       ]
      },
      {
       "output_type": "stream",
       "stream": "stdout",
       "text": [
        "\n",
        "Finished protein ENSG00000115694.10"
       ]
      },
      {
       "output_type": "stream",
       "stream": "stdout",
       "text": [
        "\n",
        "Finished protein ENSG00000115825.5"
       ]
      },
      {
       "output_type": "stream",
       "stream": "stdout",
       "text": [
        "\n",
        "Finished protein ENSG00000115977.14"
       ]
      },
      {
       "output_type": "stream",
       "stream": "stdout",
       "text": [
        "\n",
        "Finished protein ENSG00000116106.7"
       ]
      },
      {
       "output_type": "stream",
       "stream": "stdout",
       "text": [
        "\n",
        "Finished protein ENSG00000121989.10"
       ]
      },
      {
       "output_type": "stream",
       "stream": "stdout",
       "text": [
        "\n",
        "Finished protein ENSG00000123612.11"
       ]
      },
      {
       "output_type": "stream",
       "stream": "stdout",
       "text": [
        "\n",
        "Finished protein ENSG00000134318.9"
       ]
      },
      {
       "output_type": "stream",
       "stream": "stdout",
       "text": [
        "\n",
        "Finished protein ENSG00000138395.10"
       ]
      },
      {
       "output_type": "stream",
       "stream": "stdout",
       "text": [
        "\n",
        "Finished protein ENSG00000153208.12"
       ]
      },
      {
       "output_type": "stream",
       "stream": "stdout",
       "text": [
        "\n",
        "Finished protein ENSG00000155657.19"
       ]
      },
      {
       "output_type": "stream",
       "stream": "stdout",
       "text": [
        "\n",
        "Finished protein ENSG00000163482.7"
       ]
      },
      {
       "output_type": "stream",
       "stream": "stdout",
       "text": [
        "\n",
        "Finished protein ENSG00000169967.12"
       ]
      },
      {
       "output_type": "stream",
       "stream": "stdout",
       "text": [
        "\n",
        "Finished protein ENSG00000171094.11"
       ]
      },
      {
       "output_type": "stream",
       "stream": "stdout",
       "text": [
        "\n",
        "Finished protein ENSG00000171132.9"
       ]
      },
      {
       "output_type": "stream",
       "stream": "stdout",
       "text": [
        "\n",
        "Finished protein ENSG00000172071.7"
       ]
      },
      {
       "output_type": "stream",
       "stream": "stdout",
       "text": [
        "\n",
        "Finished protein ENSG00000176601.7"
       ]
      },
      {
       "output_type": "stream",
       "stream": "stdout",
       "text": [
        "\n",
        "Finished protein ENSG00000178568.9"
       ]
      },
      {
       "output_type": "stream",
       "stream": "stdout",
       "text": [
        "\n",
        "Finished protein ENSG00000198586.9"
       ]
      },
      {
       "output_type": "stream",
       "stream": "stdout",
       "text": [
        "\n",
        "Finished protein ENSG00000198648.6"
       ]
      },
      {
       "output_type": "stream",
       "stream": "stdout",
       "text": [
        "\n",
        "Finished protein ENSG00000204217.8"
       ]
      },
      {
       "output_type": "stream",
       "stream": "stdout",
       "text": [
        "\n",
        "Finished protein ENSG00000205111.4"
       ]
      },
      {
       "output_type": "stream",
       "stream": "stdout",
       "text": [
        "\n",
        "Finished chromosome 2\n",
        "Finished protein ENSG00000044524.6"
       ]
      },
      {
       "output_type": "stream",
       "stream": "stdout",
       "text": [
        "\n",
        "Finished protein ENSG00000061938.12"
       ]
      },
      {
       "output_type": "stream",
       "stream": "stdout",
       "text": [
        "\n",
        "Finished protein ENSG00000065534.14"
       ]
      },
      {
       "output_type": "stream",
       "stream": "stdout",
       "text": [
        "\n",
        "Finished protein ENSG00000073803.9"
       ]
      },
      {
       "output_type": "stream",
       "stream": "stdout",
       "text": [
        "\n",
        "Finished protein ENSG00000080224.13"
       ]
      },
      {
       "output_type": "stream",
       "stream": "stdout",
       "text": [
        "\n",
        "Finished protein ENSG00000082701.10"
       ]
      },
      {
       "output_type": "stream",
       "stream": "stdout",
       "text": [
        "\n",
        "Finished protein ENSG00000114124.2"
       ]
      },
      {
       "output_type": "stream",
       "stream": "stdout",
       "text": [
        "\n",
        "Finished protein ENSG00000114670.9"
       ]
      },
      {
       "output_type": "stream",
       "stream": "stdout",
       "text": [
        "\n",
        "Finished protein ENSG00000114738.6"
       ]
      },
      {
       "output_type": "stream",
       "stream": "stdout",
       "text": [
        "\n",
        "Finished protein ENSG00000114739.9"
       ]
      },
      {
       "output_type": "stream",
       "stream": "stdout",
       "text": [
        "\n",
        "Finished protein ENSG00000114904.8"
       ]
      },
      {
       "output_type": "stream",
       "stream": "stdout",
       "text": [
        "\n",
        "Finished protein ENSG00000132155.7"
       ]
      },
      {
       "output_type": "stream",
       "stream": "stdout",
       "text": [
        "\n",
        "Finished protein ENSG00000134070.4"
       ]
      },
      {
       "output_type": "stream",
       "stream": "stdout",
       "text": [
        "\n",
        "Finished protein ENSG00000134072.6"
       ]
      },
      {
       "output_type": "stream",
       "stream": "stdout",
       "text": [
        "\n",
        "exac_validation_checks 170912422 ExAC amino acid is blank"
       ]
      },
      {
       "output_type": "stream",
       "stream": "stdout",
       "text": [
        "\n",
        "calc_exac_maf_data 170912422 Error: the ExAC alt aa  doesn't match my alt aa calculation F\n",
        "exac_validation_checks 170912412 ExAC amino acid is blank"
       ]
      },
      {
       "output_type": "stream",
       "stream": "stdout",
       "text": [
        "\n",
        "calc_exac_maf_data 170912412 Error: the ExAC alt aa  doesn't match my alt aa calculation I\n",
        "Finished protein ENSG00000154310.12"
       ]
      },
      {
       "output_type": "stream",
       "stream": "stdout",
       "text": [
        "\n",
        "Finished protein ENSG00000154928.12"
       ]
      },
      {
       "output_type": "stream",
       "stream": "stdout",
       "text": [
        "\n",
        "Finished protein ENSG00000160145.11"
       ]
      },
      {
       "output_type": "stream",
       "stream": "stdout",
       "text": [
        "\n",
        "Finished protein ENSG00000163491.12"
       ]
      },
      {
       "output_type": "stream",
       "stream": "stdout",
       "text": [
        "\n",
        "Finished protein ENSG00000163513.13"
       ]
      },
      {
       "output_type": "stream",
       "stream": "stdout",
       "text": [
        "\n",
        "Finished protein ENSG00000163558.8"
       ]
      },
      {
       "output_type": "stream",
       "stream": "stdout",
       "text": [
        "\n",
        "Finished protein ENSG00000163673.6"
       ]
      },
      {
       "output_type": "stream",
       "stream": "stdout",
       "text": [
        "\n",
        "Finished protein ENSG00000163785.8"
       ]
      },
      {
       "output_type": "stream",
       "stream": "stdout",
       "text": [
        "\n",
        "Finished protein ENSG00000163788.9"
       ]
      },
      {
       "output_type": "stream",
       "stream": "stdout",
       "text": [
        "\n",
        "Finished protein ENSG00000163932.9"
       ]
      },
      {
       "output_type": "stream",
       "stream": "stdout",
       "text": [
        "\n",
        "Finished protein ENSG00000164076.12"
       ]
      },
      {
       "output_type": "stream",
       "stream": "stdout",
       "text": [
        "\n",
        "Finished protein ENSG00000164078.8"
       ]
      },
      {
       "output_type": "stream",
       "stream": "stdout",
       "text": [
        "\n",
        "exac_validation_checks 41973461 ExAC amino acid is blank"
       ]
      },
      {
       "output_type": "stream",
       "stream": "stdout",
       "text": [
        "\n",
        "calc_exac_maf_data 41973461 Error: the ExAC alt aa  doesn't match my alt aa calculation S\n",
        "Finished protein ENSG00000168038.6"
       ]
      },
      {
       "output_type": "stream",
       "stream": "stdout",
       "text": [
        "\n",
        "Finished protein ENSG00000172939.4"
       ]
      },
      {
       "output_type": "stream",
       "stream": "stdout",
       "text": [
        "\n",
        "Finished protein ENSG00000180370.6"
       ]
      },
      {
       "output_type": "stream",
       "stream": "stdout",
       "text": [
        "\n",
        "Finished protein ENSG00000182580.2"
       ]
      },
      {
       "output_type": "stream",
       "stream": "stdout",
       "text": [
        "\n",
        "Finished chromosome 3\n",
        "Finished protein ENSG00000068078.13"
       ]
      },
      {
       "output_type": "stream",
       "stream": "stdout",
       "text": [
        "\n",
        "Finished protein ENSG00000074966.6"
       ]
      },
      {
       "output_type": "stream",
       "stream": "stdout",
       "text": [
        "\n",
        "Finished protein ENSG00000109339.14"
       ]
      },
      {
       "output_type": "stream",
       "stream": "stdout",
       "text": [
        "\n",
        "Finished protein ENSG00000125388.15"
       ]
      },
      {
       "output_type": "stream",
       "stream": "stdout",
       "text": [
        "\n",
        "Finished protein ENSG00000128052.8"
       ]
      },
      {
       "output_type": "stream",
       "stream": "stdout",
       "text": [
        "\n",
        "Finished protein ENSG00000134853.7"
       ]
      },
      {
       "output_type": "stream",
       "stream": "stdout",
       "text": [
        "\n",
        "Finished protein ENSG00000135605.8"
       ]
      },
      {
       "output_type": "stream",
       "stream": "stdout",
       "text": [
        "\n",
        "Finished protein ENSG00000137601.11"
       ]
      },
      {
       "output_type": "stream",
       "stream": "stdout",
       "text": [
        "\n",
        "Finished protein ENSG00000138669.5"
       ]
      },
      {
       "output_type": "stream",
       "stream": "stdout",
       "text": [
        "\n",
        "Finished protein ENSG00000138696.6"
       ]
      },
      {
       "output_type": "stream",
       "stream": "stdout",
       "text": [
        "\n",
        "Finished protein ENSG00000138756.13"
       ]
      },
      {
       "output_type": "stream",
       "stream": "stdout",
       "text": [
        "\n",
        "Finished protein ENSG00000138769.6"
       ]
      },
      {
       "output_type": "stream",
       "stream": "stdout",
       "text": [
        "\n",
        "Finished protein ENSG00000142731.6"
       ]
      },
      {
       "output_type": "stream",
       "stream": "stdout",
       "text": [
        "\n",
        "Finished protein ENSG00000145216.11"
       ]
      },
      {
       "output_type": "stream",
       "stream": "stdout",
       "text": [
        "\n",
        "Finished protein ENSG00000145242.9"
       ]
      },
      {
       "output_type": "stream",
       "stream": "stdout",
       "text": [
        "\n",
        "Finished protein ENSG00000145348.12"
       ]
      },
      {
       "output_type": "stream",
       "stream": "stdout",
       "text": [
        "\n",
        "Finished protein ENSG00000145349.12"
       ]
      },
      {
       "output_type": "stream",
       "stream": "stdout",
       "text": [
        "\n",
        "Finished protein ENSG00000152953.8"
       ]
      },
      {
       "output_type": "stream",
       "stream": "stdout",
       "text": [
        "\n",
        "Finished protein ENSG00000157404.11"
       ]
      },
      {
       "output_type": "stream",
       "stream": "stdout",
       "text": [
        "\n",
        "Finished protein ENSG00000170390.10"
       ]
      },
      {
       "output_type": "stream",
       "stream": "stdout",
       "text": [
        "\n",
        "Finished protein ENSG00000178950.12"
       ]
      },
      {
       "output_type": "stream",
       "stream": "stdout",
       "text": [
        "\n",
        "Finished chromosome 4\n",
        "Finished protein ENSG00000006837.7"
       ]
      },
      {
       "output_type": "stream",
       "stream": "stdout",
       "text": [
        "\n",
        "Finished protein ENSG00000037280.11"
       ]
      },
      {
       "output_type": "stream",
       "stream": "stdout",
       "text": [
        "\n",
        "Finished protein ENSG00000038382.13"
       ]
      },
      {
       "output_type": "stream",
       "stream": "stdout",
       "text": [
        "\n",
        "Finished protein ENSG00000050748.13"
       ]
      },
      {
       "output_type": "stream",
       "stream": "stdout",
       "text": [
        "\n",
        "Finished protein ENSG00000069020.14"
       ]
      },
      {
       "output_type": "stream",
       "stream": "stdout",
       "text": [
        "\n",
        "Finished protein ENSG00000070808.11"
       ]
      },
      {
       "output_type": "stream",
       "stream": "stdout",
       "text": [
        "\n",
        "Finished protein ENSG00000072786.8"
       ]
      },
      {
       "output_type": "stream",
       "stream": "stdout",
       "text": [
        "\n",
        "Finished protein ENSG00000095015.5"
       ]
      },
      {
       "output_type": "stream",
       "stream": "stdout",
       "text": [
        "\n",
        "Finished protein ENSG00000113240.8"
       ]
      },
      {
       "output_type": "stream",
       "stream": "stdout",
       "text": [
        "\n",
        "Finished protein ENSG00000113263.8"
       ]
      },
      {
       "output_type": "stream",
       "stream": "stdout",
       "text": [
        "\n",
        "Finished protein ENSG00000113712.12"
       ]
      },
      {
       "output_type": "stream",
       "stream": "stdout",
       "text": [
        "\n",
        "Finished protein ENSG00000113721.9"
       ]
      },
      {
       "output_type": "stream",
       "stream": "stdout",
       "text": [
        "\n",
        "Finished protein ENSG00000132356.7"
       ]
      },
      {
       "output_type": "stream",
       "stream": "stdout",
       "text": [
        "\n",
        "Finished protein ENSG00000134058.6"
       ]
      },
      {
       "output_type": "stream",
       "stream": "stdout",
       "text": [
        "\n",
        "Finished protein ENSG00000145632.10"
       ]
      },
      {
       "output_type": "stream",
       "stream": "stdout",
       "text": [
        "\n",
        "Finished protein ENSG00000151292.13"
       ]
      },
      {
       "output_type": "stream",
       "stream": "stdout",
       "text": [
        "\n",
        "Finished protein ENSG00000151422.8"
       ]
      },
      {
       "output_type": "stream",
       "stream": "stdout",
       "text": [
        "\n",
        "Finished protein ENSG00000152495.6"
       ]
      },
      {
       "output_type": "stream",
       "stream": "stdout",
       "text": [
        "\n",
        "Finished protein ENSG00000160867.10"
       ]
      },
      {
       "output_type": "stream",
       "stream": "stdout",
       "text": [
        "\n",
        "Finished protein ENSG00000169302.10"
       ]
      },
      {
       "output_type": "stream",
       "stream": "stdout",
       "text": [
        "\n",
        "Finished protein ENSG00000177453.3"
       ]
      },
      {
       "output_type": "stream",
       "stream": "stdout",
       "text": [
        "\n",
        "Finished protein ENSG00000182578.9"
       ]
      },
      {
       "output_type": "stream",
       "stream": "stdout",
       "text": [
        "\n",
        "Finished protein ENSG00000198055.6"
       ]
      },
      {
       "output_type": "stream",
       "stream": "stdout",
       "text": [
        "\n",
        "Finished protein ENSG00000212122.3"
       ]
      },
      {
       "output_type": "stream",
       "stream": "stdout",
       "text": [
        "\n",
        "Finished chromosome 5\n",
        "Finished protein ENSG00000010810.13"
       ]
      },
      {
       "output_type": "stream",
       "stream": "stdout",
       "text": [
        "\n",
        "Finished protein ENSG00000047936.6"
       ]
      },
      {
       "output_type": "stream",
       "stream": "stdout",
       "text": [
        "\n",
        "Finished protein ENSG00000071242.7"
       ]
      },
      {
       "output_type": "stream",
       "stream": "stdout",
       "text": [
        "\n",
        "Finished protein ENSG00000085511.15"
       ]
      },
      {
       "output_type": "stream",
       "stream": "stdout",
       "text": [
        "\n",
        "Finished protein ENSG00000111816.6"
       ]
      },
      {
       "output_type": "stream",
       "stream": "stdout",
       "text": [
        "\n",
        "Finished protein ENSG00000111837.7"
       ]
      },
      {
       "output_type": "stream",
       "stream": "stdout",
       "text": [
        "\n",
        "Finished protein ENSG00000112062.6"
       ]
      },
      {
       "output_type": "stream",
       "stream": "stdout",
       "text": [
        "\n",
        "Finished protein ENSG00000112079.8"
       ]
      },
      {
       "output_type": "stream",
       "stream": "stdout",
       "text": [
        "\n",
        "Finished protein ENSG00000112144.11"
       ]
      },
      {
       "output_type": "stream",
       "stream": "stdout",
       "text": [
        "\n",
        "Finished protein ENSG00000112655.11"
       ]
      },
      {
       "output_type": "stream",
       "stream": "stdout",
       "text": [
        "\n",
        "Finished protein ENSG00000112739.12"
       ]
      },
      {
       "output_type": "stream",
       "stream": "stdout",
       "text": [
        "\n",
        "Finished protein ENSG00000112742.5"
       ]
      },
      {
       "output_type": "stream",
       "stream": "stdout",
       "text": [
        "\n",
        "Finished protein ENSG00000118515.7"
       ]
      },
      {
       "output_type": "stream",
       "stream": "stdout",
       "text": [
        "\n",
        "Finished protein ENSG00000131023.8"
       ]
      },
      {
       "output_type": "stream",
       "stream": "stdout",
       "text": [
        "\n",
        "Finished protein ENSG00000135333.9"
       ]
      },
      {
       "output_type": "stream",
       "stream": "stdout",
       "text": [
        "\n",
        "Finished protein ENSG00000135341.13"
       ]
      },
      {
       "output_type": "stream",
       "stream": "stdout",
       "text": [
        "\n",
        "Finished protein ENSG00000137193.9"
       ]
      },
      {
       "output_type": "stream",
       "stream": "stdout",
       "text": [
        "\n",
        "Finished protein ENSG00000137275.9"
       ]
      },
      {
       "output_type": "stream",
       "stream": "stdout",
       "text": [
        "\n",
        "Finished protein ENSG00000145949.8"
       ]
      },
      {
       "output_type": "stream",
       "stream": "stdout",
       "text": [
        "\n",
        "Finished protein ENSG00000146216.7"
       ]
      },
      {
       "output_type": "stream",
       "stream": "stdout",
       "text": [
        "\n",
        "Finished protein ENSG00000155111.10"
       ]
      },
      {
       "output_type": "stream",
       "stream": "stdout",
       "text": [
        "\n",
        "Finished protein ENSG00000156711.12"
       ]
      },
      {
       "output_type": "stream",
       "stream": "stdout",
       "text": [
        "\n",
        "Finished protein ENSG00000197442.8"
       ]
      },
      {
       "output_type": "stream",
       "stream": "stdout",
       "text": [
        "\n",
        "Finished protein ENSG00000204580.7"
       ]
      },
      {
       "output_type": "stream",
       "stream": "stdout",
       "text": [
        "\n",
        "Finished chromosome 6\n",
        "Finished protein ENSG00000058091.12"
       ]
      },
      {
       "output_type": "stream",
       "stream": "stdout",
       "text": [
        "\n",
        "Finished protein ENSG00000058404.15"
       ]
      },
      {
       "output_type": "stream",
       "stream": "stdout",
       "text": [
        "\n",
        "Finished protein ENSG00000064393.11"
       ]
      },
      {
       "output_type": "stream",
       "stream": "stdout",
       "text": [
        "\n",
        "Finished protein ENSG00000065883.10"
       ]
      },
      {
       "output_type": "stream",
       "stream": "stdout",
       "text": [
        "\n",
        "Finished protein ENSG00000086232.8"
       ]
      },
      {
       "output_type": "stream",
       "stream": "stdout",
       "text": [
        "\n",
        "Finished protein ENSG00000105810.5"
       ]
      },
      {
       "output_type": "stream",
       "stream": "stdout",
       "text": [
        "\n",
        "Finished protein ENSG00000105976.10"
       ]
      },
      {
       "output_type": "stream",
       "stream": "stdout",
       "text": [
        "\n",
        "Finished protein ENSG00000106123.7"
       ]
      },
      {
       "output_type": "stream",
       "stream": "stdout",
       "text": [
        "\n",
        "Finished protein ENSG00000106683.10"
       ]
      },
      {
       "output_type": "stream",
       "stream": "stdout",
       "text": [
        "\n",
        "Finished protein ENSG00000146648.11"
       ]
      },
      {
       "output_type": "stream",
       "stream": "stdout",
       "text": [
        "\n",
        "Finished protein ENSG00000146904.4"
       ]
      },
      {
       "output_type": "stream",
       "stream": "stdout",
       "text": [
        "\n",
        "Finished protein ENSG00000157764.8"
       ]
      },
      {
       "output_type": "stream",
       "stream": "stdout",
       "text": [
        "\n",
        "Finished protein ENSG00000164543.5"
       ]
      },
      {
       "output_type": "stream",
       "stream": "stdout",
       "text": [
        "\n",
        "Finished protein ENSG00000164715.5"
       ]
      },
      {
       "output_type": "stream",
       "stream": "stdout",
       "text": [
        "\n",
        "Finished protein ENSG00000164776.5"
       ]
      },
      {
       "output_type": "stream",
       "stream": "stdout",
       "text": [
        "\n",
        "Finished protein ENSG00000164885.8"
       ]
      },
      {
       "output_type": "stream",
       "stream": "stdout",
       "text": [
        "\n",
        "Finished protein ENSG00000196411.5"
       ]
      },
      {
       "output_type": "stream",
       "stream": "stdout",
       "text": [
        "\n",
        "Finished protein ENSG00000214102.3"
       ]
      },
      {
       "output_type": "stream",
       "stream": "stdout",
       "text": [
        "\n",
        "Finished chromosome 7\n",
        "Finished protein ENSG00000077782.15"
       ]
      },
      {
       "output_type": "stream",
       "stream": "stdout",
       "text": [
        "\n",
        "Finished protein ENSG00000104205.8"
       ]
      },
      {
       "output_type": "stream",
       "stream": "stdout",
       "text": [
        "\n",
        "Finished protein ENSG00000104312.6"
       ]
      },
      {
       "output_type": "stream",
       "stream": "stdout",
       "text": [
        "\n",
        "Finished protein ENSG00000104365.9"
       ]
      },
      {
       "output_type": "stream",
       "stream": "stdout",
       "text": [
        "\n",
        "Finished protein ENSG00000104375.11"
       ]
      },
      {
       "output_type": "stream",
       "stream": "stdout",
       "text": [
        "\n",
        "Finished protein ENSG00000120899.13"
       ]
      },
      {
       "output_type": "stream",
       "stream": "stdout",
       "text": [
        "\n",
        "Finished protein ENSG00000136573.8"
       ]
      },
      {
       "output_type": "stream",
       "stream": "stdout",
       "text": [
        "\n",
        "Finished protein ENSG00000147613.3"
       ]
      },
      {
       "output_type": "stream",
       "stream": "stdout",
       "text": [
        "\n",
        "Finished protein ENSG00000168078.5"
       ]
      },
      {
       "output_type": "stream",
       "stream": "stdout",
       "text": [
        "\n",
        "Finished protein ENSG00000169398.15"
       ]
      },
      {
       "output_type": "stream",
       "stream": "stdout",
       "text": [
        "\n",
        "Finished protein ENSG00000172680.1"
       ]
      },
      {
       "output_type": "stream",
       "stream": "stdout",
       "text": [
        "\n",
        "Finished protein ENSG00000173334.3"
       ]
      },
      {
       "output_type": "stream",
       "stream": "stdout",
       "text": [
        "\n",
        "Finished protein ENSG00000181085.10"
       ]
      },
      {
       "output_type": "stream",
       "stream": "stdout",
       "text": [
        "\n",
        "Finished protein ENSG00000185189.11"
       ]
      },
      {
       "output_type": "stream",
       "stream": "stdout",
       "text": [
        "\n",
        "Finished protein ENSG00000254087.3"
       ]
      },
      {
       "output_type": "stream",
       "stream": "stdout",
       "text": [
        "\n",
        "Finished protein ENSG00000270024.1"
       ]
      },
      {
       "output_type": "stream",
       "stream": "stdout",
       "text": [
        "\n",
        "Finished chromosome 8\n",
        "Finished protein ENSG00000030304.8"
       ]
      },
      {
       "output_type": "stream",
       "stream": "stdout",
       "text": [
        "\n",
        "Finished protein ENSG00000096968.8"
       ]
      },
      {
       "output_type": "stream",
       "stream": "stdout",
       "text": [
        "\n",
        "Finished protein ENSG00000097007.13"
       ]
      },
      {
       "output_type": "stream",
       "stream": "stdout",
       "text": [
        "\n",
        "Finished protein ENSG00000106799.8"
       ]
      },
      {
       "output_type": "stream",
       "stream": "stdout",
       "text": [
        "\n",
        "Finished protein ENSG00000107140.11"
       ]
      },
      {
       "output_type": "stream",
       "stream": "stdout",
       "text": [
        "\n",
        "Finished protein ENSG00000119408.12"
       ]
      },
      {
       "output_type": "stream",
       "stream": "stdout",
       "text": [
        "\n",
        "Finished protein ENSG00000120156.16"
       ]
      },
      {
       "output_type": "stream",
       "stream": "stdout",
       "text": [
        "\n",
        "Finished protein ENSG00000136807.7"
       ]
      },
      {
       "output_type": "stream",
       "stream": "stdout",
       "text": [
        "\n",
        "Finished protein ENSG00000148053.11"
       ]
      },
      {
       "output_type": "stream",
       "stream": "stdout",
       "text": [
        "\n",
        "Finished protein ENSG00000156345.13"
       ]
      },
      {
       "output_type": "stream",
       "stream": "stdout",
       "text": [
        "\n",
        "Finished protein ENSG00000159899.10"
       ]
      },
      {
       "output_type": "stream",
       "stream": "stdout",
       "text": [
        "\n",
        "exac_validation_checks 131482089 ExAC amino acid is blank"
       ]
      },
      {
       "output_type": "stream",
       "stream": "stdout",
       "text": [
        "\n",
        "calc_exac_maf_data 131482089 Error: the ExAC alt aa  doesn't match my alt aa calculation Y\n",
        "Finished protein ENSG00000160447.6"
       ]
      },
      {
       "output_type": "stream",
       "stream": "stdout",
       "text": [
        "\n",
        "Finished protein ENSG00000165025.10"
       ]
      },
      {
       "output_type": "stream",
       "stream": "stdout",
       "text": [
        "\n",
        "Finished protein ENSG00000165059.5"
       ]
      },
      {
       "output_type": "stream",
       "stream": "stdout",
       "text": [
        "\n",
        "Finished protein ENSG00000165238.12"
       ]
      },
      {
       "output_type": "stream",
       "stream": "stdout",
       "text": [
        "\n",
        "Finished protein ENSG00000165304.3"
       ]
      },
      {
       "output_type": "stream",
       "stream": "stdout",
       "text": [
        "\n",
        "Finished protein ENSG00000169071.10"
       ]
      },
      {
       "output_type": "stream",
       "stream": "stdout",
       "text": [
        "\n",
        "Finished protein ENSG00000196730.8"
       ]
      },
      {
       "output_type": "stream",
       "stream": "stdout",
       "text": [
        "\n",
        "Finished protein ENSG00000198870.6"
       ]
      },
      {
       "output_type": "stream",
       "stream": "stdout",
       "text": [
        "\n",
        "Finished chromosome 9\n",
        "Finished protein ENSG00000065613.9"
       ]
      },
      {
       "output_type": "stream",
       "stream": "stdout",
       "text": [
        "\n",
        "Finished protein ENSG00000065675.10"
       ]
      },
      {
       "output_type": "stream",
       "stream": "stdout",
       "text": [
        "\n",
        "Finished protein ENSG00000066468.16"
       ]
      },
      {
       "output_type": "stream",
       "stream": "stdout",
       "text": [
        "\n",
        "Finished protein ENSG00000095777.10"
       ]
      },
      {
       "output_type": "stream",
       "stream": "stdout",
       "text": [
        "\n",
        "Finished protein ENSG00000107643.11"
       ]
      },
      {
       "output_type": "stream",
       "stream": "stdout",
       "text": [
        "\n",
        "Finished protein ENSG00000107779.7"
       ]
      },
      {
       "output_type": "stream",
       "stream": "stdout",
       "text": [
        "\n",
        "Finished protein ENSG00000107968.5"
       ]
      },
      {
       "output_type": "stream",
       "stream": "stdout",
       "text": [
        "\n",
        "Finished protein ENSG00000120539.10"
       ]
      },
      {
       "output_type": "stream",
       "stream": "stdout",
       "text": [
        "\n",
        "Finished protein ENSG00000148660.16"
       ]
      },
      {
       "output_type": "stream",
       "stream": "stdout",
       "text": [
        "\n",
        "Finished protein ENSG00000165731.13"
       ]
      },
      {
       "output_type": "stream",
       "stream": "stdout",
       "text": [
        "\n",
        "Finished protein ENSG00000165752.12"
       ]
      },
      {
       "output_type": "stream",
       "stream": "stdout",
       "text": [
        "\n",
        "Finished protein ENSG00000170312.11"
       ]
      },
      {
       "output_type": "stream",
       "stream": "stdout",
       "text": [
        "\n",
        "Finished protein ENSG00000183049.8"
       ]
      },
      {
       "output_type": "stream",
       "stream": "stdout",
       "text": [
        "\n",
        "Finished protein ENSG00000185532.10"
       ]
      },
      {
       "output_type": "stream",
       "stream": "stdout",
       "text": [
        "\n",
        "Finished protein ENSG00000198873.10"
       ]
      },
      {
       "output_type": "stream",
       "stream": "stdout",
       "text": [
        "\n",
        "Finished protein ENSG00000213341.6"
       ]
      },
      {
       "output_type": "stream",
       "stream": "stdout",
       "text": [
        "\n",
        "Finished chromosome 10\n",
        "Finished protein ENSG00000072518.16"
       ]
      },
      {
       "output_type": "stream",
       "stream": "stdout",
       "text": [
        "\n",
        "Finished protein ENSG00000110422.7"
       ]
      },
      {
       "output_type": "stream",
       "stream": "stdout",
       "text": [
        "\n",
        "Finished protein ENSG00000130413.11"
       ]
      },
      {
       "output_type": "stream",
       "stream": "stdout",
       "text": [
        "\n",
        "Finished protein ENSG00000149269.5"
       ]
      },
      {
       "output_type": "stream",
       "stream": "stdout",
       "text": [
        "\n",
        "Finished protein ENSG00000149554.8"
       ]
      },
      {
       "output_type": "stream",
       "stream": "stdout",
       "text": [
        "\n",
        "Finished protein ENSG00000160584.11"
       ]
      },
      {
       "output_type": "stream",
       "stream": "stdout",
       "text": [
        "\n",
        "Finished protein ENSG00000162302.8"
       ]
      },
      {
       "output_type": "stream",
       "stream": "stdout",
       "text": [
        "\n",
        "Finished protein ENSG00000166333.9"
       ]
      },
      {
       "output_type": "stream",
       "stream": "stdout",
       "text": [
        "\n",
        "Finished protein ENSG00000166483.6"
       ]
      },
      {
       "output_type": "stream",
       "stream": "stdout",
       "text": [
        "\n",
        "Finished protein ENSG00000168067.7"
       ]
      },
      {
       "output_type": "stream",
       "stream": "stdout",
       "text": [
        "\n",
        "Finished protein ENSG00000170145.4"
       ]
      },
      {
       "output_type": "stream",
       "stream": "stdout",
       "text": [
        "\n",
        "Finished protein ENSG00000170209.4"
       ]
      },
      {
       "output_type": "stream",
       "stream": "stdout",
       "text": [
        "\n",
        "Finished protein ENSG00000171219.8"
       ]
      },
      {
       "output_type": "stream",
       "stream": "stdout",
       "text": [
        "\n",
        "Finished protein ENSG00000173020.6"
       ]
      },
      {
       "output_type": "stream",
       "stream": "stdout",
       "text": [
        "\n",
        "Finished protein ENSG00000173327.3"
       ]
      },
      {
       "output_type": "stream",
       "stream": "stdout",
       "text": [
        "\n",
        "Finished protein ENSG00000174672.11"
       ]
      },
      {
       "output_type": "stream",
       "stream": "stdout",
       "text": [
        "\n",
        "exac_validation_checks 67200299 ExAC amino acid is blank"
       ]
      },
      {
       "output_type": "stream",
       "stream": "stdout",
       "text": [
        "\n",
        "calc_exac_maf_data 67200299 Error: the ExAC alt aa  doesn't match my alt aa calculation C\n",
        "Finished protein ENSG00000175634.10"
       ]
      },
      {
       "output_type": "stream",
       "stream": "stdout",
       "text": [
        "\n",
        "Finished protein ENSG00000254598.2"
       ]
      },
      {
       "output_type": "stream",
       "stream": "stdout",
       "text": [
        "\n",
        "Finished chromosome 11\n",
        "Finished protein ENSG00000010219.9"
       ]
      },
      {
       "output_type": "stream",
       "stream": "stdout",
       "text": [
        "\n",
        "Finished protein ENSG00000059758.3"
       ]
      },
      {
       "output_type": "stream",
       "stream": "stdout",
       "text": [
        "\n",
        "Finished protein ENSG00000060140.4"
       ]
      },
      {
       "output_type": "stream",
       "stream": "stdout",
       "text": [
        "\n",
        "Finished protein ENSG00000060237.12"
       ]
      },
      {
       "output_type": "stream",
       "stream": "stdout",
       "text": [
        "\n",
        "Finished protein ENSG00000065361.10"
       ]
      },
      {
       "output_type": "stream",
       "stream": "stdout",
       "text": [
        "\n",
        "Finished protein ENSG00000070019.3"
       ]
      },
      {
       "output_type": "stream",
       "stream": "stdout",
       "text": [
        "\n",
        "Finished protein ENSG00000074590.9"
       ]
      },
      {
       "output_type": "stream",
       "stream": "stdout",
       "text": [
        "\n",
        "Finished protein ENSG00000089022.9"
       ]
      },
      {
       "output_type": "stream",
       "stream": "stdout",
       "text": [
        "\n",
        "Finished protein ENSG00000090376.4"
       ]
      },
      {
       "output_type": "stream",
       "stream": "stdout",
       "text": [
        "\n",
        "Finished protein ENSG00000110931.14"
       ]
      },
      {
       "output_type": "stream",
       "stream": "stdout",
       "text": [
        "\n",
        "Finished protein ENSG00000122966.9"
       ]
      },
      {
       "output_type": "stream",
       "stream": "stdout",
       "text": [
        "\n",
        "Finished protein ENSG00000123374.6"
       ]
      },
      {
       "output_type": "stream",
       "stream": "stdout",
       "text": [
        "\n",
        "Finished protein ENSG00000127334.10"
       ]
      },
      {
       "output_type": "stream",
       "stream": "stdout",
       "text": [
        "\n",
        "Finished protein ENSG00000135090.9"
       ]
      },
      {
       "output_type": "stream",
       "stream": "stdout",
       "text": [
        "\n",
        "Finished protein ENSG00000135409.6"
       ]
      },
      {
       "output_type": "stream",
       "stream": "stdout",
       "text": [
        "\n",
        "Finished protein ENSG00000135446.12"
       ]
      },
      {
       "output_type": "stream",
       "stream": "stdout",
       "text": [
        "\n",
        "Finished protein ENSG00000135503.8"
       ]
      },
      {
       "output_type": "stream",
       "stream": "stdout",
       "text": [
        "\n",
        "Finished protein ENSG00000136021.13"
       ]
      },
      {
       "output_type": "stream",
       "stream": "stdout",
       "text": [
        "\n",
        "Finished protein ENSG00000139567.8"
       ]
      },
      {
       "output_type": "stream",
       "stream": "stdout",
       "text": [
        "\n",
        "Finished protein ENSG00000139625.8"
       ]
      },
      {
       "output_type": "stream",
       "stream": "stdout",
       "text": [
        "\n",
        "Finished protein ENSG00000171435.9"
       ]
      },
      {
       "output_type": "stream",
       "stream": "stdout",
       "text": [
        "\n",
        "Finished protein ENSG00000177169.5"
       ]
      },
      {
       "output_type": "stream",
       "stream": "stdout",
       "text": [
        "\n",
        "Finished protein ENSG00000183735.5"
       ]
      },
      {
       "output_type": "stream",
       "stream": "stdout",
       "text": [
        "\n",
        "Finished protein ENSG00000188906.9"
       ]
      },
      {
       "output_type": "stream",
       "stream": "stdout",
       "text": [
        "\n",
        "Finished protein ENSG00000198001.9"
       ]
      },
      {
       "output_type": "stream",
       "stream": "stdout",
       "text": [
        "\n",
        "Finished protein ENSG00000211455.3"
       ]
      },
      {
       "output_type": "stream",
       "stream": "stdout",
       "text": [
        "\n",
        "Finished chromosome 12\n",
        "Finished protein ENSG00000102572.10"
       ]
      },
      {
       "output_type": "stream",
       "stream": "stdout",
       "text": [
        "\n",
        "Finished protein ENSG00000102755.6"
       ]
      },
      {
       "output_type": "stream",
       "stream": "stdout",
       "text": [
        "\n",
        "Finished protein ENSG00000122025.10"
       ]
      },
      {
       "output_type": "stream",
       "stream": "stdout",
       "text": [
        "\n",
        "Finished protein ENSG00000132964.7"
       ]
      },
      {
       "output_type": "stream",
       "stream": "stdout",
       "text": [
        "\n",
        "Finished protein ENSG00000133083.10"
       ]
      },
      {
       "output_type": "stream",
       "stream": "stdout",
       "text": [
        "\n",
        "Finished protein ENSG00000136098.12"
       ]
      },
      {
       "output_type": "stream",
       "stream": "stdout",
       "text": [
        "\n",
        "Finished protein ENSG00000150457.7"
       ]
      },
      {
       "output_type": "stream",
       "stream": "stdout",
       "text": [
        "\n",
        "Finished protein ENSG00000180138.6"
       ]
      },
      {
       "output_type": "stream",
       "stream": "stdout",
       "text": [
        "\n",
        "Finished protein ENSG00000185974.6"
       ]
      },
      {
       "output_type": "stream",
       "stream": "stdout",
       "text": [
        "\n",
        "Finished protein ENSG00000197168.7"
       ]
      },
      {
       "output_type": "stream",
       "stream": "stdout",
       "text": [
        "\n",
        "Finished chromosome 13\n",
        "Finished protein ENSG00000006432.11"
       ]
      },
      {
       "output_type": "stream",
       "stream": "stdout",
       "text": [
        "\n",
        "Finished protein ENSG00000012983.7"
       ]
      },
      {
       "output_type": "stream",
       "stream": "stdout",
       "text": [
        "\n",
        "Finished protein ENSG00000027075.9"
       ]
      },
      {
       "output_type": "stream",
       "stream": "stdout",
       "text": [
        "\n",
        "Finished protein ENSG00000075413.13"
       ]
      },
      {
       "output_type": "stream",
       "stream": "stdout",
       "text": [
        "\n",
        "Finished protein ENSG00000080823.17"
       ]
      },
      {
       "output_type": "stream",
       "stream": "stdout",
       "text": [
        "\n",
        "Finished protein ENSG00000100490.5"
       ]
      },
      {
       "output_type": "stream",
       "stream": "stdout",
       "text": [
        "\n",
        "Finished protein ENSG00000100749.3"
       ]
      },
      {
       "output_type": "stream",
       "stream": "stdout",
       "text": [
        "\n",
        "exac_validation_checks 91409529 ExAC amino acid is blank"
       ]
      },
      {
       "output_type": "stream",
       "stream": "stdout",
       "text": [
        "\n",
        "calc_exac_maf_data 91409529 Error: the ExAC alt aa  doesn't match my alt aa calculation L\n",
        "Finished protein ENSG00000100784.5"
       ]
      },
      {
       "output_type": "stream",
       "stream": "stdout",
       "text": [
        "\n",
        "Finished protein ENSG00000119638.8"
       ]
      },
      {
       "output_type": "stream",
       "stream": "stdout",
       "text": [
        "\n",
        "Finished protein ENSG00000129465.11"
       ]
      },
      {
       "output_type": "stream",
       "stream": "stdout",
       "text": [
        "\n",
        "Finished protein ENSG00000139908.10"
       ]
      },
      {
       "output_type": "stream",
       "stream": "stdout",
       "text": [
        "\n",
        "Finished protein ENSG00000142208.11"
       ]
      },
      {
       "output_type": "stream",
       "stream": "stdout",
       "text": [
        "\n",
        "Finished protein ENSG00000184304.10"
       ]
      },
      {
       "output_type": "stream",
       "stream": "stdout",
       "text": [
        "\n",
        "Finished protein ENSG00000198208.7"
       ]
      },
      {
       "output_type": "stream",
       "stream": "stdout",
       "text": [
        "\n",
        "Finished protein ENSG00000198752.5"
       ]
      },
      {
       "output_type": "stream",
       "stream": "stdout",
       "text": [
        "\n",
        "Finished chromosome 14\n",
        "Finished protein ENSG00000035664.7"
       ]
      },
      {
       "output_type": "stream",
       "stream": "stdout",
       "text": [
        "\n",
        "Finished protein ENSG00000062524.11"
       ]
      },
      {
       "output_type": "stream",
       "stream": "stdout",
       "text": [
        "\n",
        "Finished protein ENSG00000069956.7"
       ]
      },
      {
       "output_type": "stream",
       "stream": "stdout",
       "text": [
        "\n",
        "Finished protein ENSG00000092445.7"
       ]
      },
      {
       "output_type": "stream",
       "stream": "stdout",
       "text": [
        "\n",
        "Finished protein ENSG00000103653.12"
       ]
      },
      {
       "output_type": "stream",
       "stream": "stdout",
       "text": [
        "\n",
        "exac_validation_checks 40260079 ExAC amino acid is blank"
       ]
      },
      {
       "output_type": "stream",
       "stream": "stdout",
       "text": [
        "\n",
        "calc_exac_maf_data 40260079 Error: the ExAC alt aa  doesn't match my alt aa calculation E\n",
        "Finished protein ENSG00000128829.7"
       ]
      },
      {
       "output_type": "stream",
       "stream": "stdout",
       "text": [
        "\n",
        "Finished protein ENSG00000128881.12"
       ]
      },
      {
       "output_type": "stream",
       "stream": "stdout",
       "text": [
        "\n",
        "Finished protein ENSG00000137764.15"
       ]
      },
      {
       "output_type": "stream",
       "stream": "stdout",
       "text": [
        "\n",
        "Finished protein ENSG00000137843.7"
       ]
      },
      {
       "output_type": "stream",
       "stream": "stdout",
       "text": [
        "\n",
        "Finished protein ENSG00000140443.9"
       ]
      },
      {
       "output_type": "stream",
       "stream": "stdout",
       "text": [
        "\n",
        "Finished protein ENSG00000140474.8"
       ]
      },
      {
       "output_type": "stream",
       "stream": "stdout",
       "text": [
        "\n",
        "Finished protein ENSG00000140538.12"
       ]
      },
      {
       "output_type": "stream",
       "stream": "stdout",
       "text": [
        "\n",
        "Finished protein ENSG00000154237.8"
       ]
      },
      {
       "output_type": "stream",
       "stream": "stdout",
       "text": [
        "\n",
        "Finished protein ENSG00000169032.5"
       ]
      },
      {
       "output_type": "stream",
       "stream": "stdout",
       "text": [
        "\n",
        "Finished protein ENSG00000169118.11"
       ]
      },
      {
       "output_type": "stream",
       "stream": "stdout",
       "text": [
        "\n",
        "Finished protein ENSG00000179335.14"
       ]
      },
      {
       "output_type": "stream",
       "stream": "stdout",
       "text": [
        "\n",
        "Finished protein ENSG00000182511.7"
       ]
      },
      {
       "output_type": "stream",
       "stream": "stdout",
       "text": [
        "\n",
        "Finished chromosome 15\n",
        "Finished protein ENSG00000070770.4"
       ]
      },
      {
       "output_type": "stream",
       "stream": "stdout",
       "text": [
        "\n",
        "Finished protein ENSG00000102882.7"
       ]
      },
      {
       "output_type": "stream",
       "stream": "stdout",
       "text": [
        "\n",
        "Finished protein ENSG00000127564.12"
       ]
      },
      {
       "output_type": "stream",
       "stream": "stdout",
       "text": [
        "\n",
        "Finished protein ENSG00000134398.8"
       ]
      },
      {
       "output_type": "stream",
       "stream": "stdout",
       "text": [
        "\n",
        "Finished protein ENSG00000140795.8"
       ]
      },
      {
       "output_type": "stream",
       "stream": "stdout",
       "text": [
        "\n",
        "Finished protein ENSG00000140992.14"
       ]
      },
      {
       "output_type": "stream",
       "stream": "stdout",
       "text": [
        "\n",
        "Finished protein ENSG00000149930.13"
       ]
      },
      {
       "output_type": "stream",
       "stream": "stdout",
       "text": [
        "\n",
        "Finished protein ENSG00000156873.11"
       ]
      },
      {
       "output_type": "stream",
       "stream": "stdout",
       "text": [
        "\n",
        "Finished protein ENSG00000159792.5"
       ]
      },
      {
       "output_type": "stream",
       "stream": "stdout",
       "text": [
        "\n",
        "Finished protein ENSG00000166501.8"
       ]
      },
      {
       "output_type": "stream",
       "stream": "stdout",
       "text": [
        "\n",
        "Finished protein ENSG00000166851.10"
       ]
      },
      {
       "output_type": "stream",
       "stream": "stdout",
       "text": [
        "\n",
        "Finished protein ENSG00000168404.8"
       ]
      },
      {
       "output_type": "stream",
       "stream": "stdout",
       "text": [
        "\n",
        "Finished protein ENSG00000185324.17"
       ]
      },
      {
       "output_type": "stream",
       "stream": "stdout",
       "text": [
        "\n",
        "Finished protein ENSG00000188322.4"
       ]
      },
      {
       "output_type": "stream",
       "stream": "stdout",
       "text": [
        "\n",
        "Finished chromosome 16\n",
        "Finished protein ENSG00000004660.10"
       ]
      },
      {
       "output_type": "stream",
       "stream": "stdout",
       "text": [
        "\n",
        "Finished protein ENSG00000034152.14"
       ]
      },
      {
       "output_type": "stream",
       "stream": "stdout",
       "text": [
        "\n",
        "Finished protein ENSG00000065559.10"
       ]
      },
      {
       "output_type": "stream",
       "stream": "stdout",
       "text": [
        "\n",
        "Finished protein ENSG00000083290.15"
       ]
      },
      {
       "output_type": "stream",
       "stream": "stdout",
       "text": [
        "\n",
        "Finished protein ENSG00000087095.8"
       ]
      },
      {
       "output_type": "stream",
       "stream": "stdout",
       "text": [
        "\n",
        "Finished protein ENSG00000108443.9"
       ]
      },
      {
       "output_type": "stream",
       "stream": "stdout",
       "text": [
        "\n",
        "Finished protein ENSG00000108984.9"
       ]
      },
      {
       "output_type": "stream",
       "stream": "stdout",
       "text": [
        "\n",
        "Finished protein ENSG00000121101.11"
       ]
      },
      {
       "output_type": "stream",
       "stream": "stdout",
       "text": [
        "\n",
        "Finished protein ENSG00000126562.12"
       ]
      },
      {
       "output_type": "stream",
       "stream": "stdout",
       "text": [
        "\n",
        "Finished protein ENSG00000132518.6"
       ]
      },
      {
       "output_type": "stream",
       "stream": "stdout",
       "text": [
        "\n",
        "Finished protein ENSG00000141068.9"
       ]
      },
      {
       "output_type": "stream",
       "stream": "stdout",
       "text": [
        "\n",
        "Finished protein ENSG00000141503.11"
       ]
      },
      {
       "output_type": "stream",
       "stream": "stdout",
       "text": [
        "\n",
        "Finished protein ENSG00000141551.10"
       ]
      },
      {
       "output_type": "stream",
       "stream": "stdout",
       "text": [
        "\n",
        "Finished protein ENSG00000141736.9"
       ]
      },
      {
       "output_type": "stream",
       "stream": "stdout",
       "text": [
        "\n",
        "Finished protein ENSG00000146872.13"
       ]
      },
      {
       "output_type": "stream",
       "stream": "stdout",
       "text": [
        "\n",
        "Finished protein ENSG00000154229.7"
       ]
      },
      {
       "output_type": "stream",
       "stream": "stdout",
       "text": [
        "\n",
        "Finished protein ENSG00000160551.5"
       ]
      },
      {
       "output_type": "stream",
       "stream": "stdout",
       "text": [
        "\n",
        "Finished protein ENSG00000160602.9"
       ]
      },
      {
       "output_type": "stream",
       "stream": "stdout",
       "text": [
        "\n",
        "Finished protein ENSG00000166484.15"
       ]
      },
      {
       "output_type": "stream",
       "stream": "stdout",
       "text": [
        "\n",
        "Finished protein ENSG00000167258.9"
       ]
      },
      {
       "output_type": "stream",
       "stream": "stdout",
       "text": [
        "\n",
        "Finished protein ENSG00000167524.10"
       ]
      },
      {
       "output_type": "stream",
       "stream": "stdout",
       "text": [
        "\n",
        "Finished protein ENSG00000174292.8"
       ]
      },
      {
       "output_type": "stream",
       "stream": "stdout",
       "text": [
        "\n",
        "Finished protein ENSG00000178607.11"
       ]
      },
      {
       "output_type": "stream",
       "stream": "stdout",
       "text": [
        "\n",
        "Finished protein ENSG00000178999.8"
       ]
      },
      {
       "output_type": "stream",
       "stream": "stdout",
       "text": [
        "\n",
        "Finished protein ENSG00000181409.7"
       ]
      },
      {
       "output_type": "stream",
       "stream": "stdout",
       "text": [
        "\n",
        "Finished protein ENSG00000198909.3"
       ]
      },
      {
       "output_type": "stream",
       "stream": "stdout",
       "text": [
        "\n",
        "Finished protein ENSG00000250506.2"
       ]
      },
      {
       "output_type": "stream",
       "stream": "stdout",
       "text": [
        "\n",
        "Finished protein ENSG00000266173.1"
       ]
      },
      {
       "output_type": "stream",
       "stream": "stdout",
       "text": [
        "\n",
        "Finished chromosome 17\n",
        "Finished protein ENSG00000067900.6"
       ]
      },
      {
       "output_type": "stream",
       "stream": "stdout",
       "text": [
        "\n",
        "Finished protein ENSG00000141639.7"
       ]
      },
      {
       "output_type": "stream",
       "stream": "stdout",
       "text": [
        "\n",
        "Finished protein ENSG00000176105.9"
       ]
      },
      {
       "output_type": "stream",
       "stream": "stdout",
       "text": [
        "\n",
        "Finished chromosome 18\n",
        "Finished protein ENSG00000007047.10"
       ]
      },
      {
       "output_type": "stream",
       "stream": "stdout",
       "text": [
        "\n",
        "Finished protein ENSG00000007264.9"
       ]
      },
      {
       "output_type": "stream",
       "stream": "stdout",
       "text": [
        "\n",
        "Finished protein ENSG00000072062.9"
       ]
      },
      {
       "output_type": "stream",
       "stream": "stdout",
       "text": [
        "\n",
        "Finished protein ENSG00000076984.13"
       ]
      },
      {
       "output_type": "stream",
       "stream": "stdout",
       "text": [
        "\n",
        "Finished protein ENSG00000099308.6"
       ]
      },
      {
       "output_type": "stream",
       "stream": "stdout",
       "text": [
        "\n",
        "Finished protein ENSG00000099875.10"
       ]
      },
      {
       "output_type": "stream",
       "stream": "stdout",
       "text": [
        "\n",
        "Finished protein ENSG00000104814.8"
       ]
      },
      {
       "output_type": "stream",
       "stream": "stdout",
       "text": [
        "\n",
        "Finished protein ENSG00000104936.13"
       ]
      },
      {
       "output_type": "stream",
       "stream": "stdout",
       "text": [
        "\n",
        "Finished protein ENSG00000105146.8"
       ]
      },
      {
       "output_type": "stream",
       "stream": "stdout",
       "text": [
        "\n",
        "Finished protein ENSG00000105204.9"
       ]
      },
      {
       "output_type": "stream",
       "stream": "stdout",
       "text": [
        "\n",
        "Finished protein ENSG00000105221.12"
       ]
      },
      {
       "output_type": "stream",
       "stream": "stdout",
       "text": [
        "\n",
        "Finished protein ENSG00000105287.8"
       ]
      },
      {
       "output_type": "stream",
       "stream": "stdout",
       "text": [
        "\n",
        "Finished protein ENSG00000105397.9"
       ]
      },
      {
       "output_type": "stream",
       "stream": "stdout",
       "text": [
        "\n",
        "Finished protein ENSG00000105613.5"
       ]
      },
      {
       "output_type": "stream",
       "stream": "stdout",
       "text": [
        "\n",
        "Finished protein ENSG00000105639.14"
       ]
      },
      {
       "output_type": "stream",
       "stream": "stdout",
       "text": [
        "\n",
        "Finished protein ENSG00000105723.7"
       ]
      },
      {
       "output_type": "stream",
       "stream": "stdout",
       "text": [
        "\n",
        "Finished protein ENSG00000118046.10"
       ]
      },
      {
       "output_type": "stream",
       "stream": "stdout",
       "text": [
        "\n",
        "Finished protein ENSG00000123143.8"
       ]
      },
      {
       "output_type": "stream",
       "stream": "stdout",
       "text": [
        "\n",
        "Finished protein ENSG00000126583.6"
       ]
      },
      {
       "output_type": "stream",
       "stream": "stdout",
       "text": [
        "\n",
        "Finished protein ENSG00000126934.9"
       ]
      },
      {
       "output_type": "stream",
       "stream": "stdout",
       "text": [
        "\n",
        "Finished protein ENSG00000130669.13"
       ]
      },
      {
       "output_type": "stream",
       "stream": "stdout",
       "text": [
        "\n",
        "Finished protein ENSG00000130758.3"
       ]
      },
      {
       "output_type": "stream",
       "stream": "stdout",
       "text": [
        "\n",
        "Finished protein ENSG00000133275.11"
       ]
      },
      {
       "output_type": "stream",
       "stream": "stdout",
       "text": [
        "\n",
        "Finished protein ENSG00000142235.4"
       ]
      },
      {
       "output_type": "stream",
       "stream": "stdout",
       "text": [
        "\n",
        "Finished protein ENSG00000160396.8"
       ]
      },
      {
       "output_type": "stream",
       "stream": "stdout",
       "text": [
        "\n",
        "Finished protein ENSG00000160469.12"
       ]
      },
      {
       "output_type": "stream",
       "stream": "stdout",
       "text": [
        "\n",
        "Finished protein ENSG00000167601.7"
       ]
      },
      {
       "output_type": "stream",
       "stream": "stdout",
       "text": [
        "\n",
        "Finished protein ENSG00000167657.7"
       ]
      },
      {
       "output_type": "stream",
       "stream": "stdout",
       "text": [
        "\n",
        "Finished protein ENSG00000171105.9"
       ]
      },
      {
       "output_type": "stream",
       "stream": "stdout",
       "text": [
        "\n",
        "Finished protein ENSG00000178093.12"
       ]
      },
      {
       "output_type": "stream",
       "stream": "stdout",
       "text": [
        "\n",
        "Finished protein ENSG00000187550.4"
       ]
      },
      {
       "output_type": "stream",
       "stream": "stdout",
       "text": [
        "\n",
        "Finished chromosome 19\n",
        "Finished protein ENSG00000087586.13"
       ]
      },
      {
       "output_type": "stream",
       "stream": "stdout",
       "text": [
        "\n",
        "Finished protein ENSG00000101049.10"
       ]
      },
      {
       "output_type": "stream",
       "stream": "stdout",
       "text": [
        "\n",
        "Finished protein ENSG00000101109.7"
       ]
      },
      {
       "output_type": "stream",
       "stream": "stdout",
       "text": [
        "\n",
        "Finished protein ENSG00000101213.5"
       ]
      },
      {
       "output_type": "stream",
       "stream": "stdout",
       "text": [
        "\n",
        "Finished protein ENSG00000101266.12"
       ]
      },
      {
       "output_type": "stream",
       "stream": "stdout",
       "text": [
        "\n",
        "Finished protein ENSG00000101306.6"
       ]
      },
      {
       "output_type": "stream",
       "stream": "stdout",
       "text": [
        "\n",
        "Finished protein ENSG00000101336.8"
       ]
      },
      {
       "output_type": "stream",
       "stream": "stdout",
       "text": [
        "\n",
        "Finished protein ENSG00000101349.12"
       ]
      },
      {
       "output_type": "stream",
       "stream": "stdout",
       "text": [
        "\n",
        "Finished protein ENSG00000125508.3"
       ]
      },
      {
       "output_type": "stream",
       "stream": "stdout",
       "text": [
        "\n",
        "Finished protein ENSG00000125834.8"
       ]
      },
      {
       "output_type": "stream",
       "stream": "stdout",
       "text": [
        "\n",
        "Finished protein ENSG00000197122.7"
       ]
      },
      {
       "output_type": "stream",
       "stream": "stdout",
       "text": [
        "\n",
        "Finished chromosome 20\n",
        "Finished protein ENSG00000142149.4"
       ]
      },
      {
       "output_type": "stream",
       "stream": "stdout",
       "text": [
        "\n",
        "Finished protein ENSG00000142178.7"
       ]
      },
      {
       "output_type": "stream",
       "stream": "stdout",
       "text": [
        "\n",
        "Finished protein ENSG00000157540.15"
       ]
      },
      {
       "output_type": "stream",
       "stream": "stdout",
       "text": [
        "\n",
        "Finished protein ENSG00000183421.7"
       ]
      },
      {
       "output_type": "stream",
       "stream": "stdout",
       "text": [
        "\n",
        "Finished chromosome 21\n",
        "Finished protein ENSG00000100030.10"
       ]
      },
      {
       "output_type": "stream",
       "stream": "stdout",
       "text": [
        "\n",
        "Finished protein ENSG00000100077.10"
       ]
      },
      {
       "output_type": "stream",
       "stream": "stdout",
       "text": [
        "\n",
        "Finished protein ENSG00000182541.13"
       ]
      },
      {
       "output_type": "stream",
       "stream": "stdout",
       "text": [
        "\n",
        "Finished protein ENSG00000183765.16"
       ]
      },
      {
       "output_type": "stream",
       "stream": "stdout",
       "text": [
        "\n",
        "Finished protein ENSG00000185386.10"
       ]
      },
      {
       "output_type": "stream",
       "stream": "stdout",
       "text": [
        "\n",
        "Finished protein ENSG00000188130.9"
       ]
      },
      {
       "output_type": "stream",
       "stream": "stdout",
       "text": [
        "\n",
        "Finished protein ENSG00000198355.4"
       ]
      },
      {
       "output_type": "stream",
       "stream": "stdout",
       "text": [
        "\n",
        "Finished protein ENSG00000206203.3"
       ]
      },
      {
       "output_type": "stream",
       "stream": "stdout",
       "text": [
        "\n",
        "Finished protein ENSG00000213923.6"
       ]
      },
      {
       "output_type": "stream",
       "stream": "stdout",
       "text": [
        "\n",
        "Finished chromosome 22\n",
        "Finished protein ENSG00000008086.6"
       ]
      },
      {
       "output_type": "stream",
       "stream": "stdout",
       "text": [
        "\n",
        "Finished protein ENSG00000010671.11"
       ]
      },
      {
       "output_type": "stream",
       "stream": "stdout",
       "text": [
        "\n",
        "Finished protein ENSG00000072133.6"
       ]
      },
      {
       "output_type": "stream",
       "stream": "stdout",
       "text": [
        "\n",
        "Finished protein ENSG00000077264.10"
       ]
      },
      {
       "output_type": "stream",
       "stream": "stdout",
       "text": [
        "\n",
        "Finished protein ENSG00000078061.8"
       ]
      },
      {
       "output_type": "stream",
       "stream": "stdout",
       "text": [
        "\n",
        "Finished protein ENSG00000101890.4"
       ]
      },
      {
       "output_type": "stream",
       "stream": "stdout",
       "text": [
        "\n",
        "Finished protein ENSG00000102010.10"
       ]
      },
      {
       "output_type": "stream",
       "stream": "stdout",
       "text": [
        "\n",
        "Finished protein ENSG00000102096.9"
       ]
      },
      {
       "output_type": "stream",
       "stream": "stdout",
       "text": [
        "\n",
        "Finished protein ENSG00000102225.11"
       ]
      },
      {
       "output_type": "stream",
       "stream": "stdout",
       "text": [
        "\n",
        "Finished protein ENSG00000123572.12"
       ]
      },
      {
       "output_type": "stream",
       "stream": "stdout",
       "text": [
        "\n",
        "Finished protein ENSG00000130822.11"
       ]
      },
      {
       "output_type": "stream",
       "stream": "stdout",
       "text": [
        "\n",
        "Finished protein ENSG00000134602.11"
       ]
      },
      {
       "output_type": "stream",
       "stream": "stdout",
       "text": [
        "\n",
        "Finished protein ENSG00000147044.16"
       ]
      },
      {
       "output_type": "stream",
       "stream": "stdout",
       "text": [
        "\n",
        "Finished protein ENSG00000177189.8"
       ]
      },
      {
       "output_type": "stream",
       "stream": "stdout",
       "text": [
        "\n",
        "Finished protein ENSG00000180815.10"
       ]
      },
      {
       "output_type": "stream",
       "stream": "stdout",
       "text": [
        "\n",
        "Finished protein ENSG00000183943.5"
       ]
      },
      {
       "output_type": "stream",
       "stream": "stdout",
       "text": [
        "\n",
        "Finished protein ENSG00000184216.7"
       ]
      },
      {
       "output_type": "stream",
       "stream": "stdout",
       "text": [
        "\n",
        "Finished protein ENSG00000196632.6"
       ]
      },
      {
       "output_type": "stream",
       "stream": "stdout",
       "text": [
        "\n",
        "Finished chromosome X\n",
        "Finished chromosome Y"
       ]
      },
      {
       "output_type": "stream",
       "stream": "stdout",
       "text": [
        "\n"
       ]
      },
      {
       "output_type": "stream",
       "stream": "stderr",
       "text": [
        "/home/anat/anaconda2/lib/python2.7/site-packages/pandas/core/frame.py:1997: UserWarning: Boolean Series key will be reindexed to match DataFrame index.\n",
        "  \"DataFrame index.\", UserWarning)\n"
       ]
      }
     ],
     "prompt_number": 7
    },
    {
     "cell_type": "code",
     "collapsed": false,
     "input": [],
     "language": "python",
     "metadata": {},
     "outputs": [],
     "prompt_number": 8
    },
    {
     "cell_type": "code",
     "collapsed": false,
     "input": [
      "sum(domain_ens_genes_errors)"
     ],
     "language": "python",
     "metadata": {},
     "outputs": [
      {
       "output_type": "pyout",
       "prompt_number": 8,
       "text": [
        "0"
       ]
      }
     ],
     "prompt_number": 8
    },
    {
     "cell_type": "code",
     "collapsed": false,
     "input": [
      "sum(domain_ens_genes_frameshifts)"
     ],
     "language": "python",
     "metadata": {},
     "outputs": [
      {
       "output_type": "pyout",
       "prompt_number": 9,
       "text": [
        "1027"
       ]
      }
     ],
     "prompt_number": 9
    },
    {
     "cell_type": "code",
     "collapsed": false,
     "input": [
      "sum(domain_ens_genes_filter)"
     ],
     "language": "python",
     "metadata": {},
     "outputs": [
      {
       "output_type": "pyout",
       "prompt_number": 10,
       "text": [
        "0"
       ]
      }
     ],
     "prompt_number": 10
    },
    {
     "cell_type": "code",
     "collapsed": false,
     "input": [
      "sum(domain_ens_genes_filter)"
     ],
     "language": "python",
     "metadata": {},
     "outputs": [
      {
       "output_type": "pyout",
       "prompt_number": 11,
       "text": [
        "0"
       ]
      }
     ],
     "prompt_number": 11
    },
    {
     "cell_type": "code",
     "collapsed": false,
     "input": [
      "max(chrom_gene_table[\"AN\"])"
     ],
     "language": "python",
     "metadata": {},
     "outputs": [
      {
       "output_type": "pyout",
       "prompt_number": 12,
       "text": [
        "106208"
       ]
      }
     ],
     "prompt_number": 12
    }
   ],
   "metadata": {}
  }
 ]
}
