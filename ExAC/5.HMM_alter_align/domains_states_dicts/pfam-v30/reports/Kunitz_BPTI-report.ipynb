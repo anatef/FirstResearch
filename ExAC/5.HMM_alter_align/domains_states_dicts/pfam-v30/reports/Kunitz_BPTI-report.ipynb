{
 "metadata": {
  "kernelspec": {
   "display_name": "Python 2",
   "language": "python",
   "name": "python2"
  },
  "language_info": {
   "codemirror_mode": {
    "name": "ipython",
    "version": 2
   },
   "file_extension": ".py",
   "mimetype": "text/x-python",
   "name": "python",
   "nbconvert_exporter": "python",
   "pygments_lexer": "ipython2",
   "version": "2.7.12"
  },
  "name": ""
 },
 "nbformat": 3,
 "nbformat_minor": 0,
 "worksheets": [
  {
   "cells": [
    {
     "cell_type": "code",
     "collapsed": false,
     "input": [
      "import pandas as pd\n",
      "import numpy as np\n",
      "import math\n",
      "from collections import defaultdict\n",
      "#import matplotlib.pyplot as plt\n",
      "from os import environ\n",
      "import pickle\n",
      "import fileinput\n",
      "import sys\n",
      "import datetime\n",
      "from mapping_func import create_exon_pos_table, find_chrom_bps, protein_pos_to_hmm_state_and_aa\n",
      "from calc_exac_freq_func import create_alt_codon, exac_validation_checks, retrieve_codon_seq, codon_table\n",
      "from indels_func import is_indel, table_editing, indel_type\n",
      "from entropy_func import JSD_background, JSD, SE\n",
      "from IPython.core.display import HTML\n",
      "HTML(\"<style>.container { width:100% !important; }</style>\")"
     ],
     "language": "python",
     "metadata": {},
     "outputs": [
      {
       "html": [
        "<style>.container { width:100% !important; }</style>"
       ],
       "output_type": "pyout",
       "prompt_number": 1,
       "text": [
        "<IPython.core.display.HTML object>"
       ]
      }
     ],
     "prompt_number": 1
    },
    {
     "cell_type": "code",
     "collapsed": false,
     "input": [
      "#Getting path\n",
      "curr_dir = !pwd\n",
      "\n",
      "#Reading the list of filtered domains\n",
      "with open(curr_dir[0]+\"/../5.domains_stats/filtered10_list.pik\", 'rb') as handle:\n",
      "    filtered_domains_list10 = pickle.load(handle)\n",
      "filtered_domains_list10.sort()\n",
      "\n",
      "with open(curr_dir[0]+\"/../5.domains_stats/filtered50_list.pik\", 'rb') as handle:\n",
      "    filtered_domains_list50 = pickle.load(handle)\n",
      "filtered_domains_list50.sort()\n",
      "\n",
      "missing_domains = []\n",
      "for domain in filtered_domains_list10:\n",
      "    if (domain not in filtered_domains_list50):\n",
      "        missing_domains.append(domain)\n",
      "\n",
      "filtered_domains_list = missing_domains\n",
      "\n",
      "#Getting the domain index as environment variable called \"idx\"\n",
      "try:\n",
      "    domain_index = int(environ['idx'])\n",
      "except:\n",
      "    domain_index = 0\n",
      "domain_name = filtered_domains_list[domain_index]\n",
      "print domain_name"
     ],
     "language": "python",
     "metadata": {},
     "outputs": [
      {
       "output_type": "stream",
       "stream": "stdout",
       "text": [
        "Kunitz_BPTI\n"
       ]
      }
     ],
     "prompt_number": 2
    },
    {
     "cell_type": "code",
     "collapsed": false,
     "input": [
      "in_path = curr_dir[0]+\"/../3.parse_HMMER/hmm_domains/pfam-v30/\"\n",
      "filename = domain_name+\".csv\"\n",
      "domain_data = pd.read_csv(in_path+filename, sep='\\t', index_col=0, dtype={\"chrom_num\": str})\n",
      "#Sort the domain data\n",
      "sorted_domain_data = domain_data.sort_values(by=[\"chrom_num\", \"gene\", \"TargetStart\"])\n",
      "sorted_domain_data = sorted_domain_data.reset_index(drop=True)\n",
      "\n",
      "#Get the canonic protein id for Zinc domain\n",
      "with open(curr_dir[0]+\"/../4.parse_Uniprot/domains_canonic_prot/pfam-v30/\"+domain_name+\"_canonic_prot.pik\", 'rb') as handle:\n",
      "    canonic_protein = pickle.load(handle)\n",
      "    \n",
      "#Get the filtered table of domains\n",
      "    \n",
      "chromosome_names = [\"1\", \"2\", \"3\", \"4\", \"5\", \"6\", \"7\", \"8\", \"9\", \"10\", \"11\", \"12\", \"13\", \"14\", \"15\", \"16\", \"17\", \"18\", \"19\", \"20\", \"21\", \"22\", \"X\", \"Y\"]"
     ],
     "language": "python",
     "metadata": {},
     "outputs": [],
     "prompt_number": 3
    },
    {
     "cell_type": "code",
     "collapsed": false,
     "input": [
      "#Counting how many domains instances are excluded because of strange chrom names.\n",
      "chrom_names_list = sorted_domain_data[\"chrom_num\"].tolist()\n",
      "strange_chrom_sum = 0\n",
      "for name in chrom_names_list:\n",
      "    if (name not in chromosome_names):\n",
      "        strange_chrom_sum += 1\n",
      "print \"Leaving outside \"+str(strange_chrom_sum)+\" out of \"+str(len(chrom_names_list))"
     ],
     "language": "python",
     "metadata": {},
     "outputs": [
      {
       "output_type": "stream",
       "stream": "stdout",
       "text": [
        "Leaving outside 0 out of 84\n"
       ]
      }
     ],
     "prompt_number": 4
    },
    {
     "cell_type": "code",
     "collapsed": false,
     "input": [
      "#A function that return a dict with the MAF info for the protein position and corresponding chromosomal location\n",
      "def calc_exac_maf_data(chrom_pos_list, chrom_gene_table, indels_table, protein_pos, aa, chrom_raw_data, chrom, hmm_state):\n",
      "    \n",
      "    res_dict = {}\n",
      "    res_dict[\"chrom\"] = chrom\n",
      "    res_dict[\"chrom_pos\"] = chrom_pos_list\n",
      "    res_dict[\"prot_pos\"] = protein_pos\n",
      "    res_dict[\"aa_ref\"] = aa\n",
      "    res_dict[\"bp_ref\"] = retrieve_codon_seq(chrom_pos_list, chrom_raw_data, chrom)\n",
      "    res_dict[\"an_adj\"] = []\n",
      "    res_dict[\"ac_adj\"] = []\n",
      "    res_dict[\"syn_mut_num\"] = 0\n",
      "    frameshift_cnt = 0\n",
      "    errors_cnt = 0\n",
      "    filter_cnt = 0\n",
      "    inframe_ids = []\n",
      "    \n",
      "    #For error logging\n",
      "    functionNameAsString = sys._getframe().f_code.co_name\n",
      "    \n",
      "    #Coverting the HMMER 'x' chat to '*' for stop codon notion unifirmity\n",
      "    if (aa == 'X'):\n",
      "        aa = '*'\n",
      "    \n",
      "    #Validation: checking that the returned codon sequence from hg19 match the HMMER amino-acid\n",
      "    translated_aa = codon_table[(res_dict[\"bp_ref\"]).upper()]\n",
      "    if (translated_aa != aa):\n",
      "        print \"chrom_pos_list = \" +str(chrom_pos_list)+\" protein_pos = \"+str(protein_pos)+\" hmm_state = \"+str(hmm_state)\n",
      "        print functionNameAsString+\" Error: hg19 codon sequence retrieved \"+(res_dict[\"bp_ref\"]).upper()+\"=\"+translated_aa+\" doesn't match HMMER amino-acid \"+aa\n",
      "    \n",
      "    alterations_af_dict = defaultdict(list)\n",
      "    alterations_af_adj_dict = defaultdict(list)\n",
      "    \n",
      "    for i in range(len(chrom_pos_list)):\n",
      "        chrom_pos = chrom_pos_list[i]\n",
      "        alt_codon_pos = i\n",
      "            \n",
      "        #Retreiving relevant ExAC entry\n",
      "        chrom_alter_table = chrom_gene_table[chrom_gene_table[\"pos\"] == chrom_pos]\n",
      "        chrom_alter_table = chrom_alter_table.reset_index(drop=True)\n",
      "                \n",
      "        if (chrom_alter_table.shape[0] == 0):\n",
      "            #No ExAC entry for this chromosome position - not adding alteration data\n",
      "            continue\n",
      "        \n",
      "        else:\n",
      "            #In case there are several alterations for that position, iterating\n",
      "            for index, line in chrom_alter_table.iterrows():\n",
      "                chrom_alter = line\n",
      "                \n",
      "                #Skipping alterations that were filtered out by VQSR\n",
      "                if (chrom_alter[\"filter\"] != \"PASS\"):\n",
      "                    continue\n",
      "                \n",
      "                #Extracting ref and alt\n",
      "                exac_ref_bp = chrom_alter[\"ref\"]\n",
      "                exac_alt_bp = chrom_alter[\"alt\"]\n",
      "                \n",
      "                #Check if frameshift indel - skip (we assume the whole protein may not function and don't add those to the MAF count)\n",
      "                if (is_indel(exac_ref_bp, exac_alt_bp, chrom_alter) == indel_type.FRAME_SHIFT_INDEL):\n",
      "                    frameshift_cnt += 1\n",
      "                    continue\n",
      "                    \n",
      "                #Check if inframe indel - take data from the indels table later\n",
      "                elif (is_indel(exac_ref_bp, exac_alt_bp, chrom_alter) == indel_type.IN_FRAME_INDEL):\n",
      "                    indel_id = chrom_alter[\"comments\"][chrom_alter[\"comments\"].find(\"-\"):]\n",
      "                    inframe_ids.append(indel_id)\n",
      "                    continue     \n",
      "                \n",
      "                #Perform validation checks (comparing ExAC and HMMER data)\n",
      "                (exac_prot_data, exac_alt_aa, exac_alt_codon, errors) = exac_validation_checks(chrom_alter, protein_pos, aa, alt_codon_pos, chrom_pos, res_dict[\"bp_ref\"])\n",
      "                if (errors):\n",
      "                    errors_cnt += 1\n",
      "                    #Skipping if there are validation errors\n",
      "                    #continue\n",
      "\n",
      "                #Extracting ExAC allele frequency data\n",
      "                af = chrom_alter[\"AF\"]\n",
      "                an = int(chrom_alter[\"AN\"])\n",
      "                an_adj = int(chrom_alter[\"AN_Adj\"])\n",
      "                ac_adj = chrom_alter[\"AC_Adj\"]\n",
      "                \n",
      "                #Calculating the alteration relevant data\n",
      "                alt_codon = create_alt_codon(exac_ref_bp, exac_alt_bp, res_dict[\"bp_ref\"], alt_codon_pos, chrom_raw_data)\n",
      "                if (len(alt_codon) != 3):\n",
      "                    alt_aa = \"indel\"\n",
      "                    continue #TODO: handle inframe indels\n",
      "                else:\n",
      "                    alt_aa = codon_table[alt_codon.upper()]\n",
      "\n",
      "                #Validation: ExAC alt codon and aa for the first alteration match the calculated alt\n",
      "                #if (exac_prot_data and exac_alt_codon.upper() != alt_codon):\n",
      "                    #print functionNameAsString+\" \"+ str(chrom_pos)+\" Error: the ExAC alt codon \"+exac_alt_codon.upper()+\" doesn't match my alt codon calculation \"+alt_codon\n",
      "                if (exac_prot_data and exac_alt_aa != alt_aa):\n",
      "                    print functionNameAsString+\" \"+ str(chrom_pos)+\" Error: the ExAC alt aa \"+exac_alt_aa+\" doesn't match my alt aa calculation \"+alt_aa\n",
      "\n",
      "                if (alt_aa == res_dict[\"aa_ref\"]):\n",
      "                    #Not logging alteration for synonymous mutations, just add to the counter\n",
      "                    res_dict[\"syn_mut_num\"] += 1\n",
      "                    continue\n",
      "\n",
      "                #Non-synonymous(!!!) - logging the alteration\n",
      "                else:\n",
      "                    res_dict[\"an_adj\"].append(chrom_alter[\"AN_Adj\"])\n",
      "                    res_dict[\"ac_adj\"].append(chrom_alter[\"AC_Adj\"])\n",
      "                    \n",
      "                    alterations_af_dict[alt_aa].append(float(af))\n",
      "                    if (an_adj == 0):\n",
      "                        af_adj = 0\n",
      "                    else:\n",
      "                        af_adj = float(ac_adj)/float(an_adj)\n",
      "                    af_adj_format = float('{:.3e}'.format(float(af_adj)))\n",
      "                    alterations_af_adj_dict[alt_aa].append(af_adj_format)\n",
      "\n",
      "    #Calculating the overall MAF from the alteration dicts\n",
      "    res_dict[\"af\"] = 0\n",
      "    res_dict[\"af_adj\"] = 0\n",
      "    \n",
      "    for aa in alterations_af_dict.keys():\n",
      "        aa_sum = sum(alterations_af_dict[aa])\n",
      "        aa_adj_sum = sum(alterations_af_adj_dict[aa])\n",
      "        \n",
      "        #Checking if any alteration is above 0.5, and changing the ref accordingly\n",
      "        if (aa != \"indel\" and aa_sum > 0.5):\n",
      "            \n",
      "            #Adding the refrence allele to the alterations dicts\n",
      "            old_ref = res_dict[\"aa_ref\"]\n",
      "            sum_of_all_alt = sum(sum(alterations_af_dict.values(), []))\n",
      "            sum_of_all_alt_adj = sum(sum(alterations_af_adj_dict.values(), []))\n",
      "            alterations_af_dict[old_ref] = [1 - sum_of_all_alt]\n",
      "            alterations_af_adj_dict[old_ref] = [1 - sum_of_all_alt_adj]\n",
      "            \n",
      "            #Updating the aa to be the ref\n",
      "            res_dict[\"aa_ref\"] = aa\n",
      "            #Updating the alt bp to be the ref\n",
      "            exac_codons = chrom_alter[\"codons\"]\n",
      "            exac_alt_codon = exac_codons[exac_codons.find(\"/\")+1:]\n",
      "            res_dict[\"bp_ref\"] = exac_alt_codon.upper()\n",
      "            res_dict[\"af\"] =(1 - aa_sum)\n",
      "            res_dict[\"af_adj\"] = (1 - aa_adj_sum)\n",
      "            \n",
      "            #Deleting from the alterations dicts\n",
      "            del alterations_af_dict[aa]\n",
      "            del alterations_af_adj_dict[aa]\n",
      "            break\n",
      "        else:\n",
      "            res_dict[\"af\"] += aa_sum\n",
      "            res_dict[\"af_adj\"] += aa_adj_sum\n",
      "        \n",
      "        #Fix the AF format\n",
      "        res_dict[\"af\"] = float('{:.3e}'.format(float(res_dict[\"af\"])))\n",
      "        res_dict[\"af_adj\"] = float('{:.3e}'.format(float(res_dict[\"af_adj\"])))\n",
      "        \n",
      "    #Calculating the overall Jensen-Shannon Divergrence\n",
      "    #if (len(alterations_af_dict.keys()) == 0):\n",
      "        #res_dict[\"JSD\"] = 0\n",
      "        #res_dict[\"JSD_adj\"] = 0\n",
      "    #else:\n",
      "        #res_dict[\"JSD\"] = JSD(alterations_af_dict, res_dict[\"aa_ref\"], res_dict[\"af\"], hmm_state, JSD_background.MAJOR_ALLELE)\n",
      "        #res_dict[\"JSD_adj\"] = JSD(alterations_af_adj_dict, res_dict[\"aa_ref\"], res_dict[\"af_adj\"], hmm_state, JSD_background.MAJOR_ALLELE)\n",
      "    \n",
      "    res_dict[\"alterations_af_adj_dict\"] = alterations_af_adj_dict\n",
      "    \n",
      "    return (res_dict, frameshift_cnt, errors_cnt, filter_cnt)"
     ],
     "language": "python",
     "metadata": {},
     "outputs": [],
     "prompt_number": 5
    },
    {
     "cell_type": "code",
     "collapsed": false,
     "input": [
      "%%time\n",
      "\n",
      "chrom_path = curr_dir[0]+\"/../1.parse_ExAC/parsed/\"\n",
      "chrom_filename = \"parsed_chrom\"\n",
      "states_dict = defaultdict(list)\n",
      "print \"Starting....\"\n",
      "\n",
      "#For error logging\n",
      "functionNameAsString = sys._getframe().f_code.co_name\n",
      "\n",
      "#A list of all the ens genes\n",
      "domain_ens_genes_all = []\n",
      "\n",
      "#A list to count frameshifts per gene\n",
      "domain_ens_genes_frameshifts = []\n",
      "\n",
      "#A list to count validation errors per gene\n",
      "domain_ens_genes_errors = []\n",
      "\n",
      "#A list to count ExAC filtered-out per gene\n",
      "domain_ens_genes_filter = []\n",
      "\n",
      "for chrom in chromosome_names:\n",
      "    \n",
      "    #Filtering the domain data relevant to this chromosome\n",
      "    domain_chrom_data = sorted_domain_data[sorted_domain_data[\"chrom_num\"] == chrom]\n",
      "    \n",
      "    #Loading the ExAC parsed data of this chromosome\n",
      "    fields = ['chrom', 'pos', 'ref', 'alt', \"filter\", 'AC', 'AC_Adj', 'AF', 'AN', 'AN_Adj', 'gene', 'feature', \n",
      "              'feature_type', 'conseq', 'prot_pos', 'amino_acids', 'codons', 'strand', 'ENSP', 'exon', \n",
      "              'intron', 'domains']\n",
      "    chrom_csv = pd.read_csv(chrom_path+chrom_filename+chrom+\".csv\", sep='\\t', index_col=0, usecols=fields)\n",
      "    chrom_csv = chrom_csv.sort_values(by=[\"pos\"])\n",
      "    chrom_csv = chrom_csv.reset_index(drop=True)\n",
      "    chrom_csv.fillna('', inplace=True)\n",
      "    chrom_csv[\"comments\"] = \"\"\n",
      "    \n",
      "    #Getting a list of all the relevant ensembl gene ids for this chromosome\n",
      "    domain_ens_genes = (domain_chrom_data[\"gene\"]).unique()\n",
      "    domain_ens_genes_all.extend(domain_ens_genes)\n",
      "    \n",
      "    #For each ensembl gene in the domain data - finding all the ExAC alterations\n",
      "    for ens_gene in domain_ens_genes:\n",
      "        \n",
      "        #Filtering the domain data for this gene according to the canonical protein id\n",
      "        canonic_prot = canonic_protein[ens_gene]\n",
      "        canonic_prot_t = canonic_prot[:canonic_prot.find(\".\")] #Trimming the \".#\" at the end\n",
      "        domain_gene_table = domain_chrom_data[domain_chrom_data[\"prot\"] == canonic_prot]\n",
      "        #Making sure that if two HMM-matches overlaps, the higher bit score will come first in the table\n",
      "        domain_gene_table = domain_gene_table.sort_values(by=\"BitScore\", ascending=False)\n",
      "        domain_gene_name = domain_gene_table[\"hugoSymbol\"].unique()[0]\n",
      "        if (len(domain_gene_table[\"hugoSymbol\"].unique()) > 1):\n",
      "            print functionNameAsString+\" Error: \"+ens_gene+\": more than one Hugo symbol\"  #sanity check\n",
      "        \n",
      "        #Creating a table of the exons for this gene, according to the canonical protein\n",
      "        chrom_raw_data = domain_gene_table[\"chromosome\"].unique()[0] #there should be only one element here\n",
      "        if (len(domain_gene_table[\"chromosome\"].unique()) > 1):\n",
      "            print functionNameAsString+\" Error: \"+ens_gene+\": more than one chromosome raw data\" #sanity check\n",
      "        targetid = domain_gene_table[\"#TargetID\"].unique()[0]\n",
      "        exon_table = create_exon_pos_table(chrom_raw_data, targetid)\n",
      "        \n",
      "        #Filtering the chromosome data to the gene exons region\n",
      "        exons_start_pos = min(exon_table[\"start_pos\"][0],exon_table[\"start_pos\"][len(exon_table)-1]) #in case of complelemt, the minimal position could be at the last row\n",
      "        exons_end_pos = max(exon_table[\"end_pos\"][0],exon_table[\"end_pos\"][len(exon_table)-1]) #in case of complelemt, the maximal position could be at the first row\n",
      "        chrom_gene_table = chrom_csv[chrom_csv[\"pos\"] >= int(exons_start_pos)][chrom_csv[\"pos\"] <= int(exons_end_pos)][chrom_csv[\"ENSP\"] == canonic_prot_t]\n",
      "        chrom_gene_table = chrom_gene_table.reset_index(drop=True)\n",
      "        \n",
      "        #Handling indels\n",
      "        indels_table = table_editing(chrom_gene_table)\n",
      "        \n",
      "        #A counter for frameshifts inside the domain\n",
      "        protein_frameshifts_cnt = 0\n",
      "        #A counter for validation errors inside the domain\n",
      "        protein_errors_cnt = 0\n",
      "        #A counter for ExAC filter-out inside the domain\n",
      "        protein_filter_cnt = 0\n",
      "        \n",
      "        #Iterating over the amino-acids of the protein\n",
      "        prot_len = int(domain_gene_table[\"length\"].unique()[0])\n",
      "        for protein_pos in range(1,prot_len+1):\n",
      "    \n",
      "            #Trying to match HMM-state, and retreive the aa from HMMER results\n",
      "            (hmm_state, aa) = protein_pos_to_hmm_state_and_aa(protein_pos, domain_gene_table) #TODO: what happens when two matches overlap? maybe sort to the best bit score?\n",
      "                \n",
      "            #If there's a match to HMM-state: find the corresponding codon bps chromosome positions\n",
      "            if (hmm_state > 0):\n",
      "                chrom_pos_list =find_chrom_bps(protein_pos, exon_table, chrom_raw_data)\n",
      "                \n",
      "                #Analysis of the amino-acid MAF and realted data, returned in a dictionary\n",
      "                (info_dict, frameshift_cnt, errors_cnt, filter_cnt) = calc_exac_maf_data(chrom_pos_list, chrom_gene_table, indels_table, protein_pos, aa, chrom_raw_data, chrom, hmm_state)\n",
      "                info_dict[\"ens_gene\"] = ens_gene\n",
      "                \n",
      "                #Adding the dictionary to the HMM-state list\n",
      "                states_dict[hmm_state].append(info_dict)\n",
      "                \n",
      "                #Adding the frameshifts to the global counter\n",
      "                protein_frameshifts_cnt += frameshift_cnt\n",
      "                \n",
      "                #Adding the errors to the global counter\n",
      "                protein_errors_cnt += errors_cnt\n",
      "                \n",
      "                #Adding the filtered to the global counter\n",
      "                protein_filter_cnt += filter_cnt\n",
      "        \n",
      "        \n",
      "        domain_ens_genes_frameshifts.append(protein_frameshifts_cnt)\n",
      "        domain_ens_genes_errors.append(protein_errors_cnt)\n",
      "        domain_ens_genes_filter.append(protein_filter_cnt)\n",
      "        print \"Finished protein \"+ens_gene \n",
      "                                \n",
      "    print \"Finished chromosome \"+chrom\n",
      "\n",
      "!mkdir -p domains_states_dicts/pfam-v30/$domain_name\n",
      "with open(curr_dir[0]+\"/domains_states_dicts/pfam-v30/\"+domain_name+\"/\"+domain_name+\"_hmm_states_dict_\"+datetime.date.today().strftime(\"%m.%d\")+\".pik\", 'wb') as handle:\n",
      "    pickle.dump(states_dict, handle, protocol=pickle.HIGHEST_PROTOCOL)"
     ],
     "language": "python",
     "metadata": {},
     "outputs": [
      {
       "output_type": "stream",
       "stream": "stdout",
       "text": [
        "Starting....\n",
        "Finished chromosome 1"
       ]
      },
      {
       "output_type": "stream",
       "stream": "stdout",
       "text": [
        "\n",
        "Finished protein ENSG00000003436.10"
       ]
      },
      {
       "output_type": "stream",
       "stream": "stdout",
       "text": [
        "\n",
        "Finished protein ENSG00000163359.11"
       ]
      },
      {
       "output_type": "stream",
       "stream": "stdout",
       "text": [
        "\n",
        "Finished chromosome 2\n",
        "Finished protein ENSG00000114270.11"
       ]
      },
      {
       "output_type": "stream",
       "stream": "stdout",
       "text": [
        "\n",
        "Finished chromosome 3\n",
        "Finished chromosome 4"
       ]
      },
      {
       "output_type": "stream",
       "stream": "stdout",
       "text": [
        "\n",
        "Finished chromosome 5"
       ]
      },
      {
       "output_type": "stream",
       "stream": "stdout",
       "text": [
        "\n",
        "Finished chromosome 6"
       ]
      },
      {
       "output_type": "stream",
       "stream": "stdout",
       "text": [
        "\n",
        "Finished protein ENSG00000105825.7"
       ]
      },
      {
       "output_type": "stream",
       "stream": "stdout",
       "text": [
        "\n",
        "Finished protein ENSG00000215018.5"
       ]
      },
      {
       "output_type": "stream",
       "stream": "stdout",
       "text": [
        "\n",
        "Finished chromosome 7\n",
        "Finished chromosome 8"
       ]
      },
      {
       "output_type": "stream",
       "stream": "stdout",
       "text": [
        "\n",
        "Finished protein ENSG00000106927.7"
       ]
      },
      {
       "output_type": "stream",
       "stream": "stdout",
       "text": [
        "\n",
        "Finished chromosome 9\n",
        "Finished chromosome 10"
       ]
      },
      {
       "output_type": "stream",
       "stream": "stdout",
       "text": [
        "\n",
        "Finished protein ENSG00000084234.12"
       ]
      },
      {
       "output_type": "stream",
       "stream": "stdout",
       "text": [
        "\n",
        "Finished chromosome 11\n",
        "Finished chromosome 12"
       ]
      },
      {
       "output_type": "stream",
       "stream": "stdout",
       "text": [
        "\n",
        "Finished chromosome 13"
       ]
      },
      {
       "output_type": "stream",
       "stream": "stdout",
       "text": [
        "\n",
        "Finished protein ENSG00000100767.11"
       ]
      },
      {
       "output_type": "stream",
       "stream": "stdout",
       "text": [
        "\n",
        "Finished chromosome 14\n",
        "Finished protein ENSG00000166145.10"
       ]
      },
      {
       "output_type": "stream",
       "stream": "stdout",
       "text": [
        "\n",
        "Finished chromosome 15\n",
        "Finished protein ENSG00000127578.6"
       ]
      },
      {
       "output_type": "stream",
       "stream": "stdout",
       "text": [
        "\n",
        "Finished chromosome 16\n",
        "Finished protein ENSG00000173714.7"
       ]
      },
      {
       "output_type": "stream",
       "stream": "stdout",
       "text": [
        "\n",
        "Finished chromosome 17\n",
        "Finished chromosome 18"
       ]
      },
      {
       "output_type": "stream",
       "stream": "stdout",
       "text": [
        "\n",
        "Finished protein ENSG00000167642.8"
       ]
      },
      {
       "output_type": "stream",
       "stream": "stdout",
       "text": [
        "\n",
        "chrom_pos_list = (38780763, 38780764, 38780765) protein_pos = 16 hmm_state = 1"
       ]
      },
      {
       "output_type": "stream",
       "stream": "stdout",
       "text": [
        "\n",
        "calc_exac_maf_data Error: hg19 codon sequence retrieved CTG=L doesn't match HMMER amino-acid Y\n",
        "exac_validation_checks 38780764 Error: ExAC protein position 17 doesn't match HMMER protein position 16\n",
        "exac_validation_checks 38780764 Error: ExAC amino acid identity C doesn't match HMMER amino-acid Y\n",
        "exac_validation_checks 38780764 Error: ExAC bp codon TGC doesn't match hg19 codon sequence retrieved CTG\n",
        "calc_exac_maf_data 38780764 Error: the ExAC alt aa G doesn't match my alt aa calculation R\n",
        "chrom_pos_list = (38780766, 38780767, 38780768) protein_pos = 17 hmm_state = 2"
       ]
      },
      {
       "output_type": "stream",
       "stream": "stdout",
       "text": [
        "\n",
        "calc_exac_maf_data Error: hg19 codon sequence retrieved CAC=H doesn't match HMMER amino-acid C\n",
        "exac_validation_checks 38780766 Error: ExAC bp codon TGC doesn't match hg19 codon sequence retrieved CAC\n",
        "calc_exac_maf_data 38780766 Error: the ExAC alt aa C doesn't match my alt aa calculation Y\n",
        "exac_validation_checks 38780767 Error: ExAC protein position 18 doesn't match HMMER protein position 17\n",
        "exac_validation_checks 38780767 Error: ExAC amino acid identity T doesn't match HMMER amino-acid C\n",
        "exac_validation_checks 38780767 Error: ExAC bp codon ACC doesn't match hg19 codon sequence retrieved CAC\n",
        "calc_exac_maf_data 38780767 Error: the ExAC alt aa A doesn't match my alt aa calculation R\n",
        "chrom_pos_list = (38780769, 38780770, 38780771) protein_pos = 18 hmm_state = 3"
       ]
      },
      {
       "output_type": "stream",
       "stream": "stdout",
       "text": [
        "\n",
        "calc_exac_maf_data Error: hg19 codon sequence retrieved CGC=R doesn't match HMMER amino-acid T\n",
        "exac_validation_checks 38780769 Error: ExAC bp codon ACC doesn't match hg19 codon sequence retrieved CGC\n",
        "calc_exac_maf_data 38780769 Error: the ExAC alt aa T doesn't match my alt aa calculation C\n",
        "chrom_pos_list = (38780772, 38780773, 38780774) protein_pos = 19 hmm_state = 4"
       ]
      },
      {
       "output_type": "stream",
       "stream": "stdout",
       "text": [
        "\n",
        "calc_exac_maf_data Error: hg19 codon sequence retrieved CAA=Q doesn't match HMMER amino-acid A\n",
        "chrom_pos_list = (38780775, 38780776, 38780777) protein_pos = 20 hmm_state = 5"
       ]
      },
      {
       "output_type": "stream",
       "stream": "stdout",
       "text": [
        "\n",
        "calc_exac_maf_data Error: hg19 codon sequence retrieved CGC=R doesn't match HMMER amino-acid N\n",
        "exac_validation_checks 38780775 Error: ExAC bp codon AAC doesn't match hg19 codon sequence retrieved CGC\n",
        "calc_exac_maf_data 38780775 Error: the ExAC alt aa N doesn't match my alt aa calculation C\n",
        "exac_validation_checks 38780776 Error: ExAC protein position 21 doesn't match HMMER protein position 20\n",
        "exac_validation_checks 38780776 Error: ExAC amino acid identity A doesn't match HMMER amino-acid N\n",
        "exac_validation_checks 38780776 Error: ExAC bp codon GCA doesn't match hg19 codon sequence retrieved CGC\n",
        "calc_exac_maf_data 38780776 Error: the ExAC alt aa S doesn't match my alt aa calculation L\n",
        "exac_validation_checks 38780776 Error: ExAC protein position 21 doesn't match HMMER protein position 20\n",
        "exac_validation_checks 38780776 Error: ExAC amino acid identity A doesn't match HMMER amino-acid N\n",
        "exac_validation_checks 38780776 Error: ExAC bp codon GCA doesn't match hg19 codon sequence retrieved CGC\n",
        "calc_exac_maf_data 38780776 Error: the ExAC alt aa T doesn't match my alt aa calculation H\n",
        "chrom_pos_list = (38780778, 38780779, 38780780) protein_pos = 21 hmm_state = 6"
       ]
      },
      {
       "output_type": "stream",
       "stream": "stdout",
       "text": [
        "\n",
        "calc_exac_maf_data Error: hg19 codon sequence retrieved AGT=S doesn't match HMMER amino-acid A\n",
        "chrom_pos_list = (38780781, 38780782, 38780783) protein_pos = 22 hmm_state = 7"
       ]
      },
      {
       "output_type": "stream",
       "stream": "stdout",
       "text": [
        "\n",
        "calc_exac_maf_data Error: hg19 codon sequence retrieved CAC=H doesn't match HMMER amino-acid V\n",
        "chrom_pos_list = (38780784, 38780785, 38780786) protein_pos = 23 hmm_state = 8"
       ]
      },
      {
       "output_type": "stream",
       "stream": "stdout",
       "text": [
        "\n",
        "calc_exac_maf_data Error: hg19 codon sequence retrieved TGG=W doesn't match HMMER amino-acid T\n",
        "chrom_pos_list = (38780787, 38780788, 38780789) protein_pos = 24 hmm_state = 9"
       ]
      },
      {
       "output_type": "stream",
       "stream": "stdout",
       "text": [
        "\n",
        "calc_exac_maf_data Error: hg19 codon sequence retrieved GCC=A doesn't match HMMER amino-acid G\n",
        "chrom_pos_list = (38780790, 38780791, 38780792) protein_pos = 25 hmm_state = 10"
       ]
      },
      {
       "output_type": "stream",
       "stream": "stdout",
       "text": [
        "\n",
        "calc_exac_maf_data Error: hg19 codon sequence retrieved TTG=L doesn't match HMMER amino-acid P\n",
        "chrom_pos_list = (38780793, 38780794, 38780795) protein_pos = 26 hmm_state = 11"
       ]
      },
      {
       "output_type": "stream",
       "stream": "stdout",
       "text": [
        "\n",
        "calc_exac_maf_data Error: hg19 codon sequence retrieved CCG=P doesn't match HMMER amino-acid C\n",
        "exac_validation_checks 38780794 Error: ExAC protein position 27 doesn't match HMMER protein position 26\n",
        "exac_validation_checks 38780794 Error: ExAC amino acid identity R doesn't match HMMER amino-acid C\n",
        "exac_validation_checks 38780794 Error: ExAC bp codon CGT doesn't match hg19 codon sequence retrieved CCG\n",
        "calc_exac_maf_data 38780794 Error: the ExAC alt aa C doesn't match my alt aa calculation L\n",
        "chrom_pos_list = (38780796, 38780797, 38780798) protein_pos = 27 hmm_state = 12"
       ]
      },
      {
       "output_type": "stream",
       "stream": "stdout",
       "text": [
        "\n",
        "calc_exac_maf_data Error: hg19 codon sequence retrieved TGC=C doesn't match HMMER amino-acid R\n",
        "chrom_pos_list = (38780799, 38780800, 38780801) protein_pos = 28 hmm_state = 13"
       ]
      },
      {
       "output_type": "stream",
       "stream": "stdout",
       "text": [
        "\n",
        "calc_exac_maf_data Error: hg19 codon sequence retrieved ATC=I doesn't match HMMER amino-acid A\n",
        "exac_validation_checks 38780799 Error: ExAC bp codon GCA doesn't match hg19 codon sequence retrieved ATC\n",
        "calc_exac_maf_data 38780799 Error: the ExAC alt aa A doesn't match my alt aa calculation V\n",
        "chrom_pos_list = (38780802, 38780803, 38780804) protein_pos = 29 hmm_state = 14"
       ]
      },
      {
       "output_type": "stream",
       "stream": "stdout",
       "text": [
        "\n",
        "calc_exac_maf_data Error: hg19 codon sequence retrieved CTT=L doesn't match HMMER amino-acid S\n",
        "chrom_pos_list = (38780805, 38780806, 38780807) protein_pos = 30 hmm_state = 15"
       ]
      },
      {
       "output_type": "stream",
       "stream": "stdout",
       "text": [
        "\n",
        "calc_exac_maf_data Error: hg19 codon sequence retrieved CCC=P doesn't match HMMER amino-acid F\n",
        "exac_validation_checks 38780805 Error: ExAC bp codon TTC doesn't match hg19 codon sequence retrieved CCC\n",
        "calc_exac_maf_data 38780805 Error: the ExAC alt aa L doesn't match my alt aa calculation T\n",
        "chrom_pos_list = (38780808, 38780809, 38780810) protein_pos = 31 hmm_state = 16"
       ]
      },
      {
       "output_type": "stream",
       "stream": "stdout",
       "text": [
        "\n",
        "calc_exac_maf_data Error: hg19 codon sequence retrieved ACG=T doesn't match HMMER amino-acid P\n",
        "chrom_pos_list = (38780811, 38780812, 38780813) protein_pos = 32 hmm_state = 17"
       ]
      },
      {
       "output_type": "stream",
       "stream": "stdout",
       "text": [
        "\n",
        "calc_exac_maf_data Error: hg19 codon sequence retrieved CTG=L doesn't match HMMER amino-acid R\n",
        "chrom_pos_list = (38780814, 38780815, 38780816) protein_pos = 33 hmm_state = 18"
       ]
      },
      {
       "output_type": "stream",
       "stream": "stdout",
       "text": [
        "\n",
        "calc_exac_maf_data Error: hg19 codon sequence retrieved GTA=V doesn't match HMMER amino-acid W\n",
        "chrom_pos_list = (38780817, 38780818, 38780819) protein_pos = 34 hmm_state = 19"
       ]
      },
      {
       "output_type": "stream",
       "stream": "stdout",
       "text": [
        "\n",
        "calc_exac_maf_data Error: hg19 codon sequence retrieved CTT=L doesn't match HMMER amino-acid Y\n",
        "chrom_pos_list = (38780820, 38780821, 38780822) protein_pos = 35 hmm_state = 20"
       ]
      },
      {
       "output_type": "stream",
       "stream": "stdout",
       "text": [
        "\n",
        "calc_exac_maf_data Error: hg19 codon sequence retrieved TGA=* doesn't match HMMER amino-acid F\n",
        "chrom_pos_list = (38780823, 38780824, 38780825) protein_pos = 36 hmm_state = 21"
       ]
      },
      {
       "output_type": "stream",
       "stream": "stdout",
       "text": [
        "\n",
        "calc_exac_maf_data Error: hg19 codon sequence retrieved CGT=R doesn't match HMMER amino-acid D\n",
        "exac_validation_checks 38780823 Error: ExAC bp codon GAC doesn't match hg19 codon sequence retrieved CGT\n",
        "calc_exac_maf_data 38780823 Error: the ExAC alt aa D doesn't match my alt aa calculation C\n",
        "exac_validation_checks 38780823 Error: ExAC bp codon GAC doesn't match hg19 codon sequence retrieved CGT\n",
        "calc_exac_maf_data 38780823 Error: the ExAC alt aa E doesn't match my alt aa calculation S\n",
        "exac_validation_checks 38780824 Error: ExAC protein position 37 doesn't match HMMER protein position 36\n",
        "exac_validation_checks 38780824 Error: ExAC amino acid identity V doesn't match HMMER amino-acid D\n",
        "exac_validation_checks 38780824 Error: ExAC bp codon GTG doesn't match hg19 codon sequence retrieved CGT\n",
        "calc_exac_maf_data 38780824 Error: the ExAC alt aa M doesn't match my alt aa calculation H\n",
        "chrom_pos_list = (38780826, 38780827, 38780828) protein_pos = 37 hmm_state = 22"
       ]
      },
      {
       "output_type": "stream",
       "stream": "stdout",
       "text": [
        "\n",
        "calc_exac_maf_data Error: hg19 codon sequence retrieved GGA=G doesn't match HMMER amino-acid V\n",
        "chrom_pos_list = (38780832, 38780833, 38780834) protein_pos = 39 hmm_state = 24"
       ]
      },
      {
       "output_type": "stream",
       "stream": "stdout",
       "text": [
        "\n",
        "calc_exac_maf_data Error: hg19 codon sequence retrieved GAA=E doesn't match HMMER amino-acid R\n",
        "exac_validation_checks 38780833 Error: ExAC protein position 40 doesn't match HMMER protein position 39\n",
        "exac_validation_checks 38780833 Error: ExAC amino acid identity N doesn't match HMMER amino-acid R\n",
        "exac_validation_checks 38780833 Error: ExAC bp codon AAC doesn't match hg19 codon sequence retrieved GAA\n",
        "calc_exac_maf_data 38780833 Error: the ExAC alt aa D doesn't match my alt aa calculation G\n",
        "chrom_pos_list = (38780835, 38780836, 38780837) protein_pos = 40 hmm_state = 25"
       ]
      },
      {
       "output_type": "stream",
       "stream": "stdout",
       "text": [
        "\n",
        "calc_exac_maf_data Error: hg19 codon sequence retrieved CTC=L doesn't match HMMER amino-acid N\n",
        "exac_validation_checks 38780837 Error: ExAC protein position 41 doesn't match HMMER protein position 40\n",
        "exac_validation_checks 38780837 Error: ExAC amino acid identity S doesn't match HMMER amino-acid N\n",
        "exac_validation_checks 38780837 Error: ExAC bp codon TCC doesn't match hg19 codon sequence retrieved CTC\n",
        "calc_exac_maf_data 38780837 Error: the ExAC alt aa F doesn't match my alt aa calculation L\n",
        "chrom_pos_list = (38780838, 38780839, 38780840) protein_pos = 41 hmm_state = 26"
       ]
      },
      {
       "output_type": "stream",
       "stream": "stdout",
       "text": [
        "\n",
        "calc_exac_maf_data Error: hg19 codon sequence retrieved CTG=L doesn't match HMMER amino-acid S\n",
        "chrom_pos_list = (38780841, 38780842, 38780843) protein_pos = 42 hmm_state = 27"
       ]
      },
      {
       "output_type": "stream",
       "stream": "stdout",
       "text": [
        "\n",
        "calc_exac_maf_data Error: hg19 codon sequence retrieved CAA=Q doesn't match HMMER amino-acid C\n",
        "exac_validation_checks 38780842 Error: ExAC protein position 43 doesn't match HMMER protein position 42\n",
        "exac_validation_checks 38780842 Error: ExAC amino acid identity N doesn't match HMMER amino-acid C\n",
        "exac_validation_checks 38780842 Error: ExAC bp codon AAT doesn't match hg19 codon sequence retrieved CAA\n",
        "calc_exac_maf_data 38780842 Error: the ExAC alt aa D doesn't match my alt aa calculation R\n",
        "exac_validation_checks 38780843 Error: ExAC protein position 43 doesn't match HMMER protein position 42\n",
        "exac_validation_checks 38780843 Error: ExAC amino acid identity N doesn't match HMMER amino-acid C\n",
        "exac_validation_checks 38780843 Error: ExAC bp codon AAT doesn't match hg19 codon sequence retrieved CAA\n",
        "calc_exac_maf_data 38780843 Error: the ExAC alt aa S doesn't match my alt aa calculation Q\n",
        "chrom_pos_list = (38780844, 38780845, 38780846) protein_pos = 43 hmm_state = 28"
       ]
      },
      {
       "output_type": "stream",
       "stream": "stdout",
       "text": [
        "\n",
        "calc_exac_maf_data Error: hg19 codon sequence retrieved TAA=* doesn't match HMMER amino-acid N\n",
        "chrom_pos_list = (38780847, 38780848, 38780849) protein_pos = 44 hmm_state = 29"
       ]
      },
      {
       "output_type": "stream",
       "stream": "stdout",
       "text": [
        "\n",
        "calc_exac_maf_data Error: hg19 codon sequence retrieved CTT=L doesn't match HMMER amino-acid N\n",
        "chrom_pos_list = (38780850, 38780851, 38780852) protein_pos = 45 hmm_state = 30"
       ]
      },
      {
       "output_type": "stream",
       "stream": "stdout",
       "text": [
        "\n",
        "calc_exac_maf_data Error: hg19 codon sequence retrieved CAT=H doesn't match HMMER amino-acid F\n",
        "exac_validation_checks 38780850 Error: ExAC bp codon TTC doesn't match hg19 codon sequence retrieved CAT\n",
        "calc_exac_maf_data 38780850 Error: the ExAC alt aa L doesn't match my alt aa calculation N\n",
        "chrom_pos_list = (38780853, 38780854, 38780855) protein_pos = 46 hmm_state = 31"
       ]
      },
      {
       "output_type": "stream",
       "stream": "stdout",
       "text": [
        "\n",
        "calc_exac_maf_data Error: hg19 codon sequence retrieved CTA=L doesn't match HMMER amino-acid I\n",
        "exac_validation_checks 38780854 Error: ExAC protein position 47 doesn't match HMMER protein position 46\n",
        "exac_validation_checks 38780854 Error: ExAC amino acid identity Y doesn't match HMMER amino-acid I\n",
        "exac_validation_checks 38780854 Error: ExAC bp codon TAT doesn't match hg19 codon sequence retrieved CTA\n",
        "calc_exac_maf_data 38780854 Error: the ExAC alt aa N doesn't match my alt aa calculation Q\n",
        "exac_validation_checks 38780855 Error: ExAC protein position 47 doesn't match HMMER protein position 46\n",
        "exac_validation_checks 38780855 Error: ExAC amino acid identity Y doesn't match HMMER amino-acid I\n",
        "exac_validation_checks 38780855 Error: ExAC bp codon TAT doesn't match hg19 codon sequence retrieved CTA\n",
        "calc_exac_maf_data 38780855 Error: the ExAC alt aa C doesn't match my alt aa calculation L\n",
        "chrom_pos_list = (38780856, 38780857, 38780858) protein_pos = 47 hmm_state = 32"
       ]
      },
      {
       "output_type": "stream",
       "stream": "stdout",
       "text": [
        "\n",
        "calc_exac_maf_data Error: hg19 codon sequence retrieved TGG=W doesn't match HMMER amino-acid Y\n",
        "chrom_pos_list = (38780859, 38780860, 38780861) protein_pos = 48 hmm_state = 33"
       ]
      },
      {
       "output_type": "stream",
       "stream": "stdout",
       "text": [
        "\n",
        "calc_exac_maf_data Error: hg19 codon sequence retrieved AGG=R doesn't match HMMER amino-acid G\n",
        "chrom_pos_list = (38780862, 38780863, 38780864) protein_pos = 49 hmm_state = 34"
       ]
      },
      {
       "output_type": "stream",
       "stream": "stdout",
       "text": [
        "\n",
        "calc_exac_maf_data Error: hg19 codon sequence retrieved CTG=L doesn't match HMMER amino-acid G\n",
        "chrom_pos_list = (38780865, 38780866, 38780867) protein_pos = 50 hmm_state = 35"
       ]
      },
      {
       "output_type": "stream",
       "stream": "stdout",
       "text": [
        "\n",
        "calc_exac_maf_data Error: hg19 codon sequence retrieved CCG=P doesn't match HMMER amino-acid C\n",
        "exac_validation_checks 38780866 Error: ExAC protein position 51 doesn't match HMMER protein position 50\n",
        "exac_validation_checks 38780866 Error: ExAC amino acid identity R doesn't match HMMER amino-acid C\n",
        "exac_validation_checks 38780866 Error: ExAC bp codon CGG doesn't match hg19 codon sequence retrieved CCG\n",
        "calc_exac_maf_data 38780866 Error: the ExAC alt aa W doesn't match my alt aa calculation L\n",
        "exac_validation_checks 38780867 Error: ExAC protein position 51 doesn't match HMMER protein position 50\n",
        "exac_validation_checks 38780867 Error: ExAC amino acid identity R doesn't match HMMER amino-acid C\n",
        "exac_validation_checks 38780867 Error: ExAC bp codon CGG doesn't match hg19 codon sequence retrieved CCG\n",
        "calc_exac_maf_data 38780867 Error: the ExAC alt aa Q doesn't match my alt aa calculation P\n",
        "chrom_pos_list = (38780868, 38780869, 38780870) protein_pos = 51 hmm_state = 36"
       ]
      },
      {
       "output_type": "stream",
       "stream": "stdout",
       "text": [
        "\n",
        "calc_exac_maf_data Error: hg19 codon sequence retrieved GGG=G doesn't match HMMER amino-acid R\n",
        "chrom_pos_list = (38780871, 38780872, 38780873) protein_pos = 52 hmm_state = 37"
       ]
      },
      {
       "output_type": "stream",
       "stream": "stdout",
       "text": [
        "\n",
        "calc_exac_maf_data Error: hg19 codon sequence retrieved CAA=Q doesn't match HMMER amino-acid G\n",
        "chrom_pos_list = (38780874, 38780875, 38780876) protein_pos = 53 hmm_state = 38"
       ]
      },
      {
       "output_type": "stream",
       "stream": "stdout",
       "text": [
        "\n",
        "calc_exac_maf_data Error: hg19 codon sequence retrieved TAA=* doesn't match HMMER amino-acid N\n",
        "exac_validation_checks 38780876 Error: ExAC protein position 54 doesn't match HMMER protein position 53\n",
        "exac_validation_checks 38780876 Error: ExAC amino acid identity K doesn't match HMMER amino-acid N\n",
        "exac_validation_checks 38780876 Error: ExAC bp codon AAG doesn't match hg19 codon sequence retrieved TAA\n",
        "calc_exac_maf_data 38780876 Error: the ExAC alt aa R doesn't match my alt aa calculation *\n",
        "chrom_pos_list = (38780877, 38780878, 38780879) protein_pos = 54 hmm_state = 39"
       ]
      },
      {
       "output_type": "stream",
       "stream": "stdout",
       "text": [
        "\n",
        "calc_exac_maf_data Error: hg19 codon sequence retrieved GAA=E doesn't match HMMER amino-acid K\n",
        "chrom_pos_list = (38780880, 38780881, 38780882) protein_pos = 55 hmm_state = 40"
       ]
      },
      {
       "output_type": "stream",
       "stream": "stdout",
       "text": [
        "\n",
        "calc_exac_maf_data Error: hg19 codon sequence retrieved CAG=Q doesn't match HMMER amino-acid N\n",
        "chrom_pos_list = (38780883, 38780884, 38780885) protein_pos = 56 hmm_state = 41"
       ]
      },
      {
       "output_type": "stream",
       "stream": "stdout",
       "text": [
        "\n",
        "calc_exac_maf_data Error: hg19 codon sequence retrieved CTA=L doesn't match HMMER amino-acid S\n",
        "chrom_pos_list = (38780886, 38780887, 38780888) protein_pos = 57 hmm_state = 42"
       ]
      },
      {
       "output_type": "stream",
       "stream": "stdout",
       "text": [
        "\n",
        "calc_exac_maf_data Error: hg19 codon sequence retrieved CCG=P doesn't match HMMER amino-acid Y\n",
        "exac_validation_checks 38780888 Error: ExAC protein position 58 doesn't match HMMER protein position 57\n",
        "exac_validation_checks 38780888 Error: ExAC amino acid identity R doesn't match HMMER amino-acid Y\n",
        "exac_validation_checks 38780888 Error: ExAC bp codon CGC doesn't match hg19 codon sequence retrieved CCG\n",
        "calc_exac_maf_data 38780888 Error: the ExAC alt aa H doesn't match my alt aa calculation P\n",
        "chrom_pos_list = (38780889, 38780890, 38780891) protein_pos = 58 hmm_state = 43"
       ]
      },
      {
       "output_type": "stream",
       "stream": "stdout",
       "text": [
        "\n",
        "calc_exac_maf_data Error: hg19 codon sequence retrieved CTC=L doesn't match HMMER amino-acid R\n",
        "exac_validation_checks 38780891 Error: ExAC protein position 59 doesn't match HMMER protein position 58\n",
        "exac_validation_checks 38780891 Error: ExAC amino acid identity S doesn't match HMMER amino-acid R\n",
        "exac_validation_checks 38780891 Error: ExAC bp codon TCT doesn't match hg19 codon sequence retrieved CTC\n",
        "calc_exac_maf_data 38780891 Error: the ExAC alt aa F doesn't match my alt aa calculation L\n",
        "chrom_pos_list = (38780892, 38780893, 38780894) protein_pos = 59 hmm_state = 44"
       ]
      },
      {
       "output_type": "stream",
       "stream": "stdout",
       "text": [
        "\n",
        "calc_exac_maf_data Error: hg19 codon sequence retrieved TGA=* doesn't match HMMER amino-acid S\n",
        "chrom_pos_list = (38780895, 38780896, 38780897) protein_pos = 60 hmm_state = 45"
       ]
      },
      {
       "output_type": "stream",
       "stream": "stdout",
       "text": [
        "\n",
        "calc_exac_maf_data Error: hg19 codon sequence retrieved GGA=G doesn't match HMMER amino-acid E\n",
        "chrom_pos_list = (38780898, 38780899, 38780900) protein_pos = 61 hmm_state = 46"
       ]
      },
      {
       "output_type": "stream",
       "stream": "stdout",
       "text": [
        "\n",
        "calc_exac_maf_data Error: hg19 codon sequence retrieved GGC=G doesn't match HMMER amino-acid E\n",
        "exac_validation_checks 38780898 Error: ExAC bp codon GAG doesn't match hg19 codon sequence retrieved GGC\n",
        "calc_exac_maf_data 38780898 Error: the ExAC alt aa E doesn't match my alt aa calculation S\n",
        "exac_validation_checks 38780900 Error: ExAC protein position 62 doesn't match HMMER protein position 61\n",
        "exac_validation_checks 38780900 Error: ExAC amino acid identity A doesn't match HMMER amino-acid E\n",
        "exac_validation_checks 38780900 Error: ExAC bp codon GCC doesn't match hg19 codon sequence retrieved GGC\n",
        "calc_exac_maf_data 38780900 Error: the ExAC alt aa V doesn't match my alt aa calculation G\n",
        "chrom_pos_list = (38780901, 38780902, 38780903) protein_pos = 62 hmm_state = 47"
       ]
      },
      {
       "output_type": "stream",
       "stream": "stdout",
       "text": [
        "\n",
        "calc_exac_maf_data Error: hg19 codon sequence retrieved CTG=L doesn't match HMMER amino-acid A\n",
        "chrom_pos_list = (38780904, 38780905, 38780906) protein_pos = 63 hmm_state = 48"
       ]
      },
      {
       "output_type": "stream",
       "stream": "stdout",
       "text": [
        "\n",
        "calc_exac_maf_data Error: hg19 codon sequence retrieved CAT=H doesn't match HMMER amino-acid C\n",
        "chrom_pos_list = (38780907, 38780908, 38780909) protein_pos = 64 hmm_state = 49"
       ]
      },
      {
       "output_type": "stream",
       "stream": "stdout",
       "text": [
        "\n",
        "calc_exac_maf_data Error: hg19 codon sequence retrieved GCT=A doesn't match HMMER amino-acid M\n",
        "chrom_pos_list = (38780910, 38780911, 38780912) protein_pos = 65 hmm_state = 50"
       ]
      },
      {
       "output_type": "stream",
       "stream": "stdout",
       "text": [
        "\n",
        "calc_exac_maf_data Error: hg19 codon sequence retrieved CCG=P doesn't match HMMER amino-acid L\n",
        "exac_validation_checks 38780912 Error: ExAC protein position 66 doesn't match HMMER protein position 65\n",
        "exac_validation_checks 38780912 Error: ExAC amino acid identity R doesn't match HMMER amino-acid L\n",
        "exac_validation_checks 38780912 Error: ExAC bp codon CGC doesn't match hg19 codon sequence retrieved CCG\n",
        "calc_exac_maf_data 38780912 Error: the ExAC alt aa H doesn't match my alt aa calculation P\n",
        "chrom_pos_list = (38780913, 38780914, 38780915) protein_pos = 66 hmm_state = 51"
       ]
      },
      {
       "output_type": "stream",
       "stream": "stdout",
       "text": [
        "\n",
        "calc_exac_maf_data Error: hg19 codon sequence retrieved CTG=L doesn't match HMMER amino-acid R\n",
        "exac_validation_checks 38780913 Error: ExAC bp codon CGC doesn't match hg19 codon sequence retrieved CTG\n",
        "calc_exac_maf_data 38780913 Error: the ExAC alt aa R doesn't match my alt aa calculation L\n",
        "chrom_pos_list = (38780916, 38780917, 38780918) protein_pos = 67 hmm_state = 52"
       ]
      },
      {
       "output_type": "stream",
       "stream": "stdout",
       "text": [
        "\n",
        "calc_exac_maf_data Error: hg19 codon sequence retrieved CTT=L doesn't match HMMER amino-acid C\n",
        "chrom_pos_list = (38780919, 38780920, 38781177) protein_pos = 68 hmm_state = 53"
       ]
      },
      {
       "output_type": "stream",
       "stream": "stdout",
       "text": [
        "\n",
        "calc_exac_maf_data Error: hg19 codon sequence retrieved CCG=P doesn't match HMMER amino-acid F\n",
        "exac_validation_checks 38780920 Error: ExAC protein position 69 doesn't match HMMER protein position 68\n",
        "exac_validation_checks 38780920 Error: ExAC amino acid identity R doesn't match HMMER amino-acid F\n",
        "exac_validation_checks 38780920 Error: ExAC bp codon CGC doesn't match hg19 codon sequence retrieved CCG\n",
        "calc_exac_maf_data 38780920 Error: the ExAC alt aa C doesn't match my alt aa calculation L\n",
        "Finished protein ENSG00000267748.2\n",
        "Finished chromosome 19\n",
        "Finished protein ENSG00000101446.7"
       ]
      },
      {
       "output_type": "stream",
       "stream": "stdout",
       "text": [
        "\n",
        "Finished protein ENSG00000101448.9"
       ]
      },
      {
       "output_type": "stream",
       "stream": "stdout",
       "text": [
        "\n",
        "Finished protein ENSG00000149651.3"
       ]
      },
      {
       "output_type": "stream",
       "stream": "stdout",
       "text": [
        "\n",
        "Finished protein ENSG00000158901.7"
       ]
      },
      {
       "output_type": "stream",
       "stream": "stdout",
       "text": [
        "\n",
        "Finished protein ENSG00000243543.4"
       ]
      },
      {
       "output_type": "stream",
       "stream": "stdout",
       "text": [
        "\n",
        "Finished protein ENSG00000249139.1"
       ]
      },
      {
       "output_type": "stream",
       "stream": "stdout",
       "text": [
        "\n",
        "Finished chromosome 20\n",
        "Finished protein ENSG00000142192.16"
       ]
      },
      {
       "output_type": "stream",
       "stream": "stdout",
       "text": [
        "\n",
        "Finished chromosome 21\n",
        "Finished chromosome 22"
       ]
      },
      {
       "output_type": "stream",
       "stream": "stdout",
       "text": [
        "\n",
        "Finished chromosome X"
       ]
      },
      {
       "output_type": "stream",
       "stream": "stdout",
       "text": [
        "\n",
        "Finished chromosome Y"
       ]
      },
      {
       "output_type": "stream",
       "stream": "stdout",
       "text": [
        "\n"
       ]
      },
      {
       "output_type": "stream",
       "stream": "stdout",
       "text": [
        "CPU times: user 3min 40s, sys: 2min 32s, total: 6min 13s\n",
        "Wall time: 8min 54s\n"
       ]
      },
      {
       "output_type": "stream",
       "stream": "stderr",
       "text": [
        "/home/anat/anaconda2/lib/python2.7/site-packages/pandas/core/frame.py:1997: UserWarning: Boolean Series key will be reindexed to match DataFrame index.\n",
        "  \"DataFrame index.\", UserWarning)\n"
       ]
      }
     ],
     "prompt_number": 6
    },
    {
     "cell_type": "code",
     "collapsed": false,
     "input": [],
     "language": "python",
     "metadata": {},
     "outputs": [],
     "prompt_number": 7
    },
    {
     "cell_type": "code",
     "collapsed": false,
     "input": [
      "sum(domain_ens_genes_errors)"
     ],
     "language": "python",
     "metadata": {},
     "outputs": [
      {
       "output_type": "pyout",
       "prompt_number": 7,
       "text": [
        "20"
       ]
      }
     ],
     "prompt_number": 7
    },
    {
     "cell_type": "code",
     "collapsed": false,
     "input": [
      "sum(domain_ens_genes_frameshifts)"
     ],
     "language": "python",
     "metadata": {},
     "outputs": [
      {
       "output_type": "pyout",
       "prompt_number": 8,
       "text": [
        "20"
       ]
      }
     ],
     "prompt_number": 8
    },
    {
     "cell_type": "code",
     "collapsed": false,
     "input": [
      "sum(domain_ens_genes_filter)"
     ],
     "language": "python",
     "metadata": {},
     "outputs": [
      {
       "output_type": "pyout",
       "prompt_number": 9,
       "text": [
        "0"
       ]
      }
     ],
     "prompt_number": 9
    },
    {
     "cell_type": "code",
     "collapsed": false,
     "input": [
      "sum(domain_ens_genes_filter)"
     ],
     "language": "python",
     "metadata": {},
     "outputs": [
      {
       "output_type": "pyout",
       "prompt_number": 10,
       "text": [
        "0"
       ]
      }
     ],
     "prompt_number": 10
    },
    {
     "cell_type": "code",
     "collapsed": false,
     "input": [
      "max(chrom_gene_table[\"AN\"])"
     ],
     "language": "python",
     "metadata": {},
     "outputs": [
      {
       "output_type": "pyout",
       "prompt_number": 11,
       "text": [
        "106210"
       ]
      }
     ],
     "prompt_number": 11
    }
   ],
   "metadata": {}
  }
 ]
}
