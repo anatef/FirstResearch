{
 "cells": [
  {
   "cell_type": "code",
   "execution_count": null,
   "metadata": {
    "collapsed": true
   },
   "outputs": [],
   "source": [
    "import pandas as pd\n",
    "import numpy as np\n",
    "from indels_func import is_indel, table_editing, indel_type\n",
    "from mapping_func import create_exon_pos_table\n",
    "import pickle"
   ]
  },
  {
   "cell_type": "code",
   "execution_count": null,
   "metadata": {
    "collapsed": true
   },
   "outputs": [],
   "source": [
    "#Getting path\n",
    "curr_dir = !pwd\n",
    "in_path = curr_dir[0]+\"/../3.parse_HMMER/hmm_domains/pfam-v30/\"\n",
    "chrom_path = curr_dir[0]+\"/../1.parse_ExAC/parsed_filtered/\"\n",
    "chrom_filename = \"parsed_filtered_chrom\"\n",
    "out_path = curr_dir[0]+\"/domain_gene_exac/pfam-v30/\"\n",
    "\n",
    "#Reading the list of filtered domains\n",
    "with open(curr_dir[0]+\"/../5.domains_stats/filtered10_list.pik\", 'rb') as handle:\n",
    "    filtered_domains_list10 = pickle.load(handle)\n",
    "filtered_domains_list10.sort()\n",
    "\n",
    "#Chromosome names\n",
    "chromosome_names = [\"1\", \"2\", \"3\", \"4\", \"5\", \"6\", \"7\", \"8\", \"9\", \"10\", \"11\", \"12\", \"13\", \"14\", \"15\", \"16\", \"17\", \"18\", \"19\", \"20\", \"21\", \"22\", \"X\", \"Y\"]"
   ]
  },
  {
   "cell_type": "code",
   "execution_count": null,
   "metadata": {
    "collapsed": false
   },
   "outputs": [],
   "source": [
    "%%time\n",
    "for chrom in chromosome_names:\n",
    "    \"\n",
    "    #Loading the ExAC parsed data of this chromosome\n",
    "    fields = [\"chrom\", \"pos\", \"ref\", \"alt\", \"filter\", \"AC\", \"AC_AFR\", \"AC_AMR\", \"AC_Adj\", \"AC_EAS\", \"AC_FIN\", \"AC_Het\", \"AC_Hom\", \"AC_NFE\", \"AC_OTH\", \"AC_SAS\", \n",
    "              \"AF\", \"AN\", \"AN_AFR\", \"AN_AMR\", \"AN_Adj\", \"AN_EAS\", \"AN_FIN\", \"AN_NFE\", \"AN_OTH\", \"AN_SAS\", \"prot_pos\", \"amino_acids\", \"codons\", \"ENSP\", \n",
    "              \"SWISSPROT\", \"SIFT\", \"PolyPhen\",\"clin_sig\", \"conseq\", \"feature\", \"strand\", \"coverage\"]\n",
    "                #More fields that might be interesting:  feature_type, domains, , gene\n",
    "    chrom_csv = pd.read_csv(chrom_path+chrom_filename+chrom+\".csv\", sep='\\t', usecols=fields,\n",
    "                           dtype={\"AC\": int, \"AC_AFR\": int, \"AC_AMR\": int, \"AC_Adj\": int, \"AC_EAS\": int,\n",
    "                               \"AC_FIN\": int, \"AC_Het\": int, \"AC_Hom\": int, \"AC_NFE\": int, \"AC_OTH\": int, \"AC_SAS\": int, \"AF\": float, \"AN\": int, \"AN_AFR\": int,\n",
    "                               \"AN_AMR\": int, \"AN_Adj\": int, \"AN_EAS\": int, \"AN_FIN\": int, \"AN_NFE\": int, \"AN_OTH\": int, \"AN_SAS\": int, \"prot_pos\": str})\n",
    "    chrom_csv = chrom_csv.sort_values(by=[\"pos\"])\n",
    "    chrom_csv = chrom_csv.reset_index(drop=True)\n",
    "    chrom_csv.fillna('', inplace=True)\n",
    "    chrom_csv[\"comments\"] = \"\"\n",
    "\n",
    "    for domain_name in filtered_domains_list10:\n",
    "    \n",
    "        #Get the canonic protein id for the domain\n",
    "        with open(curr_dir[0]+\"/../4.parse_Uniprot/domains_canonic_prot/pfam-v30/\"+domain_name+\"_canonic_prot.pik\", 'rb') as handle:\n",
    "            canonic_protein = pickle.load(handle)\n",
    "    \n",
    "        filename = domain_name+\".csv\"\n",
    "        domain_data = pd.read_csv(in_path+filename, sep='\\t', index_col=0, dtype={\"chrom_num\": str})\n",
    "        #Sort the domain data\n",
    "        sorted_domain_data = domain_data.sort_values(by=[\"chrom_num\", \"gene\", \"TargetStart\"])\n",
    "        sorted_domain_data = sorted_domain_data.reset_index(drop=True)\n",
    "\n",
    "        #Filtering the domain data relevant to this chromosome\n",
    "        domain_chrom_data = sorted_domain_data[sorted_domain_data[\"chrom_num\"] == chrom]\n",
    "\n",
    "        #Getting a list of all the relevant ensembl gene ids for this chromosome\n",
    "        domain_ens_genes = (domain_chrom_data[\"gene\"]).unique()\n",
    "        #domain_ens_genes_all.extend(domain_ens_genes)\n",
    "\n",
    "        #If this domain have no genes on this chromosome, continue to the next chromosome\n",
    "        if (len(domain_ens_genes) == 0):\n",
    "            print \"Finished domain \"+domain_name\n",
    "            continue\n",
    "        \n",
    "        for ens_gene in domain_ens_genes:\n",
    "        \n",
    "            #Filtering the domain data for this gene according to the canonical protein id\n",
    "            canonic_prot = canonic_protein[ens_gene]\n",
    "            canonic_prot_t = canonic_prot[:canonic_prot.find(\".\")] #Trimming the \".#\" at the end\n",
    "            domain_gene_table = domain_chrom_data[domain_chrom_data[\"prot\"] == canonic_prot]\n",
    "            #Making sure that if two HMM-matches overlaps, the higher bit score will come first in the table\n",
    "            domain_gene_table = domain_gene_table.sort_values(by=\"BitScore\", ascending=False)\n",
    "            domain_gene_name = domain_gene_table[\"hugoSymbol\"].unique()[0]\n",
    "            if (len(domain_gene_table[\"hugoSymbol\"].unique()) > 1):\n",
    "                print functionNameAsString+\" Error: \"+ens_gene+\": more than one Hugo symbol\"  #sanity check\n",
    "\n",
    "            #Creating a table of the exons for this gene, according to the canonical protein\n",
    "            chrom_raw_data = domain_gene_table[\"chromosome\"].unique()[0] #there should be only one element here\n",
    "            if (len(domain_gene_table[\"chromosome\"].unique()) > 1):\n",
    "                print functionNameAsString+\" Error: \"+ens_gene+\": more than one chromosome raw data\" #sanity check\n",
    "            targetid = domain_gene_table[\"#TargetID\"].unique()[0]\n",
    "            exon_table = create_exon_pos_table(chrom_raw_data, targetid)\n",
    "\n",
    "            #Filtering the chromosome data to the gene exons region\n",
    "            exons_start_pos = min(exon_table[\"start_pos\"][0],exon_table[\"start_pos\"][len(exon_table)-1]) #in case of complelemt, the minimal position could be at the last row\n",
    "            exons_end_pos = max(exon_table[\"end_pos\"][0],exon_table[\"end_pos\"][len(exon_table)-1]) #in case of complelemt, the maximal position could be at the first row\n",
    "            chrom_gene_table = chrom_csv[chrom_csv[\"pos\"] >= int(exons_start_pos)][chrom_csv[\"pos\"] <= int(exons_end_pos)][chrom_csv[\"ENSP\"] == canonic_prot_t]\n",
    "            chrom_gene_table = chrom_gene_table.reset_index(drop=True)\n",
    "            \n",
    "            #Adding chrom column to the table\n",
    "            chrom_gene_table[\"chrom\"] = chrom\n",
    "\n",
    "            #Handling indels\n",
    "            indels_table = table_editing(chrom_gene_table)\n",
    "            \n",
    "            !mkdir -p domain_gene_exac/pfam-v30/$domain_name\n",
    "            !mkdir -p domain_gene_exac/pfam-v30/$domain_name/$ens_gene\n",
    "            chrom_gene_table.to_csv(out_path+domain_name+\"/\"+ens_gene+\"/chrom_gene_table.csv\",sep='\\t')\n",
    "            indels_table.to_csv(out_path+domain_name+\"/\"+ens_gene+\"/indels_table.csv\",sep='\\t')\n",
    "            exon_table.to_csv(out_path+domain_name+\"/\"+ens_gene+\"/exon_table.csv\",sep='\\t')\n",
    "            \n",
    "            print \"Finished gene \"+ens_gene\n",
    "        print \"Finished domain \"+domain_name\n",
    "    print \"Finished chromosome \"+chrom"
   ]
  }
 ],
 "metadata": {
  "kernelspec": {
   "display_name": "Python 2",
   "language": "python",
   "name": "python2"
  },
  "language_info": {
   "codemirror_mode": {
    "name": "ipython",
    "version": 2
   },
   "file_extension": ".py",
   "mimetype": "text/x-python",
   "name": "python",
   "nbconvert_exporter": "python",
   "pygments_lexer": "ipython2",
   "version": "2.7.12"
  }
 },
 "nbformat": 4,
 "nbformat_minor": 1
}
