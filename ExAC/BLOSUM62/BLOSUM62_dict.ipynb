{
 "cells": [
  {
   "cell_type": "code",
   "execution_count": 1,
   "metadata": {
    "collapsed": true
   },
   "outputs": [],
   "source": [
    "import pandas as pd\n",
    "import numpy as np\n",
    "import fileinput\n",
    "import pickle\n",
    "from collections import defaultdict"
   ]
  },
  {
   "cell_type": "code",
   "execution_count": 2,
   "metadata": {
    "collapsed": false
   },
   "outputs": [],
   "source": [
    "curr_dir = !pwd\n",
    "filename = \"BLOSUM62.txt\""
   ]
  },
  {
   "cell_type": "code",
   "execution_count": 3,
   "metadata": {
    "collapsed": false
   },
   "outputs": [],
   "source": [
    "curr_dir = !pwd\n",
    "\n",
    "blosum62_dict = defaultdict(dict)\n",
    "for line in fileinput.input(curr_dir[0]+\"/BLOSUM62.txt\"):\n",
    "    \n",
    "    #Skipping comments at the beginning of the file\n",
    "    if (line[0] == \"#\"):\n",
    "        continue\n",
    "        \n",
    "    #Reading aa order\n",
    "    if (line[0] == \" \"):\n",
    "        aa_order = line.split()\n",
    "        continue\n",
    "    \n",
    "    #Reading values to dict\n",
    "    vals = line.split()\n",
    "    for i in range(1,len(vals)):\n",
    "        blosum62_dict[vals[0]][aa_order[i-1]] = int(vals[i])\n",
    "\n",
    "fileinput.close()"
   ]
  },
  {
   "cell_type": "code",
   "execution_count": 5,
   "metadata": {
    "collapsed": false
   },
   "outputs": [],
   "source": [
    "#Saving to file\n",
    "with open(curr_dir[0]+'/BLOSUM62_dict.pik', 'wb') as handle:\n",
    "    pickle.dump(blosum62_dict, handle, protocol=pickle.HIGHEST_PROTOCOL)"
   ]
  }
 ],
 "metadata": {
  "kernelspec": {
   "display_name": "Python 2",
   "language": "python",
   "name": "python2"
  },
  "language_info": {
   "codemirror_mode": {
    "name": "ipython",
    "version": 2
   },
   "file_extension": ".py",
   "mimetype": "text/x-python",
   "name": "python",
   "nbconvert_exporter": "python",
   "pygments_lexer": "ipython2",
   "version": "2.7.12"
  }
 },
 "nbformat": 4,
 "nbformat_minor": 1
}
