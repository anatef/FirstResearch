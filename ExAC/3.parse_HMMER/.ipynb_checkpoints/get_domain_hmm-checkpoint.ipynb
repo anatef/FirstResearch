{
 "cells": [
  {
   "cell_type": "markdown",
   "metadata": {},
   "source": [
    "# Parse the HMM results, filter by domain"
   ]
  },
  {
   "cell_type": "markdown",
   "metadata": {},
   "source": [
    "Read and parse the hmmer results obtained from Shilpa. Then filter several domains and save them seperatelly."
   ]
  },
  {
   "cell_type": "code",
   "execution_count": 1,
   "metadata": {
    "collapsed": false
   },
   "outputs": [],
   "source": [
    "#Import packages\n",
    "import pandas as pd\n",
    "import numpy as np\n",
    "import unicodedata\n",
    "from IPython.core.display import HTML\n",
    "from get_domain_func import process_hmmer_results\n",
    "import pickle\n",
    "HTML(\"<style>.container { width:100% !important; }</style>\");"
   ]
  },
  {
   "cell_type": "code",
   "execution_count": 2,
   "metadata": {
    "collapsed": false
   },
   "outputs": [],
   "source": [
    "#Constants\n",
    "domains = [\"zf-C2H2\", \"Homeobox\", \"WW\", \"PUF\", \"SH3_1\"] #The domains to filter\n",
    "curr_dir = !pwd\n",
    "input_path = curr_dir[0]+\"/from_shilpa/\"\n",
    "out_path = curr_dir[0]+\"/allhmm_parsed/\"\n",
    "filename = \"allhmmresbyprot-v29.tsv.gz\"\n",
    "\n",
    "# Reading the HMMER results\n",
    "allhmm = pd.read_csv(input_path+filename, sep='\\t')\n",
    "\n",
    "# A little more processing to the data to look better in the data-frame\n",
    "allhmm = process_hmmer_results(allhmm)\n",
    "\n",
    "#Saving the processed data-frame\n",
    "allhmm.to_csv(out_path+\"allhmm_parsed-v29.csv\", sep='\\t')\n",
    "\n",
    "#Reading the table of Pfam domains gathering threshold\n",
    "domains_GA = pd.read_csv(curr_dir[0]+\"/../2.parse_Pfam/domains_GA.csv\", sep='\\t', index_col=0)"
   ]
  },
  {
   "cell_type": "code",
   "execution_count": 3,
   "metadata": {
    "collapsed": false
   },
   "outputs": [],
   "source": [
    "#Filtering to the domains in the input list\n",
    "for dom_sym in domains:\n",
    "    #Filter the table to the domain\n",
    "    domain_data = allhmm[allhmm[\"domain_name\"] == dom_sym]\n",
    "    domain_data = domain_data.reset_index(drop=True)\n",
    "    \n",
    "    #Get the domain gathering threshold\n",
    "    domain_GA = float(domains_GA[domains_GA[\"name\"] == dom_sym][\"GA\"])\n",
    "    \n",
    "    #Filter according to the gathering thresold\n",
    "    domain_ga_filtered = domain_data[domain_data[\"BitScore\"] >= domain_GA]\n",
    "    domain_ga_filtered = domain_ga_filtered.reset_index(drop=True)\n",
    "    \n",
    "    #Saving the domain data to file\n",
    "    domain_ga_filtered.to_csv(curr_dir[0]+\"/hmm_domains/\"+dom_sym+\".csv\", sep='\\t')"
   ]
  },
  {
   "cell_type": "markdown",
   "metadata": {},
   "source": [
    "### Debugging code to find missing data points between two hmmer results"
   ]
  },
  {
   "cell_type": "code",
   "execution_count": null,
   "metadata": {
    "collapsed": false
   },
   "outputs": [],
   "source": [
    "allhmm = pd.read_csv(out_path+\"allhmm_parsed.csv\", sep='\\t')\n",
    "allhmm_v29 = pd.read_csv(out_path+\"allhmm_parsed-v29.csv\", sep='\\t')"
   ]
  },
  {
   "cell_type": "code",
   "execution_count": null,
   "metadata": {
    "collapsed": false
   },
   "outputs": [],
   "source": [
    "old_table = pd.DataFrame([allhmm[\"#TargetID\"], allhmm[\"pfam_id\"], allhmm[\"TargetStart\"], allhmm[\"TargetEnd\"]]).transpose()"
   ]
  },
  {
   "cell_type": "code",
   "execution_count": null,
   "metadata": {
    "collapsed": true
   },
   "outputs": [],
   "source": [
    "new_table = pd.DataFrame([allhmm_v29[\"#TargetID\"], allhmm_v29[\"pfam_id\"], allhmm_v29[\"TargetStart\"], allhmm_v29[\"TargetEnd\"]]).transpose()"
   ]
  },
  {
   "cell_type": "code",
   "execution_count": null,
   "metadata": {
    "collapsed": false
   },
   "outputs": [],
   "source": [
    "old_tuples = set()\n",
    "for index, line in old_table.iterrows():\n",
    "    old_tuples.add(tuple(line))"
   ]
  },
  {
   "cell_type": "code",
   "execution_count": null,
   "metadata": {
    "collapsed": true
   },
   "outputs": [],
   "source": [
    "new_tuples = set()\n",
    "for index, line in new_table.iterrows():\n",
    "    new_tuples.add(tuple(line))"
   ]
  },
  {
   "cell_type": "code",
   "execution_count": null,
   "metadata": {
    "collapsed": false
   },
   "outputs": [],
   "source": [
    "with open(out_path+'old_tuples.pik', 'wb') as handle:\n",
    "    pickle.dump(old_tuples, handle, protocol=pickle.HIGHEST_PROTOCOL)"
   ]
  },
  {
   "cell_type": "code",
   "execution_count": null,
   "metadata": {
    "collapsed": true
   },
   "outputs": [],
   "source": [
    "with open(out_path+'new_tuples.pik', 'wb') as handle:\n",
    "    pickle.dump(new_tuples, handle, protocol=pickle.HIGHEST_PROTOCOL)"
   ]
  },
  {
   "cell_type": "code",
   "execution_count": null,
   "metadata": {
    "collapsed": true
   },
   "outputs": [],
   "source": [
    "a = old_tuples.difference(new_tuples)"
   ]
  },
  {
   "cell_type": "code",
   "execution_count": null,
   "metadata": {
    "collapsed": false
   },
   "outputs": [],
   "source": [
    "len(a)"
   ]
  },
  {
   "cell_type": "code",
   "execution_count": null,
   "metadata": {
    "collapsed": false
   },
   "outputs": [],
   "source": [
    "with open(out_path+'missing_tuples.pik', 'wb') as handle:\n",
    "    pickle.dump(a, handle, protocol=pickle.HIGHEST_PROTOCOL)"
   ]
  },
  {
   "cell_type": "code",
   "execution_count": null,
   "metadata": {
    "collapsed": true
   },
   "outputs": [],
   "source": [
    "b = new_tuples.difference(old_tuples)"
   ]
  },
  {
   "cell_type": "code",
   "execution_count": null,
   "metadata": {
    "collapsed": false
   },
   "outputs": [],
   "source": [
    "len(b)"
   ]
  },
  {
   "cell_type": "code",
   "execution_count": null,
   "metadata": {
    "collapsed": false
   },
   "outputs": [],
   "source": [
    "allhmm[allhmm[\"domain_name\"] == \"SH3_1\"]"
   ]
  }
 ],
 "metadata": {
  "kernelspec": {
   "display_name": "Python 2",
   "language": "python",
   "name": "python2"
  },
  "language_info": {
   "codemirror_mode": {
    "name": "ipython",
    "version": 2
   },
   "file_extension": ".py",
   "mimetype": "text/x-python",
   "name": "python",
   "nbconvert_exporter": "python",
   "pygments_lexer": "ipython2",
   "version": "2.7.12"
  }
 },
 "nbformat": 4,
 "nbformat_minor": 0
}
