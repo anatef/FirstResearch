{
 "cells": [
  {
   "cell_type": "markdown",
   "metadata": {},
   "source": [
    "# Parse the HMM results, filter by domain"
   ]
  },
  {
   "cell_type": "markdown",
   "metadata": {},
   "source": [
    "Read and parse the hmmer results obtained from Shilpa. Then filter several domains and save them seperatelly."
   ]
  },
  {
   "cell_type": "code",
   "execution_count": 1,
   "metadata": {
    "collapsed": false
   },
   "outputs": [],
   "source": [
    "#Import packages\n",
    "import pandas as pd\n",
    "import numpy as np\n",
    "import unicodedata\n",
    "from IPython.core.display import HTML\n",
    "from get_domain_func import process_hmmer_results\n",
    "import pickle\n",
    "import os.path\n",
    "from IPython.core.display import HTML\n",
    "HTML(\"<style>.container { width:100% !important; }</style>\");"
   ]
  },
  {
   "cell_type": "code",
   "execution_count": 2,
   "metadata": {
    "collapsed": false
   },
   "outputs": [],
   "source": [
    "#Constants\n",
    "domains = [\"zf-C2H2\", \"Homeobox\", \"WW\", \"PUF\", \"SH3_1\"] #The domains to filter\n",
    "con_threshold = 0.8 #Conservation threshold\n",
    "curr_dir = !pwd\n",
    "input_path = curr_dir[0]+\"/from_shilpa/\"\n",
    "out_path = curr_dir[0]+\"/allhmm_parsed/\"\n",
    "filename = \"allhmmresbyprot-v29.tsv.gz\"\n",
    "pfam_aa_order = ['A', 'C', 'D', 'E', 'F', 'G', 'H', 'I', 'K', 'L', 'M', 'N', 'P', 'Q', 'R', 'S', 'T', 'V', 'W', 'Y']\n",
    "\n",
    "# Reading the HMMER results\n",
    "if os.path.exists(out_path+\"allhmm_parsed-v29.csv\"):\n",
    "    allhmm = pd.read_csv(out_path+\"allhmm_parsed-v29.csv\", sep='\\t', index_col=0)\n",
    "else:\n",
    "    allhmm = pd.read_csv(input_path+filename, sep='\\t')\n",
    "\n",
    "    # A little more processing to the data to look better in the data-frame\n",
    "    allhmm = process_hmmer_results(allhmm)\n",
    "\n",
    "    #Saving the processed data-frame\n",
    "    allhmm.to_csv(out_path+\"allhmm_parsed-v29.csv\", sep='\\t')\n",
    "\n",
    "#Reading the table of Pfam domains gathering threshold\n",
    "domains_GA = pd.read_csv(curr_dir[0]+\"/../2.parse_Pfam/domains_GA.csv\", sep='\\t', index_col=0)\n",
    "\n",
    "#Reading the dictionary of HMM probabilities\n",
    "with open(curr_dir[0]+'/../2.parse_Pfam/domains_hmm_prob_dict.pik', 'rb') as handle:\n",
    "    domains_hmm_prob_dict = pickle.load(handle)"
   ]
  },
  {
   "cell_type": "code",
   "execution_count": 6,
   "metadata": {
    "collapsed": true
   },
   "outputs": [],
   "source": [
    "def domain_conserved_states_filter(domain_data, domain_hmm_prob, con_threshold):\n",
    "    \"\"\"\n",
    "    Filter the given domain data to the domain instances that contain the major allele of the conserved states.\n",
    "    Conserved states are determined as having Pfam hmm emission prob. above the \"con_threshold\" given.\n",
    "    \"\"\"\n",
    "    #Find the conserved states and their major allele:\n",
    "    con_states_dict = {}\n",
    "    for state in domain_hmm_prob.keys():\n",
    "        prob_list = domain_hmm_prob[state]\n",
    "        for i in range(len(prob_list)):\n",
    "            p = prob_list[i]\n",
    "            if (p > con_threshold):\n",
    "                major_allele = pfam_aa_order[i]\n",
    "                con_states_dict[state] = major_allele\n",
    "    \n",
    "    #Filter the domain instances missing any conserved state\n",
    "    #Creating a new data frame for the filtered table\n",
    "    if (len(con_states_dict.keys()) > 0):\n",
    "        \n",
    "        #Creating a new data frame for the filtered table\n",
    "        domain_filtered = pd.DataFrame(columns = domain_data.columns)\n",
    "        domain_filtered_i = 0\n",
    "    \n",
    "        #Iterating over all domain instances and check the conserved states\n",
    "        for index, row in domain_data.iterrows():\n",
    "            target_seq = list(row[\"Target_Seq\"])\n",
    "            hmm_pos = (row[\"HMM_Pos\"]).split(\",\")\n",
    "            add_flag = True\n",
    "            for con_state in con_states_dict.keys():\n",
    "                try:\n",
    "                    hmm_pos.index(str(con_state))\n",
    "                #The conserved state is not even in the alignment\n",
    "                except ValueError: \n",
    "                    add_flag = False\n",
    "                    break\n",
    "                state_idx = hmm_pos.index(str(con_state))\n",
    "                aligned_aa = target_seq[state_idx]\n",
    "                \n",
    "                #Compare the instance aa with the major allele\n",
    "                if (aligned_aa != con_states_dict[con_state]):\n",
    "                    add_flag = False\n",
    "                    break\n",
    "\n",
    "            if (add_flag):\n",
    "                new_row = row.copy(deep=True)\n",
    "                domain_filtered.loc[domain_filtered_i] = new_row\n",
    "                domain_filtered_i += 1\n",
    "                \n",
    "        return domain_filtered\n",
    "    else:\n",
    "        return domain_data"
   ]
  },
  {
   "cell_type": "code",
   "execution_count": 7,
   "metadata": {
    "collapsed": false
   },
   "outputs": [
    {
     "name": "stdout",
     "output_type": "stream",
     "text": [
      "Finished domain: zf-C2H2\n",
      "Finished domain: Homeobox\n",
      "Finished domain: WW\n",
      "Finished domain: PUF\n",
      "Finished domain: SH3_1\n"
     ]
    }
   ],
   "source": [
    "#Filtering to the domains in the input list\n",
    "for dom_sym in domains:\n",
    "    #Filter the table to the domain\n",
    "    domain_data = allhmm[allhmm[\"domain_name\"] == dom_sym]\n",
    "    domain_data = domain_data.reset_index(drop=True)\n",
    "    \n",
    "    #Get the domain gathering threshold\n",
    "    domain_GA = float(domains_GA[domains_GA[\"name\"] == dom_sym][\"GA\"])\n",
    "    \n",
    "    #Filter according to the gathering thresold\n",
    "    domain_ga_filtered = domain_data[domain_data[\"BitScore\"] >= domain_GA]\n",
    "    domain_ga_filtered = domain_ga_filtered.reset_index(drop=True)\n",
    "    \n",
    "    #Filter the domains to have both start and end positions\n",
    "    domain_beg = min([int(x) for x in domain_data[\"hmm_start\"].tolist()])\n",
    "    domain_end = max([int(x) for x in domain_data[\"hmm_end\"].tolist()])\n",
    "    try:\n",
    "        domain_ga_len_filtered = domain_ga_filtered[domain_ga_filtered[\"hmm_start\"] == str(domain_beg)][domain_ga_filtered[\"hmm_end\"] == str(domain_end)]\n",
    "    except: #In case the \"hmm_start\" and \"hmm_end\" columns are defined as int series\n",
    "        domain_ga_len_filtered = domain_ga_filtered[domain_ga_filtered[\"hmm_start\"] == domain_beg][domain_ga_filtered[\"hmm_end\"] == domain_end]\n",
    "    domain_ga_len_filtered = domain_ga_len_filtered.reset_index(drop=True)\n",
    "    \n",
    "    #Get the domain Pfam HMM probabilities\n",
    "    domain_hmm_prob = domains_hmm_prob_dict[dom_sym]\n",
    "    \n",
    "    #Filter the domains to have the conserved states in the HMM profile, according to the specified threshold\n",
    "    domain_ga_len_con_filtered = domain_conserved_states_filter(domain_ga_len_filtered, domain_hmm_prob, con_threshold)\n",
    "    \n",
    "    #Saving the domain data to file\n",
    "    domain_ga_len_con_filtered.to_csv(curr_dir[0]+\"/hmm_domains/\"+dom_sym+\".csv\", sep='\\t')\n",
    "    \n",
    "    print \"Finished domain: \"+dom_sym"
   ]
  },
  {
   "cell_type": "code",
   "execution_count": 8,
   "metadata": {
    "collapsed": true
   },
   "outputs": [],
   "source": [
    " domain_data = allhmm[allhmm[\"domain_name\"] == \"zf-C2H2\"]"
   ]
  }
 ],
 "metadata": {
  "kernelspec": {
   "display_name": "Python 2",
   "language": "python",
   "name": "python2"
  },
  "language_info": {
   "codemirror_mode": {
    "name": "ipython",
    "version": 2
   },
   "file_extension": ".py",
   "mimetype": "text/x-python",
   "name": "python",
   "nbconvert_exporter": "python",
   "pygments_lexer": "ipython2",
   "version": "2.7.12"
  }
 },
 "nbformat": 4,
 "nbformat_minor": 0
}
