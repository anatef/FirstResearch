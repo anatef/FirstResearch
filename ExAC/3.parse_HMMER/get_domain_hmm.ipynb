{
 "cells": [
  {
   "cell_type": "markdown",
   "metadata": {},
   "source": [
    "# Parse the HMM results, filter by domain"
   ]
  },
  {
   "cell_type": "markdown",
   "metadata": {},
   "source": [
    "Read and parse the hmmer results obtained from Shilpa. Then filter several domains and save them seperatelly."
   ]
  },
  {
   "cell_type": "code",
   "execution_count": 1,
   "metadata": {},
   "outputs": [
    {
     "data": {
      "text/html": [
       "<style>.container { width:100% !important; }</style>"
      ],
      "text/plain": [
       "<IPython.core.display.HTML object>"
      ]
     },
     "execution_count": 1,
     "metadata": {},
     "output_type": "execute_result"
    }
   ],
   "source": [
    "#Import packages\n",
    "import pandas as pd\n",
    "import numpy as np\n",
    "import unicodedata\n",
    "from IPython.core.display import HTML\n",
    "from get_domain_func import process_hmmer_results\n",
    "from collections import defaultdict\n",
    "import pickle\n",
    "import os.path\n",
    "from IPython.core.display import HTML\n",
    "HTML(\"<style>.container { width:100% !important; }</style>\")"
   ]
  },
  {
   "cell_type": "code",
   "execution_count": 3,
   "metadata": {},
   "outputs": [
    {
     "name": "stderr",
     "output_type": "stream",
     "text": [
      "/home/anat/anaconda2/lib/python2.7/site-packages/pandas/core/frame.py:1997: UserWarning: Boolean Series key will be reindexed to match DataFrame index.\n",
      "  \"DataFrame index.\", UserWarning)\n"
     ]
    }
   ],
   "source": [
    "#Constants\n",
    "curr_dir = !pwd\n",
    "pfam_version = \"32\"\n",
    "input_path = curr_dir[0]+\"/from_shilpa/\"\n",
    "out_path = curr_dir[0]+\"/allhmm_parsed/\"\n",
    "filename = \"allhmmresbyprot-v\"+pfam_version+\".tsv\"\n",
    "pfam_aa_order = ['A', 'C', 'D', 'E', 'F', 'G', 'H', 'I', 'K', 'L', 'M', 'N', 'P', 'Q', 'R', 'S', 'T', 'V', 'W', 'Y']\n",
    "\n",
    "# Reading the HMMER results\n",
    "if os.path.exists(out_path+\"allhmm_parsed-v\"+pfam_version+\".csv\"):\n",
    "    allhmm = pd.read_csv(out_path+\"allhmm_parsed-v\"+pfam_version+\".csv\", sep='\\t', index_col=0)\n",
    "else:\n",
    "    allhmm = pd.read_csv(input_path+filename, sep='\\t', skiprows=[0,1], header=0)\n",
    "\n",
    "    # A little more processing to the data to look better in the data-frame\n",
    "    allhmm = process_hmmer_results(allhmm)\n",
    "    \n",
    "    #Filter pseudo-genes\n",
    "    allhmm = allhmm[allhmm[\"gene_biotype\"] != \"polymorphic_pseudogene\"]\n",
    "    \n",
    "    #Filter non-coding transcripts\n",
    "    allhmm = allhmm[allhmm[\"transcript_biotype\"] != \"nonsense_mediated_decay\"][allhmm[\"transcript_biotype\"] != \"non_stop_decay\"][allhmm[\"transcript_biotype\"] != \"polymorphic_pseudogene\"]\n",
    "\n",
    "    #Saving the processed data-frame\n",
    "    allhmm.to_csv(out_path+\"allhmm_parsed-v\"+pfam_version+\".csv\", sep='\\t')\n",
    "\n",
    "#Reading the table of Pfam domains gathering threshold\n",
    "domains_GA = pd.read_csv(curr_dir[0]+\"/../2.parse_Pfam/v\"+pfam_version+\"/domains_GA.csv\", sep='\\t', index_col=0)\n",
    "\n",
    "#Reading the table of Pfam domains length\n",
    "domains_len = pd.read_csv(curr_dir[0]+\"/../2.parse_Pfam/v\"+pfam_version+\"/domains_len.csv\", sep='\\t', index_col=0)\n",
    "\n",
    "#Reading the dictionary of HMM probabilities\n",
    "with open(curr_dir[0]+\"/../2.parse_Pfam/v\"+pfam_version+\"/domains_hmm_prob_dict.pik\", 'rb') as handle:\n",
    "    domains_hmm_prob_dict = pickle.load(handle)"
   ]
  },
  {
   "cell_type": "code",
   "execution_count": 4,
   "metadata": {},
   "outputs": [],
   "source": [
    "def domain_conserved_states_filter(domain_data, domain_hmm_prob, con_threshold):\n",
    "    \"\"\"\n",
    "    Filter the given domain data to the domain instances that contain the major allele of the conserved states.\n",
    "    Conserved states are determined as having Pfam hmm emission prob. above the \"con_threshold\" given.\n",
    "    \"\"\"\n",
    "    #Find the conserved states and their major allele:\n",
    "    con_states_dict = {}\n",
    "    for state in domain_hmm_prob.keys():\n",
    "        prob_list = domain_hmm_prob[state]\n",
    "        for i in range(len(prob_list)):\n",
    "            p = prob_list[i]\n",
    "            if (p >= con_threshold):\n",
    "                major_allele = pfam_aa_order[i]\n",
    "                con_states_dict[state] = major_allele\n",
    "    \n",
    "    #Filter the domain instances missing any conserved state\n",
    "    #Creating a new data frame for the filtered table\n",
    "    if (len(con_states_dict.keys()) > 0):\n",
    "        \n",
    "        #Creating a new data frame for the filtered table\n",
    "        domain_filtered = pd.DataFrame(columns = domain_data.columns)\n",
    "        domain_filtered_i = 0\n",
    "    \n",
    "        #Iterating over all domain instances and check the conserved states\n",
    "        for index, row in domain_data.iterrows():\n",
    "            target_seq = list(row[\"Target_Seq\"])\n",
    "            hmm_pos = (row[\"HMM_Pos\"]).split(\",\")\n",
    "            add_flag = True\n",
    "            for con_state in con_states_dict.keys():\n",
    "                try:\n",
    "                    hmm_pos.index(str(con_state))\n",
    "                #The conserved state is not even in the alignment\n",
    "                except ValueError: \n",
    "                    add_flag = False\n",
    "                    break\n",
    "                state_idx = hmm_pos.index(str(con_state))\n",
    "                aligned_aa = target_seq[state_idx]\n",
    "                \n",
    "                #Compare the instance aa with the major allele\n",
    "                if (aligned_aa != con_states_dict[con_state]):\n",
    "                    add_flag = False\n",
    "                    break\n",
    "\n",
    "            if (add_flag):\n",
    "                new_row = row.copy(deep=True)\n",
    "                domain_filtered.loc[domain_filtered_i] = new_row\n",
    "                domain_filtered_i += 1\n",
    "                \n",
    "        return domain_filtered\n",
    "    else:\n",
    "        return domain_data"
   ]
  },
  {
   "cell_type": "code",
   "execution_count": 5,
   "metadata": {},
   "outputs": [],
   "source": [
    "all_domains = (allhmm[\"domain_name\"]).unique().tolist()\n",
    "all_domains.sort()\n",
    "con_threshold = 0.99 #Conservation threshold (after witnessing a small bump in the prob. distribution after 0.99)\n",
    "saved_domains = []\n",
    "excluded_domains = []\n",
    "\n",
    "#Filtering to the domains in the input list\n",
    "for dom_sym in all_domains:\n",
    "    #Filter the table to the domain\n",
    "    domain_data = allhmm[allhmm[\"domain_name\"] == dom_sym]\n",
    "    domain_data = domain_data.reset_index(drop=True)\n",
    "    \n",
    "    #Get the domain gathering threshold\n",
    "    domain_GA = float(domains_GA[domains_GA[\"name\"] == dom_sym][\"GA\"])\n",
    "    \n",
    "    #Filter according to the gathering thresold\n",
    "    domain_ga_filtered = domain_data[domain_data[\"BitScore\"] >= domain_GA]\n",
    "    domain_ga_filtered = domain_ga_filtered.reset_index(drop=True)\n",
    "    \n",
    "    #Get the domain length\n",
    "    domain_len = int(domains_len[domains_len[\"name\"] == dom_sym][\"length\"])\n",
    "    \n",
    "    #Filter the domains to have both start and end positions\n",
    "    try:\n",
    "        domain_ga_len_filtered = domain_ga_filtered[domain_ga_filtered[\"HMMStart\"] == str(1)][domain_ga_filtered[\"HMMEnd\"] == str(domain_len)]\n",
    "    except: #In case the \"hmm_start\" and \"hmm_end\" columns are defined as int series\n",
    "        domain_ga_len_filtered = domain_ga_filtered[domain_ga_filtered[\"HMMStart\"] == 1][domain_ga_filtered[\"HMMEnd\"] == domain_len]\n",
    "    domain_ga_len_filtered = domain_ga_len_filtered.reset_index(drop=True)\n",
    "    \n",
    "    #Get the domain Pfam HMM probabilities\n",
    "    domain_hmm_prob = domains_hmm_prob_dict[dom_sym]\n",
    "    \n",
    "    #Filter the domains to have the conserved states in the HMM profile, according to the specified threshold\n",
    "    domain_ga_len_con_filtered = domain_conserved_states_filter(domain_ga_len_filtered, domain_hmm_prob, con_threshold)\n",
    "    \n",
    "    #Saving the domain data to file (only if there is any)\n",
    "    if (domain_ga_len_con_filtered.shape[0] > 0):\n",
    "        domain_ga_len_con_filtered.to_csv(curr_dir[0]+\"/hmm_domains/pfam-v\"+pfam_version+\"/\"+dom_sym+\".csv\", sep='\\t')\n",
    "        saved_domains.append(dom_sym)\n",
    "    else:\n",
    "        excluded_domains.append(dom_sym)"
   ]
  },
  {
   "cell_type": "markdown",
   "metadata": {
    "collapsed": true
   },
   "source": [
    "### Debugging: how many each filter removes individually?"
   ]
  },
  {
   "cell_type": "code",
   "execution_count": 6,
   "metadata": {},
   "outputs": [
    {
     "data": {
      "text/plain": [
       "13066"
      ]
     },
     "execution_count": 6,
     "metadata": {},
     "output_type": "execute_result"
    }
   ],
   "source": [
    "#Pfam v31: 12,040\n",
    "#Pfam v32: 13,066\n",
    "len(all_domains)"
   ]
  },
  {
   "cell_type": "code",
   "execution_count": 7,
   "metadata": {},
   "outputs": [
    {
     "data": {
      "text/plain": [
       "13066"
      ]
     },
     "execution_count": 7,
     "metadata": {},
     "output_type": "execute_result"
    }
   ],
   "source": [
    "#Pfam v31: 12,040\n",
    "#Pfam v32: 13,066\n",
    "len(excluded_domains) + len(saved_domains)"
   ]
  },
  {
   "cell_type": "code",
   "execution_count": 8,
   "metadata": {},
   "outputs": [
    {
     "data": {
      "text/plain": [
       "6556"
      ]
     },
     "execution_count": 8,
     "metadata": {},
     "output_type": "execute_result"
    }
   ],
   "source": [
    "#Pfam v31: 6,011\n",
    "#Pfam v32: 6,556\n",
    "len(excluded_domains)"
   ]
  },
  {
   "cell_type": "code",
   "execution_count": 69,
   "metadata": {},
   "outputs": [
    {
     "data": {
      "text/plain": [
       "19"
      ]
     },
     "execution_count": 69,
     "metadata": {},
     "output_type": "execute_result"
    }
   ],
   "source": [
    "#Pfam v31: 19\n",
    "num_removed"
   ]
  },
  {
   "cell_type": "code",
   "execution_count": 68,
   "metadata": {},
   "outputs": [],
   "source": [
    "num_added = 0\n",
    "num_removed = 0\n",
    "con_threshold = 0.99 #Conservation threshold\n",
    "\n",
    "for dom_sym in all_domains:\n",
    "    #Filter the table to the domain\n",
    "    domain_data = allhmm[allhmm[\"domain_name\"] == dom_sym]\n",
    "    domain_data = domain_data.reset_index(drop=True)\n",
    "    domain_ga_len_filtered = domain_data\n",
    "    \n",
    "    #Get the domain Pfam HMM probabilities\n",
    "    domain_hmm_prob = domains_hmm_prob_dict[dom_sym]\n",
    "    \n",
    "    #Filter the domains to have the conserved states in the HMM profile, according to the specified threshold\n",
    "    domain_ga_len_con_filtered = domain_conserved_states_filter(domain_ga_len_filtered, domain_hmm_prob, con_threshold)\n",
    "    \n",
    "    if (domain_ga_len_con_filtered.shape[0] > 0):\n",
    "        num_added += 1\n",
    "    else:\n",
    "        num_removed += 1"
   ]
  },
  {
   "cell_type": "code",
   "execution_count": null,
   "metadata": {
    "collapsed": true
   },
   "outputs": [],
   "source": [
    "#Passed gathering threshold = 6274\n",
    "#Didn't passed GA = 5715\n",
    "\n",
    "#no_start_end = 4340\n",
    "#yes start end = 7649\n",
    "\n",
    "#no_conserved = 19\n",
    "#yes_conserved = 11970"
   ]
  }
 ],
 "metadata": {
  "kernelspec": {
   "display_name": "Python 2",
   "language": "python",
   "name": "python2"
  },
  "language_info": {
   "codemirror_mode": {
    "name": "ipython",
    "version": 2
   },
   "file_extension": ".py",
   "mimetype": "text/x-python",
   "name": "python",
   "nbconvert_exporter": "python",
   "pygments_lexer": "ipython2",
   "version": "2.7.12"
  }
 },
 "nbformat": 4,
 "nbformat_minor": 1
}
