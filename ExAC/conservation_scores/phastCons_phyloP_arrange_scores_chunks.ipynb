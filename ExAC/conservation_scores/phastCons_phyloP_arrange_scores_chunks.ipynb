{
 "cells": [
  {
   "cell_type": "markdown",
   "metadata": {},
   "source": [
    "## Extract conservation scores for each position\n",
    "\n",
    "### Requirements:\n",
    "1. Download and unzip phastCons files from http://hgdownload.cse.ucsc.edu/goldenPath/hg38/phastCons100way/hg38.100way.phastCons/ to a folder ExAC/conservation_scores/phastCons\n",
    "2. Download and unzip phyloP files from http://hgdownload.cse.ucsc.edu/goldenPath/hg19/phyloP100way/hg19.100way.phyloP100way/ to a folder ExAC/conservation_scores/phyloP\n",
    "\n",
    "### Instructions:\n",
    "Run the cells in order\n",
    "\n",
    "### Output:\n",
    "Divide the large conservation scores files into small chucnks in different files.\n",
    "The chunks are saved to: \"phastCons_frags_txt\" and \"phyloP_frags_txt\" dirs, and arranged by chromosome.\n",
    "The filename is the chromosome position, and the conservation scores starting this position are listed in the file."
   ]
  },
  {
   "cell_type": "code",
   "execution_count": 1,
   "metadata": {
    "collapsed": false
   },
   "outputs": [],
   "source": [
    "import cPickle as pickle\n",
    "import os\n",
    "from IPython.core.display import HTML\n",
    "HTML(\"<style>.container { width:95% !important; }</style>\")\n",
    "\n",
    "#Getting path\n",
    "curr_dir = !pwd"
   ]
  },
  {
   "cell_type": "markdown",
   "metadata": {},
   "source": [
    "### Break each chromosome file into more manageable fragments"
   ]
  },
  {
   "cell_type": "code",
   "execution_count": 5,
   "metadata": {
    "collapsed": true
   },
   "outputs": [],
   "source": [
    "input_path = curr_dir[0] + \"/../conservation_scores/\"\n",
    "\n",
    "# Chromosomes\n",
    "chroms = []\n",
    "for i in range(1,23):\n",
    "    chroms.append(str(i))\n",
    "chroms.append('X')\n",
    "chroms.append('Y')\n",
    "\n",
    "for cons in [\"phyloP\",\"phastCons\"]:\n",
    "    os.makedirs(curr_dir[0] + \"/../conservation_scores/\"+cons+\"_frags_txt\")\n",
    "\n",
    "    # Loop over chromosomes\n",
    "    for chrom in chroms:\n",
    "        os.makedirs(curr_dir[0] + \"/../conservation_scores/\"+cons+\"_frags_txt/chr\"+chrom)\n",
    "        index_list = []\n",
    "        with open(input_path + cons+\"/chr\"+chrom+\".\"+cons+\"100way.wigFix\") as f:\n",
    "            for i,line in enumerate(f):\n",
    "                if line[0] == 'f':\n",
    "                    # Close old file if not the first line\n",
    "                    if i != 0:\n",
    "                        frag.close()\n",
    "                    # Create new list\n",
    "                    start = line.split(\" \")[2]\n",
    "                    curr_pos = int(start[6:len(start)])\n",
    "                    frag = open(input_path+cons+\"_frags_txt/chr\"+chrom+\"/\"+str(curr_pos)+\".txt\", 'wb')\n",
    "                    index_list.append(curr_pos)\n",
    "                else:\n",
    "                    frag.write(line)\n",
    "            with open(input_path+cons+\"_frags_txt/chr\"+chrom+\"/index.pik\", 'wb') as handle:\n",
    "                pickle.dump(index_list, handle, protocol=pickle.HIGHEST_PROTOCOL)"
   ]
  }
 ],
 "metadata": {
  "kernelspec": {
   "display_name": "Python 2",
   "language": "python",
   "name": "python2"
  },
  "language_info": {
   "codemirror_mode": {
    "name": "ipython",
    "version": 2
   },
   "file_extension": ".py",
   "mimetype": "text/x-python",
   "name": "python",
   "nbconvert_exporter": "python",
   "pygments_lexer": "ipython2",
   "version": "2.7.12"
  }
 },
 "nbformat": 4,
 "nbformat_minor": 2
}
