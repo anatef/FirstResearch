{
 "cells": [
  {
   "cell_type": "code",
   "execution_count": 17,
   "metadata": {
    "collapsed": true
   },
   "outputs": [],
   "source": [
    "import pandas as pd\n",
    "import numpy as np\n",
    "import pickle\n",
    "from collections import defaultdict\n",
    "from IPython.core.display import HTML\n",
    "HTML(\"<style>.container { width:100% !important; }</style>\");"
   ]
  },
  {
   "cell_type": "code",
   "execution_count": 13,
   "metadata": {
    "collapsed": false
   },
   "outputs": [],
   "source": [
    "curr_dir = !pwd\n",
    "my_path = curr_dir[0]+\"/../6.ExAC_coverage/coverage_states_dicts/zf-C2H2/\"\n",
    "with open(my_path+'zinc_hmm_states_dict_JSD_SE_9.30_cov.pik', 'rb') as handle:\n",
    "    states_dict = pickle.load(handle)"
   ]
  },
  {
   "cell_type": "code",
   "execution_count": 16,
   "metadata": {
    "collapsed": false
   },
   "outputs": [
    {
     "data": {
      "text/plain": [
       "{'JSD': 0,\n",
       " 'JSD_adj': 0,\n",
       " 'SE': 0,\n",
       " 'SE_Adj': 0,\n",
       " 'aa_ref': 'F',\n",
       " 'af': 0,\n",
       " 'af_adj': 0,\n",
       " 'bp_ref': 'TTC',\n",
       " 'chrom': '1',\n",
       " 'chrom_pos': (14105458, 14105459, 14105460),\n",
       " 'coverage_mean': 80.2,\n",
       " 'ens_gene': 'ENSG00000116731',\n",
       " 'prot_pos': 390}"
      ]
     },
     "execution_count": 16,
     "metadata": {},
     "output_type": "execute_result"
    }
   ],
   "source": [
    "states_dict[1]"
   ]
  },
  {
   "cell_type": "code",
   "execution_count": 18,
   "metadata": {
    "collapsed": true
   },
   "outputs": [],
   "source": [
    "cov_states_dict = defaultdict(list)\n",
    "for state in states_dict.keys():\n",
    "    for i in range(len(states_dict[state])):\n",
    "        curr_dict = states_dict[state][i]\n",
    "        mean_cov = curr_dict[\"coverage_mean\"]\n",
    "        if (mean_cov >= 50):\n",
    "            cov_states_dict[state].append(curr_dict)"
   ]
  },
  {
   "cell_type": "code",
   "execution_count": 20,
   "metadata": {
    "collapsed": false
   },
   "outputs": [],
   "source": [
    "with open(curr_dir[0]+'/filtered_dicts/zinc_hmm_states_dict_JSD_SE_9.30_cov-filter.pik', 'wb') as handle:\n",
    "    pickle.dump(cov_states_dict, handle, protocol=pickle.HIGHEST_PROTOCOL)"
   ]
  }
 ],
 "metadata": {
  "kernelspec": {
   "display_name": "Python 2",
   "language": "python",
   "name": "python2"
  },
  "language_info": {
   "codemirror_mode": {
    "name": "ipython",
    "version": 2
   },
   "file_extension": ".py",
   "mimetype": "text/x-python",
   "name": "python",
   "nbconvert_exporter": "python",
   "pygments_lexer": "ipython2",
   "version": "2.7.12"
  }
 },
 "nbformat": 4,
 "nbformat_minor": 0
}
