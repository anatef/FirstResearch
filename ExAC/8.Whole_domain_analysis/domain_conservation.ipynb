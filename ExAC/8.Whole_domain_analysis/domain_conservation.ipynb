{
 "cells": [
  {
   "cell_type": "code",
   "execution_count": 7,
   "metadata": {},
   "outputs": [],
   "source": [
    "import sys\n",
    "import numpy as np\n",
    "from collections import defaultdict\n",
    "import cPickle as pickle\n",
    "sys.path.append(curr_dir[0] + \"/../9.Features_exploration\")\n",
    "import utils"
   ]
  },
  {
   "cell_type": "code",
   "execution_count": 8,
   "metadata": {
    "collapsed": true
   },
   "outputs": [],
   "source": [
    "# Load data\n",
    "curr_dir = !pwd\n",
    "instance_cutoff = \"50\"\n",
    "\n",
    "# Reading the list of filtered domains\n",
    "with open(curr_dir[0]+\"/../5.domains_stats/filtered\"+instance_cutoff+\"_list.pik\", 'rb') as handle:\n",
    "    filtered_domains_list = pickle.load(handle)\n",
    "filtered_domains_list.sort()"
   ]
  },
  {
   "cell_type": "code",
   "execution_count": 15,
   "metadata": {},
   "outputs": [],
   "source": [
    "# Compute statistics on conservation scores\n",
    "input_path = curr_dir[0]+\"/../5.HMM_alter_align/domains_states_dicts/pfam-v30/\"\n",
    "conservation_dict = defaultdict(dict)\n",
    "\n",
    "for domain_name in filtered_domains_list:\n",
    "    #Reading the domain states dictionary\n",
    "    domain_dirfiles = !ls -t $input_path$domain_name\n",
    "    recent_filename = utils.find_recent(domain_dirfiles)\n",
    "    with open(input_path+domain_name+\"/\"+recent_filename, 'rb') as handle:\n",
    "        states_dict = pickle.load(handle)\n",
    "        \n",
    "    # Store scores per domain\n",
    "    phyloP_list = []\n",
    "    phastCons_list = []\n",
    "    \n",
    "    # Extract scores from dictionaries\n",
    "    for state in states_dict:\n",
    "        for d in states_dict[state]:\n",
    "            for score in d[\"phyloP\"]:\n",
    "                phyloP_list.append(score)\n",
    "            for score in d[\"phastCons\"]:\n",
    "                phastCons_list.append(score)\n",
    "    \n",
    "    # Compute relevant features\n",
    "    conservation_dict[domain_name][\"phyloP_mean\"] = np.mean(phyloP_list)\n",
    "    conservation_dict[domain_name][\"phyloP_std\"] = np.std(phyloP_list)\n",
    "    conservation_dict[domain_name][\"phastCons_mean\"] = np.mean(phastCons_list)\n",
    "    conservation_dict[domain_name][\"phastCons_std\"] = np.std(phastCons_list)\n",
    "\n",
    "# Save to file\n",
    "with open(curr_dir[0]+'/domain_conservation_dict.pik', 'wb') as handle:\n",
    "    pickle.dump(conservation_dict, handle, protocol=pickle.HIGHEST_PROTOCOL)"
   ]
  }
 ],
 "metadata": {
  "kernelspec": {
   "display_name": "Python 2",
   "language": "python",
   "name": "python2"
  },
  "language_info": {
   "codemirror_mode": {
    "name": "ipython",
    "version": 2
   },
   "file_extension": ".py",
   "mimetype": "text/x-python",
   "name": "python",
   "nbconvert_exporter": "python",
   "pygments_lexer": "ipython2",
   "version": "2.7.13"
  }
 },
 "nbformat": 4,
 "nbformat_minor": 2
}
