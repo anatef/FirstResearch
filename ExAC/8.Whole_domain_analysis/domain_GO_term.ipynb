{
 "cells": [
  {
   "cell_type": "code",
   "execution_count": 1,
   "metadata": {
    "collapsed": false
   },
   "outputs": [],
   "source": [
    "import pandas as pd\n",
    "from collections import defaultdict\n",
    "import cPickle as pickle\n",
    "from go_groups import go_term_group"
   ]
  },
  {
   "cell_type": "code",
   "execution_count": 2,
   "metadata": {
    "collapsed": true
   },
   "outputs": [],
   "source": [
    "# Load data\n",
    "curr_dir = !pwd\n",
    "instance_cutoff = \"10\"\n",
    "matching_dir = curr_dir[0]+\"/../8.Whole_domain_analysis/families_go\"\n",
    "go_mapping = pd.read_csv(matching_dir+\"/freq_counts_expanded\"+instance_cutoff+\".csv\", sep=',', index_col=0)"
   ]
  },
  {
   "cell_type": "code",
   "execution_count": 4,
   "metadata": {
    "collapsed": false
   },
   "outputs": [
    {
     "name": "stdout",
     "output_type": "stream",
     "text": [
      "CPU times: user 8 ms, sys: 4 ms, total: 12 ms\n",
      "Wall time: 13.6 ms\n"
     ]
    }
   ],
   "source": [
    "%%time\n",
    "# Create dictionary from domain to enum and save to file\n",
    "\n",
    "# This ordering MUST match enum\n",
    "groups_list = [\"nucleic acid binding.nucleotide binding\",\"protein binding\",\"metal ion binding\",\"membrane\",\"intracellular\",\"signal transduction\"]\n",
    "domain_dict = defaultdict(list)\n",
    "\n",
    "# Iterate through domains in each relevant term and add to dict\n",
    "for i in range(0,len(groups_list)):\n",
    "    name = go_term_group(i+1)\n",
    "    for term in groups_list[i].split(\".\"):\n",
    "        domains = go_mapping.loc[go_mapping.loc[:,\"name\"] == term,\"domains\"].values[0].split(\".\")\n",
    "        for domain in domains:\n",
    "            domain_dict[domain].append(name)\n",
    "\n",
    "# Save to file\n",
    "with open(curr_dir[0]+'/domain_go_dict.pik', 'wb') as handle:\n",
    "    pickle.dump(domain_dict, handle, protocol=pickle.HIGHEST_PROTOCOL)"
   ]
  }
 ],
 "metadata": {
  "kernelspec": {
   "display_name": "Python 2",
   "language": "python",
   "name": "python2"
  },
  "language_info": {
   "codemirror_mode": {
    "name": "ipython",
    "version": 2
   },
   "file_extension": ".py",
   "mimetype": "text/x-python",
   "name": "python",
   "nbconvert_exporter": "python",
   "pygments_lexer": "ipython2",
   "version": "2.7.12"
  }
 },
 "nbformat": 4,
 "nbformat_minor": 2
}
