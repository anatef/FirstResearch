{
 "cells": [
  {
   "cell_type": "code",
   "execution_count": 1,
   "metadata": {},
   "outputs": [],
   "source": [
    "import pandas as pd\n",
    "from collections import defaultdict\n",
    "import cPickle as pickle\n",
    "\n",
    "from go_groups import go_term_group"
   ]
  },
  {
   "cell_type": "code",
   "execution_count": 2,
   "metadata": {},
   "outputs": [],
   "source": [
    "# Load data\n",
    "curr_dir = !pwd\n",
    "pfam_version = \"31\"\n",
    "instance_cutoff = \"10\"\n",
    "TEST_PROCCESSED_DOMAINS = False\n",
    "DUFS = True\n",
    "matching_dir = curr_dir[0]+\"/../8.Whole_domain_analysis/families_go\"\n",
    "\n",
    "if (TEST_PROCCESSED_DOMAINS):\n",
    "    go_mapping = pd.read_csv(matching_dir+\"/pfam-v\"+pfam_version+\"_less_than_10/freq_counts_expanded\"+instance_cutoff+\".csv\", sep=',', index_col=0)\n",
    "elif (DUFS):\n",
    "    go_mapping = pd.read_csv(matching_dir+\"/pfam-v\"+pfam_version+\"_less_than_10/DUFs_freq_counts_expanded\"+instance_cutoff+\".csv\", sep=',', index_col=0)\n",
    "else:\n",
    "    go_mapping = pd.read_csv(matching_dir+\"/pfam-v\"+pfam_version+\"/freq_counts_expanded\"+instance_cutoff+\".csv\", sep=',', index_col=0)"
   ]
  },
  {
   "cell_type": "code",
   "execution_count": 14,
   "metadata": {},
   "outputs": [],
   "source": [
    "#%%time\n",
    "# Create dictionary from domain to enum and save to file\n",
    "\n",
    "# This ordering MUST match enum\n",
    "groups_list = [\"nucleic acid binding.nucleotide binding\",\"protein binding\",\"metal ion binding\",\"membrane\",\"intracellular\",\"signal transduction\"]\n",
    "domain_dict = defaultdict(list)\n",
    "\n",
    "# Iterate through domains in each relevant term and add to dict\n",
    "for i in range(0,len(groups_list)):\n",
    "    name = go_term_group(i+1)\n",
    "    for term in groups_list[i].split(\".\"):\n",
    "        try:\n",
    "            domains = go_mapping.loc[go_mapping.loc[:,\"name\"] == term,\"domains\"].values[0].split(\".\")\n",
    "        except:\n",
    "            domains = []\n",
    "        for domain in domains:\n",
    "            domain_dict[domain].append(name)\n",
    "\n",
    "# Save to file\n",
    "if (TEST_PROCCESSED_DOMAINS):\n",
    "    with open(curr_dir[0]+\"/pfam-v\"+pfam_version+\"_less_than_10/domain_go_dict.pik\", 'wb') as handle:\n",
    "        pickle.dump(domain_dict, handle, protocol=pickle.HIGHEST_PROTOCOL)\n",
    "elif (DUFS):\n",
    "    with open(curr_dir[0]+\"/pfam-v\"+pfam_version+\"_less_than_10/DUFs_domain_go_dict.pik\", 'wb') as handle:\n",
    "        pickle.dump(domain_dict, handle, protocol=pickle.HIGHEST_PROTOCOL)\n",
    "else:\n",
    "    with open(curr_dir[0]+\"/pfam-v\"+pfam_version+\"/domain_go_dict.pik\", 'wb') as handle:\n",
    "        pickle.dump(domain_dict, handle, protocol=pickle.HIGHEST_PROTOCOL)"
   ]
  }
 ],
 "metadata": {
  "kernelspec": {
   "display_name": "Python 2",
   "language": "python",
   "name": "python2"
  },
  "language_info": {
   "codemirror_mode": {
    "name": "ipython",
    "version": 2
   },
   "file_extension": ".py",
   "mimetype": "text/x-python",
   "name": "python",
   "nbconvert_exporter": "python",
   "pygments_lexer": "ipython2",
   "version": "2.7.12"
  }
 },
 "nbformat": 4,
 "nbformat_minor": 2
}
