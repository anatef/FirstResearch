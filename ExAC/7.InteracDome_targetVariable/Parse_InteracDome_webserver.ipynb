{
 "cells": [
  {
   "cell_type": "markdown",
   "metadata": {},
   "source": [
    "### Parse InteracDome results\n",
    "First run all the pipeline in: https://github.com/Singh-Lab/InteracDome \n",
    "\n",
    "After the pipeline written in the README, also run: python interacdome_webserver.py and have the results saved in: InteracDome/processed_data/domains/binding_scores\n",
    "\n",
    "And a 2nd run of: python interacdome_webserver.py --webserver --pfam_path path-to-dir/ExAC/run_hmmer/pfam_hmms/pfam_hmms-v31/ and have results saved in: InteracDome/interacdome-webserver/"
   ]
  },
  {
   "cell_type": "code",
   "execution_count": 1,
   "metadata": {},
   "outputs": [],
   "source": [
    "import pandas as pd\n",
    "import numpy as np\n",
    "import pickle\n",
    "from collections import defaultdict"
   ]
  },
  {
   "cell_type": "markdown",
   "metadata": {},
   "source": [
    "#### Read scores file and domain-ligand pairs file"
   ]
  },
  {
   "cell_type": "code",
   "execution_count": 33,
   "metadata": {},
   "outputs": [],
   "source": [
    "#Constants\n",
    "curr_dir = !pwd\n",
    "real_ligands = [\"PEPTIDE_\", \"ION_\", \"METABOLITE_\", \"DNA_\", \"DNABASE_\", \"DNABACKBONE_\", \"RNA_\", \"RNABASE_\", \"RNABACKBONE_\", \"SM_\"]\n",
    "\n",
    "#The table that contain all the propensities and thresholds for everything\n",
    "prop_input_path = \"/home/anat/InteracDome/interacdome-webserver/\"\n",
    "prop_filename = \"interacdome_fordownload.tsv\"\n",
    "interacdome_binding_scores = pd.read_csv(prop_input_path+prop_filename, sep='\\t')\n",
    "\n",
    "#For sanity checks and other qa, these two files contain the \"conservatively modeled\", positions with propensity above the precision 0.5 threshold.\n",
    "pairs_input_path = \"/home/anat/InteracDome/processed_data/domains/binding_scores/\"\n",
    "pairs_filename = \"mindist_passing-domains_overall-precision-0.5_unique-instances-3_structures-3.txt\"\n",
    "domain_ligand_pairs = pd.read_csv(pairs_input_path+pairs_filename, sep='\\t', skiprows=6)\n",
    "\n",
    "conservativelly_modeled_filename = \"mindist_passing-binding-propensities_overall-precision-0.5_unique-instances-3_structures-3_sitebased-precision-0.5.txt\"\n",
    "domains_conservativelly_modeled = pd.read_csv(pairs_input_path+conservativelly_modeled_filename, sep='\\t', skiprows=8)"
   ]
  },
  {
   "cell_type": "markdown",
   "metadata": {},
   "source": [
    "#### Filter to the real ligands we are working on"
   ]
  },
  {
   "cell_type": "code",
   "execution_count": 35,
   "metadata": {},
   "outputs": [],
   "source": [
    "domain_ligand_pairs_filtered = domain_ligand_pairs[domain_ligand_pairs[\"ligand_type\"].isin(real_ligands)]\n",
    "interacdome_binding_scores_filtered = interacdome_binding_scores[interacdome_binding_scores[\"ligand_type\"].isin(real_ligands)]\n",
    "domains_conservativelly_modeled_filtered = domains_conservativelly_modeled[domains_conservativelly_modeled[\"ligand_type\"].isin(real_ligands)]"
   ]
  },
  {
   "cell_type": "markdown",
   "metadata": {},
   "source": [
    "#### Filter to 3+ nonidentical instances across 3 different structures (credible analysis)"
   ]
  },
  {
   "cell_type": "code",
   "execution_count": 42,
   "metadata": {},
   "outputs": [],
   "source": [
    "interacdome_binding_scores_filtered_struct = interacdome_binding_scores_filtered[interacdome_binding_scores_filtered[\"num_nonidentical_instances\"] >= 3][interacdome_binding_scores_filtered[\"num_structures\"] >= 3]"
   ]
  },
  {
   "cell_type": "markdown",
   "metadata": {},
   "source": [
    "### Create per-ligand dcitionary by domain -> ligand -> propensities and thresholds"
   ]
  },
  {
   "cell_type": "code",
   "execution_count": 97,
   "metadata": {},
   "outputs": [],
   "source": [
    "propensity_ligands_dict = defaultdict(dict)\n",
    "\n",
    "for index, row in interacdome_binding_scores_filtered_struct.iterrows():\n",
    "    \n",
    "    #Get ligand name\n",
    "    ligand_type = row[\"ligand_type\"]\n",
    "    ligand_type_edited = ligand_type.lower()[:-1]\n",
    "    \n",
    "    #Get domain name\n",
    "    pfam_id = row[\"pfam_id\"]\n",
    "    domain_name = pfam_id[pfam_id.find(\"_\")+1:]\n",
    "    \n",
    "    #Init domain-ligand dict\n",
    "    domain_ligand_dict = defaultdict(dict)\n",
    "    \n",
    "    #Get the prop_thresholds\n",
    "    try: domain_ligand_dict[\"prop_th_0.1\"] = float(row[\"propensity_at_precision_0.1\"]) \n",
    "    except: domain_ligand_dict[\"prop_th_0.1\"] = np.nan\n",
    "    try: domain_ligand_dict[\"prop_th_0.25\"] = float(row[\"propensity_at_precision_0.25\"])\n",
    "    except: domain_ligand_dict[\"prop_th_0.25\"] = np.nan\n",
    "    try: domain_ligand_dict[\"prop_th_0.5\"] = float(row[\"propensity_at_precision_0.5\"])\n",
    "    except: domain_ligand_dict[\"prop_th_0.5\"] = np.nan\n",
    "    try: domain_ligand_dict[\"prop_th_0.75\"] = float(row[\"propensity_at_precision_0.75\"])\n",
    "    except: domain_ligand_dict[\"prop_th_0.75\"] = np.nan\n",
    "    \n",
    "    #Get propensities\n",
    "    prop_list = row[\"binding_propensities\"].split(\",\")\n",
    "    \n",
    "    for state in range(1,len(prop_list)+1):\n",
    "        domain_ligand_dict[\"states_props\"][state] = float(prop_list[state-1])\n",
    "    \n",
    "    propensity_ligands_dict[domain_name][ligand_type_edited] = domain_ligand_dict"
   ]
  },
  {
   "cell_type": "code",
   "execution_count": 99,
   "metadata": {},
   "outputs": [],
   "source": [
    "#Save the propensity dict\n",
    "with open(curr_dir[0]+\"/domains_ligands_propensity_dict.pik\", 'wb') as handle:\n",
    "    pickle.dump(propensity_ligands_dict, handle, protocol=pickle.HIGHEST_PROTOCOL)"
   ]
  }
 ],
 "metadata": {
  "kernelspec": {
   "display_name": "Python 2",
   "language": "python",
   "name": "python2"
  },
  "language_info": {
   "codemirror_mode": {
    "name": "ipython",
    "version": 2
   },
   "file_extension": ".py",
   "mimetype": "text/x-python",
   "name": "python",
   "nbconvert_exporter": "python",
   "pygments_lexer": "ipython2",
   "version": "2.7.12"
  }
 },
 "nbformat": 4,
 "nbformat_minor": 2
}
