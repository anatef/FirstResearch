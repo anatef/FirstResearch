{
 "cells": [
  {
   "cell_type": "code",
   "execution_count": 1,
   "metadata": {
    "collapsed": false
   },
   "outputs": [
    {
     "data": {
      "text/html": [
       "<style>.container { width:100% !important; }</style>"
      ],
      "text/plain": [
       "<IPython.core.display.HTML object>"
      ]
     },
     "execution_count": 1,
     "metadata": {},
     "output_type": "execute_result"
    }
   ],
   "source": [
    "import pandas as pd\n",
    "import numpy as np\n",
    "import math\n",
    "from collections import defaultdict\n",
    "import matplotlib.pyplot as plt\n",
    "import pickle\n",
    "import fileinput\n",
    "import sys\n",
    "from my_JSD import KLdiv, JSdiv, cons\n",
    "from IPython.core.display import HTML\n",
    "HTML(\"<style>.container { width:100% !important; }</style>\")"
   ]
  },
  {
   "cell_type": "code",
   "execution_count": 2,
   "metadata": {
    "collapsed": true
   },
   "outputs": [],
   "source": [
    "#Reading the Zinc-finger domain data\n",
    "curr_dir = !pwd\n",
    "my_path = curr_dir[0]+\"/hmm_domains/\"\n",
    "filename = \"zf-C2H2.csv\"\n",
    "#filename = \"Homeobox.csv\"\n",
    "domain_data = pd.read_csv(my_path+filename, sep='\\t', index_col=0)\n",
    "#Sort the zinc finger data\n",
    "sorted_domain_data = domain_data.sort_values(by=[\"chrom_num\", \"ensembl_id\", \"TargetStart\"])\n",
    "sorted_domain_data = sorted_domain_data.reset_index(drop=True)"
   ]
  },
  {
   "cell_type": "code",
   "execution_count": 3,
   "metadata": {
    "collapsed": true
   },
   "outputs": [],
   "source": [
    "#Get the canonic protein id for Zinc domain\n",
    "with open(my_path+'zinc_canonic_prot.pik', 'rb') as handle:\n",
    "    canonic_protein = pickle.load(handle)"
   ]
  },
  {
   "cell_type": "code",
   "execution_count": 4,
   "metadata": {
    "collapsed": true
   },
   "outputs": [],
   "source": [
    "#Get the frameshifts index and length of the exons\n",
    "with open(curr_dir[0]+\"/from_shilpa/exons_seqs/exons_index_length.pik\", 'rb') as handle:\n",
    "    exons_frameshifts = pickle.load(handle)"
   ]
  },
  {
   "cell_type": "code",
   "execution_count": 5,
   "metadata": {
    "collapsed": false
   },
   "outputs": [],
   "source": [
    "#Get the Pfam HMM match emission prob. for this domain\n",
    "with open(curr_dir[0]+\"/Pfam/zinc_match_state_prob.pik\", 'rb') as handle:\n",
    "    pfam_match_prob_dict = pickle.load(handle)"
   ]
  },
  {
   "cell_type": "code",
   "execution_count": 6,
   "metadata": {
    "collapsed": true
   },
   "outputs": [],
   "source": [
    "chromosome_names = [\"1\", \"2\", \"3\", \"4\", \"5\", \"6\", \"7\", \"8\", \"9\", \"10\", \"11\", \"12\", \"13\", \"14\", \"15\", \"16\", \"17\", \"18\", \"19\", \"20\", \"21\", \"22\", \"X\", \"Y\"]"
   ]
  },
  {
   "cell_type": "code",
   "execution_count": 7,
   "metadata": {
    "collapsed": false
   },
   "outputs": [
    {
     "name": "stdout",
     "output_type": "stream",
     "text": [
      "Leaving outside 74 out of 10492\n"
     ]
    }
   ],
   "source": [
    "chrom_names_list = sorted_domain_data[\"chrom_num\"].tolist()\n",
    "starnge_chrom_sum = 0\n",
    "for name in chrom_names_list:\n",
    "    if (name not in chromosome_names):\n",
    "        starnge_chrom_sum += 1\n",
    "print \"Leaving outside \"+str(starnge_chrom_sum)+\" out of \"+str(len(chrom_names_list))"
   ]
  },
  {
   "cell_type": "code",
   "execution_count": 8,
   "metadata": {
    "collapsed": true
   },
   "outputs": [],
   "source": [
    "def correct_exons_frameshift(exon_df, targetid):\n",
    "    \n",
    "    idx = exons_frameshifts[targetid+\".exons.txt\"][0]\n",
    "    length = exons_frameshifts[targetid+\".exons.txt\"][1]\n",
    "    bps = exons_frameshifts[targetid+\".exons.txt\"][2]\n",
    "    \n",
    "    #Find the exon we need to add bps to\n",
    "    first_bp_count = 1\n",
    "    for index, exon in exon_df.iterrows():\n",
    "        ex_start = int(exon[0])\n",
    "        ex_end = int(exon[1])\n",
    "        exon_len = (ex_end - ex_start + 1)\n",
    "        if (idx <= first_bp_count):\n",
    "            exon_df.set_value(index, \"start_pos\", (ex_start - length))\n",
    "            break\n",
    "        elif (idx <= (first_bp_count + exon_len -1)):\n",
    "            exon_df.set_value(index, \"end_pos\", (ex_end + length))\n",
    "            break\n",
    "        first_bp_count += exon_len"
   ]
  },
  {
   "cell_type": "code",
   "execution_count": 9,
   "metadata": {
    "collapsed": false
   },
   "outputs": [],
   "source": [
    "#A function that get chromosome raw data from the hmmer results and return a table of the exons\n",
    "def create_exon_pos_table(chrom_raw, targetid):\n",
    "    exons_raw = chrom_raw\n",
    "    \n",
    "    #Removing the complement bracates if exist\n",
    "    if (exons_raw.find(\"complement(\") >= 0):\n",
    "        exons_raw = exons_raw[exons_raw.find(\"complement(\")+11:-1]\n",
    "    \n",
    "    #Removing the join bracates if exist\n",
    "    if (exons_raw.find(\"join(\") >= 0):\n",
    "        exons_raw = exons_raw[exons_raw.find(\"join(\")+5:-1]\n",
    "        \n",
    "    #In case there's only one exon, take everything after the second \":\"\n",
    "    else:\n",
    "        exons_raw = exons_raw[exons_raw.find(\":\", chrom_raw.find(\":\")+1)+1:]\n",
    "    \n",
    "    exons_list = exons_raw.split(\",\")\n",
    "    exon_pos = []\n",
    "    frameshift_flag = False\n",
    "    for ex in exons_list:\n",
    "        #flag cases where Shilpa added \"-\" to a position number to signify frameshift in the sequences\n",
    "        if (ex[0] == \"-\"):\n",
    "            frameshift_flag = True\n",
    "            continue\n",
    "            \n",
    "        #Adding the real exons to exons_pos list\n",
    "        exon_pos.append(ex.split(\"..\"))\n",
    "        \n",
    "    #Creating a table for the start and end of exons    \n",
    "    exon_df = pd.DataFrame(exon_pos)\n",
    "    exon_df.columns = [\"start_pos\", \"end_pos\"]\n",
    "    \n",
    "    #Correct frameshift if frameshift exist\n",
    "    if (frameshift_flag):\n",
    "        correct_exons_frameshift(exon_df, targetid)\n",
    "    \n",
    "    exon_len = []\n",
    "    for index, exon in exon_df.iterrows():\n",
    "        exon_len.append(int(exon[1]) - int(exon[0])+1)\n",
    "    exon_df[\"length\"] = exon_len\n",
    "    first_bp_count = 1\n",
    "    first_bp_list = []\n",
    "    for index, exon in exon_df.iterrows():\n",
    "        first_bp_list.append(first_bp_count)\n",
    "        first_bp_count += int(exon[2])\n",
    "    exon_df[\"first_bp_count\"] = first_bp_list\n",
    "    return(exon_df)"
   ]
  },
  {
   "cell_type": "code",
   "execution_count": 10,
   "metadata": {
    "collapsed": false
   },
   "outputs": [],
   "source": [
    "#A function that get chromosome position and table of exons, and return the protein position or -1 if it's not within any exon\n",
    "def find_protein_pos(chrom_pos, exon_df, chrom_raw):\n",
    "    for index, exon in exon_df.iterrows():\n",
    "        start_pos = int(exon[0])\n",
    "        end_pos = int(exon[1])\n",
    "        first_bp_count = int(exon[3])\n",
    "        if (chrom_pos >= start_pos and chrom_pos <= end_pos):\n",
    "            \n",
    "            #Calculate position for reverse complement strand: the protein is translated from the end position towards the start position of the exon\n",
    "            if (chrom_raw.find(\"complement\") >= 0):\n",
    "                len_from_exon_start = end_pos - chrom_pos\n",
    "            #Calculate position for forward starnd\n",
    "            else:\n",
    "                len_from_exon_start = chrom_pos - start_pos\n",
    "            \n",
    "            #Calculate the position on the mRNA transcript\n",
    "            transcript_pos = len_from_exon_start + first_bp_count\n",
    "            \n",
    "            #Calculate the position on the protein sequence\n",
    "            protein_pos = int(math.ceil(float(transcript_pos)/3))\n",
    "            return protein_pos\n",
    "    \n",
    "    #If the position wasn't in the regions of any exon\n",
    "    return -1"
   ]
  },
  {
   "cell_type": "code",
   "execution_count": 11,
   "metadata": {
    "collapsed": true
   },
   "outputs": [],
   "source": [
    "#A function that get protein position and table of exons, and return the chromosome positions of the corresponding codon\n",
    "def find_chrom_bps(protein_pos, exon_table, chrom_raw_data):\n",
    "    \n",
    "    #calculate the mRNA transcript index of this protein position (the 1st bp in the triplet)\n",
    "    transcript_pos = (protein_pos*3)-2\n",
    "    \n",
    "    #Iterating over all the gene exons\n",
    "    for index, exon in exon_table.iterrows():  \n",
    "        first_bp_count = int(exon[\"first_bp_count\"])\n",
    "        exon_length = int(exon[\"length\"])\n",
    "        last_bp_count = first_bp_count + exon_length - 1\n",
    "        \n",
    "        #Checking if the transcript position is within this exon\n",
    "        if (first_bp_count <= transcript_pos and transcript_pos <= last_bp_count):\n",
    "            \n",
    "            start_pos = int(exon[\"start_pos\"])\n",
    "            end_pos = int(exon[\"end_pos\"])\n",
    "            \n",
    "            len_from_exon_start = transcript_pos - first_bp_count\n",
    "            \n",
    "            #Calculate bps position for reverse complement strand: the protein is translated from the end position towards the start position of the exon\n",
    "            if (chrom_raw_data.find(\"complement\") >= 0):\n",
    "                chrom_pos_1st = end_pos - len_from_exon_start\n",
    "                \n",
    "                chrom_pos_2nd = chrom_pos_1st - 1\n",
    "                #If the exons ends here: move to the next exon\n",
    "                if (chrom_pos_2nd < start_pos):\n",
    "                    index += 1\n",
    "                    chrom_pos_2nd = int(exon_table[\"end_pos\"][index])\n",
    "                    start_pos = int(exon_table[\"start_pos\"][index])\n",
    "                    end_pos = int(exon_table[\"end_pos\"][index])\n",
    "                \n",
    "                #If the exons ends here: move to the next exon\n",
    "                chrom_pos_3rd = chrom_pos_2nd - 1\n",
    "                if (chrom_pos_3rd < start_pos):\n",
    "                    index += 1\n",
    "                    chrom_pos_3rd = int(exon_table[\"end_pos\"][index])\n",
    "                    \n",
    "            #Calculate position for forward strand\n",
    "            else:\n",
    "                chrom_pos_1st = start_pos + len_from_exon_start\n",
    "                \n",
    "                chrom_pos_2nd = chrom_pos_1st + 1\n",
    "                 #If the exons ends here: move to the next exon\n",
    "                if (chrom_pos_2nd > end_pos):\n",
    "                    index += 1\n",
    "                    chrom_pos_2nd = int(exon_table[\"start_pos\"][index])\n",
    "                    start_pos = int(exon_table[\"start_pos\"][index])\n",
    "                    end_pos = int(exon_table[\"end_pos\"][index])\n",
    "                \n",
    "                #If the exons ends here: move to the next exon\n",
    "                chrom_pos_3rd = chrom_pos_2nd + 1\n",
    "                if (chrom_pos_3rd > end_pos):\n",
    "                    index += 1\n",
    "                    chrom_pos_3rd = int(exon_table[\"start_pos\"][index])\n",
    "            \n",
    "            return (chrom_pos_1st, chrom_pos_2nd, chrom_pos_3rd)\n",
    "        "
   ]
  },
  {
   "cell_type": "code",
   "execution_count": 12,
   "metadata": {
    "collapsed": true
   },
   "outputs": [],
   "source": [
    "#Boolean function - determine if a given text can be converted to a number\n",
    "def is_number(s):\n",
    "    try:\n",
    "        float(s)\n",
    "        return True\n",
    "    except ValueError:\n",
    "        return False"
   ]
  },
  {
   "cell_type": "code",
   "execution_count": 13,
   "metadata": {
    "collapsed": true
   },
   "outputs": [],
   "source": [
    "#A function that return the hmm state of that protein position\n",
    "# return -1 for positions outside of domains regions, -2 for matching insertion\n",
    "#TODO: do we need also transcript id? do we want to consider more than 1 transcript per gene?\n",
    "def protein_pos_to_hmm_state_and_aa(protein_pos, domain_gene_table):\n",
    "    for index, row in domain_gene_table.iterrows():\n",
    "        target_start = row[\"TargetStart\"]\n",
    "        target_end = row[\"TargetEnd\"]\n",
    "        aa = \"-\"\n",
    "        \n",
    "        #Check if the position is inside this domain instance of the gene\n",
    "        if (protein_pos >= target_start and protein_pos <= target_end):\n",
    "            \n",
    "            hmm_pos = (row[\"HMM_Pos\"]).split(\",\")\n",
    "            target_seq = list(row[\"Target_Seq\"])\n",
    "            index_inside_match = (protein_pos - target_start)\n",
    "            \n",
    "            #Correct index_inside_match for previous deletions '-'\n",
    "            for j in range(index_inside_match):\n",
    "                if (target_seq[j] == \"-\"):\n",
    "                    index_inside_match += 1\n",
    "            \n",
    "            #Find the HMM match state\n",
    "            while (aa == \"-\"):\n",
    "                hmm_state_text = hmm_pos[index_inside_match]\n",
    "                if (is_number(hmm_state_text) == True):\n",
    "                    hmm_state = int(hmm_state_text)\n",
    "                else:\n",
    "                    #the position match insertion\n",
    "                    hmm_state = -2\n",
    "\n",
    "                #Find the amino acid\n",
    "                aa = (target_seq[index_inside_match]).upper()\n",
    "            \n",
    "                #Handling a deletion in the domain instance in comparison to the HMM profile\n",
    "                if (aa == \"-\"):\n",
    "                    index_inside_match += 1\n",
    "                \n",
    "            return(hmm_state, aa)\n",
    "            \n",
    "    #The protein position isn't in any domain region        \n",
    "    return (-1,'-')"
   ]
  },
  {
   "cell_type": "code",
   "execution_count": 14,
   "metadata": {
    "collapsed": false
   },
   "outputs": [],
   "source": [
    "#A function that create the new codon for the alteration\n",
    "def create_alt_codon(exac_ref_bp, curr_alt_bp, ref_codon, alt_codon_pos, chrom_raw_data):\n",
    "    \n",
    "    #For error logging\n",
    "    functionNameAsString = sys._getframe().f_code.co_name\n",
    "    \n",
    "    #Complement strand - transversing the bp to base-complement\n",
    "    if (chrom_raw_data.find(\"complement\") >= 0):\n",
    "        new_bp = \"\"\n",
    "        for c in curr_alt_bp:\n",
    "            if (c.upper() == 'A'):\n",
    "                new_bp = new_bp+'T'\n",
    "            elif (c.upper() == 'T'):\n",
    "                new_bp = new_bp+'A'\n",
    "            elif (c.upper() == 'G'):\n",
    "                new_bp = new_bp+'C'\n",
    "            else:\n",
    "                new_bp = new_bp+'G'\n",
    "            new_bp = new_bp[::-1] #TODO: is the reverse needed?\n",
    "        \n",
    "        exac_ref_bp_adj = \"\"\n",
    "        for c in exac_ref_bp:\n",
    "            if (c.upper() == 'A'):\n",
    "                exac_ref_bp_adj = exac_ref_bp_adj+'T'\n",
    "            elif (c.upper() == 'T'):\n",
    "                exac_ref_bp_adj = exac_ref_bp_adj+'A'\n",
    "            elif (c.upper() == 'G'):\n",
    "                exac_ref_bp_adj = exac_ref_bp_adj+'C'\n",
    "            else:\n",
    "                exac_ref_bp_adj = exac_ref_bp_adj+'G'\n",
    "            exac_ref_bp_adj = exac_ref_bp_adj[::-1] #TODO: is the reverse needed?\n",
    "        \n",
    "    #Regular strand\n",
    "    else:\n",
    "        new_bp = curr_alt_bp\n",
    "        exac_ref_bp_adj = exac_ref_bp\n",
    "        \n",
    "    #Validation: making sure the ref bp from ExAC is inside the ref codon sequence retrieved from hg19 or the other way around (at least one contain the other)\n",
    "    if (ref_codon.find(exac_ref_bp_adj) == -1 and exac_ref_bp_adj.find(ref_codon) == -1):\n",
    "        print functionNameAsString+\" Error: ExAC ref sequence \"+exac_ref_bp_adj+\" isn't found in hg19 retrieved codon sequence \"+ref_codon\n",
    "        \n",
    "    new_alt_codon = ref_codon[:alt_codon_pos]+new_bp+ref_codon[alt_codon_pos+len(exac_ref_bp_adj):]\n",
    "    \n",
    "    return new_alt_codon"
   ]
  },
  {
   "cell_type": "code",
   "execution_count": 15,
   "metadata": {
    "collapsed": true
   },
   "outputs": [],
   "source": [
    "codon_table = {\n",
    "    'ATA':'I', 'ATC':'I', 'ATT':'I', 'ATG':'M',\n",
    "    'ACA':'T', 'ACC':'T', 'ACG':'T', 'ACT':'T',\n",
    "    'AAC':'N', 'AAT':'N', 'AAA':'K', 'AAG':'K',\n",
    "    'AGC':'S', 'AGT':'S', 'AGA':'R', 'AGG':'R',\n",
    "    'CTA':'L', 'CTC':'L', 'CTG':'L', 'CTT':'L',\n",
    "    'CCA':'P', 'CCC':'P', 'CCG':'P', 'CCT':'P',\n",
    "    'CAC':'H', 'CAT':'H', 'CAA':'Q', 'CAG':'Q',\n",
    "    'CGA':'R', 'CGC':'R', 'CGG':'R', 'CGT':'R',\n",
    "    'GTA':'V', 'GTC':'V', 'GTG':'V', 'GTT':'V',\n",
    "    'GCA':'A', 'GCC':'A', 'GCG':'A', 'GCT':'A',\n",
    "    'GAC':'D', 'GAT':'D', 'GAA':'E', 'GAG':'E',\n",
    "    'GGA':'G', 'GGC':'G', 'GGG':'G', 'GGT':'G',\n",
    "    'TCA':'S', 'TCC':'S', 'TCG':'S', 'TCT':'S',\n",
    "    'TTC':'F', 'TTT':'F', 'TTA':'L', 'TTG':'L',\n",
    "    'TAC':'Y', 'TAT':'Y', 'TAA':'*', 'TAG':'*',\n",
    "    'TGC':'C', 'TGT':'C', 'TGA':'*', 'TGG':'W',\n",
    "    }"
   ]
  },
  {
   "cell_type": "code",
   "execution_count": 16,
   "metadata": {
    "collapsed": true
   },
   "outputs": [],
   "source": [
    "#Retrieve the codon base-parirs from the ref sequence\n",
    "def retrieve_codon_seq(chrom_pos_list, chrom_raw_data, chrom):\n",
    "    chromsome_name = \"chr\"+chrom\n",
    "    chrom_pos_1st = chrom_pos_list[0]\n",
    "    chrom_pos_2nd = chrom_pos_list[1]\n",
    "    chrom_pos_3rd = chrom_pos_list[2]\n",
    "    \n",
    "    if (chrom_pos_1st < chrom_pos_3rd):\n",
    "        chrom_pos_list_adj = chrom_pos_list\n",
    "    else:\n",
    "        chrom_pos_list_adj = reversed(chrom_pos_list) #For reverse strand - order is reveresed\n",
    "        \n",
    "    seq = \"\"\n",
    "    for chrom_pos in chrom_pos_list:\n",
    "        seq_start = chrom_pos - 1\n",
    "        query = !./twoBitToFa hg19.2bit stdout -seq=$chromsome_name -start=$seq_start -end=$chrom_pos\n",
    "        seq = seq+query[1]\n",
    "    \n",
    "    #Complement strand - transversing the bp to base-complement\n",
    "    if (chrom_raw_data.find(\"complement\") >= 0):\n",
    "        complement_seq = []\n",
    "        for c in seq:\n",
    "            if (c.upper() == 'A'):\n",
    "                complement_seq.append('T')\n",
    "            elif (c.upper() == 'T'):\n",
    "                complement_seq.append('A')\n",
    "            elif (c.upper() == 'G'):\n",
    "                complement_seq.append('C')\n",
    "            else:\n",
    "                complement_seq.append('G')\n",
    "        seq = complement_seq[0]+complement_seq[1]+complement_seq[2]\n",
    "        \n",
    "    return seq"
   ]
  },
  {
   "cell_type": "code",
   "execution_count": 17,
   "metadata": {
    "collapsed": true
   },
   "outputs": [],
   "source": [
    "FRAME_SHIFT_INDEL = 1\n",
    "IN_FRAME_INDEL = 2\n",
    "NO_INDEL = 0"
   ]
  },
  {
   "cell_type": "code",
   "execution_count": 18,
   "metadata": {
    "collapsed": false
   },
   "outputs": [],
   "source": [
    "#A boolean function that check according to ref and alt if it's frameshift indel or not\n",
    "def is_indel(ref, alt, chrom_alter):\n",
    "    #For error logging\n",
    "    functionNameAsString = sys._getframe().f_code.co_name\n",
    "    \n",
    "    if (len(ref) != len(alt)):\n",
    "        if (len(ref) > len(alt)):\n",
    "            indel_len = len(ref) - len(alt)\n",
    "        else: \n",
    "            indel_len = len(ref) - len(alt)\n",
    "        if ((indel_len % 3) > 0):\n",
    "            \n",
    "            #Validation: ExAC identify this as a frameshift too\n",
    "            conseq = chrom_alter[\"conseq\"]\n",
    "            #if (\"frameshift\" not in conseq):\n",
    "             #   print functionNameAsString+\" Error: ExAC doesn't recognize a frameshift indel - \"+str(chrom_alter[\"pos\"])\n",
    "            \n",
    "            #frameshift indel    \n",
    "            return FRAME_SHIFT_INDEL\n",
    "        \n",
    "        #In frame indel\n",
    "        else:\n",
    "            return IN_FRAME_INDEL\n",
    "        \n",
    "    #Not an indel\n",
    "    else:\n",
    "        return NO_INDEL "
   ]
  },
  {
   "cell_type": "code",
   "execution_count": 19,
   "metadata": {
    "collapsed": false
   },
   "outputs": [],
   "source": [
    "# A function that returns the indices of the strings differences\n",
    "def diff(a, b):\n",
    "    return [i for i in range(len(a)) if a[i] != b[i]]"
   ]
  },
  {
   "cell_type": "code",
   "execution_count": 20,
   "metadata": {
    "collapsed": true
   },
   "outputs": [],
   "source": [
    "#A function that adds more lines for all the effected chromosomal positions of each indel\n",
    "def table_editing(chrom_gene_table):\n",
    "    i_cnt = 0\n",
    "    d_cnt = 0\n",
    "    indels_table = pd.DataFrame(columns = chrom_gene_table.columns)\n",
    "    indels_table_i = 0\n",
    "    comments_col = []\n",
    "    \n",
    "    for index, line in chrom_gene_table.iterrows():\n",
    "        ref = line[\"ref\"]\n",
    "        alt = line[\"alt\"]\n",
    "        pos = line[\"pos\"]\n",
    "        feature = line[\"feature\"]\n",
    "        conseq = line[\"conseq\"]\n",
    "        prot_pos = line[\"prot_pos\"]\n",
    "        strand = line[\"strand\"]\n",
    "        \n",
    "        #Handling deletion\n",
    "        if (len(ref) > len(alt)):\n",
    "            d_cnt += 1\n",
    "            comments_col.append(\"ignore for this position: d-\"+str(d_cnt))\n",
    "            #Adding to indels table only the inframe ones\n",
    "            if (is_indel(ref, alt, line) == IN_FRAME_INDEL):\n",
    "                init_pos = pos +  len(alt)\n",
    "                deletion_len = len(ref) - len(alt)\n",
    "                for j in range(deletion_len):\n",
    "                    new_line = line.copy(deep=True)\n",
    "                    new_line[\"pos\"] = init_pos + j\n",
    "                    new_line[\"ref\"] = ref[j+1]\n",
    "                    new_line[\"alt\"] = \"-\"\n",
    "                    new_line[\"comments\"] = \"d-\"+str(d_cnt)\n",
    "                    indels_table.loc[indels_table_i] = new_line\n",
    "                    indels_table_i += 1\n",
    "            \n",
    "        #Handling insertion\n",
    "        elif (len(alt) > len(ref)):\n",
    "            i_cnt += 1\n",
    "            comments_col.append(\"ignore for this position: i-\"+str(i_cnt))\n",
    "            \n",
    "            #Adding to indels table only the inframe ones\n",
    "            if (is_indel(ref, alt, line) == IN_FRAME_INDEL):\n",
    "                init_pos = pos + len(ref)\n",
    "                #insertion_len = len(alt) - len(ref)\n",
    "                new_line = line.copy(deep=True)\n",
    "                if (strand == 1):\n",
    "                    new_line[\"pos\"] = init_pos\n",
    "                else:\n",
    "                    new_line[\"pos\"] = init_pos - 1\n",
    "                new_line[\"ref\"] = \"-\"\n",
    "                new_line[\"alt\"] = alt[len(ref):]\n",
    "                new_line[\"comments\"] = \"i-\"+str(i_cnt)\n",
    "                indels_table.loc[indels_table_i] = new_line\n",
    "                indels_table_i += 1\n",
    "            \n",
    "        #Handling mismtach written with redundant bps\n",
    "        elif (len(ref) > 1):\n",
    "            diff_idx = diff(ref, alt)\n",
    "            #A case when only the first bp is the alteration\n",
    "            if (diff_idx == [0]):\n",
    "                #Fix ref and alt fields\n",
    "                chrom_gene_table.set_value(index, \"ref\", ref[0])\n",
    "                chrom_gene_table.set_value(index, \"alt\", alt[0])\n",
    "                \n",
    "                strand = line[\"strand\"]\n",
    "                \n",
    "                #Fix amino_acids field\n",
    "                aa = line[\"amino_acids\"]\n",
    "                #If aa field is not empty\n",
    "                if (aa != \"\"):\n",
    "                    if (strand == 1):\n",
    "                        if (aa.find(\"/\")!= -1):\n",
    "                            new_aa = aa[0] + aa[aa.find(\"/\"):aa.find(\"/\")+2]\n",
    "                        else:\n",
    "                            new_aa = aa[0]\n",
    "                    else:\n",
    "                        if (aa.find(\"/\")!= -1):\n",
    "                            new_aa = aa[aa.find(\"/\")-1:aa.find(\"/\")+1]+aa[-1]\n",
    "                        else:\n",
    "                            new_aa = aa[-1]\n",
    "                    chrom_gene_table.set_value(index, \"amino_acids\", new_aa)\n",
    "                \n",
    "                #Fix prot_pos field\n",
    "                prot_pos = line[\"prot_pos\"]\n",
    "                if (prot_pos != \"\"):\n",
    "                    if (prot_pos.find(\"-\") != -1):\n",
    "                        if (strand == 1):\n",
    "                            chrom_gene_table.set_value(index, \"prot_pos\",  prot_pos[:prot_pos.find(\"-\")])\n",
    "                        else:\n",
    "                            chrom_gene_table.set_value(index, \"prot_pos\",  prot_pos[prot_pos.find(\"-\")+1:])\n",
    "                \n",
    "                comments_col.append(\"removed redundant bps\")\n",
    "            else:\n",
    "                comments_col.append(\"\")\n",
    "                \n",
    "        #No Indel\n",
    "        else:\n",
    "            comments_col.append(\"\")\n",
    "    \n",
    "    chrom_gene_table[\"comments\"] = comments_col\n",
    "    #print \"Number of insertions = \"+str(i_cnt)\n",
    "    #print \"number of deletion = \"+str(d_cnt)\n",
    "    \n",
    "    return indels_table"
   ]
  },
  {
   "cell_type": "code",
   "execution_count": 21,
   "metadata": {
    "collapsed": true
   },
   "outputs": [],
   "source": [
    "def exac_validation_checks(chrom_alter, protein_pos, aa, alt_codon_pos, chrom_pos, bp_ref):\n",
    "    \n",
    "    #For error logging\n",
    "    functionNameAsString = sys._getframe().f_code.co_name\n",
    "    \n",
    "    error_flag = False\n",
    "    \n",
    "    #Validation: the ExAC chromosome position is within a protein\n",
    "    exac_prot_data = True\n",
    "    if (chrom_alter[\"prot_pos\"] == \"\"):\n",
    "        print functionNameAsString+\" Error: ExAC chromosome position \"+str(chrom_pos)+\" doesn't correspond to a protein\"\n",
    "        #We assume it's an error in ExAC and logging alteration anyway.\n",
    "        exac_prot_data = False\n",
    "        \n",
    "    else:\n",
    "        #Validation: the ExAC protein position match the HMMER protein position\n",
    "        exac_prot_pos = chrom_alter[\"prot_pos\"]\n",
    "         #in case there's more than one position listed\n",
    "        if (exac_prot_pos.find(\"-\") != -1):\n",
    "            first_exac_prot_pos = int(exac_prot_pos[:exac_prot_pos.find(\"-\")])\n",
    "            last_exac_prot_pos = int(exac_prot_pos[exac_prot_pos.find(\"-\")+1:])\n",
    "        else:\n",
    "            first_exac_prot_pos = int(exac_prot_pos)\n",
    "            last_exac_prot_pos = first_exac_prot_pos\n",
    "        #Checking of the protein position isn't within the range described by ExAC\n",
    "        if not(first_exac_prot_pos <= protein_pos <= last_exac_prot_pos):\n",
    "            print functionNameAsString+\" \"+ str(chrom_pos)+\" Error: ExAC protein position \"+str(first_exac_prot_pos)+\" doesn't match HMMER protein position \"+str(protein_pos)\n",
    "            error_flag = True\n",
    "\n",
    "        #Validation: the ExAC aa match the HMMER aa\n",
    "        exac_aa = chrom_alter[\"amino_acids\"]\n",
    "        if (exac_aa.find(\"/\") != -1):\n",
    "            exac_ref_aa = exac_aa[:exac_aa.find(\"/\")]\n",
    "        else:\n",
    "            exac_ref_aa = exac_aa\n",
    "        exac_alt_aa = exac_aa[exac_aa.find(\"/\")+1:]\n",
    "        if (exac_ref_aa != aa):\n",
    "            print functionNameAsString+\" \"+ str(chrom_pos)+\" Error: ExAC amino acid identity \"+exac_ref_aa+\" doesn't match HMMER amino-acid \"+aa\n",
    "            error_flag = True\n",
    "\n",
    "        #Extracting aa codon data if exist\n",
    "        exac_codons = chrom_alter[\"codons\"]\n",
    "        exac_ref_codon = exac_codons[:exac_codons.find(\"/\")]\n",
    "        exac_alt_codon = exac_codons[exac_codons.find(\"/\")+1:]\n",
    "        #Validation: the ExAC codon match the returned codon sequence from hg19, or at least one contain the other\n",
    "        if ((exac_ref_codon.upper().find(bp_ref.upper()) == -1) and (bp_ref.upper().find(exac_ref_codon.upper()) == -1)):\n",
    "            print functionNameAsString+\" \"+ str(chrom_pos)+\" Error: ExAC bp codon \"+exac_ref_codon.upper()+\" doesn't match hg19 codon sequence retrieved \"+bp_ref.upper()\n",
    "        \n",
    "        #Getting the changed position inside the ExAC codon - ignore for now\n",
    "        #exac_alt_codon_pos = 0\n",
    "        #for c in exac_ref_codon:\n",
    "            #if c.isupper():\n",
    "                #break\n",
    "            #exac_alt_codon_pos += 1\n",
    "        #Validation: the ExAC alt position match my alt codon position calculation\n",
    "        #if (exac_alt_codon_pos != alt_codon_pos):\n",
    "            #print functionNameAsString+\" \"+ str(chrom_pos)+\" Error: the ExAC alt position in codon \"+str(exac_alt_codon_pos)+\" doesn't match my codon position calculation \"+str(alt_codon_pos)\n",
    "    \n",
    "        return (exac_prot_data, exac_alt_aa, exac_alt_codon, error_flag)\n",
    "    "
   ]
  },
  {
   "cell_type": "code",
   "execution_count": 22,
   "metadata": {
    "collapsed": true
   },
   "outputs": [],
   "source": [
    "#Amino acids used for JSD functions\n",
    "amino_acids = ['A','R','N','D','C','Q','E','G','H','I','L','K','M','F','P','S',\n",
    "          'T','W','Y','V','*'] # 20 amino acids, and * for termination codon"
   ]
  },
  {
   "cell_type": "code",
   "execution_count": 23,
   "metadata": {
    "collapsed": true
   },
   "outputs": [],
   "source": [
    "pfam_aa_order = ['A', 'C', 'D', 'E', 'F', 'G', 'H', 'I', 'K', 'L', 'M', 'N', 'P', 'Q', 'R', 'S', 'T', 'V', 'W', 'Y']"
   ]
  },
  {
   "cell_type": "code",
   "execution_count": 24,
   "metadata": {
    "collapsed": true
   },
   "outputs": [],
   "source": [
    "#Background options for the JSD function\n",
    "BLOSUM62 = 0\n",
    "MAJOR_ALLELE = 1\n",
    "PFAM_PROB = 2"
   ]
  },
  {
   "cell_type": "code",
   "execution_count": 25,
   "metadata": {
    "collapsed": true
   },
   "outputs": [],
   "source": [
    "def JSD(alterations_af_dict, aa_ref, maf, hmm_state, background, rand=False):\n",
    "    \"\"\"\n",
    "    Compute the Jensen-Shannon divergence of the aa frequencies, as described in the dictionary\n",
    "    with background frequency. \n",
    "    \"\"\"\n",
    "    \n",
    "    if (background == BLOSUM62):\n",
    "        #Background frequencies of amino acids (random or BLOSUM62 matrix): \n",
    "        q = [1./len(amino_acids)]*len(amino_acids) if rand else         [0.074, 0.052, 0.045, 0.054, 0.025, 0.034, 0.054, 0.074,\n",
    "             0.026, 0.068, 0.099, 0.058, 0.025, 0.047, 0.039, 0.057,\n",
    "             0.051, 0.013, 0.032, 0.073, 0]\n",
    "        \n",
    "    elif (background == MAJOR_ALLELE):\n",
    "        #Create the background frequency vector according to the major allele\n",
    "        q = [0.00001]*len(amino_acids)\n",
    "        q[amino_acids.index(aa_ref)] += 1     \n",
    "        \n",
    "    elif (background == PFAM_PROB):\n",
    "        #Create the background frequency vector from the Pfam HMM prob.\n",
    "        state_prob = pfam_match_prob_dict[hmm_state]\n",
    "        q = []\n",
    "        for aa in amino_acids:\n",
    "            if (aa == \"*\"):\n",
    "                q.append(0.00001)\n",
    "            else:\n",
    "                q.append(state_prob[pfam_aa_order.index(aa)])\n",
    "        \n",
    "    else:\n",
    "        print \"Wrong background input\"\n",
    "        return -1\n",
    "    \n",
    "    #Make sure it all sums to 1\n",
    "    q = [f/sum(q) for f in q]\n",
    "    \n",
    "    #Create the frequency vector according to the alterations dictionary\n",
    "    feqs_vector = []\n",
    "    for aa in amino_acids:\n",
    "        if (aa in alterations_af_dict.keys()):\n",
    "            feqs_vector.append(0.00001 + sum(alterations_af_dict[aa]))\n",
    "        elif (aa == aa_ref):\n",
    "            feqs_vector.append(0.00001 + (1 - maf))\n",
    "        else:\n",
    "            feqs_vector.append(0.00001)\n",
    "    \n",
    "    p = [f/sum(feqs_vector) for f in feqs_vector]\n",
    "    \n",
    "    assert str(sum(q))=='1.0' and str(sum(p))=='1.0', \"Prob. vectors do not sum to 1\"\n",
    "    \n",
    "    jsd_score = JSdiv(p, q)\n",
    "    \n",
    "    #Compute the Shannon Entropy of residues\n",
    "    shannon_entropy = - sum(aa_prob*np.log2(aa_prob) for aa_prob in p)                   \n",
    "    \n",
    "    return (jsd_score, shannon_entropy)\n",
    "    "
   ]
  },
  {
   "cell_type": "code",
   "execution_count": 26,
   "metadata": {
    "collapsed": false
   },
   "outputs": [],
   "source": [
    "#A function that return a dict with the MAF info for the protein position and corresponding chromosomal location\n",
    "def calc_exac_maf_data(chrom_pos_list, chrom_gene_table, indels_table, protein_pos, aa, chrom_raw_data, chrom, hmm_state):\n",
    "    \n",
    "    res_dict = {}\n",
    "    res_dict[\"chrom\"] = chrom\n",
    "    res_dict[\"chrom_pos\"] = chrom_pos_list\n",
    "    res_dict[\"prot_pos\"] = protein_pos\n",
    "    res_dict[\"aa_ref\"] = aa\n",
    "    res_dict[\"bp_ref\"] = retrieve_codon_seq(chrom_pos_list, chrom_raw_data, chrom)\n",
    "    frameshift_cnt = 0\n",
    "    errors_cnt = 0\n",
    "    filter_cnt = 0\n",
    "    inframe_ids = []\n",
    "    \n",
    "    #For error logging\n",
    "    functionNameAsString = sys._getframe().f_code.co_name\n",
    "    \n",
    "    #Validation: checking that the returned codon sequence from hg19 match the HMMER amino-acid\n",
    "    translated_aa = codon_table[(res_dict[\"bp_ref\"]).upper()]\n",
    "    if (translated_aa != aa):\n",
    "        print functionNameAsString+\" Error: hg19 codon sequence retrieved \"+(res_dict[\"bp_ref\"]).upper()+\"=\"+translated_aa+\" doesn't match HMMER amino-acid \"+aa\n",
    "    \n",
    "    alterations_af_dict = defaultdict(list)\n",
    "    alterations_af_adj_dict = defaultdict(list)\n",
    "    \n",
    "    for i in range(len(chrom_pos_list)):\n",
    "        chrom_pos = chrom_pos_list[i]\n",
    "        alt_codon_pos = i\n",
    "            \n",
    "        #Retreiving relevant ExAC entry\n",
    "        chrom_alter_table = chrom_gene_table[chrom_gene_table[\"pos\"] == chrom_pos]\n",
    "        chrom_alter_table = chrom_alter_table.reset_index(drop=True)\n",
    "                \n",
    "        if (chrom_alter_table.shape[0] == 0):\n",
    "            #No ExAC entry for this chromosome position - not adding alteration data\n",
    "            continue\n",
    "        \n",
    "        else:\n",
    "            #In case there are several alterations for that position, iterating\n",
    "            for index, line in chrom_alter_table.iterrows():\n",
    "                chrom_alter = line\n",
    "                \n",
    "                #Filtering out according to filter field\n",
    "                exac_filter = chrom_alter[\"filter\"]\n",
    "                if (exac_filter != \"PASS\"):\n",
    "                    filter_cnt += 1\n",
    "                    continue\n",
    "                    \n",
    "                #Filtering out according to AN Adj beeing less than 80% of the ExAC population\n",
    "                an_adj = chrom_alter[\"AN_Adj\"]\n",
    "                exac_80_per = (60000 * 0.8)\n",
    "                if ((an_adj * 2) < exac_80_per):\n",
    "                    filter_cnt += 1\n",
    "                    continue\n",
    "                \n",
    "                #Extracting ref and alt\n",
    "                exac_ref_bp = chrom_alter[\"ref\"]\n",
    "                exac_alt_bp = chrom_alter[\"alt\"]\n",
    "                \n",
    "                #Check if frameshift indel - skip (we assume the whole protein may not function and don't add those to the MAF count)\n",
    "                if (is_indel(exac_ref_bp, exac_alt_bp, chrom_alter) == FRAME_SHIFT_INDEL):\n",
    "                    frameshift_cnt += 1\n",
    "                    continue\n",
    "                    \n",
    "                #Check if inframe indel - take data from the indels table later\n",
    "                elif (is_indel(exac_ref_bp, exac_alt_bp, chrom_alter) == IN_FRAME_INDEL):\n",
    "                    indel_id = chrom_alter[\"comments\"][chrom_alter[\"comments\"].find(\"-\"):]\n",
    "                    inframe_ids.append(indel_id)\n",
    "                    continue     \n",
    "                \n",
    "                #Perform validation checks (comparing ExAC and HMMER data)\n",
    "                (exac_prot_data, exac_alt_aa, exac_alt_codon, errors) = exac_validation_checks(chrom_alter, protein_pos, aa, alt_codon_pos, chrom_pos, res_dict[\"bp_ref\"])\n",
    "                if (errors):\n",
    "                    errors_cnt += 1\n",
    "                    #Skipping if there are validation errors\n",
    "                    continue\n",
    "\n",
    "                #Extracting ExAC allele frequency data\n",
    "                af = chrom_alter[\"AF\"]\n",
    "                an = int(chrom_alter[\"AN\"])\n",
    "                an_adj = int(chrom_alter[\"AN_Adj\"])\n",
    "                ac_adj = chrom_alter[\"AC_Adj\"]\n",
    "                \n",
    "                #Calculating the alteration relevant data\n",
    "                alt_codon = create_alt_codon(exac_ref_bp, exac_alt_bp, res_dict[\"bp_ref\"], alt_codon_pos, chrom_raw_data)\n",
    "                if (len(alt_codon) != 3):\n",
    "                    alt_aa = \"indel\"\n",
    "                    continue #TODO: handle inframe indels\n",
    "                else:\n",
    "                    alt_aa = codon_table[alt_codon.upper()]\n",
    "\n",
    "                #Validation: ExAC alt codon and aa for the first alteration match the calculated alt\n",
    "                #if (exac_prot_data and exac_alt_codon.upper() != alt_codon):\n",
    "                    #print functionNameAsString+\" \"+ str(chrom_pos)+\" Error: the ExAC alt codon \"+exac_alt_codon.upper()+\" doesn't match my alt codon calculation \"+alt_codon\n",
    "                if (exac_prot_data and exac_alt_aa != alt_aa):\n",
    "                    print functionNameAsString+\" \"+ str(chrom_pos)+\" Error: the ExAC alt aa \"+exac_alt_aa+\" doesn't match my alt aa calculation \"+alt_aa\n",
    "\n",
    "                if (alt_aa == res_dict[\"aa_ref\"]):\n",
    "                    #Not logging alteration for synonymous mutations\n",
    "                    continue\n",
    "\n",
    "                #Non-synonymous(!!!) - logging the alteration\n",
    "                else:\n",
    "                    alterations_af_dict[alt_aa].append(float(af))\n",
    "                    af_adj = float(ac_adj)/float(an_adj)\n",
    "                    af_adj_format = float('{:.3e}'.format(float(af_adj)))\n",
    "                    alterations_af_adj_dict[alt_aa].append(af_adj_format)\n",
    "\n",
    "    #Calculating the overall MAF from the alteration dicts\n",
    "    res_dict[\"af\"] = 0\n",
    "    res_dict[\"af_adj\"] = 0\n",
    "    \n",
    "    for aa in alterations_af_dict.keys():\n",
    "        aa_sum = sum(alterations_af_dict[aa])\n",
    "        aa_adj_sum = sum(alterations_af_adj_dict[aa])\n",
    "        \n",
    "        #Checking if any alteration is above 0.5, and changing the ref accordingly\n",
    "        if (aa != \"indel\" and aa_sum > 0.5):\n",
    "            \n",
    "            #Adding the refrence allele to the alterations dicts\n",
    "            old_ref = res_dict[\"aa_ref\"]\n",
    "            sum_of_all_alt = sum(sum(alterations_af_dict.values(), []))\n",
    "            sum_of_all_alt_adj = sum(sum(alterations_af_adj_dict.values(), []))\n",
    "            alterations_af_dict[old_ref] = [1 - sum_of_all_alt]\n",
    "            alterations_af_adj_dict[old_ref] = [1 - sum_of_all_alt_adj]\n",
    "            \n",
    "            #Updating the aa to be the ref\n",
    "            res_dict[\"aa_ref\"] = aa\n",
    "            res_dict[\"af\"] =(1 - aa_sum)\n",
    "            res_dict[\"af_adj\"] = (1 - aa_adj_sum)\n",
    "            \n",
    "            #Deleting from the alterations dicts\n",
    "            del alterations_af_dict[aa]\n",
    "            del alterations_af_adj_dict[aa]\n",
    "            break\n",
    "        else:\n",
    "            res_dict[\"af\"] += aa_sum\n",
    "            res_dict[\"af_adj\"] += aa_adj_sum\n",
    "        \n",
    "        #Fix the AF format\n",
    "        res_dict[\"af\"] = float('{:.3e}'.format(float(res_dict[\"af\"])))\n",
    "        res_dict[\"af_adj\"] = float('{:.3e}'.format(float(res_dict[\"af_adj\"])))\n",
    "        \n",
    "    #Calculating the overall Jensen-Shannon Divergrence\n",
    "    if (len(alterations_af_dict.keys()) == 0):\n",
    "        (res_dict[\"JSD\"], res_dict[\"SE\"]) = (0, 0)\n",
    "        (res_dict[\"JSD_adj\"], res_dict[\"SE_Adj\"]) = (0,0)\n",
    "    else:\n",
    "        (res_dict[\"JSD\"], res_dict[\"SE\"]) = JSD(alterations_af_dict, res_dict[\"aa_ref\"], res_dict[\"af\"], hmm_state, MAJOR_ALLELE)\n",
    "        (res_dict[\"JSD_adj\"], res_dict[\"SE_Adj\"]) = JSD(alterations_af_adj_dict, res_dict[\"aa_ref\"], res_dict[\"af_adj\"], hmm_state, MAJOR_ALLELE)\n",
    "        \n",
    "    return (res_dict, frameshift_cnt, errors_cnt, filter_cnt)"
   ]
  },
  {
   "cell_type": "code",
   "execution_count": null,
   "metadata": {
    "collapsed": false
   },
   "outputs": [
    {
     "name": "stdout",
     "output_type": "stream",
     "text": [
      "Starting....\n"
     ]
    },
    {
     "name": "stderr",
     "output_type": "stream",
     "text": [
      "/home/anat/anaconda2/lib/python2.7/site-packages/pandas/core/frame.py:1997: UserWarning: Boolean Series key will be reindexed to match DataFrame index.\n",
      "  \"DataFrame index.\", UserWarning)\n"
     ]
    },
    {
     "name": "stdout",
     "output_type": "stream",
     "text": [
      "Finished protein ENSG00000116809\n",
      "Finished protein ENSG00000117010\n"
     ]
    }
   ],
   "source": [
    "chrom_path = curr_dir[0]+\"/parsed/\"\n",
    "chrom_filename = \"parsed_chrom\"\n",
    "states_dict = defaultdict(list)\n",
    "print \"Starting....\"\n",
    "\n",
    "#For error logging\n",
    "functionNameAsString = sys._getframe().f_code.co_name\n",
    "\n",
    "#A list of all the ens genes\n",
    "domain_ens_genes_all = []\n",
    "\n",
    "#A list to count frameshifts per gene\n",
    "domain_ens_genes_frameshifts = []\n",
    "\n",
    "#A list to count validation errors per gene\n",
    "domain_ens_genes_errors = []\n",
    "\n",
    "#A list to count ExAC filtered-out per gene\n",
    "domain_ens_genes_filter = []\n",
    "\n",
    "for chrom in chromosome_names:\n",
    "    \n",
    "    #Filtering the domain data relevant to this chromosome\n",
    "    domain_chrom_data = sorted_domain_data[sorted_domain_data[\"chrom_num\"] == chrom]\n",
    "    \n",
    "    #Loading the ExAC parsed data of this chromosome\n",
    "    fields = ['chrom', 'pos', 'ref', 'alt', \"filter\", 'AC', 'AC_Adj', 'AF', 'AN', 'AN_Adj', 'gene', 'feature', \n",
    "              'feature_type', 'conseq', 'prot_pos', 'amino_acids', 'codons', 'strand', 'ENSP', 'exon', \n",
    "              'intron', 'domains']\n",
    "    chrom_csv = pd.read_csv(chrom_path+chrom_filename+chrom+\".csv\", sep='\\t', index_col=0, usecols=fields)\n",
    "    chrom_csv = chrom_csv.sort_values(by=[\"pos\"])\n",
    "    chrom_csv = chrom_csv.reset_index(drop=True)\n",
    "    chrom_csv.fillna('', inplace=True)\n",
    "    chrom_csv[\"comments\"] = \"\"\n",
    "    \n",
    "    #Getting a list of all the relevant ensembl gene ids for this chromosome\n",
    "    domain_ens_genes = (domain_chrom_data[\"ensembl_id\"]).unique()\n",
    "    domain_ens_genes_all.extend(domain_ens_genes)\n",
    "    \n",
    "    #For each ensembl gene in the domain data - finding all the ExAC alterations\n",
    "    for ens_gene in domain_ens_genes:\n",
    "        \n",
    "        #Filtering the domain data for this gene according to the canonical protein id\n",
    "        canonic_prot = canonic_protein[ens_gene]\n",
    "        domain_gene_table = domain_chrom_data[domain_chrom_data[\"prot_id\"] == canonic_prot]\n",
    "        #Making sure that if two HMM-matches overlaps, the higher bit score will come first in the table\n",
    "        domain_gene_table = domain_gene_table.sort_values(by=\"BitScore\", ascending=False)\n",
    "        domain_gene_name = domain_gene_table[\"Hugo_symbol\"].unique()[0]\n",
    "        if (len(domain_gene_table[\"Hugo_symbol\"].unique()) > 1):\n",
    "            print functionNameAsString+\" Error: \"+ens_gene+\": more than one Hugo symbol\" #sanity check\n",
    "        \n",
    "        #Creating a table of the exons for this gene, according to the canonical protein\n",
    "        chrom_raw_data = domain_gene_table[\"chromosome_id\"].unique()[0] #there should be only one element here\n",
    "        if (len(domain_gene_table[\"chromosome_id\"].unique()) > 1):\n",
    "            print functionNameAsString+\" Error: \"+ens_gene+\": more than one chromosome raw data\" #sanity check\n",
    "        targetid = domain_gene_table[\"#TargetID\"].unique()[0]\n",
    "        exon_table = create_exon_pos_table(chrom_raw_data, targetid)\n",
    "        \n",
    "        #Filtering the chromosome data to the gene exons region\n",
    "        exons_start_pos = min(exon_table[\"start_pos\"][0],exon_table[\"start_pos\"][len(exon_table)-1]) #in case of complelemt, the minimal position could be at the last row\n",
    "        exons_end_pos = max(exon_table[\"end_pos\"][0],exon_table[\"end_pos\"][len(exon_table)-1]) #in case of complelemt, the maximal position could be at the first row\n",
    "        chrom_gene_table = chrom_csv[chrom_csv[\"pos\"] >= int(exons_start_pos)][chrom_csv[\"pos\"] <= int(exons_end_pos)][chrom_csv[\"ENSP\"] == canonic_prot]\n",
    "        chrom_gene_table = chrom_gene_table.reset_index(drop=True)\n",
    "        \n",
    "        #Handling indels\n",
    "        indels_table = table_editing(chrom_gene_table)\n",
    "        \n",
    "        #A counter for frameshifts inside the domain\n",
    "        protein_frameshifts_cnt = 0\n",
    "        #A counter for validation errors inside the domain\n",
    "        protein_errors_cnt = 0\n",
    "        #A counter for ExAC filter-out inside the domain\n",
    "        protein_filter_cnt = 0\n",
    "        \n",
    "        #Iterating over the amino-acids of the protein\n",
    "        prot_len = domain_gene_table[\"length\"].unique()[0]\n",
    "        for protein_pos in range(1,prot_len+1):\n",
    "    \n",
    "            #Trying to match HMM-state, and retreive the aa from HMMER results\n",
    "            (hmm_state, aa) = protein_pos_to_hmm_state_and_aa(protein_pos, domain_gene_table) #TODO: what happens when two matches overlap? maybe sort to the best bit score?\n",
    "                \n",
    "            #If there's a match to HMM-state: find the corresponding codon bps chromosome positions\n",
    "            if (hmm_state > 0):\n",
    "                chrom_pos_list =find_chrom_bps(protein_pos, exon_table, chrom_raw_data)\n",
    "                \n",
    "                #Analysis of the amino-acid MAF and realted data, returned in a dictionary\n",
    "                (info_dict, frameshift_cnt, errors_cnt, filter_cnt) = calc_exac_maf_data(chrom_pos_list, chrom_gene_table, indels_table, protein_pos, aa, chrom_raw_data, chrom, hmm_state)\n",
    "                info_dict[\"ens_gene\"] = ens_gene\n",
    "                \n",
    "                #Adding the dictionary to the HMM-state list\n",
    "                states_dict[hmm_state].append(info_dict)\n",
    "                \n",
    "                #Adding the frameshifts to the global counter\n",
    "                protein_frameshifts_cnt += frameshift_cnt\n",
    "                \n",
    "                #Adding the errors to the global counter\n",
    "                protein_errors_cnt += errors_cnt\n",
    "                \n",
    "                #Adding the filtered to the global counter\n",
    "                protein_filter_cnt += filter_cnt\n",
    "        \n",
    "        domain_ens_genes_frameshifts.append(protein_frameshifts_cnt)\n",
    "        domain_ens_genes_errors.append(protein_errors_cnt)\n",
    "        domain_ens_genes_filter.append(protein_filter_cnt)\n",
    "        print \"Finished protein \"+ens_gene\n",
    "                                \n",
    "    print \"Finished chromosome \"+chrom\n",
    "\n",
    "with open(my_path+'zinc_hmm_states_dict_An_Adj80_9.27.pik', 'wb') as handle:\n",
    "    pickle.dump(states_dict, handle, protocol=pickle.HIGHEST_PROTOCOL)"
   ]
  },
  {
   "cell_type": "code",
   "execution_count": 29,
   "metadata": {
    "collapsed": false
   },
   "outputs": [
    {
     "data": {
      "text/plain": [
       "0"
      ]
     },
     "execution_count": 29,
     "metadata": {},
     "output_type": "execute_result"
    }
   ],
   "source": [
    "sum(domain_ens_genes_errors)"
   ]
  },
  {
   "cell_type": "code",
   "execution_count": 30,
   "metadata": {
    "collapsed": false
   },
   "outputs": [
    {
     "data": {
      "text/plain": [
       "1360"
      ]
     },
     "execution_count": 30,
     "metadata": {},
     "output_type": "execute_result"
    }
   ],
   "source": [
    "sum(domain_ens_genes_frameshifts)"
   ]
  },
  {
   "cell_type": "code",
   "execution_count": 31,
   "metadata": {
    "collapsed": false
   },
   "outputs": [
    {
     "data": {
      "text/plain": [
       "5056"
      ]
     },
     "execution_count": 31,
     "metadata": {},
     "output_type": "execute_result"
    }
   ],
   "source": [
    "sum(domain_ens_genes_filter)"
   ]
  },
  {
   "cell_type": "code",
   "execution_count": 35,
   "metadata": {
    "collapsed": false
   },
   "outputs": [
    {
     "data": {
      "text/plain": [
       "68528"
      ]
     },
     "execution_count": 35,
     "metadata": {},
     "output_type": "execute_result"
    }
   ],
   "source": [
    "max(chrom_gene_table[\"AN\"])"
   ]
  },
  {
   "cell_type": "markdown",
   "metadata": {},
   "source": [
    "### Debugging code"
   ]
  },
  {
   "cell_type": "code",
   "execution_count": 32,
   "metadata": {
    "collapsed": false
   },
   "outputs": [
    {
     "name": "stdout",
     "output_type": "stream",
     "text": [
      "Starting....\n"
     ]
    }
   ],
   "source": [
    "chrom_path = curr_dir[0]+\"/parsed/\"\n",
    "chrom_filename = \"parsed_chrom\"\n",
    "states_dict = defaultdict(list)\n",
    "print \"Starting....\"\n",
    "\n",
    "chrom = \"10\"\n",
    "\n",
    "#For error logging\n",
    "functionNameAsString = sys._getframe().f_code.co_name\n",
    "\n",
    "#A list of all the ens genes\n",
    "domain_ens_genes_all = []\n",
    "\n",
    "#A list to count frameshifts per gene\n",
    "domain_ens_genes_frameshifts = []\n",
    "\n",
    "#A list to count validation errors per gene\n",
    "domain_ens_genes_errors = []\n",
    "\n",
    "#A list to count ExAC filtered-out per gene\n",
    "domain_ens_genes_filter = []\n",
    "\n",
    "#Filtering the domain data relevant to this chromosome\n",
    "domain_chrom_data = sorted_domain_data[sorted_domain_data[\"chrom_num\"] == chrom]\n",
    "\n",
    "#Loading the ExAC parsed data of this chromosome\n",
    "fields = ['chrom', 'pos', 'ref', 'alt', \"filter\", 'AC', 'AC_Adj', 'AF', 'AN', 'AN_Adj', 'gene', 'feature', \n",
    "          'feature_type', 'conseq', 'prot_pos', 'amino_acids', 'codons', 'strand', 'ENSP', 'exon', \n",
    "          'intron', 'domains']\n",
    "chrom_csv = pd.read_csv(chrom_path+chrom_filename+chrom+\".csv\", sep='\\t', index_col=0, usecols=fields)\n",
    "chrom_csv = chrom_csv.sort_values(by=[\"pos\"])\n",
    "chrom_csv = chrom_csv.reset_index(drop=True)\n",
    "chrom_csv.fillna('', inplace=True)\n",
    "chrom_csv[\"comments\"] = \"\"\n",
    "\n",
    "#Getting a list of all the relevant ensembl gene ids for this chromosome\n",
    "domain_ens_genes = (domain_chrom_data[\"ensembl_id\"]).unique()"
   ]
  },
  {
   "cell_type": "code",
   "execution_count": 28,
   "metadata": {
    "collapsed": false
   },
   "outputs": [
    {
     "data": {
      "text/plain": [
       "array(['ENSG00000075407', 'ENSG00000122877', 'ENSG00000148516',\n",
       "       'ENSG00000165512', 'ENSG00000169740', 'ENSG00000175395',\n",
       "       'ENSG00000189180', 'ENSG00000196693', 'ENSG00000196793',\n",
       "       'ENSG00000198105', 'ENSG00000198298'], dtype=object)"
      ]
     },
     "execution_count": 28,
     "metadata": {},
     "output_type": "execute_result"
    }
   ],
   "source": [
    "domain_ens_genes"
   ]
  },
  {
   "cell_type": "code",
   "execution_count": 35,
   "metadata": {
    "collapsed": false
   },
   "outputs": [
    {
     "name": "stdout",
     "output_type": "stream",
     "text": [
      "Finished protein ENSG00000196793\n"
     ]
    }
   ],
   "source": [
    "ens_gene = \"ENSG00000196793\"\n",
    "\n",
    "#Filtering the domain data for this gene according to the canonical protein id\n",
    "canonic_prot = canonic_protein[ens_gene]\n",
    "domain_gene_table = domain_chrom_data[domain_chrom_data[\"prot_id\"] == canonic_prot]\n",
    "#Making sure that if two HMM-matches overlaps, the higher bit score will come first in the table\n",
    "domain_gene_table = domain_gene_table.sort_values(by=\"BitScore\", ascending=False)\n",
    "\n",
    "#Getting the chosen protein transcript id for the ExAC filtering\n",
    "#canonic_transcript_id = domain_gene_table[\"transcript_id\"].tolist()[0]\n",
    "\n",
    "#Creating a table of the exons for this gene, according to the canonical protein\n",
    "chrom_raw_data = domain_gene_table[\"chromosome_id\"].unique()[0] #there should be only one element here\n",
    "if (len(domain_gene_table[\"chromosome_id\"].unique()) > 1):\n",
    "    print functionNameAsString+\" Error: \"+ens_gene+\": more than one chromosome raw data\" #sanity check\n",
    "targetid = domain_gene_table[\"#TargetID\"].unique()[0]\n",
    "exon_table = create_exon_pos_table(chrom_raw_data, targetid)\n",
    "\n",
    "#Filtering the chromosome data to the gene exons region\n",
    "exons_start_pos = min(exon_table[\"start_pos\"][0],exon_table[\"start_pos\"][len(exon_table)-1]) #in case of complelemt, the minimal position could be at the last row\n",
    "exons_end_pos = max(exon_table[\"end_pos\"][0],exon_table[\"end_pos\"][len(exon_table)-1]) #in case of complelemt, the maximal position could be at the first row\n",
    "chrom_gene_table = chrom_csv[chrom_csv[\"pos\"] >= int(exons_start_pos)][chrom_csv[\"pos\"] <= int(exons_end_pos)][chrom_csv[\"ENSP\"] == canonic_prot]\n",
    "chrom_gene_table = chrom_gene_table.reset_index(drop=True)\n",
    "\n",
    "#Handling indels\n",
    "indels_table = table_editing(chrom_gene_table)\n",
    "\n",
    "#A counter for frameshifts inside the domain\n",
    "protein_frameshifts_cnt = 0\n",
    "#A counter for validation errors inside the domain\n",
    "protein_errors_cnt = 0\n",
    "#A counter for ExAC filter-out inside the domain\n",
    "protein_filter_cnt = 0\n",
    "\n",
    "#Iterating over the amino-acids of the protein\n",
    "prot_len = domain_gene_table[\"length\"].unique()[0]\n",
    "for protein_pos in range(1,prot_len+1):\n",
    "\n",
    "    #Trying to match HMM-state, and retreive the aa from HMMER results\n",
    "    (hmm_state, aa) = protein_pos_to_hmm_state_and_aa(protein_pos, domain_gene_table) #TODO: what happens when two matches overlap? maybe sort to the best bit score?\n",
    "\n",
    "    #If there's a match to HMM-state: find the corresponding codon bps chromosome positions\n",
    "    if (hmm_state > 0):\n",
    "        chrom_pos_list =find_chrom_bps(protein_pos, exon_table, chrom_raw_data)\n",
    "\n",
    "        #Analysis of the amino-acid MAF and realted data, returned in a dictionary\n",
    "        (info_dict, frameshift_cnt, errors_cnt, filter_cnt) = calc_exac_maf_data(chrom_pos_list, chrom_gene_table, indels_table, protein_pos, aa, chrom_raw_data, chrom, hmm_state)\n",
    "        info_dict[\"ens_gene\"] = ens_gene\n",
    "                \n",
    "        #Adding the dictionary to the HMM-state list\n",
    "        states_dict[hmm_state].append(info_dict)\n",
    "\n",
    "        #Adding the frameshifts to the global counter\n",
    "        protein_frameshifts_cnt += frameshift_cnt\n",
    "\n",
    "        #Adding the errors to the global counter\n",
    "        protein_errors_cnt += errors_cnt\n",
    "        \n",
    "        #Adding the filtered to the global counter\n",
    "        protein_filter_cnt += filter_cnt\n",
    "        \n",
    "domain_ens_genes_frameshifts.append(protein_frameshifts_cnt)\n",
    "domain_ens_genes_errors.append(protein_errors_cnt)\n",
    "domain_ens_genes_filter.append(protein_filter_cnt)\n",
    "print \"Finished protein \"+ens_gene"
   ]
  }
 ],
 "metadata": {
  "kernelspec": {
   "display_name": "Python 2",
   "language": "python",
   "name": "python2"
  },
  "language_info": {
   "codemirror_mode": {
    "name": "ipython",
    "version": 2
   },
   "file_extension": ".py",
   "mimetype": "text/x-python",
   "name": "python",
   "nbconvert_exporter": "python",
   "pygments_lexer": "ipython2",
   "version": "2.7.10"
  }
 },
 "nbformat": 4,
 "nbformat_minor": 0
}
