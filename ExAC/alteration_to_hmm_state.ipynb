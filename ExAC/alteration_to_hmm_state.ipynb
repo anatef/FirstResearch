{
 "cells": [
  {
   "cell_type": "code",
   "execution_count": 609,
   "metadata": {
    "collapsed": false
   },
   "outputs": [
    {
     "data": {
      "text/html": [
       "<style>.container { width:100% !important; }</style>"
      ],
      "text/plain": [
       "<IPython.core.display.HTML object>"
      ]
     },
     "execution_count": 609,
     "metadata": {},
     "output_type": "execute_result"
    }
   ],
   "source": [
    "#Import packages\n",
    "import pandas as pd\n",
    "import numpy as np\n",
    "import math\n",
    "import json\n",
    "from collections import defaultdict\n",
    "from IPython.core.display import HTML\n",
    "HTML(\"<style>.container { width:100% !important; }</style>\")"
   ]
  },
  {
   "cell_type": "code",
   "execution_count": 20,
   "metadata": {
    "collapsed": true
   },
   "outputs": [],
   "source": [
    "#Reading the Zinc-finger domain data\n",
    "curr_dir = !pwd\n",
    "my_path = curr_dir[0]+\"/hmm_domains/\"\n",
    "filename = \"zf-C2H2.csv\"\n",
    "zinc_finger = pd.read_csv(my_path+filename, sep='\\t', index_col=0)\n",
    "#Sort the zinc finger data\n",
    "sorted_zinc = zinc_finger.sort_values(by=[\"chrom_num\", \"ensembl_id\", \"TargetStart\"])\n",
    "sorted_zinc = sorted_zinc.reset_index(drop=True)"
   ]
  },
  {
   "cell_type": "code",
   "execution_count": 682,
   "metadata": {
    "collapsed": false
   },
   "outputs": [],
   "source": [
    "#Get the canonic transcript for Zinc domain\n",
    "canonic_trans_prot = json.load(file(my_path+'zinc_canonic_trans_prot.json'))"
   ]
  },
  {
   "cell_type": "code",
   "execution_count": 535,
   "metadata": {
    "collapsed": true
   },
   "outputs": [],
   "source": [
    "chromosome_names = [\"1\", \"2\", \"3\", \"4\", \"5\", \"6\", \"7\", \"8\", \"9\", \"10\", \"11\", \"12\", \"13\", \"14\", \"15\", \"16\", \"17\", \"18\", \"19\", \"20\", \"21\", \"22\", \"X\", \"Y\"]"
   ]
  },
  {
   "cell_type": "code",
   "execution_count": 661,
   "metadata": {
    "collapsed": false
   },
   "outputs": [],
   "source": [
    "#A function that get chromosome raw data from the hmmer results and return a table of the exons\n",
    "def create_exon_pos_table(chrom_raw):\n",
    "    exons_raw = chrom_raw\n",
    "    \n",
    "    #Removing the complement bracates if exist\n",
    "    if (exons_raw.find(\"complement(\") >= 0):\n",
    "        exons_raw = exons_raw[exons_raw.find(\"complement(\")+11:-1]\n",
    "    \n",
    "    #Removing the join bracates if exist\n",
    "    if (exons_raw.find(\"join(\") >= 0):\n",
    "        exons_raw = exons_raw[exons_raw.find(\"join(\")+5:-1]\n",
    "        \n",
    "    #In case there's only one exon, take everything after the second \":\"\n",
    "    else:\n",
    "        exons_raw = exons_raw[exons_raw.find(\":\", chrom_raw.find(\":\")+1)+1:]\n",
    "    \n",
    "    exons_list = exons_raw.split(\",\")\n",
    "    exon_pos = []\n",
    "    for ex in exons_list:\n",
    "        exon_pos.append(ex.split(\"..\"))\n",
    "    exon_df = pd.DataFrame(exon_pos)\n",
    "    exon_df.columns = [\"start_pos\", \"end_pos\"]\n",
    "    exon_len = []\n",
    "    for index, exon in exon_df.iterrows():\n",
    "        exon_len.append(int(exon[1]) - int(exon[0])+1)\n",
    "    exon_df[\"length\"] = exon_len\n",
    "    first_bp_count = 1\n",
    "    first_bp_list = []\n",
    "    for index, exon in exon_df.iterrows():\n",
    "        first_bp_list.append(first_bp_count)\n",
    "        first_bp_count += int(exon[2])\n",
    "    exon_df[\"first_bp_count\"] = first_bp_list\n",
    "    return(exon_df)"
   ]
  },
  {
   "cell_type": "code",
   "execution_count": 279,
   "metadata": {
    "collapsed": false
   },
   "outputs": [],
   "source": [
    "#A function that get chromosome position and table of exons, and return the protein position or -1 if it's not within any exon\n",
    "def find_protein_pos(chrom_pos, exon_df, chrom_raw):\n",
    "    for index, exon in exon_df.iterrows():\n",
    "        start_pos = int(exon[0])\n",
    "        end_pos = int(exon[1])\n",
    "        first_bp_count = int(exon[3])\n",
    "        if (chrom_pos >= start_pos and chrom_pos <= end_pos):\n",
    "            \n",
    "            #Calculate position for reverse complement strand: the protein is translated from the end position towards the start position of the exon\n",
    "            if (chrom_raw.find(\"complement\")):\n",
    "                len_from_exon_start = end_pos - chrom_pos\n",
    "            #Calculate position for forward starnd\n",
    "            else:\n",
    "                len_from_exon_start = chrom_pos - start_pos\n",
    "            \n",
    "            #Calculate the position on the mRNA transcript\n",
    "            transcript_pos = len_from_exon_start + first_bp_count\n",
    "            \n",
    "            #Calculate the position on the protein sequence\n",
    "            protein_pos = int(math.ceil(float(transcript_pos)/3))\n",
    "            return protein_pos\n",
    "    \n",
    "    #If the position wasn't in the regions of any exon\n",
    "    return -1"
   ]
  },
  {
   "cell_type": "code",
   "execution_count": 240,
   "metadata": {
    "collapsed": true
   },
   "outputs": [],
   "source": [
    "#Boolean function - determine if a given text can be converted to a number\n",
    "def is_number(s):\n",
    "    try:\n",
    "        float(s)\n",
    "        return True\n",
    "    except ValueError:\n",
    "        return False"
   ]
  },
  {
   "cell_type": "code",
   "execution_count": 568,
   "metadata": {
    "collapsed": true
   },
   "outputs": [],
   "source": [
    "#A function that return the hmm state of that protein position\n",
    "# return -1 for positions outside of domains regions, -2 for matching insertion\n",
    "#TODO: do we need also transcript id? do we want to consider more than 1 transcript per gene?\n",
    "def protein_pos_to_hmm_state(protein_pos, domain_gene_table):\n",
    "    for index, row in domain_gene_table.iterrows():\n",
    "        target_start = row[6]\n",
    "        target_end = row[7]\n",
    "        hmm_pos = (row[10]).split(\",\")\n",
    "        if (protein_pos >= target_start and protein_pos <= target_end):\n",
    "            index_inside_match = (protein_pos - target_start)\n",
    "            hmm_state_text = hmm_pos[index_inside_match]\n",
    "            if is_number(hmm_state_text):\n",
    "                hmm_state = int(hmm_state_text)\n",
    "                return hmm_state\n",
    "            else:\n",
    "                #the position match insertion\n",
    "                return -2\n",
    "            \n",
    "    #The protein position isn't in any domain region        \n",
    "    return -1"
   ]
  },
  {
   "cell_type": "code",
   "execution_count": 683,
   "metadata": {
    "collapsed": false
   },
   "outputs": [
    {
     "name": "stdout",
     "output_type": "stream",
     "text": [
      "Finished chromosome 1\n",
      "Finished chromosome 2\n",
      "Finished chromosome 3\n",
      "Finished chromosome 4\n",
      "Finished chromosome 5\n",
      "Finished chromosome 6\n",
      "Finished chromosome 7\n",
      "Finished chromosome 8\n",
      "Finished chromosome 9\n",
      "Finished chromosome 10\n",
      "Finished chromosome 11\n",
      "Finished chromosome 12\n",
      "Finished chromosome 13\n",
      "Finished chromosome 14\n",
      "Finished chromosome 15\n",
      "Finished chromosome 16\n",
      "Finished chromosome 17\n",
      "Finished chromosome 18\n",
      "Finished chromosome 19\n",
      "Finished chromosome 20\n",
      "Finished chromosome 21\n",
      "Finished chromosome 22\n",
      "Finished chromosome X\n",
      "Finished chromosome Y\n"
     ]
    }
   ],
   "source": [
    "chrom_path = curr_dir[0]+\"/parsed/\"\n",
    "chrom_filename = \"parsed_chrom\"\n",
    "states_dict = defaultdict(list)\n",
    "\n",
    "for chrom in chromosome_names:\n",
    "    \n",
    "    #Filtering the domain data relevant to this chromosome\n",
    "    domain_chrom_data = sorted_zinc[sorted_zinc[\"chrom_num\"] == chrom]\n",
    "    \n",
    "    #Loading the ExAC parsed data of this chromosome\n",
    "    chrom_csv = pd.read_csv(chrom_path+chrom_filename+chrom+\".csv\", sep='\\t', index_col=0)\n",
    "    \n",
    "    #Getting a list of all the relevant ensembl gene ids for this chromosome\n",
    "    domain_ens_genes = (domain_chrom_data[\"ensembl_id\"]).unique()\n",
    "    \n",
    "    #For each ensembl gene in the domain data - finding all the ExAC alterations\n",
    "    for ens_gene in domain_ens_genes:\n",
    "        \n",
    "        #Filtering the domain data for this gene according to the canonical transcript id\n",
    "        canonic_trans = canonic_trans_prot[ens_gene][0]\n",
    "        canonic_prot = canonic_trans_prot[ens_gene][1]\n",
    "        domain_gene_table = domain_chrom_data[domain_chrom_data[\"transcript_id\"] == canonic_trans]\n",
    "        domain_gene_table = domain_gene_table[domain_gene_table[\"prot_id\"] == canonic_prot]\n",
    "        \n",
    "        #Filtering the chromosome data to this gene\n",
    "        chrom_gene_table = chrom_csv[chrom_csv[\"gene\"] == ens_gene]\n",
    "        chrom_gene_table = chrom_gene_table.reset_index(drop=True)\n",
    "        chrom_gene_size = chrom_gene_table.shape[0]\n",
    "        \n",
    "        #Creating a table of the exons for this gene, according to the canonical transcript\n",
    "        chrom_raw_data = domain_gene_table[\"chromosome_id\"].unique()[0] #there should be only one element here\n",
    "        if (len(domain_gene_table[\"chromosome_id\"].unique()) > 1):\n",
    "            print ens_gene+\": more than one chromosome raw data\" #sanity check\n",
    "        exon_table = create_exon_pos_table(chrom_raw_data)\n",
    "        \n",
    "        #Iterating over the gene alterations in the ExAC data to see if they match to HMM-states\n",
    "        for i in range(chrom_gene_size):\n",
    "            #Getting the alteration chromosome position\n",
    "            chrom_pos = chrom_gene_table[\"pos\"][i]\n",
    "            protein_pos = find_protein_pos(chrom_pos, exon_table, chrom_raw_data)\n",
    "            \n",
    "            #If the position is inside one of the exons\n",
    "            if (protein_pos > 0):\n",
    "                #Trying to match HMM-state\n",
    "                hmm_state = protein_pos_to_hmm_state(protein_pos, domain_gene_table)\n",
    "                \n",
    "                #If there's a match to HMM-state (our goal!): saving relevant information to the dictionary\n",
    "                if (hmm_state > 0):\n",
    "                    \n",
    "                    #Extracting the relevant information from the ExAC data table\n",
    "                    ac_list = (chrom_gene_table[\"AC\"][i]).split(\",\")\n",
    "                    an = chrom_gene_table[\"AN\"][i]\n",
    "                    af_list = (chrom_gene_table[\"AF\"][i]).split(\",\")\n",
    "                    ac_adj_list = (chrom_gene_table[\"AC_Adj\"][i]).split(\",\")\n",
    "                    an_adj = chrom_gene_table[\"AN_Adj\"][i]\n",
    "                    ref = chrom_gene_table[\"ref\"][i]\n",
    "                    alt_list = (chrom_gene_table[\"alt\"][i]).split(\",\")\n",
    "                    qual = chrom_gene_table[\"qual\"][i]\n",
    "                    \n",
    "                    #In case there is more than one alteration in this position: adding them as different entries to the list\n",
    "                    for j in range(len(ac_list)):\n",
    "                        info_dict = {}\n",
    "                        info_dict[\"ac\"] = int(ac_list[j])\n",
    "                        info_dict[\"an\"] = int(an)\n",
    "                        info_dict[\"af\"] = float(af_list[j])\n",
    "                        info_dict[\"ac_adj\"] = int(ac_adj_list[j])\n",
    "                        info_dict[\"an_adj\"] = int(an_adj)\n",
    "                        af_adj = float(info_dict[\"ac_adj\"])/float(info_dict[\"an_adj\"])\n",
    "                        af_adj_format = float('{:.3e}'.format(float(af_adj)))\n",
    "                        info_dict[\"af_adj\"] = af_adj_format\n",
    "                        info_dict[\"ref\"] = ref\n",
    "                        info_dict[\"alt\"] = alt_list[j]\n",
    "                        info_dict[\"qual\"] = qual\n",
    "                        info_dict[\"pos\"] = int(chrom_pos)\n",
    "                        states_dict[hmm_state].append(info_dict)\n",
    "                    \n",
    "    print \"Finished chromosome \"+chrom"
   ]
  },
  {
   "cell_type": "code",
   "execution_count": 684,
   "metadata": {
    "collapsed": false
   },
   "outputs": [],
   "source": [
    "json.dump(states_dict, file(my_path+'zinc_hmm_states_dict.json', 'w'))"
   ]
  },
  {
   "cell_type": "code",
   "execution_count": 309,
   "metadata": {
    "collapsed": false
   },
   "outputs": [
    {
     "data": {
      "text/plain": [
       "'1,2,3,4,a4-0,a4-1,5,6,7,8,9,10,11,12,13,14,15,16,17,18,19,20,21,22,23'"
      ]
     },
     "execution_count": 309,
     "metadata": {},
     "output_type": "execute_result"
    }
   ],
   "source": [
    "chrom1_zinc[chrom1_zinc[\"HMM_Pos\"] != \"1,2,3,4,5,6,7,8,9,10,11,12,13,14,15,16,17,18,19,20,21,22,23\"][\"HMM_Pos\"][136]"
   ]
  }
 ],
 "metadata": {
  "kernelspec": {
   "display_name": "Python 2",
   "language": "python",
   "name": "python2"
  },
  "language_info": {
   "codemirror_mode": {
    "name": "ipython",
    "version": 2
   },
   "file_extension": ".py",
   "mimetype": "text/x-python",
   "name": "python",
   "nbconvert_exporter": "python",
   "pygments_lexer": "ipython2",
   "version": "2.7.10"
  }
 },
 "nbformat": 4,
 "nbformat_minor": 0
}
