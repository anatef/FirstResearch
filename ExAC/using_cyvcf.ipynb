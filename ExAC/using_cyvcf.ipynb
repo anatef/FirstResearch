{
 "cells": [
  {
   "cell_type": "code",
   "execution_count": 47,
   "metadata": {
    "collapsed": true
   },
   "outputs": [],
   "source": [
    "#Import packages\n",
    "import gzip\n",
    "import cyvcf\n",
    "import pysam"
   ]
  },
  {
   "cell_type": "code",
   "execution_count": 62,
   "metadata": {
    "collapsed": false
   },
   "outputs": [],
   "source": [
    "#Global vars\n",
    "path = \"/Users/anat/Documents/Princeton/Research/ExAC/\"\n",
    "myFile = \"ExAC.r0.3.nonTCGA.sites.vep.vcf.gz\""
   ]
  },
  {
   "cell_type": "code",
   "execution_count": 63,
   "metadata": {
    "collapsed": false
   },
   "outputs": [],
   "source": [
    "vcf_reader = cyvcf.Reader(open(path+myFile, 'r'))"
   ]
  },
  {
   "cell_type": "code",
   "execution_count": 64,
   "metadata": {
    "collapsed": false
   },
   "outputs": [],
   "source": [
    "record = next(vcf_reader)   "
   ]
  },
  {
   "cell_type": "code",
   "execution_count": 65,
   "metadata": {
    "collapsed": false
   },
   "outputs": [
    {
     "name": "stdout",
     "output_type": "stream",
     "text": [
      "1\t13372\t.\tG\tC\t608.91\t.\tAC_FIN=0;BaseQRankSum=0.727;GQ_HIST=898|12712|137|76|2670|230|106|26|6|8|4|16|1109|266|57|44|16|2|2|1,0|0|0|0|0|1|0|0|0|0|0|0|0|1|0|0|0|0|0|0;Hom_AMR=0;Hom_EAS=0;Het_SAS=0;Hom_SAS=1;FS=0.0;AC_SAS=2;Het_OTH=0;Hom_FIN=0;AC_Hom=1;DP_HIST=12561|1962|1836|482|111|471|513|308|110|19|10|2|1|0|0|0|0|0|0|0,1|0|0|0|1|0|0|0|0|0|0|0|0|0|0|0|0|0|0|0;DP=124662;AC_AMR=0;AC_AFR=0;Hom_OTH=0;AC_OTH=0;AN_EAS=196;AN_OTH=76;culprit=MQ;AN_Adj=7666;AN_AMR=118;Het_AFR=0;ReadPosRankSum=0.727;AC_Adj=2;ClippingRankSum=1.15;NCC=60853;AN_FIN=16;AC=3;MQRankSum=0.727;AN_SAS=5046;Het_FIN=0;AF=8.158e-05;VQSLOD=-1.687;AC_EAS=0;AN=36772;MQ0=0;GQ_MEAN=12.48;Het_AMR=0;CSQ=C|ENSG00000223972|ENST00000456328|Transcript|non_coding_transcript_exon_variant&non_coding_transcript_variant|620||||||1||1|DDX11L1|HGNC|37102|processed_transcript|YES||||||||3/3|||ENST00000456328.2:n.620G>C|||||||||||||||||||,C|ENSG00000223972|ENST00000450305|Transcript|splice_region_variant&non_coding_transcript_exon_variant&non_coding_transcript_variant|412||||||1||1|DDX11L1|HGNC|37102|transcribed_unprocessed_pseudogene|||||||||5/6|||ENST00000450305.2:n.412G>C|||||||||||||||||||,C|ENSG00000223972|ENST00000515242|Transcript|non_coding_transcript_exon_variant&non_coding_transcript_variant|613||||||1||1|DDX11L1|HGNC|37102|transcribed_unprocessed_pseudogene|||||||||3/3|||ENST00000515242.2:n.613G>C|||||||||||||||||||,C|ENSG00000223972|ENST00000518655|Transcript|intron_variant&non_coding_transcript_variant|||||||1||1|DDX11L1|HGNC|37102|transcribed_unprocessed_pseudogene||||||||||2/3||ENST00000518655.2:n.482-31G>C|||||||||||||||||||;AN_NFE=1676;AN_AFR=538;Het_NFE=0;InbreedingCoeff=-0.0844;Het_EAS=0;GQ_STDDEV=15.18;Hom_NFE=0;MQ=35.72;QD=23.42;Hom_AFR=0;AC_Het=0;AC_NFE=0\n"
     ]
    }
   ],
   "source": [
    "print record"
   ]
  },
  {
   "cell_type": "code",
   "execution_count": 20,
   "metadata": {
    "collapsed": false
   },
   "outputs": [
    {
     "data": {
      "text/plain": [
       "{'AC': [3],\n",
       " 'AC_AFR': [0],\n",
       " 'AC_AMR': [0],\n",
       " 'AC_Adj': [2],\n",
       " 'AC_EAS': [0],\n",
       " 'AC_FIN': [0],\n",
       " 'AC_Het': [0],\n",
       " 'AC_Hom': [1],\n",
       " 'AC_NFE': [0],\n",
       " 'AC_OTH': [0],\n",
       " 'AC_SAS': [2],\n",
       " 'AF': [8.158e-05],\n",
       " 'AN': 36772,\n",
       " 'AN_AFR': 538,\n",
       " 'AN_AMR': 118,\n",
       " 'AN_Adj': 7666,\n",
       " 'AN_EAS': 196,\n",
       " 'AN_FIN': 16,\n",
       " 'AN_NFE': 1676,\n",
       " 'AN_OTH': 76,\n",
       " 'AN_SAS': 5046,\n",
       " 'BaseQRankSum': 0.727,\n",
       " 'CSQ': 'C|ENSG00000223972|ENST00000456328|Transcript|non_coding_transcript_exon_variant&non_coding_transcript_variant|620||||||1||1|DDX11L1|HGNC|37102|processed_transcript|YES||||||||3/3|||ENST00000456328.2:n.620G>C|||||||||||||||||||,C|ENSG00000223972|ENST00000450305|Transcript|splice_region_variant&non_coding_transcript_exon_variant&non_coding_transcript_variant|412||||||1||1|DDX11L1|HGNC|37102|transcribed_unprocessed_pseudogene|||||||||5/6|||ENST00000450305.2:n.412G>C|||||||||||||||||||,C|ENSG00000223972|ENST00000515242|Transcript|non_coding_transcript_exon_variant&non_coding_transcript_variant|613||||||1||1|DDX11L1|HGNC|37102|transcribed_unprocessed_pseudogene|||||||||3/3|||ENST00000515242.2:n.613G>C|||||||||||||||||||,C|ENSG00000223972|ENST00000518655|Transcript|intron_variant&non_coding_transcript_variant|||||||1||1|DDX11L1|HGNC|37102|transcribed_unprocessed_pseudogene||||||||||2/3||ENST00000518655.2:n.482-31G>C|||||||||||||||||||',\n",
       " 'ClippingRankSum': 1.15,\n",
       " 'DP': 124662,\n",
       " 'DP_HIST': '12561|1962|1836|482|111|471|513|308|110|19|10|2|1|0|0|0|0|0|0|0,1|0|0|0|1|0|0|0|0|0|0|0|0|0|0|0|0|0|0|0',\n",
       " 'FS': 0.0,\n",
       " 'GQ_HIST': '898|12712|137|76|2670|230|106|26|6|8|4|16|1109|266|57|44|16|2|2|1,0|0|0|0|0|1|0|0|0|0|0|0|0|1|0|0|0|0|0|0',\n",
       " 'GQ_MEAN': 12.48,\n",
       " 'GQ_STDDEV': 15.18,\n",
       " 'Het_AFR': [0],\n",
       " 'Het_AMR': [0],\n",
       " 'Het_EAS': [0],\n",
       " 'Het_FIN': [0],\n",
       " 'Het_NFE': [0],\n",
       " 'Het_OTH': [0],\n",
       " 'Het_SAS': [0],\n",
       " 'Hom_AFR': [0],\n",
       " 'Hom_AMR': [0],\n",
       " 'Hom_EAS': [0],\n",
       " 'Hom_FIN': [0],\n",
       " 'Hom_NFE': [0],\n",
       " 'Hom_OTH': [0],\n",
       " 'Hom_SAS': [1],\n",
       " 'InbreedingCoeff': -0.0844,\n",
       " 'MQ': 35.72,\n",
       " 'MQ0': 0,\n",
       " 'MQRankSum': 0.727,\n",
       " 'NCC': 60853,\n",
       " 'QD': 23.42,\n",
       " 'ReadPosRankSum': 0.727,\n",
       " 'VQSLOD': -1.687,\n",
       " 'culprit': 'MQ'}"
      ]
     },
     "execution_count": 20,
     "metadata": {},
     "output_type": "execute_result"
    }
   ],
   "source": [
    "record.INFO"
   ]
  },
  {
   "cell_type": "code",
   "execution_count": 23,
   "metadata": {
    "collapsed": false
   },
   "outputs": [
    {
     "data": {
      "text/plain": [
       "[8.158e-05]"
      ]
     },
     "execution_count": 23,
     "metadata": {},
     "output_type": "execute_result"
    }
   ],
   "source": [
    "record.INFO['AF']"
   ]
  },
  {
   "cell_type": "code",
   "execution_count": 45,
   "metadata": {
    "collapsed": false
   },
   "outputs": [
    {
     "data": {
      "text/plain": [
       "[]"
      ]
     },
     "execution_count": 45,
     "metadata": {},
     "output_type": "execute_result"
    }
   ],
   "source": [
    "vcf_reader.samples"
   ]
  },
  {
   "cell_type": "code",
   "execution_count": 49,
   "metadata": {
    "collapsed": false
   },
   "outputs": [
    {
     "ename": "Exception",
     "evalue": "pysam not available, try \"pip install pysam\"?",
     "output_type": "error",
     "traceback": [
      "\u001b[0;31m---------------------------------------------------------------------------\u001b[0m",
      "\u001b[0;31mException\u001b[0m                                 Traceback (most recent call last)",
      "\u001b[0;32m<ipython-input-49-780ee65d6f10>\u001b[0m in \u001b[0;36m<module>\u001b[0;34m()\u001b[0m\n\u001b[0;32m----> 1\u001b[0;31m \u001b[0;32mfor\u001b[0m \u001b[0mr\u001b[0m \u001b[0;32min\u001b[0m \u001b[0mvcf_reader\u001b[0m\u001b[0;34m.\u001b[0m\u001b[0mfetch\u001b[0m\u001b[0;34m(\u001b[0m\u001b[0;34m'20'\u001b[0m\u001b[0;34m,\u001b[0m \u001b[0;36m1110695\u001b[0m\u001b[0;34m,\u001b[0m \u001b[0;36m1230237\u001b[0m\u001b[0;34m)\u001b[0m\u001b[0;34m:\u001b[0m\u001b[0;34m\u001b[0m\u001b[0m\n\u001b[0m\u001b[1;32m      2\u001b[0m     \u001b[0;32mprint\u001b[0m \u001b[0mr\u001b[0m\u001b[0;34m\u001b[0m\u001b[0m\n",
      "\u001b[0;32mcyvcf/parser.pyx\u001b[0m in \u001b[0;36mcyvcf.parser.Reader.fetch (cyvcf/parser.c:21902)\u001b[0;34m()\u001b[0m\n",
      "\u001b[0;31mException\u001b[0m: pysam not available, try \"pip install pysam\"?"
     ]
    }
   ],
   "source": [
    "for r in vcf_reader.fetch('20', 1110695, 1230237):\n",
    "    print r"
   ]
  },
  {
   "cell_type": "code",
   "execution_count": 61,
   "metadata": {
    "collapsed": false
   },
   "outputs": [
    {
     "name": "stdout",
     "output_type": "stream",
     "text": [
      "{'LowQual': Filter(id='LowQual', desc='Low quality'), 'VQSRTrancheINDEL95.00to96.00': Filter(id='VQSRTrancheINDEL95.00to96.00', desc='Truth sensitivity tranche level for INDEL model at VQS Lod: 0.9503 <= x < 1.2168'), 'VQSRTrancheINDEL99.95to100.00': Filter(id='VQSRTrancheINDEL99.95to100.00', desc='Truth sensitivity tranche level for INDEL model at VQS Lod: -37254.4742 <= x < -18.4482'), 'VQSRTrancheINDEL99.00to99.50': Filter(id='VQSRTrancheINDEL99.00to99.50', desc='Truth sensitivity tranche level for INDEL model at VQS Lod: -0.8363 <= x < 0.0426'), 'InbreedingCoeff_Filter': Filter(id='InbreedingCoeff_Filter', desc='InbreedingCoeff <= -0.2'), 'VQSRTrancheINDEL97.00to99.00': Filter(id='VQSRTrancheINDEL97.00to99.00', desc='Truth sensitivity tranche level for INDEL model at VQS Lod: 0.0426 <= x < 0.7622'), 'VQSRTrancheSNP99.80to99.90': Filter(id='VQSRTrancheSNP99.80to99.90', desc='Truth sensitivity tranche level for SNP model at VQS Lod: -31.4709 <= x < -4.9627'), 'VQSRTrancheSNP99.95to100.00': Filter(id='VQSRTrancheSNP99.95to100.00', desc='Truth sensitivity tranche level for SNP model at VQS Lod: -39645.8352 <= x < -170.3725'), 'VQSRTrancheINDEL99.95to100.00+': Filter(id='VQSRTrancheINDEL99.95to100.00+', desc='Truth sensitivity tranche level for INDEL model at VQS Lod < -37254.4742'), 'VQSRTrancheSNP99.60to99.80': Filter(id='VQSRTrancheSNP99.60to99.80', desc='Truth sensitivity tranche level for SNP model at VQS Lod: -4.9627 <= x < -1.8251'), 'VQSRTrancheINDEL99.50to99.90': Filter(id='VQSRTrancheINDEL99.50to99.90', desc='Truth sensitivity tranche level for INDEL model at VQS Lod: -8.5421 <= x < -0.8363'), 'VQSRTrancheINDEL99.90to99.95': Filter(id='VQSRTrancheINDEL99.90to99.95', desc='Truth sensitivity tranche level for INDEL model at VQS Lod: -18.4482 <= x < -8.5421'), 'VQSRTrancheSNP99.90to99.95': Filter(id='VQSRTrancheSNP99.90to99.95', desc='Truth sensitivity tranche level for SNP model at VQS Lod: -170.3725 <= x < -31.4709'), 'VQSRTrancheINDEL96.00to97.00': Filter(id='VQSRTrancheINDEL96.00to97.00', desc='Truth sensitivity tranche level for INDEL model at VQS Lod: 0.7622 <= x < 0.9503'), 'NewCut_Filter': Filter(id='NewCut_Filter', desc='VQSLOD > -2.632 && InbreedingCoeff >-0.8'), 'VQSRTrancheSNP99.95to100.00+': Filter(id='VQSRTrancheSNP99.95to100.00+', desc='Truth sensitivity tranche level for SNP model at VQS Lod < -39645.8352'), 'AC_Adj0_Filter': Filter(id='AC_Adj0_Filter', desc='AC_Adj == 0')}\n"
     ]
    }
   ],
   "source": [
    "print vcf_reader.filters"
   ]
  },
  {
   "cell_type": "code",
   "execution_count": null,
   "metadata": {
    "collapsed": true
   },
   "outputs": [],
   "source": []
  }
 ],
 "metadata": {
  "kernelspec": {
   "display_name": "Python 2",
   "language": "python",
   "name": "python2"
  },
  "language_info": {
   "codemirror_mode": {
    "name": "ipython",
    "version": 2
   },
   "file_extension": ".py",
   "mimetype": "text/x-python",
   "name": "python",
   "nbconvert_exporter": "python",
   "pygments_lexer": "ipython2",
   "version": "2.7.11"
  }
 },
 "nbformat": 4,
 "nbformat_minor": 0
}
