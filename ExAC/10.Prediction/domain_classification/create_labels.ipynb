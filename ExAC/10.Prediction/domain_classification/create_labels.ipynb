{
 "cells": [
  {
   "cell_type": "code",
   "execution_count": 1,
   "metadata": {},
   "outputs": [],
   "source": [
    "import pandas as pd\n",
    "import numpy as np\n",
    "import pickle\n",
    "from collections import defaultdict\n",
    "import os\n",
    "import sys\n",
    "\n",
    "#Helper functions to classify positives/negatives by position\n",
    "curr_dir = os.getcwd()\n",
    "sys.path.append(curr_dir+\"/../utils\")\n",
    "from prop_threshold_funcs import create_negatives_datasets_combined, create_positives_datasets_combined"
   ]
  },
  {
   "cell_type": "markdown",
   "metadata": {},
   "source": [
    "### Obtain position labels\n",
    "##### Domains in training set"
   ]
  },
  {
   "cell_type": "code",
   "execution_count": 2,
   "metadata": {
    "scrolled": true
   },
   "outputs": [],
   "source": [
    "#If pre-parsed file is not available, get labels from features table\n",
    "datafile_date = \"08.06.18\"\n",
    "if not os.path.exists(\"train_position_labels_\"+datafile_date+\".csv\"):\n",
    "    input_path = curr_dir+\"/../domains_similarity/filtered_features_table/\"\n",
    "    filename = \"windowed_positions_features_mediode_filter_\"+datafile_date+\".csv\"\n",
    "    features_all = pd.read_csv(input_path+filename, sep='\\t', index_col=0)\n",
    "    \n",
    "    #Remove feature columns and save labels\n",
    "    for col in features_all.columns:\n",
    "        if not \"prop_th\" in col and not \"propensity\" in col and not \"domain_length\" in col:\n",
    "            del features_all[col]\n",
    "            \n",
    "    features_all.to_csv(\"train_position_labels_\"+datafile_date+\".csv\", sep='\\t')\n",
    "    train_position_labels = features_all\n",
    "else:\n",
    "    train_position_labels = pd.read_csv(\"train_position_labels_\"+datafile_date+\".csv\", sep='\\t', index_col=0)"
   ]
  },
  {
   "cell_type": "markdown",
   "metadata": {},
   "source": [
    "### Obtain position labels\n",
    "##### Domains not in training set"
   ]
  },
  {
   "cell_type": "code",
   "execution_count": 3,
   "metadata": {},
   "outputs": [],
   "source": [
    "if not os.path.exists(\"not_train_position_labels.csv\"):\n",
    "    with open(curr_dir+\"/../../7.InteracDome_targetVariable/domains_ligands_propensity_dict.pik\", 'rb') as handle:\n",
    "         raw_labels = pickle.load(handle)\n",
    "\n",
    "    with open(curr_dir+\"/../../13.Process_domains_not_in_training/processed_domains_not_in_pipeline_final_list.pik\", 'rb') as handle:\n",
    "        not_train_list = pickle.load(handle)\n",
    "\n",
    "    not_train_position_labels = pd.DataFrame(columns=[\"domain_length\"])\n",
    "    for domain in not_train_list:\n",
    "        for ligand in raw_labels[domain]:\n",
    "            for state in raw_labels[domain][ligand][\"states_props\"]:\n",
    "                not_train_position_labels.loc[domain+\"_\"+str(state),\"domain_length\"] = len(raw_labels[domain][ligand][\"states_props\"])\n",
    "                not_train_position_labels.loc[domain+\"_\"+str(state),ligand+\"_prop_th_0.1\"] = raw_labels[domain][ligand][\"prop_th_0.1\"]\n",
    "                not_train_position_labels.loc[domain+\"_\"+str(state),ligand+\"_prop_th_0.25\"] = raw_labels[domain][ligand][\"prop_th_0.25\"]\n",
    "                not_train_position_labels.loc[domain+\"_\"+str(state),ligand+\"_prop_th_0.5\"] = raw_labels[domain][ligand][\"prop_th_0.5\"]\n",
    "                not_train_position_labels.loc[domain+\"_\"+str(state),ligand+\"_prop_th_0.75\"] = raw_labels[domain][ligand][\"prop_th_0.75\"]\n",
    "                not_train_position_labels.loc[domain+\"_\"+str(state),ligand+\"_propensity\"] = raw_labels[domain][ligand][\"states_props\"][state]\n",
    "    not_train_position_labels.to_csv(\"not_train_position_labels.csv\", sep='\\t')\n",
    "else:\n",
    "    not_train_position_labels = pd.read_csv(\"not_train_position_labels.csv\", sep='\\t', index_col=0)"
   ]
  },
  {
   "cell_type": "markdown",
   "metadata": {},
   "source": [
    "### Aggregate positives and negatives across domains"
   ]
  },
  {
   "cell_type": "code",
   "execution_count": 4,
   "metadata": {},
   "outputs": [],
   "source": [
    "def create_labels(position_labels):\n",
    "    #Flags for creating negatives\n",
    "    zero_prop = True\n",
    "    no_prop = True\n",
    "    all_ligands = False\n",
    "\n",
    "    ligands_negatives_df = create_negatives_datasets_combined(zero_prop, no_prop, position_labels, [], all_ligands)\n",
    "    ligands_positives_df = create_positives_datasets_combined(position_labels, [], all_ligands)\n",
    "\n",
    "    #Initialize dataframe\n",
    "    col_names=[\"length\"]\n",
    "    for ligand in ligands_negatives_df:\n",
    "        col_names.append(ligand+\"_number_neg\")\n",
    "        col_names.append(ligand+\"_number_pos\")\n",
    "        col_names.append(ligand+\"_max\")\n",
    "    domain_labels = pd.DataFrame(columns=col_names)\n",
    "\n",
    "    for pos,row in position_labels.iterrows():\n",
    "        #Extract domain name and check if already added\n",
    "        domain_name = \"_\".join(pos.split(\"_\")[:-1])\n",
    "        if not domain_name in domain_labels.index:\n",
    "            domain_labels.loc[domain_name] = np.zeros(len(domain_labels.columns))\n",
    "            domain_labels.loc[domain_name,\"length\"] = row[\"domain_length\"]\n",
    "\n",
    "        #Update counts\n",
    "        for ligand in ligands_negatives_df:\n",
    "            if pos in ligands_negatives_df[ligand].index:\n",
    "                domain_labels.loc[domain_name,ligand+\"_number_neg\"] += 1\n",
    "        for ligand in ligands_positives_df:\n",
    "            if pos in ligands_positives_df[ligand].index:\n",
    "                domain_labels.loc[domain_name,ligand+\"_number_pos\"] += 1\n",
    "\n",
    "        #Max labels\n",
    "        for ligand in ligands_negatives_df:\n",
    "            domain_labels.loc[domain_name,ligand+\"_max\"] = max(domain_labels.loc[domain_name,ligand+\"_max\"], row[ligand+\"_propensity\"])\n",
    "\n",
    "    # Add binary label and fractions pos/neg\n",
    "    for domain,row in domain_labels.iterrows():\n",
    "        for ligand in ligands_negatives_df:\n",
    "            if domain_labels.loc[domain,ligand+\"_number_pos\"] > 0:\n",
    "                domain_labels.loc[domain,ligand+\"_label\"] = 1\n",
    "            else:\n",
    "                domain_labels.loc[domain,ligand+\"_label\"] = 0\n",
    "            domain_labels.loc[domain,ligand+\"_frac_neg\"] = domain_labels.loc[domain,ligand+\"_number_neg\"] / domain_labels.loc[domain,\"length\"]\n",
    "            domain_labels.loc[domain,ligand+\"_frac_pos\"] = domain_labels.loc[domain,ligand+\"_number_pos\"] / domain_labels.loc[domain,\"length\"]\n",
    "\n",
    "    return domain_labels"
   ]
  },
  {
   "cell_type": "code",
   "execution_count": 5,
   "metadata": {
    "scrolled": true
   },
   "outputs": [
    {
     "name": "stdout",
     "output_type": "stream",
     "text": [
      "dna non-binding #:43886\n",
      "dnabase non-binding #:44418\n",
      "dnabackbone non-binding #:44021\n",
      "dna combined non binding #: 43884\n",
      "rna non-binding #:43727\n",
      "rnabase non-binding #:44154\n",
      "rnabackbone non-binding #:43944\n",
      "rna combined non binding #: 43720\n",
      "peptide non-binding #:41105\n",
      "ion non-binding #:39630\n",
      "metabolite non-binding #:39638\n",
      "druglike non-binding #:35018\n",
      "sm non-binding #:32697\n",
      "dna #: 369\n",
      "dnabase #: 161\n",
      "dnabackbone #: 245\n",
      "dna combined #: 397\n",
      "rna #: 206\n",
      "rnabase #: 118\n",
      "rnabackbone #: 136\n",
      "rna combined #: 247\n",
      "peptide #: 436\n",
      "ion #: 351\n",
      "metabolite #: 522\n",
      "druglike #: 763\n",
      "sm #: 825\n"
     ]
    },
    {
     "name": "stderr",
     "output_type": "stream",
     "text": [
      "/Users/davidandrewtodd/summer_research/ExAC/10.Prediction/domain_classification/../utils/prop_threshold_funcs.py:239: UserWarning: Boolean Series key will be reindexed to match DataFrame index.\n",
      "  ligands_positives_dna[ligand] = features_all[features_all[prop_th_str] != -1][features_all[score_col_str] >= features_all[prop_th_str]]\n",
      "/Users/davidandrewtodd/summer_research/ExAC/10.Prediction/domain_classification/../utils/prop_threshold_funcs.py:255: UserWarning: Boolean Series key will be reindexed to match DataFrame index.\n",
      "  ligands_positives_rna[ligand] = features_all[features_all[prop_th_str] != -1][features_all[score_col_str] >= features_all[prop_th_str]]\n",
      "/Users/davidandrewtodd/summer_research/ExAC/10.Prediction/domain_classification/../utils/prop_threshold_funcs.py:271: UserWarning: Boolean Series key will be reindexed to match DataFrame index.\n",
      "  ligand_binding_df = features_all[features_all[prop_th_str] != -1][features_all[score_col_str] >= features_all[prop_th_str]]\n"
     ]
    },
    {
     "name": "stdout",
     "output_type": "stream",
     "text": [
      "dna non-binding #:8865\n",
      "dnabase non-binding #:8144\n",
      "dnabackbone non-binding #:9026\n",
      "dna combined non binding #: 6528\n",
      "rna non-binding #:11714\n",
      "rnabase non-binding #:12318\n",
      "rnabackbone non-binding #:12243\n",
      "rna combined non binding #: 9908\n",
      "peptide non-binding #:14723\n",
      "ion non-binding #:71250\n",
      "metabolite non-binding #:60911\n",
      "druglike non-binding #:86749\n",
      "sm non-binding #:91887\n",
      "dna #: 572\n",
      "dnabase #: 185\n",
      "dnabackbone #: 448\n",
      "dna combined #: 632\n",
      "rna #: 2845\n",
      "rnabase #: 838\n",
      "rnabackbone #: 2520\n",
      "rna combined #: 2900\n",
      "peptide #: 516\n",
      "ion #: 611\n",
      "metabolite #: 1692\n",
      "druglike #: 3203\n",
      "sm #: 3366\n"
     ]
    }
   ],
   "source": [
    "train_domain_labels = create_labels(train_position_labels)\n",
    "train_domain_labels.to_csv(\"train_domain_labels_\"+datafile_date+\".csv\", sep='\\t')\n",
    "\n",
    "not_train_domain_labels = create_labels(not_train_position_labels)\n",
    "not_train_domain_labels.to_csv(\"not_train_domain_labels.csv\", sep='\\t')"
   ]
  }
 ],
 "metadata": {
  "kernelspec": {
   "display_name": "Python 2",
   "language": "python",
   "name": "python2"
  },
  "language_info": {
   "codemirror_mode": {
    "name": "ipython",
    "version": 2
   },
   "file_extension": ".py",
   "mimetype": "text/x-python",
   "name": "python",
   "nbconvert_exporter": "python",
   "pygments_lexer": "ipython2",
   "version": "2.7.13"
  }
 },
 "nbformat": 4,
 "nbformat_minor": 2
}
