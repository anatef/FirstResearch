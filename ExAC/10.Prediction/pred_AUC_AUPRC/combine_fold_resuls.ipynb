{
 "cells": [
  {
   "cell_type": "code",
   "execution_count": 19,
   "metadata": {},
   "outputs": [],
   "source": [
    "import pandas as pd\n",
    "import numpy as np\n",
    "import pickle\n",
    "from collections import defaultdict\n",
    "import subprocess"
   ]
  },
  {
   "cell_type": "code",
   "execution_count": 42,
   "metadata": {},
   "outputs": [],
   "source": [
    "curr_dir = !pwd\n",
    "input_path = curr_dir[0]+\"/mediode_NegLigand_NoFilter/NoDown/01.25.2018_domain_CV/per_fold/\"\n",
    "output_path = curr_dir[0]+\"/mediode_NegLigand_NoFilter/NoDown/01.25.2018_domain_CV/\"\n",
    "#ligands = [\"dna\", \"dnabase\", \"dnabackbone\", \"rna\", \"rnabase\", \"rnabackbone\", \"peptide\", \"ion\", \"metabolite\"]\n",
    "ligands = [\"dna\"]\n",
    "#classifiers = [\"RF\", \"SVM\", \"KNN\", \"ADA\", \"XGB\"]\n",
    "classifiers = [\"XGB\"]\n",
    "#versions = [\"10\",\"10w\",\"5\",\"5w\",\"3\",\"3w\"]\n",
    "version = \"10w\""
   ]
  },
  {
   "cell_type": "markdown",
   "metadata": {},
   "source": [
    "#### Copy relevant files from gen-comp1"
   ]
  },
  {
   "cell_type": "code",
   "execution_count": 27,
   "metadata": {},
   "outputs": [
    {
     "name": "stdout",
     "output_type": "stream",
     "text": [
      "dna_XGB_fold10_10w_auc.csv                    100%   25     0.0KB/s   00:00    \n",
      "dna_XGB_fold10_10w_auprc.csv                  100%   26     0.0KB/s   00:00    \n",
      "dna_XGB_fold1010w.csv                         100%  120KB 120.4KB/s   00:00    \n",
      "dna_XGB_fold1_10w_auc.csv                     100%   26     0.0KB/s   00:00    \n",
      "dna_XGB_fold1_10w_auprc.csv                   100%   26     0.0KB/s   00:00    \n",
      "dna_XGB_fold110w.csv                          100%  139KB 138.8KB/s   00:00    \n",
      "dna_XGB_fold2_10w_auc.csv                     100%   26     0.0KB/s   00:00    \n",
      "dna_XGB_fold2_10w_auprc.csv                   100%   28     0.0KB/s   00:00    \n",
      "dna_XGB_fold210w.csv                          100%  122KB 121.7KB/s   00:00    \n",
      "dna_XGB_fold3_10w_auc.csv                     100%   26     0.0KB/s   00:00    \n",
      "dna_XGB_fold3_10w_auprc.csv                   100%   27     0.0KB/s   00:00    \n",
      "dna_XGB_fold310w.csv                          100%  118KB 118.4KB/s   00:00    \n",
      "dna_XGB_fold4_10w_auc.csv                     100%   26     0.0KB/s   00:00    \n",
      "dna_XGB_fold4_10w_auprc.csv                   100%   26     0.0KB/s   00:00    \n",
      "dna_XGB_fold410w.csv                          100%  122KB 121.8KB/s   00:00    \n",
      "dna_XGB_fold5_10w_auc.csv                     100%   26     0.0KB/s   00:00    \n",
      "dna_XGB_fold5_10w_auprc.csv                   100%   27     0.0KB/s   00:00    \n",
      "dna_XGB_fold510w.csv                          100%  127KB 127.2KB/s   00:00    \n",
      "dna_XGB_fold6_10w_auc.csv                     100%   26     0.0KB/s   00:00    \n",
      "dna_XGB_fold6_10w_auprc.csv                   100%   27     0.0KB/s   00:00    \n",
      "dna_XGB_fold610w.csv                          100%  179KB 179.0KB/s   00:00    \n",
      "dna_XGB_fold7_10w_auc.csv                     100%   26     0.0KB/s   00:00    \n",
      "dna_XGB_fold7_10w_auprc.csv                   100%   27     0.0KB/s   00:00    \n",
      "dna_XGB_fold710w.csv                          100%  137KB 137.4KB/s   00:00    \n",
      "dna_XGB_fold8_10w_auc.csv                     100%   26     0.0KB/s   00:00    \n",
      "dna_XGB_fold8_10w_auprc.csv                   100%   26     0.0KB/s   00:00    \n",
      "dna_XGB_fold810w.csv                          100%  143KB 142.9KB/s   00:00    \n",
      "dna_XGB_fold9_10w_auc.csv                     100%   26     0.0KB/s   00:00    \n",
      "dna_XGB_fold9_10w_auprc.csv                   100%   27     0.0KB/s   00:00    \n",
      "dna_XGB_fold910w.csv                          100%  116KB 116.3KB/s   00:00    \n"
     ]
    }
   ],
   "source": [
    "!scp -r -p anatf@gen-comp1:/Genomics/grid/users/anatf/ExAC/10.Prediction/pred_AUC_AUPRC/mediode_NegLigand_NoFilter/NoDown/01.25.2018_domain_CV/per_fold/* /home/anat/Research/ExAC/10.Prediction/pred_AUC_AUPRC/mediode_NegLigand_NoFilter/NoDown/01.25.2018_domain_CV/per_fold/."
   ]
  },
  {
   "cell_type": "code",
   "execution_count": 48,
   "metadata": {},
   "outputs": [
    {
     "name": "stdout",
     "output_type": "stream",
     "text": [
      "dna XGB AUC avg:0.838831753004\n",
      "dna XGB AUPRC avg:0.292736240131\n",
      "Finished ligand dna\n"
     ]
    }
   ],
   "source": [
    "for ligand in ligands:\n",
    "    \n",
    "    #Combine AUC folds\n",
    "    for classifier in classifiers:\n",
    "        auc_df = pd.DataFrame()\n",
    "        auc_list = []\n",
    "        for fold in range(1,11):\n",
    "            auc_fold_filename = input_path+ligand+\"_\"+classifier+\"_fold\"+str(fold)+\"_\"+version+\"_auc.csv\"\n",
    "            curr_auc_df = pd.read_csv(auc_fold_filename, sep='\\t', index_col=0)\n",
    "            auc_list.append(float(curr_auc_df.iloc[0]))\n",
    "        auc_df[classifier] = auc_list\n",
    "        print ligand+\" \"+classifier+\" AUC avg:\"+str(np.mean(auc_list))\n",
    "    #Write AUC table to file\n",
    "    auc_df.to_csv(output_path+ligand+\"_\"+version+\"_auc.csv\", sep='\\t')\n",
    "    \n",
    "    #Combine AUPRC folds\n",
    "    for classifier in classifiers:\n",
    "        auprc_df = pd.DataFrame()\n",
    "        auprc_list = []\n",
    "        for fold in range(1,11):\n",
    "            auprc_fold_filename = input_path+ligand+\"_\"+classifier+\"_fold\"+str(fold)+\"_\"+version+\"_auprc.csv\"\n",
    "            curr_auprc_df = pd.read_csv(auprc_fold_filename, sep='\\t', index_col=0)\n",
    "            auprc_list.append(float(curr_auprc_df.iloc[0]))\n",
    "        auprc_df[classifier] = auprc_list\n",
    "        print ligand+\" \"+classifier+\" AUPRC avg:\"+str(np.mean(auprc_list))\n",
    "    #Write AUPRC table to file\n",
    "    auprc_df.to_csv(output_path+ligand+\"_\"+version+\"_auprc.csv\", sep='\\t')\n",
    "    \n",
    "    #Combining probs results files\n",
    "    probs_df = pd.DataFrame()\n",
    "    for classifier in classifiers:\n",
    "        for fold in range(1,11):\n",
    "            probs_filename = input_path+ligand+\"_\"+classifier+\"_fold\"+str(fold)+\"_\"+version+\".csv\"\n",
    "            curr_probs_df = pd.read_csv(probs_filename, sep='\\t', index_col=0)\n",
    "            if (len(probs_df.columns) == 0):\n",
    "                probs_df = curr_probs_df\n",
    "            else:\n",
    "                probs_df = probs_df.append(curr_probs_df, ignore_index=True)\n",
    "    #Write probs table to file \n",
    "    probs_df.to_csv(output_path+ligand+\"_\"+version+\".csv\", sep='\\t')\n",
    "\n",
    "print \"Finished ligand \"+ligand \n",
    "            \n",
    "        \n",
    "        "
   ]
  }
 ],
 "metadata": {
  "kernelspec": {
   "display_name": "Python 2",
   "language": "python",
   "name": "python2"
  },
  "language_info": {
   "codemirror_mode": {
    "name": "ipython",
    "version": 2
   },
   "file_extension": ".py",
   "mimetype": "text/x-python",
   "name": "python",
   "nbconvert_exporter": "python",
   "pygments_lexer": "ipython2",
   "version": "2.7.12"
  }
 },
 "nbformat": 4,
 "nbformat_minor": 2
}
