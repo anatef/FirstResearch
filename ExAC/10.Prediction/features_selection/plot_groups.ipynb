{
 "cells": [
  {
   "cell_type": "markdown",
   "metadata": {},
   "source": [
    "## Plot importances\n",
    "\n",
    "Plot the importances of the features used in classification\n",
    "\n",
    "### Files Needed:\n",
    "1. Positions features as a csv\n",
    "\n",
    "### Instructions:\n",
    "Run cells in order"
   ]
  },
  {
   "cell_type": "code",
   "execution_count": 1,
   "metadata": {},
   "outputs": [
    {
     "name": "stderr",
     "output_type": "stream",
     "text": [
      "//anaconda/envs/py27/lib/python2.7/site-packages/sklearn/cross_validation.py:41: DeprecationWarning: This module was deprecated in version 0.18 in favor of the model_selection module into which all the refactored classes and functions are moved. Also note that the interface of the new CV iterators are different from that of this module. This module will be removed in 0.20.\n",
      "  \"This module will be removed in 0.20.\", DeprecationWarning)\n"
     ]
    },
    {
     "data": {
      "text/html": [
       "<script>requirejs.config({paths: { 'plotly': ['https://cdn.plot.ly/plotly-latest.min']},});if(!window.Plotly) {{require(['plotly'],function(plotly) {window.Plotly=plotly;});}}</script>"
      ],
      "text/vnd.plotly.v1+html": [
       "<script>requirejs.config({paths: { 'plotly': ['https://cdn.plot.ly/plotly-latest.min']},});if(!window.Plotly) {{require(['plotly'],function(plotly) {window.Plotly=plotly;});}}</script>"
      ]
     },
     "metadata": {},
     "output_type": "display_data"
    },
    {
     "data": {
      "text/html": [
       "<style>.container { width:100% !important; }</style>"
      ],
      "text/plain": [
       "<IPython.core.display.HTML object>"
      ]
     },
     "execution_count": 1,
     "metadata": {},
     "output_type": "execute_result"
    }
   ],
   "source": [
    "%matplotlib inline\n",
    "import pandas as pd\n",
    "import numpy as np\n",
    "import pickle\n",
    "from collections import defaultdict\n",
    "import sys\n",
    "import os\n",
    "\n",
    "# Models\n",
    "from sklearn.neighbors import KNeighborsClassifier\n",
    "from sklearn.svm import SVC\n",
    "from xgboost import XGBClassifier\n",
    "from sklearn.linear_model import LogisticRegression\n",
    "from sklearn.ensemble import RandomForestClassifier, AdaBoostClassifier, ExtraTreesClassifier\n",
    "\n",
    "# CV Splitting\n",
    "import random as random\n",
    "from sklearn.model_selection import StratifiedKFold\n",
    "from sklearn.datasets import make_classification\n",
    "from sklearn.cross_validation import KFold\n",
    "from sklearn.preprocessing import scale\n",
    "\n",
    "# Evaluation\n",
    "from sklearn.metrics import roc_curve, auc, precision_recall_curve,average_precision_score\n",
    "from sklearn.metrics import mean_squared_error, r2_score\n",
    "from sklearn.feature_selection import VarianceThreshold\n",
    "from sklearn.feature_selection import SelectKBest\n",
    "\n",
    "# Plotting\n",
    "import matplotlib.pyplot as plt\n",
    "import plotly.offline as py\n",
    "py.init_notebook_mode(connected=True)\n",
    "import plotly.graph_objs as go\n",
    "import plotly.tools as tls\n",
    "\n",
    "# Downsamplers imports - prototype selection - controlled\n",
    "from imblearn.under_sampling import RandomUnderSampler\n",
    "\n",
    "#Import utils functions\n",
    "from utils import create_groups\n",
    "curr_dir = !pwd\n",
    "sys.path.append(curr_dir[0]+\"/utils\")\n",
    "from neg_pos_funcs import create_negatives_datasets, create_positives_datasets\n",
    "\n",
    "from IPython.core.display import HTML\n",
    "HTML(\"<style>.container { width:100% !important; }</style>\")"
   ]
  },
  {
   "cell_type": "markdown",
   "metadata": {},
   "source": [
    "### Reading the input dataset"
   ]
  },
  {
   "cell_type": "code",
   "execution_count": 2,
   "metadata": {
    "collapsed": true
   },
   "outputs": [],
   "source": [
    "curr_dir = !pwd\n",
    "input_path = curr_dir[0]+\"/../../10.Prediction/domains_similarity/filtered_features_table/\"\n",
    "filename = \"positions_features_mediode_filter_01.25.18.csv\"\n",
    "bind_scores_num = 10\n",
    "\n",
    "features_all = pd.read_csv(input_path+filename, sep='\\t', index_col=0)\n",
    "features_cols = features_all.columns[1:-bind_scores_num] #removing binding scores and domain name\n",
    "ligands = [\"dna\", \"dnabase\", \"dnabackbone\", \"rna\", \"rnabase\", \"rnabackbone\", \"peptide\", \"ion\", \"metabolite\"]\n",
    "\n",
    "classifiers = {}\n",
    "classifiers[\"Logistic\"] = LogisticRegression(C=0.001, random_state=0)\n",
    "classifiers[\"RF\"] = RandomForestClassifier(n_estimators=1000, n_jobs=-1, random_state=0)\n",
    "#classifiers[\"KNN\"] = KNeighborsClassifier(n_neighbors=100, n_jobs=-1)\n",
    "#classifiers[\"SVM\"] = SVC(kernel='rbf', probability=True, random_state=0)\n",
    "classifiers[\"ADA\"] = AdaBoostClassifier(n_estimators=1000, random_state=0)\n",
    "classifiers[\"XGB\"] = XGBClassifier(n_estimators=1000, n_jobs=-1, random_state=0, max_depth=6, min_child_weight=0.05, colsample_bytree=0.5)\n",
    "\n",
    "ABSOLUTE_NEGATIVES = True\n",
    "FILTER_DOMAIN = False\n",
    "FILTER_MAX_SCORE_ZERO = False"
   ]
  },
  {
   "cell_type": "markdown",
   "metadata": {},
   "source": [
    "### Datasets of negative examples"
   ]
  },
  {
   "cell_type": "code",
   "execution_count": 3,
   "metadata": {},
   "outputs": [
    {
     "name": "stdout",
     "output_type": "stream",
     "text": [
      "dna non-binding #:27191\n",
      "dnabase non-binding #:27191\n",
      "dnabackbone non-binding #:27191\n",
      "rna non-binding #:27191\n",
      "rnabase non-binding #:27191\n",
      "rnabackbone non-binding #:27191\n",
      "peptide non-binding #:27191\n",
      "ion non-binding #:27191\n",
      "metabolite non-binding #:27191\n",
      "all_ligands non-binding #:27191\n"
     ]
    }
   ],
   "source": [
    "ligands_negatives_df = create_negatives_datasets(FILTER_DOMAIN, ABSOLUTE_NEGATIVES, FILTER_MAX_SCORE_ZERO, features_all, features_cols)"
   ]
  },
  {
   "cell_type": "markdown",
   "metadata": {},
   "source": [
    "### Datasets of positive examples by ligand"
   ]
  },
  {
   "cell_type": "code",
   "execution_count": 4,
   "metadata": {},
   "outputs": [
    {
     "name": "stdout",
     "output_type": "stream",
     "text": [
      "dna #: 501\n",
      "dnabase #: 193\n",
      "dnabackbone #: 408\n",
      "rna #: 433\n",
      "rnabase #: 224\n",
      "rnabackbone #: 308\n",
      "peptide #: 1496\n",
      "ion #: 1093\n",
      "metabolite #: 1525\n"
     ]
    }
   ],
   "source": [
    "bind_th = 0.1\n",
    "ligands_features_df = create_positives_datasets(bind_th, features_all, features_cols)"
   ]
  },
  {
   "cell_type": "markdown",
   "metadata": {},
   "source": [
    "### Plot average feature importance for each group for each ligand"
   ]
  },
  {
   "cell_type": "code",
   "execution_count": 5,
   "metadata": {},
   "outputs": [
    {
     "name": "stdout",
     "output_type": "stream",
     "text": [
      "------- population --------\n",
      "\n",
      "avg_maf_all\n",
      "avg_maf_altered\n",
      "maf_hist_0-0.001\n",
      "maf_hist_0.001-0.005\n",
      "maf_hist_0.005-0.01\n",
      "maf_hist_0.01-0.02\n",
      "maf_hist_0.02-0.04\n",
      "maf_hist_0.04-0.06\n",
      "maf_hist_0.06-0.08\n",
      "maf_hist_0.08-0.1\n",
      "maf_hist_0.1-0.2\n",
      "maf_hist_0.2-0.5\n",
      "alter_num_aa\n",
      "alter_num_aa_norm\n",
      "alter_num_snp\n",
      "alter_num_snp_norm\n",
      "avg_aa_polymorphisms\n",
      "frac_poly_aa\n",
      "rare_poly_0.5\n",
      "rare_poly_0.05\n",
      "rare_poly_0.005\n",
      "\n",
      "------- conservation_genome --------\n",
      "\n",
      "phastCons1_avg\n",
      "phastCons2_avg\n",
      "phastCons3_avg\n",
      "phyloP1_avg\n",
      "phyloP2_avg\n",
      "phyloP3_avg\n",
      "phastCons1_hist_0.0-0.25\n",
      "phastCons1_hist_0.25-0.5\n",
      "phastCons1_hist_0.5-0.75\n",
      "phastCons1_hist_0.75-0.8\n",
      "phastCons1_hist_0.8-0.85\n",
      "phastCons1_hist_0.85-0.9\n",
      "phastCons1_hist_0.9-0.95\n",
      "phastCons1_hist_0.95-1.0\n",
      "phastCons2_hist_0.0-0.25\n",
      "phastCons2_hist_0.25-0.5\n",
      "phastCons2_hist_0.5-0.75\n",
      "phastCons2_hist_0.75-0.8\n",
      "phastCons2_hist_0.8-0.85\n",
      "phastCons2_hist_0.85-0.9\n",
      "phastCons2_hist_0.9-0.95\n",
      "phastCons2_hist_0.95-1.0\n",
      "phastCons3_hist_0.0-0.25\n",
      "phastCons3_hist_0.25-0.5\n",
      "phastCons3_hist_0.5-0.75\n",
      "phastCons3_hist_0.75-0.8\n",
      "phastCons3_hist_0.8-0.85\n",
      "phastCons3_hist_0.85-0.9\n",
      "phastCons3_hist_0.9-0.95\n",
      "phastCons3_hist_0.95-1.0\n",
      "phyloP1_hist_-14.0--1.0\n",
      "phyloP1_hist_-1.0-0.0\n",
      "phyloP1_hist_0.0-1.0\n",
      "phyloP1_hist_1.0-2.0\n",
      "phyloP1_hist_2.0-3.0\n",
      "phyloP1_hist_3.0-3.5\n",
      "phyloP1_hist_3.5-4.0\n",
      "phyloP1_hist_4.0-4.5\n",
      "phyloP1_hist_4.5-5.0\n",
      "phyloP1_hist_5.0-5.5\n",
      "phyloP1_hist_5.5-6.0\n",
      "phyloP2_hist_-14.0--1.0\n",
      "phyloP2_hist_-1.0-0.0\n",
      "phyloP2_hist_0.0-1.0\n",
      "phyloP2_hist_1.0-2.0\n",
      "phyloP2_hist_2.0-3.0\n",
      "phyloP2_hist_3.0-3.5\n",
      "phyloP2_hist_3.5-4.0\n",
      "phyloP2_hist_4.0-4.5\n",
      "phyloP2_hist_4.5-5.0\n",
      "phyloP2_hist_5.0-5.5\n",
      "phyloP2_hist_5.5-6.0\n",
      "phyloP3_hist_-14.0--1.0\n",
      "phyloP3_hist_-1.0-0.0\n",
      "phyloP3_hist_0.0-1.0\n",
      "phyloP3_hist_1.0-2.0\n",
      "phyloP3_hist_2.0-3.0\n",
      "phyloP3_hist_3.0-3.5\n",
      "phyloP3_hist_3.5-4.0\n",
      "phyloP3_hist_4.0-4.5\n",
      "phyloP3_hist_4.5-5.0\n",
      "phyloP3_hist_5.0-5.5\n",
      "phyloP3_hist_5.5-6.0\n",
      "phastCons_codons_hist_0.0-0.25\n",
      "phastCons_codons_hist_0.25-0.5\n",
      "phastCons_codons_hist_0.5-0.75\n",
      "phastCons_codons_hist_0.75-0.8\n",
      "phastCons_codons_hist_0.8-0.85\n",
      "phastCons_codons_hist_0.85-0.9\n",
      "phastCons_codons_hist_0.9-0.95\n",
      "phastCons_codons_hist_0.95-1.0\n",
      "phyloP_codons_hist_-14.0--1.0\n",
      "phyloP_codons_hist_-1.0-0.0\n",
      "phyloP_codons_hist_0.0-1.0\n",
      "phyloP_codons_hist_1.0-2.0\n",
      "phyloP_codons_hist_2.0-3.0\n",
      "phyloP_codons_hist_3.0-3.5\n",
      "phyloP_codons_hist_3.5-4.0\n",
      "phyloP_codons_hist_4.0-4.5\n",
      "phyloP_codons_hist_4.5-5.0\n",
      "phyloP_codons_hist_5.0-5.5\n",
      "phyloP_codons_hist_5.5-6.0\n",
      "\n",
      "------- sub_matrix --------\n",
      "\n",
      "blosum_avg\n",
      "blosum_avg_weighted\n",
      "blosum_positive_num\n",
      "blosum_negative_num\n",
      "blosum_ratio\n",
      "pam_avg\n",
      "pam_avg_weighted\n",
      "pam_positive_num\n",
      "pam_negative_num\n",
      "pam_ratio\n",
      "\n",
      "------- selection --------\n",
      "\n",
      "pseudo_nonsyn\n",
      "pseudo_syn\n",
      "pseudo_dNdS\n",
      "nonsyn_entropy\n",
      "instances_change_frac\n",
      "aa_ref_overlap\n",
      "aa_ref_SE\n",
      "aa_ref_jsd\n",
      "avg_jsd_100way_blosum\n",
      "med_jsd_100way_blosum\n",
      "instances_individuals_change_ratio\n",
      "aa_ref_overlap_individuals_change_ratio\n",
      "jsd_100way_instances_major_ratio\n",
      "jsd_100way_aa_not_used_ratio\n",
      "jsd_mul_aa_ref_SE\n",
      "jsd_SE_diff_ratio\n",
      "jsd_SE_sum\n",
      "SE_jsd_diff_ratio\n",
      "jsds_ratio\n",
      "jsds_subtraction\n",
      "\n",
      "------- pfam --------\n",
      "\n",
      "pfam_prob_max\n",
      "pfam_prob_A\n",
      "pfam_prob_C\n",
      "pfam_prob_D\n",
      "pfam_prob_E\n",
      "pfam_prob_F\n",
      "pfam_prob_G\n",
      "pfam_prob_H\n",
      "pfam_prob_I\n",
      "pfam_prob_K\n",
      "pfam_prob_L\n",
      "pfam_prob_M\n",
      "pfam_prob_N\n",
      "pfam_prob_P\n",
      "pfam_prob_Q\n",
      "pfam_prob_R\n",
      "pfam_prob_S\n",
      "pfam_prob_T\n",
      "pfam_prob_V\n",
      "pfam_prob_W\n",
      "pfam_prob_Y\n",
      "is_pfam_conserved\n",
      "\n",
      "------- sub_predictor --------\n",
      "\n",
      "sift_avg\n",
      "sift_deleterious_num\n",
      "sift_tolerated_num\n",
      "sift_ratio\n",
      "sift_majority\n",
      "polyphen_avg\n",
      "polyphen_benign_num\n",
      "polyphen_possibly_num\n",
      "polyphen_probably_num\n",
      "polyphen_majority\n",
      "avg_clinvar_score\n",
      "\n",
      "------- chemical_major_allele --------\n",
      "\n",
      "aa_ref_hist_A\n",
      "aa_ref_hist_C\n",
      "aa_ref_hist_D\n",
      "aa_ref_hist_E\n",
      "aa_ref_hist_F\n",
      "aa_ref_hist_G\n",
      "aa_ref_hist_H\n",
      "aa_ref_hist_I\n",
      "aa_ref_hist_K\n",
      "aa_ref_hist_L\n",
      "aa_ref_hist_M\n",
      "aa_ref_hist_N\n",
      "aa_ref_hist_P\n",
      "aa_ref_hist_Q\n",
      "aa_ref_hist_R\n",
      "aa_ref_hist_S\n",
      "aa_ref_hist_T\n",
      "aa_ref_hist_V\n",
      "aa_ref_hist_W\n",
      "aa_ref_hist_Y\n",
      "aa_ref_hist_*\n",
      "aa_ref_prob_A\n",
      "aa_ref_prob_C\n",
      "aa_ref_prob_D\n",
      "aa_ref_prob_E\n",
      "aa_ref_prob_F\n",
      "aa_ref_prob_G\n",
      "aa_ref_prob_H\n",
      "aa_ref_prob_I\n",
      "aa_ref_prob_K\n",
      "aa_ref_prob_L\n",
      "aa_ref_prob_M\n",
      "aa_ref_prob_N\n",
      "aa_ref_prob_P\n",
      "aa_ref_prob_Q\n",
      "aa_ref_prob_R\n",
      "aa_ref_prob_S\n",
      "aa_ref_prob_T\n",
      "aa_ref_prob_V\n",
      "aa_ref_prob_W\n",
      "aa_ref_prob_Y\n",
      "aa_ref_prob_*\n",
      "aa_ref_charge_positive_count\n",
      "aa_ref_charge_negative_count\n",
      "aa_ref_charge_neutral_count\n",
      "aa_ref_charge_majority\n",
      "hindex_avg\n",
      "hindex_pos_cnt\n",
      "hindex_neg_cnt\n",
      "vol_avg\n",
      "vol_tiny_cnt\n",
      "vol_small_cnt\n",
      "vol_big_cnt\n",
      "aa_ref_aa_functional_group.ALIPHATIC_count\n",
      "aa_ref_aa_functional_group.AROMATIC_count\n",
      "aa_ref_aa_functional_group.NEGATIVE_count\n",
      "aa_ref_aa_functional_group.POSITIVE_count\n",
      "aa_ref_aa_functional_group.POLAR_count\n",
      "aa_ref_alpha_prop_avg\n",
      "aa_ref_beta_prop_avg\n",
      "aa_ref_turn_prop_avg\n",
      "aa_ref_alpha_is_majority\n",
      "aa_ref_beta_is_majority\n",
      "aa_ref_turn_is_majority\n",
      "H_bond_donor_avg\n",
      "H_bond_acceptor_avg\n",
      "\n",
      "------- chemical_substitution --------\n",
      "\n",
      "aa_alt_cnt_hist_A\n",
      "aa_alt_cnt_hist_C\n",
      "aa_alt_cnt_hist_D\n",
      "aa_alt_cnt_hist_E\n",
      "aa_alt_cnt_hist_F\n",
      "aa_alt_cnt_hist_G\n",
      "aa_alt_cnt_hist_H\n",
      "aa_alt_cnt_hist_I\n",
      "aa_alt_cnt_hist_K\n",
      "aa_alt_cnt_hist_L\n",
      "aa_alt_cnt_hist_M\n",
      "aa_alt_cnt_hist_N\n",
      "aa_alt_cnt_hist_P\n",
      "aa_alt_cnt_hist_Q\n",
      "aa_alt_cnt_hist_R\n",
      "aa_alt_cnt_hist_S\n",
      "aa_alt_cnt_hist_T\n",
      "aa_alt_cnt_hist_V\n",
      "aa_alt_cnt_hist_W\n",
      "aa_alt_cnt_hist_Y\n",
      "aa_alt_cnt_hist_*\n",
      "aa_alt_cnt_prob_A\n",
      "aa_alt_cnt_prob_C\n",
      "aa_alt_cnt_prob_D\n",
      "aa_alt_cnt_prob_E\n",
      "aa_alt_cnt_prob_F\n",
      "aa_alt_cnt_prob_G\n",
      "aa_alt_cnt_prob_H\n",
      "aa_alt_cnt_prob_I\n",
      "aa_alt_cnt_prob_K\n",
      "aa_alt_cnt_prob_L\n",
      "aa_alt_cnt_prob_M\n",
      "aa_alt_cnt_prob_N\n",
      "aa_alt_cnt_prob_P\n",
      "aa_alt_cnt_prob_Q\n",
      "aa_alt_cnt_prob_R\n",
      "aa_alt_cnt_prob_S\n",
      "aa_alt_cnt_prob_T\n",
      "aa_alt_cnt_prob_V\n",
      "aa_alt_cnt_prob_W\n",
      "aa_alt_cnt_prob_Y\n",
      "aa_alt_cnt_prob_*\n",
      "aa_alt_avg_freq_hist_A\n",
      "aa_alt_avg_freq_hist_C\n",
      "aa_alt_avg_freq_hist_D\n",
      "aa_alt_avg_freq_hist_E\n",
      "aa_alt_avg_freq_hist_F\n",
      "aa_alt_avg_freq_hist_G\n",
      "aa_alt_avg_freq_hist_H\n",
      "aa_alt_avg_freq_hist_I\n",
      "aa_alt_avg_freq_hist_K\n",
      "aa_alt_avg_freq_hist_L\n",
      "aa_alt_avg_freq_hist_M\n",
      "aa_alt_avg_freq_hist_N\n",
      "aa_alt_avg_freq_hist_P\n",
      "aa_alt_avg_freq_hist_Q\n",
      "aa_alt_avg_freq_hist_R\n",
      "aa_alt_avg_freq_hist_S\n",
      "aa_alt_avg_freq_hist_T\n",
      "aa_alt_avg_freq_hist_V\n",
      "aa_alt_avg_freq_hist_W\n",
      "aa_alt_avg_freq_hist_Y\n",
      "aa_alt_avg_freq_hist_*\n",
      "aa_alt_avg_freq_prob_A\n",
      "aa_alt_avg_freq_prob_C\n",
      "aa_alt_avg_freq_prob_D\n",
      "aa_alt_avg_freq_prob_E\n",
      "aa_alt_avg_freq_prob_F\n",
      "aa_alt_avg_freq_prob_G\n",
      "aa_alt_avg_freq_prob_H\n",
      "aa_alt_avg_freq_prob_I\n",
      "aa_alt_avg_freq_prob_K\n",
      "aa_alt_avg_freq_prob_L\n",
      "aa_alt_avg_freq_prob_M\n",
      "aa_alt_avg_freq_prob_N\n",
      "aa_alt_avg_freq_prob_P\n",
      "aa_alt_avg_freq_prob_Q\n",
      "aa_alt_avg_freq_prob_R\n",
      "aa_alt_avg_freq_prob_S\n",
      "aa_alt_avg_freq_prob_T\n",
      "aa_alt_avg_freq_prob_V\n",
      "aa_alt_avg_freq_prob_W\n",
      "aa_alt_avg_freq_prob_Y\n",
      "aa_alt_avg_freq_prob_*\n",
      "sub_diff_hindex_avg\n",
      "sub_diff_vol_avg\n",
      "sub_func_group_stay_cnt\n",
      "sub_func_group_move_cnt\n",
      "sub_func_group_trans_0-0\n",
      "sub_func_group_trans_0-1\n",
      "sub_func_group_trans_0-2\n",
      "sub_func_group_trans_0-3\n",
      "sub_func_group_trans_0-4\n",
      "sub_func_group_trans_0-5\n",
      "sub_func_group_trans_1-0\n",
      "sub_func_group_trans_1-1\n",
      "sub_func_group_trans_1-2\n",
      "sub_func_group_trans_1-3\n",
      "sub_func_group_trans_1-4\n",
      "sub_func_group_trans_1-5\n",
      "sub_func_group_trans_2-0\n",
      "sub_func_group_trans_2-1\n",
      "sub_func_group_trans_2-2\n",
      "sub_func_group_trans_2-3\n",
      "sub_func_group_trans_2-4\n",
      "sub_func_group_trans_2-5\n",
      "sub_func_group_trans_3-0\n",
      "sub_func_group_trans_3-1\n",
      "sub_func_group_trans_3-2\n",
      "sub_func_group_trans_3-3\n",
      "sub_func_group_trans_3-4\n",
      "sub_func_group_trans_3-5\n",
      "sub_func_group_trans_4-0\n",
      "sub_func_group_trans_4-1\n",
      "sub_func_group_trans_4-2\n",
      "sub_func_group_trans_4-3\n",
      "sub_func_group_trans_4-4\n",
      "sub_func_group_trans_4-5\n",
      "sub_diff_prop_avg_alpha\n",
      "sub_diff_prop_avg_beta\n",
      "sub_diff_prop_avg_turn\n",
      "donor_diff_avg\n",
      "acceptor_diff_avg\n",
      "\n",
      "------- spider --------\n",
      "\n",
      "solvent_acc_avg\n",
      "solvent_acc_std\n",
      "hsa2_cn_avg\n",
      "hsa2_cn_std\n",
      "hsb2_cn_avg\n",
      "hsb2_cn_std\n",
      "backbone_Phi_angle_avg\n",
      "backbone_Phi_angle_std\n",
      "backbone_Psi_angle_avg\n",
      "backbone_Psi_angle_std\n",
      "c-alpha_tau_angle_avg\n",
      "c-alph_tau_angle_std\n",
      "c-alpha_theta_angle_avg\n",
      "c-alph_theta_angle_std\n",
      "helix_prob_avg\n",
      "helix_prob_std\n",
      "sheet_prob_avg\n",
      "sheet_prob_std\n",
      "turn_prob_avg\n",
      "turn_prob_std\n",
      "spd_helix_is_majority\n",
      "spd_sheet_is_majority\n",
      "spd_turn_is_majority\n",
      "hsa2_HSE-up_avg\n",
      "hsa2_HSE-up_std\n",
      "hsa2_HSE-down_avg\n",
      "hsa2_HSE-down_std\n",
      "hsb2_HSE-up_avg\n",
      "hsb2_HSE-up_std\n",
      "hsb2_HSE-down_avg\n",
      "hsb2_HSE-down_std\n",
      "\n",
      "------- whole_domain_conservation --------\n",
      "\n",
      "whole_domain_phastCons_avg\n",
      "whole_domain_phastCons_std\n",
      "whole_domain_phyloP_avg\n",
      "whole_domain_phyloP_std\n",
      "\n",
      "------- go_terms --------\n",
      "\n",
      "GO:NO_TERM\n",
      "GO:NUCLEIC_ACID_BINDING\n",
      "GO:PROTEIN_BINDING\n",
      "GO:METAL_ION_BINDING\n",
      "GO:MEMBRANE\n",
      "GO:INTRACELLULAR\n",
      "GO:SIGNAL_TRANSDUCTION\n",
      "\n"
     ]
    }
   ],
   "source": [
    "features_groups = create_groups(ligands_features_df)"
   ]
  },
  {
   "cell_type": "code",
   "execution_count": 6,
   "metadata": {
    "collapsed": true
   },
   "outputs": [],
   "source": [
    "# Build a forest and compute the feature importances\n",
    "def plot_feature_importances(classifier, groups_dict, ligand, positives, negatives):\n",
    "    group_names = sorted(groups_dict.keys())\n",
    "    \n",
    "    if classifier == \"Logistic\":\n",
    "        importance_attr = \"coef_\"\n",
    "    else:\n",
    "        importance_attr = \"feature_importances_\"\n",
    "        \n",
    "    if classifier == \"XGB\":\n",
    "        classifiers[classifier].set_params(scale_pos_weight = positives.shape[0]/float(negatives.shape[0]))\n",
    "\n",
    "    # Sample positives and negatives\n",
    "    X = pd.concat([positives, negatives])\n",
    "    y = [1] * positives.shape[0]\n",
    "    y.extend([0] * negatives.shape[0])\n",
    "    y = np.array(y)\n",
    "    X_sampled, y_sampled = RandomUnderSampler(random_state=0).fit_sample(X, y)\n",
    "    \n",
    "    # Fit model\n",
    "    model = classifiers[classifier]\n",
    "    model.fit(X_sampled, y_sampled)\n",
    "    importances = np.array(getattr(model, importance_attr)).flatten()\n",
    "\n",
    "    means = []\n",
    "    n_groups = []\n",
    "    for i in range(0,len(group_names)):\n",
    "        vals = importances[groups_dict[group_names[i]]]\n",
    "        means.append(np.mean(vals))\n",
    "        n_groups.append(len(vals))\n",
    "\n",
    "    # Format with plotly\n",
    "    trace = go.Scatter(\n",
    "        y = np.abs(means),\n",
    "        x = group_names,\n",
    "        mode='markers',\n",
    "        marker=dict(\n",
    "            sizemode = 'diameter',\n",
    "            sizeref = 1,\n",
    "            size = 25,\n",
    "            color = n_groups,\n",
    "            colorscale = 'Portland',\n",
    "            colorbar = go.ColorBar(\n",
    "                title = 'Number of Features'\n",
    "            ),\n",
    "            showscale = True\n",
    "        ),\n",
    "        text = group_names\n",
    "    )\n",
    "    data = [trace]\n",
    "\n",
    "    layout= go.Layout(\n",
    "        autosize = True,\n",
    "        title = classifier + \": \"+ ligand,\n",
    "        hovermode = 'closest',\n",
    "        yaxis = dict(\n",
    "            title = 'Feature Importance',\n",
    "            ticklen = 5,\n",
    "            gridwidth = 2\n",
    "        ),\n",
    "        showlegend = False\n",
    "    )\n",
    "    fig = go.Figure(data=data, layout=layout)\n",
    "    py.iplot(fig) #,filename='scatter2010')\n",
    "    return np.abs(means)"
   ]
  },
  {
   "cell_type": "code",
   "execution_count": 10,
   "metadata": {
    "scrolled": true
   },
   "outputs": [
    {
     "data": {
      "application/vnd.plotly.v1+json": {
       "data": [
        {
         "marker": {
          "color": [
           66,
           123,
           82,
           7,
           22,
           21,
           20,
           31,
           10,
           11,
           4
          ],
          "colorbar": {
           "title": "Number of Features"
          },
          "colorscale": "Portland",
          "showscale": true,
          "size": 25,
          "sizemode": "diameter",
          "sizeref": 1
         },
         "mode": "markers",
         "text": [
          "chemical_major_allele",
          "chemical_substitution",
          "conservation_genome",
          "go_terms",
          "pfam",
          "population",
          "selection",
          "spider",
          "sub_matrix",
          "sub_predictor",
          "whole_domain_conservation"
         ],
         "type": "scatter",
         "x": [
          "chemical_major_allele",
          "chemical_substitution",
          "conservation_genome",
          "go_terms",
          "pfam",
          "population",
          "selection",
          "spider",
          "sub_matrix",
          "sub_predictor",
          "whole_domain_conservation"
         ],
         "y": [
          0.0019628298420531327,
          0.0007521068673595424,
          0.0022539716968516432,
          0.0032464162194371627,
          0.0036224251620508717,
          0.0017684838038568322,
          0.00594724679161769,
          0.004834366263116557,
          0.001752985182456582,
          0.0024339644689245735,
          0.03511205716088971
         ]
        }
       ],
       "layout": {
        "autosize": true,
        "hovermode": "closest",
        "showlegend": false,
        "title": "RF: dna",
        "yaxis": {
         "gridwidth": 2,
         "ticklen": 5,
         "title": "Feature Importance"
        }
       }
      },
      "text/html": [
       "<div id=\"71253f5d-061c-4397-a983-a8110bb367e3\" style=\"height: 525px; width: 100%;\" class=\"plotly-graph-div\"></div><script type=\"text/javascript\">require([\"plotly\"], function(Plotly) { window.PLOTLYENV=window.PLOTLYENV || {};window.PLOTLYENV.BASE_URL=\"https://plot.ly\";Plotly.newPlot(\"71253f5d-061c-4397-a983-a8110bb367e3\", [{\"text\": [\"chemical_major_allele\", \"chemical_substitution\", \"conservation_genome\", \"go_terms\", \"pfam\", \"population\", \"selection\", \"spider\", \"sub_matrix\", \"sub_predictor\", \"whole_domain_conservation\"], \"marker\": {\"sizeref\": 1, \"colorscale\": \"Portland\", \"color\": [66, 123, 82, 7, 22, 21, 20, 31, 10, 11, 4], \"colorbar\": {\"title\": \"Number of Features\"}, \"sizemode\": \"diameter\", \"showscale\": true, \"size\": 25}, \"mode\": \"markers\", \"y\": [0.0019628298420531327, 0.0007521068673595424, 0.0022539716968516432, 0.0032464162194371627, 0.0036224251620508717, 0.0017684838038568322, 0.00594724679161769, 0.004834366263116557, 0.001752985182456582, 0.0024339644689245735, 0.03511205716088971], \"x\": [\"chemical_major_allele\", \"chemical_substitution\", \"conservation_genome\", \"go_terms\", \"pfam\", \"population\", \"selection\", \"spider\", \"sub_matrix\", \"sub_predictor\", \"whole_domain_conservation\"], \"type\": \"scatter\"}], {\"autosize\": true, \"title\": \"RF: dna\", \"showlegend\": false, \"hovermode\": \"closest\", \"yaxis\": {\"ticklen\": 5, \"gridwidth\": 2, \"title\": \"Feature Importance\"}}, {\"linkText\": \"Export to plot.ly\", \"showLink\": true})});</script>"
      ],
      "text/vnd.plotly.v1+html": [
       "<div id=\"71253f5d-061c-4397-a983-a8110bb367e3\" style=\"height: 525px; width: 100%;\" class=\"plotly-graph-div\"></div><script type=\"text/javascript\">require([\"plotly\"], function(Plotly) { window.PLOTLYENV=window.PLOTLYENV || {};window.PLOTLYENV.BASE_URL=\"https://plot.ly\";Plotly.newPlot(\"71253f5d-061c-4397-a983-a8110bb367e3\", [{\"text\": [\"chemical_major_allele\", \"chemical_substitution\", \"conservation_genome\", \"go_terms\", \"pfam\", \"population\", \"selection\", \"spider\", \"sub_matrix\", \"sub_predictor\", \"whole_domain_conservation\"], \"marker\": {\"sizeref\": 1, \"colorscale\": \"Portland\", \"color\": [66, 123, 82, 7, 22, 21, 20, 31, 10, 11, 4], \"colorbar\": {\"title\": \"Number of Features\"}, \"sizemode\": \"diameter\", \"showscale\": true, \"size\": 25}, \"mode\": \"markers\", \"y\": [0.0019628298420531327, 0.0007521068673595424, 0.0022539716968516432, 0.0032464162194371627, 0.0036224251620508717, 0.0017684838038568322, 0.00594724679161769, 0.004834366263116557, 0.001752985182456582, 0.0024339644689245735, 0.03511205716088971], \"x\": [\"chemical_major_allele\", \"chemical_substitution\", \"conservation_genome\", \"go_terms\", \"pfam\", \"population\", \"selection\", \"spider\", \"sub_matrix\", \"sub_predictor\", \"whole_domain_conservation\"], \"type\": \"scatter\"}], {\"autosize\": true, \"title\": \"RF: dna\", \"showlegend\": false, \"hovermode\": \"closest\", \"yaxis\": {\"ticklen\": 5, \"gridwidth\": 2, \"title\": \"Feature Importance\"}}, {\"linkText\": \"Export to plot.ly\", \"showLink\": true})});</script>"
      ]
     },
     "metadata": {},
     "output_type": "display_data"
    },
    {
     "data": {
      "application/vnd.plotly.v1+json": {
       "data": [
        {
         "marker": {
          "color": [
           66,
           123,
           82,
           7,
           22,
           21,
           20,
           31,
           10,
           11,
           4
          ],
          "colorbar": {
           "title": "Number of Features"
          },
          "colorscale": "Portland",
          "showscale": true,
          "size": 25,
          "sizemode": "diameter",
          "sizeref": 1
         },
         "mode": "markers",
         "text": [
          "chemical_major_allele",
          "chemical_substitution",
          "conservation_genome",
          "go_terms",
          "pfam",
          "population",
          "selection",
          "spider",
          "sub_matrix",
          "sub_predictor",
          "whole_domain_conservation"
         ],
         "type": "scatter",
         "x": [
          "chemical_major_allele",
          "chemical_substitution",
          "conservation_genome",
          "go_terms",
          "pfam",
          "population",
          "selection",
          "spider",
          "sub_matrix",
          "sub_predictor",
          "whole_domain_conservation"
         ],
         "y": [
          0.0018117899307981133,
          0.0007794201956130564,
          0.0013412603875622153,
          0.0024694998282939196,
          0.006437381729483604,
          0.0017633887473493814,
          0.004452462308108807,
          0.006376920733600855,
          0.002331297844648361,
          0.0027104762848466635,
          0.034691937267780304
         ]
        }
       ],
       "layout": {
        "autosize": true,
        "hovermode": "closest",
        "showlegend": false,
        "title": "XGB: dna",
        "yaxis": {
         "gridwidth": 2,
         "ticklen": 5,
         "title": "Feature Importance"
        }
       }
      },
      "text/html": [
       "<div id=\"3475b51d-9f79-4aba-ba5d-a6fb0706c6e7\" style=\"height: 525px; width: 100%;\" class=\"plotly-graph-div\"></div><script type=\"text/javascript\">require([\"plotly\"], function(Plotly) { window.PLOTLYENV=window.PLOTLYENV || {};window.PLOTLYENV.BASE_URL=\"https://plot.ly\";Plotly.newPlot(\"3475b51d-9f79-4aba-ba5d-a6fb0706c6e7\", [{\"text\": [\"chemical_major_allele\", \"chemical_substitution\", \"conservation_genome\", \"go_terms\", \"pfam\", \"population\", \"selection\", \"spider\", \"sub_matrix\", \"sub_predictor\", \"whole_domain_conservation\"], \"marker\": {\"sizeref\": 1, \"colorscale\": \"Portland\", \"color\": [66, 123, 82, 7, 22, 21, 20, 31, 10, 11, 4], \"colorbar\": {\"title\": \"Number of Features\"}, \"sizemode\": \"diameter\", \"showscale\": true, \"size\": 25}, \"mode\": \"markers\", \"y\": [0.0018117899307981133, 0.0007794201956130564, 0.0013412603875622153, 0.0024694998282939196, 0.006437381729483604, 0.0017633887473493814, 0.004452462308108807, 0.006376920733600855, 0.002331297844648361, 0.0027104762848466635, 0.034691937267780304], \"x\": [\"chemical_major_allele\", \"chemical_substitution\", \"conservation_genome\", \"go_terms\", \"pfam\", \"population\", \"selection\", \"spider\", \"sub_matrix\", \"sub_predictor\", \"whole_domain_conservation\"], \"type\": \"scatter\"}], {\"autosize\": true, \"title\": \"XGB: dna\", \"showlegend\": false, \"hovermode\": \"closest\", \"yaxis\": {\"ticklen\": 5, \"gridwidth\": 2, \"title\": \"Feature Importance\"}}, {\"linkText\": \"Export to plot.ly\", \"showLink\": true})});</script>"
      ],
      "text/vnd.plotly.v1+html": [
       "<div id=\"3475b51d-9f79-4aba-ba5d-a6fb0706c6e7\" style=\"height: 525px; width: 100%;\" class=\"plotly-graph-div\"></div><script type=\"text/javascript\">require([\"plotly\"], function(Plotly) { window.PLOTLYENV=window.PLOTLYENV || {};window.PLOTLYENV.BASE_URL=\"https://plot.ly\";Plotly.newPlot(\"3475b51d-9f79-4aba-ba5d-a6fb0706c6e7\", [{\"text\": [\"chemical_major_allele\", \"chemical_substitution\", \"conservation_genome\", \"go_terms\", \"pfam\", \"population\", \"selection\", \"spider\", \"sub_matrix\", \"sub_predictor\", \"whole_domain_conservation\"], \"marker\": {\"sizeref\": 1, \"colorscale\": \"Portland\", \"color\": [66, 123, 82, 7, 22, 21, 20, 31, 10, 11, 4], \"colorbar\": {\"title\": \"Number of Features\"}, \"sizemode\": \"diameter\", \"showscale\": true, \"size\": 25}, \"mode\": \"markers\", \"y\": [0.0018117899307981133, 0.0007794201956130564, 0.0013412603875622153, 0.0024694998282939196, 0.006437381729483604, 0.0017633887473493814, 0.004452462308108807, 0.006376920733600855, 0.002331297844648361, 0.0027104762848466635, 0.034691937267780304], \"x\": [\"chemical_major_allele\", \"chemical_substitution\", \"conservation_genome\", \"go_terms\", \"pfam\", \"population\", \"selection\", \"spider\", \"sub_matrix\", \"sub_predictor\", \"whole_domain_conservation\"], \"type\": \"scatter\"}], {\"autosize\": true, \"title\": \"XGB: dna\", \"showlegend\": false, \"hovermode\": \"closest\", \"yaxis\": {\"ticklen\": 5, \"gridwidth\": 2, \"title\": \"Feature Importance\"}}, {\"linkText\": \"Export to plot.ly\", \"showLink\": true})});</script>"
      ]
     },
     "metadata": {},
     "output_type": "display_data"
    },
    {
     "data": {
      "application/vnd.plotly.v1+json": {
       "data": [
        {
         "marker": {
          "color": [
           66,
           123,
           82,
           7,
           22,
           21,
           20,
           31,
           10,
           11,
           4
          ],
          "colorbar": {
           "title": "Number of Features"
          },
          "colorscale": "Portland",
          "showscale": true,
          "size": 25,
          "sizemode": "diameter",
          "sizeref": 1
         },
         "mode": "markers",
         "text": [
          "chemical_major_allele",
          "chemical_substitution",
          "conservation_genome",
          "go_terms",
          "pfam",
          "population",
          "selection",
          "spider",
          "sub_matrix",
          "sub_predictor",
          "whole_domain_conservation"
         ],
         "type": "scatter",
         "x": [
          "chemical_major_allele",
          "chemical_substitution",
          "conservation_genome",
          "go_terms",
          "pfam",
          "population",
          "selection",
          "spider",
          "sub_matrix",
          "sub_predictor",
          "whole_domain_conservation"
         ],
         "y": [
          1.273890405791876e-05,
          1.2893484816810965e-06,
          1.7198745712205832e-05,
          1.609202190075273e-07,
          9.068557408524833e-08,
          1.521030076692907e-06,
          1.7161527491642743e-05,
          2.404077163554778e-05,
          1.9568738578162287e-06,
          2.4795618255576855e-06,
          3.4795280989733674e-06
         ]
        }
       ],
       "layout": {
        "autosize": true,
        "hovermode": "closest",
        "showlegend": false,
        "title": "Logistic: dna",
        "yaxis": {
         "gridwidth": 2,
         "ticklen": 5,
         "title": "Feature Importance"
        }
       }
      },
      "text/html": [
       "<div id=\"41e30006-0722-4f47-953e-bcf2783153fe\" style=\"height: 525px; width: 100%;\" class=\"plotly-graph-div\"></div><script type=\"text/javascript\">require([\"plotly\"], function(Plotly) { window.PLOTLYENV=window.PLOTLYENV || {};window.PLOTLYENV.BASE_URL=\"https://plot.ly\";Plotly.newPlot(\"41e30006-0722-4f47-953e-bcf2783153fe\", [{\"text\": [\"chemical_major_allele\", \"chemical_substitution\", \"conservation_genome\", \"go_terms\", \"pfam\", \"population\", \"selection\", \"spider\", \"sub_matrix\", \"sub_predictor\", \"whole_domain_conservation\"], \"marker\": {\"sizeref\": 1, \"colorscale\": \"Portland\", \"color\": [66, 123, 82, 7, 22, 21, 20, 31, 10, 11, 4], \"colorbar\": {\"title\": \"Number of Features\"}, \"sizemode\": \"diameter\", \"showscale\": true, \"size\": 25}, \"mode\": \"markers\", \"y\": [1.273890405791876e-05, 1.2893484816810965e-06, 1.7198745712205832e-05, 1.609202190075273e-07, 9.068557408524833e-08, 1.521030076692907e-06, 1.7161527491642743e-05, 2.404077163554778e-05, 1.9568738578162287e-06, 2.4795618255576855e-06, 3.4795280989733674e-06], \"x\": [\"chemical_major_allele\", \"chemical_substitution\", \"conservation_genome\", \"go_terms\", \"pfam\", \"population\", \"selection\", \"spider\", \"sub_matrix\", \"sub_predictor\", \"whole_domain_conservation\"], \"type\": \"scatter\"}], {\"autosize\": true, \"title\": \"Logistic: dna\", \"showlegend\": false, \"hovermode\": \"closest\", \"yaxis\": {\"ticklen\": 5, \"gridwidth\": 2, \"title\": \"Feature Importance\"}}, {\"linkText\": \"Export to plot.ly\", \"showLink\": true})});</script>"
      ],
      "text/vnd.plotly.v1+html": [
       "<div id=\"41e30006-0722-4f47-953e-bcf2783153fe\" style=\"height: 525px; width: 100%;\" class=\"plotly-graph-div\"></div><script type=\"text/javascript\">require([\"plotly\"], function(Plotly) { window.PLOTLYENV=window.PLOTLYENV || {};window.PLOTLYENV.BASE_URL=\"https://plot.ly\";Plotly.newPlot(\"41e30006-0722-4f47-953e-bcf2783153fe\", [{\"text\": [\"chemical_major_allele\", \"chemical_substitution\", \"conservation_genome\", \"go_terms\", \"pfam\", \"population\", \"selection\", \"spider\", \"sub_matrix\", \"sub_predictor\", \"whole_domain_conservation\"], \"marker\": {\"sizeref\": 1, \"colorscale\": \"Portland\", \"color\": [66, 123, 82, 7, 22, 21, 20, 31, 10, 11, 4], \"colorbar\": {\"title\": \"Number of Features\"}, \"sizemode\": \"diameter\", \"showscale\": true, \"size\": 25}, \"mode\": \"markers\", \"y\": [1.273890405791876e-05, 1.2893484816810965e-06, 1.7198745712205832e-05, 1.609202190075273e-07, 9.068557408524833e-08, 1.521030076692907e-06, 1.7161527491642743e-05, 2.404077163554778e-05, 1.9568738578162287e-06, 2.4795618255576855e-06, 3.4795280989733674e-06], \"x\": [\"chemical_major_allele\", \"chemical_substitution\", \"conservation_genome\", \"go_terms\", \"pfam\", \"population\", \"selection\", \"spider\", \"sub_matrix\", \"sub_predictor\", \"whole_domain_conservation\"], \"type\": \"scatter\"}], {\"autosize\": true, \"title\": \"Logistic: dna\", \"showlegend\": false, \"hovermode\": \"closest\", \"yaxis\": {\"ticklen\": 5, \"gridwidth\": 2, \"title\": \"Feature Importance\"}}, {\"linkText\": \"Export to plot.ly\", \"showLink\": true})});</script>"
      ]
     },
     "metadata": {},
     "output_type": "display_data"
    },
    {
     "data": {
      "application/vnd.plotly.v1+json": {
       "data": [
        {
         "marker": {
          "color": [
           66,
           123,
           82,
           7,
           22,
           21,
           20,
           31,
           10,
           11,
           4
          ],
          "colorbar": {
           "title": "Number of Features"
          },
          "colorscale": "Portland",
          "showscale": true,
          "size": 25,
          "sizemode": "diameter",
          "sizeref": 1
         },
         "mode": "markers",
         "text": [
          "chemical_major_allele",
          "chemical_substitution",
          "conservation_genome",
          "go_terms",
          "pfam",
          "population",
          "selection",
          "spider",
          "sub_matrix",
          "sub_predictor",
          "whole_domain_conservation"
         ],
         "type": "scatter",
         "x": [
          "chemical_major_allele",
          "chemical_substitution",
          "conservation_genome",
          "go_terms",
          "pfam",
          "population",
          "selection",
          "spider",
          "sub_matrix",
          "sub_predictor",
          "whole_domain_conservation"
         ],
         "y": [
          0.0017121212121212123,
          0.0007479674796747968,
          0.0016463414634146343,
          0.003142857142857143,
          0.006590909090909092,
          0.0006190476190476191,
          0.0029000000000000007,
          0.004967741935483872,
          0.0031,
          0.0029090909090909093,
          0.05125
         ]
        }
       ],
       "layout": {
        "autosize": true,
        "hovermode": "closest",
        "showlegend": false,
        "title": "ADA: dna",
        "yaxis": {
         "gridwidth": 2,
         "ticklen": 5,
         "title": "Feature Importance"
        }
       }
      },
      "text/html": [
       "<div id=\"5dd9e8dd-0c9e-4f10-aae1-d3194f823658\" style=\"height: 525px; width: 100%;\" class=\"plotly-graph-div\"></div><script type=\"text/javascript\">require([\"plotly\"], function(Plotly) { window.PLOTLYENV=window.PLOTLYENV || {};window.PLOTLYENV.BASE_URL=\"https://plot.ly\";Plotly.newPlot(\"5dd9e8dd-0c9e-4f10-aae1-d3194f823658\", [{\"text\": [\"chemical_major_allele\", \"chemical_substitution\", \"conservation_genome\", \"go_terms\", \"pfam\", \"population\", \"selection\", \"spider\", \"sub_matrix\", \"sub_predictor\", \"whole_domain_conservation\"], \"marker\": {\"sizeref\": 1, \"colorscale\": \"Portland\", \"color\": [66, 123, 82, 7, 22, 21, 20, 31, 10, 11, 4], \"colorbar\": {\"title\": \"Number of Features\"}, \"sizemode\": \"diameter\", \"showscale\": true, \"size\": 25}, \"mode\": \"markers\", \"y\": [0.0017121212121212123, 0.0007479674796747968, 0.0016463414634146343, 0.003142857142857143, 0.006590909090909092, 0.0006190476190476191, 0.0029000000000000007, 0.004967741935483872, 0.0031, 0.0029090909090909093, 0.05125], \"x\": [\"chemical_major_allele\", \"chemical_substitution\", \"conservation_genome\", \"go_terms\", \"pfam\", \"population\", \"selection\", \"spider\", \"sub_matrix\", \"sub_predictor\", \"whole_domain_conservation\"], \"type\": \"scatter\"}], {\"autosize\": true, \"title\": \"ADA: dna\", \"showlegend\": false, \"hovermode\": \"closest\", \"yaxis\": {\"ticklen\": 5, \"gridwidth\": 2, \"title\": \"Feature Importance\"}}, {\"linkText\": \"Export to plot.ly\", \"showLink\": true})});</script>"
      ],
      "text/vnd.plotly.v1+html": [
       "<div id=\"5dd9e8dd-0c9e-4f10-aae1-d3194f823658\" style=\"height: 525px; width: 100%;\" class=\"plotly-graph-div\"></div><script type=\"text/javascript\">require([\"plotly\"], function(Plotly) { window.PLOTLYENV=window.PLOTLYENV || {};window.PLOTLYENV.BASE_URL=\"https://plot.ly\";Plotly.newPlot(\"5dd9e8dd-0c9e-4f10-aae1-d3194f823658\", [{\"text\": [\"chemical_major_allele\", \"chemical_substitution\", \"conservation_genome\", \"go_terms\", \"pfam\", \"population\", \"selection\", \"spider\", \"sub_matrix\", \"sub_predictor\", \"whole_domain_conservation\"], \"marker\": {\"sizeref\": 1, \"colorscale\": \"Portland\", \"color\": [66, 123, 82, 7, 22, 21, 20, 31, 10, 11, 4], \"colorbar\": {\"title\": \"Number of Features\"}, \"sizemode\": \"diameter\", \"showscale\": true, \"size\": 25}, \"mode\": \"markers\", \"y\": [0.0017121212121212123, 0.0007479674796747968, 0.0016463414634146343, 0.003142857142857143, 0.006590909090909092, 0.0006190476190476191, 0.0029000000000000007, 0.004967741935483872, 0.0031, 0.0029090909090909093, 0.05125], \"x\": [\"chemical_major_allele\", \"chemical_substitution\", \"conservation_genome\", \"go_terms\", \"pfam\", \"population\", \"selection\", \"spider\", \"sub_matrix\", \"sub_predictor\", \"whole_domain_conservation\"], \"type\": \"scatter\"}], {\"autosize\": true, \"title\": \"ADA: dna\", \"showlegend\": false, \"hovermode\": \"closest\", \"yaxis\": {\"ticklen\": 5, \"gridwidth\": 2, \"title\": \"Feature Importance\"}}, {\"linkText\": \"Export to plot.ly\", \"showLink\": true})});</script>"
      ]
     },
     "metadata": {},
     "output_type": "display_data"
    },
    {
     "data": {
      "application/vnd.plotly.v1+json": {
       "data": [
        {
         "marker": {
          "color": [
           66,
           123,
           82,
           7,
           22,
           21,
           20,
           31,
           10,
           11,
           4
          ],
          "colorbar": {
           "title": "Number of Features"
          },
          "colorscale": "Portland",
          "showscale": true
         },
         "text": [
          "chemical_major_allele",
          "chemical_substitution",
          "conservation_genome",
          "go_terms",
          "pfam",
          "population",
          "selection",
          "spider",
          "sub_matrix",
          "sub_predictor",
          "whole_domain_conservation"
         ],
         "type": "bar",
         "width": 0.5,
         "x": [
          "chemical_major_allele",
          "chemical_substitution",
          "conservation_genome",
          "go_terms",
          "pfam",
          "population",
          "selection",
          "spider",
          "sub_matrix",
          "sub_predictor",
          "whole_domain_conservation"
         ],
         "y": [
          0.0018289136616574861,
          0.0007598315142157986,
          0.0017471911826094976,
          0.002952924396862742,
          0.005550238660814523,
          0.0013836400567512775,
          0.004433236366575499,
          0.005393009644067095,
          0.002394761009034981,
          0.0026845105542873822,
          0.040351331476223336
         ]
        }
       ],
       "layout": {
        "autosize": true,
        "hovermode": "closest",
        "showlegend": false,
        "title": "Avg: dna",
        "yaxis": {
         "gridwidth": 2,
         "ticklen": 5,
         "title": "Average Feature Importances"
        }
       }
      },
      "text/html": [
       "<div id=\"dab708f2-17bc-4712-9606-6905ec089588\" style=\"height: 525px; width: 100%;\" class=\"plotly-graph-div\"></div><script type=\"text/javascript\">require([\"plotly\"], function(Plotly) { window.PLOTLYENV=window.PLOTLYENV || {};window.PLOTLYENV.BASE_URL=\"https://plot.ly\";Plotly.newPlot(\"dab708f2-17bc-4712-9606-6905ec089588\", [{\"y\": [0.0018289136616574861, 0.0007598315142157986, 0.0017471911826094976, 0.002952924396862742, 0.005550238660814523, 0.0013836400567512775, 0.004433236366575499, 0.005393009644067095, 0.002394761009034981, 0.0026845105542873822, 0.040351331476223336], \"text\": [\"chemical_major_allele\", \"chemical_substitution\", \"conservation_genome\", \"go_terms\", \"pfam\", \"population\", \"selection\", \"spider\", \"sub_matrix\", \"sub_predictor\", \"whole_domain_conservation\"], \"width\": 0.5, \"marker\": {\"colorbar\": {\"title\": \"Number of Features\"}, \"color\": [66, 123, 82, 7, 22, 21, 20, 31, 10, 11, 4], \"showscale\": true, \"colorscale\": \"Portland\"}, \"x\": [\"chemical_major_allele\", \"chemical_substitution\", \"conservation_genome\", \"go_terms\", \"pfam\", \"population\", \"selection\", \"spider\", \"sub_matrix\", \"sub_predictor\", \"whole_domain_conservation\"], \"type\": \"bar\"}], {\"autosize\": true, \"title\": \"Avg: dna\", \"showlegend\": false, \"hovermode\": \"closest\", \"yaxis\": {\"ticklen\": 5, \"gridwidth\": 2, \"title\": \"Average Feature Importances\"}}, {\"linkText\": \"Export to plot.ly\", \"showLink\": true})});</script>"
      ],
      "text/vnd.plotly.v1+html": [
       "<div id=\"dab708f2-17bc-4712-9606-6905ec089588\" style=\"height: 525px; width: 100%;\" class=\"plotly-graph-div\"></div><script type=\"text/javascript\">require([\"plotly\"], function(Plotly) { window.PLOTLYENV=window.PLOTLYENV || {};window.PLOTLYENV.BASE_URL=\"https://plot.ly\";Plotly.newPlot(\"dab708f2-17bc-4712-9606-6905ec089588\", [{\"y\": [0.0018289136616574861, 0.0007598315142157986, 0.0017471911826094976, 0.002952924396862742, 0.005550238660814523, 0.0013836400567512775, 0.004433236366575499, 0.005393009644067095, 0.002394761009034981, 0.0026845105542873822, 0.040351331476223336], \"text\": [\"chemical_major_allele\", \"chemical_substitution\", \"conservation_genome\", \"go_terms\", \"pfam\", \"population\", \"selection\", \"spider\", \"sub_matrix\", \"sub_predictor\", \"whole_domain_conservation\"], \"width\": 0.5, \"marker\": {\"colorbar\": {\"title\": \"Number of Features\"}, \"color\": [66, 123, 82, 7, 22, 21, 20, 31, 10, 11, 4], \"showscale\": true, \"colorscale\": \"Portland\"}, \"x\": [\"chemical_major_allele\", \"chemical_substitution\", \"conservation_genome\", \"go_terms\", \"pfam\", \"population\", \"selection\", \"spider\", \"sub_matrix\", \"sub_predictor\", \"whole_domain_conservation\"], \"type\": \"bar\"}], {\"autosize\": true, \"title\": \"Avg: dna\", \"showlegend\": false, \"hovermode\": \"closest\", \"yaxis\": {\"ticklen\": 5, \"gridwidth\": 2, \"title\": \"Average Feature Importances\"}}, {\"linkText\": \"Export to plot.ly\", \"showLink\": true})});</script>"
      ]
     },
     "metadata": {},
     "output_type": "display_data"
    },
    {
     "data": {
      "application/vnd.plotly.v1+json": {
       "data": [
        {
         "marker": {
          "color": [
           66,
           123,
           82,
           7,
           22,
           21,
           20,
           31,
           10,
           11,
           4
          ],
          "colorbar": {
           "title": "Number of Features"
          },
          "colorscale": "Portland",
          "showscale": true,
          "size": 25,
          "sizemode": "diameter",
          "sizeref": 1
         },
         "mode": "markers",
         "text": [
          "chemical_major_allele",
          "chemical_substitution",
          "conservation_genome",
          "go_terms",
          "pfam",
          "population",
          "selection",
          "spider",
          "sub_matrix",
          "sub_predictor",
          "whole_domain_conservation"
         ],
         "type": "scatter",
         "x": [
          "chemical_major_allele",
          "chemical_substitution",
          "conservation_genome",
          "go_terms",
          "pfam",
          "population",
          "selection",
          "spider",
          "sub_matrix",
          "sub_predictor",
          "whole_domain_conservation"
         ],
         "y": [
          0.0019621997154676577,
          0.0008259470559472383,
          0.0020871866584162824,
          0.0033791057709312193,
          0.003686002916893531,
          0.0022321413040438717,
          0.00695146127254468,
          0.004629965620083617,
          0.001959296333589919,
          0.0017352340601508502,
          0.031223638820836848
         ]
        }
       ],
       "layout": {
        "autosize": true,
        "hovermode": "closest",
        "showlegend": false,
        "title": "RF: dnabase",
        "yaxis": {
         "gridwidth": 2,
         "ticklen": 5,
         "title": "Feature Importance"
        }
       }
      },
      "text/html": [
       "<div id=\"1faa4eed-8f20-4303-8614-e4fe50afeda6\" style=\"height: 525px; width: 100%;\" class=\"plotly-graph-div\"></div><script type=\"text/javascript\">require([\"plotly\"], function(Plotly) { window.PLOTLYENV=window.PLOTLYENV || {};window.PLOTLYENV.BASE_URL=\"https://plot.ly\";Plotly.newPlot(\"1faa4eed-8f20-4303-8614-e4fe50afeda6\", [{\"text\": [\"chemical_major_allele\", \"chemical_substitution\", \"conservation_genome\", \"go_terms\", \"pfam\", \"population\", \"selection\", \"spider\", \"sub_matrix\", \"sub_predictor\", \"whole_domain_conservation\"], \"marker\": {\"sizeref\": 1, \"colorscale\": \"Portland\", \"color\": [66, 123, 82, 7, 22, 21, 20, 31, 10, 11, 4], \"colorbar\": {\"title\": \"Number of Features\"}, \"sizemode\": \"diameter\", \"showscale\": true, \"size\": 25}, \"mode\": \"markers\", \"y\": [0.0019621997154676577, 0.0008259470559472383, 0.0020871866584162824, 0.0033791057709312193, 0.003686002916893531, 0.0022321413040438717, 0.00695146127254468, 0.004629965620083617, 0.001959296333589919, 0.0017352340601508502, 0.031223638820836848], \"x\": [\"chemical_major_allele\", \"chemical_substitution\", \"conservation_genome\", \"go_terms\", \"pfam\", \"population\", \"selection\", \"spider\", \"sub_matrix\", \"sub_predictor\", \"whole_domain_conservation\"], \"type\": \"scatter\"}], {\"autosize\": true, \"title\": \"RF: dnabase\", \"showlegend\": false, \"hovermode\": \"closest\", \"yaxis\": {\"ticklen\": 5, \"gridwidth\": 2, \"title\": \"Feature Importance\"}}, {\"linkText\": \"Export to plot.ly\", \"showLink\": true})});</script>"
      ],
      "text/vnd.plotly.v1+html": [
       "<div id=\"1faa4eed-8f20-4303-8614-e4fe50afeda6\" style=\"height: 525px; width: 100%;\" class=\"plotly-graph-div\"></div><script type=\"text/javascript\">require([\"plotly\"], function(Plotly) { window.PLOTLYENV=window.PLOTLYENV || {};window.PLOTLYENV.BASE_URL=\"https://plot.ly\";Plotly.newPlot(\"1faa4eed-8f20-4303-8614-e4fe50afeda6\", [{\"text\": [\"chemical_major_allele\", \"chemical_substitution\", \"conservation_genome\", \"go_terms\", \"pfam\", \"population\", \"selection\", \"spider\", \"sub_matrix\", \"sub_predictor\", \"whole_domain_conservation\"], \"marker\": {\"sizeref\": 1, \"colorscale\": \"Portland\", \"color\": [66, 123, 82, 7, 22, 21, 20, 31, 10, 11, 4], \"colorbar\": {\"title\": \"Number of Features\"}, \"sizemode\": \"diameter\", \"showscale\": true, \"size\": 25}, \"mode\": \"markers\", \"y\": [0.0019621997154676577, 0.0008259470559472383, 0.0020871866584162824, 0.0033791057709312193, 0.003686002916893531, 0.0022321413040438717, 0.00695146127254468, 0.004629965620083617, 0.001959296333589919, 0.0017352340601508502, 0.031223638820836848], \"x\": [\"chemical_major_allele\", \"chemical_substitution\", \"conservation_genome\", \"go_terms\", \"pfam\", \"population\", \"selection\", \"spider\", \"sub_matrix\", \"sub_predictor\", \"whole_domain_conservation\"], \"type\": \"scatter\"}], {\"autosize\": true, \"title\": \"RF: dnabase\", \"showlegend\": false, \"hovermode\": \"closest\", \"yaxis\": {\"ticklen\": 5, \"gridwidth\": 2, \"title\": \"Feature Importance\"}}, {\"linkText\": \"Export to plot.ly\", \"showLink\": true})});</script>"
      ]
     },
     "metadata": {},
     "output_type": "display_data"
    },
    {
     "data": {
      "application/vnd.plotly.v1+json": {
       "data": [
        {
         "marker": {
          "color": [
           66,
           123,
           82,
           7,
           22,
           21,
           20,
           31,
           10,
           11,
           4
          ],
          "colorbar": {
           "title": "Number of Features"
          },
          "colorscale": "Portland",
          "showscale": true,
          "size": 25,
          "sizemode": "diameter",
          "sizeref": 1
         },
         "mode": "markers",
         "text": [
          "chemical_major_allele",
          "chemical_substitution",
          "conservation_genome",
          "go_terms",
          "pfam",
          "population",
          "selection",
          "spider",
          "sub_matrix",
          "sub_predictor",
          "whole_domain_conservation"
         ],
         "type": "scatter",
         "x": [
          "chemical_major_allele",
          "chemical_substitution",
          "conservation_genome",
          "go_terms",
          "pfam",
          "population",
          "selection",
          "spider",
          "sub_matrix",
          "sub_predictor",
          "whole_domain_conservation"
         ],
         "y": [
          0.0021539151202887297,
          0.0005926313460804522,
          0.0011640973389148712,
          0.0007888924446888268,
          0.006232250016182661,
          0.0019158812938258052,
          0.004315241239964962,
          0.007100030779838562,
          0.0029031240846961737,
          0.003385065356269479,
          0.03348848223686218
         ]
        }
       ],
       "layout": {
        "autosize": true,
        "hovermode": "closest",
        "showlegend": false,
        "title": "XGB: dnabase",
        "yaxis": {
         "gridwidth": 2,
         "ticklen": 5,
         "title": "Feature Importance"
        }
       }
      },
      "text/html": [
       "<div id=\"90e7d3b5-f819-4a7e-a8d4-c1f392ffa86d\" style=\"height: 525px; width: 100%;\" class=\"plotly-graph-div\"></div><script type=\"text/javascript\">require([\"plotly\"], function(Plotly) { window.PLOTLYENV=window.PLOTLYENV || {};window.PLOTLYENV.BASE_URL=\"https://plot.ly\";Plotly.newPlot(\"90e7d3b5-f819-4a7e-a8d4-c1f392ffa86d\", [{\"text\": [\"chemical_major_allele\", \"chemical_substitution\", \"conservation_genome\", \"go_terms\", \"pfam\", \"population\", \"selection\", \"spider\", \"sub_matrix\", \"sub_predictor\", \"whole_domain_conservation\"], \"marker\": {\"sizeref\": 1, \"colorscale\": \"Portland\", \"color\": [66, 123, 82, 7, 22, 21, 20, 31, 10, 11, 4], \"colorbar\": {\"title\": \"Number of Features\"}, \"sizemode\": \"diameter\", \"showscale\": true, \"size\": 25}, \"mode\": \"markers\", \"y\": [0.0021539151202887297, 0.0005926313460804522, 0.0011640973389148712, 0.0007888924446888268, 0.006232250016182661, 0.0019158812938258052, 0.004315241239964962, 0.007100030779838562, 0.0029031240846961737, 0.003385065356269479, 0.03348848223686218], \"x\": [\"chemical_major_allele\", \"chemical_substitution\", \"conservation_genome\", \"go_terms\", \"pfam\", \"population\", \"selection\", \"spider\", \"sub_matrix\", \"sub_predictor\", \"whole_domain_conservation\"], \"type\": \"scatter\"}], {\"autosize\": true, \"title\": \"XGB: dnabase\", \"showlegend\": false, \"hovermode\": \"closest\", \"yaxis\": {\"ticklen\": 5, \"gridwidth\": 2, \"title\": \"Feature Importance\"}}, {\"linkText\": \"Export to plot.ly\", \"showLink\": true})});</script>"
      ],
      "text/vnd.plotly.v1+html": [
       "<div id=\"90e7d3b5-f819-4a7e-a8d4-c1f392ffa86d\" style=\"height: 525px; width: 100%;\" class=\"plotly-graph-div\"></div><script type=\"text/javascript\">require([\"plotly\"], function(Plotly) { window.PLOTLYENV=window.PLOTLYENV || {};window.PLOTLYENV.BASE_URL=\"https://plot.ly\";Plotly.newPlot(\"90e7d3b5-f819-4a7e-a8d4-c1f392ffa86d\", [{\"text\": [\"chemical_major_allele\", \"chemical_substitution\", \"conservation_genome\", \"go_terms\", \"pfam\", \"population\", \"selection\", \"spider\", \"sub_matrix\", \"sub_predictor\", \"whole_domain_conservation\"], \"marker\": {\"sizeref\": 1, \"colorscale\": \"Portland\", \"color\": [66, 123, 82, 7, 22, 21, 20, 31, 10, 11, 4], \"colorbar\": {\"title\": \"Number of Features\"}, \"sizemode\": \"diameter\", \"showscale\": true, \"size\": 25}, \"mode\": \"markers\", \"y\": [0.0021539151202887297, 0.0005926313460804522, 0.0011640973389148712, 0.0007888924446888268, 0.006232250016182661, 0.0019158812938258052, 0.004315241239964962, 0.007100030779838562, 0.0029031240846961737, 0.003385065356269479, 0.03348848223686218], \"x\": [\"chemical_major_allele\", \"chemical_substitution\", \"conservation_genome\", \"go_terms\", \"pfam\", \"population\", \"selection\", \"spider\", \"sub_matrix\", \"sub_predictor\", \"whole_domain_conservation\"], \"type\": \"scatter\"}], {\"autosize\": true, \"title\": \"XGB: dnabase\", \"showlegend\": false, \"hovermode\": \"closest\", \"yaxis\": {\"ticklen\": 5, \"gridwidth\": 2, \"title\": \"Feature Importance\"}}, {\"linkText\": \"Export to plot.ly\", \"showLink\": true})});</script>"
      ]
     },
     "metadata": {},
     "output_type": "display_data"
    },
    {
     "data": {
      "application/vnd.plotly.v1+json": {
       "data": [
        {
         "marker": {
          "color": [
           66,
           123,
           82,
           7,
           22,
           21,
           20,
           31,
           10,
           11,
           4
          ],
          "colorbar": {
           "title": "Number of Features"
          },
          "colorscale": "Portland",
          "showscale": true,
          "size": 25,
          "sizemode": "diameter",
          "sizeref": 1
         },
         "mode": "markers",
         "text": [
          "chemical_major_allele",
          "chemical_substitution",
          "conservation_genome",
          "go_terms",
          "pfam",
          "population",
          "selection",
          "spider",
          "sub_matrix",
          "sub_predictor",
          "whole_domain_conservation"
         ],
         "type": "scatter",
         "x": [
          "chemical_major_allele",
          "chemical_substitution",
          "conservation_genome",
          "go_terms",
          "pfam",
          "population",
          "selection",
          "spider",
          "sub_matrix",
          "sub_predictor",
          "whole_domain_conservation"
         ],
         "y": [
          6.770166649207318e-06,
          3.595277578417894e-07,
          1.1235161720671258e-05,
          1.7992523522521523e-07,
          8.21402613984232e-08,
          1.364238374012426e-06,
          1.1342359133638222e-05,
          1.5502806609126386e-05,
          2.33443191632516e-06,
          2.401588307474629e-06,
          3.4751064394157417e-06
         ]
        }
       ],
       "layout": {
        "autosize": true,
        "hovermode": "closest",
        "showlegend": false,
        "title": "Logistic: dnabase",
        "yaxis": {
         "gridwidth": 2,
         "ticklen": 5,
         "title": "Feature Importance"
        }
       }
      },
      "text/html": [
       "<div id=\"9d52ca8d-c165-43b2-963b-cecbcc530c8e\" style=\"height: 525px; width: 100%;\" class=\"plotly-graph-div\"></div><script type=\"text/javascript\">require([\"plotly\"], function(Plotly) { window.PLOTLYENV=window.PLOTLYENV || {};window.PLOTLYENV.BASE_URL=\"https://plot.ly\";Plotly.newPlot(\"9d52ca8d-c165-43b2-963b-cecbcc530c8e\", [{\"text\": [\"chemical_major_allele\", \"chemical_substitution\", \"conservation_genome\", \"go_terms\", \"pfam\", \"population\", \"selection\", \"spider\", \"sub_matrix\", \"sub_predictor\", \"whole_domain_conservation\"], \"marker\": {\"sizeref\": 1, \"colorscale\": \"Portland\", \"color\": [66, 123, 82, 7, 22, 21, 20, 31, 10, 11, 4], \"colorbar\": {\"title\": \"Number of Features\"}, \"sizemode\": \"diameter\", \"showscale\": true, \"size\": 25}, \"mode\": \"markers\", \"y\": [6.770166649207318e-06, 3.595277578417894e-07, 1.1235161720671258e-05, 1.7992523522521523e-07, 8.21402613984232e-08, 1.364238374012426e-06, 1.1342359133638222e-05, 1.5502806609126386e-05, 2.33443191632516e-06, 2.401588307474629e-06, 3.4751064394157417e-06], \"x\": [\"chemical_major_allele\", \"chemical_substitution\", \"conservation_genome\", \"go_terms\", \"pfam\", \"population\", \"selection\", \"spider\", \"sub_matrix\", \"sub_predictor\", \"whole_domain_conservation\"], \"type\": \"scatter\"}], {\"autosize\": true, \"title\": \"Logistic: dnabase\", \"showlegend\": false, \"hovermode\": \"closest\", \"yaxis\": {\"ticklen\": 5, \"gridwidth\": 2, \"title\": \"Feature Importance\"}}, {\"linkText\": \"Export to plot.ly\", \"showLink\": true})});</script>"
      ],
      "text/vnd.plotly.v1+html": [
       "<div id=\"9d52ca8d-c165-43b2-963b-cecbcc530c8e\" style=\"height: 525px; width: 100%;\" class=\"plotly-graph-div\"></div><script type=\"text/javascript\">require([\"plotly\"], function(Plotly) { window.PLOTLYENV=window.PLOTLYENV || {};window.PLOTLYENV.BASE_URL=\"https://plot.ly\";Plotly.newPlot(\"9d52ca8d-c165-43b2-963b-cecbcc530c8e\", [{\"text\": [\"chemical_major_allele\", \"chemical_substitution\", \"conservation_genome\", \"go_terms\", \"pfam\", \"population\", \"selection\", \"spider\", \"sub_matrix\", \"sub_predictor\", \"whole_domain_conservation\"], \"marker\": {\"sizeref\": 1, \"colorscale\": \"Portland\", \"color\": [66, 123, 82, 7, 22, 21, 20, 31, 10, 11, 4], \"colorbar\": {\"title\": \"Number of Features\"}, \"sizemode\": \"diameter\", \"showscale\": true, \"size\": 25}, \"mode\": \"markers\", \"y\": [6.770166649207318e-06, 3.595277578417894e-07, 1.1235161720671258e-05, 1.7992523522521523e-07, 8.21402613984232e-08, 1.364238374012426e-06, 1.1342359133638222e-05, 1.5502806609126386e-05, 2.33443191632516e-06, 2.401588307474629e-06, 3.4751064394157417e-06], \"x\": [\"chemical_major_allele\", \"chemical_substitution\", \"conservation_genome\", \"go_terms\", \"pfam\", \"population\", \"selection\", \"spider\", \"sub_matrix\", \"sub_predictor\", \"whole_domain_conservation\"], \"type\": \"scatter\"}], {\"autosize\": true, \"title\": \"Logistic: dnabase\", \"showlegend\": false, \"hovermode\": \"closest\", \"yaxis\": {\"ticklen\": 5, \"gridwidth\": 2, \"title\": \"Feature Importance\"}}, {\"linkText\": \"Export to plot.ly\", \"showLink\": true})});</script>"
      ]
     },
     "metadata": {},
     "output_type": "display_data"
    },
    {
     "data": {
      "application/vnd.plotly.v1+json": {
       "data": [
        {
         "marker": {
          "color": [
           66,
           123,
           82,
           7,
           22,
           21,
           20,
           31,
           10,
           11,
           4
          ],
          "colorbar": {
           "title": "Number of Features"
          },
          "colorscale": "Portland",
          "showscale": true,
          "size": 25,
          "sizemode": "diameter",
          "sizeref": 1
         },
         "mode": "markers",
         "text": [
          "chemical_major_allele",
          "chemical_substitution",
          "conservation_genome",
          "go_terms",
          "pfam",
          "population",
          "selection",
          "spider",
          "sub_matrix",
          "sub_predictor",
          "whole_domain_conservation"
         ],
         "type": "scatter",
         "x": [
          "chemical_major_allele",
          "chemical_substitution",
          "conservation_genome",
          "go_terms",
          "pfam",
          "population",
          "selection",
          "spider",
          "sub_matrix",
          "sub_predictor",
          "whole_domain_conservation"
         ],
         "y": [
          0.002106060606060606,
          0.0009512195121951221,
          0.001329268292682927,
          0.0012857142857142859,
          0.005363636363636364,
          0.0015238095238095239,
          0.0039000000000000007,
          0.005483870967741937,
          0.0020000000000000005,
          0.002,
          0.0465
         ]
        }
       ],
       "layout": {
        "autosize": true,
        "hovermode": "closest",
        "showlegend": false,
        "title": "ADA: dnabase",
        "yaxis": {
         "gridwidth": 2,
         "ticklen": 5,
         "title": "Feature Importance"
        }
       }
      },
      "text/html": [
       "<div id=\"439cb118-7a4c-4c07-b54c-a8922bc02c0d\" style=\"height: 525px; width: 100%;\" class=\"plotly-graph-div\"></div><script type=\"text/javascript\">require([\"plotly\"], function(Plotly) { window.PLOTLYENV=window.PLOTLYENV || {};window.PLOTLYENV.BASE_URL=\"https://plot.ly\";Plotly.newPlot(\"439cb118-7a4c-4c07-b54c-a8922bc02c0d\", [{\"text\": [\"chemical_major_allele\", \"chemical_substitution\", \"conservation_genome\", \"go_terms\", \"pfam\", \"population\", \"selection\", \"spider\", \"sub_matrix\", \"sub_predictor\", \"whole_domain_conservation\"], \"marker\": {\"sizeref\": 1, \"colorscale\": \"Portland\", \"color\": [66, 123, 82, 7, 22, 21, 20, 31, 10, 11, 4], \"colorbar\": {\"title\": \"Number of Features\"}, \"sizemode\": \"diameter\", \"showscale\": true, \"size\": 25}, \"mode\": \"markers\", \"y\": [0.002106060606060606, 0.0009512195121951221, 0.001329268292682927, 0.0012857142857142859, 0.005363636363636364, 0.0015238095238095239, 0.0039000000000000007, 0.005483870967741937, 0.0020000000000000005, 0.002, 0.0465], \"x\": [\"chemical_major_allele\", \"chemical_substitution\", \"conservation_genome\", \"go_terms\", \"pfam\", \"population\", \"selection\", \"spider\", \"sub_matrix\", \"sub_predictor\", \"whole_domain_conservation\"], \"type\": \"scatter\"}], {\"autosize\": true, \"title\": \"ADA: dnabase\", \"showlegend\": false, \"hovermode\": \"closest\", \"yaxis\": {\"ticklen\": 5, \"gridwidth\": 2, \"title\": \"Feature Importance\"}}, {\"linkText\": \"Export to plot.ly\", \"showLink\": true})});</script>"
      ],
      "text/vnd.plotly.v1+html": [
       "<div id=\"439cb118-7a4c-4c07-b54c-a8922bc02c0d\" style=\"height: 525px; width: 100%;\" class=\"plotly-graph-div\"></div><script type=\"text/javascript\">require([\"plotly\"], function(Plotly) { window.PLOTLYENV=window.PLOTLYENV || {};window.PLOTLYENV.BASE_URL=\"https://plot.ly\";Plotly.newPlot(\"439cb118-7a4c-4c07-b54c-a8922bc02c0d\", [{\"text\": [\"chemical_major_allele\", \"chemical_substitution\", \"conservation_genome\", \"go_terms\", \"pfam\", \"population\", \"selection\", \"spider\", \"sub_matrix\", \"sub_predictor\", \"whole_domain_conservation\"], \"marker\": {\"sizeref\": 1, \"colorscale\": \"Portland\", \"color\": [66, 123, 82, 7, 22, 21, 20, 31, 10, 11, 4], \"colorbar\": {\"title\": \"Number of Features\"}, \"sizemode\": \"diameter\", \"showscale\": true, \"size\": 25}, \"mode\": \"markers\", \"y\": [0.002106060606060606, 0.0009512195121951221, 0.001329268292682927, 0.0012857142857142859, 0.005363636363636364, 0.0015238095238095239, 0.0039000000000000007, 0.005483870967741937, 0.0020000000000000005, 0.002, 0.0465], \"x\": [\"chemical_major_allele\", \"chemical_substitution\", \"conservation_genome\", \"go_terms\", \"pfam\", \"population\", \"selection\", \"spider\", \"sub_matrix\", \"sub_predictor\", \"whole_domain_conservation\"], \"type\": \"scatter\"}], {\"autosize\": true, \"title\": \"ADA: dnabase\", \"showlegend\": false, \"hovermode\": \"closest\", \"yaxis\": {\"ticklen\": 5, \"gridwidth\": 2, \"title\": \"Feature Importance\"}}, {\"linkText\": \"Export to plot.ly\", \"showLink\": true})});</script>"
      ]
     },
     "metadata": {},
     "output_type": "display_data"
    },
    {
     "data": {
      "application/vnd.plotly.v1+json": {
       "data": [
        {
         "marker": {
          "color": [
           66,
           123,
           82,
           7,
           22,
           21,
           20,
           31,
           10,
           11,
           4
          ],
          "colorbar": {
           "title": "Number of Features"
          },
          "colorscale": "Portland",
          "showscale": true
         },
         "text": [
          "chemical_major_allele",
          "chemical_substitution",
          "conservation_genome",
          "go_terms",
          "pfam",
          "population",
          "selection",
          "spider",
          "sub_matrix",
          "sub_predictor",
          "whole_domain_conservation"
         ],
         "type": "bar",
         "width": 0.5,
         "x": [
          "chemical_major_allele",
          "chemical_substitution",
          "conservation_genome",
          "go_terms",
          "pfam",
          "population",
          "selection",
          "spider",
          "sub_matrix",
          "sub_predictor",
          "whole_domain_conservation"
         ],
         "y": [
          0.0020740584806056644,
          0.000789932638074271,
          0.0015268507633380269,
          0.001817904167111444,
          0.005093963098904185,
          0.0018906107072264,
          0.005055567504169881,
          0.005737955789221372,
          0.002287473472762031,
          0.0023734331388067763,
          0.037070707019233005
         ]
        }
       ],
       "layout": {
        "autosize": true,
        "hovermode": "closest",
        "showlegend": false,
        "title": "Avg: dnabase",
        "yaxis": {
         "gridwidth": 2,
         "ticklen": 5,
         "title": "Average Feature Importances"
        }
       }
      },
      "text/html": [
       "<div id=\"a0f57800-1bf4-4ba7-b58b-1a397eaf3c5f\" style=\"height: 525px; width: 100%;\" class=\"plotly-graph-div\"></div><script type=\"text/javascript\">require([\"plotly\"], function(Plotly) { window.PLOTLYENV=window.PLOTLYENV || {};window.PLOTLYENV.BASE_URL=\"https://plot.ly\";Plotly.newPlot(\"a0f57800-1bf4-4ba7-b58b-1a397eaf3c5f\", [{\"y\": [0.0020740584806056644, 0.000789932638074271, 0.0015268507633380269, 0.001817904167111444, 0.005093963098904185, 0.0018906107072264, 0.005055567504169881, 0.005737955789221372, 0.002287473472762031, 0.0023734331388067763, 0.037070707019233005], \"text\": [\"chemical_major_allele\", \"chemical_substitution\", \"conservation_genome\", \"go_terms\", \"pfam\", \"population\", \"selection\", \"spider\", \"sub_matrix\", \"sub_predictor\", \"whole_domain_conservation\"], \"width\": 0.5, \"marker\": {\"colorbar\": {\"title\": \"Number of Features\"}, \"color\": [66, 123, 82, 7, 22, 21, 20, 31, 10, 11, 4], \"showscale\": true, \"colorscale\": \"Portland\"}, \"x\": [\"chemical_major_allele\", \"chemical_substitution\", \"conservation_genome\", \"go_terms\", \"pfam\", \"population\", \"selection\", \"spider\", \"sub_matrix\", \"sub_predictor\", \"whole_domain_conservation\"], \"type\": \"bar\"}], {\"autosize\": true, \"title\": \"Avg: dnabase\", \"showlegend\": false, \"hovermode\": \"closest\", \"yaxis\": {\"ticklen\": 5, \"gridwidth\": 2, \"title\": \"Average Feature Importances\"}}, {\"linkText\": \"Export to plot.ly\", \"showLink\": true})});</script>"
      ],
      "text/vnd.plotly.v1+html": [
       "<div id=\"a0f57800-1bf4-4ba7-b58b-1a397eaf3c5f\" style=\"height: 525px; width: 100%;\" class=\"plotly-graph-div\"></div><script type=\"text/javascript\">require([\"plotly\"], function(Plotly) { window.PLOTLYENV=window.PLOTLYENV || {};window.PLOTLYENV.BASE_URL=\"https://plot.ly\";Plotly.newPlot(\"a0f57800-1bf4-4ba7-b58b-1a397eaf3c5f\", [{\"y\": [0.0020740584806056644, 0.000789932638074271, 0.0015268507633380269, 0.001817904167111444, 0.005093963098904185, 0.0018906107072264, 0.005055567504169881, 0.005737955789221372, 0.002287473472762031, 0.0023734331388067763, 0.037070707019233005], \"text\": [\"chemical_major_allele\", \"chemical_substitution\", \"conservation_genome\", \"go_terms\", \"pfam\", \"population\", \"selection\", \"spider\", \"sub_matrix\", \"sub_predictor\", \"whole_domain_conservation\"], \"width\": 0.5, \"marker\": {\"colorbar\": {\"title\": \"Number of Features\"}, \"color\": [66, 123, 82, 7, 22, 21, 20, 31, 10, 11, 4], \"showscale\": true, \"colorscale\": \"Portland\"}, \"x\": [\"chemical_major_allele\", \"chemical_substitution\", \"conservation_genome\", \"go_terms\", \"pfam\", \"population\", \"selection\", \"spider\", \"sub_matrix\", \"sub_predictor\", \"whole_domain_conservation\"], \"type\": \"bar\"}], {\"autosize\": true, \"title\": \"Avg: dnabase\", \"showlegend\": false, \"hovermode\": \"closest\", \"yaxis\": {\"ticklen\": 5, \"gridwidth\": 2, \"title\": \"Average Feature Importances\"}}, {\"linkText\": \"Export to plot.ly\", \"showLink\": true})});</script>"
      ]
     },
     "metadata": {},
     "output_type": "display_data"
    },
    {
     "data": {
      "application/vnd.plotly.v1+json": {
       "data": [
        {
         "marker": {
          "color": [
           66,
           123,
           82,
           7,
           22,
           21,
           20,
           31,
           10,
           11,
           4
          ],
          "colorbar": {
           "title": "Number of Features"
          },
          "colorscale": "Portland",
          "showscale": true,
          "size": 25,
          "sizemode": "diameter",
          "sizeref": 1
         },
         "mode": "markers",
         "text": [
          "chemical_major_allele",
          "chemical_substitution",
          "conservation_genome",
          "go_terms",
          "pfam",
          "population",
          "selection",
          "spider",
          "sub_matrix",
          "sub_predictor",
          "whole_domain_conservation"
         ],
         "type": "scatter",
         "x": [
          "chemical_major_allele",
          "chemical_substitution",
          "conservation_genome",
          "go_terms",
          "pfam",
          "population",
          "selection",
          "spider",
          "sub_matrix",
          "sub_predictor",
          "whole_domain_conservation"
         ],
         "y": [
          0.0021813332082754712,
          0.0007964710202211781,
          0.0022306667340803764,
          0.002707505095405387,
          0.003765615733850577,
          0.0019781857735403766,
          0.005744968997616126,
          0.0047732547695951925,
          0.0018737124114073475,
          0.002521176992046234,
          0.030618267169692293
         ]
        }
       ],
       "layout": {
        "autosize": true,
        "hovermode": "closest",
        "showlegend": false,
        "title": "RF: dnabackbone",
        "yaxis": {
         "gridwidth": 2,
         "ticklen": 5,
         "title": "Feature Importance"
        }
       }
      },
      "text/html": [
       "<div id=\"324ee11a-9639-4766-867e-f360a1e8248b\" style=\"height: 525px; width: 100%;\" class=\"plotly-graph-div\"></div><script type=\"text/javascript\">require([\"plotly\"], function(Plotly) { window.PLOTLYENV=window.PLOTLYENV || {};window.PLOTLYENV.BASE_URL=\"https://plot.ly\";Plotly.newPlot(\"324ee11a-9639-4766-867e-f360a1e8248b\", [{\"text\": [\"chemical_major_allele\", \"chemical_substitution\", \"conservation_genome\", \"go_terms\", \"pfam\", \"population\", \"selection\", \"spider\", \"sub_matrix\", \"sub_predictor\", \"whole_domain_conservation\"], \"marker\": {\"sizeref\": 1, \"colorscale\": \"Portland\", \"color\": [66, 123, 82, 7, 22, 21, 20, 31, 10, 11, 4], \"colorbar\": {\"title\": \"Number of Features\"}, \"sizemode\": \"diameter\", \"showscale\": true, \"size\": 25}, \"mode\": \"markers\", \"y\": [0.0021813332082754712, 0.0007964710202211781, 0.0022306667340803764, 0.002707505095405387, 0.003765615733850577, 0.0019781857735403766, 0.005744968997616126, 0.0047732547695951925, 0.0018737124114073475, 0.002521176992046234, 0.030618267169692293], \"x\": [\"chemical_major_allele\", \"chemical_substitution\", \"conservation_genome\", \"go_terms\", \"pfam\", \"population\", \"selection\", \"spider\", \"sub_matrix\", \"sub_predictor\", \"whole_domain_conservation\"], \"type\": \"scatter\"}], {\"autosize\": true, \"title\": \"RF: dnabackbone\", \"showlegend\": false, \"hovermode\": \"closest\", \"yaxis\": {\"ticklen\": 5, \"gridwidth\": 2, \"title\": \"Feature Importance\"}}, {\"linkText\": \"Export to plot.ly\", \"showLink\": true})});</script>"
      ],
      "text/vnd.plotly.v1+html": [
       "<div id=\"324ee11a-9639-4766-867e-f360a1e8248b\" style=\"height: 525px; width: 100%;\" class=\"plotly-graph-div\"></div><script type=\"text/javascript\">require([\"plotly\"], function(Plotly) { window.PLOTLYENV=window.PLOTLYENV || {};window.PLOTLYENV.BASE_URL=\"https://plot.ly\";Plotly.newPlot(\"324ee11a-9639-4766-867e-f360a1e8248b\", [{\"text\": [\"chemical_major_allele\", \"chemical_substitution\", \"conservation_genome\", \"go_terms\", \"pfam\", \"population\", \"selection\", \"spider\", \"sub_matrix\", \"sub_predictor\", \"whole_domain_conservation\"], \"marker\": {\"sizeref\": 1, \"colorscale\": \"Portland\", \"color\": [66, 123, 82, 7, 22, 21, 20, 31, 10, 11, 4], \"colorbar\": {\"title\": \"Number of Features\"}, \"sizemode\": \"diameter\", \"showscale\": true, \"size\": 25}, \"mode\": \"markers\", \"y\": [0.0021813332082754712, 0.0007964710202211781, 0.0022306667340803764, 0.002707505095405387, 0.003765615733850577, 0.0019781857735403766, 0.005744968997616126, 0.0047732547695951925, 0.0018737124114073475, 0.002521176992046234, 0.030618267169692293], \"x\": [\"chemical_major_allele\", \"chemical_substitution\", \"conservation_genome\", \"go_terms\", \"pfam\", \"population\", \"selection\", \"spider\", \"sub_matrix\", \"sub_predictor\", \"whole_domain_conservation\"], \"type\": \"scatter\"}], {\"autosize\": true, \"title\": \"RF: dnabackbone\", \"showlegend\": false, \"hovermode\": \"closest\", \"yaxis\": {\"ticklen\": 5, \"gridwidth\": 2, \"title\": \"Feature Importance\"}}, {\"linkText\": \"Export to plot.ly\", \"showLink\": true})});</script>"
      ]
     },
     "metadata": {},
     "output_type": "display_data"
    },
    {
     "data": {
      "application/vnd.plotly.v1+json": {
       "data": [
        {
         "marker": {
          "color": [
           66,
           123,
           82,
           7,
           22,
           21,
           20,
           31,
           10,
           11,
           4
          ],
          "colorbar": {
           "title": "Number of Features"
          },
          "colorscale": "Portland",
          "showscale": true,
          "size": 25,
          "sizemode": "diameter",
          "sizeref": 1
         },
         "mode": "markers",
         "text": [
          "chemical_major_allele",
          "chemical_substitution",
          "conservation_genome",
          "go_terms",
          "pfam",
          "population",
          "selection",
          "spider",
          "sub_matrix",
          "sub_predictor",
          "whole_domain_conservation"
         ],
         "type": "scatter",
         "x": [
          "chemical_major_allele",
          "chemical_substitution",
          "conservation_genome",
          "go_terms",
          "pfam",
          "population",
          "selection",
          "spider",
          "sub_matrix",
          "sub_predictor",
          "whole_domain_conservation"
         ],
         "y": [
          0.0021055887918919325,
          0.0007298135897144675,
          0.0013202604604884982,
          0.0019939930643886328,
          0.006423830520361662,
          0.0018859850242733955,
          0.004462182987481356,
          0.006430225446820259,
          0.0019890081603080034,
          0.003275359980762005,
          0.030903778970241547
         ]
        }
       ],
       "layout": {
        "autosize": true,
        "hovermode": "closest",
        "showlegend": false,
        "title": "XGB: dnabackbone",
        "yaxis": {
         "gridwidth": 2,
         "ticklen": 5,
         "title": "Feature Importance"
        }
       }
      },
      "text/html": [
       "<div id=\"06d1c52d-c2c7-4123-9d9d-7618610344ea\" style=\"height: 525px; width: 100%;\" class=\"plotly-graph-div\"></div><script type=\"text/javascript\">require([\"plotly\"], function(Plotly) { window.PLOTLYENV=window.PLOTLYENV || {};window.PLOTLYENV.BASE_URL=\"https://plot.ly\";Plotly.newPlot(\"06d1c52d-c2c7-4123-9d9d-7618610344ea\", [{\"text\": [\"chemical_major_allele\", \"chemical_substitution\", \"conservation_genome\", \"go_terms\", \"pfam\", \"population\", \"selection\", \"spider\", \"sub_matrix\", \"sub_predictor\", \"whole_domain_conservation\"], \"marker\": {\"sizeref\": 1, \"colorscale\": \"Portland\", \"color\": [66, 123, 82, 7, 22, 21, 20, 31, 10, 11, 4], \"colorbar\": {\"title\": \"Number of Features\"}, \"sizemode\": \"diameter\", \"showscale\": true, \"size\": 25}, \"mode\": \"markers\", \"y\": [0.0021055887918919325, 0.0007298135897144675, 0.0013202604604884982, 0.0019939930643886328, 0.006423830520361662, 0.0018859850242733955, 0.004462182987481356, 0.006430225446820259, 0.0019890081603080034, 0.003275359980762005, 0.030903778970241547], \"x\": [\"chemical_major_allele\", \"chemical_substitution\", \"conservation_genome\", \"go_terms\", \"pfam\", \"population\", \"selection\", \"spider\", \"sub_matrix\", \"sub_predictor\", \"whole_domain_conservation\"], \"type\": \"scatter\"}], {\"autosize\": true, \"title\": \"XGB: dnabackbone\", \"showlegend\": false, \"hovermode\": \"closest\", \"yaxis\": {\"ticklen\": 5, \"gridwidth\": 2, \"title\": \"Feature Importance\"}}, {\"linkText\": \"Export to plot.ly\", \"showLink\": true})});</script>"
      ],
      "text/vnd.plotly.v1+html": [
       "<div id=\"06d1c52d-c2c7-4123-9d9d-7618610344ea\" style=\"height: 525px; width: 100%;\" class=\"plotly-graph-div\"></div><script type=\"text/javascript\">require([\"plotly\"], function(Plotly) { window.PLOTLYENV=window.PLOTLYENV || {};window.PLOTLYENV.BASE_URL=\"https://plot.ly\";Plotly.newPlot(\"06d1c52d-c2c7-4123-9d9d-7618610344ea\", [{\"text\": [\"chemical_major_allele\", \"chemical_substitution\", \"conservation_genome\", \"go_terms\", \"pfam\", \"population\", \"selection\", \"spider\", \"sub_matrix\", \"sub_predictor\", \"whole_domain_conservation\"], \"marker\": {\"sizeref\": 1, \"colorscale\": \"Portland\", \"color\": [66, 123, 82, 7, 22, 21, 20, 31, 10, 11, 4], \"colorbar\": {\"title\": \"Number of Features\"}, \"sizemode\": \"diameter\", \"showscale\": true, \"size\": 25}, \"mode\": \"markers\", \"y\": [0.0021055887918919325, 0.0007298135897144675, 0.0013202604604884982, 0.0019939930643886328, 0.006423830520361662, 0.0018859850242733955, 0.004462182987481356, 0.006430225446820259, 0.0019890081603080034, 0.003275359980762005, 0.030903778970241547], \"x\": [\"chemical_major_allele\", \"chemical_substitution\", \"conservation_genome\", \"go_terms\", \"pfam\", \"population\", \"selection\", \"spider\", \"sub_matrix\", \"sub_predictor\", \"whole_domain_conservation\"], \"type\": \"scatter\"}], {\"autosize\": true, \"title\": \"XGB: dnabackbone\", \"showlegend\": false, \"hovermode\": \"closest\", \"yaxis\": {\"ticklen\": 5, \"gridwidth\": 2, \"title\": \"Feature Importance\"}}, {\"linkText\": \"Export to plot.ly\", \"showLink\": true})});</script>"
      ]
     },
     "metadata": {},
     "output_type": "display_data"
    },
    {
     "data": {
      "application/vnd.plotly.v1+json": {
       "data": [
        {
         "marker": {
          "color": [
           66,
           123,
           82,
           7,
           22,
           21,
           20,
           31,
           10,
           11,
           4
          ],
          "colorbar": {
           "title": "Number of Features"
          },
          "colorscale": "Portland",
          "showscale": true,
          "size": 25,
          "sizemode": "diameter",
          "sizeref": 1
         },
         "mode": "markers",
         "text": [
          "chemical_major_allele",
          "chemical_substitution",
          "conservation_genome",
          "go_terms",
          "pfam",
          "population",
          "selection",
          "spider",
          "sub_matrix",
          "sub_predictor",
          "whole_domain_conservation"
         ],
         "type": "scatter",
         "x": [
          "chemical_major_allele",
          "chemical_substitution",
          "conservation_genome",
          "go_terms",
          "pfam",
          "population",
          "selection",
          "spider",
          "sub_matrix",
          "sub_predictor",
          "whole_domain_conservation"
         ],
         "y": [
          1.139140217439341e-05,
          1.0439350222717695e-06,
          1.538146551531459e-05,
          1.294299166866264e-07,
          7.271070630926961e-08,
          1.5641294479061569e-06,
          1.8909251681967776e-05,
          1.983894863958682e-05,
          1.7868817352064583e-06,
          2.5430399125195437e-06,
          2.563804716329782e-06
         ]
        }
       ],
       "layout": {
        "autosize": true,
        "hovermode": "closest",
        "showlegend": false,
        "title": "Logistic: dnabackbone",
        "yaxis": {
         "gridwidth": 2,
         "ticklen": 5,
         "title": "Feature Importance"
        }
       }
      },
      "text/html": [
       "<div id=\"2465a867-dc80-4d92-8174-3cbc8114a391\" style=\"height: 525px; width: 100%;\" class=\"plotly-graph-div\"></div><script type=\"text/javascript\">require([\"plotly\"], function(Plotly) { window.PLOTLYENV=window.PLOTLYENV || {};window.PLOTLYENV.BASE_URL=\"https://plot.ly\";Plotly.newPlot(\"2465a867-dc80-4d92-8174-3cbc8114a391\", [{\"text\": [\"chemical_major_allele\", \"chemical_substitution\", \"conservation_genome\", \"go_terms\", \"pfam\", \"population\", \"selection\", \"spider\", \"sub_matrix\", \"sub_predictor\", \"whole_domain_conservation\"], \"marker\": {\"sizeref\": 1, \"colorscale\": \"Portland\", \"color\": [66, 123, 82, 7, 22, 21, 20, 31, 10, 11, 4], \"colorbar\": {\"title\": \"Number of Features\"}, \"sizemode\": \"diameter\", \"showscale\": true, \"size\": 25}, \"mode\": \"markers\", \"y\": [1.139140217439341e-05, 1.0439350222717695e-06, 1.538146551531459e-05, 1.294299166866264e-07, 7.271070630926961e-08, 1.5641294479061569e-06, 1.8909251681967776e-05, 1.983894863958682e-05, 1.7868817352064583e-06, 2.5430399125195437e-06, 2.563804716329782e-06], \"x\": [\"chemical_major_allele\", \"chemical_substitution\", \"conservation_genome\", \"go_terms\", \"pfam\", \"population\", \"selection\", \"spider\", \"sub_matrix\", \"sub_predictor\", \"whole_domain_conservation\"], \"type\": \"scatter\"}], {\"autosize\": true, \"title\": \"Logistic: dnabackbone\", \"showlegend\": false, \"hovermode\": \"closest\", \"yaxis\": {\"ticklen\": 5, \"gridwidth\": 2, \"title\": \"Feature Importance\"}}, {\"linkText\": \"Export to plot.ly\", \"showLink\": true})});</script>"
      ],
      "text/vnd.plotly.v1+html": [
       "<div id=\"2465a867-dc80-4d92-8174-3cbc8114a391\" style=\"height: 525px; width: 100%;\" class=\"plotly-graph-div\"></div><script type=\"text/javascript\">require([\"plotly\"], function(Plotly) { window.PLOTLYENV=window.PLOTLYENV || {};window.PLOTLYENV.BASE_URL=\"https://plot.ly\";Plotly.newPlot(\"2465a867-dc80-4d92-8174-3cbc8114a391\", [{\"text\": [\"chemical_major_allele\", \"chemical_substitution\", \"conservation_genome\", \"go_terms\", \"pfam\", \"population\", \"selection\", \"spider\", \"sub_matrix\", \"sub_predictor\", \"whole_domain_conservation\"], \"marker\": {\"sizeref\": 1, \"colorscale\": \"Portland\", \"color\": [66, 123, 82, 7, 22, 21, 20, 31, 10, 11, 4], \"colorbar\": {\"title\": \"Number of Features\"}, \"sizemode\": \"diameter\", \"showscale\": true, \"size\": 25}, \"mode\": \"markers\", \"y\": [1.139140217439341e-05, 1.0439350222717695e-06, 1.538146551531459e-05, 1.294299166866264e-07, 7.271070630926961e-08, 1.5641294479061569e-06, 1.8909251681967776e-05, 1.983894863958682e-05, 1.7868817352064583e-06, 2.5430399125195437e-06, 2.563804716329782e-06], \"x\": [\"chemical_major_allele\", \"chemical_substitution\", \"conservation_genome\", \"go_terms\", \"pfam\", \"population\", \"selection\", \"spider\", \"sub_matrix\", \"sub_predictor\", \"whole_domain_conservation\"], \"type\": \"scatter\"}], {\"autosize\": true, \"title\": \"Logistic: dnabackbone\", \"showlegend\": false, \"hovermode\": \"closest\", \"yaxis\": {\"ticklen\": 5, \"gridwidth\": 2, \"title\": \"Feature Importance\"}}, {\"linkText\": \"Export to plot.ly\", \"showLink\": true})});</script>"
      ]
     },
     "metadata": {},
     "output_type": "display_data"
    },
    {
     "data": {
      "application/vnd.plotly.v1+json": {
       "data": [
        {
         "marker": {
          "color": [
           66,
           123,
           82,
           7,
           22,
           21,
           20,
           31,
           10,
           11,
           4
          ],
          "colorbar": {
           "title": "Number of Features"
          },
          "colorscale": "Portland",
          "showscale": true,
          "size": 25,
          "sizemode": "diameter",
          "sizeref": 1
         },
         "mode": "markers",
         "text": [
          "chemical_major_allele",
          "chemical_substitution",
          "conservation_genome",
          "go_terms",
          "pfam",
          "population",
          "selection",
          "spider",
          "sub_matrix",
          "sub_predictor",
          "whole_domain_conservation"
         ],
         "type": "scatter",
         "x": [
          "chemical_major_allele",
          "chemical_substitution",
          "conservation_genome",
          "go_terms",
          "pfam",
          "population",
          "selection",
          "spider",
          "sub_matrix",
          "sub_predictor",
          "whole_domain_conservation"
         ],
         "y": [
          0.0018030303030303033,
          0.000910569105691057,
          0.0014756097560975612,
          0.0021428571428571434,
          0.005545454545454545,
          0.0009523809523809526,
          0.0030499999999999998,
          0.005580645161290324,
          0.0023000000000000004,
          0.003090909090909091,
          0.05
         ]
        }
       ],
       "layout": {
        "autosize": true,
        "hovermode": "closest",
        "showlegend": false,
        "title": "ADA: dnabackbone",
        "yaxis": {
         "gridwidth": 2,
         "ticklen": 5,
         "title": "Feature Importance"
        }
       }
      },
      "text/html": [
       "<div id=\"ae4e1d6f-3b9e-4acc-aa0f-d3b9bad2f039\" style=\"height: 525px; width: 100%;\" class=\"plotly-graph-div\"></div><script type=\"text/javascript\">require([\"plotly\"], function(Plotly) { window.PLOTLYENV=window.PLOTLYENV || {};window.PLOTLYENV.BASE_URL=\"https://plot.ly\";Plotly.newPlot(\"ae4e1d6f-3b9e-4acc-aa0f-d3b9bad2f039\", [{\"text\": [\"chemical_major_allele\", \"chemical_substitution\", \"conservation_genome\", \"go_terms\", \"pfam\", \"population\", \"selection\", \"spider\", \"sub_matrix\", \"sub_predictor\", \"whole_domain_conservation\"], \"marker\": {\"sizeref\": 1, \"colorscale\": \"Portland\", \"color\": [66, 123, 82, 7, 22, 21, 20, 31, 10, 11, 4], \"colorbar\": {\"title\": \"Number of Features\"}, \"sizemode\": \"diameter\", \"showscale\": true, \"size\": 25}, \"mode\": \"markers\", \"y\": [0.0018030303030303033, 0.000910569105691057, 0.0014756097560975612, 0.0021428571428571434, 0.005545454545454545, 0.0009523809523809526, 0.0030499999999999998, 0.005580645161290324, 0.0023000000000000004, 0.003090909090909091, 0.05], \"x\": [\"chemical_major_allele\", \"chemical_substitution\", \"conservation_genome\", \"go_terms\", \"pfam\", \"population\", \"selection\", \"spider\", \"sub_matrix\", \"sub_predictor\", \"whole_domain_conservation\"], \"type\": \"scatter\"}], {\"autosize\": true, \"title\": \"ADA: dnabackbone\", \"showlegend\": false, \"hovermode\": \"closest\", \"yaxis\": {\"ticklen\": 5, \"gridwidth\": 2, \"title\": \"Feature Importance\"}}, {\"linkText\": \"Export to plot.ly\", \"showLink\": true})});</script>"
      ],
      "text/vnd.plotly.v1+html": [
       "<div id=\"ae4e1d6f-3b9e-4acc-aa0f-d3b9bad2f039\" style=\"height: 525px; width: 100%;\" class=\"plotly-graph-div\"></div><script type=\"text/javascript\">require([\"plotly\"], function(Plotly) { window.PLOTLYENV=window.PLOTLYENV || {};window.PLOTLYENV.BASE_URL=\"https://plot.ly\";Plotly.newPlot(\"ae4e1d6f-3b9e-4acc-aa0f-d3b9bad2f039\", [{\"text\": [\"chemical_major_allele\", \"chemical_substitution\", \"conservation_genome\", \"go_terms\", \"pfam\", \"population\", \"selection\", \"spider\", \"sub_matrix\", \"sub_predictor\", \"whole_domain_conservation\"], \"marker\": {\"sizeref\": 1, \"colorscale\": \"Portland\", \"color\": [66, 123, 82, 7, 22, 21, 20, 31, 10, 11, 4], \"colorbar\": {\"title\": \"Number of Features\"}, \"sizemode\": \"diameter\", \"showscale\": true, \"size\": 25}, \"mode\": \"markers\", \"y\": [0.0018030303030303033, 0.000910569105691057, 0.0014756097560975612, 0.0021428571428571434, 0.005545454545454545, 0.0009523809523809526, 0.0030499999999999998, 0.005580645161290324, 0.0023000000000000004, 0.003090909090909091, 0.05], \"x\": [\"chemical_major_allele\", \"chemical_substitution\", \"conservation_genome\", \"go_terms\", \"pfam\", \"population\", \"selection\", \"spider\", \"sub_matrix\", \"sub_predictor\", \"whole_domain_conservation\"], \"type\": \"scatter\"}], {\"autosize\": true, \"title\": \"ADA: dnabackbone\", \"showlegend\": false, \"hovermode\": \"closest\", \"yaxis\": {\"ticklen\": 5, \"gridwidth\": 2, \"title\": \"Feature Importance\"}}, {\"linkText\": \"Export to plot.ly\", \"showLink\": true})});</script>"
      ]
     },
     "metadata": {},
     "output_type": "display_data"
    },
    {
     "data": {
      "application/vnd.plotly.v1+json": {
       "data": [
        {
         "marker": {
          "color": [
           66,
           123,
           82,
           7,
           22,
           21,
           20,
           31,
           10,
           11,
           4
          ],
          "colorbar": {
           "title": "Number of Features"
          },
          "colorscale": "Portland",
          "showscale": true
         },
         "text": [
          "chemical_major_allele",
          "chemical_substitution",
          "conservation_genome",
          "go_terms",
          "pfam",
          "population",
          "selection",
          "spider",
          "sub_matrix",
          "sub_predictor",
          "whole_domain_conservation"
         ],
         "type": "bar",
         "width": 0.5,
         "x": [
          "chemical_major_allele",
          "chemical_substitution",
          "conservation_genome",
          "go_terms",
          "pfam",
          "population",
          "selection",
          "spider",
          "sub_matrix",
          "sub_predictor",
          "whole_domain_conservation"
         ],
         "y": [
          0.0020299841010659025,
          0.0008122845718755675,
          0.001675512316888812,
          0.0022814517675503877,
          0.005244966933222261,
          0.0016055172500649081,
          0.004419050661699161,
          0.005594708459235259,
          0.0020542401905717838,
          0.00296248202123911,
          0.03717401537997795
         ]
        }
       ],
       "layout": {
        "autosize": true,
        "hovermode": "closest",
        "showlegend": false,
        "title": "Avg: dnabackbone",
        "yaxis": {
         "gridwidth": 2,
         "ticklen": 5,
         "title": "Average Feature Importances"
        }
       }
      },
      "text/html": [
       "<div id=\"4e4af02c-3734-4171-b5f8-181fc25402c3\" style=\"height: 525px; width: 100%;\" class=\"plotly-graph-div\"></div><script type=\"text/javascript\">require([\"plotly\"], function(Plotly) { window.PLOTLYENV=window.PLOTLYENV || {};window.PLOTLYENV.BASE_URL=\"https://plot.ly\";Plotly.newPlot(\"4e4af02c-3734-4171-b5f8-181fc25402c3\", [{\"y\": [0.0020299841010659025, 0.0008122845718755675, 0.001675512316888812, 0.0022814517675503877, 0.005244966933222261, 0.0016055172500649081, 0.004419050661699161, 0.005594708459235259, 0.0020542401905717838, 0.00296248202123911, 0.03717401537997795], \"text\": [\"chemical_major_allele\", \"chemical_substitution\", \"conservation_genome\", \"go_terms\", \"pfam\", \"population\", \"selection\", \"spider\", \"sub_matrix\", \"sub_predictor\", \"whole_domain_conservation\"], \"width\": 0.5, \"marker\": {\"colorbar\": {\"title\": \"Number of Features\"}, \"color\": [66, 123, 82, 7, 22, 21, 20, 31, 10, 11, 4], \"showscale\": true, \"colorscale\": \"Portland\"}, \"x\": [\"chemical_major_allele\", \"chemical_substitution\", \"conservation_genome\", \"go_terms\", \"pfam\", \"population\", \"selection\", \"spider\", \"sub_matrix\", \"sub_predictor\", \"whole_domain_conservation\"], \"type\": \"bar\"}], {\"autosize\": true, \"title\": \"Avg: dnabackbone\", \"showlegend\": false, \"hovermode\": \"closest\", \"yaxis\": {\"ticklen\": 5, \"gridwidth\": 2, \"title\": \"Average Feature Importances\"}}, {\"linkText\": \"Export to plot.ly\", \"showLink\": true})});</script>"
      ],
      "text/vnd.plotly.v1+html": [
       "<div id=\"4e4af02c-3734-4171-b5f8-181fc25402c3\" style=\"height: 525px; width: 100%;\" class=\"plotly-graph-div\"></div><script type=\"text/javascript\">require([\"plotly\"], function(Plotly) { window.PLOTLYENV=window.PLOTLYENV || {};window.PLOTLYENV.BASE_URL=\"https://plot.ly\";Plotly.newPlot(\"4e4af02c-3734-4171-b5f8-181fc25402c3\", [{\"y\": [0.0020299841010659025, 0.0008122845718755675, 0.001675512316888812, 0.0022814517675503877, 0.005244966933222261, 0.0016055172500649081, 0.004419050661699161, 0.005594708459235259, 0.0020542401905717838, 0.00296248202123911, 0.03717401537997795], \"text\": [\"chemical_major_allele\", \"chemical_substitution\", \"conservation_genome\", \"go_terms\", \"pfam\", \"population\", \"selection\", \"spider\", \"sub_matrix\", \"sub_predictor\", \"whole_domain_conservation\"], \"width\": 0.5, \"marker\": {\"colorbar\": {\"title\": \"Number of Features\"}, \"color\": [66, 123, 82, 7, 22, 21, 20, 31, 10, 11, 4], \"showscale\": true, \"colorscale\": \"Portland\"}, \"x\": [\"chemical_major_allele\", \"chemical_substitution\", \"conservation_genome\", \"go_terms\", \"pfam\", \"population\", \"selection\", \"spider\", \"sub_matrix\", \"sub_predictor\", \"whole_domain_conservation\"], \"type\": \"bar\"}], {\"autosize\": true, \"title\": \"Avg: dnabackbone\", \"showlegend\": false, \"hovermode\": \"closest\", \"yaxis\": {\"ticklen\": 5, \"gridwidth\": 2, \"title\": \"Average Feature Importances\"}}, {\"linkText\": \"Export to plot.ly\", \"showLink\": true})});</script>"
      ]
     },
     "metadata": {},
     "output_type": "display_data"
    },
    {
     "data": {
      "application/vnd.plotly.v1+json": {
       "data": [
        {
         "marker": {
          "color": [
           66,
           123,
           82,
           7,
           22,
           21,
           20,
           31,
           10,
           11,
           4
          ],
          "colorbar": {
           "title": "Number of Features"
          },
          "colorscale": "Portland",
          "showscale": true,
          "size": 25,
          "sizemode": "diameter",
          "sizeref": 1
         },
         "mode": "markers",
         "text": [
          "chemical_major_allele",
          "chemical_substitution",
          "conservation_genome",
          "go_terms",
          "pfam",
          "population",
          "selection",
          "spider",
          "sub_matrix",
          "sub_predictor",
          "whole_domain_conservation"
         ],
         "type": "scatter",
         "x": [
          "chemical_major_allele",
          "chemical_substitution",
          "conservation_genome",
          "go_terms",
          "pfam",
          "population",
          "selection",
          "spider",
          "sub_matrix",
          "sub_predictor",
          "whole_domain_conservation"
         ],
         "y": [
          0.0018801616631320813,
          0.0006841802189481139,
          0.003156966412941227,
          0.0036907896788279855,
          0.004606465972164387,
          0.0014121707659634924,
          0.0041399749827755305,
          0.004102678688403986,
          0.0016553528700106828,
          0.0012783659454684833,
          0.03386311478013597
         ]
        }
       ],
       "layout": {
        "autosize": true,
        "hovermode": "closest",
        "showlegend": false,
        "title": "RF: rna",
        "yaxis": {
         "gridwidth": 2,
         "ticklen": 5,
         "title": "Feature Importance"
        }
       }
      },
      "text/html": [
       "<div id=\"99343918-0265-40e1-95b4-86dea4695fbd\" style=\"height: 525px; width: 100%;\" class=\"plotly-graph-div\"></div><script type=\"text/javascript\">require([\"plotly\"], function(Plotly) { window.PLOTLYENV=window.PLOTLYENV || {};window.PLOTLYENV.BASE_URL=\"https://plot.ly\";Plotly.newPlot(\"99343918-0265-40e1-95b4-86dea4695fbd\", [{\"text\": [\"chemical_major_allele\", \"chemical_substitution\", \"conservation_genome\", \"go_terms\", \"pfam\", \"population\", \"selection\", \"spider\", \"sub_matrix\", \"sub_predictor\", \"whole_domain_conservation\"], \"marker\": {\"sizeref\": 1, \"colorscale\": \"Portland\", \"color\": [66, 123, 82, 7, 22, 21, 20, 31, 10, 11, 4], \"colorbar\": {\"title\": \"Number of Features\"}, \"sizemode\": \"diameter\", \"showscale\": true, \"size\": 25}, \"mode\": \"markers\", \"y\": [0.0018801616631320813, 0.0006841802189481139, 0.003156966412941227, 0.0036907896788279855, 0.004606465972164387, 0.0014121707659634924, 0.0041399749827755305, 0.004102678688403986, 0.0016553528700106828, 0.0012783659454684833, 0.03386311478013597], \"x\": [\"chemical_major_allele\", \"chemical_substitution\", \"conservation_genome\", \"go_terms\", \"pfam\", \"population\", \"selection\", \"spider\", \"sub_matrix\", \"sub_predictor\", \"whole_domain_conservation\"], \"type\": \"scatter\"}], {\"autosize\": true, \"title\": \"RF: rna\", \"showlegend\": false, \"hovermode\": \"closest\", \"yaxis\": {\"ticklen\": 5, \"gridwidth\": 2, \"title\": \"Feature Importance\"}}, {\"linkText\": \"Export to plot.ly\", \"showLink\": true})});</script>"
      ],
      "text/vnd.plotly.v1+html": [
       "<div id=\"99343918-0265-40e1-95b4-86dea4695fbd\" style=\"height: 525px; width: 100%;\" class=\"plotly-graph-div\"></div><script type=\"text/javascript\">require([\"plotly\"], function(Plotly) { window.PLOTLYENV=window.PLOTLYENV || {};window.PLOTLYENV.BASE_URL=\"https://plot.ly\";Plotly.newPlot(\"99343918-0265-40e1-95b4-86dea4695fbd\", [{\"text\": [\"chemical_major_allele\", \"chemical_substitution\", \"conservation_genome\", \"go_terms\", \"pfam\", \"population\", \"selection\", \"spider\", \"sub_matrix\", \"sub_predictor\", \"whole_domain_conservation\"], \"marker\": {\"sizeref\": 1, \"colorscale\": \"Portland\", \"color\": [66, 123, 82, 7, 22, 21, 20, 31, 10, 11, 4], \"colorbar\": {\"title\": \"Number of Features\"}, \"sizemode\": \"diameter\", \"showscale\": true, \"size\": 25}, \"mode\": \"markers\", \"y\": [0.0018801616631320813, 0.0006841802189481139, 0.003156966412941227, 0.0036907896788279855, 0.004606465972164387, 0.0014121707659634924, 0.0041399749827755305, 0.004102678688403986, 0.0016553528700106828, 0.0012783659454684833, 0.03386311478013597], \"x\": [\"chemical_major_allele\", \"chemical_substitution\", \"conservation_genome\", \"go_terms\", \"pfam\", \"population\", \"selection\", \"spider\", \"sub_matrix\", \"sub_predictor\", \"whole_domain_conservation\"], \"type\": \"scatter\"}], {\"autosize\": true, \"title\": \"RF: rna\", \"showlegend\": false, \"hovermode\": \"closest\", \"yaxis\": {\"ticklen\": 5, \"gridwidth\": 2, \"title\": \"Feature Importance\"}}, {\"linkText\": \"Export to plot.ly\", \"showLink\": true})});</script>"
      ]
     },
     "metadata": {},
     "output_type": "display_data"
    },
    {
     "data": {
      "application/vnd.plotly.v1+json": {
       "data": [
        {
         "marker": {
          "color": [
           66,
           123,
           82,
           7,
           22,
           21,
           20,
           31,
           10,
           11,
           4
          ],
          "colorbar": {
           "title": "Number of Features"
          },
          "colorscale": "Portland",
          "showscale": true,
          "size": 25,
          "sizemode": "diameter",
          "sizeref": 1
         },
         "mode": "markers",
         "text": [
          "chemical_major_allele",
          "chemical_substitution",
          "conservation_genome",
          "go_terms",
          "pfam",
          "population",
          "selection",
          "spider",
          "sub_matrix",
          "sub_predictor",
          "whole_domain_conservation"
         ],
         "type": "scatter",
         "x": [
          "chemical_major_allele",
          "chemical_substitution",
          "conservation_genome",
          "go_terms",
          "pfam",
          "population",
          "selection",
          "spider",
          "sub_matrix",
          "sub_predictor",
          "whole_domain_conservation"
         ],
         "y": [
          0.001504974439740181,
          0.0006420662393793464,
          0.0020763729698956013,
          0.0019336453406140208,
          0.007290490437299013,
          0.0009934769477695227,
          0.003617952112108469,
          0.0062802438624203205,
          0.0021677184849977493,
          0.0014247912913560867,
          0.03806228190660477
         ]
        }
       ],
       "layout": {
        "autosize": true,
        "hovermode": "closest",
        "showlegend": false,
        "title": "XGB: rna",
        "yaxis": {
         "gridwidth": 2,
         "ticklen": 5,
         "title": "Feature Importance"
        }
       }
      },
      "text/html": [
       "<div id=\"655d8136-f9e8-488b-957d-e042eab380ff\" style=\"height: 525px; width: 100%;\" class=\"plotly-graph-div\"></div><script type=\"text/javascript\">require([\"plotly\"], function(Plotly) { window.PLOTLYENV=window.PLOTLYENV || {};window.PLOTLYENV.BASE_URL=\"https://plot.ly\";Plotly.newPlot(\"655d8136-f9e8-488b-957d-e042eab380ff\", [{\"text\": [\"chemical_major_allele\", \"chemical_substitution\", \"conservation_genome\", \"go_terms\", \"pfam\", \"population\", \"selection\", \"spider\", \"sub_matrix\", \"sub_predictor\", \"whole_domain_conservation\"], \"marker\": {\"sizeref\": 1, \"colorscale\": \"Portland\", \"color\": [66, 123, 82, 7, 22, 21, 20, 31, 10, 11, 4], \"colorbar\": {\"title\": \"Number of Features\"}, \"sizemode\": \"diameter\", \"showscale\": true, \"size\": 25}, \"mode\": \"markers\", \"y\": [0.001504974439740181, 0.0006420662393793464, 0.0020763729698956013, 0.0019336453406140208, 0.007290490437299013, 0.0009934769477695227, 0.003617952112108469, 0.0062802438624203205, 0.0021677184849977493, 0.0014247912913560867, 0.03806228190660477], \"x\": [\"chemical_major_allele\", \"chemical_substitution\", \"conservation_genome\", \"go_terms\", \"pfam\", \"population\", \"selection\", \"spider\", \"sub_matrix\", \"sub_predictor\", \"whole_domain_conservation\"], \"type\": \"scatter\"}], {\"autosize\": true, \"title\": \"XGB: rna\", \"showlegend\": false, \"hovermode\": \"closest\", \"yaxis\": {\"ticklen\": 5, \"gridwidth\": 2, \"title\": \"Feature Importance\"}}, {\"linkText\": \"Export to plot.ly\", \"showLink\": true})});</script>"
      ],
      "text/vnd.plotly.v1+html": [
       "<div id=\"655d8136-f9e8-488b-957d-e042eab380ff\" style=\"height: 525px; width: 100%;\" class=\"plotly-graph-div\"></div><script type=\"text/javascript\">require([\"plotly\"], function(Plotly) { window.PLOTLYENV=window.PLOTLYENV || {};window.PLOTLYENV.BASE_URL=\"https://plot.ly\";Plotly.newPlot(\"655d8136-f9e8-488b-957d-e042eab380ff\", [{\"text\": [\"chemical_major_allele\", \"chemical_substitution\", \"conservation_genome\", \"go_terms\", \"pfam\", \"population\", \"selection\", \"spider\", \"sub_matrix\", \"sub_predictor\", \"whole_domain_conservation\"], \"marker\": {\"sizeref\": 1, \"colorscale\": \"Portland\", \"color\": [66, 123, 82, 7, 22, 21, 20, 31, 10, 11, 4], \"colorbar\": {\"title\": \"Number of Features\"}, \"sizemode\": \"diameter\", \"showscale\": true, \"size\": 25}, \"mode\": \"markers\", \"y\": [0.001504974439740181, 0.0006420662393793464, 0.0020763729698956013, 0.0019336453406140208, 0.007290490437299013, 0.0009934769477695227, 0.003617952112108469, 0.0062802438624203205, 0.0021677184849977493, 0.0014247912913560867, 0.03806228190660477], \"x\": [\"chemical_major_allele\", \"chemical_substitution\", \"conservation_genome\", \"go_terms\", \"pfam\", \"population\", \"selection\", \"spider\", \"sub_matrix\", \"sub_predictor\", \"whole_domain_conservation\"], \"type\": \"scatter\"}], {\"autosize\": true, \"title\": \"XGB: rna\", \"showlegend\": false, \"hovermode\": \"closest\", \"yaxis\": {\"ticklen\": 5, \"gridwidth\": 2, \"title\": \"Feature Importance\"}}, {\"linkText\": \"Export to plot.ly\", \"showLink\": true})});</script>"
      ]
     },
     "metadata": {},
     "output_type": "display_data"
    },
    {
     "data": {
      "application/vnd.plotly.v1+json": {
       "data": [
        {
         "marker": {
          "color": [
           66,
           123,
           82,
           7,
           22,
           21,
           20,
           31,
           10,
           11,
           4
          ],
          "colorbar": {
           "title": "Number of Features"
          },
          "colorscale": "Portland",
          "showscale": true,
          "size": 25,
          "sizemode": "diameter",
          "sizeref": 1
         },
         "mode": "markers",
         "text": [
          "chemical_major_allele",
          "chemical_substitution",
          "conservation_genome",
          "go_terms",
          "pfam",
          "population",
          "selection",
          "spider",
          "sub_matrix",
          "sub_predictor",
          "whole_domain_conservation"
         ],
         "type": "scatter",
         "x": [
          "chemical_major_allele",
          "chemical_substitution",
          "conservation_genome",
          "go_terms",
          "pfam",
          "population",
          "selection",
          "spider",
          "sub_matrix",
          "sub_predictor",
          "whole_domain_conservation"
         ],
         "y": [
          3.046506992841471e-05,
          5.809693837487072e-07,
          2.893258962882921e-05,
          5.827533829880469e-07,
          1.1791950723364101e-07,
          3.1663926074554096e-06,
          3.333850018870617e-05,
          1.2919695695763695e-05,
          6.406837136360741e-06,
          2.4815728657172775e-06,
          1.5236608687869815e-06
         ]
        }
       ],
       "layout": {
        "autosize": true,
        "hovermode": "closest",
        "showlegend": false,
        "title": "Logistic: rna",
        "yaxis": {
         "gridwidth": 2,
         "ticklen": 5,
         "title": "Feature Importance"
        }
       }
      },
      "text/html": [
       "<div id=\"800667ef-a69e-4998-8b5c-642dca7c2cc3\" style=\"height: 525px; width: 100%;\" class=\"plotly-graph-div\"></div><script type=\"text/javascript\">require([\"plotly\"], function(Plotly) { window.PLOTLYENV=window.PLOTLYENV || {};window.PLOTLYENV.BASE_URL=\"https://plot.ly\";Plotly.newPlot(\"800667ef-a69e-4998-8b5c-642dca7c2cc3\", [{\"text\": [\"chemical_major_allele\", \"chemical_substitution\", \"conservation_genome\", \"go_terms\", \"pfam\", \"population\", \"selection\", \"spider\", \"sub_matrix\", \"sub_predictor\", \"whole_domain_conservation\"], \"marker\": {\"sizeref\": 1, \"colorscale\": \"Portland\", \"color\": [66, 123, 82, 7, 22, 21, 20, 31, 10, 11, 4], \"colorbar\": {\"title\": \"Number of Features\"}, \"sizemode\": \"diameter\", \"showscale\": true, \"size\": 25}, \"mode\": \"markers\", \"y\": [3.046506992841471e-05, 5.809693837487072e-07, 2.893258962882921e-05, 5.827533829880469e-07, 1.1791950723364101e-07, 3.1663926074554096e-06, 3.333850018870617e-05, 1.2919695695763695e-05, 6.406837136360741e-06, 2.4815728657172775e-06, 1.5236608687869815e-06], \"x\": [\"chemical_major_allele\", \"chemical_substitution\", \"conservation_genome\", \"go_terms\", \"pfam\", \"population\", \"selection\", \"spider\", \"sub_matrix\", \"sub_predictor\", \"whole_domain_conservation\"], \"type\": \"scatter\"}], {\"autosize\": true, \"title\": \"Logistic: rna\", \"showlegend\": false, \"hovermode\": \"closest\", \"yaxis\": {\"ticklen\": 5, \"gridwidth\": 2, \"title\": \"Feature Importance\"}}, {\"linkText\": \"Export to plot.ly\", \"showLink\": true})});</script>"
      ],
      "text/vnd.plotly.v1+html": [
       "<div id=\"800667ef-a69e-4998-8b5c-642dca7c2cc3\" style=\"height: 525px; width: 100%;\" class=\"plotly-graph-div\"></div><script type=\"text/javascript\">require([\"plotly\"], function(Plotly) { window.PLOTLYENV=window.PLOTLYENV || {};window.PLOTLYENV.BASE_URL=\"https://plot.ly\";Plotly.newPlot(\"800667ef-a69e-4998-8b5c-642dca7c2cc3\", [{\"text\": [\"chemical_major_allele\", \"chemical_substitution\", \"conservation_genome\", \"go_terms\", \"pfam\", \"population\", \"selection\", \"spider\", \"sub_matrix\", \"sub_predictor\", \"whole_domain_conservation\"], \"marker\": {\"sizeref\": 1, \"colorscale\": \"Portland\", \"color\": [66, 123, 82, 7, 22, 21, 20, 31, 10, 11, 4], \"colorbar\": {\"title\": \"Number of Features\"}, \"sizemode\": \"diameter\", \"showscale\": true, \"size\": 25}, \"mode\": \"markers\", \"y\": [3.046506992841471e-05, 5.809693837487072e-07, 2.893258962882921e-05, 5.827533829880469e-07, 1.1791950723364101e-07, 3.1663926074554096e-06, 3.333850018870617e-05, 1.2919695695763695e-05, 6.406837136360741e-06, 2.4815728657172775e-06, 1.5236608687869815e-06], \"x\": [\"chemical_major_allele\", \"chemical_substitution\", \"conservation_genome\", \"go_terms\", \"pfam\", \"population\", \"selection\", \"spider\", \"sub_matrix\", \"sub_predictor\", \"whole_domain_conservation\"], \"type\": \"scatter\"}], {\"autosize\": true, \"title\": \"Logistic: rna\", \"showlegend\": false, \"hovermode\": \"closest\", \"yaxis\": {\"ticklen\": 5, \"gridwidth\": 2, \"title\": \"Feature Importance\"}}, {\"linkText\": \"Export to plot.ly\", \"showLink\": true})});</script>"
      ]
     },
     "metadata": {},
     "output_type": "display_data"
    },
    {
     "data": {
      "application/vnd.plotly.v1+json": {
       "data": [
        {
         "marker": {
          "color": [
           66,
           123,
           82,
           7,
           22,
           21,
           20,
           31,
           10,
           11,
           4
          ],
          "colorbar": {
           "title": "Number of Features"
          },
          "colorscale": "Portland",
          "showscale": true,
          "size": 25,
          "sizemode": "diameter",
          "sizeref": 1
         },
         "mode": "markers",
         "text": [
          "chemical_major_allele",
          "chemical_substitution",
          "conservation_genome",
          "go_terms",
          "pfam",
          "population",
          "selection",
          "spider",
          "sub_matrix",
          "sub_predictor",
          "whole_domain_conservation"
         ],
         "type": "scatter",
         "x": [
          "chemical_major_allele",
          "chemical_substitution",
          "conservation_genome",
          "go_terms",
          "pfam",
          "population",
          "selection",
          "spider",
          "sub_matrix",
          "sub_predictor",
          "whole_domain_conservation"
         ],
         "y": [
          0.0015757575757575758,
          0.0007886178861788618,
          0.0019756097560975614,
          0.0015714285714285713,
          0.007636363636363638,
          0.0007619047619047619,
          0.0035000000000000005,
          0.005419354838709678,
          0.0016,
          0.0018181818181818182,
          0.041999999999999996
         ]
        }
       ],
       "layout": {
        "autosize": true,
        "hovermode": "closest",
        "showlegend": false,
        "title": "ADA: rna",
        "yaxis": {
         "gridwidth": 2,
         "ticklen": 5,
         "title": "Feature Importance"
        }
       }
      },
      "text/html": [
       "<div id=\"7d9159ec-5d0e-4cfa-a690-cc95188b96b3\" style=\"height: 525px; width: 100%;\" class=\"plotly-graph-div\"></div><script type=\"text/javascript\">require([\"plotly\"], function(Plotly) { window.PLOTLYENV=window.PLOTLYENV || {};window.PLOTLYENV.BASE_URL=\"https://plot.ly\";Plotly.newPlot(\"7d9159ec-5d0e-4cfa-a690-cc95188b96b3\", [{\"text\": [\"chemical_major_allele\", \"chemical_substitution\", \"conservation_genome\", \"go_terms\", \"pfam\", \"population\", \"selection\", \"spider\", \"sub_matrix\", \"sub_predictor\", \"whole_domain_conservation\"], \"marker\": {\"sizeref\": 1, \"colorscale\": \"Portland\", \"color\": [66, 123, 82, 7, 22, 21, 20, 31, 10, 11, 4], \"colorbar\": {\"title\": \"Number of Features\"}, \"sizemode\": \"diameter\", \"showscale\": true, \"size\": 25}, \"mode\": \"markers\", \"y\": [0.0015757575757575758, 0.0007886178861788618, 0.0019756097560975614, 0.0015714285714285713, 0.007636363636363638, 0.0007619047619047619, 0.0035000000000000005, 0.005419354838709678, 0.0016, 0.0018181818181818182, 0.041999999999999996], \"x\": [\"chemical_major_allele\", \"chemical_substitution\", \"conservation_genome\", \"go_terms\", \"pfam\", \"population\", \"selection\", \"spider\", \"sub_matrix\", \"sub_predictor\", \"whole_domain_conservation\"], \"type\": \"scatter\"}], {\"autosize\": true, \"title\": \"ADA: rna\", \"showlegend\": false, \"hovermode\": \"closest\", \"yaxis\": {\"ticklen\": 5, \"gridwidth\": 2, \"title\": \"Feature Importance\"}}, {\"linkText\": \"Export to plot.ly\", \"showLink\": true})});</script>"
      ],
      "text/vnd.plotly.v1+html": [
       "<div id=\"7d9159ec-5d0e-4cfa-a690-cc95188b96b3\" style=\"height: 525px; width: 100%;\" class=\"plotly-graph-div\"></div><script type=\"text/javascript\">require([\"plotly\"], function(Plotly) { window.PLOTLYENV=window.PLOTLYENV || {};window.PLOTLYENV.BASE_URL=\"https://plot.ly\";Plotly.newPlot(\"7d9159ec-5d0e-4cfa-a690-cc95188b96b3\", [{\"text\": [\"chemical_major_allele\", \"chemical_substitution\", \"conservation_genome\", \"go_terms\", \"pfam\", \"population\", \"selection\", \"spider\", \"sub_matrix\", \"sub_predictor\", \"whole_domain_conservation\"], \"marker\": {\"sizeref\": 1, \"colorscale\": \"Portland\", \"color\": [66, 123, 82, 7, 22, 21, 20, 31, 10, 11, 4], \"colorbar\": {\"title\": \"Number of Features\"}, \"sizemode\": \"diameter\", \"showscale\": true, \"size\": 25}, \"mode\": \"markers\", \"y\": [0.0015757575757575758, 0.0007886178861788618, 0.0019756097560975614, 0.0015714285714285713, 0.007636363636363638, 0.0007619047619047619, 0.0035000000000000005, 0.005419354838709678, 0.0016, 0.0018181818181818182, 0.041999999999999996], \"x\": [\"chemical_major_allele\", \"chemical_substitution\", \"conservation_genome\", \"go_terms\", \"pfam\", \"population\", \"selection\", \"spider\", \"sub_matrix\", \"sub_predictor\", \"whole_domain_conservation\"], \"type\": \"scatter\"}], {\"autosize\": true, \"title\": \"ADA: rna\", \"showlegend\": false, \"hovermode\": \"closest\", \"yaxis\": {\"ticklen\": 5, \"gridwidth\": 2, \"title\": \"Feature Importance\"}}, {\"linkText\": \"Export to plot.ly\", \"showLink\": true})});</script>"
      ]
     },
     "metadata": {},
     "output_type": "display_data"
    },
    {
     "data": {
      "application/vnd.plotly.v1+json": {
       "data": [
        {
         "marker": {
          "color": [
           66,
           123,
           82,
           7,
           22,
           21,
           20,
           31,
           10,
           11,
           4
          ],
          "colorbar": {
           "title": "Number of Features"
          },
          "colorscale": "Portland",
          "showscale": true
         },
         "text": [
          "chemical_major_allele",
          "chemical_substitution",
          "conservation_genome",
          "go_terms",
          "pfam",
          "population",
          "selection",
          "spider",
          "sub_matrix",
          "sub_predictor",
          "whole_domain_conservation"
         ],
         "type": "bar",
         "width": 0.5,
         "x": [
          "chemical_major_allele",
          "chemical_substitution",
          "conservation_genome",
          "go_terms",
          "pfam",
          "population",
          "selection",
          "spider",
          "sub_matrix",
          "sub_predictor",
          "whole_domain_conservation"
         ],
         "y": [
          0.001653631226209946,
          0.0007049547815021073,
          0.002402983046311463,
          0.002398621196956859,
          0.006511106681942346,
          0.0010558508252125922,
          0.0037526423649613338,
          0.005267425796511328,
          0.0018076904516694775,
          0.0015071130183354625,
          0.03797513222891358
         ]
        }
       ],
       "layout": {
        "autosize": true,
        "hovermode": "closest",
        "showlegend": false,
        "title": "Avg: rna",
        "yaxis": {
         "gridwidth": 2,
         "ticklen": 5,
         "title": "Average Feature Importances"
        }
       }
      },
      "text/html": [
       "<div id=\"f5c1ba21-6170-4994-8d82-21e231e57e09\" style=\"height: 525px; width: 100%;\" class=\"plotly-graph-div\"></div><script type=\"text/javascript\">require([\"plotly\"], function(Plotly) { window.PLOTLYENV=window.PLOTLYENV || {};window.PLOTLYENV.BASE_URL=\"https://plot.ly\";Plotly.newPlot(\"f5c1ba21-6170-4994-8d82-21e231e57e09\", [{\"y\": [0.001653631226209946, 0.0007049547815021073, 0.002402983046311463, 0.002398621196956859, 0.006511106681942346, 0.0010558508252125922, 0.0037526423649613338, 0.005267425796511328, 0.0018076904516694775, 0.0015071130183354625, 0.03797513222891358], \"text\": [\"chemical_major_allele\", \"chemical_substitution\", \"conservation_genome\", \"go_terms\", \"pfam\", \"population\", \"selection\", \"spider\", \"sub_matrix\", \"sub_predictor\", \"whole_domain_conservation\"], \"width\": 0.5, \"marker\": {\"colorbar\": {\"title\": \"Number of Features\"}, \"color\": [66, 123, 82, 7, 22, 21, 20, 31, 10, 11, 4], \"showscale\": true, \"colorscale\": \"Portland\"}, \"x\": [\"chemical_major_allele\", \"chemical_substitution\", \"conservation_genome\", \"go_terms\", \"pfam\", \"population\", \"selection\", \"spider\", \"sub_matrix\", \"sub_predictor\", \"whole_domain_conservation\"], \"type\": \"bar\"}], {\"autosize\": true, \"title\": \"Avg: rna\", \"showlegend\": false, \"hovermode\": \"closest\", \"yaxis\": {\"ticklen\": 5, \"gridwidth\": 2, \"title\": \"Average Feature Importances\"}}, {\"linkText\": \"Export to plot.ly\", \"showLink\": true})});</script>"
      ],
      "text/vnd.plotly.v1+html": [
       "<div id=\"f5c1ba21-6170-4994-8d82-21e231e57e09\" style=\"height: 525px; width: 100%;\" class=\"plotly-graph-div\"></div><script type=\"text/javascript\">require([\"plotly\"], function(Plotly) { window.PLOTLYENV=window.PLOTLYENV || {};window.PLOTLYENV.BASE_URL=\"https://plot.ly\";Plotly.newPlot(\"f5c1ba21-6170-4994-8d82-21e231e57e09\", [{\"y\": [0.001653631226209946, 0.0007049547815021073, 0.002402983046311463, 0.002398621196956859, 0.006511106681942346, 0.0010558508252125922, 0.0037526423649613338, 0.005267425796511328, 0.0018076904516694775, 0.0015071130183354625, 0.03797513222891358], \"text\": [\"chemical_major_allele\", \"chemical_substitution\", \"conservation_genome\", \"go_terms\", \"pfam\", \"population\", \"selection\", \"spider\", \"sub_matrix\", \"sub_predictor\", \"whole_domain_conservation\"], \"width\": 0.5, \"marker\": {\"colorbar\": {\"title\": \"Number of Features\"}, \"color\": [66, 123, 82, 7, 22, 21, 20, 31, 10, 11, 4], \"showscale\": true, \"colorscale\": \"Portland\"}, \"x\": [\"chemical_major_allele\", \"chemical_substitution\", \"conservation_genome\", \"go_terms\", \"pfam\", \"population\", \"selection\", \"spider\", \"sub_matrix\", \"sub_predictor\", \"whole_domain_conservation\"], \"type\": \"bar\"}], {\"autosize\": true, \"title\": \"Avg: rna\", \"showlegend\": false, \"hovermode\": \"closest\", \"yaxis\": {\"ticklen\": 5, \"gridwidth\": 2, \"title\": \"Average Feature Importances\"}}, {\"linkText\": \"Export to plot.ly\", \"showLink\": true})});</script>"
      ]
     },
     "metadata": {},
     "output_type": "display_data"
    },
    {
     "data": {
      "application/vnd.plotly.v1+json": {
       "data": [
        {
         "marker": {
          "color": [
           66,
           123,
           82,
           7,
           22,
           21,
           20,
           31,
           10,
           11,
           4
          ],
          "colorbar": {
           "title": "Number of Features"
          },
          "colorscale": "Portland",
          "showscale": true,
          "size": 25,
          "sizemode": "diameter",
          "sizeref": 1
         },
         "mode": "markers",
         "text": [
          "chemical_major_allele",
          "chemical_substitution",
          "conservation_genome",
          "go_terms",
          "pfam",
          "population",
          "selection",
          "spider",
          "sub_matrix",
          "sub_predictor",
          "whole_domain_conservation"
         ],
         "type": "scatter",
         "x": [
          "chemical_major_allele",
          "chemical_substitution",
          "conservation_genome",
          "go_terms",
          "pfam",
          "population",
          "selection",
          "spider",
          "sub_matrix",
          "sub_predictor",
          "whole_domain_conservation"
         ],
         "y": [
          0.0020299078504380677,
          0.0008201033755176513,
          0.002471064640730762,
          0.004927676165860017,
          0.004707763890031586,
          0.0014566869878829068,
          0.00439512826762338,
          0.005023879760174029,
          0.002022913328718892,
          0.0013900889906042176,
          0.028677037638385007
         ]
        }
       ],
       "layout": {
        "autosize": true,
        "hovermode": "closest",
        "showlegend": false,
        "title": "RF: rnabase",
        "yaxis": {
         "gridwidth": 2,
         "ticklen": 5,
         "title": "Feature Importance"
        }
       }
      },
      "text/html": [
       "<div id=\"6f2f9f41-b301-4b32-96fd-6d3eb77a51aa\" style=\"height: 525px; width: 100%;\" class=\"plotly-graph-div\"></div><script type=\"text/javascript\">require([\"plotly\"], function(Plotly) { window.PLOTLYENV=window.PLOTLYENV || {};window.PLOTLYENV.BASE_URL=\"https://plot.ly\";Plotly.newPlot(\"6f2f9f41-b301-4b32-96fd-6d3eb77a51aa\", [{\"text\": [\"chemical_major_allele\", \"chemical_substitution\", \"conservation_genome\", \"go_terms\", \"pfam\", \"population\", \"selection\", \"spider\", \"sub_matrix\", \"sub_predictor\", \"whole_domain_conservation\"], \"marker\": {\"sizeref\": 1, \"colorscale\": \"Portland\", \"color\": [66, 123, 82, 7, 22, 21, 20, 31, 10, 11, 4], \"colorbar\": {\"title\": \"Number of Features\"}, \"sizemode\": \"diameter\", \"showscale\": true, \"size\": 25}, \"mode\": \"markers\", \"y\": [0.0020299078504380677, 0.0008201033755176513, 0.002471064640730762, 0.004927676165860017, 0.004707763890031586, 0.0014566869878829068, 0.00439512826762338, 0.005023879760174029, 0.002022913328718892, 0.0013900889906042176, 0.028677037638385007], \"x\": [\"chemical_major_allele\", \"chemical_substitution\", \"conservation_genome\", \"go_terms\", \"pfam\", \"population\", \"selection\", \"spider\", \"sub_matrix\", \"sub_predictor\", \"whole_domain_conservation\"], \"type\": \"scatter\"}], {\"autosize\": true, \"title\": \"RF: rnabase\", \"showlegend\": false, \"hovermode\": \"closest\", \"yaxis\": {\"ticklen\": 5, \"gridwidth\": 2, \"title\": \"Feature Importance\"}}, {\"linkText\": \"Export to plot.ly\", \"showLink\": true})});</script>"
      ],
      "text/vnd.plotly.v1+html": [
       "<div id=\"6f2f9f41-b301-4b32-96fd-6d3eb77a51aa\" style=\"height: 525px; width: 100%;\" class=\"plotly-graph-div\"></div><script type=\"text/javascript\">require([\"plotly\"], function(Plotly) { window.PLOTLYENV=window.PLOTLYENV || {};window.PLOTLYENV.BASE_URL=\"https://plot.ly\";Plotly.newPlot(\"6f2f9f41-b301-4b32-96fd-6d3eb77a51aa\", [{\"text\": [\"chemical_major_allele\", \"chemical_substitution\", \"conservation_genome\", \"go_terms\", \"pfam\", \"population\", \"selection\", \"spider\", \"sub_matrix\", \"sub_predictor\", \"whole_domain_conservation\"], \"marker\": {\"sizeref\": 1, \"colorscale\": \"Portland\", \"color\": [66, 123, 82, 7, 22, 21, 20, 31, 10, 11, 4], \"colorbar\": {\"title\": \"Number of Features\"}, \"sizemode\": \"diameter\", \"showscale\": true, \"size\": 25}, \"mode\": \"markers\", \"y\": [0.0020299078504380677, 0.0008201033755176513, 0.002471064640730762, 0.004927676165860017, 0.004707763890031586, 0.0014566869878829068, 0.00439512826762338, 0.005023879760174029, 0.002022913328718892, 0.0013900889906042176, 0.028677037638385007], \"x\": [\"chemical_major_allele\", \"chemical_substitution\", \"conservation_genome\", \"go_terms\", \"pfam\", \"population\", \"selection\", \"spider\", \"sub_matrix\", \"sub_predictor\", \"whole_domain_conservation\"], \"type\": \"scatter\"}], {\"autosize\": true, \"title\": \"RF: rnabase\", \"showlegend\": false, \"hovermode\": \"closest\", \"yaxis\": {\"ticklen\": 5, \"gridwidth\": 2, \"title\": \"Feature Importance\"}}, {\"linkText\": \"Export to plot.ly\", \"showLink\": true})});</script>"
      ]
     },
     "metadata": {},
     "output_type": "display_data"
    },
    {
     "data": {
      "application/vnd.plotly.v1+json": {
       "data": [
        {
         "marker": {
          "color": [
           66,
           123,
           82,
           7,
           22,
           21,
           20,
           31,
           10,
           11,
           4
          ],
          "colorbar": {
           "title": "Number of Features"
          },
          "colorscale": "Portland",
          "showscale": true,
          "size": 25,
          "sizemode": "diameter",
          "sizeref": 1
         },
         "mode": "markers",
         "text": [
          "chemical_major_allele",
          "chemical_substitution",
          "conservation_genome",
          "go_terms",
          "pfam",
          "population",
          "selection",
          "spider",
          "sub_matrix",
          "sub_predictor",
          "whole_domain_conservation"
         ],
         "type": "scatter",
         "x": [
          "chemical_major_allele",
          "chemical_substitution",
          "conservation_genome",
          "go_terms",
          "pfam",
          "population",
          "selection",
          "spider",
          "sub_matrix",
          "sub_predictor",
          "whole_domain_conservation"
         ],
         "y": [
          0.0019739882554858923,
          0.0006553660496138036,
          0.001863364945165813,
          0.0026143791619688272,
          0.006278471555560827,
          0.0015561780892312527,
          0.003914306405931711,
          0.00600651279091835,
          0.0019607844296842813,
          0.0014128211187198758,
          0.036891791969537735
         ]
        }
       ],
       "layout": {
        "autosize": true,
        "hovermode": "closest",
        "showlegend": false,
        "title": "XGB: rnabase",
        "yaxis": {
         "gridwidth": 2,
         "ticklen": 5,
         "title": "Feature Importance"
        }
       }
      },
      "text/html": [
       "<div id=\"8e64799f-d318-4ec1-8728-66a74bfcbeca\" style=\"height: 525px; width: 100%;\" class=\"plotly-graph-div\"></div><script type=\"text/javascript\">require([\"plotly\"], function(Plotly) { window.PLOTLYENV=window.PLOTLYENV || {};window.PLOTLYENV.BASE_URL=\"https://plot.ly\";Plotly.newPlot(\"8e64799f-d318-4ec1-8728-66a74bfcbeca\", [{\"text\": [\"chemical_major_allele\", \"chemical_substitution\", \"conservation_genome\", \"go_terms\", \"pfam\", \"population\", \"selection\", \"spider\", \"sub_matrix\", \"sub_predictor\", \"whole_domain_conservation\"], \"marker\": {\"sizeref\": 1, \"colorscale\": \"Portland\", \"color\": [66, 123, 82, 7, 22, 21, 20, 31, 10, 11, 4], \"colorbar\": {\"title\": \"Number of Features\"}, \"sizemode\": \"diameter\", \"showscale\": true, \"size\": 25}, \"mode\": \"markers\", \"y\": [0.0019739882554858923, 0.0006553660496138036, 0.001863364945165813, 0.0026143791619688272, 0.006278471555560827, 0.0015561780892312527, 0.003914306405931711, 0.00600651279091835, 0.0019607844296842813, 0.0014128211187198758, 0.036891791969537735], \"x\": [\"chemical_major_allele\", \"chemical_substitution\", \"conservation_genome\", \"go_terms\", \"pfam\", \"population\", \"selection\", \"spider\", \"sub_matrix\", \"sub_predictor\", \"whole_domain_conservation\"], \"type\": \"scatter\"}], {\"autosize\": true, \"title\": \"XGB: rnabase\", \"showlegend\": false, \"hovermode\": \"closest\", \"yaxis\": {\"ticklen\": 5, \"gridwidth\": 2, \"title\": \"Feature Importance\"}}, {\"linkText\": \"Export to plot.ly\", \"showLink\": true})});</script>"
      ],
      "text/vnd.plotly.v1+html": [
       "<div id=\"8e64799f-d318-4ec1-8728-66a74bfcbeca\" style=\"height: 525px; width: 100%;\" class=\"plotly-graph-div\"></div><script type=\"text/javascript\">require([\"plotly\"], function(Plotly) { window.PLOTLYENV=window.PLOTLYENV || {};window.PLOTLYENV.BASE_URL=\"https://plot.ly\";Plotly.newPlot(\"8e64799f-d318-4ec1-8728-66a74bfcbeca\", [{\"text\": [\"chemical_major_allele\", \"chemical_substitution\", \"conservation_genome\", \"go_terms\", \"pfam\", \"population\", \"selection\", \"spider\", \"sub_matrix\", \"sub_predictor\", \"whole_domain_conservation\"], \"marker\": {\"sizeref\": 1, \"colorscale\": \"Portland\", \"color\": [66, 123, 82, 7, 22, 21, 20, 31, 10, 11, 4], \"colorbar\": {\"title\": \"Number of Features\"}, \"sizemode\": \"diameter\", \"showscale\": true, \"size\": 25}, \"mode\": \"markers\", \"y\": [0.0019739882554858923, 0.0006553660496138036, 0.001863364945165813, 0.0026143791619688272, 0.006278471555560827, 0.0015561780892312527, 0.003914306405931711, 0.00600651279091835, 0.0019607844296842813, 0.0014128211187198758, 0.036891791969537735], \"x\": [\"chemical_major_allele\", \"chemical_substitution\", \"conservation_genome\", \"go_terms\", \"pfam\", \"population\", \"selection\", \"spider\", \"sub_matrix\", \"sub_predictor\", \"whole_domain_conservation\"], \"type\": \"scatter\"}], {\"autosize\": true, \"title\": \"XGB: rnabase\", \"showlegend\": false, \"hovermode\": \"closest\", \"yaxis\": {\"ticklen\": 5, \"gridwidth\": 2, \"title\": \"Feature Importance\"}}, {\"linkText\": \"Export to plot.ly\", \"showLink\": true})});</script>"
      ]
     },
     "metadata": {},
     "output_type": "display_data"
    },
    {
     "data": {
      "application/vnd.plotly.v1+json": {
       "data": [
        {
         "marker": {
          "color": [
           66,
           123,
           82,
           7,
           22,
           21,
           20,
           31,
           10,
           11,
           4
          ],
          "colorbar": {
           "title": "Number of Features"
          },
          "colorscale": "Portland",
          "showscale": true,
          "size": 25,
          "sizemode": "diameter",
          "sizeref": 1
         },
         "mode": "markers",
         "text": [
          "chemical_major_allele",
          "chemical_substitution",
          "conservation_genome",
          "go_terms",
          "pfam",
          "population",
          "selection",
          "spider",
          "sub_matrix",
          "sub_predictor",
          "whole_domain_conservation"
         ],
         "type": "scatter",
         "x": [
          "chemical_major_allele",
          "chemical_substitution",
          "conservation_genome",
          "go_terms",
          "pfam",
          "population",
          "selection",
          "spider",
          "sub_matrix",
          "sub_predictor",
          "whole_domain_conservation"
         ],
         "y": [
          1.655835245533451e-06,
          2.0435186056761864e-06,
          3.7115615536934506e-06,
          8.460713481849886e-07,
          1.918005029603782e-07,
          2.5483361830865854e-05,
          2.4587059912282526e-05,
          1.8019719202833527e-05,
          3.6962003228508934e-05,
          3.075625049323496e-05,
          2.2280717170041544e-07
         ]
        }
       ],
       "layout": {
        "autosize": true,
        "hovermode": "closest",
        "showlegend": false,
        "title": "Logistic: rnabase",
        "yaxis": {
         "gridwidth": 2,
         "ticklen": 5,
         "title": "Feature Importance"
        }
       }
      },
      "text/html": [
       "<div id=\"5cbcbe6e-ad31-47e6-a56b-70ce5b903705\" style=\"height: 525px; width: 100%;\" class=\"plotly-graph-div\"></div><script type=\"text/javascript\">require([\"plotly\"], function(Plotly) { window.PLOTLYENV=window.PLOTLYENV || {};window.PLOTLYENV.BASE_URL=\"https://plot.ly\";Plotly.newPlot(\"5cbcbe6e-ad31-47e6-a56b-70ce5b903705\", [{\"text\": [\"chemical_major_allele\", \"chemical_substitution\", \"conservation_genome\", \"go_terms\", \"pfam\", \"population\", \"selection\", \"spider\", \"sub_matrix\", \"sub_predictor\", \"whole_domain_conservation\"], \"marker\": {\"sizeref\": 1, \"colorscale\": \"Portland\", \"color\": [66, 123, 82, 7, 22, 21, 20, 31, 10, 11, 4], \"colorbar\": {\"title\": \"Number of Features\"}, \"sizemode\": \"diameter\", \"showscale\": true, \"size\": 25}, \"mode\": \"markers\", \"y\": [1.655835245533451e-06, 2.0435186056761864e-06, 3.7115615536934506e-06, 8.460713481849886e-07, 1.918005029603782e-07, 2.5483361830865854e-05, 2.4587059912282526e-05, 1.8019719202833527e-05, 3.6962003228508934e-05, 3.075625049323496e-05, 2.2280717170041544e-07], \"x\": [\"chemical_major_allele\", \"chemical_substitution\", \"conservation_genome\", \"go_terms\", \"pfam\", \"population\", \"selection\", \"spider\", \"sub_matrix\", \"sub_predictor\", \"whole_domain_conservation\"], \"type\": \"scatter\"}], {\"autosize\": true, \"title\": \"Logistic: rnabase\", \"showlegend\": false, \"hovermode\": \"closest\", \"yaxis\": {\"ticklen\": 5, \"gridwidth\": 2, \"title\": \"Feature Importance\"}}, {\"linkText\": \"Export to plot.ly\", \"showLink\": true})});</script>"
      ],
      "text/vnd.plotly.v1+html": [
       "<div id=\"5cbcbe6e-ad31-47e6-a56b-70ce5b903705\" style=\"height: 525px; width: 100%;\" class=\"plotly-graph-div\"></div><script type=\"text/javascript\">require([\"plotly\"], function(Plotly) { window.PLOTLYENV=window.PLOTLYENV || {};window.PLOTLYENV.BASE_URL=\"https://plot.ly\";Plotly.newPlot(\"5cbcbe6e-ad31-47e6-a56b-70ce5b903705\", [{\"text\": [\"chemical_major_allele\", \"chemical_substitution\", \"conservation_genome\", \"go_terms\", \"pfam\", \"population\", \"selection\", \"spider\", \"sub_matrix\", \"sub_predictor\", \"whole_domain_conservation\"], \"marker\": {\"sizeref\": 1, \"colorscale\": \"Portland\", \"color\": [66, 123, 82, 7, 22, 21, 20, 31, 10, 11, 4], \"colorbar\": {\"title\": \"Number of Features\"}, \"sizemode\": \"diameter\", \"showscale\": true, \"size\": 25}, \"mode\": \"markers\", \"y\": [1.655835245533451e-06, 2.0435186056761864e-06, 3.7115615536934506e-06, 8.460713481849886e-07, 1.918005029603782e-07, 2.5483361830865854e-05, 2.4587059912282526e-05, 1.8019719202833527e-05, 3.6962003228508934e-05, 3.075625049323496e-05, 2.2280717170041544e-07], \"x\": [\"chemical_major_allele\", \"chemical_substitution\", \"conservation_genome\", \"go_terms\", \"pfam\", \"population\", \"selection\", \"spider\", \"sub_matrix\", \"sub_predictor\", \"whole_domain_conservation\"], \"type\": \"scatter\"}], {\"autosize\": true, \"title\": \"Logistic: rnabase\", \"showlegend\": false, \"hovermode\": \"closest\", \"yaxis\": {\"ticklen\": 5, \"gridwidth\": 2, \"title\": \"Feature Importance\"}}, {\"linkText\": \"Export to plot.ly\", \"showLink\": true})});</script>"
      ]
     },
     "metadata": {},
     "output_type": "display_data"
    },
    {
     "data": {
      "application/vnd.plotly.v1+json": {
       "data": [
        {
         "marker": {
          "color": [
           66,
           123,
           82,
           7,
           22,
           21,
           20,
           31,
           10,
           11,
           4
          ],
          "colorbar": {
           "title": "Number of Features"
          },
          "colorscale": "Portland",
          "showscale": true,
          "size": 25,
          "sizemode": "diameter",
          "sizeref": 1
         },
         "mode": "markers",
         "text": [
          "chemical_major_allele",
          "chemical_substitution",
          "conservation_genome",
          "go_terms",
          "pfam",
          "population",
          "selection",
          "spider",
          "sub_matrix",
          "sub_predictor",
          "whole_domain_conservation"
         ],
         "type": "scatter",
         "x": [
          "chemical_major_allele",
          "chemical_substitution",
          "conservation_genome",
          "go_terms",
          "pfam",
          "population",
          "selection",
          "spider",
          "sub_matrix",
          "sub_predictor",
          "whole_domain_conservation"
         ],
         "y": [
          0.0019393939393939398,
          0.000894308943089431,
          0.0017682926829268295,
          0.004000000000000001,
          0.006454545454545455,
          0.0003333333333333333,
          0.004050000000000001,
          0.005516129032258066,
          0.0014000000000000002,
          0.0015454545454545456,
          0.03925
         ]
        }
       ],
       "layout": {
        "autosize": true,
        "hovermode": "closest",
        "showlegend": false,
        "title": "ADA: rnabase",
        "yaxis": {
         "gridwidth": 2,
         "ticklen": 5,
         "title": "Feature Importance"
        }
       }
      },
      "text/html": [
       "<div id=\"f2705f46-a57e-4a0a-a6f2-bdd785d5470b\" style=\"height: 525px; width: 100%;\" class=\"plotly-graph-div\"></div><script type=\"text/javascript\">require([\"plotly\"], function(Plotly) { window.PLOTLYENV=window.PLOTLYENV || {};window.PLOTLYENV.BASE_URL=\"https://plot.ly\";Plotly.newPlot(\"f2705f46-a57e-4a0a-a6f2-bdd785d5470b\", [{\"text\": [\"chemical_major_allele\", \"chemical_substitution\", \"conservation_genome\", \"go_terms\", \"pfam\", \"population\", \"selection\", \"spider\", \"sub_matrix\", \"sub_predictor\", \"whole_domain_conservation\"], \"marker\": {\"sizeref\": 1, \"colorscale\": \"Portland\", \"color\": [66, 123, 82, 7, 22, 21, 20, 31, 10, 11, 4], \"colorbar\": {\"title\": \"Number of Features\"}, \"sizemode\": \"diameter\", \"showscale\": true, \"size\": 25}, \"mode\": \"markers\", \"y\": [0.0019393939393939398, 0.000894308943089431, 0.0017682926829268295, 0.004000000000000001, 0.006454545454545455, 0.0003333333333333333, 0.004050000000000001, 0.005516129032258066, 0.0014000000000000002, 0.0015454545454545456, 0.03925], \"x\": [\"chemical_major_allele\", \"chemical_substitution\", \"conservation_genome\", \"go_terms\", \"pfam\", \"population\", \"selection\", \"spider\", \"sub_matrix\", \"sub_predictor\", \"whole_domain_conservation\"], \"type\": \"scatter\"}], {\"autosize\": true, \"title\": \"ADA: rnabase\", \"showlegend\": false, \"hovermode\": \"closest\", \"yaxis\": {\"ticklen\": 5, \"gridwidth\": 2, \"title\": \"Feature Importance\"}}, {\"linkText\": \"Export to plot.ly\", \"showLink\": true})});</script>"
      ],
      "text/vnd.plotly.v1+html": [
       "<div id=\"f2705f46-a57e-4a0a-a6f2-bdd785d5470b\" style=\"height: 525px; width: 100%;\" class=\"plotly-graph-div\"></div><script type=\"text/javascript\">require([\"plotly\"], function(Plotly) { window.PLOTLYENV=window.PLOTLYENV || {};window.PLOTLYENV.BASE_URL=\"https://plot.ly\";Plotly.newPlot(\"f2705f46-a57e-4a0a-a6f2-bdd785d5470b\", [{\"text\": [\"chemical_major_allele\", \"chemical_substitution\", \"conservation_genome\", \"go_terms\", \"pfam\", \"population\", \"selection\", \"spider\", \"sub_matrix\", \"sub_predictor\", \"whole_domain_conservation\"], \"marker\": {\"sizeref\": 1, \"colorscale\": \"Portland\", \"color\": [66, 123, 82, 7, 22, 21, 20, 31, 10, 11, 4], \"colorbar\": {\"title\": \"Number of Features\"}, \"sizemode\": \"diameter\", \"showscale\": true, \"size\": 25}, \"mode\": \"markers\", \"y\": [0.0019393939393939398, 0.000894308943089431, 0.0017682926829268295, 0.004000000000000001, 0.006454545454545455, 0.0003333333333333333, 0.004050000000000001, 0.005516129032258066, 0.0014000000000000002, 0.0015454545454545456, 0.03925], \"x\": [\"chemical_major_allele\", \"chemical_substitution\", \"conservation_genome\", \"go_terms\", \"pfam\", \"population\", \"selection\", \"spider\", \"sub_matrix\", \"sub_predictor\", \"whole_domain_conservation\"], \"type\": \"scatter\"}], {\"autosize\": true, \"title\": \"ADA: rnabase\", \"showlegend\": false, \"hovermode\": \"closest\", \"yaxis\": {\"ticklen\": 5, \"gridwidth\": 2, \"title\": \"Feature Importance\"}}, {\"linkText\": \"Export to plot.ly\", \"showLink\": true})});</script>"
      ]
     },
     "metadata": {},
     "output_type": "display_data"
    },
    {
     "data": {
      "application/vnd.plotly.v1+json": {
       "data": [
        {
         "marker": {
          "color": [
           66,
           123,
           82,
           7,
           22,
           21,
           20,
           31,
           10,
           11,
           4
          ],
          "colorbar": {
           "title": "Number of Features"
          },
          "colorscale": "Portland",
          "showscale": true
         },
         "text": [
          "chemical_major_allele",
          "chemical_substitution",
          "conservation_genome",
          "go_terms",
          "pfam",
          "population",
          "selection",
          "spider",
          "sub_matrix",
          "sub_predictor",
          "whole_domain_conservation"
         ],
         "type": "bar",
         "width": 0.5,
         "x": [
          "chemical_major_allele",
          "chemical_substitution",
          "conservation_genome",
          "go_terms",
          "pfam",
          "population",
          "selection",
          "spider",
          "sub_matrix",
          "sub_predictor",
          "whole_domain_conservation"
         ],
         "y": [
          0.0019810966817726335,
          0.0007899261227402953,
          0.002034240756274468,
          0.003847351775942949,
          0.00581359363337929,
          0.0011153994701491644,
          0.004119811557851697,
          0.005515507194450149,
          0.0017945659194677245,
          0.0014494548849262132,
          0.03493960986930758
         ]
        }
       ],
       "layout": {
        "autosize": true,
        "hovermode": "closest",
        "showlegend": false,
        "title": "Avg: rnabase",
        "yaxis": {
         "gridwidth": 2,
         "ticklen": 5,
         "title": "Average Feature Importances"
        }
       }
      },
      "text/html": [
       "<div id=\"14e27e6b-d44b-4306-ae03-3faaada75226\" style=\"height: 525px; width: 100%;\" class=\"plotly-graph-div\"></div><script type=\"text/javascript\">require([\"plotly\"], function(Plotly) { window.PLOTLYENV=window.PLOTLYENV || {};window.PLOTLYENV.BASE_URL=\"https://plot.ly\";Plotly.newPlot(\"14e27e6b-d44b-4306-ae03-3faaada75226\", [{\"y\": [0.0019810966817726335, 0.0007899261227402953, 0.002034240756274468, 0.003847351775942949, 0.00581359363337929, 0.0011153994701491644, 0.004119811557851697, 0.005515507194450149, 0.0017945659194677245, 0.0014494548849262132, 0.03493960986930758], \"text\": [\"chemical_major_allele\", \"chemical_substitution\", \"conservation_genome\", \"go_terms\", \"pfam\", \"population\", \"selection\", \"spider\", \"sub_matrix\", \"sub_predictor\", \"whole_domain_conservation\"], \"width\": 0.5, \"marker\": {\"colorbar\": {\"title\": \"Number of Features\"}, \"color\": [66, 123, 82, 7, 22, 21, 20, 31, 10, 11, 4], \"showscale\": true, \"colorscale\": \"Portland\"}, \"x\": [\"chemical_major_allele\", \"chemical_substitution\", \"conservation_genome\", \"go_terms\", \"pfam\", \"population\", \"selection\", \"spider\", \"sub_matrix\", \"sub_predictor\", \"whole_domain_conservation\"], \"type\": \"bar\"}], {\"autosize\": true, \"title\": \"Avg: rnabase\", \"showlegend\": false, \"hovermode\": \"closest\", \"yaxis\": {\"ticklen\": 5, \"gridwidth\": 2, \"title\": \"Average Feature Importances\"}}, {\"linkText\": \"Export to plot.ly\", \"showLink\": true})});</script>"
      ],
      "text/vnd.plotly.v1+html": [
       "<div id=\"14e27e6b-d44b-4306-ae03-3faaada75226\" style=\"height: 525px; width: 100%;\" class=\"plotly-graph-div\"></div><script type=\"text/javascript\">require([\"plotly\"], function(Plotly) { window.PLOTLYENV=window.PLOTLYENV || {};window.PLOTLYENV.BASE_URL=\"https://plot.ly\";Plotly.newPlot(\"14e27e6b-d44b-4306-ae03-3faaada75226\", [{\"y\": [0.0019810966817726335, 0.0007899261227402953, 0.002034240756274468, 0.003847351775942949, 0.00581359363337929, 0.0011153994701491644, 0.004119811557851697, 0.005515507194450149, 0.0017945659194677245, 0.0014494548849262132, 0.03493960986930758], \"text\": [\"chemical_major_allele\", \"chemical_substitution\", \"conservation_genome\", \"go_terms\", \"pfam\", \"population\", \"selection\", \"spider\", \"sub_matrix\", \"sub_predictor\", \"whole_domain_conservation\"], \"width\": 0.5, \"marker\": {\"colorbar\": {\"title\": \"Number of Features\"}, \"color\": [66, 123, 82, 7, 22, 21, 20, 31, 10, 11, 4], \"showscale\": true, \"colorscale\": \"Portland\"}, \"x\": [\"chemical_major_allele\", \"chemical_substitution\", \"conservation_genome\", \"go_terms\", \"pfam\", \"population\", \"selection\", \"spider\", \"sub_matrix\", \"sub_predictor\", \"whole_domain_conservation\"], \"type\": \"bar\"}], {\"autosize\": true, \"title\": \"Avg: rnabase\", \"showlegend\": false, \"hovermode\": \"closest\", \"yaxis\": {\"ticklen\": 5, \"gridwidth\": 2, \"title\": \"Average Feature Importances\"}}, {\"linkText\": \"Export to plot.ly\", \"showLink\": true})});</script>"
      ]
     },
     "metadata": {},
     "output_type": "display_data"
    },
    {
     "data": {
      "application/vnd.plotly.v1+json": {
       "data": [
        {
         "marker": {
          "color": [
           66,
           123,
           82,
           7,
           22,
           21,
           20,
           31,
           10,
           11,
           4
          ],
          "colorbar": {
           "title": "Number of Features"
          },
          "colorscale": "Portland",
          "showscale": true,
          "size": 25,
          "sizemode": "diameter",
          "sizeref": 1
         },
         "mode": "markers",
         "text": [
          "chemical_major_allele",
          "chemical_substitution",
          "conservation_genome",
          "go_terms",
          "pfam",
          "population",
          "selection",
          "spider",
          "sub_matrix",
          "sub_predictor",
          "whole_domain_conservation"
         ],
         "type": "scatter",
         "x": [
          "chemical_major_allele",
          "chemical_substitution",
          "conservation_genome",
          "go_terms",
          "pfam",
          "population",
          "selection",
          "spider",
          "sub_matrix",
          "sub_predictor",
          "whole_domain_conservation"
         ],
         "y": [
          0.002196349803493533,
          0.0007472040099952402,
          0.002827649002647631,
          0.0031628551511348546,
          0.005326706141753338,
          0.0015360565168775343,
          0.004312691330696629,
          0.004006120413669231,
          0.0018971737528401876,
          0.0013720714117252768,
          0.028793702749225547
         ]
        }
       ],
       "layout": {
        "autosize": true,
        "hovermode": "closest",
        "showlegend": false,
        "title": "RF: rnabackbone",
        "yaxis": {
         "gridwidth": 2,
         "ticklen": 5,
         "title": "Feature Importance"
        }
       }
      },
      "text/html": [
       "<div id=\"60b31dc6-b062-408f-aa15-d4604dd670d2\" style=\"height: 525px; width: 100%;\" class=\"plotly-graph-div\"></div><script type=\"text/javascript\">require([\"plotly\"], function(Plotly) { window.PLOTLYENV=window.PLOTLYENV || {};window.PLOTLYENV.BASE_URL=\"https://plot.ly\";Plotly.newPlot(\"60b31dc6-b062-408f-aa15-d4604dd670d2\", [{\"text\": [\"chemical_major_allele\", \"chemical_substitution\", \"conservation_genome\", \"go_terms\", \"pfam\", \"population\", \"selection\", \"spider\", \"sub_matrix\", \"sub_predictor\", \"whole_domain_conservation\"], \"marker\": {\"sizeref\": 1, \"colorscale\": \"Portland\", \"color\": [66, 123, 82, 7, 22, 21, 20, 31, 10, 11, 4], \"colorbar\": {\"title\": \"Number of Features\"}, \"sizemode\": \"diameter\", \"showscale\": true, \"size\": 25}, \"mode\": \"markers\", \"y\": [0.002196349803493533, 0.0007472040099952402, 0.002827649002647631, 0.0031628551511348546, 0.005326706141753338, 0.0015360565168775343, 0.004312691330696629, 0.004006120413669231, 0.0018971737528401876, 0.0013720714117252768, 0.028793702749225547], \"x\": [\"chemical_major_allele\", \"chemical_substitution\", \"conservation_genome\", \"go_terms\", \"pfam\", \"population\", \"selection\", \"spider\", \"sub_matrix\", \"sub_predictor\", \"whole_domain_conservation\"], \"type\": \"scatter\"}], {\"autosize\": true, \"title\": \"RF: rnabackbone\", \"showlegend\": false, \"hovermode\": \"closest\", \"yaxis\": {\"ticklen\": 5, \"gridwidth\": 2, \"title\": \"Feature Importance\"}}, {\"linkText\": \"Export to plot.ly\", \"showLink\": true})});</script>"
      ],
      "text/vnd.plotly.v1+html": [
       "<div id=\"60b31dc6-b062-408f-aa15-d4604dd670d2\" style=\"height: 525px; width: 100%;\" class=\"plotly-graph-div\"></div><script type=\"text/javascript\">require([\"plotly\"], function(Plotly) { window.PLOTLYENV=window.PLOTLYENV || {};window.PLOTLYENV.BASE_URL=\"https://plot.ly\";Plotly.newPlot(\"60b31dc6-b062-408f-aa15-d4604dd670d2\", [{\"text\": [\"chemical_major_allele\", \"chemical_substitution\", \"conservation_genome\", \"go_terms\", \"pfam\", \"population\", \"selection\", \"spider\", \"sub_matrix\", \"sub_predictor\", \"whole_domain_conservation\"], \"marker\": {\"sizeref\": 1, \"colorscale\": \"Portland\", \"color\": [66, 123, 82, 7, 22, 21, 20, 31, 10, 11, 4], \"colorbar\": {\"title\": \"Number of Features\"}, \"sizemode\": \"diameter\", \"showscale\": true, \"size\": 25}, \"mode\": \"markers\", \"y\": [0.002196349803493533, 0.0007472040099952402, 0.002827649002647631, 0.0031628551511348546, 0.005326706141753338, 0.0015360565168775343, 0.004312691330696629, 0.004006120413669231, 0.0018971737528401876, 0.0013720714117252768, 0.028793702749225547], \"x\": [\"chemical_major_allele\", \"chemical_substitution\", \"conservation_genome\", \"go_terms\", \"pfam\", \"population\", \"selection\", \"spider\", \"sub_matrix\", \"sub_predictor\", \"whole_domain_conservation\"], \"type\": \"scatter\"}], {\"autosize\": true, \"title\": \"RF: rnabackbone\", \"showlegend\": false, \"hovermode\": \"closest\", \"yaxis\": {\"ticklen\": 5, \"gridwidth\": 2, \"title\": \"Feature Importance\"}}, {\"linkText\": \"Export to plot.ly\", \"showLink\": true})});</script>"
      ]
     },
     "metadata": {},
     "output_type": "display_data"
    },
    {
     "data": {
      "application/vnd.plotly.v1+json": {
       "data": [
        {
         "marker": {
          "color": [
           66,
           123,
           82,
           7,
           22,
           21,
           20,
           31,
           10,
           11,
           4
          ],
          "colorbar": {
           "title": "Number of Features"
          },
          "colorscale": "Portland",
          "showscale": true,
          "size": 25,
          "sizemode": "diameter",
          "sizeref": 1
         },
         "mode": "markers",
         "text": [
          "chemical_major_allele",
          "chemical_substitution",
          "conservation_genome",
          "go_terms",
          "pfam",
          "population",
          "selection",
          "spider",
          "sub_matrix",
          "sub_predictor",
          "whole_domain_conservation"
         ],
         "type": "scatter",
         "x": [
          "chemical_major_allele",
          "chemical_substitution",
          "conservation_genome",
          "go_terms",
          "pfam",
          "population",
          "selection",
          "spider",
          "sub_matrix",
          "sub_predictor",
          "whole_domain_conservation"
         ],
         "y": [
          0.0016735438257455826,
          0.0006987708620727062,
          0.0019255455117672682,
          0.001258881064131856,
          0.006842324510216713,
          0.0012703777756541967,
          0.0034886528737843037,
          0.006576999556273222,
          0.0020521485712379217,
          0.0010754576651379466,
          0.03841743245720863
         ]
        }
       ],
       "layout": {
        "autosize": true,
        "hovermode": "closest",
        "showlegend": false,
        "title": "XGB: rnabackbone",
        "yaxis": {
         "gridwidth": 2,
         "ticklen": 5,
         "title": "Feature Importance"
        }
       }
      },
      "text/html": [
       "<div id=\"079d77d3-211b-4a6a-b497-f0067beeb200\" style=\"height: 525px; width: 100%;\" class=\"plotly-graph-div\"></div><script type=\"text/javascript\">require([\"plotly\"], function(Plotly) { window.PLOTLYENV=window.PLOTLYENV || {};window.PLOTLYENV.BASE_URL=\"https://plot.ly\";Plotly.newPlot(\"079d77d3-211b-4a6a-b497-f0067beeb200\", [{\"text\": [\"chemical_major_allele\", \"chemical_substitution\", \"conservation_genome\", \"go_terms\", \"pfam\", \"population\", \"selection\", \"spider\", \"sub_matrix\", \"sub_predictor\", \"whole_domain_conservation\"], \"marker\": {\"sizeref\": 1, \"colorscale\": \"Portland\", \"color\": [66, 123, 82, 7, 22, 21, 20, 31, 10, 11, 4], \"colorbar\": {\"title\": \"Number of Features\"}, \"sizemode\": \"diameter\", \"showscale\": true, \"size\": 25}, \"mode\": \"markers\", \"y\": [0.0016735438257455826, 0.0006987708620727062, 0.0019255455117672682, 0.001258881064131856, 0.006842324510216713, 0.0012703777756541967, 0.0034886528737843037, 0.006576999556273222, 0.0020521485712379217, 0.0010754576651379466, 0.03841743245720863], \"x\": [\"chemical_major_allele\", \"chemical_substitution\", \"conservation_genome\", \"go_terms\", \"pfam\", \"population\", \"selection\", \"spider\", \"sub_matrix\", \"sub_predictor\", \"whole_domain_conservation\"], \"type\": \"scatter\"}], {\"autosize\": true, \"title\": \"XGB: rnabackbone\", \"showlegend\": false, \"hovermode\": \"closest\", \"yaxis\": {\"ticklen\": 5, \"gridwidth\": 2, \"title\": \"Feature Importance\"}}, {\"linkText\": \"Export to plot.ly\", \"showLink\": true})});</script>"
      ],
      "text/vnd.plotly.v1+html": [
       "<div id=\"079d77d3-211b-4a6a-b497-f0067beeb200\" style=\"height: 525px; width: 100%;\" class=\"plotly-graph-div\"></div><script type=\"text/javascript\">require([\"plotly\"], function(Plotly) { window.PLOTLYENV=window.PLOTLYENV || {};window.PLOTLYENV.BASE_URL=\"https://plot.ly\";Plotly.newPlot(\"079d77d3-211b-4a6a-b497-f0067beeb200\", [{\"text\": [\"chemical_major_allele\", \"chemical_substitution\", \"conservation_genome\", \"go_terms\", \"pfam\", \"population\", \"selection\", \"spider\", \"sub_matrix\", \"sub_predictor\", \"whole_domain_conservation\"], \"marker\": {\"sizeref\": 1, \"colorscale\": \"Portland\", \"color\": [66, 123, 82, 7, 22, 21, 20, 31, 10, 11, 4], \"colorbar\": {\"title\": \"Number of Features\"}, \"sizemode\": \"diameter\", \"showscale\": true, \"size\": 25}, \"mode\": \"markers\", \"y\": [0.0016735438257455826, 0.0006987708620727062, 0.0019255455117672682, 0.001258881064131856, 0.006842324510216713, 0.0012703777756541967, 0.0034886528737843037, 0.006576999556273222, 0.0020521485712379217, 0.0010754576651379466, 0.03841743245720863], \"x\": [\"chemical_major_allele\", \"chemical_substitution\", \"conservation_genome\", \"go_terms\", \"pfam\", \"population\", \"selection\", \"spider\", \"sub_matrix\", \"sub_predictor\", \"whole_domain_conservation\"], \"type\": \"scatter\"}], {\"autosize\": true, \"title\": \"XGB: rnabackbone\", \"showlegend\": false, \"hovermode\": \"closest\", \"yaxis\": {\"ticklen\": 5, \"gridwidth\": 2, \"title\": \"Feature Importance\"}}, {\"linkText\": \"Export to plot.ly\", \"showLink\": true})});</script>"
      ]
     },
     "metadata": {},
     "output_type": "display_data"
    },
    {
     "data": {
      "application/vnd.plotly.v1+json": {
       "data": [
        {
         "marker": {
          "color": [
           66,
           123,
           82,
           7,
           22,
           21,
           20,
           31,
           10,
           11,
           4
          ],
          "colorbar": {
           "title": "Number of Features"
          },
          "colorscale": "Portland",
          "showscale": true,
          "size": 25,
          "sizemode": "diameter",
          "sizeref": 1
         },
         "mode": "markers",
         "text": [
          "chemical_major_allele",
          "chemical_substitution",
          "conservation_genome",
          "go_terms",
          "pfam",
          "population",
          "selection",
          "spider",
          "sub_matrix",
          "sub_predictor",
          "whole_domain_conservation"
         ],
         "type": "scatter",
         "x": [
          "chemical_major_allele",
          "chemical_substitution",
          "conservation_genome",
          "go_terms",
          "pfam",
          "population",
          "selection",
          "spider",
          "sub_matrix",
          "sub_predictor",
          "whole_domain_conservation"
         ],
         "y": [
          6.157346131768843e-06,
          4.087828340129769e-07,
          6.273521298662533e-06,
          3.483832833667319e-07,
          8.24861190326953e-08,
          5.479306630551961e-06,
          3.085841224976835e-05,
          6.3634704352208805e-06,
          7.798073159664608e-06,
          5.54720640158222e-06,
          5.880668970035512e-07
         ]
        }
       ],
       "layout": {
        "autosize": true,
        "hovermode": "closest",
        "showlegend": false,
        "title": "Logistic: rnabackbone",
        "yaxis": {
         "gridwidth": 2,
         "ticklen": 5,
         "title": "Feature Importance"
        }
       }
      },
      "text/html": [
       "<div id=\"eabcee7d-b51b-45c1-9aef-c724a27a2e00\" style=\"height: 525px; width: 100%;\" class=\"plotly-graph-div\"></div><script type=\"text/javascript\">require([\"plotly\"], function(Plotly) { window.PLOTLYENV=window.PLOTLYENV || {};window.PLOTLYENV.BASE_URL=\"https://plot.ly\";Plotly.newPlot(\"eabcee7d-b51b-45c1-9aef-c724a27a2e00\", [{\"text\": [\"chemical_major_allele\", \"chemical_substitution\", \"conservation_genome\", \"go_terms\", \"pfam\", \"population\", \"selection\", \"spider\", \"sub_matrix\", \"sub_predictor\", \"whole_domain_conservation\"], \"marker\": {\"sizeref\": 1, \"colorscale\": \"Portland\", \"color\": [66, 123, 82, 7, 22, 21, 20, 31, 10, 11, 4], \"colorbar\": {\"title\": \"Number of Features\"}, \"sizemode\": \"diameter\", \"showscale\": true, \"size\": 25}, \"mode\": \"markers\", \"y\": [6.157346131768843e-06, 4.087828340129769e-07, 6.273521298662533e-06, 3.483832833667319e-07, 8.24861190326953e-08, 5.479306630551961e-06, 3.085841224976835e-05, 6.3634704352208805e-06, 7.798073159664608e-06, 5.54720640158222e-06, 5.880668970035512e-07], \"x\": [\"chemical_major_allele\", \"chemical_substitution\", \"conservation_genome\", \"go_terms\", \"pfam\", \"population\", \"selection\", \"spider\", \"sub_matrix\", \"sub_predictor\", \"whole_domain_conservation\"], \"type\": \"scatter\"}], {\"autosize\": true, \"title\": \"Logistic: rnabackbone\", \"showlegend\": false, \"hovermode\": \"closest\", \"yaxis\": {\"ticklen\": 5, \"gridwidth\": 2, \"title\": \"Feature Importance\"}}, {\"linkText\": \"Export to plot.ly\", \"showLink\": true})});</script>"
      ],
      "text/vnd.plotly.v1+html": [
       "<div id=\"eabcee7d-b51b-45c1-9aef-c724a27a2e00\" style=\"height: 525px; width: 100%;\" class=\"plotly-graph-div\"></div><script type=\"text/javascript\">require([\"plotly\"], function(Plotly) { window.PLOTLYENV=window.PLOTLYENV || {};window.PLOTLYENV.BASE_URL=\"https://plot.ly\";Plotly.newPlot(\"eabcee7d-b51b-45c1-9aef-c724a27a2e00\", [{\"text\": [\"chemical_major_allele\", \"chemical_substitution\", \"conservation_genome\", \"go_terms\", \"pfam\", \"population\", \"selection\", \"spider\", \"sub_matrix\", \"sub_predictor\", \"whole_domain_conservation\"], \"marker\": {\"sizeref\": 1, \"colorscale\": \"Portland\", \"color\": [66, 123, 82, 7, 22, 21, 20, 31, 10, 11, 4], \"colorbar\": {\"title\": \"Number of Features\"}, \"sizemode\": \"diameter\", \"showscale\": true, \"size\": 25}, \"mode\": \"markers\", \"y\": [6.157346131768843e-06, 4.087828340129769e-07, 6.273521298662533e-06, 3.483832833667319e-07, 8.24861190326953e-08, 5.479306630551961e-06, 3.085841224976835e-05, 6.3634704352208805e-06, 7.798073159664608e-06, 5.54720640158222e-06, 5.880668970035512e-07], \"x\": [\"chemical_major_allele\", \"chemical_substitution\", \"conservation_genome\", \"go_terms\", \"pfam\", \"population\", \"selection\", \"spider\", \"sub_matrix\", \"sub_predictor\", \"whole_domain_conservation\"], \"type\": \"scatter\"}], {\"autosize\": true, \"title\": \"Logistic: rnabackbone\", \"showlegend\": false, \"hovermode\": \"closest\", \"yaxis\": {\"ticklen\": 5, \"gridwidth\": 2, \"title\": \"Feature Importance\"}}, {\"linkText\": \"Export to plot.ly\", \"showLink\": true})});</script>"
      ]
     },
     "metadata": {},
     "output_type": "display_data"
    },
    {
     "data": {
      "application/vnd.plotly.v1+json": {
       "data": [
        {
         "marker": {
          "color": [
           66,
           123,
           82,
           7,
           22,
           21,
           20,
           31,
           10,
           11,
           4
          ],
          "colorbar": {
           "title": "Number of Features"
          },
          "colorscale": "Portland",
          "showscale": true,
          "size": 25,
          "sizemode": "diameter",
          "sizeref": 1
         },
         "mode": "markers",
         "text": [
          "chemical_major_allele",
          "chemical_substitution",
          "conservation_genome",
          "go_terms",
          "pfam",
          "population",
          "selection",
          "spider",
          "sub_matrix",
          "sub_predictor",
          "whole_domain_conservation"
         ],
         "type": "scatter",
         "x": [
          "chemical_major_allele",
          "chemical_substitution",
          "conservation_genome",
          "go_terms",
          "pfam",
          "population",
          "selection",
          "spider",
          "sub_matrix",
          "sub_predictor",
          "whole_domain_conservation"
         ],
         "y": [
          0.0017121212121212123,
          0.0007804878048780488,
          0.002158536585365854,
          0.0027142857142857147,
          0.006545454545454546,
          0.0006666666666666666,
          0.00335,
          0.006193548387096775,
          0.002,
          0.0014545454545454547,
          0.035500000000000004
         ]
        }
       ],
       "layout": {
        "autosize": true,
        "hovermode": "closest",
        "showlegend": false,
        "title": "ADA: rnabackbone",
        "yaxis": {
         "gridwidth": 2,
         "ticklen": 5,
         "title": "Feature Importance"
        }
       }
      },
      "text/html": [
       "<div id=\"ffb57b18-58c6-41be-bf87-6a71b6ce93ba\" style=\"height: 525px; width: 100%;\" class=\"plotly-graph-div\"></div><script type=\"text/javascript\">require([\"plotly\"], function(Plotly) { window.PLOTLYENV=window.PLOTLYENV || {};window.PLOTLYENV.BASE_URL=\"https://plot.ly\";Plotly.newPlot(\"ffb57b18-58c6-41be-bf87-6a71b6ce93ba\", [{\"text\": [\"chemical_major_allele\", \"chemical_substitution\", \"conservation_genome\", \"go_terms\", \"pfam\", \"population\", \"selection\", \"spider\", \"sub_matrix\", \"sub_predictor\", \"whole_domain_conservation\"], \"marker\": {\"sizeref\": 1, \"colorscale\": \"Portland\", \"color\": [66, 123, 82, 7, 22, 21, 20, 31, 10, 11, 4], \"colorbar\": {\"title\": \"Number of Features\"}, \"sizemode\": \"diameter\", \"showscale\": true, \"size\": 25}, \"mode\": \"markers\", \"y\": [0.0017121212121212123, 0.0007804878048780488, 0.002158536585365854, 0.0027142857142857147, 0.006545454545454546, 0.0006666666666666666, 0.00335, 0.006193548387096775, 0.002, 0.0014545454545454547, 0.035500000000000004], \"x\": [\"chemical_major_allele\", \"chemical_substitution\", \"conservation_genome\", \"go_terms\", \"pfam\", \"population\", \"selection\", \"spider\", \"sub_matrix\", \"sub_predictor\", \"whole_domain_conservation\"], \"type\": \"scatter\"}], {\"autosize\": true, \"title\": \"ADA: rnabackbone\", \"showlegend\": false, \"hovermode\": \"closest\", \"yaxis\": {\"ticklen\": 5, \"gridwidth\": 2, \"title\": \"Feature Importance\"}}, {\"linkText\": \"Export to plot.ly\", \"showLink\": true})});</script>"
      ],
      "text/vnd.plotly.v1+html": [
       "<div id=\"ffb57b18-58c6-41be-bf87-6a71b6ce93ba\" style=\"height: 525px; width: 100%;\" class=\"plotly-graph-div\"></div><script type=\"text/javascript\">require([\"plotly\"], function(Plotly) { window.PLOTLYENV=window.PLOTLYENV || {};window.PLOTLYENV.BASE_URL=\"https://plot.ly\";Plotly.newPlot(\"ffb57b18-58c6-41be-bf87-6a71b6ce93ba\", [{\"text\": [\"chemical_major_allele\", \"chemical_substitution\", \"conservation_genome\", \"go_terms\", \"pfam\", \"population\", \"selection\", \"spider\", \"sub_matrix\", \"sub_predictor\", \"whole_domain_conservation\"], \"marker\": {\"sizeref\": 1, \"colorscale\": \"Portland\", \"color\": [66, 123, 82, 7, 22, 21, 20, 31, 10, 11, 4], \"colorbar\": {\"title\": \"Number of Features\"}, \"sizemode\": \"diameter\", \"showscale\": true, \"size\": 25}, \"mode\": \"markers\", \"y\": [0.0017121212121212123, 0.0007804878048780488, 0.002158536585365854, 0.0027142857142857147, 0.006545454545454546, 0.0006666666666666666, 0.00335, 0.006193548387096775, 0.002, 0.0014545454545454547, 0.035500000000000004], \"x\": [\"chemical_major_allele\", \"chemical_substitution\", \"conservation_genome\", \"go_terms\", \"pfam\", \"population\", \"selection\", \"spider\", \"sub_matrix\", \"sub_predictor\", \"whole_domain_conservation\"], \"type\": \"scatter\"}], {\"autosize\": true, \"title\": \"ADA: rnabackbone\", \"showlegend\": false, \"hovermode\": \"closest\", \"yaxis\": {\"ticklen\": 5, \"gridwidth\": 2, \"title\": \"Feature Importance\"}}, {\"linkText\": \"Export to plot.ly\", \"showLink\": true})});</script>"
      ]
     },
     "metadata": {},
     "output_type": "display_data"
    },
    {
     "data": {
      "application/vnd.plotly.v1+json": {
       "data": [
        {
         "marker": {
          "color": [
           66,
           123,
           82,
           7,
           22,
           21,
           20,
           31,
           10,
           11,
           4
          ],
          "colorbar": {
           "title": "Number of Features"
          },
          "colorscale": "Portland",
          "showscale": true
         },
         "text": [
          "chemical_major_allele",
          "chemical_substitution",
          "conservation_genome",
          "go_terms",
          "pfam",
          "population",
          "selection",
          "spider",
          "sub_matrix",
          "sub_predictor",
          "whole_domain_conservation"
         ],
         "type": "bar",
         "width": 0.5,
         "x": [
          "chemical_major_allele",
          "chemical_substitution",
          "conservation_genome",
          "go_terms",
          "pfam",
          "population",
          "selection",
          "spider",
          "sub_matrix",
          "sub_predictor",
          "whole_domain_conservation"
         ],
         "y": [
          0.0018606716137867761,
          0.0007421542256486651,
          0.002303910366593584,
          0.0023786739765174754,
          0.006238161732474865,
          0.0011577003197327993,
          0.0037171147348269776,
          0.005592222785679742,
          0.00198310744135937,
          0.0013006915104695595,
          0.034237045068811395
         ]
        }
       ],
       "layout": {
        "autosize": true,
        "hovermode": "closest",
        "showlegend": false,
        "title": "Avg: rnabackbone",
        "yaxis": {
         "gridwidth": 2,
         "ticklen": 5,
         "title": "Average Feature Importances"
        }
       }
      },
      "text/html": [
       "<div id=\"4d873402-8301-47ee-b453-90d4d211cdaa\" style=\"height: 525px; width: 100%;\" class=\"plotly-graph-div\"></div><script type=\"text/javascript\">require([\"plotly\"], function(Plotly) { window.PLOTLYENV=window.PLOTLYENV || {};window.PLOTLYENV.BASE_URL=\"https://plot.ly\";Plotly.newPlot(\"4d873402-8301-47ee-b453-90d4d211cdaa\", [{\"y\": [0.0018606716137867761, 0.0007421542256486651, 0.002303910366593584, 0.0023786739765174754, 0.006238161732474865, 0.0011577003197327993, 0.0037171147348269776, 0.005592222785679742, 0.00198310744135937, 0.0013006915104695595, 0.034237045068811395], \"text\": [\"chemical_major_allele\", \"chemical_substitution\", \"conservation_genome\", \"go_terms\", \"pfam\", \"population\", \"selection\", \"spider\", \"sub_matrix\", \"sub_predictor\", \"whole_domain_conservation\"], \"width\": 0.5, \"marker\": {\"colorbar\": {\"title\": \"Number of Features\"}, \"color\": [66, 123, 82, 7, 22, 21, 20, 31, 10, 11, 4], \"showscale\": true, \"colorscale\": \"Portland\"}, \"x\": [\"chemical_major_allele\", \"chemical_substitution\", \"conservation_genome\", \"go_terms\", \"pfam\", \"population\", \"selection\", \"spider\", \"sub_matrix\", \"sub_predictor\", \"whole_domain_conservation\"], \"type\": \"bar\"}], {\"autosize\": true, \"title\": \"Avg: rnabackbone\", \"showlegend\": false, \"hovermode\": \"closest\", \"yaxis\": {\"ticklen\": 5, \"gridwidth\": 2, \"title\": \"Average Feature Importances\"}}, {\"linkText\": \"Export to plot.ly\", \"showLink\": true})});</script>"
      ],
      "text/vnd.plotly.v1+html": [
       "<div id=\"4d873402-8301-47ee-b453-90d4d211cdaa\" style=\"height: 525px; width: 100%;\" class=\"plotly-graph-div\"></div><script type=\"text/javascript\">require([\"plotly\"], function(Plotly) { window.PLOTLYENV=window.PLOTLYENV || {};window.PLOTLYENV.BASE_URL=\"https://plot.ly\";Plotly.newPlot(\"4d873402-8301-47ee-b453-90d4d211cdaa\", [{\"y\": [0.0018606716137867761, 0.0007421542256486651, 0.002303910366593584, 0.0023786739765174754, 0.006238161732474865, 0.0011577003197327993, 0.0037171147348269776, 0.005592222785679742, 0.00198310744135937, 0.0013006915104695595, 0.034237045068811395], \"text\": [\"chemical_major_allele\", \"chemical_substitution\", \"conservation_genome\", \"go_terms\", \"pfam\", \"population\", \"selection\", \"spider\", \"sub_matrix\", \"sub_predictor\", \"whole_domain_conservation\"], \"width\": 0.5, \"marker\": {\"colorbar\": {\"title\": \"Number of Features\"}, \"color\": [66, 123, 82, 7, 22, 21, 20, 31, 10, 11, 4], \"showscale\": true, \"colorscale\": \"Portland\"}, \"x\": [\"chemical_major_allele\", \"chemical_substitution\", \"conservation_genome\", \"go_terms\", \"pfam\", \"population\", \"selection\", \"spider\", \"sub_matrix\", \"sub_predictor\", \"whole_domain_conservation\"], \"type\": \"bar\"}], {\"autosize\": true, \"title\": \"Avg: rnabackbone\", \"showlegend\": false, \"hovermode\": \"closest\", \"yaxis\": {\"ticklen\": 5, \"gridwidth\": 2, \"title\": \"Average Feature Importances\"}}, {\"linkText\": \"Export to plot.ly\", \"showLink\": true})});</script>"
      ]
     },
     "metadata": {},
     "output_type": "display_data"
    },
    {
     "data": {
      "application/vnd.plotly.v1+json": {
       "data": [
        {
         "marker": {
          "color": [
           66,
           123,
           82,
           7,
           22,
           21,
           20,
           31,
           10,
           11,
           4
          ],
          "colorbar": {
           "title": "Number of Features"
          },
          "colorscale": "Portland",
          "showscale": true,
          "size": 25,
          "sizemode": "diameter",
          "sizeref": 1
         },
         "mode": "markers",
         "text": [
          "chemical_major_allele",
          "chemical_substitution",
          "conservation_genome",
          "go_terms",
          "pfam",
          "population",
          "selection",
          "spider",
          "sub_matrix",
          "sub_predictor",
          "whole_domain_conservation"
         ],
         "type": "scatter",
         "x": [
          "chemical_major_allele",
          "chemical_substitution",
          "conservation_genome",
          "go_terms",
          "pfam",
          "population",
          "selection",
          "spider",
          "sub_matrix",
          "sub_predictor",
          "whole_domain_conservation"
         ],
         "y": [
          0.002140594623400846,
          0.001159354770193146,
          0.002294217750281749,
          0.001673643336112938,
          0.004530456383703656,
          0.0016154951524509182,
          0.005661807247927761,
          0.0046864425248957986,
          0.0026559491418257975,
          0.0023406992372231043,
          0.017965068586226603
         ]
        }
       ],
       "layout": {
        "autosize": true,
        "hovermode": "closest",
        "showlegend": false,
        "title": "RF: peptide",
        "yaxis": {
         "gridwidth": 2,
         "ticklen": 5,
         "title": "Feature Importance"
        }
       }
      },
      "text/html": [
       "<div id=\"bee46588-6fc7-4b1c-b020-a337933de804\" style=\"height: 525px; width: 100%;\" class=\"plotly-graph-div\"></div><script type=\"text/javascript\">require([\"plotly\"], function(Plotly) { window.PLOTLYENV=window.PLOTLYENV || {};window.PLOTLYENV.BASE_URL=\"https://plot.ly\";Plotly.newPlot(\"bee46588-6fc7-4b1c-b020-a337933de804\", [{\"text\": [\"chemical_major_allele\", \"chemical_substitution\", \"conservation_genome\", \"go_terms\", \"pfam\", \"population\", \"selection\", \"spider\", \"sub_matrix\", \"sub_predictor\", \"whole_domain_conservation\"], \"marker\": {\"sizeref\": 1, \"colorscale\": \"Portland\", \"color\": [66, 123, 82, 7, 22, 21, 20, 31, 10, 11, 4], \"colorbar\": {\"title\": \"Number of Features\"}, \"sizemode\": \"diameter\", \"showscale\": true, \"size\": 25}, \"mode\": \"markers\", \"y\": [0.002140594623400846, 0.001159354770193146, 0.002294217750281749, 0.001673643336112938, 0.004530456383703656, 0.0016154951524509182, 0.005661807247927761, 0.0046864425248957986, 0.0026559491418257975, 0.0023406992372231043, 0.017965068586226603], \"x\": [\"chemical_major_allele\", \"chemical_substitution\", \"conservation_genome\", \"go_terms\", \"pfam\", \"population\", \"selection\", \"spider\", \"sub_matrix\", \"sub_predictor\", \"whole_domain_conservation\"], \"type\": \"scatter\"}], {\"autosize\": true, \"title\": \"RF: peptide\", \"showlegend\": false, \"hovermode\": \"closest\", \"yaxis\": {\"ticklen\": 5, \"gridwidth\": 2, \"title\": \"Feature Importance\"}}, {\"linkText\": \"Export to plot.ly\", \"showLink\": true})});</script>"
      ],
      "text/vnd.plotly.v1+html": [
       "<div id=\"bee46588-6fc7-4b1c-b020-a337933de804\" style=\"height: 525px; width: 100%;\" class=\"plotly-graph-div\"></div><script type=\"text/javascript\">require([\"plotly\"], function(Plotly) { window.PLOTLYENV=window.PLOTLYENV || {};window.PLOTLYENV.BASE_URL=\"https://plot.ly\";Plotly.newPlot(\"bee46588-6fc7-4b1c-b020-a337933de804\", [{\"text\": [\"chemical_major_allele\", \"chemical_substitution\", \"conservation_genome\", \"go_terms\", \"pfam\", \"population\", \"selection\", \"spider\", \"sub_matrix\", \"sub_predictor\", \"whole_domain_conservation\"], \"marker\": {\"sizeref\": 1, \"colorscale\": \"Portland\", \"color\": [66, 123, 82, 7, 22, 21, 20, 31, 10, 11, 4], \"colorbar\": {\"title\": \"Number of Features\"}, \"sizemode\": \"diameter\", \"showscale\": true, \"size\": 25}, \"mode\": \"markers\", \"y\": [0.002140594623400846, 0.001159354770193146, 0.002294217750281749, 0.001673643336112938, 0.004530456383703656, 0.0016154951524509182, 0.005661807247927761, 0.0046864425248957986, 0.0026559491418257975, 0.0023406992372231043, 0.017965068586226603], \"x\": [\"chemical_major_allele\", \"chemical_substitution\", \"conservation_genome\", \"go_terms\", \"pfam\", \"population\", \"selection\", \"spider\", \"sub_matrix\", \"sub_predictor\", \"whole_domain_conservation\"], \"type\": \"scatter\"}], {\"autosize\": true, \"title\": \"RF: peptide\", \"showlegend\": false, \"hovermode\": \"closest\", \"yaxis\": {\"ticklen\": 5, \"gridwidth\": 2, \"title\": \"Feature Importance\"}}, {\"linkText\": \"Export to plot.ly\", \"showLink\": true})});</script>"
      ]
     },
     "metadata": {},
     "output_type": "display_data"
    },
    {
     "data": {
      "application/vnd.plotly.v1+json": {
       "data": [
        {
         "marker": {
          "color": [
           66,
           123,
           82,
           7,
           22,
           21,
           20,
           31,
           10,
           11,
           4
          ],
          "colorbar": {
           "title": "Number of Features"
          },
          "colorscale": "Portland",
          "showscale": true,
          "size": 25,
          "sizemode": "diameter",
          "sizeref": 1
         },
         "mode": "markers",
         "text": [
          "chemical_major_allele",
          "chemical_substitution",
          "conservation_genome",
          "go_terms",
          "pfam",
          "population",
          "selection",
          "spider",
          "sub_matrix",
          "sub_predictor",
          "whole_domain_conservation"
         ],
         "type": "scatter",
         "x": [
          "chemical_major_allele",
          "chemical_substitution",
          "conservation_genome",
          "go_terms",
          "pfam",
          "population",
          "selection",
          "spider",
          "sub_matrix",
          "sub_predictor",
          "whole_domain_conservation"
         ],
         "y": [
          0.0018146195216104388,
          0.0012654493330046535,
          0.0016662782290950418,
          0.0016122598899528384,
          0.006002271082252264,
          0.0015800707042217255,
          0.004436444491147995,
          0.006100826896727085,
          0.0028714179061353207,
          0.0023645712062716484,
          0.019713446497917175
         ]
        }
       ],
       "layout": {
        "autosize": true,
        "hovermode": "closest",
        "showlegend": false,
        "title": "XGB: peptide",
        "yaxis": {
         "gridwidth": 2,
         "ticklen": 5,
         "title": "Feature Importance"
        }
       }
      },
      "text/html": [
       "<div id=\"46d5895e-bbce-4262-8917-30298bb96ce0\" style=\"height: 525px; width: 100%;\" class=\"plotly-graph-div\"></div><script type=\"text/javascript\">require([\"plotly\"], function(Plotly) { window.PLOTLYENV=window.PLOTLYENV || {};window.PLOTLYENV.BASE_URL=\"https://plot.ly\";Plotly.newPlot(\"46d5895e-bbce-4262-8917-30298bb96ce0\", [{\"text\": [\"chemical_major_allele\", \"chemical_substitution\", \"conservation_genome\", \"go_terms\", \"pfam\", \"population\", \"selection\", \"spider\", \"sub_matrix\", \"sub_predictor\", \"whole_domain_conservation\"], \"marker\": {\"sizeref\": 1, \"colorscale\": \"Portland\", \"color\": [66, 123, 82, 7, 22, 21, 20, 31, 10, 11, 4], \"colorbar\": {\"title\": \"Number of Features\"}, \"sizemode\": \"diameter\", \"showscale\": true, \"size\": 25}, \"mode\": \"markers\", \"y\": [0.0018146195216104388, 0.0012654493330046535, 0.0016662782290950418, 0.0016122598899528384, 0.006002271082252264, 0.0015800707042217255, 0.004436444491147995, 0.006100826896727085, 0.0028714179061353207, 0.0023645712062716484, 0.019713446497917175], \"x\": [\"chemical_major_allele\", \"chemical_substitution\", \"conservation_genome\", \"go_terms\", \"pfam\", \"population\", \"selection\", \"spider\", \"sub_matrix\", \"sub_predictor\", \"whole_domain_conservation\"], \"type\": \"scatter\"}], {\"autosize\": true, \"title\": \"XGB: peptide\", \"showlegend\": false, \"hovermode\": \"closest\", \"yaxis\": {\"ticklen\": 5, \"gridwidth\": 2, \"title\": \"Feature Importance\"}}, {\"linkText\": \"Export to plot.ly\", \"showLink\": true})});</script>"
      ],
      "text/vnd.plotly.v1+html": [
       "<div id=\"46d5895e-bbce-4262-8917-30298bb96ce0\" style=\"height: 525px; width: 100%;\" class=\"plotly-graph-div\"></div><script type=\"text/javascript\">require([\"plotly\"], function(Plotly) { window.PLOTLYENV=window.PLOTLYENV || {};window.PLOTLYENV.BASE_URL=\"https://plot.ly\";Plotly.newPlot(\"46d5895e-bbce-4262-8917-30298bb96ce0\", [{\"text\": [\"chemical_major_allele\", \"chemical_substitution\", \"conservation_genome\", \"go_terms\", \"pfam\", \"population\", \"selection\", \"spider\", \"sub_matrix\", \"sub_predictor\", \"whole_domain_conservation\"], \"marker\": {\"sizeref\": 1, \"colorscale\": \"Portland\", \"color\": [66, 123, 82, 7, 22, 21, 20, 31, 10, 11, 4], \"colorbar\": {\"title\": \"Number of Features\"}, \"sizemode\": \"diameter\", \"showscale\": true, \"size\": 25}, \"mode\": \"markers\", \"y\": [0.0018146195216104388, 0.0012654493330046535, 0.0016662782290950418, 0.0016122598899528384, 0.006002271082252264, 0.0015800707042217255, 0.004436444491147995, 0.006100826896727085, 0.0028714179061353207, 0.0023645712062716484, 0.019713446497917175], \"x\": [\"chemical_major_allele\", \"chemical_substitution\", \"conservation_genome\", \"go_terms\", \"pfam\", \"population\", \"selection\", \"spider\", \"sub_matrix\", \"sub_predictor\", \"whole_domain_conservation\"], \"type\": \"scatter\"}], {\"autosize\": true, \"title\": \"XGB: peptide\", \"showlegend\": false, \"hovermode\": \"closest\", \"yaxis\": {\"ticklen\": 5, \"gridwidth\": 2, \"title\": \"Feature Importance\"}}, {\"linkText\": \"Export to plot.ly\", \"showLink\": true})});</script>"
      ]
     },
     "metadata": {},
     "output_type": "display_data"
    },
    {
     "data": {
      "application/vnd.plotly.v1+json": {
       "data": [
        {
         "marker": {
          "color": [
           66,
           123,
           82,
           7,
           22,
           21,
           20,
           31,
           10,
           11,
           4
          ],
          "colorbar": {
           "title": "Number of Features"
          },
          "colorscale": "Portland",
          "showscale": true,
          "size": 25,
          "sizemode": "diameter",
          "sizeref": 1
         },
         "mode": "markers",
         "text": [
          "chemical_major_allele",
          "chemical_substitution",
          "conservation_genome",
          "go_terms",
          "pfam",
          "population",
          "selection",
          "spider",
          "sub_matrix",
          "sub_predictor",
          "whole_domain_conservation"
         ],
         "type": "scatter",
         "x": [
          "chemical_major_allele",
          "chemical_substitution",
          "conservation_genome",
          "go_terms",
          "pfam",
          "population",
          "selection",
          "spider",
          "sub_matrix",
          "sub_predictor",
          "whole_domain_conservation"
         ],
         "y": [
          7.947445044706306e-05,
          1.6126567623866856e-05,
          6.0205292219587595e-05,
          4.442376404837012e-06,
          1.4406074117900703e-06,
          1.4629143236820135e-05,
          3.0409786762241124e-05,
          0.00019388316014470525,
          1.2422138129097065e-05,
          2.551428004477492e-05,
          0.0001197027109520173
         ]
        }
       ],
       "layout": {
        "autosize": true,
        "hovermode": "closest",
        "showlegend": false,
        "title": "Logistic: peptide",
        "yaxis": {
         "gridwidth": 2,
         "ticklen": 5,
         "title": "Feature Importance"
        }
       }
      },
      "text/html": [
       "<div id=\"42b8bfe0-37e0-4886-b6cb-0830f9d7d916\" style=\"height: 525px; width: 100%;\" class=\"plotly-graph-div\"></div><script type=\"text/javascript\">require([\"plotly\"], function(Plotly) { window.PLOTLYENV=window.PLOTLYENV || {};window.PLOTLYENV.BASE_URL=\"https://plot.ly\";Plotly.newPlot(\"42b8bfe0-37e0-4886-b6cb-0830f9d7d916\", [{\"text\": [\"chemical_major_allele\", \"chemical_substitution\", \"conservation_genome\", \"go_terms\", \"pfam\", \"population\", \"selection\", \"spider\", \"sub_matrix\", \"sub_predictor\", \"whole_domain_conservation\"], \"marker\": {\"sizeref\": 1, \"colorscale\": \"Portland\", \"color\": [66, 123, 82, 7, 22, 21, 20, 31, 10, 11, 4], \"colorbar\": {\"title\": \"Number of Features\"}, \"sizemode\": \"diameter\", \"showscale\": true, \"size\": 25}, \"mode\": \"markers\", \"y\": [7.947445044706306e-05, 1.6126567623866856e-05, 6.0205292219587595e-05, 4.442376404837012e-06, 1.4406074117900703e-06, 1.4629143236820135e-05, 3.0409786762241124e-05, 0.00019388316014470525, 1.2422138129097065e-05, 2.551428004477492e-05, 0.0001197027109520173], \"x\": [\"chemical_major_allele\", \"chemical_substitution\", \"conservation_genome\", \"go_terms\", \"pfam\", \"population\", \"selection\", \"spider\", \"sub_matrix\", \"sub_predictor\", \"whole_domain_conservation\"], \"type\": \"scatter\"}], {\"autosize\": true, \"title\": \"Logistic: peptide\", \"showlegend\": false, \"hovermode\": \"closest\", \"yaxis\": {\"ticklen\": 5, \"gridwidth\": 2, \"title\": \"Feature Importance\"}}, {\"linkText\": \"Export to plot.ly\", \"showLink\": true})});</script>"
      ],
      "text/vnd.plotly.v1+html": [
       "<div id=\"42b8bfe0-37e0-4886-b6cb-0830f9d7d916\" style=\"height: 525px; width: 100%;\" class=\"plotly-graph-div\"></div><script type=\"text/javascript\">require([\"plotly\"], function(Plotly) { window.PLOTLYENV=window.PLOTLYENV || {};window.PLOTLYENV.BASE_URL=\"https://plot.ly\";Plotly.newPlot(\"42b8bfe0-37e0-4886-b6cb-0830f9d7d916\", [{\"text\": [\"chemical_major_allele\", \"chemical_substitution\", \"conservation_genome\", \"go_terms\", \"pfam\", \"population\", \"selection\", \"spider\", \"sub_matrix\", \"sub_predictor\", \"whole_domain_conservation\"], \"marker\": {\"sizeref\": 1, \"colorscale\": \"Portland\", \"color\": [66, 123, 82, 7, 22, 21, 20, 31, 10, 11, 4], \"colorbar\": {\"title\": \"Number of Features\"}, \"sizemode\": \"diameter\", \"showscale\": true, \"size\": 25}, \"mode\": \"markers\", \"y\": [7.947445044706306e-05, 1.6126567623866856e-05, 6.0205292219587595e-05, 4.442376404837012e-06, 1.4406074117900703e-06, 1.4629143236820135e-05, 3.0409786762241124e-05, 0.00019388316014470525, 1.2422138129097065e-05, 2.551428004477492e-05, 0.0001197027109520173], \"x\": [\"chemical_major_allele\", \"chemical_substitution\", \"conservation_genome\", \"go_terms\", \"pfam\", \"population\", \"selection\", \"spider\", \"sub_matrix\", \"sub_predictor\", \"whole_domain_conservation\"], \"type\": \"scatter\"}], {\"autosize\": true, \"title\": \"Logistic: peptide\", \"showlegend\": false, \"hovermode\": \"closest\", \"yaxis\": {\"ticklen\": 5, \"gridwidth\": 2, \"title\": \"Feature Importance\"}}, {\"linkText\": \"Export to plot.ly\", \"showLink\": true})});</script>"
      ]
     },
     "metadata": {},
     "output_type": "display_data"
    },
    {
     "data": {
      "application/vnd.plotly.v1+json": {
       "data": [
        {
         "marker": {
          "color": [
           66,
           123,
           82,
           7,
           22,
           21,
           20,
           31,
           10,
           11,
           4
          ],
          "colorbar": {
           "title": "Number of Features"
          },
          "colorscale": "Portland",
          "showscale": true,
          "size": 25,
          "sizemode": "diameter",
          "sizeref": 1
         },
         "mode": "markers",
         "text": [
          "chemical_major_allele",
          "chemical_substitution",
          "conservation_genome",
          "go_terms",
          "pfam",
          "population",
          "selection",
          "spider",
          "sub_matrix",
          "sub_predictor",
          "whole_domain_conservation"
         ],
         "type": "scatter",
         "x": [
          "chemical_major_allele",
          "chemical_substitution",
          "conservation_genome",
          "go_terms",
          "pfam",
          "population",
          "selection",
          "spider",
          "sub_matrix",
          "sub_predictor",
          "whole_domain_conservation"
         ],
         "y": [
          0.0016363636363636363,
          0.0013170731707317076,
          0.0017682926829268295,
          0.0012857142857142859,
          0.005136363636363637,
          0.0008095238095238096,
          0.0032,
          0.005838709677419357,
          0.0014000000000000002,
          0.0013636363636363637,
          0.043
         ]
        }
       ],
       "layout": {
        "autosize": true,
        "hovermode": "closest",
        "showlegend": false,
        "title": "ADA: peptide",
        "yaxis": {
         "gridwidth": 2,
         "ticklen": 5,
         "title": "Feature Importance"
        }
       }
      },
      "text/html": [
       "<div id=\"8e9e3c16-8af8-42c5-9244-944fc01a4023\" style=\"height: 525px; width: 100%;\" class=\"plotly-graph-div\"></div><script type=\"text/javascript\">require([\"plotly\"], function(Plotly) { window.PLOTLYENV=window.PLOTLYENV || {};window.PLOTLYENV.BASE_URL=\"https://plot.ly\";Plotly.newPlot(\"8e9e3c16-8af8-42c5-9244-944fc01a4023\", [{\"text\": [\"chemical_major_allele\", \"chemical_substitution\", \"conservation_genome\", \"go_terms\", \"pfam\", \"population\", \"selection\", \"spider\", \"sub_matrix\", \"sub_predictor\", \"whole_domain_conservation\"], \"marker\": {\"sizeref\": 1, \"colorscale\": \"Portland\", \"color\": [66, 123, 82, 7, 22, 21, 20, 31, 10, 11, 4], \"colorbar\": {\"title\": \"Number of Features\"}, \"sizemode\": \"diameter\", \"showscale\": true, \"size\": 25}, \"mode\": \"markers\", \"y\": [0.0016363636363636363, 0.0013170731707317076, 0.0017682926829268295, 0.0012857142857142859, 0.005136363636363637, 0.0008095238095238096, 0.0032, 0.005838709677419357, 0.0014000000000000002, 0.0013636363636363637, 0.043], \"x\": [\"chemical_major_allele\", \"chemical_substitution\", \"conservation_genome\", \"go_terms\", \"pfam\", \"population\", \"selection\", \"spider\", \"sub_matrix\", \"sub_predictor\", \"whole_domain_conservation\"], \"type\": \"scatter\"}], {\"autosize\": true, \"title\": \"ADA: peptide\", \"showlegend\": false, \"hovermode\": \"closest\", \"yaxis\": {\"ticklen\": 5, \"gridwidth\": 2, \"title\": \"Feature Importance\"}}, {\"linkText\": \"Export to plot.ly\", \"showLink\": true})});</script>"
      ],
      "text/vnd.plotly.v1+html": [
       "<div id=\"8e9e3c16-8af8-42c5-9244-944fc01a4023\" style=\"height: 525px; width: 100%;\" class=\"plotly-graph-div\"></div><script type=\"text/javascript\">require([\"plotly\"], function(Plotly) { window.PLOTLYENV=window.PLOTLYENV || {};window.PLOTLYENV.BASE_URL=\"https://plot.ly\";Plotly.newPlot(\"8e9e3c16-8af8-42c5-9244-944fc01a4023\", [{\"text\": [\"chemical_major_allele\", \"chemical_substitution\", \"conservation_genome\", \"go_terms\", \"pfam\", \"population\", \"selection\", \"spider\", \"sub_matrix\", \"sub_predictor\", \"whole_domain_conservation\"], \"marker\": {\"sizeref\": 1, \"colorscale\": \"Portland\", \"color\": [66, 123, 82, 7, 22, 21, 20, 31, 10, 11, 4], \"colorbar\": {\"title\": \"Number of Features\"}, \"sizemode\": \"diameter\", \"showscale\": true, \"size\": 25}, \"mode\": \"markers\", \"y\": [0.0016363636363636363, 0.0013170731707317076, 0.0017682926829268295, 0.0012857142857142859, 0.005136363636363637, 0.0008095238095238096, 0.0032, 0.005838709677419357, 0.0014000000000000002, 0.0013636363636363637, 0.043], \"x\": [\"chemical_major_allele\", \"chemical_substitution\", \"conservation_genome\", \"go_terms\", \"pfam\", \"population\", \"selection\", \"spider\", \"sub_matrix\", \"sub_predictor\", \"whole_domain_conservation\"], \"type\": \"scatter\"}], {\"autosize\": true, \"title\": \"ADA: peptide\", \"showlegend\": false, \"hovermode\": \"closest\", \"yaxis\": {\"ticklen\": 5, \"gridwidth\": 2, \"title\": \"Feature Importance\"}}, {\"linkText\": \"Export to plot.ly\", \"showLink\": true})});</script>"
      ]
     },
     "metadata": {},
     "output_type": "display_data"
    },
    {
     "data": {
      "application/vnd.plotly.v1+json": {
       "data": [
        {
         "marker": {
          "color": [
           66,
           123,
           82,
           7,
           22,
           21,
           20,
           31,
           10,
           11,
           4
          ],
          "colorbar": {
           "title": "Number of Features"
          },
          "colorscale": "Portland",
          "showscale": true
         },
         "text": [
          "chemical_major_allele",
          "chemical_substitution",
          "conservation_genome",
          "go_terms",
          "pfam",
          "population",
          "selection",
          "spider",
          "sub_matrix",
          "sub_predictor",
          "whole_domain_conservation"
         ],
         "type": "bar",
         "width": 0.5,
         "x": [
          "chemical_major_allele",
          "chemical_substitution",
          "conservation_genome",
          "go_terms",
          "pfam",
          "population",
          "selection",
          "spider",
          "sub_matrix",
          "sub_predictor",
          "whole_domain_conservation"
         ],
         "y": [
          0.0018638592604583069,
          0.001247292424643169,
          0.0019095962207678733,
          0.0015238725039266876,
          0.005223030367439853,
          0.001335029888732151,
          0.004432750579691919,
          0.0055419930330140805,
          0.002309122349320373,
          0.002022968935710372,
          0.02689283836138126
         ]
        }
       ],
       "layout": {
        "autosize": true,
        "hovermode": "closest",
        "showlegend": false,
        "title": "Avg: peptide",
        "yaxis": {
         "gridwidth": 2,
         "ticklen": 5,
         "title": "Average Feature Importances"
        }
       }
      },
      "text/html": [
       "<div id=\"3fa7f235-0108-4e1a-befd-b699ec85cd93\" style=\"height: 525px; width: 100%;\" class=\"plotly-graph-div\"></div><script type=\"text/javascript\">require([\"plotly\"], function(Plotly) { window.PLOTLYENV=window.PLOTLYENV || {};window.PLOTLYENV.BASE_URL=\"https://plot.ly\";Plotly.newPlot(\"3fa7f235-0108-4e1a-befd-b699ec85cd93\", [{\"y\": [0.0018638592604583069, 0.001247292424643169, 0.0019095962207678733, 0.0015238725039266876, 0.005223030367439853, 0.001335029888732151, 0.004432750579691919, 0.0055419930330140805, 0.002309122349320373, 0.002022968935710372, 0.02689283836138126], \"text\": [\"chemical_major_allele\", \"chemical_substitution\", \"conservation_genome\", \"go_terms\", \"pfam\", \"population\", \"selection\", \"spider\", \"sub_matrix\", \"sub_predictor\", \"whole_domain_conservation\"], \"width\": 0.5, \"marker\": {\"colorbar\": {\"title\": \"Number of Features\"}, \"color\": [66, 123, 82, 7, 22, 21, 20, 31, 10, 11, 4], \"showscale\": true, \"colorscale\": \"Portland\"}, \"x\": [\"chemical_major_allele\", \"chemical_substitution\", \"conservation_genome\", \"go_terms\", \"pfam\", \"population\", \"selection\", \"spider\", \"sub_matrix\", \"sub_predictor\", \"whole_domain_conservation\"], \"type\": \"bar\"}], {\"autosize\": true, \"title\": \"Avg: peptide\", \"showlegend\": false, \"hovermode\": \"closest\", \"yaxis\": {\"ticklen\": 5, \"gridwidth\": 2, \"title\": \"Average Feature Importances\"}}, {\"linkText\": \"Export to plot.ly\", \"showLink\": true})});</script>"
      ],
      "text/vnd.plotly.v1+html": [
       "<div id=\"3fa7f235-0108-4e1a-befd-b699ec85cd93\" style=\"height: 525px; width: 100%;\" class=\"plotly-graph-div\"></div><script type=\"text/javascript\">require([\"plotly\"], function(Plotly) { window.PLOTLYENV=window.PLOTLYENV || {};window.PLOTLYENV.BASE_URL=\"https://plot.ly\";Plotly.newPlot(\"3fa7f235-0108-4e1a-befd-b699ec85cd93\", [{\"y\": [0.0018638592604583069, 0.001247292424643169, 0.0019095962207678733, 0.0015238725039266876, 0.005223030367439853, 0.001335029888732151, 0.004432750579691919, 0.0055419930330140805, 0.002309122349320373, 0.002022968935710372, 0.02689283836138126], \"text\": [\"chemical_major_allele\", \"chemical_substitution\", \"conservation_genome\", \"go_terms\", \"pfam\", \"population\", \"selection\", \"spider\", \"sub_matrix\", \"sub_predictor\", \"whole_domain_conservation\"], \"width\": 0.5, \"marker\": {\"colorbar\": {\"title\": \"Number of Features\"}, \"color\": [66, 123, 82, 7, 22, 21, 20, 31, 10, 11, 4], \"showscale\": true, \"colorscale\": \"Portland\"}, \"x\": [\"chemical_major_allele\", \"chemical_substitution\", \"conservation_genome\", \"go_terms\", \"pfam\", \"population\", \"selection\", \"spider\", \"sub_matrix\", \"sub_predictor\", \"whole_domain_conservation\"], \"type\": \"bar\"}], {\"autosize\": true, \"title\": \"Avg: peptide\", \"showlegend\": false, \"hovermode\": \"closest\", \"yaxis\": {\"ticklen\": 5, \"gridwidth\": 2, \"title\": \"Average Feature Importances\"}}, {\"linkText\": \"Export to plot.ly\", \"showLink\": true})});</script>"
      ]
     },
     "metadata": {},
     "output_type": "display_data"
    },
    {
     "data": {
      "application/vnd.plotly.v1+json": {
       "data": [
        {
         "marker": {
          "color": [
           66,
           123,
           82,
           7,
           22,
           21,
           20,
           31,
           10,
           11,
           4
          ],
          "colorbar": {
           "title": "Number of Features"
          },
          "colorscale": "Portland",
          "showscale": true,
          "size": 25,
          "sizemode": "diameter",
          "sizeref": 1
         },
         "mode": "markers",
         "text": [
          "chemical_major_allele",
          "chemical_substitution",
          "conservation_genome",
          "go_terms",
          "pfam",
          "population",
          "selection",
          "spider",
          "sub_matrix",
          "sub_predictor",
          "whole_domain_conservation"
         ],
         "type": "scatter",
         "x": [
          "chemical_major_allele",
          "chemical_substitution",
          "conservation_genome",
          "go_terms",
          "pfam",
          "population",
          "selection",
          "spider",
          "sub_matrix",
          "sub_predictor",
          "whole_domain_conservation"
         ],
         "y": [
          0.00270450128951105,
          0.0012484199525529575,
          0.0016043061275085421,
          0.000488863008091852,
          0.007862020483387118,
          0.0013852297983787283,
          0.0046216768553806985,
          0.005042661299825864,
          0.002725011568213886,
          0.002518261883399559,
          0.006802701753423456
         ]
        }
       ],
       "layout": {
        "autosize": true,
        "hovermode": "closest",
        "showlegend": false,
        "title": "RF: ion",
        "yaxis": {
         "gridwidth": 2,
         "ticklen": 5,
         "title": "Feature Importance"
        }
       }
      },
      "text/html": [
       "<div id=\"ab87478d-3f9d-4ddf-a1c0-ef218085f973\" style=\"height: 525px; width: 100%;\" class=\"plotly-graph-div\"></div><script type=\"text/javascript\">require([\"plotly\"], function(Plotly) { window.PLOTLYENV=window.PLOTLYENV || {};window.PLOTLYENV.BASE_URL=\"https://plot.ly\";Plotly.newPlot(\"ab87478d-3f9d-4ddf-a1c0-ef218085f973\", [{\"text\": [\"chemical_major_allele\", \"chemical_substitution\", \"conservation_genome\", \"go_terms\", \"pfam\", \"population\", \"selection\", \"spider\", \"sub_matrix\", \"sub_predictor\", \"whole_domain_conservation\"], \"marker\": {\"sizeref\": 1, \"colorscale\": \"Portland\", \"color\": [66, 123, 82, 7, 22, 21, 20, 31, 10, 11, 4], \"colorbar\": {\"title\": \"Number of Features\"}, \"sizemode\": \"diameter\", \"showscale\": true, \"size\": 25}, \"mode\": \"markers\", \"y\": [0.00270450128951105, 0.0012484199525529575, 0.0016043061275085421, 0.000488863008091852, 0.007862020483387118, 0.0013852297983787283, 0.0046216768553806985, 0.005042661299825864, 0.002725011568213886, 0.002518261883399559, 0.006802701753423456], \"x\": [\"chemical_major_allele\", \"chemical_substitution\", \"conservation_genome\", \"go_terms\", \"pfam\", \"population\", \"selection\", \"spider\", \"sub_matrix\", \"sub_predictor\", \"whole_domain_conservation\"], \"type\": \"scatter\"}], {\"autosize\": true, \"title\": \"RF: ion\", \"showlegend\": false, \"hovermode\": \"closest\", \"yaxis\": {\"ticklen\": 5, \"gridwidth\": 2, \"title\": \"Feature Importance\"}}, {\"linkText\": \"Export to plot.ly\", \"showLink\": true})});</script>"
      ],
      "text/vnd.plotly.v1+html": [
       "<div id=\"ab87478d-3f9d-4ddf-a1c0-ef218085f973\" style=\"height: 525px; width: 100%;\" class=\"plotly-graph-div\"></div><script type=\"text/javascript\">require([\"plotly\"], function(Plotly) { window.PLOTLYENV=window.PLOTLYENV || {};window.PLOTLYENV.BASE_URL=\"https://plot.ly\";Plotly.newPlot(\"ab87478d-3f9d-4ddf-a1c0-ef218085f973\", [{\"text\": [\"chemical_major_allele\", \"chemical_substitution\", \"conservation_genome\", \"go_terms\", \"pfam\", \"population\", \"selection\", \"spider\", \"sub_matrix\", \"sub_predictor\", \"whole_domain_conservation\"], \"marker\": {\"sizeref\": 1, \"colorscale\": \"Portland\", \"color\": [66, 123, 82, 7, 22, 21, 20, 31, 10, 11, 4], \"colorbar\": {\"title\": \"Number of Features\"}, \"sizemode\": \"diameter\", \"showscale\": true, \"size\": 25}, \"mode\": \"markers\", \"y\": [0.00270450128951105, 0.0012484199525529575, 0.0016043061275085421, 0.000488863008091852, 0.007862020483387118, 0.0013852297983787283, 0.0046216768553806985, 0.005042661299825864, 0.002725011568213886, 0.002518261883399559, 0.006802701753423456], \"x\": [\"chemical_major_allele\", \"chemical_substitution\", \"conservation_genome\", \"go_terms\", \"pfam\", \"population\", \"selection\", \"spider\", \"sub_matrix\", \"sub_predictor\", \"whole_domain_conservation\"], \"type\": \"scatter\"}], {\"autosize\": true, \"title\": \"RF: ion\", \"showlegend\": false, \"hovermode\": \"closest\", \"yaxis\": {\"ticklen\": 5, \"gridwidth\": 2, \"title\": \"Feature Importance\"}}, {\"linkText\": \"Export to plot.ly\", \"showLink\": true})});</script>"
      ]
     },
     "metadata": {},
     "output_type": "display_data"
    },
    {
     "data": {
      "application/vnd.plotly.v1+json": {
       "data": [
        {
         "marker": {
          "color": [
           66,
           123,
           82,
           7,
           22,
           21,
           20,
           31,
           10,
           11,
           4
          ],
          "colorbar": {
           "title": "Number of Features"
          },
          "colorscale": "Portland",
          "showscale": true,
          "size": 25,
          "sizemode": "diameter",
          "sizeref": 1
         },
         "mode": "markers",
         "text": [
          "chemical_major_allele",
          "chemical_substitution",
          "conservation_genome",
          "go_terms",
          "pfam",
          "population",
          "selection",
          "spider",
          "sub_matrix",
          "sub_predictor",
          "whole_domain_conservation"
         ],
         "type": "scatter",
         "x": [
          "chemical_major_allele",
          "chemical_substitution",
          "conservation_genome",
          "go_terms",
          "pfam",
          "population",
          "selection",
          "spider",
          "sub_matrix",
          "sub_predictor",
          "whole_domain_conservation"
         ],
         "y": [
          0.0019958820194005966,
          0.00132358493283391,
          0.0013927619438618422,
          0.00039167312206700444,
          0.007102094125002623,
          0.0015952051617205143,
          0.004478129558265209,
          0.006693152245134115,
          0.003230177564546466,
          0.0020340809132903814,
          0.011762574315071106
         ]
        }
       ],
       "layout": {
        "autosize": true,
        "hovermode": "closest",
        "showlegend": false,
        "title": "XGB: ion",
        "yaxis": {
         "gridwidth": 2,
         "ticklen": 5,
         "title": "Feature Importance"
        }
       }
      },
      "text/html": [
       "<div id=\"868956f5-a6a1-43ca-9bde-1df795a8e8a8\" style=\"height: 525px; width: 100%;\" class=\"plotly-graph-div\"></div><script type=\"text/javascript\">require([\"plotly\"], function(Plotly) { window.PLOTLYENV=window.PLOTLYENV || {};window.PLOTLYENV.BASE_URL=\"https://plot.ly\";Plotly.newPlot(\"868956f5-a6a1-43ca-9bde-1df795a8e8a8\", [{\"text\": [\"chemical_major_allele\", \"chemical_substitution\", \"conservation_genome\", \"go_terms\", \"pfam\", \"population\", \"selection\", \"spider\", \"sub_matrix\", \"sub_predictor\", \"whole_domain_conservation\"], \"marker\": {\"sizeref\": 1, \"colorscale\": \"Portland\", \"color\": [66, 123, 82, 7, 22, 21, 20, 31, 10, 11, 4], \"colorbar\": {\"title\": \"Number of Features\"}, \"sizemode\": \"diameter\", \"showscale\": true, \"size\": 25}, \"mode\": \"markers\", \"y\": [0.0019958820194005966, 0.00132358493283391, 0.0013927619438618422, 0.00039167312206700444, 0.007102094125002623, 0.0015952051617205143, 0.004478129558265209, 0.006693152245134115, 0.003230177564546466, 0.0020340809132903814, 0.011762574315071106], \"x\": [\"chemical_major_allele\", \"chemical_substitution\", \"conservation_genome\", \"go_terms\", \"pfam\", \"population\", \"selection\", \"spider\", \"sub_matrix\", \"sub_predictor\", \"whole_domain_conservation\"], \"type\": \"scatter\"}], {\"autosize\": true, \"title\": \"XGB: ion\", \"showlegend\": false, \"hovermode\": \"closest\", \"yaxis\": {\"ticklen\": 5, \"gridwidth\": 2, \"title\": \"Feature Importance\"}}, {\"linkText\": \"Export to plot.ly\", \"showLink\": true})});</script>"
      ],
      "text/vnd.plotly.v1+html": [
       "<div id=\"868956f5-a6a1-43ca-9bde-1df795a8e8a8\" style=\"height: 525px; width: 100%;\" class=\"plotly-graph-div\"></div><script type=\"text/javascript\">require([\"plotly\"], function(Plotly) { window.PLOTLYENV=window.PLOTLYENV || {};window.PLOTLYENV.BASE_URL=\"https://plot.ly\";Plotly.newPlot(\"868956f5-a6a1-43ca-9bde-1df795a8e8a8\", [{\"text\": [\"chemical_major_allele\", \"chemical_substitution\", \"conservation_genome\", \"go_terms\", \"pfam\", \"population\", \"selection\", \"spider\", \"sub_matrix\", \"sub_predictor\", \"whole_domain_conservation\"], \"marker\": {\"sizeref\": 1, \"colorscale\": \"Portland\", \"color\": [66, 123, 82, 7, 22, 21, 20, 31, 10, 11, 4], \"colorbar\": {\"title\": \"Number of Features\"}, \"sizemode\": \"diameter\", \"showscale\": true, \"size\": 25}, \"mode\": \"markers\", \"y\": [0.0019958820194005966, 0.00132358493283391, 0.0013927619438618422, 0.00039167312206700444, 0.007102094125002623, 0.0015952051617205143, 0.004478129558265209, 0.006693152245134115, 0.003230177564546466, 0.0020340809132903814, 0.011762574315071106], \"x\": [\"chemical_major_allele\", \"chemical_substitution\", \"conservation_genome\", \"go_terms\", \"pfam\", \"population\", \"selection\", \"spider\", \"sub_matrix\", \"sub_predictor\", \"whole_domain_conservation\"], \"type\": \"scatter\"}], {\"autosize\": true, \"title\": \"XGB: ion\", \"showlegend\": false, \"hovermode\": \"closest\", \"yaxis\": {\"ticklen\": 5, \"gridwidth\": 2, \"title\": \"Feature Importance\"}}, {\"linkText\": \"Export to plot.ly\", \"showLink\": true})});</script>"
      ]
     },
     "metadata": {},
     "output_type": "display_data"
    },
    {
     "data": {
      "application/vnd.plotly.v1+json": {
       "data": [
        {
         "marker": {
          "color": [
           66,
           123,
           82,
           7,
           22,
           21,
           20,
           31,
           10,
           11,
           4
          ],
          "colorbar": {
           "title": "Number of Features"
          },
          "colorscale": "Portland",
          "showscale": true,
          "size": 25,
          "sizemode": "diameter",
          "sizeref": 1
         },
         "mode": "markers",
         "text": [
          "chemical_major_allele",
          "chemical_substitution",
          "conservation_genome",
          "go_terms",
          "pfam",
          "population",
          "selection",
          "spider",
          "sub_matrix",
          "sub_predictor",
          "whole_domain_conservation"
         ],
         "type": "scatter",
         "x": [
          "chemical_major_allele",
          "chemical_substitution",
          "conservation_genome",
          "go_terms",
          "pfam",
          "population",
          "selection",
          "spider",
          "sub_matrix",
          "sub_predictor",
          "whole_domain_conservation"
         ],
         "y": [
          0.00017331050394380496,
          0.00015153911343190348,
          0.00041822306363995736,
          0.0004586560671535118,
          0.0006002917997869357,
          0.00017005461827815797,
          0.0025520689278553227,
          0.0004912517953147432,
          0.0006561021714356421,
          0.004091891159081423,
          0.004481628451613192
         ]
        }
       ],
       "layout": {
        "autosize": true,
        "hovermode": "closest",
        "showlegend": false,
        "title": "Logistic: ion",
        "yaxis": {
         "gridwidth": 2,
         "ticklen": 5,
         "title": "Feature Importance"
        }
       }
      },
      "text/html": [
       "<div id=\"655e4911-b560-40f7-baaf-5d290b208e8d\" style=\"height: 525px; width: 100%;\" class=\"plotly-graph-div\"></div><script type=\"text/javascript\">require([\"plotly\"], function(Plotly) { window.PLOTLYENV=window.PLOTLYENV || {};window.PLOTLYENV.BASE_URL=\"https://plot.ly\";Plotly.newPlot(\"655e4911-b560-40f7-baaf-5d290b208e8d\", [{\"text\": [\"chemical_major_allele\", \"chemical_substitution\", \"conservation_genome\", \"go_terms\", \"pfam\", \"population\", \"selection\", \"spider\", \"sub_matrix\", \"sub_predictor\", \"whole_domain_conservation\"], \"marker\": {\"sizeref\": 1, \"colorscale\": \"Portland\", \"color\": [66, 123, 82, 7, 22, 21, 20, 31, 10, 11, 4], \"colorbar\": {\"title\": \"Number of Features\"}, \"sizemode\": \"diameter\", \"showscale\": true, \"size\": 25}, \"mode\": \"markers\", \"y\": [0.00017331050394380496, 0.00015153911343190348, 0.00041822306363995736, 0.0004586560671535118, 0.0006002917997869357, 0.00017005461827815797, 0.0025520689278553227, 0.0004912517953147432, 0.0006561021714356421, 0.004091891159081423, 0.004481628451613192], \"x\": [\"chemical_major_allele\", \"chemical_substitution\", \"conservation_genome\", \"go_terms\", \"pfam\", \"population\", \"selection\", \"spider\", \"sub_matrix\", \"sub_predictor\", \"whole_domain_conservation\"], \"type\": \"scatter\"}], {\"autosize\": true, \"title\": \"Logistic: ion\", \"showlegend\": false, \"hovermode\": \"closest\", \"yaxis\": {\"ticklen\": 5, \"gridwidth\": 2, \"title\": \"Feature Importance\"}}, {\"linkText\": \"Export to plot.ly\", \"showLink\": true})});</script>"
      ],
      "text/vnd.plotly.v1+html": [
       "<div id=\"655e4911-b560-40f7-baaf-5d290b208e8d\" style=\"height: 525px; width: 100%;\" class=\"plotly-graph-div\"></div><script type=\"text/javascript\">require([\"plotly\"], function(Plotly) { window.PLOTLYENV=window.PLOTLYENV || {};window.PLOTLYENV.BASE_URL=\"https://plot.ly\";Plotly.newPlot(\"655e4911-b560-40f7-baaf-5d290b208e8d\", [{\"text\": [\"chemical_major_allele\", \"chemical_substitution\", \"conservation_genome\", \"go_terms\", \"pfam\", \"population\", \"selection\", \"spider\", \"sub_matrix\", \"sub_predictor\", \"whole_domain_conservation\"], \"marker\": {\"sizeref\": 1, \"colorscale\": \"Portland\", \"color\": [66, 123, 82, 7, 22, 21, 20, 31, 10, 11, 4], \"colorbar\": {\"title\": \"Number of Features\"}, \"sizemode\": \"diameter\", \"showscale\": true, \"size\": 25}, \"mode\": \"markers\", \"y\": [0.00017331050394380496, 0.00015153911343190348, 0.00041822306363995736, 0.0004586560671535118, 0.0006002917997869357, 0.00017005461827815797, 0.0025520689278553227, 0.0004912517953147432, 0.0006561021714356421, 0.004091891159081423, 0.004481628451613192], \"x\": [\"chemical_major_allele\", \"chemical_substitution\", \"conservation_genome\", \"go_terms\", \"pfam\", \"population\", \"selection\", \"spider\", \"sub_matrix\", \"sub_predictor\", \"whole_domain_conservation\"], \"type\": \"scatter\"}], {\"autosize\": true, \"title\": \"Logistic: ion\", \"showlegend\": false, \"hovermode\": \"closest\", \"yaxis\": {\"ticklen\": 5, \"gridwidth\": 2, \"title\": \"Feature Importance\"}}, {\"linkText\": \"Export to plot.ly\", \"showLink\": true})});</script>"
      ]
     },
     "metadata": {},
     "output_type": "display_data"
    },
    {
     "data": {
      "application/vnd.plotly.v1+json": {
       "data": [
        {
         "marker": {
          "color": [
           66,
           123,
           82,
           7,
           22,
           21,
           20,
           31,
           10,
           11,
           4
          ],
          "colorbar": {
           "title": "Number of Features"
          },
          "colorscale": "Portland",
          "showscale": true,
          "size": 25,
          "sizemode": "diameter",
          "sizeref": 1
         },
         "mode": "markers",
         "text": [
          "chemical_major_allele",
          "chemical_substitution",
          "conservation_genome",
          "go_terms",
          "pfam",
          "population",
          "selection",
          "spider",
          "sub_matrix",
          "sub_predictor",
          "whole_domain_conservation"
         ],
         "type": "scatter",
         "x": [
          "chemical_major_allele",
          "chemical_substitution",
          "conservation_genome",
          "go_terms",
          "pfam",
          "population",
          "selection",
          "spider",
          "sub_matrix",
          "sub_predictor",
          "whole_domain_conservation"
         ],
         "y": [
          0.0023030303030303033,
          0.0014715447154471548,
          0.001329268292682927,
          0.0005714285714285715,
          0.006681818181818183,
          0.0004761904761904762,
          0.0038500000000000006,
          0.0063870967741935505,
          0.0028,
          0.002,
          0.018000000000000002
         ]
        }
       ],
       "layout": {
        "autosize": true,
        "hovermode": "closest",
        "showlegend": false,
        "title": "ADA: ion",
        "yaxis": {
         "gridwidth": 2,
         "ticklen": 5,
         "title": "Feature Importance"
        }
       }
      },
      "text/html": [
       "<div id=\"5a846498-a0bc-4a10-861b-d538a42f78c5\" style=\"height: 525px; width: 100%;\" class=\"plotly-graph-div\"></div><script type=\"text/javascript\">require([\"plotly\"], function(Plotly) { window.PLOTLYENV=window.PLOTLYENV || {};window.PLOTLYENV.BASE_URL=\"https://plot.ly\";Plotly.newPlot(\"5a846498-a0bc-4a10-861b-d538a42f78c5\", [{\"text\": [\"chemical_major_allele\", \"chemical_substitution\", \"conservation_genome\", \"go_terms\", \"pfam\", \"population\", \"selection\", \"spider\", \"sub_matrix\", \"sub_predictor\", \"whole_domain_conservation\"], \"marker\": {\"sizeref\": 1, \"colorscale\": \"Portland\", \"color\": [66, 123, 82, 7, 22, 21, 20, 31, 10, 11, 4], \"colorbar\": {\"title\": \"Number of Features\"}, \"sizemode\": \"diameter\", \"showscale\": true, \"size\": 25}, \"mode\": \"markers\", \"y\": [0.0023030303030303033, 0.0014715447154471548, 0.001329268292682927, 0.0005714285714285715, 0.006681818181818183, 0.0004761904761904762, 0.0038500000000000006, 0.0063870967741935505, 0.0028, 0.002, 0.018000000000000002], \"x\": [\"chemical_major_allele\", \"chemical_substitution\", \"conservation_genome\", \"go_terms\", \"pfam\", \"population\", \"selection\", \"spider\", \"sub_matrix\", \"sub_predictor\", \"whole_domain_conservation\"], \"type\": \"scatter\"}], {\"autosize\": true, \"title\": \"ADA: ion\", \"showlegend\": false, \"hovermode\": \"closest\", \"yaxis\": {\"ticklen\": 5, \"gridwidth\": 2, \"title\": \"Feature Importance\"}}, {\"linkText\": \"Export to plot.ly\", \"showLink\": true})});</script>"
      ],
      "text/vnd.plotly.v1+html": [
       "<div id=\"5a846498-a0bc-4a10-861b-d538a42f78c5\" style=\"height: 525px; width: 100%;\" class=\"plotly-graph-div\"></div><script type=\"text/javascript\">require([\"plotly\"], function(Plotly) { window.PLOTLYENV=window.PLOTLYENV || {};window.PLOTLYENV.BASE_URL=\"https://plot.ly\";Plotly.newPlot(\"5a846498-a0bc-4a10-861b-d538a42f78c5\", [{\"text\": [\"chemical_major_allele\", \"chemical_substitution\", \"conservation_genome\", \"go_terms\", \"pfam\", \"population\", \"selection\", \"spider\", \"sub_matrix\", \"sub_predictor\", \"whole_domain_conservation\"], \"marker\": {\"sizeref\": 1, \"colorscale\": \"Portland\", \"color\": [66, 123, 82, 7, 22, 21, 20, 31, 10, 11, 4], \"colorbar\": {\"title\": \"Number of Features\"}, \"sizemode\": \"diameter\", \"showscale\": true, \"size\": 25}, \"mode\": \"markers\", \"y\": [0.0023030303030303033, 0.0014715447154471548, 0.001329268292682927, 0.0005714285714285715, 0.006681818181818183, 0.0004761904761904762, 0.0038500000000000006, 0.0063870967741935505, 0.0028, 0.002, 0.018000000000000002], \"x\": [\"chemical_major_allele\", \"chemical_substitution\", \"conservation_genome\", \"go_terms\", \"pfam\", \"population\", \"selection\", \"spider\", \"sub_matrix\", \"sub_predictor\", \"whole_domain_conservation\"], \"type\": \"scatter\"}], {\"autosize\": true, \"title\": \"ADA: ion\", \"showlegend\": false, \"hovermode\": \"closest\", \"yaxis\": {\"ticklen\": 5, \"gridwidth\": 2, \"title\": \"Feature Importance\"}}, {\"linkText\": \"Export to plot.ly\", \"showLink\": true})});</script>"
      ]
     },
     "metadata": {},
     "output_type": "display_data"
    },
    {
     "data": {
      "application/vnd.plotly.v1+json": {
       "data": [
        {
         "marker": {
          "color": [
           66,
           123,
           82,
           7,
           22,
           21,
           20,
           31,
           10,
           11,
           4
          ],
          "colorbar": {
           "title": "Number of Features"
          },
          "colorscale": "Portland",
          "showscale": true
         },
         "text": [
          "chemical_major_allele",
          "chemical_substitution",
          "conservation_genome",
          "go_terms",
          "pfam",
          "population",
          "selection",
          "spider",
          "sub_matrix",
          "sub_predictor",
          "whole_domain_conservation"
         ],
         "type": "bar",
         "width": 0.5,
         "x": [
          "chemical_major_allele",
          "chemical_substitution",
          "conservation_genome",
          "go_terms",
          "pfam",
          "population",
          "selection",
          "spider",
          "sub_matrix",
          "sub_predictor",
          "whole_domain_conservation"
         ],
         "y": [
          0.00233447120398065,
          0.001347849866944674,
          0.0014421121213511036,
          0.00048398823386247596,
          0.007215310930069308,
          0.0011522084787632398,
          0.00431660213788197,
          0.006040970106384509,
          0.0029183963775867836,
          0.0021841142655633135,
          0.012188425356164856
         ]
        }
       ],
       "layout": {
        "autosize": true,
        "hovermode": "closest",
        "showlegend": false,
        "title": "Avg: ion",
        "yaxis": {
         "gridwidth": 2,
         "ticklen": 5,
         "title": "Average Feature Importances"
        }
       }
      },
      "text/html": [
       "<div id=\"c01d5a26-c5e0-4397-903f-e01594f0abef\" style=\"height: 525px; width: 100%;\" class=\"plotly-graph-div\"></div><script type=\"text/javascript\">require([\"plotly\"], function(Plotly) { window.PLOTLYENV=window.PLOTLYENV || {};window.PLOTLYENV.BASE_URL=\"https://plot.ly\";Plotly.newPlot(\"c01d5a26-c5e0-4397-903f-e01594f0abef\", [{\"y\": [0.00233447120398065, 0.001347849866944674, 0.0014421121213511036, 0.00048398823386247596, 0.007215310930069308, 0.0011522084787632398, 0.00431660213788197, 0.006040970106384509, 0.0029183963775867836, 0.0021841142655633135, 0.012188425356164856], \"text\": [\"chemical_major_allele\", \"chemical_substitution\", \"conservation_genome\", \"go_terms\", \"pfam\", \"population\", \"selection\", \"spider\", \"sub_matrix\", \"sub_predictor\", \"whole_domain_conservation\"], \"width\": 0.5, \"marker\": {\"colorbar\": {\"title\": \"Number of Features\"}, \"color\": [66, 123, 82, 7, 22, 21, 20, 31, 10, 11, 4], \"showscale\": true, \"colorscale\": \"Portland\"}, \"x\": [\"chemical_major_allele\", \"chemical_substitution\", \"conservation_genome\", \"go_terms\", \"pfam\", \"population\", \"selection\", \"spider\", \"sub_matrix\", \"sub_predictor\", \"whole_domain_conservation\"], \"type\": \"bar\"}], {\"autosize\": true, \"title\": \"Avg: ion\", \"showlegend\": false, \"hovermode\": \"closest\", \"yaxis\": {\"ticklen\": 5, \"gridwidth\": 2, \"title\": \"Average Feature Importances\"}}, {\"linkText\": \"Export to plot.ly\", \"showLink\": true})});</script>"
      ],
      "text/vnd.plotly.v1+html": [
       "<div id=\"c01d5a26-c5e0-4397-903f-e01594f0abef\" style=\"height: 525px; width: 100%;\" class=\"plotly-graph-div\"></div><script type=\"text/javascript\">require([\"plotly\"], function(Plotly) { window.PLOTLYENV=window.PLOTLYENV || {};window.PLOTLYENV.BASE_URL=\"https://plot.ly\";Plotly.newPlot(\"c01d5a26-c5e0-4397-903f-e01594f0abef\", [{\"y\": [0.00233447120398065, 0.001347849866944674, 0.0014421121213511036, 0.00048398823386247596, 0.007215310930069308, 0.0011522084787632398, 0.00431660213788197, 0.006040970106384509, 0.0029183963775867836, 0.0021841142655633135, 0.012188425356164856], \"text\": [\"chemical_major_allele\", \"chemical_substitution\", \"conservation_genome\", \"go_terms\", \"pfam\", \"population\", \"selection\", \"spider\", \"sub_matrix\", \"sub_predictor\", \"whole_domain_conservation\"], \"width\": 0.5, \"marker\": {\"colorbar\": {\"title\": \"Number of Features\"}, \"color\": [66, 123, 82, 7, 22, 21, 20, 31, 10, 11, 4], \"showscale\": true, \"colorscale\": \"Portland\"}, \"x\": [\"chemical_major_allele\", \"chemical_substitution\", \"conservation_genome\", \"go_terms\", \"pfam\", \"population\", \"selection\", \"spider\", \"sub_matrix\", \"sub_predictor\", \"whole_domain_conservation\"], \"type\": \"bar\"}], {\"autosize\": true, \"title\": \"Avg: ion\", \"showlegend\": false, \"hovermode\": \"closest\", \"yaxis\": {\"ticklen\": 5, \"gridwidth\": 2, \"title\": \"Average Feature Importances\"}}, {\"linkText\": \"Export to plot.ly\", \"showLink\": true})});</script>"
      ]
     },
     "metadata": {},
     "output_type": "display_data"
    },
    {
     "data": {
      "application/vnd.plotly.v1+json": {
       "data": [
        {
         "marker": {
          "color": [
           66,
           123,
           82,
           7,
           22,
           21,
           20,
           31,
           10,
           11,
           4
          ],
          "colorbar": {
           "title": "Number of Features"
          },
          "colorscale": "Portland",
          "showscale": true,
          "size": 25,
          "sizemode": "diameter",
          "sizeref": 1
         },
         "mode": "markers",
         "text": [
          "chemical_major_allele",
          "chemical_substitution",
          "conservation_genome",
          "go_terms",
          "pfam",
          "population",
          "selection",
          "spider",
          "sub_matrix",
          "sub_predictor",
          "whole_domain_conservation"
         ],
         "type": "scatter",
         "x": [
          "chemical_major_allele",
          "chemical_substitution",
          "conservation_genome",
          "go_terms",
          "pfam",
          "population",
          "selection",
          "spider",
          "sub_matrix",
          "sub_predictor",
          "whole_domain_conservation"
         ],
         "y": [
          0.002364471463412617,
          0.001272216736365426,
          0.001825455905267602,
          0.0008371312739043344,
          0.0057030480340570545,
          0.0015099217093810248,
          0.004947375612101376,
          0.005681773723459798,
          0.002944041047805621,
          0.002800422631468847,
          0.00985298798819867
         ]
        }
       ],
       "layout": {
        "autosize": true,
        "hovermode": "closest",
        "showlegend": false,
        "title": "RF: metabolite",
        "yaxis": {
         "gridwidth": 2,
         "ticklen": 5,
         "title": "Feature Importance"
        }
       }
      },
      "text/html": [
       "<div id=\"e799ebab-64ef-4bc2-82a2-63cad77f1ddc\" style=\"height: 525px; width: 100%;\" class=\"plotly-graph-div\"></div><script type=\"text/javascript\">require([\"plotly\"], function(Plotly) { window.PLOTLYENV=window.PLOTLYENV || {};window.PLOTLYENV.BASE_URL=\"https://plot.ly\";Plotly.newPlot(\"e799ebab-64ef-4bc2-82a2-63cad77f1ddc\", [{\"text\": [\"chemical_major_allele\", \"chemical_substitution\", \"conservation_genome\", \"go_terms\", \"pfam\", \"population\", \"selection\", \"spider\", \"sub_matrix\", \"sub_predictor\", \"whole_domain_conservation\"], \"marker\": {\"sizeref\": 1, \"colorscale\": \"Portland\", \"color\": [66, 123, 82, 7, 22, 21, 20, 31, 10, 11, 4], \"colorbar\": {\"title\": \"Number of Features\"}, \"sizemode\": \"diameter\", \"showscale\": true, \"size\": 25}, \"mode\": \"markers\", \"y\": [0.002364471463412617, 0.001272216736365426, 0.001825455905267602, 0.0008371312739043344, 0.0057030480340570545, 0.0015099217093810248, 0.004947375612101376, 0.005681773723459798, 0.002944041047805621, 0.002800422631468847, 0.00985298798819867], \"x\": [\"chemical_major_allele\", \"chemical_substitution\", \"conservation_genome\", \"go_terms\", \"pfam\", \"population\", \"selection\", \"spider\", \"sub_matrix\", \"sub_predictor\", \"whole_domain_conservation\"], \"type\": \"scatter\"}], {\"autosize\": true, \"title\": \"RF: metabolite\", \"showlegend\": false, \"hovermode\": \"closest\", \"yaxis\": {\"ticklen\": 5, \"gridwidth\": 2, \"title\": \"Feature Importance\"}}, {\"linkText\": \"Export to plot.ly\", \"showLink\": true})});</script>"
      ],
      "text/vnd.plotly.v1+html": [
       "<div id=\"e799ebab-64ef-4bc2-82a2-63cad77f1ddc\" style=\"height: 525px; width: 100%;\" class=\"plotly-graph-div\"></div><script type=\"text/javascript\">require([\"plotly\"], function(Plotly) { window.PLOTLYENV=window.PLOTLYENV || {};window.PLOTLYENV.BASE_URL=\"https://plot.ly\";Plotly.newPlot(\"e799ebab-64ef-4bc2-82a2-63cad77f1ddc\", [{\"text\": [\"chemical_major_allele\", \"chemical_substitution\", \"conservation_genome\", \"go_terms\", \"pfam\", \"population\", \"selection\", \"spider\", \"sub_matrix\", \"sub_predictor\", \"whole_domain_conservation\"], \"marker\": {\"sizeref\": 1, \"colorscale\": \"Portland\", \"color\": [66, 123, 82, 7, 22, 21, 20, 31, 10, 11, 4], \"colorbar\": {\"title\": \"Number of Features\"}, \"sizemode\": \"diameter\", \"showscale\": true, \"size\": 25}, \"mode\": \"markers\", \"y\": [0.002364471463412617, 0.001272216736365426, 0.001825455905267602, 0.0008371312739043344, 0.0057030480340570545, 0.0015099217093810248, 0.004947375612101376, 0.005681773723459798, 0.002944041047805621, 0.002800422631468847, 0.00985298798819867], \"x\": [\"chemical_major_allele\", \"chemical_substitution\", \"conservation_genome\", \"go_terms\", \"pfam\", \"population\", \"selection\", \"spider\", \"sub_matrix\", \"sub_predictor\", \"whole_domain_conservation\"], \"type\": \"scatter\"}], {\"autosize\": true, \"title\": \"RF: metabolite\", \"showlegend\": false, \"hovermode\": \"closest\", \"yaxis\": {\"ticklen\": 5, \"gridwidth\": 2, \"title\": \"Feature Importance\"}}, {\"linkText\": \"Export to plot.ly\", \"showLink\": true})});</script>"
      ]
     },
     "metadata": {},
     "output_type": "display_data"
    },
    {
     "data": {
      "application/vnd.plotly.v1+json": {
       "data": [
        {
         "marker": {
          "color": [
           66,
           123,
           82,
           7,
           22,
           21,
           20,
           31,
           10,
           11,
           4
          ],
          "colorbar": {
           "title": "Number of Features"
          },
          "colorscale": "Portland",
          "showscale": true,
          "size": 25,
          "sizemode": "diameter",
          "sizeref": 1
         },
         "mode": "markers",
         "text": [
          "chemical_major_allele",
          "chemical_substitution",
          "conservation_genome",
          "go_terms",
          "pfam",
          "population",
          "selection",
          "spider",
          "sub_matrix",
          "sub_predictor",
          "whole_domain_conservation"
         ],
         "type": "scatter",
         "x": [
          "chemical_major_allele",
          "chemical_substitution",
          "conservation_genome",
          "go_terms",
          "pfam",
          "population",
          "selection",
          "spider",
          "sub_matrix",
          "sub_predictor",
          "whole_domain_conservation"
         ],
         "y": [
          0.001792360795661807,
          0.0012342246482148767,
          0.0015680931974202394,
          0.001135854865424335,
          0.006483329460024834,
          0.0015090449014678597,
          0.004717867821455002,
          0.006737513467669487,
          0.0033627816010266542,
          0.0023627555929124355,
          0.014049585908651352
         ]
        }
       ],
       "layout": {
        "autosize": true,
        "hovermode": "closest",
        "showlegend": false,
        "title": "XGB: metabolite",
        "yaxis": {
         "gridwidth": 2,
         "ticklen": 5,
         "title": "Feature Importance"
        }
       }
      },
      "text/html": [
       "<div id=\"92c5a6dd-9fcd-4026-aabb-e501217f68ef\" style=\"height: 525px; width: 100%;\" class=\"plotly-graph-div\"></div><script type=\"text/javascript\">require([\"plotly\"], function(Plotly) { window.PLOTLYENV=window.PLOTLYENV || {};window.PLOTLYENV.BASE_URL=\"https://plot.ly\";Plotly.newPlot(\"92c5a6dd-9fcd-4026-aabb-e501217f68ef\", [{\"text\": [\"chemical_major_allele\", \"chemical_substitution\", \"conservation_genome\", \"go_terms\", \"pfam\", \"population\", \"selection\", \"spider\", \"sub_matrix\", \"sub_predictor\", \"whole_domain_conservation\"], \"marker\": {\"sizeref\": 1, \"colorscale\": \"Portland\", \"color\": [66, 123, 82, 7, 22, 21, 20, 31, 10, 11, 4], \"colorbar\": {\"title\": \"Number of Features\"}, \"sizemode\": \"diameter\", \"showscale\": true, \"size\": 25}, \"mode\": \"markers\", \"y\": [0.001792360795661807, 0.0012342246482148767, 0.0015680931974202394, 0.001135854865424335, 0.006483329460024834, 0.0015090449014678597, 0.004717867821455002, 0.006737513467669487, 0.0033627816010266542, 0.0023627555929124355, 0.014049585908651352], \"x\": [\"chemical_major_allele\", \"chemical_substitution\", \"conservation_genome\", \"go_terms\", \"pfam\", \"population\", \"selection\", \"spider\", \"sub_matrix\", \"sub_predictor\", \"whole_domain_conservation\"], \"type\": \"scatter\"}], {\"autosize\": true, \"title\": \"XGB: metabolite\", \"showlegend\": false, \"hovermode\": \"closest\", \"yaxis\": {\"ticklen\": 5, \"gridwidth\": 2, \"title\": \"Feature Importance\"}}, {\"linkText\": \"Export to plot.ly\", \"showLink\": true})});</script>"
      ],
      "text/vnd.plotly.v1+html": [
       "<div id=\"92c5a6dd-9fcd-4026-aabb-e501217f68ef\" style=\"height: 525px; width: 100%;\" class=\"plotly-graph-div\"></div><script type=\"text/javascript\">require([\"plotly\"], function(Plotly) { window.PLOTLYENV=window.PLOTLYENV || {};window.PLOTLYENV.BASE_URL=\"https://plot.ly\";Plotly.newPlot(\"92c5a6dd-9fcd-4026-aabb-e501217f68ef\", [{\"text\": [\"chemical_major_allele\", \"chemical_substitution\", \"conservation_genome\", \"go_terms\", \"pfam\", \"population\", \"selection\", \"spider\", \"sub_matrix\", \"sub_predictor\", \"whole_domain_conservation\"], \"marker\": {\"sizeref\": 1, \"colorscale\": \"Portland\", \"color\": [66, 123, 82, 7, 22, 21, 20, 31, 10, 11, 4], \"colorbar\": {\"title\": \"Number of Features\"}, \"sizemode\": \"diameter\", \"showscale\": true, \"size\": 25}, \"mode\": \"markers\", \"y\": [0.001792360795661807, 0.0012342246482148767, 0.0015680931974202394, 0.001135854865424335, 0.006483329460024834, 0.0015090449014678597, 0.004717867821455002, 0.006737513467669487, 0.0033627816010266542, 0.0023627555929124355, 0.014049585908651352], \"x\": [\"chemical_major_allele\", \"chemical_substitution\", \"conservation_genome\", \"go_terms\", \"pfam\", \"population\", \"selection\", \"spider\", \"sub_matrix\", \"sub_predictor\", \"whole_domain_conservation\"], \"type\": \"scatter\"}], {\"autosize\": true, \"title\": \"XGB: metabolite\", \"showlegend\": false, \"hovermode\": \"closest\", \"yaxis\": {\"ticklen\": 5, \"gridwidth\": 2, \"title\": \"Feature Importance\"}}, {\"linkText\": \"Export to plot.ly\", \"showLink\": true})});</script>"
      ]
     },
     "metadata": {},
     "output_type": "display_data"
    },
    {
     "data": {
      "application/vnd.plotly.v1+json": {
       "data": [
        {
         "marker": {
          "color": [
           66,
           123,
           82,
           7,
           22,
           21,
           20,
           31,
           10,
           11,
           4
          ],
          "colorbar": {
           "title": "Number of Features"
          },
          "colorscale": "Portland",
          "showscale": true,
          "size": 25,
          "sizemode": "diameter",
          "sizeref": 1
         },
         "mode": "markers",
         "text": [
          "chemical_major_allele",
          "chemical_substitution",
          "conservation_genome",
          "go_terms",
          "pfam",
          "population",
          "selection",
          "spider",
          "sub_matrix",
          "sub_predictor",
          "whole_domain_conservation"
         ],
         "type": "scatter",
         "x": [
          "chemical_major_allele",
          "chemical_substitution",
          "conservation_genome",
          "go_terms",
          "pfam",
          "population",
          "selection",
          "spider",
          "sub_matrix",
          "sub_predictor",
          "whole_domain_conservation"
         ],
         "y": [
          6.269320812655744e-05,
          6.78604823433789e-05,
          0.00030461529506645824,
          2.947917793156147e-05,
          2.921074535395645e-05,
          7.327905593274563e-05,
          0.0003890399205334127,
          0.00038781901005395547,
          0.0001947060002604586,
          0.0006787889922079062,
          0.00040213906848382476
         ]
        }
       ],
       "layout": {
        "autosize": true,
        "hovermode": "closest",
        "showlegend": false,
        "title": "Logistic: metabolite",
        "yaxis": {
         "gridwidth": 2,
         "ticklen": 5,
         "title": "Feature Importance"
        }
       }
      },
      "text/html": [
       "<div id=\"c530afc9-a8fe-4418-b0dc-7b00e7aef701\" style=\"height: 525px; width: 100%;\" class=\"plotly-graph-div\"></div><script type=\"text/javascript\">require([\"plotly\"], function(Plotly) { window.PLOTLYENV=window.PLOTLYENV || {};window.PLOTLYENV.BASE_URL=\"https://plot.ly\";Plotly.newPlot(\"c530afc9-a8fe-4418-b0dc-7b00e7aef701\", [{\"text\": [\"chemical_major_allele\", \"chemical_substitution\", \"conservation_genome\", \"go_terms\", \"pfam\", \"population\", \"selection\", \"spider\", \"sub_matrix\", \"sub_predictor\", \"whole_domain_conservation\"], \"marker\": {\"sizeref\": 1, \"colorscale\": \"Portland\", \"color\": [66, 123, 82, 7, 22, 21, 20, 31, 10, 11, 4], \"colorbar\": {\"title\": \"Number of Features\"}, \"sizemode\": \"diameter\", \"showscale\": true, \"size\": 25}, \"mode\": \"markers\", \"y\": [6.269320812655744e-05, 6.78604823433789e-05, 0.00030461529506645824, 2.947917793156147e-05, 2.921074535395645e-05, 7.327905593274563e-05, 0.0003890399205334127, 0.00038781901005395547, 0.0001947060002604586, 0.0006787889922079062, 0.00040213906848382476], \"x\": [\"chemical_major_allele\", \"chemical_substitution\", \"conservation_genome\", \"go_terms\", \"pfam\", \"population\", \"selection\", \"spider\", \"sub_matrix\", \"sub_predictor\", \"whole_domain_conservation\"], \"type\": \"scatter\"}], {\"autosize\": true, \"title\": \"Logistic: metabolite\", \"showlegend\": false, \"hovermode\": \"closest\", \"yaxis\": {\"ticklen\": 5, \"gridwidth\": 2, \"title\": \"Feature Importance\"}}, {\"linkText\": \"Export to plot.ly\", \"showLink\": true})});</script>"
      ],
      "text/vnd.plotly.v1+html": [
       "<div id=\"c530afc9-a8fe-4418-b0dc-7b00e7aef701\" style=\"height: 525px; width: 100%;\" class=\"plotly-graph-div\"></div><script type=\"text/javascript\">require([\"plotly\"], function(Plotly) { window.PLOTLYENV=window.PLOTLYENV || {};window.PLOTLYENV.BASE_URL=\"https://plot.ly\";Plotly.newPlot(\"c530afc9-a8fe-4418-b0dc-7b00e7aef701\", [{\"text\": [\"chemical_major_allele\", \"chemical_substitution\", \"conservation_genome\", \"go_terms\", \"pfam\", \"population\", \"selection\", \"spider\", \"sub_matrix\", \"sub_predictor\", \"whole_domain_conservation\"], \"marker\": {\"sizeref\": 1, \"colorscale\": \"Portland\", \"color\": [66, 123, 82, 7, 22, 21, 20, 31, 10, 11, 4], \"colorbar\": {\"title\": \"Number of Features\"}, \"sizemode\": \"diameter\", \"showscale\": true, \"size\": 25}, \"mode\": \"markers\", \"y\": [6.269320812655744e-05, 6.78604823433789e-05, 0.00030461529506645824, 2.947917793156147e-05, 2.921074535395645e-05, 7.327905593274563e-05, 0.0003890399205334127, 0.00038781901005395547, 0.0001947060002604586, 0.0006787889922079062, 0.00040213906848382476], \"x\": [\"chemical_major_allele\", \"chemical_substitution\", \"conservation_genome\", \"go_terms\", \"pfam\", \"population\", \"selection\", \"spider\", \"sub_matrix\", \"sub_predictor\", \"whole_domain_conservation\"], \"type\": \"scatter\"}], {\"autosize\": true, \"title\": \"Logistic: metabolite\", \"showlegend\": false, \"hovermode\": \"closest\", \"yaxis\": {\"ticklen\": 5, \"gridwidth\": 2, \"title\": \"Feature Importance\"}}, {\"linkText\": \"Export to plot.ly\", \"showLink\": true})});</script>"
      ]
     },
     "metadata": {},
     "output_type": "display_data"
    },
    {
     "data": {
      "application/vnd.plotly.v1+json": {
       "data": [
        {
         "marker": {
          "color": [
           66,
           123,
           82,
           7,
           22,
           21,
           20,
           31,
           10,
           11,
           4
          ],
          "colorbar": {
           "title": "Number of Features"
          },
          "colorscale": "Portland",
          "showscale": true,
          "size": 25,
          "sizemode": "diameter",
          "sizeref": 1
         },
         "mode": "markers",
         "text": [
          "chemical_major_allele",
          "chemical_substitution",
          "conservation_genome",
          "go_terms",
          "pfam",
          "population",
          "selection",
          "spider",
          "sub_matrix",
          "sub_predictor",
          "whole_domain_conservation"
         ],
         "type": "scatter",
         "x": [
          "chemical_major_allele",
          "chemical_substitution",
          "conservation_genome",
          "go_terms",
          "pfam",
          "population",
          "selection",
          "spider",
          "sub_matrix",
          "sub_predictor",
          "whole_domain_conservation"
         ],
         "y": [
          0.0020151515151515154,
          0.0013902439024390248,
          0.0014634146341463417,
          0.001,
          0.005863636363636365,
          0.0005714285714285715,
          0.004100000000000001,
          0.0062258064516129055,
          0.002,
          0.0018181818181818186,
          0.02825
         ]
        }
       ],
       "layout": {
        "autosize": true,
        "hovermode": "closest",
        "showlegend": false,
        "title": "ADA: metabolite",
        "yaxis": {
         "gridwidth": 2,
         "ticklen": 5,
         "title": "Feature Importance"
        }
       }
      },
      "text/html": [
       "<div id=\"6f53a4e9-04c9-4b22-a9a9-e2da5633acf0\" style=\"height: 525px; width: 100%;\" class=\"plotly-graph-div\"></div><script type=\"text/javascript\">require([\"plotly\"], function(Plotly) { window.PLOTLYENV=window.PLOTLYENV || {};window.PLOTLYENV.BASE_URL=\"https://plot.ly\";Plotly.newPlot(\"6f53a4e9-04c9-4b22-a9a9-e2da5633acf0\", [{\"text\": [\"chemical_major_allele\", \"chemical_substitution\", \"conservation_genome\", \"go_terms\", \"pfam\", \"population\", \"selection\", \"spider\", \"sub_matrix\", \"sub_predictor\", \"whole_domain_conservation\"], \"marker\": {\"sizeref\": 1, \"colorscale\": \"Portland\", \"color\": [66, 123, 82, 7, 22, 21, 20, 31, 10, 11, 4], \"colorbar\": {\"title\": \"Number of Features\"}, \"sizemode\": \"diameter\", \"showscale\": true, \"size\": 25}, \"mode\": \"markers\", \"y\": [0.0020151515151515154, 0.0013902439024390248, 0.0014634146341463417, 0.001, 0.005863636363636365, 0.0005714285714285715, 0.004100000000000001, 0.0062258064516129055, 0.002, 0.0018181818181818186, 0.02825], \"x\": [\"chemical_major_allele\", \"chemical_substitution\", \"conservation_genome\", \"go_terms\", \"pfam\", \"population\", \"selection\", \"spider\", \"sub_matrix\", \"sub_predictor\", \"whole_domain_conservation\"], \"type\": \"scatter\"}], {\"autosize\": true, \"title\": \"ADA: metabolite\", \"showlegend\": false, \"hovermode\": \"closest\", \"yaxis\": {\"ticklen\": 5, \"gridwidth\": 2, \"title\": \"Feature Importance\"}}, {\"linkText\": \"Export to plot.ly\", \"showLink\": true})});</script>"
      ],
      "text/vnd.plotly.v1+html": [
       "<div id=\"6f53a4e9-04c9-4b22-a9a9-e2da5633acf0\" style=\"height: 525px; width: 100%;\" class=\"plotly-graph-div\"></div><script type=\"text/javascript\">require([\"plotly\"], function(Plotly) { window.PLOTLYENV=window.PLOTLYENV || {};window.PLOTLYENV.BASE_URL=\"https://plot.ly\";Plotly.newPlot(\"6f53a4e9-04c9-4b22-a9a9-e2da5633acf0\", [{\"text\": [\"chemical_major_allele\", \"chemical_substitution\", \"conservation_genome\", \"go_terms\", \"pfam\", \"population\", \"selection\", \"spider\", \"sub_matrix\", \"sub_predictor\", \"whole_domain_conservation\"], \"marker\": {\"sizeref\": 1, \"colorscale\": \"Portland\", \"color\": [66, 123, 82, 7, 22, 21, 20, 31, 10, 11, 4], \"colorbar\": {\"title\": \"Number of Features\"}, \"sizemode\": \"diameter\", \"showscale\": true, \"size\": 25}, \"mode\": \"markers\", \"y\": [0.0020151515151515154, 0.0013902439024390248, 0.0014634146341463417, 0.001, 0.005863636363636365, 0.0005714285714285715, 0.004100000000000001, 0.0062258064516129055, 0.002, 0.0018181818181818186, 0.02825], \"x\": [\"chemical_major_allele\", \"chemical_substitution\", \"conservation_genome\", \"go_terms\", \"pfam\", \"population\", \"selection\", \"spider\", \"sub_matrix\", \"sub_predictor\", \"whole_domain_conservation\"], \"type\": \"scatter\"}], {\"autosize\": true, \"title\": \"ADA: metabolite\", \"showlegend\": false, \"hovermode\": \"closest\", \"yaxis\": {\"ticklen\": 5, \"gridwidth\": 2, \"title\": \"Feature Importance\"}}, {\"linkText\": \"Export to plot.ly\", \"showLink\": true})});</script>"
      ]
     },
     "metadata": {},
     "output_type": "display_data"
    },
    {
     "data": {
      "application/vnd.plotly.v1+json": {
       "data": [
        {
         "marker": {
          "color": [
           66,
           123,
           82,
           7,
           22,
           21,
           20,
           31,
           10,
           11,
           4
          ],
          "colorbar": {
           "title": "Number of Features"
          },
          "colorscale": "Portland",
          "showscale": true
         },
         "text": [
          "chemical_major_allele",
          "chemical_substitution",
          "conservation_genome",
          "go_terms",
          "pfam",
          "population",
          "selection",
          "spider",
          "sub_matrix",
          "sub_predictor",
          "whole_domain_conservation"
         ],
         "type": "bar",
         "width": 0.5,
         "x": [
          "chemical_major_allele",
          "chemical_substitution",
          "conservation_genome",
          "go_terms",
          "pfam",
          "population",
          "selection",
          "spider",
          "sub_matrix",
          "sub_predictor",
          "whole_domain_conservation"
         ],
         "y": [
          0.00205732792474198,
          0.001298895095673109,
          0.001618987912278061,
          0.0009909953797762232,
          0.006016671285906085,
          0.0011967983940924852,
          0.004588414477852127,
          0.006215031214247397,
          0.0027689408829440917,
          0.0023271200141877003,
          0.017384191298950007
         ]
        }
       ],
       "layout": {
        "autosize": true,
        "hovermode": "closest",
        "showlegend": false,
        "title": "Avg: metabolite",
        "yaxis": {
         "gridwidth": 2,
         "ticklen": 5,
         "title": "Average Feature Importances"
        }
       }
      },
      "text/html": [
       "<div id=\"e1230bba-c063-452d-8f4a-1f4134662f22\" style=\"height: 525px; width: 100%;\" class=\"plotly-graph-div\"></div><script type=\"text/javascript\">require([\"plotly\"], function(Plotly) { window.PLOTLYENV=window.PLOTLYENV || {};window.PLOTLYENV.BASE_URL=\"https://plot.ly\";Plotly.newPlot(\"e1230bba-c063-452d-8f4a-1f4134662f22\", [{\"y\": [0.00205732792474198, 0.001298895095673109, 0.001618987912278061, 0.0009909953797762232, 0.006016671285906085, 0.0011967983940924852, 0.004588414477852127, 0.006215031214247397, 0.0027689408829440917, 0.0023271200141877003, 0.017384191298950007], \"text\": [\"chemical_major_allele\", \"chemical_substitution\", \"conservation_genome\", \"go_terms\", \"pfam\", \"population\", \"selection\", \"spider\", \"sub_matrix\", \"sub_predictor\", \"whole_domain_conservation\"], \"width\": 0.5, \"marker\": {\"colorbar\": {\"title\": \"Number of Features\"}, \"color\": [66, 123, 82, 7, 22, 21, 20, 31, 10, 11, 4], \"showscale\": true, \"colorscale\": \"Portland\"}, \"x\": [\"chemical_major_allele\", \"chemical_substitution\", \"conservation_genome\", \"go_terms\", \"pfam\", \"population\", \"selection\", \"spider\", \"sub_matrix\", \"sub_predictor\", \"whole_domain_conservation\"], \"type\": \"bar\"}], {\"autosize\": true, \"title\": \"Avg: metabolite\", \"showlegend\": false, \"hovermode\": \"closest\", \"yaxis\": {\"ticklen\": 5, \"gridwidth\": 2, \"title\": \"Average Feature Importances\"}}, {\"linkText\": \"Export to plot.ly\", \"showLink\": true})});</script>"
      ],
      "text/vnd.plotly.v1+html": [
       "<div id=\"e1230bba-c063-452d-8f4a-1f4134662f22\" style=\"height: 525px; width: 100%;\" class=\"plotly-graph-div\"></div><script type=\"text/javascript\">require([\"plotly\"], function(Plotly) { window.PLOTLYENV=window.PLOTLYENV || {};window.PLOTLYENV.BASE_URL=\"https://plot.ly\";Plotly.newPlot(\"e1230bba-c063-452d-8f4a-1f4134662f22\", [{\"y\": [0.00205732792474198, 0.001298895095673109, 0.001618987912278061, 0.0009909953797762232, 0.006016671285906085, 0.0011967983940924852, 0.004588414477852127, 0.006215031214247397, 0.0027689408829440917, 0.0023271200141877003, 0.017384191298950007], \"text\": [\"chemical_major_allele\", \"chemical_substitution\", \"conservation_genome\", \"go_terms\", \"pfam\", \"population\", \"selection\", \"spider\", \"sub_matrix\", \"sub_predictor\", \"whole_domain_conservation\"], \"width\": 0.5, \"marker\": {\"colorbar\": {\"title\": \"Number of Features\"}, \"color\": [66, 123, 82, 7, 22, 21, 20, 31, 10, 11, 4], \"showscale\": true, \"colorscale\": \"Portland\"}, \"x\": [\"chemical_major_allele\", \"chemical_substitution\", \"conservation_genome\", \"go_terms\", \"pfam\", \"population\", \"selection\", \"spider\", \"sub_matrix\", \"sub_predictor\", \"whole_domain_conservation\"], \"type\": \"bar\"}], {\"autosize\": true, \"title\": \"Avg: metabolite\", \"showlegend\": false, \"hovermode\": \"closest\", \"yaxis\": {\"ticklen\": 5, \"gridwidth\": 2, \"title\": \"Average Feature Importances\"}}, {\"linkText\": \"Export to plot.ly\", \"showLink\": true})});</script>"
      ]
     },
     "metadata": {},
     "output_type": "display_data"
    }
   ],
   "source": [
    "means = []\n",
    "for ligand in ligands:\n",
    "    group_names = sorted(features_groups.keys())\n",
    "    ligand_sum = np.zeros([len(group_names),])\n",
    "    for classifier in classifiers:\n",
    "        if classifier != \"Logistic\":\n",
    "            ligand_sum += plot_feature_importances(classifier, features_groups, ligand, ligands_features_df[ligand], ligands_negatives_df[ligand])\n",
    "        else:\n",
    "            plot_feature_importances(classifier, features_groups, ligand, ligands_features_df[ligand], ligands_negatives_df[ligand])          \n",
    "    means = ligand_sum/(len(classifiers)-1)\n",
    "    \n",
    "    # Get number of features in each group\n",
    "    n_groups = [len(features_groups[name]) for name in group_names]\n",
    "\n",
    "    # Format with plotly\n",
    "    data = [go.Bar(\n",
    "        y = np.abs(means),\n",
    "        x = group_names,\n",
    "        width = 0.5,\n",
    "        marker=dict(\n",
    "            color = n_groups,\n",
    "            colorscale = 'Portland',\n",
    "            colorbar = go.ColorBar(\n",
    "                title = 'Number of Features'\n",
    "            ),\n",
    "            showscale = True\n",
    "        ),\n",
    "        text = group_names\n",
    "    )]\n",
    "\n",
    "    layout= go.Layout(\n",
    "        autosize = True,\n",
    "        title = \"Avg: \"+ligand,\n",
    "        hovermode = 'closest',\n",
    "        yaxis = dict(\n",
    "            title = 'Average Feature Importances',\n",
    "            ticklen = 5,\n",
    "            gridwidth = 2\n",
    "        ),\n",
    "        showlegend = False\n",
    "    )\n",
    "    fig = go.Figure(data=data, layout=layout)\n",
    "    py.iplot(fig)"
   ]
  }
 ],
 "metadata": {
  "kernelspec": {
   "display_name": "Python 2",
   "language": "python",
   "name": "python2"
  },
  "language_info": {
   "codemirror_mode": {
    "name": "ipython",
    "version": 2
   },
   "file_extension": ".py",
   "mimetype": "text/x-python",
   "name": "python",
   "nbconvert_exporter": "python",
   "pygments_lexer": "ipython2",
   "version": "2.7.13"
  }
 },
 "nbformat": 4,
 "nbformat_minor": 2
}
