{
 "cells": [
  {
   "cell_type": "code",
   "execution_count": 1,
   "metadata": {
    "collapsed": true
   },
   "outputs": [],
   "source": [
    "import pandas as pd\n",
    "import numpy as np\n",
    "import pickle\n",
    "from collections import defaultdict"
   ]
  },
  {
   "cell_type": "code",
   "execution_count": 2,
   "metadata": {
    "collapsed": true
   },
   "outputs": [],
   "source": [
    "curr_dir = !pwd\n",
    "input_path = curr_dir[0]+\"/../9.Features_exploration/binding_df/10/\"\n",
    "filename = \"positions_features_11.30.17.csv\"\n",
    "\n",
    "features_all = pd.read_csv(input_path+filename, sep='\\t', index_col=0)\n",
    "ligands = [\"dna\", \"dnabase\", \"dnabackbone\", \"rna\", \"rnabase\", \"rnabackbone\", \"peptide\", \"ion\", \"metabolite\"]\n",
    "domains = np.unique(features_all[\"domain_name\"])\n",
    "\n",
    "binding_thresh = 0.1"
   ]
  },
  {
   "cell_type": "code",
   "execution_count": 3,
   "metadata": {},
   "outputs": [],
   "source": [
    "counts = defaultdict(list)\n",
    "for ligand in ligands:\n",
    "    counts[ligand] = defaultdict(list)\n",
    "    total_neg = 0\n",
    "    num_domains = 0\n",
    "    for domain in domains:\n",
    "        domain_all = features_all.loc[features_all[\"domain_name\"] == domain,:]\n",
    "        if sum(domain_all[ligand+\"_binding_score\"] > binding_thresh) > 0:\n",
    "            counts[ligand][domain] = sum(domain_all[ligand+\"_binding_score\"] > binding_thresh)\n",
    "            total_neg += sum(domain_all[\"max_binding_score\"] == 0)\n",
    "            num_domains += 1\n",
    "    counts[ligand][\"negatives\"] = total_neg\n",
    "    counts[ligand][\"domains\"] = num_domains"
   ]
  },
  {
   "cell_type": "code",
   "execution_count": 4,
   "metadata": {
    "collapsed": true
   },
   "outputs": [],
   "source": [
    "with open('ligands_negatives_domains_dict.pik', 'wb') as handle:\n",
    "    pickle.dump(counts, handle, protocol=pickle.HIGHEST_PROTOCOL)"
   ]
  },
  {
   "cell_type": "code",
   "execution_count": 5,
   "metadata": {},
   "outputs": [
    {
     "name": "stdout",
     "output_type": "stream",
     "text": [
      "metabolite: \n",
      "\tNegatives: 21146\n",
      "\tDomains: 184\n",
      "dna: \n",
      "\tNegatives: 2554\n",
      "\tDomains: 57\n",
      "rnabase: \n",
      "\tNegatives: 2050\n",
      "\tDomains: 37\n",
      "rna: \n",
      "\tNegatives: 2084\n",
      "\tDomains: 39\n",
      "ion: \n",
      "\tNegatives: 28670\n",
      "\tDomains: 303\n",
      "rnabackbone: \n",
      "\tNegatives: 2072\n",
      "\tDomains: 38\n",
      "dnabackbone: \n",
      "\tNegatives: 2397\n",
      "\tDomains: 54\n",
      "peptide: \n",
      "\tNegatives: 11223\n",
      "\tDomains: 164\n",
      "dnabase: \n",
      "\tNegatives: 1827\n",
      "\tDomains: 45\n"
     ]
    }
   ],
   "source": [
    "for ligand in counts:\n",
    "    print(ligand+\": \")\n",
    "    print(\"\\tNegatives: \"+str(counts[ligand][\"negatives\"]))\n",
    "    print(\"\\tDomains: \"+str(counts[ligand][\"domains\"]))"
   ]
  },
  {
   "cell_type": "code",
   "execution_count": 6,
   "metadata": {},
   "outputs": [
    {
     "name": "stdout",
     "output_type": "stream",
     "text": [
      "metabolite: 2109\n",
      "dna: 749\n",
      "rnabase: 322\n",
      "rna: 629\n",
      "ion: 1691\n",
      "rnabackbone: 458\n",
      "dnabackbone: 625\n",
      "peptide: 2173\n",
      "dnabase: 279\n"
     ]
    }
   ],
   "source": [
    "for ligand in counts:\n",
    "    positives = 0\n",
    "    for domain in counts[ligand]:\n",
    "        if domain == \"negatives\" or domain == \"domains\":\n",
    "            continue\n",
    "        positives += counts[ligand][domain]\n",
    "    print(ligand+\": \"+str(positives))"
   ]
  }
 ],
 "metadata": {
  "kernelspec": {
   "display_name": "Python 2",
   "language": "python",
   "name": "python2"
  },
  "language_info": {
   "codemirror_mode": {
    "name": "ipython",
    "version": 2
   },
   "file_extension": ".py",
   "mimetype": "text/x-python",
   "name": "python",
   "nbconvert_exporter": "python",
   "pygments_lexer": "ipython2",
   "version": "2.7.13"
  }
 },
 "nbformat": 4,
 "nbformat_minor": 2
}
