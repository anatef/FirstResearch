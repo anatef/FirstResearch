{
 "cells": [
  {
   "cell_type": "markdown",
   "metadata": {},
   "source": [
    "## Creating a list of domains pairs we need to compute similarity - only within clans"
   ]
  },
  {
   "cell_type": "code",
   "execution_count": 1,
   "metadata": {},
   "outputs": [],
   "source": [
    "import pandas as pd\n",
    "import numpy as np\n",
    "import os\n",
    "import subprocess\n",
    "import pickle"
   ]
  },
  {
   "cell_type": "code",
   "execution_count": 4,
   "metadata": {},
   "outputs": [],
   "source": [
    "curr_dir = !pwd\n",
    "pfam_version = \"31\"\n",
    "input_path = curr_dir[0]+\"/../../2.parse_Pfam/v\"+pfam_version+\"/\""
   ]
  },
  {
   "cell_type": "code",
   "execution_count": 5,
   "metadata": {},
   "outputs": [],
   "source": [
    "with open(input_path+\"domain_to_clan_dict.pik\", 'rb') as handle:\n",
    "    domain_to_clan_dict = pickle.load(handle)\n",
    "with open(input_path+\"clan_to_domains_dict.pik\", 'rb') as handle:\n",
    "    clan_to_domains_dict = pickle.load(handle)"
   ]
  },
  {
   "cell_type": "markdown",
   "metadata": {},
   "source": [
    "#### Creating a table of pairs"
   ]
  },
  {
   "cell_type": "code",
   "execution_count": 6,
   "metadata": {},
   "outputs": [],
   "source": [
    "sim_dom1 = []\n",
    "sim_dom2 = []\n",
    "for clan in clan_to_domains_dict.keys():\n",
    "    clan_size = len(clan_to_domains_dict[clan])\n",
    "    if (clan_size > 1):\n",
    "        tmp_clan = clan_to_domains_dict[clan].copy()\n",
    "        for domain in clan_to_domains_dict[clan]:\n",
    "            tmp_clan.remove(domain)\n",
    "            sim_dom1.extend([domain] * (len(tmp_clan)))\n",
    "            sim_dom2.extend(tmp_clan)"
   ]
  },
  {
   "cell_type": "code",
   "execution_count": 7,
   "metadata": {},
   "outputs": [],
   "source": [
    "tmp_dict = {\"sim_dom1\": sim_dom1, \"sim_dom2\": sim_dom2}\n",
    "sim_pairs_df = pd.DataFrame(data=tmp_dict)"
   ]
  },
  {
   "cell_type": "markdown",
   "metadata": {},
   "source": [
    "#### Saving the pairs to a table"
   ]
  },
  {
   "cell_type": "code",
   "execution_count": 8,
   "metadata": {},
   "outputs": [],
   "source": [
    "sim_pairs_df.to_csv(curr_dir[0]+\"/pfam-v\"+pfam_version+\"/domains_pairs_for_hhalign.csv\")"
   ]
  },
  {
   "cell_type": "code",
   "execution_count": 9,
   "metadata": {},
   "outputs": [
    {
     "data": {
      "text/plain": [
       "(6851346, 2)"
      ]
     },
     "execution_count": 9,
     "metadata": {},
     "output_type": "execute_result"
    }
   ],
   "source": [
    "sim_pairs_df.shape"
   ]
  },
  {
   "cell_type": "markdown",
   "metadata": {},
   "source": [
    "### Create a subset of pairs that have domains with > 10 instances"
   ]
  },
  {
   "cell_type": "code",
   "execution_count": 11,
   "metadata": {},
   "outputs": [],
   "source": [
    "with open(curr_dir[0]+\"/../../5.domains_stats/pfam-v\"+pfam_version+\"/filtered10_list.pik\", 'rb') as handle:\n",
    "    filtered_domains_list10 = pickle.load(handle)\n",
    "filtered_domains_list10.sort()"
   ]
  },
  {
   "cell_type": "code",
   "execution_count": 12,
   "metadata": {},
   "outputs": [],
   "source": [
    "indices_for_remove = []\n",
    "for index, pair in sim_pairs_df.iterrows():\n",
    "    dom1 =  pair[\"sim_dom1\"]\n",
    "    dom2 =  pair[\"sim_dom2\"]\n",
    "    if (dom1 not in filtered_domains_list10):\n",
    "        indices_for_remove.append(index)\n",
    "    elif (dom2 not in filtered_domains_list10):\n",
    "        indices_for_remove.append(index)"
   ]
  },
  {
   "cell_type": "code",
   "execution_count": 13,
   "metadata": {},
   "outputs": [],
   "source": [
    "sim_pairs_df10 = sim_pairs_df.drop(indices_for_remove)\n",
    "sim_pairs_df10 = sim_pairs_df10.reset_index()"
   ]
  },
  {
   "cell_type": "code",
   "execution_count": 14,
   "metadata": {},
   "outputs": [],
   "source": [
    "sim_pairs_df10.to_csv(curr_dir[0]+\"/pfam-v\"+pfam_version+\"/domains_pairs_for_hhalign_filtered10.csv\")"
   ]
  },
  {
   "cell_type": "code",
   "execution_count": 15,
   "metadata": {},
   "outputs": [
    {
     "data": {
      "text/plain": [
       "(17111, 3)"
      ]
     },
     "execution_count": 15,
     "metadata": {},
     "output_type": "execute_result"
    }
   ],
   "source": [
    "sim_pairs_df10.shape"
   ]
  },
  {
   "cell_type": "code",
   "execution_count": null,
   "metadata": {},
   "outputs": [],
   "source": []
  }
 ],
 "metadata": {
  "kernelspec": {
   "display_name": "Python 2",
   "language": "python",
   "name": "python2"
  },
  "language_info": {
   "codemirror_mode": {
    "name": "ipython",
    "version": 2
   },
   "file_extension": ".py",
   "mimetype": "text/x-python",
   "name": "python",
   "nbconvert_exporter": "python",
   "pygments_lexer": "ipython2",
   "version": "2.7.12"
  }
 },
 "nbformat": 4,
 "nbformat_minor": 1
}
