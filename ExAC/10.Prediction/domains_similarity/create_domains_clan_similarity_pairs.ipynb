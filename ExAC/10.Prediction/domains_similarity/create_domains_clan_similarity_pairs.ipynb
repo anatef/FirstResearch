{
 "cells": [
  {
   "cell_type": "markdown",
   "metadata": {},
   "source": [
    "## Creating a list of domains pairs we need to compute similarity - only within clans"
   ]
  },
  {
   "cell_type": "code",
   "execution_count": 18,
   "metadata": {
    "collapsed": true
   },
   "outputs": [],
   "source": [
    "import pandas as pd\n",
    "import numpy as np\n",
    "import os\n",
    "import subprocess\n",
    "import pickle"
   ]
  },
  {
   "cell_type": "code",
   "execution_count": 10,
   "metadata": {
    "collapsed": false
   },
   "outputs": [],
   "source": [
    "from Bio import pairwise2"
   ]
  },
  {
   "cell_type": "code",
   "execution_count": 12,
   "metadata": {
    "collapsed": false
   },
   "outputs": [],
   "source": [
    "pairwise2.align.globalms?"
   ]
  },
  {
   "cell_type": "code",
   "execution_count": 1,
   "metadata": {
    "collapsed": true
   },
   "outputs": [],
   "source": [
    "curr_dir = !pwd\n",
    "input_path = curr_dir[0]+\"/../2.parse_Pfam/v30/\""
   ]
  },
  {
   "cell_type": "code",
   "execution_count": 4,
   "metadata": {
    "collapsed": false
   },
   "outputs": [],
   "source": [
    "with open(input_path+\"domain_to_clan_dict.pik\", 'rb') as handle:\n",
    "    domain_to_clan_dict = pickle.load(handle)\n",
    "with open(input_path+\"clan_to_domains_dict.pik\", 'rb') as handle:\n",
    "    clan_to_domains_dict = pickle.load(handle)"
   ]
  },
  {
   "cell_type": "markdown",
   "metadata": {},
   "source": [
    "#### Creating a table of pairs"
   ]
  },
  {
   "cell_type": "code",
   "execution_count": 69,
   "metadata": {
    "collapsed": true
   },
   "outputs": [],
   "source": [
    "sim_dom1 = []\n",
    "sim_dom2 = []\n",
    "for clan in clan_to_domains_dict.keys():\n",
    "    clan_size = len(clan_to_domains_dict[clan])\n",
    "    if (clan_size > 1):\n",
    "        tmp_clan = clan_to_domains_dict[clan].copy()\n",
    "        for domain in clan_to_domains_dict[clan]:\n",
    "            tmp_clan.remove(domain)\n",
    "            sim_dom1.extend([domain] * (len(tmp_clan)))\n",
    "            sim_dom2.extend(tmp_clan)"
   ]
  },
  {
   "cell_type": "code",
   "execution_count": 92,
   "metadata": {
    "collapsed": true
   },
   "outputs": [],
   "source": [
    "tmp_dict = {\"sim_dom1\": sim_dom1, \"sim_dom2\": sim_dom2}\n",
    "sim_pairs_df = pd.DataFrame(data=tmp_dict)"
   ]
  },
  {
   "cell_type": "markdown",
   "metadata": {},
   "source": [
    "#### Saving the pairs to a table"
   ]
  },
  {
   "cell_type": "code",
   "execution_count": 94,
   "metadata": {
    "collapsed": false
   },
   "outputs": [],
   "source": [
    "sim_pairs_df.to_csv(curr_dir[0]+\"/domains_pairs_for_hhalign.csv\")"
   ]
  }
 ],
 "metadata": {
  "kernelspec": {
   "display_name": "Python 2",
   "language": "python",
   "name": "python2"
  },
  "language_info": {
   "codemirror_mode": {
    "name": "ipython",
    "version": 2
   },
   "file_extension": ".py",
   "mimetype": "text/x-python",
   "name": "python",
   "nbconvert_exporter": "python",
   "pygments_lexer": "ipython2",
   "version": "2.7.12"
  }
 },
 "nbformat": 4,
 "nbformat_minor": 1
}
