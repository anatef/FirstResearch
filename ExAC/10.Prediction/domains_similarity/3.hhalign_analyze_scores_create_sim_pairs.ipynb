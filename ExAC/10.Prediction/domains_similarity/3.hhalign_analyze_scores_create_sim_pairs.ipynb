{
 "cells": [
  {
   "cell_type": "code",
   "execution_count": 1,
   "metadata": {},
   "outputs": [],
   "source": [
    "%matplotlib inline\n",
    "import pandas as pd\n",
    "import numpy as np\n",
    "import matplotlib.pyplot as plt\n",
    "from scipy import stats, integrate\n",
    "import seaborn as sns\n",
    "import pickle"
   ]
  },
  {
   "cell_type": "code",
   "execution_count": 2,
   "metadata": {},
   "outputs": [
    {
     "name": "stdout",
     "output_type": "stream",
     "text": [
      "number of domains = 443\n"
     ]
    }
   ],
   "source": [
    "curr_dir = !pwd\n",
    "pfam_version = \"31\"\n",
    "domains_th = \"10\"\n",
    "datafile_date = \"08.06\"\n",
    "\n",
    "hhalign_scores = pd.read_csv(curr_dir[0]+\"/pfam-v\"+pfam_version+\"/domains_hhlign_scores_\"+datafile_date+\".csv\", sep='\\t', index_col=0)\n",
    "\n",
    "#Read the list of domains\n",
    "with open(curr_dir[0]+\"/../../5.domains_stats/pfam-v\"+pfam_version+\"/filtered\"+domains_th+\"_list.pik\", 'rb') as handle:\n",
    "    filtered_domains_list = pickle.load(handle)\n",
    "filtered_domains_list.sort()\n",
    "\n",
    "with open(curr_dir[0]+\"/../../7.InteracDome_targetVariable/domains_ligands_propensity_dict.pik\", 'rb') as handle:\n",
    "    binding_props_dict = pickle.load(handle)\n",
    "    \n",
    "domains_prop_intersection = []\n",
    "for domain in filtered_domains_list:\n",
    "    if (domain in binding_props_dict.keys()):\n",
    "        domains_prop_intersection.append(domain)\n",
    "print \"number of domains = \"+str(len(domains_prop_intersection))"
   ]
  },
  {
   "cell_type": "markdown",
   "metadata": {},
   "source": [
    "### Remove domains from \"no clan\" that were accidentally calculated (now it's removed before running hhalign, but keeping this here for pfam-v30)"
   ]
  },
  {
   "cell_type": "code",
   "execution_count": 3,
   "metadata": {},
   "outputs": [],
   "source": [
    "#Remove domains from \"no clan\" that were accidentally calculated\n",
    "clan_path = curr_dir[0]+\"/../../2.parse_Pfam/v\"+pfam_version+\"/\"\n",
    "with open(clan_path+\"domain_to_clan_dict.pik\", 'rb') as handle:\n",
    "    domain_to_clan_dict = pickle.load(handle)\n",
    "with open(clan_path+\"clan_to_domains_dict.pik\", 'rb') as handle:\n",
    "    clan_to_domains_dict = pickle.load(handle)"
   ]
  },
  {
   "cell_type": "code",
   "execution_count": 4,
   "metadata": {},
   "outputs": [],
   "source": [
    "drop_idx = []\n",
    "for index, row in hhalign_scores.iterrows():\n",
    "    clan1 = domain_to_clan_dict[row[\"sim_dom1\"]]\n",
    "    clan2 = domain_to_clan_dict[row[\"sim_dom2\"]]\n",
    "    if (clan1 == \"No_clan\" and clan2 == \"No_clan\"):\n",
    "        drop_idx.append(index)"
   ]
  },
  {
   "cell_type": "code",
   "execution_count": 5,
   "metadata": {},
   "outputs": [],
   "source": [
    "hhalign_scores_filtered_no_clan = hhalign_scores.drop(drop_idx)\n",
    "hhalign_scores_filtered_no_clan = hhalign_scores_filtered_no_clan.reset_index(drop=True)"
   ]
  },
  {
   "cell_type": "markdown",
   "metadata": {},
   "source": [
    "### Remove domains that aren't a part of our training set (now it's removed before running hhalign, but keeping this here for pfam-v30)"
   ]
  },
  {
   "cell_type": "code",
   "execution_count": 6,
   "metadata": {},
   "outputs": [
    {
     "name": "stdout",
     "output_type": "stream",
     "text": [
      "total # of removed idx #: 0\n"
     ]
    }
   ],
   "source": [
    "table_idx_for_removal = []\n",
    "for index, row in hhalign_scores_filtered_no_clan.iterrows():\n",
    "    domain_name1 = row[\"sim_dom1\"]\n",
    "    domain_name2 = row[\"sim_dom2\"]\n",
    "    \n",
    "    if (domain_name1 not in domains_prop_intersection):\n",
    "        table_idx_for_removal.append(index)\n",
    "        continue\n",
    "    if (domain_name2 not in domains_prop_intersection):\n",
    "        table_idx_for_removal.append(index)\n",
    "    \n",
    "print \"total # of removed idx #: \"+str(len(table_idx_for_removal))"
   ]
  },
  {
   "cell_type": "code",
   "execution_count": 7,
   "metadata": {},
   "outputs": [
    {
     "name": "stdout",
     "output_type": "stream",
     "text": [
      "# of pairs after removing domains not in the analysis: 1279\n"
     ]
    }
   ],
   "source": [
    "#Remove from the features table\n",
    "hhalign_scores_filtered_no_clan = hhalign_scores_filtered_no_clan.drop(table_idx_for_removal)\n",
    "print \"# of pairs after removing domains not in the analysis: \"+str(hhalign_scores_filtered_no_clan.shape[0])"
   ]
  },
  {
   "cell_type": "markdown",
   "metadata": {},
   "source": [
    "### Adding the raw score divided by cols aligned\n",
    "from the HHsuite userguise: https://github.com/soedinglab/hh-suite/blob/master/hhsuite-userguide.pdf (page 23):\n",
    "\n",
    "How can I build a phylogenetic tree for HMMs? I would use a similarity measure like\n",
    "the raw score per alignment length. You might also add the secondary structure score to the\n",
    "raw score with some weight. Whereas probabilities, E-values, and P-values are useful for deciding\n",
    "whether a match is a reliable homolog or not, they are not suitable for measuring similarities\n",
    "because they strongly depend on the length of the alignment"
   ]
  },
  {
   "cell_type": "code",
   "execution_count": 8,
   "metadata": {},
   "outputs": [],
   "source": [
    "score_alignment_cols_ratio_list1 = []\n",
    "score_alignment_cols_ratio_list2 = []\n",
    "for index, row in hhalign_scores_filtered_no_clan.iterrows():\n",
    "    score_norm = row[\"score1\"]/float(row[\"aligned_cols1\"])\n",
    "    score_alignment_cols_ratio_list1.append(score_norm)\n",
    "    score_norm = row[\"score2\"]/float(row[\"aligned_cols2\"])\n",
    "    score_alignment_cols_ratio_list2.append(score_norm)\n",
    "\n",
    "hhalign_scores_filtered_no_clan[\"score_norm1\"] = score_alignment_cols_ratio_list1\n",
    "hhalign_scores_filtered_no_clan[\"score_norm2\"] = score_alignment_cols_ratio_list2"
   ]
  },
  {
   "cell_type": "markdown",
   "metadata": {},
   "source": [
    "### Check the scores distribution to determine a threshold for similarity"
   ]
  },
  {
   "cell_type": "code",
   "execution_count": 9,
   "metadata": {},
   "outputs": [],
   "source": [
    "h = np.histogram(hhalign_scores_filtered_no_clan[\"score_norm1\"])"
   ]
  },
  {
   "cell_type": "code",
   "execution_count": 10,
   "metadata": {},
   "outputs": [
    {
     "data": {
      "text/plain": [
       "(array([709, 233,  98,  72,  84,  39,  25,   9,   7,   3]),\n",
       " array([ 0.26528302,  1.69575472,  3.12622642,  4.55669811,  5.98716981,\n",
       "         7.41764151,  8.84811321, 10.27858491, 11.7090566 , 13.1395283 ,\n",
       "        14.57      ]))"
      ]
     },
     "execution_count": 10,
     "metadata": {},
     "output_type": "execute_result"
    }
   ],
   "source": [
    "h"
   ]
  },
  {
   "cell_type": "code",
   "execution_count": 11,
   "metadata": {},
   "outputs": [
    {
     "data": {
      "image/png": "[encoded data removed]",
      "text/plain": [
       "<matplotlib.figure.Figure at 0x7f416c099850>"
      ]
     },
     "metadata": {},
     "output_type": "display_data"
    }
   ],
   "source": [
    "sns.set(color_codes=True)\n",
    "np.random.seed(sum(map(ord, \"distributions\")))\n",
    "sns.distplot(hhalign_scores_filtered_no_clan[\"score_norm1\"]);"
   ]
  },
  {
   "cell_type": "markdown",
   "metadata": {},
   "source": [
    "This distribution is only of similarity scores within clans, so they are already pretty high and not represnting similarity between two random domains."
   ]
  },
  {
   "cell_type": "code",
   "execution_count": null,
   "metadata": {},
   "outputs": [],
   "source": [
    "sns.distplot(hhalign_scores_filtered_no_clan[\"p-values\"]);"
   ]
  },
  {
   "cell_type": "markdown",
   "metadata": {},
   "source": [
    "0.001 p-value is the diffault threshold for Viterbi:\n",
    "https://www.ncbi.nlm.nih.gov/pmc/articles/PMC3197634/"
   ]
  },
  {
   "cell_type": "code",
   "execution_count": 13,
   "metadata": {},
   "outputs": [
    {
     "name": "stderr",
     "output_type": "stream",
     "text": [
      "/home/anat/anaconda2/lib/python2.7/site-packages/pandas/core/frame.py:1997: UserWarning: Boolean Series key will be reindexed to match DataFrame index.\n",
      "  \"DataFrame index.\", UserWarning)\n"
     ]
    }
   ],
   "source": [
    "#Has both directions with meaningful alignments (pfal <= 0.001, precent identity >= 25)\n",
    "significantly_pvals = hhalign_scores_filtered_no_clan[hhalign_scores_filtered_no_clan[\"pval1\"] <= 0.001][hhalign_scores_filtered_no_clan[\"pval2\"] <= 0.001]\n",
    "\n",
    "#According to HHsuite userguide, this is the % of aligned columns that match\n",
    "significantly_ident_perc = significantly_pvals[significantly_pvals[\"ident_perc1\"] >= 20][significantly_pvals[\"ident_perc2\"] >= 20]\n",
    "\n",
    "#By HHsuite userguide (page-30): A unit of column score corresponds approximately to 0.6 bits\n",
    "significantly_score = significantly_ident_perc[significantly_ident_perc[\"score_norm1\"] >= 0.6][significantly_ident_perc[\"score_norm2\"] >= 0.6]\n",
    "\n",
    "significantly_similar_pairs = significantly_score"
   ]
  },
  {
   "cell_type": "code",
   "execution_count": 14,
   "metadata": {},
   "outputs": [
    {
     "data": {
      "text/plain": [
       "(367, 14)"
      ]
     },
     "execution_count": 14,
     "metadata": {},
     "output_type": "execute_result"
    }
   ],
   "source": [
    "significantly_similar_pairs.shape"
   ]
  },
  {
   "cell_type": "code",
   "execution_count": 16,
   "metadata": {},
   "outputs": [],
   "source": [
    "#Saving to .csv\n",
    "significantly_similar_pairs.to_csv(\"pfam-v\"+pfam_version+\"/sig_pairs_pvals0.001_ident20_score0.6_2directions_\"+datafile_date+\".csv\", sep='\\t')"
   ]
  },
  {
   "cell_type": "markdown",
   "metadata": {},
   "source": [
    "#### Checking one domain for exmaple"
   ]
  },
  {
   "cell_type": "code",
   "execution_count": 17,
   "metadata": {},
   "outputs": [
    {
     "data": {
      "text/html": [
       "<div>\n",
       "<table border=\"1\" class=\"dataframe\">\n",
       "  <thead>\n",
       "    <tr style=\"text-align: right;\">\n",
       "      <th></th>\n",
       "      <th>sim_dom1</th>\n",
       "      <th>sim_dom2</th>\n",
       "      <th>prob1</th>\n",
       "      <th>pval1</th>\n",
       "      <th>score1</th>\n",
       "      <th>aligned_cols1</th>\n",
       "      <th>ident_perc1</th>\n",
       "      <th>prob2</th>\n",
       "      <th>pval2</th>\n",
       "      <th>score2</th>\n",
       "      <th>aligned_cols2</th>\n",
       "      <th>ident_perc2</th>\n",
       "      <th>score_norm1</th>\n",
       "      <th>score_norm2</th>\n",
       "    </tr>\n",
       "  </thead>\n",
       "  <tbody>\n",
       "    <tr>\n",
       "      <th>1173</th>\n",
       "      <td>zf-C2H2</td>\n",
       "      <td>zf-met</td>\n",
       "      <td>93.45</td>\n",
       "      <td>2.400000e-07</td>\n",
       "      <td>7.99</td>\n",
       "      <td>8</td>\n",
       "      <td>38</td>\n",
       "      <td>94.71</td>\n",
       "      <td>6.600000e-08</td>\n",
       "      <td>8.63</td>\n",
       "      <td>9</td>\n",
       "      <td>44</td>\n",
       "      <td>0.998750</td>\n",
       "      <td>0.958889</td>\n",
       "    </tr>\n",
       "    <tr>\n",
       "      <th>1159</th>\n",
       "      <td>zf-C2H2_4</td>\n",
       "      <td>zf-C2H2</td>\n",
       "      <td>95.49</td>\n",
       "      <td>2.000000e-08</td>\n",
       "      <td>9.45</td>\n",
       "      <td>11</td>\n",
       "      <td>27</td>\n",
       "      <td>95.00</td>\n",
       "      <td>4.600000e-08</td>\n",
       "      <td>9.03</td>\n",
       "      <td>10</td>\n",
       "      <td>30</td>\n",
       "      <td>0.859091</td>\n",
       "      <td>0.903000</td>\n",
       "    </tr>\n",
       "  </tbody>\n",
       "</table>\n",
       "</div>"
      ],
      "text/plain": [
       "       sim_dom1 sim_dom2  prob1         pval1  score1  aligned_cols1  \\\n",
       "1173    zf-C2H2   zf-met  93.45  2.400000e-07    7.99              8   \n",
       "1159  zf-C2H2_4  zf-C2H2  95.49  2.000000e-08    9.45             11   \n",
       "\n",
       "      ident_perc1  prob2         pval2  score2  aligned_cols2  ident_perc2  \\\n",
       "1173           38  94.71  6.600000e-08    8.63              9           44   \n",
       "1159           27  95.00  4.600000e-08    9.03             10           30   \n",
       "\n",
       "      score_norm1  score_norm2  \n",
       "1173     0.998750     0.958889  \n",
       "1159     0.859091     0.903000  "
      ]
     },
     "execution_count": 17,
     "metadata": {},
     "output_type": "execute_result"
    }
   ],
   "source": [
    "pd.DataFrame.append(significantly_similar_pairs[significantly_similar_pairs[\"sim_dom1\"] == \"zf-C2H2\"], significantly_similar_pairs[significantly_similar_pairs[\"sim_dom2\"] == \"zf-C2H2\"])"
   ]
  },
  {
   "cell_type": "markdown",
   "metadata": {},
   "source": [
    "### Draft - old condition on raw score\n",
    "According the HHalign userguide raw score is dependant on length, score should be normalized by number of aligned columns."
   ]
  },
  {
   "cell_type": "markdown",
   "metadata": {},
   "source": [
    "HHalign Viterbi score >= 11 like the threshold used in: https://academic.oup.com/nar/article/45/W1/W470/3782606"
   ]
  },
  {
   "cell_type": "code",
   "execution_count": 34,
   "metadata": {},
   "outputs": [],
   "source": [
    "significantly_similar_pairs = hhalign_scores_filtered_no_clan[hhalign_scores_filtered_no_clan[\"p-values\"] <= 0.001][hhalign_scores_filtered_no_clan[\"scores\"] >= 10]\n",
    "significantly_similar_pairs.reset_index(inplace=True, drop=True)"
   ]
  },
  {
   "cell_type": "code",
   "execution_count": null,
   "metadata": {},
   "outputs": [],
   "source": []
  }
 ],
 "metadata": {
  "kernelspec": {
   "display_name": "Python 2",
   "language": "python",
   "name": "python2"
  },
  "language_info": {
   "codemirror_mode": {
    "name": "ipython",
    "version": 2
   },
   "file_extension": ".py",
   "mimetype": "text/x-python",
   "name": "python",
   "nbconvert_exporter": "python",
   "pygments_lexer": "ipython2",
   "version": "2.7.12"
  }
 },
 "nbformat": 4,
 "nbformat_minor": 1
}
