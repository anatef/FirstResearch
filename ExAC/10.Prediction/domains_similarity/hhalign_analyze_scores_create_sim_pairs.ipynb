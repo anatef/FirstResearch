{
 "cells": [
  {
   "cell_type": "code",
   "execution_count": 11,
   "metadata": {
    "collapsed": true
   },
   "outputs": [],
   "source": [
    "%matplotlib inline\n",
    "import pandas as pd\n",
    "import numpy as np\n",
    "import matplotlib.pyplot as plt\n",
    "from scipy import stats, integrate\n",
    "import seaborn as sns"
   ]
  },
  {
   "cell_type": "code",
   "execution_count": 2,
   "metadata": {
    "collapsed": true
   },
   "outputs": [],
   "source": [
    "curr_dir = !pwd\n",
    "\n",
    "hhalign_scores = pd.read_csv(curr_dir[0]+\"/domains_hhlign_scores.csv\", sep='\\t', index_col=0)"
   ]
  },
  {
   "cell_type": "markdown",
   "metadata": {},
   "source": [
    "### Check the scores distribution to determine a threshold for similarity"
   ]
  },
  {
   "cell_type": "code",
   "execution_count": 5,
   "metadata": {
    "collapsed": false
   },
   "outputs": [],
   "source": [
    "h = np.histogram(hhalign_scores[\"scores\"])"
   ]
  },
  {
   "cell_type": "code",
   "execution_count": 12,
   "metadata": {
    "collapsed": false
   },
   "outputs": [
    {
     "data": {
      "image/png": "[encoded data removed]",
      "text/plain": [
       "<matplotlib.figure.Figure at 0x7eff437bc690>"
      ]
     },
     "metadata": {},
     "output_type": "display_data"
    }
   ],
   "source": [
    "sns.set(color_codes=True)\n",
    "np.random.seed(sum(map(ord, \"distributions\")))\n",
    "sns.distplot(hhalign_scores[\"scores\"]);"
   ]
  },
  {
   "cell_type": "markdown",
   "metadata": {},
   "source": [
    "This distribution is only of similarity scores within clans, so they are already pretty high and not represnting similarity between two random domains."
   ]
  },
  {
   "cell_type": "code",
   "execution_count": 33,
   "metadata": {
    "collapsed": false
   },
   "outputs": [
    {
     "data": {
      "text/plain": [
       "Index([u'index', u'sim_dom1', u'sim_dom2', u'scores', u'p-values'], dtype='object')"
      ]
     },
     "execution_count": 33,
     "metadata": {},
     "output_type": "execute_result"
    }
   ],
   "source": [
    "hhalign_scores.columns"
   ]
  },
  {
   "cell_type": "code",
   "execution_count": 38,
   "metadata": {
    "collapsed": false
   },
   "outputs": [
    {
     "data": {
      "image/png": "[encoded data removed]",
      "text/plain": [
       "<matplotlib.figure.Figure at 0x7eff3f92d0d0>"
      ]
     },
     "metadata": {},
     "output_type": "display_data"
    }
   ],
   "source": [
    "sns.distplot(hhalign_scores[\"p-values\"]);"
   ]
  },
  {
   "cell_type": "code",
   "execution_count": 26,
   "metadata": {
    "collapsed": false
   },
   "outputs": [
    {
     "data": {
      "text/plain": [
       "35.90550000000006"
      ]
     },
     "execution_count": 26,
     "metadata": {},
     "output_type": "execute_result"
    }
   ],
   "source": [
    "np.percentile(hhalign_scores[\"scores\"], 99)"
   ]
  },
  {
   "cell_type": "code",
   "execution_count": 31,
   "metadata": {
    "collapsed": false
   },
   "outputs": [
    {
     "data": {
      "text/plain": [
       "162"
      ]
     },
     "execution_count": 31,
     "metadata": {},
     "output_type": "execute_result"
    }
   ],
   "source": [
    "np.sum(hhalign_scores[\"scores\"] >= 40)"
   ]
  },
  {
   "cell_type": "code",
   "execution_count": 41,
   "metadata": {
    "collapsed": false
   },
   "outputs": [
    {
     "data": {
      "text/plain": [
       "0.025000000000000001"
      ]
     },
     "execution_count": 41,
     "metadata": {},
     "output_type": "execute_result"
    }
   ],
   "source": [
    "np.percentile(hhalign_scores[\"p-values\"], 10)"
   ]
  },
  {
   "cell_type": "markdown",
   "metadata": {},
   "source": [
    "0.001 p-value is the diffault threshold for Viterbi:\n",
    "https://www.ncbi.nlm.nih.gov/pmc/articles/PMC3197634/"
   ]
  },
  {
   "cell_type": "code",
   "execution_count": 50,
   "metadata": {
    "collapsed": false
   },
   "outputs": [
    {
     "data": {
      "text/plain": [
       "2030"
      ]
     },
     "execution_count": 50,
     "metadata": {},
     "output_type": "execute_result"
    }
   ],
   "source": [
    "np.sum(hhalign_scores[\"p-values\"] <= 0.001)"
   ]
  },
  {
   "cell_type": "code",
   "execution_count": 56,
   "metadata": {
    "collapsed": false
   },
   "outputs": [
    {
     "data": {
      "text/plain": [
       "10.029999999999999"
      ]
     },
     "execution_count": 56,
     "metadata": {},
     "output_type": "execute_result"
    }
   ],
   "source": [
    "np.percentile(hhalign_scores[hhalign_scores[\"p-values\"] <= 0.001][\"scores\"], 45)"
   ]
  },
  {
   "cell_type": "markdown",
   "metadata": {},
   "source": [
    "HHalign Viterbi score >= 10 like the threshold used in: https://academic.oup.com/nar/article/45/W1/W470/3782606"
   ]
  },
  {
   "cell_type": "code",
   "execution_count": 74,
   "metadata": {
    "collapsed": false
   },
   "outputs": [],
   "source": [
    "significantly_similar_pairs = hhalign_scores[hhalign_scores[\"p-values\"] <= 0.001][hhalign_scores[\"scores\"] >= 10]\n",
    "significantly_similar_pairs.reset_index(inplace=True, drop=True)"
   ]
  },
  {
   "cell_type": "code",
   "execution_count": 78,
   "metadata": {
    "collapsed": false
   },
   "outputs": [],
   "source": [
    "significantly_similar_pairs.to_csv(\"sig_pairs_pval0.001_score10.csv\", sep='\\t')"
   ]
  },
  {
   "cell_type": "code",
   "execution_count": 79,
   "metadata": {
    "collapsed": false
   },
   "outputs": [
    {
     "data": {
      "text/html": [
       "<div>\n",
       "<table border=\"1\" class=\"dataframe\">\n",
       "  <thead>\n",
       "    <tr style=\"text-align: right;\">\n",
       "      <th></th>\n",
       "      <th>index</th>\n",
       "      <th>sim_dom1</th>\n",
       "      <th>sim_dom2</th>\n",
       "      <th>scores</th>\n",
       "      <th>p-values</th>\n",
       "    </tr>\n",
       "  </thead>\n",
       "  <tbody>\n",
       "    <tr>\n",
       "      <th>0</th>\n",
       "      <td>331</td>\n",
       "      <td>Hydrolase_4</td>\n",
       "      <td>Abhydrolase_6</td>\n",
       "      <td>64.54</td>\n",
       "      <td>2.100000e-09</td>\n",
       "    </tr>\n",
       "    <tr>\n",
       "      <th>1</th>\n",
       "      <td>340</td>\n",
       "      <td>Hydrolase_4</td>\n",
       "      <td>Abhydrolase_1</td>\n",
       "      <td>106.22</td>\n",
       "      <td>2.800000e-16</td>\n",
       "    </tr>\n",
       "    <tr>\n",
       "      <th>2</th>\n",
       "      <td>506</td>\n",
       "      <td>Abhydrolase_6</td>\n",
       "      <td>Abhydrolase_1</td>\n",
       "      <td>62.74</td>\n",
       "      <td>5.500000e-10</td>\n",
       "    </tr>\n",
       "    <tr>\n",
       "      <th>3</th>\n",
       "      <td>577</td>\n",
       "      <td>S1</td>\n",
       "      <td>CSD</td>\n",
       "      <td>21.23</td>\n",
       "      <td>1.100000e-04</td>\n",
       "    </tr>\n",
       "    <tr>\n",
       "      <th>4</th>\n",
       "      <td>1001</td>\n",
       "      <td>Guanylate_kin</td>\n",
       "      <td>AAA_33</td>\n",
       "      <td>27.34</td>\n",
       "      <td>6.000000e-04</td>\n",
       "    </tr>\n",
       "    <tr>\n",
       "      <th>5</th>\n",
       "      <td>1026</td>\n",
       "      <td>Guanylate_kin</td>\n",
       "      <td>AAA_5</td>\n",
       "      <td>26.90</td>\n",
       "      <td>8.600000e-04</td>\n",
       "    </tr>\n",
       "    <tr>\n",
       "      <th>6</th>\n",
       "      <td>1039</td>\n",
       "      <td>Guanylate_kin</td>\n",
       "      <td>MMR_HSR1</td>\n",
       "      <td>27.41</td>\n",
       "      <td>4.800000e-04</td>\n",
       "    </tr>\n",
       "    <tr>\n",
       "      <th>7</th>\n",
       "      <td>1052</td>\n",
       "      <td>Guanylate_kin</td>\n",
       "      <td>AAA_18</td>\n",
       "      <td>27.28</td>\n",
       "      <td>3.100000e-04</td>\n",
       "    </tr>\n",
       "    <tr>\n",
       "      <th>8</th>\n",
       "      <td>1176</td>\n",
       "      <td>DEAD</td>\n",
       "      <td>Microtub_bd</td>\n",
       "      <td>27.49</td>\n",
       "      <td>7.700000e-04</td>\n",
       "    </tr>\n",
       "    <tr>\n",
       "      <th>9</th>\n",
       "      <td>1184</td>\n",
       "      <td>DEAD</td>\n",
       "      <td>SNF2_N</td>\n",
       "      <td>45.11</td>\n",
       "      <td>4.600000e-06</td>\n",
       "    </tr>\n",
       "    <tr>\n",
       "      <th>10</th>\n",
       "      <td>1187</td>\n",
       "      <td>DEAD</td>\n",
       "      <td>ResIII</td>\n",
       "      <td>65.83</td>\n",
       "      <td>2.400000e-10</td>\n",
       "    </tr>\n",
       "    <tr>\n",
       "      <th>11</th>\n",
       "      <td>1196</td>\n",
       "      <td>DEAD</td>\n",
       "      <td>AAA_33</td>\n",
       "      <td>26.10</td>\n",
       "      <td>9.300000e-04</td>\n",
       "    </tr>\n",
       "    <tr>\n",
       "      <th>12</th>\n",
       "      <td>1204</td>\n",
       "      <td>DEAD</td>\n",
       "      <td>AAA</td>\n",
       "      <td>25.91</td>\n",
       "      <td>1.000000e-03</td>\n",
       "    </tr>\n",
       "    <tr>\n",
       "      <th>13</th>\n",
       "      <td>1247</td>\n",
       "      <td>DEAD</td>\n",
       "      <td>AAA_18</td>\n",
       "      <td>25.19</td>\n",
       "      <td>8.100000e-04</td>\n",
       "    </tr>\n",
       "    <tr>\n",
       "      <th>14</th>\n",
       "      <td>1731</td>\n",
       "      <td>Septin</td>\n",
       "      <td>GTP_EFTU</td>\n",
       "      <td>35.07</td>\n",
       "      <td>1.500000e-04</td>\n",
       "    </tr>\n",
       "    <tr>\n",
       "      <th>15</th>\n",
       "      <td>1745</td>\n",
       "      <td>Septin</td>\n",
       "      <td>ABC_tran</td>\n",
       "      <td>31.86</td>\n",
       "      <td>2.500000e-04</td>\n",
       "    </tr>\n",
       "    <tr>\n",
       "      <th>16</th>\n",
       "      <td>1758</td>\n",
       "      <td>Septin</td>\n",
       "      <td>AAA_33</td>\n",
       "      <td>31.68</td>\n",
       "      <td>1.600000e-04</td>\n",
       "    </tr>\n",
       "    <tr>\n",
       "      <th>17</th>\n",
       "      <td>1766</td>\n",
       "      <td>Septin</td>\n",
       "      <td>AAA</td>\n",
       "      <td>28.06</td>\n",
       "      <td>8.300000e-04</td>\n",
       "    </tr>\n",
       "    <tr>\n",
       "      <th>18</th>\n",
       "      <td>1787</td>\n",
       "      <td>Septin</td>\n",
       "      <td>NACHT</td>\n",
       "      <td>31.76</td>\n",
       "      <td>3.400000e-04</td>\n",
       "    </tr>\n",
       "    <tr>\n",
       "      <th>19</th>\n",
       "      <td>1791</td>\n",
       "      <td>Septin</td>\n",
       "      <td>Dynamin_N</td>\n",
       "      <td>31.63</td>\n",
       "      <td>3.400000e-04</td>\n",
       "    </tr>\n",
       "    <tr>\n",
       "      <th>20</th>\n",
       "      <td>1795</td>\n",
       "      <td>Septin</td>\n",
       "      <td>MMR_HSR1</td>\n",
       "      <td>30.82</td>\n",
       "      <td>1.900000e-04</td>\n",
       "    </tr>\n",
       "    <tr>\n",
       "      <th>21</th>\n",
       "      <td>1805</td>\n",
       "      <td>Septin</td>\n",
       "      <td>Roc</td>\n",
       "      <td>29.18</td>\n",
       "      <td>6.500000e-04</td>\n",
       "    </tr>\n",
       "    <tr>\n",
       "      <th>22</th>\n",
       "      <td>1808</td>\n",
       "      <td>Septin</td>\n",
       "      <td>AAA_18</td>\n",
       "      <td>28.69</td>\n",
       "      <td>2.500000e-04</td>\n",
       "    </tr>\n",
       "    <tr>\n",
       "      <th>23</th>\n",
       "      <td>2195</td>\n",
       "      <td>Sulfotransfer_3</td>\n",
       "      <td>Sulfotransfer_1</td>\n",
       "      <td>59.35</td>\n",
       "      <td>1.000000e-08</td>\n",
       "    </tr>\n",
       "    <tr>\n",
       "      <th>24</th>\n",
       "      <td>2248</td>\n",
       "      <td>Sulfotransfer_3</td>\n",
       "      <td>AAA_18</td>\n",
       "      <td>27.94</td>\n",
       "      <td>2.600000e-04</td>\n",
       "    </tr>\n",
       "    <tr>\n",
       "      <th>25</th>\n",
       "      <td>2431</td>\n",
       "      <td>Ras</td>\n",
       "      <td>GTP_EFTU</td>\n",
       "      <td>29.77</td>\n",
       "      <td>5.300000e-04</td>\n",
       "    </tr>\n",
       "    <tr>\n",
       "      <th>26</th>\n",
       "      <td>2444</td>\n",
       "      <td>Ras</td>\n",
       "      <td>ABC_tran</td>\n",
       "      <td>28.38</td>\n",
       "      <td>4.700000e-04</td>\n",
       "    </tr>\n",
       "    <tr>\n",
       "      <th>27</th>\n",
       "      <td>2451</td>\n",
       "      <td>Ras</td>\n",
       "      <td>AAA_33</td>\n",
       "      <td>26.27</td>\n",
       "      <td>7.400000e-04</td>\n",
       "    </tr>\n",
       "    <tr>\n",
       "      <th>28</th>\n",
       "      <td>2475</td>\n",
       "      <td>Ras</td>\n",
       "      <td>AAA_5</td>\n",
       "      <td>26.91</td>\n",
       "      <td>6.800000e-04</td>\n",
       "    </tr>\n",
       "    <tr>\n",
       "      <th>29</th>\n",
       "      <td>2479</td>\n",
       "      <td>Ras</td>\n",
       "      <td>NACHT</td>\n",
       "      <td>29.22</td>\n",
       "      <td>4.400000e-04</td>\n",
       "    </tr>\n",
       "    <tr>\n",
       "      <th>...</th>\n",
       "      <td>...</td>\n",
       "      <td>...</td>\n",
       "      <td>...</td>\n",
       "      <td>...</td>\n",
       "      <td>...</td>\n",
       "    </tr>\n",
       "    <tr>\n",
       "      <th>526</th>\n",
       "      <td>7507767</td>\n",
       "      <td>zf-H2C2_2</td>\n",
       "      <td>zf-C2H2_jaz</td>\n",
       "      <td>23.10</td>\n",
       "      <td>3.900000e-11</td>\n",
       "    </tr>\n",
       "    <tr>\n",
       "      <th>527</th>\n",
       "      <td>7507769</td>\n",
       "      <td>zf-H2C2_2</td>\n",
       "      <td>zf-BED</td>\n",
       "      <td>14.79</td>\n",
       "      <td>5.600000e-06</td>\n",
       "    </tr>\n",
       "    <tr>\n",
       "      <th>528</th>\n",
       "      <td>7507786</td>\n",
       "      <td>zf-C2H2_jaz</td>\n",
       "      <td>zf-C2H2</td>\n",
       "      <td>33.81</td>\n",
       "      <td>3.400000e-15</td>\n",
       "    </tr>\n",
       "    <tr>\n",
       "      <th>529</th>\n",
       "      <td>7507788</td>\n",
       "      <td>zf-C2H2_jaz</td>\n",
       "      <td>zf-met</td>\n",
       "      <td>61.71</td>\n",
       "      <td>2.200000e-63</td>\n",
       "    </tr>\n",
       "    <tr>\n",
       "      <th>530</th>\n",
       "      <td>7507790</td>\n",
       "      <td>zf-C2H2_jaz</td>\n",
       "      <td>zf-BED</td>\n",
       "      <td>19.12</td>\n",
       "      <td>1.900000e-07</td>\n",
       "    </tr>\n",
       "    <tr>\n",
       "      <th>531</th>\n",
       "      <td>7507796</td>\n",
       "      <td>zf-BED</td>\n",
       "      <td>zf-C2H2</td>\n",
       "      <td>24.72</td>\n",
       "      <td>4.900000e-08</td>\n",
       "    </tr>\n",
       "    <tr>\n",
       "      <th>532</th>\n",
       "      <td>7507798</td>\n",
       "      <td>zf-BED</td>\n",
       "      <td>zf-met</td>\n",
       "      <td>19.48</td>\n",
       "      <td>9.500000e-27</td>\n",
       "    </tr>\n",
       "    <tr>\n",
       "      <th>533</th>\n",
       "      <td>7507821</td>\n",
       "      <td>zf-C2H2</td>\n",
       "      <td>zf-met</td>\n",
       "      <td>35.68</td>\n",
       "      <td>2.400000e-36</td>\n",
       "    </tr>\n",
       "    <tr>\n",
       "      <th>534</th>\n",
       "      <td>7507945</td>\n",
       "      <td>APOBEC_N</td>\n",
       "      <td>APOBEC_C</td>\n",
       "      <td>71.83</td>\n",
       "      <td>1.200000e-12</td>\n",
       "    </tr>\n",
       "    <tr>\n",
       "      <th>535</th>\n",
       "      <td>7509317</td>\n",
       "      <td>Methyltransf_11</td>\n",
       "      <td>Methyltransf_12</td>\n",
       "      <td>76.30</td>\n",
       "      <td>7.400000e-16</td>\n",
       "    </tr>\n",
       "    <tr>\n",
       "      <th>536</th>\n",
       "      <td>7509342</td>\n",
       "      <td>Methyltransf_11</td>\n",
       "      <td>Methyltransf_23</td>\n",
       "      <td>77.20</td>\n",
       "      <td>6.400000e-15</td>\n",
       "    </tr>\n",
       "    <tr>\n",
       "      <th>537</th>\n",
       "      <td>7509344</td>\n",
       "      <td>Methyltransf_11</td>\n",
       "      <td>Methyltransf_25</td>\n",
       "      <td>93.77</td>\n",
       "      <td>1.300000e-19</td>\n",
       "    </tr>\n",
       "    <tr>\n",
       "      <th>538</th>\n",
       "      <td>7509366</td>\n",
       "      <td>Methyltransf_11</td>\n",
       "      <td>Methyltransf_31</td>\n",
       "      <td>90.63</td>\n",
       "      <td>1.300000e-17</td>\n",
       "    </tr>\n",
       "    <tr>\n",
       "      <th>539</th>\n",
       "      <td>7509427</td>\n",
       "      <td>Methyltransf_12</td>\n",
       "      <td>Methyltransf_23</td>\n",
       "      <td>73.41</td>\n",
       "      <td>3.000000e-14</td>\n",
       "    </tr>\n",
       "    <tr>\n",
       "      <th>540</th>\n",
       "      <td>7509429</td>\n",
       "      <td>Methyltransf_12</td>\n",
       "      <td>Methyltransf_25</td>\n",
       "      <td>74.30</td>\n",
       "      <td>1.500000e-15</td>\n",
       "    </tr>\n",
       "    <tr>\n",
       "      <th>541</th>\n",
       "      <td>7509451</td>\n",
       "      <td>Methyltransf_12</td>\n",
       "      <td>Methyltransf_31</td>\n",
       "      <td>77.62</td>\n",
       "      <td>4.100000e-15</td>\n",
       "    </tr>\n",
       "    <tr>\n",
       "      <th>542</th>\n",
       "      <td>7509586</td>\n",
       "      <td>Pyr_redox_2</td>\n",
       "      <td>NAD_binding_8</td>\n",
       "      <td>41.17</td>\n",
       "      <td>4.300000e-07</td>\n",
       "    </tr>\n",
       "    <tr>\n",
       "      <th>543</th>\n",
       "      <td>7509638</td>\n",
       "      <td>Pyr_redox_2</td>\n",
       "      <td>ThiF</td>\n",
       "      <td>31.18</td>\n",
       "      <td>8.500000e-04</td>\n",
       "    </tr>\n",
       "    <tr>\n",
       "      <th>544</th>\n",
       "      <td>7510298</td>\n",
       "      <td>Methyltransf_23</td>\n",
       "      <td>Methyltransf_25</td>\n",
       "      <td>67.16</td>\n",
       "      <td>6.200000e-13</td>\n",
       "    </tr>\n",
       "    <tr>\n",
       "      <th>545</th>\n",
       "      <td>7510320</td>\n",
       "      <td>Methyltransf_23</td>\n",
       "      <td>Methyltransf_31</td>\n",
       "      <td>73.48</td>\n",
       "      <td>4.000000e-13</td>\n",
       "    </tr>\n",
       "    <tr>\n",
       "      <th>546</th>\n",
       "      <td>7510465</td>\n",
       "      <td>Methyltransf_25</td>\n",
       "      <td>Methyltransf_31</td>\n",
       "      <td>89.70</td>\n",
       "      <td>3.300000e-17</td>\n",
       "    </tr>\n",
       "    <tr>\n",
       "      <th>547</th>\n",
       "      <td>7510909</td>\n",
       "      <td>adh_short_C2</td>\n",
       "      <td>adh_short</td>\n",
       "      <td>159.76</td>\n",
       "      <td>9.600000e-25</td>\n",
       "    </tr>\n",
       "    <tr>\n",
       "      <th>548</th>\n",
       "      <td>7510919</td>\n",
       "      <td>adh_short_C2</td>\n",
       "      <td>KR</td>\n",
       "      <td>51.79</td>\n",
       "      <td>1.900000e-07</td>\n",
       "    </tr>\n",
       "    <tr>\n",
       "      <th>549</th>\n",
       "      <td>7511842</td>\n",
       "      <td>ThiF</td>\n",
       "      <td>NAD_binding_8</td>\n",
       "      <td>25.93</td>\n",
       "      <td>2.300000e-04</td>\n",
       "    </tr>\n",
       "    <tr>\n",
       "      <th>550</th>\n",
       "      <td>7512456</td>\n",
       "      <td>adh_short</td>\n",
       "      <td>KR</td>\n",
       "      <td>70.65</td>\n",
       "      <td>9.300000e-11</td>\n",
       "    </tr>\n",
       "    <tr>\n",
       "      <th>551</th>\n",
       "      <td>7512473</td>\n",
       "      <td>adh_short</td>\n",
       "      <td>Epimerase</td>\n",
       "      <td>32.34</td>\n",
       "      <td>2.900000e-04</td>\n",
       "    </tr>\n",
       "    <tr>\n",
       "      <th>552</th>\n",
       "      <td>7512759</td>\n",
       "      <td>KR</td>\n",
       "      <td>Epimerase</td>\n",
       "      <td>32.57</td>\n",
       "      <td>2.300000e-04</td>\n",
       "    </tr>\n",
       "    <tr>\n",
       "      <th>553</th>\n",
       "      <td>7513073</td>\n",
       "      <td>AA_permease</td>\n",
       "      <td>AA_permease_2</td>\n",
       "      <td>144.36</td>\n",
       "      <td>4.700000e-18</td>\n",
       "    </tr>\n",
       "    <tr>\n",
       "      <th>554</th>\n",
       "      <td>7513158</td>\n",
       "      <td>PHD_2</td>\n",
       "      <td>PHD</td>\n",
       "      <td>39.66</td>\n",
       "      <td>2.200000e-10</td>\n",
       "    </tr>\n",
       "    <tr>\n",
       "      <th>555</th>\n",
       "      <td>7513163</td>\n",
       "      <td>zf-HC5HC2H</td>\n",
       "      <td>zf-HC5HC2H_2</td>\n",
       "      <td>58.84</td>\n",
       "      <td>1.300000e-10</td>\n",
       "    </tr>\n",
       "  </tbody>\n",
       "</table>\n",
       "<p>556 rows × 5 columns</p>\n",
       "</div>"
      ],
      "text/plain": [
       "       index         sim_dom1         sim_dom2  scores      p-values\n",
       "0        331      Hydrolase_4    Abhydrolase_6   64.54  2.100000e-09\n",
       "1        340      Hydrolase_4    Abhydrolase_1  106.22  2.800000e-16\n",
       "2        506    Abhydrolase_6    Abhydrolase_1   62.74  5.500000e-10\n",
       "3        577               S1              CSD   21.23  1.100000e-04\n",
       "4       1001    Guanylate_kin           AAA_33   27.34  6.000000e-04\n",
       "5       1026    Guanylate_kin            AAA_5   26.90  8.600000e-04\n",
       "6       1039    Guanylate_kin         MMR_HSR1   27.41  4.800000e-04\n",
       "7       1052    Guanylate_kin           AAA_18   27.28  3.100000e-04\n",
       "8       1176             DEAD      Microtub_bd   27.49  7.700000e-04\n",
       "9       1184             DEAD           SNF2_N   45.11  4.600000e-06\n",
       "10      1187             DEAD           ResIII   65.83  2.400000e-10\n",
       "11      1196             DEAD           AAA_33   26.10  9.300000e-04\n",
       "12      1204             DEAD              AAA   25.91  1.000000e-03\n",
       "13      1247             DEAD           AAA_18   25.19  8.100000e-04\n",
       "14      1731           Septin         GTP_EFTU   35.07  1.500000e-04\n",
       "15      1745           Septin         ABC_tran   31.86  2.500000e-04\n",
       "16      1758           Septin           AAA_33   31.68  1.600000e-04\n",
       "17      1766           Septin              AAA   28.06  8.300000e-04\n",
       "18      1787           Septin            NACHT   31.76  3.400000e-04\n",
       "19      1791           Septin        Dynamin_N   31.63  3.400000e-04\n",
       "20      1795           Septin         MMR_HSR1   30.82  1.900000e-04\n",
       "21      1805           Septin              Roc   29.18  6.500000e-04\n",
       "22      1808           Septin           AAA_18   28.69  2.500000e-04\n",
       "23      2195  Sulfotransfer_3  Sulfotransfer_1   59.35  1.000000e-08\n",
       "24      2248  Sulfotransfer_3           AAA_18   27.94  2.600000e-04\n",
       "25      2431              Ras         GTP_EFTU   29.77  5.300000e-04\n",
       "26      2444              Ras         ABC_tran   28.38  4.700000e-04\n",
       "27      2451              Ras           AAA_33   26.27  7.400000e-04\n",
       "28      2475              Ras            AAA_5   26.91  6.800000e-04\n",
       "29      2479              Ras            NACHT   29.22  4.400000e-04\n",
       "..       ...              ...              ...     ...           ...\n",
       "526  7507767        zf-H2C2_2      zf-C2H2_jaz   23.10  3.900000e-11\n",
       "527  7507769        zf-H2C2_2           zf-BED   14.79  5.600000e-06\n",
       "528  7507786      zf-C2H2_jaz          zf-C2H2   33.81  3.400000e-15\n",
       "529  7507788      zf-C2H2_jaz           zf-met   61.71  2.200000e-63\n",
       "530  7507790      zf-C2H2_jaz           zf-BED   19.12  1.900000e-07\n",
       "531  7507796           zf-BED          zf-C2H2   24.72  4.900000e-08\n",
       "532  7507798           zf-BED           zf-met   19.48  9.500000e-27\n",
       "533  7507821          zf-C2H2           zf-met   35.68  2.400000e-36\n",
       "534  7507945         APOBEC_N         APOBEC_C   71.83  1.200000e-12\n",
       "535  7509317  Methyltransf_11  Methyltransf_12   76.30  7.400000e-16\n",
       "536  7509342  Methyltransf_11  Methyltransf_23   77.20  6.400000e-15\n",
       "537  7509344  Methyltransf_11  Methyltransf_25   93.77  1.300000e-19\n",
       "538  7509366  Methyltransf_11  Methyltransf_31   90.63  1.300000e-17\n",
       "539  7509427  Methyltransf_12  Methyltransf_23   73.41  3.000000e-14\n",
       "540  7509429  Methyltransf_12  Methyltransf_25   74.30  1.500000e-15\n",
       "541  7509451  Methyltransf_12  Methyltransf_31   77.62  4.100000e-15\n",
       "542  7509586      Pyr_redox_2    NAD_binding_8   41.17  4.300000e-07\n",
       "543  7509638      Pyr_redox_2             ThiF   31.18  8.500000e-04\n",
       "544  7510298  Methyltransf_23  Methyltransf_25   67.16  6.200000e-13\n",
       "545  7510320  Methyltransf_23  Methyltransf_31   73.48  4.000000e-13\n",
       "546  7510465  Methyltransf_25  Methyltransf_31   89.70  3.300000e-17\n",
       "547  7510909     adh_short_C2        adh_short  159.76  9.600000e-25\n",
       "548  7510919     adh_short_C2               KR   51.79  1.900000e-07\n",
       "549  7511842             ThiF    NAD_binding_8   25.93  2.300000e-04\n",
       "550  7512456        adh_short               KR   70.65  9.300000e-11\n",
       "551  7512473        adh_short        Epimerase   32.34  2.900000e-04\n",
       "552  7512759               KR        Epimerase   32.57  2.300000e-04\n",
       "553  7513073      AA_permease    AA_permease_2  144.36  4.700000e-18\n",
       "554  7513158            PHD_2              PHD   39.66  2.200000e-10\n",
       "555  7513163       zf-HC5HC2H     zf-HC5HC2H_2   58.84  1.300000e-10\n",
       "\n",
       "[556 rows x 5 columns]"
      ]
     },
     "execution_count": 79,
     "metadata": {},
     "output_type": "execute_result"
    }
   ],
   "source": [
    "significantly_similar_pairs"
   ]
  }
 ],
 "metadata": {
  "kernelspec": {
   "display_name": "Python 2",
   "language": "python",
   "name": "python2"
  },
  "language_info": {
   "codemirror_mode": {
    "name": "ipython",
    "version": 2
   },
   "file_extension": ".py",
   "mimetype": "text/x-python",
   "name": "python",
   "nbconvert_exporter": "python",
   "pygments_lexer": "ipython2",
   "version": "2.7.12"
  }
 },
 "nbformat": 4,
 "nbformat_minor": 1
}
