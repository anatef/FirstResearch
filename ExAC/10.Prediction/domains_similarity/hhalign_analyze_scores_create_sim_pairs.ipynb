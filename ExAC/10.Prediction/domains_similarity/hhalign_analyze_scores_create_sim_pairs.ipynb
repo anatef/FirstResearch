{
 "cells": [
  {
   "cell_type": "code",
   "execution_count": 1,
   "metadata": {},
   "outputs": [],
   "source": [
    "%matplotlib inline\n",
    "import pandas as pd\n",
    "import numpy as np\n",
    "import matplotlib.pyplot as plt\n",
    "from scipy import stats, integrate\n",
    "import seaborn as sns\n",
    "import pickle"
   ]
  },
  {
   "cell_type": "code",
   "execution_count": 50,
   "metadata": {},
   "outputs": [],
   "source": [
    "curr_dir = !pwd\n",
    "pfam_version = \"31\"\n",
    "\n",
    "hhalign_scores = pd.read_csv(curr_dir[0]+\"/pfam-v\"+pfam_version+\"/domains_hhlign_scores.csv\", sep='\\t', index_col=0)"
   ]
  },
  {
   "cell_type": "markdown",
   "metadata": {},
   "source": [
    "### Remove domains from \"no clan\" that were accidentally calculated (now it's removed before running hhalign, but keeping this here for pfam-v30)"
   ]
  },
  {
   "cell_type": "code",
   "execution_count": 51,
   "metadata": {},
   "outputs": [],
   "source": [
    "#Remove domains from \"no clan\" that were accidentally calculated\n",
    "clan_path = curr_dir[0]+\"/../../2.parse_Pfam/v\"+pfam_version+\"/\"\n",
    "with open(clan_path+\"domain_to_clan_dict.pik\", 'rb') as handle:\n",
    "    domain_to_clan_dict = pickle.load(handle)\n",
    "with open(clan_path+\"clan_to_domains_dict.pik\", 'rb') as handle:\n",
    "    clan_to_domains_dict = pickle.load(handle)"
   ]
  },
  {
   "cell_type": "code",
   "execution_count": 52,
   "metadata": {},
   "outputs": [],
   "source": [
    "drop_idx = []\n",
    "for index, row in hhalign_scores.iterrows():\n",
    "    clan1 = domain_to_clan_dict[row[\"sim_dom1\"]]\n",
    "    clan2 = domain_to_clan_dict[row[\"sim_dom2\"]]\n",
    "    if (clan1 == \"No_clan\" and clan2 == \"No_clan\"):\n",
    "        drop_idx.append(index)"
   ]
  },
  {
   "cell_type": "code",
   "execution_count": 53,
   "metadata": {},
   "outputs": [
    {
     "data": {
      "text/plain": [
       "0"
      ]
     },
     "execution_count": 53,
     "metadata": {},
     "output_type": "execute_result"
    }
   ],
   "source": [
    "len(drop_idx)"
   ]
  },
  {
   "cell_type": "code",
   "execution_count": 54,
   "metadata": {},
   "outputs": [],
   "source": [
    "hhalign_scores_filtered_no_clan = hhalign_scores.drop(drop_idx)\n",
    "hhalign_scores_filtered_no_clan = hhalign_scores_filtered_no_clan.reset_index(drop=True)"
   ]
  },
  {
   "cell_type": "code",
   "execution_count": 56,
   "metadata": {},
   "outputs": [
    {
     "data": {
      "text/plain": [
       "Index([u'index', u'sim_dom1', u'sim_dom2', u'prob1', u'pval1', u'score1',\n",
       "       u'aligned_cols1', u'prob2', u'pval2', u'score2', u'ident_perc2',\n",
       "       u'ident_perc1', u'aligned_cols2'],\n",
       "      dtype='object')"
      ]
     },
     "execution_count": 56,
     "metadata": {},
     "output_type": "execute_result"
    }
   ],
   "source": [
    "hhalign_scores_filtered_no_clan.columns"
   ]
  },
  {
   "cell_type": "markdown",
   "metadata": {},
   "source": [
    "### Adding the raw score divided by cols aligned\n",
    "from the HHsuite userguise: https://github.com/soedinglab/hh-suite/blob/master/hhsuite-userguide.pdf (page 23):\n",
    "\n",
    "How can I build a phylogenetic tree for HMMs? I would use a similarity measure like\n",
    "the raw score per alignment length. You might also add the secondary structure score to the\n",
    "raw score with some weight. Whereas probabilities, E-values, and P-values are useful for deciding\n",
    "whether a match is a reliable homolog or not, they are not suitable for measuring similarities\n",
    "because they strongly depend on the length of the alignment"
   ]
  },
  {
   "cell_type": "code",
   "execution_count": 58,
   "metadata": {},
   "outputs": [],
   "source": [
    "score_alignment_cols_ratio_list1 = []\n",
    "score_alignment_cols_ratio_list2 = []\n",
    "for index, row in hhalign_scores_filtered_no_clan.iterrows():\n",
    "    score_norm = row[\"score1\"]/float(row[\"aligned_cols1\"])\n",
    "    score_alignment_cols_ratio_list1.append(score_norm)\n",
    "    score_norm = row[\"score2\"]/float(row[\"aligned_cols2\"])\n",
    "    score_alignment_cols_ratio_list2.append(score_norm)\n",
    "\n",
    "hhalign_scores_filtered_no_clan[\"score_norm1\"] = score_alignment_cols_ratio_list1\n",
    "hhalign_scores_filtered_no_clan[\"score_norm2\"] = score_alignment_cols_ratio_list2"
   ]
  },
  {
   "cell_type": "markdown",
   "metadata": {},
   "source": [
    "### Check the scores distribution to determine a threshold for similarity"
   ]
  },
  {
   "cell_type": "code",
   "execution_count": 9,
   "metadata": {},
   "outputs": [],
   "source": [
    "h = np.histogram(hhalign_scores_filtered_no_clan[\"scores\"])"
   ]
  },
  {
   "cell_type": "code",
   "execution_count": 10,
   "metadata": {},
   "outputs": [
    {
     "data": {
      "image/png": "[encoded data removed]",
      "text/plain": [
       "<matplotlib.figure.Figure at 0x7f7ca9173190>"
      ]
     },
     "metadata": {},
     "output_type": "display_data"
    }
   ],
   "source": [
    "sns.set(color_codes=True)\n",
    "np.random.seed(sum(map(ord, \"distributions\")))\n",
    "sns.distplot(hhalign_scores_filtered_no_clan[\"scores\"]);"
   ]
  },
  {
   "cell_type": "markdown",
   "metadata": {},
   "source": [
    "This distribution is only of similarity scores within clans, so they are already pretty high and not represnting similarity between two random domains."
   ]
  },
  {
   "cell_type": "code",
   "execution_count": 12,
   "metadata": {},
   "outputs": [
    {
     "data": {
      "image/png": "[encoded data removed]",
      "text/plain": [
       "<matplotlib.figure.Figure at 0x7f7ca8b80550>"
      ]
     },
     "metadata": {},
     "output_type": "display_data"
    }
   ],
   "source": [
    "sns.distplot(hhalign_scores_filtered_no_clan[\"p-values\"]);"
   ]
  },
  {
   "cell_type": "markdown",
   "metadata": {},
   "source": [
    "0.001 p-value is the diffault threshold for Viterbi:\n",
    "https://www.ncbi.nlm.nih.gov/pmc/articles/PMC3197634/"
   ]
  },
  {
   "cell_type": "code",
   "execution_count": 40,
   "metadata": {},
   "outputs": [
    {
     "data": {
      "text/plain": [
       "877"
      ]
     },
     "execution_count": 40,
     "metadata": {},
     "output_type": "execute_result"
    }
   ],
   "source": [
    "np.sum(hhalign_scores_filtered_no_clan[\"p-values\"] <= 0.001)"
   ]
  },
  {
   "cell_type": "code",
   "execution_count": 71,
   "metadata": {},
   "outputs": [],
   "source": [
    "#Has both directions with meaningful alignments\n",
    "significantly_similar_pairs1 = hhalign_scores_filtered_no_clan[hhalign_scores_filtered_no_clan[\"aligned_cols1\"] >= 10][hhalign_scores_filtered_no_clan[\"pval1\"] <= 0.001]\n",
    "significantly_similar_pairs2 = hhalign_scores_filtered_no_clan[hhalign_scores_filtered_no_clan[\"aligned_cols2\"] >= 10][hhalign_scores_filtered_no_clan[\"pval2\"] <= 0.001]"
   ]
  },
  {
   "cell_type": "code",
   "execution_count": 79,
   "metadata": {},
   "outputs": [],
   "source": [
    "#Finding the intersection\n",
    "significantly_similar_pairs = pd.merge(significantly_similar_pairs1, significantly_similar_pairs2, how=\"inner\")"
   ]
  },
  {
   "cell_type": "code",
   "execution_count": 81,
   "metadata": {},
   "outputs": [],
   "source": [
    "#Saving to .csv\n",
    "significantly_similar_pairs.to_csv(\"pfam-v\"+pfam_version+\"/sig_pairs_pvals0.001_cols10_2directions.csv\", sep='\\t')"
   ]
  },
  {
   "cell_type": "markdown",
   "metadata": {},
   "source": [
    "#### Checking one domain for exmaple"
   ]
  },
  {
   "cell_type": "code",
   "execution_count": 84,
   "metadata": {},
   "outputs": [
    {
     "data": {
      "text/html": [
       "<div>\n",
       "<table border=\"1\" class=\"dataframe\">\n",
       "  <thead>\n",
       "    <tr style=\"text-align: right;\">\n",
       "      <th></th>\n",
       "      <th>index</th>\n",
       "      <th>sim_dom1</th>\n",
       "      <th>sim_dom2</th>\n",
       "      <th>prob1</th>\n",
       "      <th>pval1</th>\n",
       "      <th>score1</th>\n",
       "      <th>aligned_cols1</th>\n",
       "      <th>prob2</th>\n",
       "      <th>pval2</th>\n",
       "      <th>score2</th>\n",
       "      <th>ident_perc2</th>\n",
       "      <th>ident_perc1</th>\n",
       "      <th>aligned_cols2</th>\n",
       "      <th>score_norm1</th>\n",
       "      <th>score_norm2</th>\n",
       "    </tr>\n",
       "  </thead>\n",
       "  <tbody>\n",
       "    <tr>\n",
       "      <th>85</th>\n",
       "      <td>2993</td>\n",
       "      <td>Sulfotransfer_2</td>\n",
       "      <td>Sulfotransfer_3</td>\n",
       "      <td>65.27</td>\n",
       "      <td>2.900000e-04</td>\n",
       "      <td>26.50</td>\n",
       "      <td>24</td>\n",
       "      <td>71.46</td>\n",
       "      <td>1.800000e-04</td>\n",
       "      <td>27.16</td>\n",
       "      <td>13</td>\n",
       "      <td>13</td>\n",
       "      <td>24</td>\n",
       "      <td>1.104167</td>\n",
       "      <td>1.131667</td>\n",
       "    </tr>\n",
       "    <tr>\n",
       "      <th>86</th>\n",
       "      <td>2995</td>\n",
       "      <td>Sulfotransfer_2</td>\n",
       "      <td>Sulfotransfer_1</td>\n",
       "      <td>97.32</td>\n",
       "      <td>5.200000e-09</td>\n",
       "      <td>52.55</td>\n",
       "      <td>25</td>\n",
       "      <td>97.31</td>\n",
       "      <td>6.600000e-09</td>\n",
       "      <td>50.01</td>\n",
       "      <td>16</td>\n",
       "      <td>16</td>\n",
       "      <td>25</td>\n",
       "      <td>2.102000</td>\n",
       "      <td>2.000400</td>\n",
       "    </tr>\n",
       "  </tbody>\n",
       "</table>\n",
       "</div>"
      ],
      "text/plain": [
       "    index         sim_dom1         sim_dom2  prob1         pval1  score1  \\\n",
       "85   2993  Sulfotransfer_2  Sulfotransfer_3  65.27  2.900000e-04   26.50   \n",
       "86   2995  Sulfotransfer_2  Sulfotransfer_1  97.32  5.200000e-09   52.55   \n",
       "\n",
       "    aligned_cols1  prob2         pval2  score2  ident_perc2  ident_perc1  \\\n",
       "85             24  71.46  1.800000e-04   27.16           13           13   \n",
       "86             25  97.31  6.600000e-09   50.01           16           16   \n",
       "\n",
       "    aligned_cols2  score_norm1  score_norm2  \n",
       "85             24     1.104167     1.131667  \n",
       "86             25     2.102000     2.000400  "
      ]
     },
     "execution_count": 84,
     "metadata": {},
     "output_type": "execute_result"
    }
   ],
   "source": [
    "pd.DataFrame.append(significantly_similar_pairs[significantly_similar_pairs[\"sim_dom1\"] == \"Sulfotransfer_2\"], significantly_similar_pairs[significantly_similar_pairs[\"sim_dom2\"] == \"Sulfotransfer_2\"])"
   ]
  },
  {
   "cell_type": "markdown",
   "metadata": {},
   "source": [
    "### Draft - old condition on raw score\n",
    "According the HHalign userguide raw score is dependant on length, score should be normalized by number of aligned columns."
   ]
  },
  {
   "cell_type": "markdown",
   "metadata": {},
   "source": [
    "HHalign Viterbi score >= 11 like the threshold used in: https://academic.oup.com/nar/article/45/W1/W470/3782606"
   ]
  },
  {
   "cell_type": "code",
   "execution_count": 34,
   "metadata": {},
   "outputs": [],
   "source": [
    "significantly_similar_pairs = hhalign_scores_filtered_no_clan[hhalign_scores_filtered_no_clan[\"p-values\"] <= 0.001][hhalign_scores_filtered_no_clan[\"scores\"] >= 10]\n",
    "significantly_similar_pairs.reset_index(inplace=True, drop=True)"
   ]
  },
  {
   "cell_type": "code",
   "execution_count": null,
   "metadata": {},
   "outputs": [],
   "source": []
  }
 ],
 "metadata": {
  "kernelspec": {
   "display_name": "Python 2",
   "language": "python",
   "name": "python2"
  },
  "language_info": {
   "codemirror_mode": {
    "name": "ipython",
    "version": 2
   },
   "file_extension": ".py",
   "mimetype": "text/x-python",
   "name": "python",
   "nbconvert_exporter": "python",
   "pygments_lexer": "ipython2",
   "version": "2.7.12"
  }
 },
 "nbformat": 4,
 "nbformat_minor": 1
}
