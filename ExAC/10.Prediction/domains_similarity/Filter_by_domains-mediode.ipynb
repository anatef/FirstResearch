{
 "cells": [
  {
   "cell_type": "markdown",
   "metadata": {},
   "source": [
    "## Leaving only mediode of each similarity cluster"
   ]
  },
  {
   "cell_type": "code",
   "execution_count": 1,
   "metadata": {},
   "outputs": [
    {
     "data": {
      "text/html": [
       "<style>.container { width:100% !important; }</style>"
      ],
      "text/plain": [
       "<IPython.core.display.HTML object>"
      ]
     },
     "execution_count": 1,
     "metadata": {},
     "output_type": "execute_result"
    }
   ],
   "source": [
    "import pandas as pd\n",
    "import numpy as np\n",
    "import pickle\n",
    "from collections import defaultdict\n",
    "\n",
    "from IPython.core.display import HTML\n",
    "HTML(\"<style>.container { width:100% !important; }</style>\")"
   ]
  },
  {
   "cell_type": "markdown",
   "metadata": {},
   "source": [
    "### Reading the input dataset"
   ]
  },
  {
   "cell_type": "code",
   "execution_count": 2,
   "metadata": {},
   "outputs": [
    {
     "name": "stdout",
     "output_type": "stream",
     "text": [
      "all samples positions #: 55936\n",
      "clusters #: 36\n",
      "domains in clusters #: 150\n"
     ]
    }
   ],
   "source": [
    "curr_dir = !pwd\n",
    "pfam_version = \"31\"\n",
    "input_path = curr_dir[0]+\"/../../9.Features_exploration/features_tables_v\"+pfam_version+\"/\"\n",
    "filename = \"windowed_positions_features_06.20.18.csv\"\n",
    "\n",
    "bind_scores_num = 10\n",
    "\n",
    "#Features table\n",
    "features_all = pd.read_csv(input_path+filename, sep='\\t', index_col=0)\n",
    "features_cols = features_all.columns[1:-bind_scores_num] #removing binding scores and domain name\n",
    "ligands = [\"dna\", \"dnabase\", \"dnabackbone\", \"rna\", \"rnabase\", \"rnabackbone\", \"peptide\", \"ion\", \"metabolite\", \"sm\"]\n",
    "print \"all samples positions #: \"+str(features_all.shape[0])\n",
    "\n",
    "#similarity clusters\n",
    "with open(curr_dir[0]+\"/sim_clusters/pfam-v\"+pfam_version+\"/domain_to_cluster_dict.pik\", 'rb') as handle:\n",
    "    domain_to_cluster_dict = pickle.load(handle)\n",
    "with open(curr_dir[0]+\"/sim_clusters/pfam-v\"+pfam_version+\"/similarity_clusters_dict.pik\", 'rb') as handle:\n",
    "    similarity_clusters_dict = pickle.load(handle)\n",
    "print \"clusters #: \"+str(len(similarity_clusters_dict.keys()))\n",
    "print \"domains in clusters #: \"+str(len(domain_to_cluster_dict.keys()))"
   ]
  },
  {
   "cell_type": "markdown",
   "metadata": {},
   "source": [
    "### In each cluster: leaving only the mediodes for the CV"
   ]
  },
  {
   "cell_type": "code",
   "execution_count": 3,
   "metadata": {},
   "outputs": [
    {
     "name": "stdout",
     "output_type": "stream",
     "text": [
      "domains to be removed #: 114\n"
     ]
    }
   ],
   "source": [
    "#Finding which domains we need to remove\n",
    "domains_for_removal = []\n",
    "for domain in domain_to_cluster_dict.keys():\n",
    "    cluster_num = domain_to_cluster_dict[domain]\n",
    "    if (domain != similarity_clusters_dict[cluster_num][\"mediode\"][0]): #If there's more than one mediode, choosing one randomly\n",
    "        domains_for_removal.append(domain)\n",
    "print \"domains to be removed #: \"+str(len(domains_for_removal))"
   ]
  },
  {
   "cell_type": "code",
   "execution_count": 4,
   "metadata": {},
   "outputs": [
    {
     "name": "stdout",
     "output_type": "stream",
     "text": [
      "total positions of removed domains #: 13401\n"
     ]
    }
   ],
   "source": [
    "#Finding all table indices (name of domain + position) for removal\n",
    "table_idx_for_removal = []\n",
    "for domain in domains_for_removal:\n",
    "    domain_idx = features_all[features_all[\"domain_name\"] == domain].index.tolist()\n",
    "    table_idx_for_removal.extend(domain_idx)\n",
    "print \"total positions of removed domains #: \"+str(len(table_idx_for_removal))"
   ]
  },
  {
   "cell_type": "code",
   "execution_count": 5,
   "metadata": {},
   "outputs": [
    {
     "name": "stdout",
     "output_type": "stream",
     "text": [
      "all samples after mediodes filter #: 42535\n"
     ]
    }
   ],
   "source": [
    "#Remove from the features table\n",
    "features_all = features_all.drop(table_idx_for_removal)\n",
    "print \"all samples after mediodes filter #: \"+str(features_all.shape[0])"
   ]
  },
  {
   "cell_type": "code",
   "execution_count": 6,
   "metadata": {},
   "outputs": [],
   "source": [
    "#Saving to file for future runs\n",
    "features_all.to_csv(curr_dir[0]+\"/filtered_features_table/windowed_positions_features_mediode_filter_06.20.18.csv\", sep='\\t')"
   ]
  }
 ],
 "metadata": {
  "kernelspec": {
   "display_name": "Python 2",
   "language": "python",
   "name": "python2"
  },
  "language_info": {
   "codemirror_mode": {
    "name": "ipython",
    "version": 2
   },
   "file_extension": ".py",
   "mimetype": "text/x-python",
   "name": "python",
   "nbconvert_exporter": "python",
   "pygments_lexer": "ipython2",
   "version": "2.7.12"
  }
 },
 "nbformat": 4,
 "nbformat_minor": 1
}
