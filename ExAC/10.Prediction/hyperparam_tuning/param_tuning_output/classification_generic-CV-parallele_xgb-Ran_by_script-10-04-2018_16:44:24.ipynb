{
 "cells": [
  {
   "cell_type": "code",
   "execution_count": 2,
   "metadata": {
    "collapsed": true
   },
   "outputs": [],
   "source": [
    "#Basic imports\n",
    "import pandas as pd\n",
    "import numpy as np\n",
    "import pickle\n",
    "from collections import defaultdict\n",
    "from os import environ\n",
    "\n",
    "#Classifier imports\n",
    "from sklearn.neighbors import KNeighborsClassifier, KNeighborsRegressor\n",
    "from sklearn.ensemble import RandomForestClassifier, AdaBoostClassifier, RandomForestRegressor\n",
    "from sklearn.linear_model import LogisticRegression\n",
    "from sklearn.svm import SVC\n",
    "from xgboost.sklearn import XGBClassifier\n",
    "\n",
    "#ML framework imports\n",
    "from sklearn.metrics import auc, roc_auc_score, precision_recall_curve\n",
    "from sklearn.model_selection import StratifiedKFold\n",
    "from sklearn.preprocessing import scale\n",
    "import xgboost as xgb\n",
    "\n",
    "#Downsamplers imports - prototype generation\n",
    "from imblearn.under_sampling import ClusterCentroids\n",
    "\n",
    "#Downsamplers imports - prototype selection - controlled\n",
    "from imblearn.under_sampling import RandomUnderSampler, NearMiss\n",
    "\n",
    "#Downsamplers imports - prototype selection - Cleaning techniques\n",
    "from imblearn.under_sampling import TomekLinks, EditedNearestNeighbours, RepeatedEditedNearestNeighbours\n",
    "\n",
    "#Downsamplers imports - prototype selection - Cleaning techniques - Condensed nearest neighbors and derived algorithms\n",
    "from imblearn.under_sampling import CondensedNearestNeighbour, OneSidedSelection, NeighbourhoodCleaningRule\n",
    "\n",
    "#Downsamplers imports - prototype selection - Cleaning techniques\n",
    "from imblearn.under_sampling import InstanceHardnessThreshold\n",
    "\n",
    "from IPython.core.display import HTML\n",
    "HTML(\"<style>.container { width:100% !important; }</style>\")\n",
    "\n",
    "ABSOLUTE_NEGATIVES = False\n",
    "FILTER_DOMAIN = False"
   ]
  },
  {
   "cell_type": "markdown",
   "metadata": {},
   "source": [
    "### Reading the input dataset"
   ]
  },
  {
   "cell_type": "code",
   "execution_count": null,
   "metadata": {
    "collapsed": false
   },
   "outputs": [],
   "source": [
    "curr_dir = !pwd\n",
    "input_path = curr_dir[0]+\"/domains_similarity/filtered_features_table/\"\n",
    "filename = \"positions_features_mediode_filter_01.25.18.csv\"\n",
    "\n",
    "#input_path = curr_dir[0]+\"/../9.Features_exploration/binding_df/10/\"\n",
    "#filename = \"positions_features_01.25.18.csv\"\n",
    "\n",
    "bind_scores_num = 10\n",
    "\n",
    "#Features table\n",
    "features_all = pd.read_csv(input_path+filename, sep='\\t', index_col=0)\n",
    "features_cols = features_all.columns[1:-bind_scores_num] #removing binding scores and domain name\n",
    "ligands = [\"dna\", \"dnabase\", \"dnabackbone\", \"rna\", \"rnabase\", \"rnabackbone\", \"peptide\", \"ion\", \"metabolite\"]\n",
    "print \"all samples positions #: \"+str(features_all.shape[0])\n",
    "\n",
    "#lignd binding domains dictionary\n",
    "with open(curr_dir[0]+\"/ligands_negatives_domains_dict.pik\", 'rb') as handle:\n",
    "        negatives_dict = pickle.load(handle)"
   ]
  },
  {
   "cell_type": "markdown",
   "metadata": {},
   "source": [
    "#### Dataset of negative examples"
   ]
  },
  {
   "cell_type": "code",
   "execution_count": null,
   "metadata": {
    "collapsed": true
   },
   "outputs": [],
   "source": [
    "def filter_to_ligand_binding_domains(use_max_binding_score):\n",
    "    \n",
    "    ligands_negatives_df = {}\n",
    "    for ligand in ligands:\n",
    "        \n",
    "        ligands_negatives_df[ligand] = pd.DataFrame()\n",
    "        for domain in negatives_dict[ligand].keys():\n",
    "            if domain == 'negatives' or domain == 'domains':\n",
    "                continue\n",
    "            domain_all = features_all.loc[features_all.loc[:,\"domain_name\"] == domain,:]\n",
    "            \n",
    "            #In case this domain was previously filtered\n",
    "            if len(domain_all) == 0:\n",
    "                continue\n",
    "            \n",
    "            if (use_max_binding_score):\n",
    "                ligands_negatives_df[ligand] = pd.concat([ligands_negatives_df[ligand],domain_all.loc[domain_all.loc[:,\"max_binding_score\"] == 0,:]])\n",
    "            else:\n",
    "                ligand_bind_str = ligand+\"_binding_score\"\n",
    "                ligands_negatives_df[ligand] = pd.concat([ligands_negatives_df[ligand],domain_all.loc[domain_all.loc[:,ligand_bind_str] == 0,:]])\n",
    "        \n",
    "    #Handeling the ligand \"all_ligands\"\n",
    "    all_ligands_negatives_df = pd.concat([ligands_negatives_df[\"dna\"], ligands_negatives_df[\"dnabase\"], ligands_negatives_df[\"dnabackbone\"], ligands_negatives_df[\"rna\"], ligands_negatives_df[\"rnabase\"], \n",
    "                                 ligands_negatives_df[\"rnabackbone\"], ligands_negatives_df[\"ion\"], ligands_negatives_df[\"peptide\"], ligands_negatives_df[\"metabolite\"]])\n",
    "    all_ligands_negatives_df = all_ligands_negatives_df.drop_duplicates()\n",
    "    #Filter to just positions with max. binding score = 0\n",
    "    all_ligands_negatives_df = all_ligands_negatives_df[all_ligands_negatives_df[\"max_binding_score\"] == 0]\n",
    "    ligands_negatives_df[\"all_ligands\"] = all_ligands_negatives_df\n",
    "    \n",
    "    #Leaving just the features columns\n",
    "    for ligand in ligands_negatives_df.keys():   \n",
    "        ligands_negatives_df[ligand] = ligands_negatives_df[ligand][features_cols]\n",
    "        print(ligand+\" non-binding #:\"+str(len(ligands_negatives_df[ligand])))\n",
    "    \n",
    "    return ligands_negatives_df\n",
    "            "
   ]
  },
  {
   "cell_type": "code",
   "execution_count": null,
   "metadata": {
    "collapsed": true
   },
   "outputs": [],
   "source": [
    "def negatives_by_binding_score(use_max_binding_score):\n",
    "    \n",
    "    ligands_negatives_df = {}\n",
    "    for ligand in ligands:\n",
    "        \n",
    "        if use_max_binding_score:\n",
    "            ligand_bind_str = \"max_binding_score\"\n",
    "        else:\n",
    "            ligand_bind_str = ligand+\"_binding_score\"\n",
    "        \n",
    "        ligands_negatives_df[ligand] = features_all[features_all[ligand_bind_str] == 0]\n",
    "        ligands_negatives_df[ligand] = ligands_negatives_df[ligand].loc[:,features_cols]\n",
    "        print(ligand+\" non-binding #:\"+str(len(ligands_negatives_df[ligand])))\n",
    "        \n",
    "    #Handeling the ligand \"all_ligands\"\n",
    "    ligands_negatives_df[\"all_ligands\"] = features_all[features_all[\"max_binding_score\"] == 0]\n",
    "    ligands_negatives_df[\"all_ligands\"] = ligands_negatives_df[\"all_ligands\"].loc[:,features_cols]\n",
    "    print(\"all_ligands non-binding #:\"+str(len(ligands_negatives_df[\"all_ligands\"])))\n",
    "    \n",
    "    return ligands_negatives_df"
   ]
  },
  {
   "cell_type": "code",
   "execution_count": null,
   "metadata": {
    "collapsed": false
   },
   "outputs": [],
   "source": [
    "#Create negatives datasets\n",
    "if FILTER_DOMAIN:\n",
    "    if ABSOLUTE_NEGATIVES:\n",
    "        ligands_negatives_df = filter_to_ligand_binding_domains(True)\n",
    "    else:\n",
    "        ligands_negatives_df = filter_to_ligand_binding_domains(False)\n",
    "else:\n",
    "    if ABSOLUTE_NEGATIVES:\n",
    "        ligands_negatives_df = negatives_by_binding_score(True)\n",
    "    else:\n",
    "        ligands_negatives_df = negatives_by_binding_score(False)"
   ]
  },
  {
   "cell_type": "markdown",
   "metadata": {},
   "source": [
    "#### Datasets of positive examples by ligand"
   ]
  },
  {
   "cell_type": "code",
   "execution_count": null,
   "metadata": {
    "collapsed": false
   },
   "outputs": [],
   "source": [
    "bind_th = 0.1\n",
    "ligands_features_df = {}\n",
    "\n",
    "for ligand in ligands:\n",
    "    score_col_str = ligand+\"_binding_score\"\n",
    "    ligand_binding_df = features_all[features_all[score_col_str] >= bind_th]\n",
    "    print ligand+\" #: \"+str(ligand_binding_df.shape[0])\n",
    "    ligands_features_df[ligand] = ligand_binding_df.loc[:,features_cols]"
   ]
  },
  {
   "cell_type": "markdown",
   "metadata": {},
   "source": [
    "#### Dataset of positive examples - all ligands combined"
   ]
  },
  {
   "cell_type": "code",
   "execution_count": 4,
   "metadata": {
    "collapsed": false
   },
   "outputs": [
    {
     "ename": "NameError",
     "evalue": "name 'ligands_features_df' is not defined",
     "output_type": "error",
     "traceback": [
      "\u001b[1;31m---------------------------------------------------------------------------\u001b[0m",
      "\u001b[1;31mNameError\u001b[0m                                 Traceback (most recent call last)",
      "\u001b[1;32m<ipython-input-4-a44a597bdbf4>\u001b[0m in \u001b[0;36m<module>\u001b[1;34m()\u001b[0m\n\u001b[1;32m----> 1\u001b[1;33m all_ligands_features_df = pd.concat([ligands_features_df[\"dna\"], ligands_features_df[\"dnabase\"], ligands_features_df[\"dnabackbone\"], ligands_features_df[\"rna\"], ligands_features_df[\"rnabase\"], \n\u001b[0m\u001b[0;32m      2\u001b[0m                                      ligands_features_df[\"rnabackbone\"], ligands_features_df[\"ion\"], ligands_features_df[\"peptide\"], ligands_features_df[\"metabolite\"]])\n\u001b[0;32m      3\u001b[0m \u001b[0mall_ligands_features_df\u001b[0m \u001b[1;33m=\u001b[0m \u001b[0mall_ligands_features_df\u001b[0m\u001b[1;33m.\u001b[0m\u001b[0mdrop_duplicates\u001b[0m\u001b[1;33m(\u001b[0m\u001b[1;33m)\u001b[0m\u001b[1;33m\u001b[0m\u001b[0m\n\u001b[0;32m      4\u001b[0m \u001b[1;32mprint\u001b[0m \u001b[1;34m\"all_ligands #: \"\u001b[0m\u001b[1;33m+\u001b[0m\u001b[0mstr\u001b[0m\u001b[1;33m(\u001b[0m\u001b[0mall_ligands_features_df\u001b[0m\u001b[1;33m.\u001b[0m\u001b[0mshape\u001b[0m\u001b[1;33m[\u001b[0m\u001b[1;36m0\u001b[0m\u001b[1;33m]\u001b[0m\u001b[1;33m)\u001b[0m\u001b[1;33m\u001b[0m\u001b[0m\n\u001b[0;32m      5\u001b[0m \u001b[0mligands_features_df\u001b[0m\u001b[1;33m[\u001b[0m\u001b[1;34m\"all_ligands\"\u001b[0m\u001b[1;33m]\u001b[0m \u001b[1;33m=\u001b[0m \u001b[0mall_ligands_features_df\u001b[0m\u001b[1;33m\u001b[0m\u001b[0m\n",
      "\u001b[1;31mNameError\u001b[0m: name 'ligands_features_df' is not defined"
     ]
    }
   ],
   "source": [
    "all_ligands_features_df = pd.concat([ligands_features_df[\"dna\"], ligands_features_df[\"dnabase\"], ligands_features_df[\"dnabackbone\"], ligands_features_df[\"rna\"], ligands_features_df[\"rnabase\"], \n",
    "                                     ligands_features_df[\"rnabackbone\"], ligands_features_df[\"ion\"], ligands_features_df[\"peptide\"], ligands_features_df[\"metabolite\"]])\n",
    "all_ligands_features_df = all_ligands_features_df.drop_duplicates()\n",
    "print \"all_ligands #: \"+str(all_ligands_features_df.shape[0])\n",
    "ligands_features_df[\"all_ligands\"] = all_ligands_features_df"
   ]
  },
  {
   "cell_type": "markdown",
   "metadata": {},
   "source": [
    "### Models tested (and their hyper-parameters)"
   ]
  },
  {
   "cell_type": "code",
   "execution_count": 8,
   "metadata": {
    "collapsed": true
   },
   "outputs": [],
   "source": [
    "classifiers = {}\n",
    "classifiers[\"Logistic\"] = LogisticRegression(C=0.001, random_state=0)\n",
    "classifiers[\"RF\"] = RandomForestClassifier(n_estimators=1000, n_jobs=-1, random_state=0)  \n",
    "#classifiers[\"RF\"] = RandomForestRegressor(n_estimators=1000)  \n",
    "classifiers[\"KNN\"] = KNeighborsClassifier(n_neighbors=100, n_jobs=-1)\n",
    "#classifiers[\"KNN\"] = KNeighborsRegressor(n_neighbors=100)\n",
    "classifiers[\"SVM\"] = SVC(kernel='rbf', probability=True, random_state=0)\n",
    "classifiers[\"ADA-RF\"] = AdaBoostClassifier(n_estimators=1000, random_state=0)\n",
    "classifiers[\"ADA-Log\"] = AdaBoostClassifier(base_estimator=classifiers[\"Logistic\"], n_estimators=1000, random_state=0)\n",
    "#classifiers[\"Bag-Log\"] = BaggingClassifier(base_estimator=classifiers[\"Logistic\"], n_estimators=1000, n_jobs=-1, random_state=0)\n",
    "classifiers[\"XGB\"] = XGBClassifier(n_estimators=1000, n_jobs=-1, random_state=0, max_depth=6, min_child_weight=0.05, colsample_bytree=0.5)\n",
    "classifiers[\"XGB0\"] = XGBClassifier(n_estimators=1000, n_jobs=-1, random_state=0, max_depth=6, min_child_weight=0, colsample_bytree=0.5)\n",
    "classifiers[\"XGB1\"] = XGBClassifier(n_estimators=1000, n_jobs=-1, random_state=0, max_depth=6, min_child_weight=1, colsample_bytree=0.5)\n",
    "classifiers[\"XGBTuned1\"] = XGBClassifier(n_estimators=108, learning_rate = 0.1, n_jobs=-1, random_state=0, max_depth=3, min_child_weight=16, colsample_bytree=0.7, subsample=0.7, gamma = 0, reg_alpha = .5, scale_pos_weight = 1)\n",
    "classifiers[\"XGBTuned2\"] = XGBClassifier(n_estimators=268, learning_rate = 0.1, n_jobs=-1, random_state=0, max_depth=3, min_child_weight=16, colsample_bytree=0.7, subsample=0.7, gamma = 0, reg_alpha = .5, scale_pos_weight = 1)\n",
    "classifiers[\"XGBTuned3\"] = XGBClassifier(n_estimators=86, learning_rate = .01, n_jobs=-1, random_state=0, max_depth=3, min_child_weight=16, colsample_bytree=0.7, subsample=0.7, gamma = 0, reg_alpha = .5, scale_pos_weight = 1)\n"
   ]
  },
  {
   "cell_type": "markdown",
   "metadata": {},
   "source": [
    "### Downsamplers tested"
   ]
  },
  {
   "cell_type": "code",
   "execution_count": 9,
   "metadata": {
    "collapsed": true
   },
   "outputs": [],
   "source": [
    "#documentation on techniques: http://contrib.scikit-learn.org/imbalanced-learn/stable/under_sampling.html#cleaning-under-sampling-techniques\n",
    "downsamplers = defaultdict(dict)\n",
    "\n",
    "##Prototype generation##\n",
    "downsamplers[\"ClusterCentroids\"] = ClusterCentroids(random_state=0)\n",
    "\n",
    "##Prototype selection##\n",
    "#Contolled#\n",
    "downsamplers[\"RandomUnderSampler\"] = RandomUnderSampler(random_state=0)\n",
    "downsamplers[\"NearMiss3\"] = NearMiss(random_state=0, version=3)\n",
    "downsamplers[\"NearMiss2\"] = NearMiss(random_state=0, version=2)\n",
    "downsamplers[\"NearMiss1\"] = NearMiss(random_state=0, version=1)\n",
    "\n",
    "#Cleaning#\n",
    "downsamplers[\"TomekLinks\"] = TomekLinks(random_state=0)\n",
    "downsamplers[\"EditedNearestNeighbours\"] = EditedNearestNeighbours(random_state=0)\n",
    "downsamplers[\"RepeatedEditedNearestNeighbours\"] = RepeatedEditedNearestNeighbours(random_state=0)\n",
    "downsamplers[\"NeighbourhoodCleaningRule\"] = NeighbourhoodCleaningRule(random_state=0)\n",
    "\n",
    "# Instance hardness threshold#\n",
    "downsamplers[\"InstanceHardnessThreshold\"][\"KNN\"] = InstanceHardnessThreshold(random_state=0, estimator=classifiers[\"KNN\"])\n",
    "#downsamplers[\"InstanceHardnessThreshold\"][\"KNN\"] = InstanceHardnessThreshold(random_state=0, estimator= KNeighborsClassifier(n_neighbors=100))\n",
    "downsamplers[\"InstanceHardnessThreshold\"][\"SVM\"] = InstanceHardnessThreshold(random_state=0, estimator=classifiers[\"SVM\"])\n",
    "downsamplers[\"InstanceHardnessThreshold\"][\"RF\"] = InstanceHardnessThreshold(random_state=0, estimator=classifiers[\"RF\"])\n",
    "#downsamplers[\"InstanceHardnessThreshold\"][\"RF\"] = InstanceHardnessThreshold(random_state=0, estimator=RandomForestClassifier(n_estimators=1000))\n",
    "downsamplers[\"InstanceHardnessThreshold\"][\"Logistic\"] = InstanceHardnessThreshold(random_state=0, estimator=classifiers[\"Logistic\"])\n",
    "#downsamplers[\"InstanceHardnessThreshold\"][\"ADA\"] = InstanceHardnessThreshold(random_state=0, estimator=classifiers[\"ADA\"])"
   ]
  },
  {
   "cell_type": "markdown",
   "metadata": {},
   "source": [
    "### Reading env input for downsampler technique, ligand and classifier  "
   ]
  },
  {
   "cell_type": "code",
   "execution_count": 10,
   "metadata": {
    "collapsed": false,
    "scrolled": true
   },
   "outputs": [
    {
     "name": "stdout",
     "output_type": "stream",
     "text": [
      "ligand = dnabase\n",
      "downsample_method = NoDown\n",
      "classifier_method = XGB\n"
     ]
    }
   ],
   "source": [
    "#Reading the ligand input\n",
    "try:\n",
    "    ligand = environ['ligand']\n",
    "except:\n",
    "    ligand = \"dnabase\"\n",
    "print \"ligand = \"+ligand\n",
    "    \n",
    "#Reading the downsampler input\n",
    "try: \n",
    "    downsample_method = environ['down']\n",
    "except:\n",
    "    downsample_method = \"NoDown\"\n",
    "print \"downsample_method = \"+downsample_method\n",
    "\n",
    "#Reading the classifier input\n",
    "try: \n",
    "    classifier_method = environ['classifier']\n",
    "except:\n",
    "    classifier_method = \"XGB\"\n",
    "print \"classifier_method = \"+classifier_method"
   ]
  },
  {
   "cell_type": "markdown",
   "metadata": {},
   "source": [
    "### Test model functions"
   ]
  },
  {
   "cell_type": "code",
   "execution_count": 11,
   "metadata": {
    "collapsed": true
   },
   "outputs": [],
   "source": [
    "def test_model(pred_dict, auc_dict, auprc_dict, ligand_bind_features, ligand_negatives_features, ligand_name, downsample_method, features=[]):\n",
    "    \"\"\"\n",
    "    Test different models in 10-folds cross-validation.\n",
    "    \"\"\"\n",
    "    \n",
    "    #Default: Exclude no features\n",
    "    if len(features) == 0:\n",
    "        features = np.ones([ligand_bind_features.shape[1],]).astype(bool)\n",
    "        \n",
    "    #Arranging the features table by the CV order, for each model\n",
    "    features_pred_dfs = dict.fromkeys(classifiers.keys())\n",
    "    \n",
    "    models_req_scaling = [\"SVM\", \"KNN\"]\n",
    "    \n",
    "    for classifier in classifiers.keys():\n",
    "        classifier = classifier_method\n",
    "        model = classifiers[classifier]\n",
    "        print \"classifier_method = \" + classifier_method\n",
    "        print \"ligand = \" + ligand\n",
    "        print model.get_xgb_params()\n",
    "        features_pred_dfs[classifier] = pd.DataFrame()\n",
    "        \n",
    "        #Create X and y with included features\n",
    "        X = pd.concat([ligand_bind_features.iloc[:,features], ligand_negatives_features.iloc[:,features]])\n",
    "        \n",
    "        if (classifier in models_req_scaling):\n",
    "            idx = X.index\n",
    "            cols = X.columns\n",
    "            X = pd.DataFrame(scale(X)) #Is z-scoring the data needed?\n",
    "            X.index = idx #Restoring indices after scaling\n",
    "            X.columns = cols\n",
    "\n",
    "        y = [1] * ligand_bind_features.shape[0]\n",
    "        y.extend([0] * ligand_negatives_features.shape[0])\n",
    "        y = np.array(y)\n",
    "\n",
    "        binding_skf = StratifiedKFold(n_splits=10, shuffle=True, random_state=0)\n",
    "        pred_idx = 1\n",
    "\n",
    "        for train_index, test_index in binding_skf.split(X, y):\n",
    "            print \"fold #: \"+str(pred_idx)\n",
    "            X_train, X_test = X.iloc[train_index,:], X.iloc[test_index,:]\n",
    "            y_train, y_test = y[train_index], y[test_index]\n",
    "\n",
    "            #Down-sample negative examples to have balanced classes\n",
    "            if (downsample_method == \"NoDown\"):\n",
    "                X_train_sampled = X_train\n",
    "                y_train_sampled = y_train\n",
    "            else:\n",
    "                if (downsample_method == \"InstanceHardnessThreshold\"):\n",
    "                    downsampler = downsamplers[downsample_method][classifier]\n",
    "                else:\n",
    "                    downsampler = downsamplers[downsample_method]\n",
    "\n",
    "                X_train_sampled, y_train_sampled = downsampler.fit_sample(X_train, y_train)\n",
    "            \n",
    "            #fit to training data\n",
    "            model = classifiers[classifier]\n",
    "            model.fit(X_train_sampled, y_train_sampled)\n",
    "            probs_list = []\n",
    "\n",
    "            #probs = model.predict(X_test)\n",
    "            #probs_list = probs\n",
    "            \n",
    "            probs = model.predict_proba(X_test)\n",
    "            for l in probs:\n",
    "                probs_list.append(l[1])\n",
    "                \n",
    "            pred_dict[\"obs\"].extend(y_test)\n",
    "            pred_dict[\"prob\"].extend(probs_list)\n",
    "            fold_list = [pred_idx] * len(probs_list)\n",
    "            pred_dict[\"fold\"].extend(fold_list)\n",
    "\n",
    "            model_list = [classifier] * len(probs_list)\n",
    "            pred_dict[\"model\"].extend(model_list)\n",
    "\n",
    "            #Update auc auprc dictionaries\n",
    "            auc_dict[classifier].append(roc_auc_score(y_test, probs[:, 1]))\n",
    "            precision, recall, _ = precision_recall_curve(y_test, probs[:, 1])\n",
    "            \n",
    "            #auc_dict[classifier].append(roc_auc_score(y_test, probs))\n",
    "            #precision, recall, _ = precision_recall_curve(y_test, probs)\n",
    "            \n",
    "            auprc_dict[classifier].append(auc(recall, precision))\n",
    "            \n",
    "            #Update features table\n",
    "            features_pred_dfs[classifier] = features_pred_dfs[classifier].append(X_test)\n",
    "            pred_idx += 1\n",
    "            \n",
    "            print \"AUC = \"+str(auc_dict[classifier][-1])\n",
    "            print \"AUPRC = \"+str(auprc_dict[classifier][-1])\n",
    "\n",
    "        avg_auc = np.sum(auc_dict[classifier])/10.0\n",
    "        print \"avg auc = \"+str(avg_auc)\n",
    "        \n",
    "        avg_auprc = np.sum(auprc_dict[classifier])/10.0\n",
    "        print \"avg auprc = \"+str(avg_auprc)\n",
    "            \n",
    "        print \"Finished \"+ligand+\" \"+classifier\n",
    "        break\n",
    "    \n",
    "    return features_pred_dfs"
   ]
  },
  {
   "cell_type": "code",
   "execution_count": 12,
   "metadata": {
    "collapsed": true
   },
   "outputs": [],
   "source": [
    "def combine_features_predictions(ligand, ordered_features, pred_df):\n",
    "    \n",
    "    pred_res = pred_df.copy(deep=True)\n",
    "    for classifier in classifiers.keys():\n",
    "        classifier = classifier_method\n",
    "        model_pred = pred_res[pred_res[\"model\"] == classifier]\n",
    "        model_pred.index = ordered_features[classifier].index\n",
    "        \n",
    "        #Creating the combined table\n",
    "        features_pred = pd.concat([ordered_features[classifier], model_pred], axis=1)\n",
    "        \n",
    "        #Saving\n",
    "        #features_pred.to_csv(curr_dir[0]+\"/pred_AUC_AUPRC/mediode_NegLigand_NoFilter/\"+downsample_method+\"/01.25.2018/features_pred_tables/\"+ligand+\"_\"+classifier+\"_features_pred.csv\", sep='\\t')\n",
    "        break"
   ]
  },
  {
   "cell_type": "markdown",
   "metadata": {},
   "source": [
    "#### Predict for each ligand seperatelly"
   ]
  },
  {
   "cell_type": "code",
   "execution_count": 13,
   "metadata": {
    "collapsed": false
   },
   "outputs": [
    {
     "data": {
      "text/plain": [
       "['dna',\n",
       " 'dnabase',\n",
       " 'dnabackbone',\n",
       " 'rna',\n",
       " 'rnabase',\n",
       " 'rnabackbone',\n",
       " 'peptide',\n",
       " 'ion',\n",
       " 'metabolite']"
      ]
     },
     "execution_count": 13,
     "metadata": {},
     "output_type": "execute_result"
    }
   ],
   "source": [
    "ligands"
   ]
  },
  {
   "cell_type": "code",
   "execution_count": 14,
   "metadata": {
    "collapsed": false,
    "scrolled": false
   },
   "outputs": [
    {
     "name": "stdout",
     "output_type": "stream",
     "text": [
      "classifier_method = XGB\n",
      "classifier_method = XGB\n",
      "ligand = dna\n",
      "{'reg_alpha': 0, 'colsample_bytree': 0.5, 'silent': 1, 'colsample_bylevel': 1, 'scale_pos_weight': 1, 'learning_rate': 0.1, 'missing': None, 'max_delta_step': 0, 'base_score': 0.5, 'n_estimators': 1000, 'subsample': 1, 'reg_lambda': 1, 'min_child_weight': 0.05, 'objective': 'binary:logistic', 'seed': 0, 'max_depth': 6, 'gamma': 0, 'booster': 'gbtree'}\n",
      "fold #: 1\n",
      "AUC = 0.9689619679892953\n",
      "AUPRC = 0.5367477078050494\n",
      "fold #: 2\n",
      "AUC = 0.9709553805774278\n",
      "AUPRC = 0.5483980379911849\n",
      "fold #: 3\n",
      "AUC = 0.947270341207349\n",
      "AUPRC = 0.5784313941778981\n",
      "fold #: 4\n",
      "AUC = 0.9758582677165354\n",
      "AUPRC = 0.6492696441645193\n",
      "fold #: 5\n",
      "AUC = 0.9740472440944882\n",
      "AUPRC = 0.5311842129046221\n",
      "fold #: 6\n",
      "AUC = 0.9831451824625885\n",
      "AUPRC = 0.5266800071534994\n",
      "fold #: 7\n",
      "AUC = 0.9552323444473615\n",
      "AUPRC = 0.5682737046019297\n",
      "fold #: 8\n",
      "AUC = 0.9846153846153846\n",
      "AUPRC = 0.6715219169362363\n",
      "fold #: 9\n",
      "AUC = 0.9847256497768443\n",
      "AUPRC = 0.5962302036188929\n",
      "fold #: 10\n",
      "AUC = 0.9436440010501443\n",
      "AUPRC = 0.5220631260553499\n",
      "avg auc = 0.9688455763937419\n",
      "avg auprc = 0.5728799955409182\n",
      "Finished dna XGB\n",
      "Finished ligand dna\n",
      "CPU times: user 3h 40min 11s, sys: 1min 7s, total: 3h 41min 18s\n",
      "Wall time: 6min 24s\n"
     ]
    }
   ],
   "source": [
    "%%time\n",
    "    \n",
    "\n",
    "#Initialize dictionary\n",
    "pred_dict = defaultdict(list)\n",
    "auc_dict = defaultdict(list)\n",
    "auprc_dict = defaultdict(list)\n",
    "classifier_method = \"XGB\"\n",
    "ligand = \"dna\"\n",
    "print \"classifier_method = \"+classifier_method\n",
    "ordered_features = test_model(pred_dict, auc_dict, auprc_dict, ligands_features_df[ligand], ligands_negatives_df[ligand], ligand, downsample_method)\n",
    "\n",
    "pred_df = pd.DataFrame.from_dict(pred_dict)\n",
    "auc_df = pd.DataFrame.from_dict(auc_dict)\n",
    "auprc_df = pd.DataFrame.from_dict(auprc_dict)\n",
    "\n",
    "#Save to file\n",
    "#pred_df.to_csv(curr_dir[0]+\"/pred_AUC_AUPRC/mediode_NegLigand_NoFilter/\"+downsample_method+\"/01.25.2018/\"+ligand+\"_\"+classifier_method+\"_0.1.csv\", sep='\\t')\n",
    "#auc_df.to_csv(curr_dir[0]+\"/pred_AUC_AUPRC/mediode_NegLigand_NoFilter/\"+downsample_method+\"/01.25.2018/\"+ligand+\"_\"+classifier_method+\"_0.1_auc.csv\", sep='\\t')\n",
    "#auprc_df.to_csv(curr_dir[0]+\"/pred_AUC_AUPRC/mediode_NegLigand_NoFilter/\"+downsample_method+\"/01.25.2018/\"+ligand+\"_\"+classifier_method+\"_0.1_auprc.csv\", sep='\\t')\n",
    "\n",
    "#Combine features and pred results to a unified table\n",
    "combine_features_predictions(ligand, ordered_features, pred_df)\n",
    "\n",
    "print \"Finished ligand \"+ligand"
   ]
  },
  {
   "cell_type": "code",
   "execution_count": 15,
   "metadata": {
    "collapsed": false
   },
   "outputs": [
    {
     "name": "stdout",
     "output_type": "stream",
     "text": [
      "classifier_method = XGBTuned2\n",
      "classifier_method = XGBTuned2\n",
      "ligand = dna\n",
      "{'reg_alpha': 0.5, 'colsample_bytree': 0.7, 'silent': 1, 'colsample_bylevel': 1, 'scale_pos_weight': 1, 'learning_rate': 0.1, 'missing': None, 'max_delta_step': 0, 'base_score': 0.5, 'n_estimators': 268, 'subsample': 0.7, 'reg_lambda': 1, 'min_child_weight': 16, 'objective': 'binary:logistic', 'seed': 0, 'max_depth': 3, 'gamma': 0, 'booster': 'gbtree'}\n",
      "fold #: 1\n",
      "AUC = 0.9550409140033966\n",
      "AUPRC = 0.4930548023499922\n",
      "fold #: 2\n",
      "AUC = 0.9562992125984252\n",
      "AUPRC = 0.4410071270933897\n",
      "fold #: 3\n",
      "AUC = 0.9437690288713911\n",
      "AUPRC = 0.4684397652110725\n",
      "fold #: 4\n",
      "AUC = 0.9670183727034122\n",
      "AUPRC = 0.5394309412699487\n",
      "fold #: 5\n",
      "AUC = 0.9574488188976378\n",
      "AUPRC = 0.5267857807191098\n",
      "fold #: 6\n",
      "AUC = 0.9809136256235232\n",
      "AUPRC = 0.5154410178204843\n",
      "fold #: 7\n",
      "AUC = 0.961354686269362\n",
      "AUPRC = 0.5161874636162264\n",
      "fold #: 8\n",
      "AUC = 0.9801102651614597\n",
      "AUPRC = 0.6092094483889468\n",
      "fold #: 9\n",
      "AUC = 0.9785980572328696\n",
      "AUPRC = 0.47292063198188417\n",
      "fold #: 10\n",
      "AUC = 0.9401417694933052\n",
      "AUPRC = 0.4684126843891983\n",
      "avg auc = 0.9620694750854784\n",
      "avg auprc = 0.5050889662840252\n",
      "Finished dna XGBTuned2\n",
      "Finished ligand dna\n",
      "CPU times: user 55min 57s, sys: 25.7 s, total: 56min 23s\n",
      "Wall time: 1min 53s\n"
     ]
    }
   ],
   "source": [
    "%%time\n",
    "    \n",
    "\n",
    "#Initialize dictionary\n",
    "pred_dict = defaultdict(list)\n",
    "auc_dict = defaultdict(list)\n",
    "auprc_dict = defaultdict(list)\n",
    "classifier_method = \"XGBTuned2\"\n",
    "ligand = \"dna\"\n",
    "print \"classifier_method = \"+classifier_method\n",
    "ordered_features = test_model(pred_dict, auc_dict, auprc_dict, ligands_features_df[ligand], ligands_negatives_df[ligand], ligand, downsample_method)\n",
    "\n",
    "pred_df = pd.DataFrame.from_dict(pred_dict)\n",
    "auc_df = pd.DataFrame.from_dict(auc_dict)\n",
    "auprc_df = pd.DataFrame.from_dict(auprc_dict)\n",
    "\n",
    "#Save to file\n",
    "#pred_df.to_csv(curr_dir[0]+\"/pred_AUC_AUPRC/mediode_NegLigand_NoFilter/\"+downsample_method+\"/01.25.2018/\"+ligand+\"_\"+classifier_method+\"_0.1.csv\", sep='\\t')\n",
    "#auc_df.to_csv(curr_dir[0]+\"/pred_AUC_AUPRC/mediode_NegLigand_NoFilter/\"+downsample_method+\"/01.25.2018/\"+ligand+\"_\"+classifier_method+\"_0.1_auc.csv\", sep='\\t')\n",
    "#auprc_df.to_csv(curr_dir[0]+\"/pred_AUC_AUPRC/mediode_NegLigand_NoFilter/\"+downsample_method+\"/01.25.2018/\"+ligand+\"_\"+classifier_method+\"_0.1_auprc.csv\", sep='\\t')\n",
    "\n",
    "#Combine features and pred results to a unified table\n",
    "combine_features_predictions(ligand, ordered_features, pred_df)\n",
    "\n",
    "print \"Finished ligand \"+ligand"
   ]
  },
  {
   "cell_type": "code",
   "execution_count": null,
   "metadata": {
    "collapsed": true
   },
   "outputs": [],
   "source": []
  }
 ],
 "metadata": {
  "kernelspec": {
   "display_name": "Python 2",
   "language": "python",
   "name": "python2"
  },
  "language_info": {
   "codemirror_mode": {
    "name": "ipython",
    "version": 2
   },
   "file_extension": ".py",
   "mimetype": "text/x-python",
   "name": "python",
   "nbconvert_exporter": "python",
   "pygments_lexer": "ipython2",
   "version": "2.7.3"
  }
 },
 "nbformat": 4,
 "nbformat_minor": 1
}
