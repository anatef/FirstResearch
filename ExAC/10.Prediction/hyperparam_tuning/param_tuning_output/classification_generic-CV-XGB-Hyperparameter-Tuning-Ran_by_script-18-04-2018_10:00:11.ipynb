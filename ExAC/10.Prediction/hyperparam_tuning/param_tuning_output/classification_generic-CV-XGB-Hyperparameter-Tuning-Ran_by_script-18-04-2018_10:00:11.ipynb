{
 "cells": [
  {
   "cell_type": "code",
   "execution_count": 1,
   "metadata": {
    "collapsed": false
   },
   "outputs": [],
   "source": [
    "#Basic imports\n",
    "import pandas as pd\n",
    "import numpy as np\n",
    "import pickle\n",
    "from collections import defaultdict\n",
    "from os import environ\n",
    "\n",
    "#Classifier imports\n",
    "from sklearn.neighbors import KNeighborsClassifier, KNeighborsRegressor\n",
    "from sklearn.ensemble import RandomForestClassifier, AdaBoostClassifier, RandomForestRegressor\n",
    "from sklearn.linear_model import LogisticRegression\n",
    "from sklearn.svm import SVC\n",
    "from xgboost.sklearn import XGBClassifier\n",
    "\n",
    "#ML framework imports\n",
    "from sklearn.metrics import auc, roc_auc_score, precision_recall_curve, average_precision_score, make_scorer\n",
    "from sklearn.model_selection import StratifiedKFold,train_test_split,GridSearchCV, RandomizedSearchCV\n",
    "from sklearn.preprocessing import scale\n",
    "import xgboost as xgb\n",
    "\n",
    "#import matplotlib.pylab as plt\n",
    "\n",
    "#from matplotlib.pylab import rcParams\n",
    "from sklearn import metrics   #Additional scklearn functions\n",
    "#from sklearn.grid_search import \n",
    "\n",
    "\n",
    "#Downsamplers imports - prototype generation\n",
    "from imblearn.under_sampling import ClusterCentroids\n",
    "\n",
    "#Downsamplers imports - prototype selection - controlled\n",
    "from imblearn.under_sampling import RandomUnderSampler, NearMiss\n",
    "\n",
    "#Downsamplers imports - prototype selection - Cleaning techniques\n",
    "from imblearn.under_sampling import TomekLinks, EditedNearestNeighbours, RepeatedEditedNearestNeighbours\n",
    "\n",
    "#Downsamplers imports - prototype selection - Cleaning techniques - Condensed nearest neighbors and derived algorithms\n",
    "from imblearn.under_sampling import CondensedNearestNeighbour, OneSidedSelection, NeighbourhoodCleaningRule\n",
    "\n",
    "#Downsamplers imports - prototype selection - Cleaning techniques\n",
    "from imblearn.under_sampling import InstanceHardnessThreshold\n",
    "\n",
    "from IPython.core.display import HTML\n",
    "#HTML(\"<style>.container { width:100% !important; }</style>\")\n",
    "\n",
    "ABSOLUTE_NEGATIVES = False\n",
    "FILTER_DOMAIN = False"
   ]
  },
  {
   "cell_type": "markdown",
   "metadata": {},
   "source": [
    "### Reading the input dataset"
   ]
  },
  {
   "cell_type": "code",
   "execution_count": 2,
   "metadata": {
    "collapsed": false
   },
   "outputs": [
    {
     "name": "stdout",
     "output_type": "stream",
     "text": [
      "all samples positions #: 38944\n"
     ]
    }
   ],
   "source": [
    "curr_dir = !pwd\n",
    "input_path = curr_dir[0]+\"/domains_similarity/filtered_features_table/\"\n",
    "filename = \"positions_features_mediode_filter_01.25.18.csv\"\n",
    "\n",
    "#input_path = curr_dir[0]+\"/../9.Features_exploration/binding_df/10/\"\n",
    "#filename = \"positions_features_01.25.18.csv\"\n",
    "\n",
    "bind_scores_num = 10\n",
    "\n",
    "#Features table\n",
    "features_all = pd.read_csv(input_path+filename, sep='\\t', index_col=0)\n",
    "features_cols = features_all.columns[1:-bind_scores_num] #removing binding scores and domain name\n",
    "ligands = [\"dna\", \"dnabase\", \"dnabackbone\", \"rna\", \"rnabase\", \"rnabackbone\", \"peptide\", \"ion\", \"metabolite\"]\n",
    "print \"all samples positions #: \"+str(features_all.shape[0])\n",
    "\n",
    "#lignd binding domains dictionary\n",
    "with open(curr_dir[0]+\"/ligands_negatives_domains_dict.pik\", 'rb') as handle:\n",
    "        negatives_dict = pickle.load(handle)"
   ]
  },
  {
   "cell_type": "markdown",
   "metadata": {},
   "source": [
    "#### Dataset of negative examples"
   ]
  },
  {
   "cell_type": "code",
   "execution_count": 3,
   "metadata": {
    "collapsed": true
   },
   "outputs": [],
   "source": [
    "def filter_to_ligand_binding_domains(use_max_binding_score):\n",
    "    \n",
    "    ligands_negatives_df = {}\n",
    "    for ligand in ligands:\n",
    "        \n",
    "        ligands_negatives_df[ligand] = pd.DataFrame()\n",
    "        for domain in negatives_dict[ligand].keys():\n",
    "            if domain == 'negatives' or domain == 'domains':\n",
    "                continue\n",
    "            domain_all = features_all.loc[features_all.loc[:,\"domain_name\"] == domain,:]\n",
    "            \n",
    "            #In case this domain was previously filtered\n",
    "            if len(domain_all) == 0:\n",
    "                continue\n",
    "            \n",
    "            if (use_max_binding_score):\n",
    "                ligands_negatives_df[ligand] = pd.concat([ligands_negatives_df[ligand],domain_all.loc[domain_all.loc[:,\"max_binding_score\"] == 0,:]])\n",
    "            else:\n",
    "                ligand_bind_str = ligand+\"_binding_score\"\n",
    "                ligands_negatives_df[ligand] = pd.concat([ligands_negatives_df[ligand],domain_all.loc[domain_all.loc[:,ligand_bind_str] == 0,:]])\n",
    "        \n",
    "    #Handeling the ligand \"all_ligands\"\n",
    "    all_ligands_negatives_df = pd.concat([ligands_negatives_df[\"dna\"], ligands_negatives_df[\"dnabase\"], ligands_negatives_df[\"dnabackbone\"], ligands_negatives_df[\"rna\"], ligands_negatives_df[\"rnabase\"], \n",
    "                                 ligands_negatives_df[\"rnabackbone\"], ligands_negatives_df[\"ion\"], ligands_negatives_df[\"peptide\"], ligands_negatives_df[\"metabolite\"]])\n",
    "    all_ligands_negatives_df = all_ligands_negatives_df.drop_duplicates()\n",
    "    #Filter to just positions with max. binding score = 0\n",
    "    all_ligands_negatives_df = all_ligands_negatives_df[all_ligands_negatives_df[\"max_binding_score\"] == 0]\n",
    "    ligands_negatives_df[\"all_ligands\"] = all_ligands_negatives_df\n",
    "    \n",
    "    #Leaving just the features columns\n",
    "    for ligand in ligands_negatives_df.keys():   \n",
    "        ligands_negatives_df[ligand] = ligands_negatives_df[ligand][features_cols]\n",
    "        print(ligand+\" non-binding #:\"+str(len(ligands_negatives_df[ligand])))\n",
    "    \n",
    "    return ligands_negatives_df\n",
    "            "
   ]
  },
  {
   "cell_type": "code",
   "execution_count": 4,
   "metadata": {
    "collapsed": true
   },
   "outputs": [],
   "source": [
    "def negatives_by_binding_score(use_max_binding_score):\n",
    "    \n",
    "    ligands_negatives_df = {}\n",
    "    for ligand in ligands:\n",
    "        \n",
    "        if use_max_binding_score:\n",
    "            ligand_bind_str = \"max_binding_score\"\n",
    "        else:\n",
    "            ligand_bind_str = ligand+\"_binding_score\"\n",
    "        \n",
    "        ligands_negatives_df[ligand] = features_all[features_all[ligand_bind_str] == 0]\n",
    "        ligands_negatives_df[ligand] = ligands_negatives_df[ligand].loc[:,features_cols]\n",
    "        print(ligand+\" non-binding #:\"+str(len(ligands_negatives_df[ligand])))\n",
    "        \n",
    "    #Handeling the ligand \"all_ligands\"\n",
    "    ligands_negatives_df[\"all_ligands\"] = features_all[features_all[\"max_binding_score\"] == 0]\n",
    "    ligands_negatives_df[\"all_ligands\"] = ligands_negatives_df[\"all_ligands\"].loc[:,features_cols]\n",
    "    print(\"all_ligands non-binding #:\"+str(len(ligands_negatives_df[\"all_ligands\"])))\n",
    "    \n",
    "    return ligands_negatives_df"
   ]
  },
  {
   "cell_type": "code",
   "execution_count": 5,
   "metadata": {
    "collapsed": false
   },
   "outputs": [
    {
     "name": "stdout",
     "output_type": "stream",
     "text": [
      "dna non-binding #:38095\n",
      "dnabase non-binding #:38577\n",
      "dnabackbone non-binding #:38203\n",
      "rna non-binding #:38047\n",
      "rnabase non-binding #:38407\n",
      "rnabackbone non-binding #:38223\n",
      "peptide non-binding #:35437\n",
      "ion non-binding #:34488\n",
      "metabolite non-binding #:33971\n",
      "all_ligands non-binding #:27191\n"
     ]
    }
   ],
   "source": [
    "#Create negatives datasets\n",
    "if FILTER_DOMAIN:\n",
    "    if ABSOLUTE_NEGATIVES:\n",
    "        ligands_negatives_df = filter_to_ligand_binding_domains(True)\n",
    "    else:\n",
    "        ligands_negatives_df = filter_to_ligand_binding_domains(False)\n",
    "else:\n",
    "    if ABSOLUTE_NEGATIVES:\n",
    "        ligands_negatives_df = negatives_by_binding_score(True)\n",
    "    else:\n",
    "        ligands_negatives_df = negatives_by_binding_score(False)"
   ]
  },
  {
   "cell_type": "markdown",
   "metadata": {},
   "source": [
    "#### Datasets of positive examples by ligand"
   ]
  },
  {
   "cell_type": "code",
   "execution_count": 6,
   "metadata": {
    "collapsed": false
   },
   "outputs": [
    {
     "name": "stdout",
     "output_type": "stream",
     "text": [
      "dna #: 501\n",
      "dnabase #: 193\n",
      "dnabackbone #: 408\n",
      "rna #: 433\n",
      "rnabase #: 224\n",
      "rnabackbone #: 308\n",
      "peptide #: 1496\n",
      "ion #: 1093\n",
      "metabolite #: 1525\n"
     ]
    }
   ],
   "source": [
    "bind_th = 0.1\n",
    "ligands_features_df = {}\n",
    "    \n",
    "for ligand in ligands:\n",
    "    score_col_str = ligand+\"_binding_score\"\n",
    "    ligand_binding_df = features_all[features_all[score_col_str] >= bind_th]\n",
    "    print ligand+\" #: \"+str(ligand_binding_df.shape[0])\n",
    "    ligands_features_df[ligand] = ligand_binding_df.loc[:,features_cols]"
   ]
  },
  {
   "cell_type": "markdown",
   "metadata": {},
   "source": [
    "#### Dataset of positive examples - all ligands combined"
   ]
  },
  {
   "cell_type": "code",
   "execution_count": 7,
   "metadata": {
    "collapsed": false
   },
   "outputs": [
    {
     "name": "stdout",
     "output_type": "stream",
     "text": [
      "all_ligands #: 4518\n"
     ]
    }
   ],
   "source": [
    "all_ligands_features_df = pd.concat([ligands_features_df[\"dna\"], ligands_features_df[\"dnabase\"], ligands_features_df[\"dnabackbone\"], ligands_features_df[\"rna\"], ligands_features_df[\"rnabase\"], \n",
    "                                     ligands_features_df[\"rnabackbone\"], ligands_features_df[\"ion\"], ligands_features_df[\"peptide\"], ligands_features_df[\"metabolite\"]])\n",
    "all_ligands_features_df = all_ligands_features_df.drop_duplicates()\n",
    "print \"all_ligands #: \"+str(all_ligands_features_df.shape[0])\n",
    "ligands_features_df[\"all_ligands\"] = all_ligands_features_df"
   ]
  },
  {
   "cell_type": "markdown",
   "metadata": {},
   "source": [
    "### Reading env input for downsampler technique, ligand and classifier  "
   ]
  },
  {
   "cell_type": "code",
   "execution_count": 8,
   "metadata": {
    "collapsed": false,
    "scrolled": true
   },
   "outputs": [
    {
     "name": "stdout",
     "output_type": "stream",
     "text": [
      "ligand = dna\n",
      "downsample_method = NoDown\n",
      "classifier_method = XGB\n"
     ]
    }
   ],
   "source": [
    "#Reading the ligand input\n",
    "try:\n",
    "    ligand = environ['ligand']\n",
    "except:\n",
    "    ligand = \"dna\"\n",
    "print \"ligand = \"+ligand\n",
    "    \n",
    "#Reading the downsampler input\n",
    "try: \n",
    "    downsample_method = environ['down']\n",
    "except:\n",
    "    downsample_method = \"NoDown\"\n",
    "print \"downsample_method = \"+downsample_method\n",
    "\n",
    "#Reading the classifier input\n",
    "try: \n",
    "    classifier_method = environ['classifier']\n",
    "except:\n",
    "    classifier_method = \"XGB\"\n",
    "print \"classifier_method = \"+classifier_method"
   ]
  },
  {
   "cell_type": "markdown",
   "metadata": {},
   "source": [
    "### Test model functions"
   ]
  },
  {
   "cell_type": "code",
   "execution_count": 9,
   "metadata": {
    "collapsed": true
   },
   "outputs": [],
   "source": [
    "def modelfit(alg, ligand_bind_features, ligand_negatives_features, ligand_name, useTrainCV=True, cv_folds=10, early_stopping_rounds=50):\n",
    "    \n",
    "    features = np.ones([ligand_bind_features.shape[1],]).astype(bool)\n",
    "    X = pd.concat([ligand_bind_features.iloc[:,features], ligand_negatives_features.iloc[:,features]])\n",
    "\n",
    "    y = [1] * ligand_bind_features.shape[0]\n",
    "    y.extend([0] * ligand_negatives_features.shape[0])\n",
    "    y = np.array(y)\n",
    "    \n",
    "    print \"modelfit\"\n",
    "    xgb_param = alg.get_xgb_params()\n",
    "    xgtrain = xgb.DMatrix(X, label=y)\n",
    "    #print alg.get_params()['n_estimators']\n",
    "    cvresult = xgb.cv(xgb_param, xgtrain, num_boost_round=alg.get_params()['n_estimators'], nfold=cv_folds, \n",
    "                      metrics='auc', early_stopping_rounds=early_stopping_rounds,verbose_eval =True)\n",
    "    alg.set_params(n_estimators=cvresult.shape[0])\n",
    "    print \"Optimal n_estimators: \" + str(cvresult.shape[0])\n",
    "    \n",
    "    #Fit the algorithm on the data\n",
    "    #print \"fitting\"\n",
    "    X_train, X_test, y_train, y_test = train_test_split(X, y,stratify=y,test_size=0.25)\n",
    "    #print X_train\n",
    "    %time alg.fit(X_train, y_train)\n",
    "        \n",
    "    #Predict training set:\n",
    "    dtrain_predictions = alg.predict(X_train)\n",
    "    dtrain_predprob = alg.predict_proba(X_train)[:,1]\n",
    "    \n",
    "    #Predict test set:\n",
    "    probs = alg.predict_proba(X_test)\n",
    "    \n",
    "    #Print model report:\n",
    "    #print \"\\nModel Report\"\n",
    "    auc_score = roc_auc_score(y_test, probs[:, 1])\n",
    "    #print y_test\n",
    "    #print probs[:, 1]\n",
    "    precision , recall, _ = precision_recall_curve(y_test, probs[:, 1])\n",
    "    auprc = auc(recall, precision)    \n",
    "\n",
    "    #Print model report:\n",
    "    print \"\\nModel Report\"\n",
    "    print \"Accuracy(Train): %.4g\" % metrics.accuracy_score(y_train, dtrain_predictions)\n",
    "    print \"AUC Score (Train): %f\" % metrics.roc_auc_score(y_train, dtrain_predprob)\n",
    "    print \"Average Precision (Train) : %.4g\" % metrics.average_precision_score(y_train, dtrain_predprob)\n",
    "    #print \"AUC (Test) = \"+str(auc_score)\n",
    "    print \"AUPRC (Test) = \"+str(auprc)\n",
    "    \"\"\"               \n",
    "    feat_imp = pd.Series(alg.booster().get_fscore()).sort_values(ascending=False)\n",
    "    feat_imp.plot(kind='bar', title='Feature Importances')\n",
    "    plt.ylabel('Feature Importance Score')\n",
    "    \"\"\"\n",
    "    return alg,cvresult#,dtrain_predictions,dtrain_predprob,alg\n"
   ]
  },
  {
   "cell_type": "markdown",
   "metadata": {
    "collapsed": false,
    "scrolled": true
   },
   "source": [
    "%%time\n",
    "#Choose all predictors except target & IDcols\n",
    "\n",
    "#%matplotlib inline\n",
    "#rcParams['figure.figsize'] = 12, 4\n",
    "\n",
    "\"\"\"\n",
    "ligand_bind_features = ligands_features_df[ligand]\n",
    "ligand_negatives_features = ligands_negatives_df[ligand]\n",
    "features = features = np.ones([ligand_bind_features.shape[1],]).astype(bool)\n",
    "train = pd.concat([ligand_bind_features.iloc[:,features], ligand_negatives_features.iloc[:,features]])\n",
    "\n",
    "y = [1] * ligand_bind_features.shape[0]\n",
    "y.extend([0] * ligand_negatives_features.shape[0])\n",
    "y = np.array(y)\n",
    "train = train.assign(Disbursed=y)\n",
    "target = 'Disbursed'\n",
    "IDcol = 'ID'\n",
    "predictors = [x for x in train.columns if x not in [target, IDcol]]\n",
    "\"\"\"\n",
    "\n",
    "xgb1 = XGBClassifier(\n",
    " learning_rate =0.1,\n",
    " n_estimators=1000,\n",
    " max_depth=5,\n",
    " min_child_weight=1,\n",
    " gamma=0,\n",
    " subsample=0.8,\n",
    " colsample_bytree=0.8,\n",
    " objective= 'binary:logistic',\n",
    " nthread=4,\n",
    " scale_pos_weight=1,\n",
    " seed=27)\n",
    "print \"about to run\"\n",
    "returns = modelfit(xgb1, ligands_features_df[ligand], ligands_negatives_df[ligand], ligand)\n",
    "print \"Optimal n_estimators: \"+str(returns[1].shape[0]) \n",
    "optimized_n_est = returns[1].shape[0] "
   ]
  },
  {
   "cell_type": "code",
   "execution_count": 10,
   "metadata": {
    "collapsed": false
   },
   "outputs": [],
   "source": [
    "ligand_bind_features = ligands_features_df[ligand]\n",
    "ligand_negatives_features = ligands_negatives_df[ligand]\n",
    "features = features = np.ones([ligand_bind_features.shape[1],]).astype(bool)\n",
    "X = pd.concat([ligand_bind_features.iloc[:,features], ligand_negatives_features.iloc[:,features]])\n",
    "y = [1] * ligand_bind_features.shape[0]\n",
    "y.extend([0] * ligand_negatives_features.shape[0])\n",
    "y = np.array(y)"
   ]
  },
  {
   "cell_type": "code",
   "execution_count": 11,
   "metadata": {
    "collapsed": false
   },
   "outputs": [
    {
     "name": "stdout",
     "output_type": "stream",
     "text": [
      "501\n",
      "38095\n",
      "76\n"
     ]
    }
   ],
   "source": [
    "print len([y[i] for i in range(len(y)) if y[i]==1])\n",
    "print len([y[i] for i in range(len(y)) if y[i]==0])\n",
    "val_scale_pos_weight = len([y[i] for i in range(len(y)) if y[i]==0])/len([y[i] for i in range(len(y)) if y[i]==1])\n",
    "print val_scale_pos_weight"
   ]
  },
  {
   "cell_type": "markdown",
   "metadata": {},
   "source": [
    "param_test9 = {\n",
    " 'n_estimators':[100,200,300,400,500,600,700,800,900,1000,1100,1200,1300,1400,1500]\n",
    "}\n",
    "gsearch9 = GridSearchCV(estimator = XGBClassifier(n_estimators=1000, n_jobs=-1, \n",
    "                                                  random_state=0, max_depth=6, min_child_weight=0.05, colsample_bytree=0.5), \n",
    "param_grid = param_test9, scoring='roc_auc',n_jobs=1,iid=False, cv=10,verbose = 2)\n",
    "gsearch9.fit(X,y)\n"
   ]
  },
  {
   "cell_type": "markdown",
   "metadata": {},
   "source": [
    "gsearch9.grid_scores_"
   ]
  },
  {
   "cell_type": "markdown",
   "metadata": {},
   "source": [
    "print gsearch9.best_params_, gsearch9.best_score_"
   ]
  },
  {
   "cell_type": "markdown",
   "metadata": {},
   "source": [
    "param_test9 = {\n",
    " 'n_estimators':[150,200,250]\n",
    "}\n",
    "gsearch9 = GridSearchCV(estimator = XGBClassifier(n_estimators=1000, n_jobs=-1, \n",
    "                                                  random_state=0, max_depth=6, min_child_weight=0.05, colsample_bytree=0.5), \n",
    "param_grid = param_test9, scoring='roc_auc',n_jobs=1,iid=False, cv=10,verbose = 2)\n",
    "gsearch9.fit(X,y)\n",
    "gsearch9.grid_scores_"
   ]
  },
  {
   "cell_type": "markdown",
   "metadata": {},
   "source": [
    "param_test9 = {\n",
    " 'n_estimators':[200,210,220,230,240,250]\n",
    "}\n",
    "gsearch9 = GridSearchCV(estimator = XGBClassifier(n_estimators=1000, n_jobs=-1, \n",
    "                                                  random_state=0, max_depth=6, min_child_weight=0.05, colsample_bytree=0.5), \n",
    "param_grid = param_test9, scoring='roc_auc',n_jobs=1,iid=False, cv=10,verbose = 2)\n",
    "gsearch9.fit(X,y)\n",
    "gsearch9.grid_scores_"
   ]
  },
  {
   "cell_type": "markdown",
   "metadata": {},
   "source": [
    "gsearch9.best_params_"
   ]
  },
  {
   "cell_type": "markdown",
   "metadata": {},
   "source": [
    "param_test9 = {\n",
    " 'n_estimators':[150,160,170,180,190,200]\n",
    "}\n",
    "gsearch9 = GridSearchCV(estimator = XGBClassifier(n_estimators=1000, n_jobs=-1, \n",
    "                                                  random_state=0, max_depth=6, min_child_weight=0.05, colsample_bytree=0.5), \n",
    "param_grid = param_test9, scoring='roc_auc',n_jobs=1,iid=False, cv=10,verbose = 2)\n",
    "gsearch9.fit(X,y)\n",
    "gsearch9.grid_scores_\n",
    "opt_n_est = gsearch9.best_params_[\"n_estimators\"]"
   ]
  },
  {
   "cell_type": "code",
   "execution_count": 12,
   "metadata": {
    "collapsed": false
   },
   "outputs": [],
   "source": [
    "opt_n_est = 190"
   ]
  },
  {
   "cell_type": "markdown",
   "metadata": {
    "collapsed": false
   },
   "source": [
    "%%time\n",
    "\n",
    "param_test_complexity = {\n",
    " 'max_depth':range(1,10,1),\n",
    " 'min_child_weight':range(0,6,1),\n",
    " 'gamma':[i/10.0 for i in range(0,10)] \n",
    "}\n",
    "print \"Making GridSearchCV object\"\n",
    "gsearch1 = GridSearchCV(estimator = XGBClassifier( learning_rate =0.1, n_estimators=190, max_depth=5,\n",
    " min_child_weight=1, gamma=0, subsample=0.8, colsample_bytree=0.8,\n",
    " objective= 'binary:logistic', nthread=5, scale_pos_weight=1, seed=27),\n",
    " param_grid = param_test_complexity, scoring='roc_auc',n_jobs=20,iid=False, cv=10)\n",
    "print \"Fitting\"\n",
    "gsearch1.fit(X,y)\n"
   ]
  },
  {
   "cell_type": "markdown",
   "metadata": {},
   "source": [
    "gsearch1.grid_scores_"
   ]
  },
  {
   "cell_type": "markdown",
   "metadata": {
    "collapsed": true
   },
   "source": [
    "gsearch1.best_params_, gsearch1.best_score_"
   ]
  },
  {
   "cell_type": "markdown",
   "metadata": {
    "collapsed": false
   },
   "source": [
    "%%time\n",
    "\n",
    "param_test_complexity = {\n",
    " 'max_depth':range(3,10,2),\n",
    " 'min_child_weight':range(0,6,2),\n",
    " 'gamma':[i/10.0 for i in range(0,10,2)] \n",
    "}\n",
    "print \"Making GridSearchCV object\"\n",
    "gsearch1 = GridSearchCV(estimator = XGBClassifier(n_estimators=190, random_state=0, max_depth=6, min_child_weight=0.05,\n",
    "    colsample_bytree=0.5, scale_pos_weight = 76),\n",
    " param_grid = param_test_complexity, scoring='roc_auc',n_jobs=20,iid=False, cv=10,verbose =1)\n",
    "print \"Fitting\"\n",
    "gsearch1.fit(X,y)"
   ]
  },
  {
   "cell_type": "markdown",
   "metadata": {
    "collapsed": true
   },
   "source": [
    "gsearch1.grid_scores_"
   ]
  },
  {
   "cell_type": "markdown",
   "metadata": {
    "collapsed": true
   },
   "source": [
    "gsearch1.best_params_, gsearch1.best_score_"
   ]
  },
  {
   "cell_type": "code",
   "execution_count": 13,
   "metadata": {
    "collapsed": false
   },
   "outputs": [
    {
     "name": "stdout",
     "output_type": "stream",
     "text": [
      "Making GridSearchCV object\n",
      "Fitting\n",
      "Fitting 10 folds for each of 120 candidates, totalling 1200 fits\n"
     ]
    },
    {
     "name": "stderr",
     "output_type": "stream",
     "text": [
      "[Parallel(n_jobs=20)]: Done  10 tasks      | elapsed:  2.7min\n",
      "[Parallel(n_jobs=20)]: Done 160 tasks      | elapsed: 21.8min\n",
      "[Parallel(n_jobs=20)]: Done 410 tasks      | elapsed: 57.9min\n",
      "[Parallel(n_jobs=20)]: Done 760 tasks      | elapsed: 111.6min\n",
      "[Parallel(n_jobs=20)]: Done 1200 out of 1200 | elapsed: 176.6min finished\n"
     ]
    },
    {
     "name": "stdout",
     "output_type": "stream",
     "text": [
      "CPU times: user 10min 17s, sys: 47.4 s, total: 11min 4s\n",
      "Wall time: 2h 59min 24s\n"
     ]
    }
   ],
   "source": [
    "%%time\n",
    "\n",
    "param_test_complexity = {\n",
    " 'max_depth':[8,9,10],\n",
    " 'min_child_weight':[0,.05,.25,.5,1,2,4,8,16,20],\n",
    " 'gamma':[i/10.0 for i in range(0,4,1)] \n",
    "}\n",
    "print \"Making GridSearchCV object\"\n",
    "gsearch1 = GridSearchCV(estimator = XGBClassifier(n_estimators=190, random_state=0, max_depth=6, min_child_weight=0.05,\n",
    "    colsample_bytree=0.5, scale_pos_weight = 76),\n",
    " param_grid = param_test_complexity, scoring='roc_auc',n_jobs=20,iid=False, cv=10,verbose =1)\n",
    "print \"Fitting\"\n",
    "gsearch1.fit(X,y)"
   ]
  },
  {
   "cell_type": "code",
   "execution_count": 14,
   "metadata": {
    "collapsed": true
   },
   "outputs": [
    {
     "name": "stderr",
     "output_type": "stream",
     "text": [
      "/Genomics/grid/users/anatf/custom-env/2.7.3/lib/python2.7/site-packages/sklearn/model_selection/_search.py:761: DeprecationWarning: The grid_scores_ attribute was deprecated in version 0.18 in favor of the more elaborate cv_results_ attribute. The grid_scores_ attribute will not be available from 0.20\n",
      "  DeprecationWarning)\n"
     ]
    },
    {
     "data": {
      "text/plain": [
       "[mean: 0.81585, std: 0.09610, params: {'max_depth': 8, 'gamma': 0.0, 'min_child_weight': 0},\n",
       " mean: 0.81616, std: 0.10023, params: {'max_depth': 8, 'gamma': 0.0, 'min_child_weight': 0.05},\n",
       " mean: 0.81189, std: 0.09699, params: {'max_depth': 8, 'gamma': 0.0, 'min_child_weight': 0.25},\n",
       " mean: 0.81579, std: 0.08992, params: {'max_depth': 8, 'gamma': 0.0, 'min_child_weight': 0.5},\n",
       " mean: 0.81921, std: 0.09815, params: {'max_depth': 8, 'gamma': 0.0, 'min_child_weight': 1},\n",
       " mean: 0.81679, std: 0.09479, params: {'max_depth': 8, 'gamma': 0.0, 'min_child_weight': 2},\n",
       " mean: 0.81713, std: 0.10111, params: {'max_depth': 8, 'gamma': 0.0, 'min_child_weight': 4},\n",
       " mean: 0.81670, std: 0.09507, params: {'max_depth': 8, 'gamma': 0.0, 'min_child_weight': 8},\n",
       " mean: 0.82629, std: 0.08992, params: {'max_depth': 8, 'gamma': 0.0, 'min_child_weight': 16},\n",
       " mean: 0.82624, std: 0.08775, params: {'max_depth': 8, 'gamma': 0.0, 'min_child_weight': 20},\n",
       " mean: 0.82493, std: 0.09700, params: {'max_depth': 9, 'gamma': 0.0, 'min_child_weight': 0},\n",
       " mean: 0.82637, std: 0.09611, params: {'max_depth': 9, 'gamma': 0.0, 'min_child_weight': 0.05},\n",
       " mean: 0.82742, std: 0.09660, params: {'max_depth': 9, 'gamma': 0.0, 'min_child_weight': 0.25},\n",
       " mean: 0.82929, std: 0.09764, params: {'max_depth': 9, 'gamma': 0.0, 'min_child_weight': 0.5},\n",
       " mean: 0.82351, std: 0.09641, params: {'max_depth': 9, 'gamma': 0.0, 'min_child_weight': 1},\n",
       " mean: 0.82212, std: 0.09582, params: {'max_depth': 9, 'gamma': 0.0, 'min_child_weight': 2},\n",
       " mean: 0.82362, std: 0.09368, params: {'max_depth': 9, 'gamma': 0.0, 'min_child_weight': 4},\n",
       " mean: 0.82985, std: 0.08895, params: {'max_depth': 9, 'gamma': 0.0, 'min_child_weight': 8},\n",
       " mean: 0.82797, std: 0.09093, params: {'max_depth': 9, 'gamma': 0.0, 'min_child_weight': 16},\n",
       " mean: 0.83177, std: 0.08682, params: {'max_depth': 9, 'gamma': 0.0, 'min_child_weight': 20},\n",
       " mean: 0.82133, std: 0.09699, params: {'max_depth': 10, 'gamma': 0.0, 'min_child_weight': 0},\n",
       " mean: 0.82091, std: 0.09726, params: {'max_depth': 10, 'gamma': 0.0, 'min_child_weight': 0.05},\n",
       " mean: 0.82215, std: 0.09255, params: {'max_depth': 10, 'gamma': 0.0, 'min_child_weight': 0.25},\n",
       " mean: 0.81916, std: 0.09477, params: {'max_depth': 10, 'gamma': 0.0, 'min_child_weight': 0.5},\n",
       " mean: 0.82060, std: 0.09202, params: {'max_depth': 10, 'gamma': 0.0, 'min_child_weight': 1},\n",
       " mean: 0.81402, std: 0.09948, params: {'max_depth': 10, 'gamma': 0.0, 'min_child_weight': 2},\n",
       " mean: 0.81228, std: 0.09894, params: {'max_depth': 10, 'gamma': 0.0, 'min_child_weight': 4},\n",
       " mean: 0.80766, std: 0.10552, params: {'max_depth': 10, 'gamma': 0.0, 'min_child_weight': 8},\n",
       " mean: 0.82387, std: 0.09116, params: {'max_depth': 10, 'gamma': 0.0, 'min_child_weight': 16},\n",
       " mean: 0.81957, std: 0.09080, params: {'max_depth': 10, 'gamma': 0.0, 'min_child_weight': 20},\n",
       " mean: 0.82239, std: 0.09684, params: {'max_depth': 8, 'gamma': 0.1, 'min_child_weight': 0},\n",
       " mean: 0.81955, std: 0.09519, params: {'max_depth': 8, 'gamma': 0.1, 'min_child_weight': 0.05},\n",
       " mean: 0.81436, std: 0.08879, params: {'max_depth': 8, 'gamma': 0.1, 'min_child_weight': 0.25},\n",
       " mean: 0.81850, std: 0.09229, params: {'max_depth': 8, 'gamma': 0.1, 'min_child_weight': 0.5},\n",
       " mean: 0.82351, std: 0.09188, params: {'max_depth': 8, 'gamma': 0.1, 'min_child_weight': 1},\n",
       " mean: 0.81747, std: 0.09985, params: {'max_depth': 8, 'gamma': 0.1, 'min_child_weight': 2},\n",
       " mean: 0.81345, std: 0.09692, params: {'max_depth': 8, 'gamma': 0.1, 'min_child_weight': 4},\n",
       " mean: 0.82205, std: 0.09643, params: {'max_depth': 8, 'gamma': 0.1, 'min_child_weight': 8},\n",
       " mean: 0.82939, std: 0.09338, params: {'max_depth': 8, 'gamma': 0.1, 'min_child_weight': 16},\n",
       " mean: 0.82868, std: 0.08749, params: {'max_depth': 8, 'gamma': 0.1, 'min_child_weight': 20},\n",
       " mean: 0.82698, std: 0.09651, params: {'max_depth': 9, 'gamma': 0.1, 'min_child_weight': 0},\n",
       " mean: 0.82215, std: 0.09795, params: {'max_depth': 9, 'gamma': 0.1, 'min_child_weight': 0.05},\n",
       " mean: 0.82436, std: 0.09653, params: {'max_depth': 9, 'gamma': 0.1, 'min_child_weight': 0.25},\n",
       " mean: 0.82361, std: 0.09382, params: {'max_depth': 9, 'gamma': 0.1, 'min_child_weight': 0.5},\n",
       " mean: 0.82785, std: 0.09371, params: {'max_depth': 9, 'gamma': 0.1, 'min_child_weight': 1},\n",
       " mean: 0.81989, std: 0.09868, params: {'max_depth': 9, 'gamma': 0.1, 'min_child_weight': 2},\n",
       " mean: 0.82378, std: 0.09303, params: {'max_depth': 9, 'gamma': 0.1, 'min_child_weight': 4},\n",
       " mean: 0.82725, std: 0.09238, params: {'max_depth': 9, 'gamma': 0.1, 'min_child_weight': 8},\n",
       " mean: 0.83278, std: 0.08843, params: {'max_depth': 9, 'gamma': 0.1, 'min_child_weight': 16},\n",
       " mean: 0.83527, std: 0.08427, params: {'max_depth': 9, 'gamma': 0.1, 'min_child_weight': 20},\n",
       " mean: 0.81740, std: 0.09740, params: {'max_depth': 10, 'gamma': 0.1, 'min_child_weight': 0},\n",
       " mean: 0.81760, std: 0.09662, params: {'max_depth': 10, 'gamma': 0.1, 'min_child_weight': 0.05},\n",
       " mean: 0.82079, std: 0.08870, params: {'max_depth': 10, 'gamma': 0.1, 'min_child_weight': 0.25},\n",
       " mean: 0.81693, std: 0.09177, params: {'max_depth': 10, 'gamma': 0.1, 'min_child_weight': 0.5},\n",
       " mean: 0.81796, std: 0.09287, params: {'max_depth': 10, 'gamma': 0.1, 'min_child_weight': 1},\n",
       " mean: 0.81610, std: 0.09424, params: {'max_depth': 10, 'gamma': 0.1, 'min_child_weight': 2},\n",
       " mean: 0.82458, std: 0.09435, params: {'max_depth': 10, 'gamma': 0.1, 'min_child_weight': 4},\n",
       " mean: 0.82114, std: 0.08958, params: {'max_depth': 10, 'gamma': 0.1, 'min_child_weight': 8},\n",
       " mean: 0.82959, std: 0.09027, params: {'max_depth': 10, 'gamma': 0.1, 'min_child_weight': 16},\n",
       " mean: 0.82575, std: 0.08829, params: {'max_depth': 10, 'gamma': 0.1, 'min_child_weight': 20},\n",
       " mean: 0.82213, std: 0.08873, params: {'max_depth': 8, 'gamma': 0.2, 'min_child_weight': 0},\n",
       " mean: 0.82224, std: 0.08884, params: {'max_depth': 8, 'gamma': 0.2, 'min_child_weight': 0.05},\n",
       " mean: 0.81684, std: 0.09357, params: {'max_depth': 8, 'gamma': 0.2, 'min_child_weight': 0.25},\n",
       " mean: 0.81750, std: 0.09423, params: {'max_depth': 8, 'gamma': 0.2, 'min_child_weight': 0.5},\n",
       " mean: 0.82287, std: 0.08757, params: {'max_depth': 8, 'gamma': 0.2, 'min_child_weight': 1},\n",
       " mean: 0.82122, std: 0.10138, params: {'max_depth': 8, 'gamma': 0.2, 'min_child_weight': 2},\n",
       " mean: 0.81601, std: 0.10245, params: {'max_depth': 8, 'gamma': 0.2, 'min_child_weight': 4},\n",
       " mean: 0.81639, std: 0.09739, params: {'max_depth': 8, 'gamma': 0.2, 'min_child_weight': 8},\n",
       " mean: 0.82547, std: 0.09187, params: {'max_depth': 8, 'gamma': 0.2, 'min_child_weight': 16},\n",
       " mean: 0.82733, std: 0.08976, params: {'max_depth': 8, 'gamma': 0.2, 'min_child_weight': 20},\n",
       " mean: 0.83146, std: 0.08799, params: {'max_depth': 9, 'gamma': 0.2, 'min_child_weight': 0},\n",
       " mean: 0.82987, std: 0.09084, params: {'max_depth': 9, 'gamma': 0.2, 'min_child_weight': 0.05},\n",
       " mean: 0.82626, std: 0.09036, params: {'max_depth': 9, 'gamma': 0.2, 'min_child_weight': 0.25},\n",
       " mean: 0.82772, std: 0.09190, params: {'max_depth': 9, 'gamma': 0.2, 'min_child_weight': 0.5},\n",
       " mean: 0.82098, std: 0.09648, params: {'max_depth': 9, 'gamma': 0.2, 'min_child_weight': 1},\n",
       " mean: 0.81894, std: 0.09878, params: {'max_depth': 9, 'gamma': 0.2, 'min_child_weight': 2},\n",
       " mean: 0.82494, std: 0.09128, params: {'max_depth': 9, 'gamma': 0.2, 'min_child_weight': 4},\n",
       " mean: 0.82533, std: 0.09206, params: {'max_depth': 9, 'gamma': 0.2, 'min_child_weight': 8},\n",
       " mean: 0.82912, std: 0.09048, params: {'max_depth': 9, 'gamma': 0.2, 'min_child_weight': 16},\n",
       " mean: 0.82470, std: 0.08891, params: {'max_depth': 9, 'gamma': 0.2, 'min_child_weight': 20},\n",
       " mean: 0.82490, std: 0.08951, params: {'max_depth': 10, 'gamma': 0.2, 'min_child_weight': 0},\n",
       " mean: 0.82173, std: 0.09086, params: {'max_depth': 10, 'gamma': 0.2, 'min_child_weight': 0.05},\n",
       " mean: 0.82270, std: 0.09269, params: {'max_depth': 10, 'gamma': 0.2, 'min_child_weight': 0.25},\n",
       " mean: 0.82084, std: 0.09281, params: {'max_depth': 10, 'gamma': 0.2, 'min_child_weight': 0.5},\n",
       " mean: 0.81130, std: 0.09812, params: {'max_depth': 10, 'gamma': 0.2, 'min_child_weight': 1},\n",
       " mean: 0.81908, std: 0.09704, params: {'max_depth': 10, 'gamma': 0.2, 'min_child_weight': 2},\n",
       " mean: 0.81577, std: 0.09473, params: {'max_depth': 10, 'gamma': 0.2, 'min_child_weight': 4},\n",
       " mean: 0.81395, std: 0.09475, params: {'max_depth': 10, 'gamma': 0.2, 'min_child_weight': 8},\n",
       " mean: 0.82380, std: 0.08944, params: {'max_depth': 10, 'gamma': 0.2, 'min_child_weight': 16},\n",
       " mean: 0.83021, std: 0.08673, params: {'max_depth': 10, 'gamma': 0.2, 'min_child_weight': 20},\n",
       " mean: 0.82756, std: 0.08427, params: {'max_depth': 8, 'gamma': 0.3, 'min_child_weight': 0},\n",
       " mean: 0.82758, std: 0.08429, params: {'max_depth': 8, 'gamma': 0.3, 'min_child_weight': 0.05},\n",
       " mean: 0.81458, std: 0.10180, params: {'max_depth': 8, 'gamma': 0.3, 'min_child_weight': 0.25},\n",
       " mean: 0.82020, std: 0.08941, params: {'max_depth': 8, 'gamma': 0.3, 'min_child_weight': 0.5},\n",
       " mean: 0.82702, std: 0.09145, params: {'max_depth': 8, 'gamma': 0.3, 'min_child_weight': 1},\n",
       " mean: 0.81757, std: 0.09528, params: {'max_depth': 8, 'gamma': 0.3, 'min_child_weight': 2},\n",
       " mean: 0.82054, std: 0.09021, params: {'max_depth': 8, 'gamma': 0.3, 'min_child_weight': 4},\n",
       " mean: 0.81709, std: 0.09963, params: {'max_depth': 8, 'gamma': 0.3, 'min_child_weight': 8},\n",
       " mean: 0.82417, std: 0.09268, params: {'max_depth': 8, 'gamma': 0.3, 'min_child_weight': 16},\n",
       " mean: 0.82458, std: 0.08851, params: {'max_depth': 8, 'gamma': 0.3, 'min_child_weight': 20},\n",
       " mean: 0.82425, std: 0.09411, params: {'max_depth': 9, 'gamma': 0.3, 'min_child_weight': 0},\n",
       " mean: 0.82558, std: 0.09374, params: {'max_depth': 9, 'gamma': 0.3, 'min_child_weight': 0.05},\n",
       " mean: 0.82810, std: 0.09540, params: {'max_depth': 9, 'gamma': 0.3, 'min_child_weight': 0.25},\n",
       " mean: 0.82235, std: 0.09836, params: {'max_depth': 9, 'gamma': 0.3, 'min_child_weight': 0.5},\n",
       " mean: 0.82600, std: 0.09149, params: {'max_depth': 9, 'gamma': 0.3, 'min_child_weight': 1},\n",
       " mean: 0.82057, std: 0.09718, params: {'max_depth': 9, 'gamma': 0.3, 'min_child_weight': 2},\n",
       " mean: 0.82617, std: 0.09248, params: {'max_depth': 9, 'gamma': 0.3, 'min_child_weight': 4},\n",
       " mean: 0.81894, std: 0.09328, params: {'max_depth': 9, 'gamma': 0.3, 'min_child_weight': 8},\n",
       " mean: 0.82193, std: 0.09383, params: {'max_depth': 9, 'gamma': 0.3, 'min_child_weight': 16},\n",
       " mean: 0.82705, std: 0.08708, params: {'max_depth': 9, 'gamma': 0.3, 'min_child_weight': 20},\n",
       " mean: 0.81681, std: 0.09899, params: {'max_depth': 10, 'gamma': 0.3, 'min_child_weight': 0},\n",
       " mean: 0.81699, std: 0.09957, params: {'max_depth': 10, 'gamma': 0.3, 'min_child_weight': 0.05},\n",
       " mean: 0.82292, std: 0.09335, params: {'max_depth': 10, 'gamma': 0.3, 'min_child_weight': 0.25},\n",
       " mean: 0.82527, std: 0.08957, params: {'max_depth': 10, 'gamma': 0.3, 'min_child_weight': 0.5},\n",
       " mean: 0.81544, std: 0.09842, params: {'max_depth': 10, 'gamma': 0.3, 'min_child_weight': 1},\n",
       " mean: 0.81630, std: 0.10180, params: {'max_depth': 10, 'gamma': 0.3, 'min_child_weight': 2},\n",
       " mean: 0.81511, std: 0.09674, params: {'max_depth': 10, 'gamma': 0.3, 'min_child_weight': 4},\n",
       " mean: 0.81843, std: 0.09995, params: {'max_depth': 10, 'gamma': 0.3, 'min_child_weight': 8},\n",
       " mean: 0.82279, std: 0.09079, params: {'max_depth': 10, 'gamma': 0.3, 'min_child_weight': 16},\n",
       " mean: 0.82381, std: 0.09215, params: {'max_depth': 10, 'gamma': 0.3, 'min_child_weight': 20}]"
      ]
     },
     "execution_count": 14,
     "metadata": {},
     "output_type": "execute_result"
    }
   ],
   "source": [
    "gsearch1.grid_scores_"
   ]
  },
  {
   "cell_type": "code",
   "execution_count": 15,
   "metadata": {
    "collapsed": true
   },
   "outputs": [
    {
     "data": {
      "text/plain": [
       "({'gamma': 0.1, 'max_depth': 9, 'min_child_weight': 20}, 0.8352674489866796)"
      ]
     },
     "execution_count": 15,
     "metadata": {},
     "output_type": "execute_result"
    }
   ],
   "source": [
    "gsearch1.best_params_, gsearch1.best_score_"
   ]
  },
  {
   "cell_type": "markdown",
   "metadata": {
    "collapsed": false
   },
   "source": [
    "%%time\n",
    "\n",
    "param_test1 = {\n",
    " 'max_depth':range(3,10,2),\n",
    " 'min_child_weight':range(1,6,2)\n",
    "}\n",
    "print \"Making GridSearchCV object\"\n",
    "gsearch1 = GridSearchCV(estimator = XGBClassifier( learning_rate =0.1, n_estimators=optimized_n_est, max_depth=5,\n",
    " min_child_weight=1, gamma=0, subsample=0.8, colsample_bytree=0.8,\n",
    " objective= 'binary:logistic', nthread=4, scale_pos_weight=1, seed=27),\n",
    " param_grid = param_test1, scoring='roc_auc',n_jobs=1,iid=False, cv=10, verbose=3)\n",
    "print \"Fitting\"\n",
    "#gsearch1.fit(X,y)\n",
    "#gsearch1.grid_scores_, gsearch1.best_params_, gsearch1.best_score_"
   ]
  },
  {
   "cell_type": "markdown",
   "metadata": {
    "collapsed": false,
    "scrolled": true
   },
   "source": [
    "%%time \n",
    "#optimized_n_est = 98\n",
    "param_test2 = {\n",
    " 'max_depth':[1,2,3,4],#range(3,10,2),\n",
    " 'min_child_weight':[4,5,6]#range(1,6,2)\n",
    "}\n",
    "print \"Making GridSearchCV object\"\n",
    "gsearch2 = GridSearchCV(estimator = XGBClassifier( learning_rate =0.1, n_estimators=optimized_n_est, max_depth=5,\n",
    " min_child_weight=1, gamma=0, subsample=0.8, colsample_bytree=0.8,\n",
    " objective= 'binary:logistic', nthread=4, scale_pos_weight=1, seed=27), \n",
    " param_grid = param_test2, scoring='roc_auc',n_jobs=1,iid=False, cv=5, verbose=10)\n",
    "print \"Fitting\"\n",
    "#gsearch2.fit(X,y)\n",
    "#gsearch2.grid_scores_, gsearch2.best_params_, gsearch2.best_score_\n",
    "#opt_max_depth = gsearch2.best_params_[\"max_depth\"]\n",
    "#opt_min_child_weight = gsearch2.best_params[\"min_child_weight\"]"
   ]
  },
  {
   "cell_type": "markdown",
   "metadata": {
    "collapsed": false,
    "scrolled": true
   },
   "source": [
    "%%time \n",
    "optimized_n_est = 98\n",
    "param_test2 = {\n",
    " 'min_child_weight':[6,8,10,12,14,16,18,20,22,24]#range(1,6,2)\n",
    "}\n",
    "print \"Making GridSearchCV object\"\n",
    "gsearch2 = GridSearchCV(estimator = XGBClassifier( learning_rate =0.1, n_estimators=optimized_n_est, max_depth=opt_max_depth,\n",
    " min_child_weight=1, gamma=0, subsample=0.8, colsample_bytree=0.8,\n",
    " objective= 'binary:logistic', nthread=4, scale_pos_weight=1, seed=27), \n",
    " param_grid = param_test2, scoring='average_precision',n_jobs=1,iid=False, cv=5, verbose=1)\n",
    "print \"Fitting\"\n",
    "#gsearch2.fit(X,y)\n",
    "#gsearch2.grid_scores_, gsearch2.best_params_, gsearch2.best_score_\n",
    "#opt_min_child_weight = gsearch2.best_params_[\"min_child_weight\"]\n"
   ]
  },
  {
   "cell_type": "markdown",
   "metadata": {
    "collapsed": false,
    "scrolled": true
   },
   "source": [
    "param_test3 = {\n",
    " 'gamma':[i/10.0 for i in range(0,5)]\n",
    "}\n",
    "gsearch3 = GridSearchCV(estimator = XGBClassifier( learning_rate =0.1, n_estimators=optimized_n_est, max_depth=opt_max_depth,\n",
    " min_child_weight=opt_min_child_weight, gamma=0, subsample=0.8, colsample_bytree=0.8,\n",
    " objective= 'binary:logistic', nthread=5, scale_pos_weight=1,seed=27), \n",
    " param_grid = param_test3, scoring='average_precision',n_jobs=1,iid=False, cv=5,verbose=2)\n",
    "#gsearch3.fit(X,y)\n",
    "#print gsearch3.grid_scores_, gsearch3.best_params_, gsearch3.best_score_\n",
    "#opt_gamma = gsearch3.best_params_[\"gamma\"]\n"
   ]
  },
  {
   "cell_type": "markdown",
   "metadata": {
    "collapsed": true
   },
   "source": [
    "opt_max_depth = 1\n",
    "opt_min_child_weight = 16\n",
    "opt_gamma = 0\n",
    "#optimized_n_est = 108\n",
    "xgb2 = XGBClassifier(\n",
    " learning_rate =0.1,\n",
    " n_estimators=1000,\n",
    " max_depth=opt_max_depth,\n",
    " min_child_weight=opt_min_child_weight,\n",
    " gamma=opt_gamma,\n",
    " subsample=0.8,\n",
    " colsample_bytree=0.8,\n",
    " objective= 'binary:logistic',\n",
    " nthread=4,\n",
    " scale_pos_weight=1,\n",
    " seed=27)\n",
    "returns = modelfit(xgb2, ligands_features_df[ligand], ligands_negatives_df[ligand], ligand)\n",
    "print \"Optimal n_estimators: \"+str(returns[1].shape[0]) \n",
    "optimized_n_est_new = returns[1].shape[0] \n"
   ]
  },
  {
   "cell_type": "markdown",
   "metadata": {
    "collapsed": true
   },
   "source": [
    "\n",
    "param_test4 = {\n",
    " 'n_estimators':[optimized_n_est,optimized_n_est_new],\n",
    " 'subsample':[i/10.0 for i in range(6,10)],\n",
    " 'colsample_bytree':[i/10.0 for i in range(6,10)]\n",
    "}\n",
    "gsearch4 = GridSearchCV(estimator = XGBClassifier( learning_rate =0.1, n_estimators=98, max_depth=opt_max_depth,\n",
    " min_child_weight=opt_min_child_weight, gamma=opt_gamma, subsample=0.8, colsample_bytree=0.8,\n",
    " objective= 'binary:logistic', nthread=4, scale_pos_weight=1,seed=27), \n",
    " param_grid = param_test4, scoring='average_precision',n_jobs=1,iid=False, cv=5,verbose=3)\n",
    "gsearch4.fit(X,y)\n",
    "print gsearch4.grid_scores_\n"
   ]
  },
  {
   "cell_type": "markdown",
   "metadata": {
    "collapsed": true
   },
   "source": [
    "print gsearch4.best_params_, gsearch4.best_score_"
   ]
  },
  {
   "cell_type": "markdown",
   "metadata": {
    "collapsed": true
   },
   "source": [
    "param_test5 = {\n",
    " 'subsample':[i/100.0 for i in range(65,80,5)],\n",
    " 'colsample_bytree':[i/100.0 for i in range(65,80,5)]\n",
    "}\n",
    "gsearch5 = GridSearchCV(estimator = XGBClassifier( learning_rate =0.1, n_estimators=optimized_n_est, max_depth=opt_max_depth,\n",
    " min_child_weight=opt_min_child_weight, gamma=opt_gamma, subsample=0.8, colsample_bytree=0.8,\n",
    " objective= 'binary:logistic', nthread=4, scale_pos_weight=1,seed=27), \n",
    " param_grid = param_test5, scoring='average_precision',n_jobs=1,iid=False, cv=5,verbose=2)\n",
    "gsearch5.fit(X,y)"
   ]
  },
  {
   "cell_type": "markdown",
   "metadata": {
    "collapsed": true
   },
   "source": [
    "print gsearch5.grid_scores_"
   ]
  },
  {
   "cell_type": "markdown",
   "metadata": {
    "collapsed": true
   },
   "source": [
    "print gsearch5.best_params_, gsearch5.best_score_"
   ]
  },
  {
   "cell_type": "code",
   "execution_count": 16,
   "metadata": {
    "collapsed": true
   },
   "outputs": [],
   "source": [
    "opt_max_depth = 1\n",
    "opt_min_child_weight = 16\n",
    "opt_gamma = 0\n",
    "opt_subsample = .7\n",
    "opt_colsample_bytree = .7"
   ]
  },
  {
   "cell_type": "markdown",
   "metadata": {},
   "source": [
    "param_test6 = {\n",
    " 'reg_alpha':[1e-5, 1e-2, 0.1, 1, 100]\n",
    "}\n",
    "gsearch6 = GridSearchCV(estimator = XGBClassifier( learning_rate =0.1, n_estimators=optimized_n_est, max_depth=opt_max_depth,\n",
    " min_child_weight=opt_min_child_weight, gamma=opt_gamma, subsample=opt_subsample, colsample_bytree=opt_colsample_bytree,\n",
    " objective= 'binary:logistic', nthread=4, scale_pos_weight=1,seed=27), \n",
    " param_grid = param_test6, scoring='average_precision',n_jobs=1,iid=False, cv=5,verbose = 2)\n",
    "gsearch6.fit(X,y)"
   ]
  },
  {
   "cell_type": "markdown",
   "metadata": {},
   "source": [
    "print gsearch6.grid_scores_"
   ]
  },
  {
   "cell_type": "markdown",
   "metadata": {},
   "source": [
    "print gsearch6.best_params_, gsearch6.best_score_"
   ]
  },
  {
   "cell_type": "markdown",
   "metadata": {},
   "source": [
    "param_test7 = {\n",
    " 'reg_alpha':[.01, .05, .25, .5, .75, 1, 1.5, 2]\n",
    "}\n",
    "gsearch7 = GridSearchCV(estimator = XGBClassifier( learning_rate =0.1, n_estimators=optimized_n_est, max_depth=opt_max_depth,\n",
    " min_child_weight=opt_min_child_weight, gamma=opt_gamma, subsample=opt_subsample, colsample_bytree=opt_colsample_bytree,\n",
    " objective= 'binary:logistic', nthread=4, scale_pos_weight=1,seed=27), \n",
    " param_grid = param_test7, scoring='average_precision',n_jobs=1,iid=False, cv=5,verbose = 2)\n",
    "gsearch7.fit(X,y)"
   ]
  },
  {
   "cell_type": "markdown",
   "metadata": {},
   "source": [
    "print gsearch7.grid_scores_"
   ]
  },
  {
   "cell_type": "markdown",
   "metadata": {},
   "source": [
    "print gsearch7.best_params_, gsearch7.best_score_"
   ]
  },
  {
   "cell_type": "markdown",
   "metadata": {
    "collapsed": true
   },
   "source": [
    "param_test8 = {\n",
    " 'reg_alpha':[.4, .45, .5, .55, .6]\n",
    "}\n",
    "gsearch8 = GridSearchCV(estimator = XGBClassifier( learning_rate =0.1, n_estimators=optimized_n_est, max_depth=opt_max_depth,\n",
    " min_child_weight=opt_min_child_weight, gamma=opt_gamma, subsample=opt_subsample, colsample_bytree=opt_colsample_bytree,\n",
    " objective= 'binary:logistic', nthread=4, scale_pos_weight=1,seed=27), \n",
    " param_grid = param_test8, scoring='average_precision',n_jobs=1,iid=False, cv=5,verbose = 2)\n",
    "gsearch8.fit(X,y)"
   ]
  },
  {
   "cell_type": "markdown",
   "metadata": {},
   "source": [
    "print gsearch8.grid_scores_"
   ]
  },
  {
   "cell_type": "markdown",
   "metadata": {},
   "source": [
    "print gsearch8.best_params_, gsearch8.best_score_"
   ]
  },
  {
   "cell_type": "code",
   "execution_count": 17,
   "metadata": {
    "collapsed": true
   },
   "outputs": [],
   "source": [
    "opt_alpha = .5"
   ]
  },
  {
   "cell_type": "markdown",
   "metadata": {
    "collapsed": false
   },
   "source": [
    "%%time\n",
    "\n",
    "xgb3 = XGBClassifier(\n",
    " learning_rate =0.1,\n",
    " n_estimators=1000,\n",
    " max_depth=opt_max_depth,\n",
    " min_child_weight=opt_min_child_weight,\n",
    " gamma=opt_gamma,\n",
    " reg_alpha = opt_alpha,\n",
    " subsample=opt_subsample,\n",
    " colsample_bytree=opt_colsample_bytree,\n",
    " objective= 'binary:logistic',\n",
    " nthread=-1,\n",
    " scale_pos_weight=1,\n",
    " seed=27)\n",
    "returns = modelfit(xgb3, ligands_features_df[ligand], ligands_negatives_df[ligand], ligand)\n",
    "print \"Optimal n_estimators: \"+str(returns[1].shape[0]) \n",
    "optimized_n_est_new_new = returns[1].shape[0]"
   ]
  },
  {
   "cell_type": "markdown",
   "metadata": {
    "collapsed": false
   },
   "source": [
    "%%time\n",
    "\n",
    "xgb4 = XGBClassifier(\n",
    " learning_rate =0.01,\n",
    " n_estimators=5000,\n",
    " max_depth=opt_max_depth,\n",
    " min_child_weight=opt_min_child_weight,\n",
    " gamma=opt_gamma,\n",
    " reg_alpha = opt_alpha,\n",
    " subsample=opt_subsample,\n",
    " colsample_bytree=opt_colsample_bytree,\n",
    " objective= 'binary:logistic',\n",
    " nthread=-1,\n",
    " scale_pos_weight=1,\n",
    " seed=27)\n",
    "returns = modelfit(xgb4, ligands_features_df[ligand], ligands_negatives_df[ligand], ligand,early_stopping_rounds = 500)\n",
    "print \"Optimal n_estimators: \"+str(returns[1].shape[0])\n",
    "optimized_n_est_new_new_new = returns[1].shape[0]"
   ]
  },
  {
   "cell_type": "markdown",
   "metadata": {
    "collapsed": true
   },
   "source": [
    "param_test9 = {\n",
    " 'n_estimators':[100,200,300,400,500,600,700,800,900,1000,1100,1200,1300,1400,1500]\n",
    "}\n",
    "gsearch9 = GridSearchCV(estimator = XGBClassifier(n_estimators=1000, n_jobs=-1, \n",
    "                                                  random_state=0, max_depth=6, min_child_weight=0.05, colsample_bytree=0.5), \n",
    "param_grid = param_test9, scoring='average_precision',n_jobs=1,iid=False, cv=10,verbose = 2)\n",
    "gsearch9.fit(X,y)\n",
    "print gsearch9.grid_scores_\n",
    "print gsearch9.best_params_, gsearch9.best_score_"
   ]
  },
  {
   "cell_type": "code",
   "execution_count": 18,
   "metadata": {
    "collapsed": true
   },
   "outputs": [],
   "source": []
  },
  {
   "cell_type": "code",
   "execution_count": 18,
   "metadata": {
    "collapsed": false
   },
   "outputs": [],
   "source": []
  },
  {
   "cell_type": "code",
   "execution_count": 18,
   "metadata": {
    "collapsed": true
   },
   "outputs": [],
   "source": []
  }
 ],
 "metadata": {
  "kernelspec": {
   "display_name": "Python 2",
   "language": "python",
   "name": "python2"
  },
  "language_info": {
   "codemirror_mode": {
    "name": "ipython",
    "version": 2
   },
   "file_extension": ".py",
   "mimetype": "text/x-python",
   "name": "python",
   "nbconvert_exporter": "python",
   "pygments_lexer": "ipython2",
   "version": "2.7.3"
  }
 },
 "nbformat": 4,
 "nbformat_minor": 1
}
