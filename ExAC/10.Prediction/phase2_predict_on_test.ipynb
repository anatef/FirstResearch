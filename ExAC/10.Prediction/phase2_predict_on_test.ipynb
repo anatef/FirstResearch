{
 "cells": [
  {
   "cell_type": "code",
   "execution_count": 1,
   "metadata": {},
   "outputs": [
    {
     "data": {
      "text/html": [
       "<style>.container { width:100% !important; }</style>"
      ],
      "text/plain": [
       "<IPython.core.display.HTML object>"
      ]
     },
     "execution_count": 1,
     "metadata": {},
     "output_type": "execute_result"
    }
   ],
   "source": [
    "#%matplotlib inline\n",
    "#Basic imports\n",
    "import pandas as pd\n",
    "import numpy as np\n",
    "import pickle\n",
    "from collections import defaultdict\n",
    "from os import environ, getcwd\n",
    "import sys\n",
    "\n",
    "#Import utils functions\n",
    "curr_dir = getcwd()\n",
    "sys.path.append(curr_dir+\"/utils\")\n",
    "from prop_threshold_funcs import create_positives_datasets_combined, create_negatives_datasets_combined\n",
    "from prediction_general_funcs import ligands, score_cols_suffix, get_features_cols, remove_unimportant_features, test_model_iterative_fixed\n",
    "\n",
    "#Import models dict according to tuning type\n",
    "tuning_type = \"global_auprc\"\n",
    "#tuning_type = \"domain_auc\"\n",
    "if (tuning_type == \"global_auprc\"):\n",
    "    from generate_models_dict_global_auprc import generate_models_dict\n",
    "else:\n",
    "    from generate_models_dict_domain_auc import generate_models_dict\n",
    "    \n",
    "from IPython.core.display import HTML\n",
    "HTML(\"<style>.container { width:100% !important; }</style>\")"
   ]
  },
  {
   "cell_type": "markdown",
   "metadata": {},
   "source": [
    "### Reading the input dataset"
   ]
  },
  {
   "cell_type": "code",
   "execution_count": 2,
   "metadata": {},
   "outputs": [
    {
     "name": "stdout",
     "output_type": "stream",
     "text": [
      "all samples positions #: 44872\n"
     ]
    }
   ],
   "source": [
    "pfam_version = \"31\"\n",
    "datafile_date = \"08.06.18\"\n",
    "input_path = curr_dir+\"/domains_similarity/filtered_features_table/\"\n",
    "filename = \"windowed_positions_features_mediode_filter_\"+datafile_date+\".csv\"\n",
    "\n",
    "out_dirname = \"comb_dna0.5_rna0.5_ion0.75\"\n",
    "\n",
    "#flags for creating negatives\n",
    "zero_prop = True\n",
    "no_prop = True\n",
    "all_ligands = False\n",
    "folds_num = 5\n",
    "ligands = [\"dna\", \"rna\", \"ion\", \"peptide\", \"sm\"]\n",
    "\n",
    "#Features table\n",
    "features_all = pd.read_csv(input_path+filename, sep='\\t', index_col=0)\n",
    "#Features columns names, without the labels (the binding scores)\n",
    "features_cols = get_features_cols(features_all)\n",
    "\n",
    "print \"all samples positions #: \"+str(features_all.shape[0])\n",
    "\n",
    "#CV splits dictionary\n",
    "with open(curr_dir+\"/CV_splits/pfam-v\"+pfam_version+\"/domain_\"+str(folds_num)+\"_folds_combined_dna0.5_rna0.5_ion0.75_prec_dict.pik\", 'rb') as handle:\n",
    "    splits_dict = pickle.load(handle)"
   ]
  },
  {
   "cell_type": "markdown",
   "metadata": {},
   "source": [
    "#### Remove unimportant features"
   ]
  },
  {
   "cell_type": "code",
   "execution_count": 3,
   "metadata": {},
   "outputs": [
    {
     "name": "stdout",
     "output_type": "stream",
     "text": [
      "# of features before removal: 761\n",
      "# of features after removal: 761\n"
     ]
    }
   ],
   "source": [
    "print \"# of features before removal: \"+str(len(features_cols))\n",
    "remove_unimportant_features(features_all, features_cols)\n",
    "print \"# of features after removal: \"+str(len(features_cols))"
   ]
  },
  {
   "cell_type": "markdown",
   "metadata": {},
   "source": [
    "#### Dataset of negative examples"
   ]
  },
  {
   "cell_type": "code",
   "execution_count": 4,
   "metadata": {
    "scrolled": true
   },
   "outputs": [
    {
     "name": "stdout",
     "output_type": "stream",
     "text": [
      "dna non-binding #:43886\n",
      "dnabase non-binding #:44418\n",
      "dnabackbone non-binding #:44021\n",
      "dna combined non binding #: 43884\n",
      "rna non-binding #:43727\n",
      "rnabase non-binding #:44154\n",
      "rnabackbone non-binding #:43944\n",
      "rna combined non binding #: 43720\n",
      "peptide non-binding #:41105\n",
      "ion non-binding #:39630\n",
      "metabolite non-binding #:39638\n",
      "druglike non-binding #:35018\n",
      "sm non-binding #:32697\n"
     ]
    }
   ],
   "source": [
    "ligands_negatives_df = create_negatives_datasets_combined(zero_prop, no_prop, features_all, features_cols, all_ligands)"
   ]
  },
  {
   "cell_type": "markdown",
   "metadata": {},
   "source": [
    "#### Datasets of positive examples by ligand"
   ]
  },
  {
   "cell_type": "code",
   "execution_count": 5,
   "metadata": {},
   "outputs": [
    {
     "name": "stdout",
     "output_type": "stream",
     "text": [
      "dna #: 369\n",
      "dnabase #: 161\n",
      "dnabackbone #: 245\n",
      "dna combined #: 397\n",
      "rna #: 206\n",
      "rnabase #: 118\n",
      "rnabackbone #: 136\n",
      "rna combined #: 247\n",
      "peptide #: 436\n",
      "ion #: 351\n",
      "metabolite #: 522\n",
      "druglike #: 763\n",
      "sm #: 825\n"
     ]
    },
    {
     "name": "stderr",
     "output_type": "stream",
     "text": [
      "/home/anat/anaconda2/lib/python2.7/site-packages/pandas/core/frame.py:1997: UserWarning: Boolean Series key will be reindexed to match DataFrame index.\n",
      "  \"DataFrame index.\", UserWarning)\n"
     ]
    }
   ],
   "source": [
    "ligands_positives_df = create_positives_datasets_combined(features_all, features_cols, all_ligands)"
   ]
  },
  {
   "cell_type": "markdown",
   "metadata": {},
   "source": [
    "### Reading env input for downsampler technique, ligand and classifier"
   ]
  },
  {
   "cell_type": "code",
   "execution_count": 6,
   "metadata": {
    "scrolled": true
   },
   "outputs": [
    {
     "name": "stdout",
     "output_type": "stream",
     "text": [
      "ligand = dna\n",
      "fold = 1\n",
      "classifier_method = XGB\n"
     ]
    }
   ],
   "source": [
    "#Reading the ligand input\n",
    "try:\n",
    "    ligand = environ['ligand']\n",
    "except:\n",
    "    ligand = \"dna\"\n",
    "print \"ligand = \"+ligand\n",
    "    \n",
    "#Reading the fold input\n",
    "try: \n",
    "    fold = environ['fold']\n",
    "except:\n",
    "    fold = \"1\"\n",
    "print \"fold = \"+fold\n",
    "\n",
    "#Reading the classifier input\n",
    "try: \n",
    "    classifier_method = environ['classifier']\n",
    "except:\n",
    "    classifier_method = \"XGB\"\n",
    "print \"classifier_method = \"+classifier_method"
   ]
  },
  {
   "cell_type": "code",
   "execution_count": 7,
   "metadata": {},
   "outputs": [],
   "source": [
    "no_features = len(features_cols)\n",
    "models_dict = generate_models_dict(ligand, classifier_method, ligands, ligands_positives_df, ligands_negatives_df, folds_num, no_features)"
   ]
  },
  {
   "cell_type": "markdown",
   "metadata": {},
   "source": [
    "### Predict for each ligand seperatelly"
   ]
  },
  {
   "cell_type": "code",
   "execution_count": 8,
   "metadata": {
    "scrolled": true
   },
   "outputs": [
    {
     "name": "stdout",
     "output_type": "stream",
     "text": [
      "fold #: 1\n",
      "AUC = 0.8783010306018075\n",
      "AUPRC = 0.36636682847178764\n",
      "AU prec prob = 0.3380073005202657\n",
      "domain AUC mean = 0.8425429917549917\n",
      "domain AUPRC mean = 0.5575022764102965\n",
      "domain AUPRC ratio mean = 2.8433861616824867\n",
      "Finished dna XGB fold: 1\n",
      "Finished ligand dna\n"
     ]
    }
   ],
   "source": [
    "#%%time\n",
    "\n",
    "save_to_file = False\n",
    "\n",
    "for fold in [fold]:\n",
    "    #Initialize dictionary\n",
    "    pred_dict = defaultdict(list)\n",
    "    domain_pred_dict = defaultdict(list)\n",
    "    auc_dict = defaultdict(list)\n",
    "    auprc_dict = defaultdict(list)\n",
    "    domain_auc_mean_dict = defaultdict(list)\n",
    "    domain_auprc_mean_dict = defaultdict(list)\n",
    "    domain_auprc_ratio_mean_dict = defaultdict(list)\n",
    "    domain_auc_dict = defaultdict(list)\n",
    "    domain_auprc_dict = defaultdict(list)\n",
    "    domain_auprc_ratio_dict = defaultdict(list)\n",
    "    prec_prob_dict = defaultdict(list)\n",
    "\n",
    "    model = models_dict[classifier_method][ligand][int(fold)]\n",
    "    (ordered_features, model) = test_model_iterative_fixed(pred_dict, domain_pred_dict, auc_dict, auprc_dict, domain_auc_mean_dict, domain_auprc_mean_dict, domain_auprc_ratio_mean_dict, \n",
    "                                                            domain_auc_dict, domain_auprc_dict, domain_auprc_ratio_dict, prec_prob_dict, ligands_positives_df[ligand], \n",
    "                                                            ligands_negatives_df[ligand], ligand, model, classifier_method, fold)\n",
    "\n",
    "\n",
    "    pred_df = pd.DataFrame.from_dict(pred_dict)\n",
    "    domain_pred_df = pd.DataFrame.from_dict(domain_pred_dict)\n",
    "    #global matrics dfs\n",
    "    auc_df = pd.DataFrame.from_dict(auc_dict)\n",
    "    auprc_df = pd.DataFrame.from_dict(auprc_dict)\n",
    "    #per domain mean dfs\n",
    "    domain_auc_mean_df = pd.DataFrame.from_dict(domain_auc_mean_dict)\n",
    "    domain_auprc_mean_df = pd.DataFrame.from_dict(domain_auprc_mean_dict)\n",
    "    domain_auprc_ratio_mean_df = pd.DataFrame.from_dict(domain_auprc_ratio_mean_dict)\n",
    "    #per domain dfs\n",
    "    domain_auc_df = pd.DataFrame.from_dict(domain_auc_dict)\n",
    "    domain_auprc_df = pd.DataFrame.from_dict(domain_auprc_dict)\n",
    "    domain_auprc_ratio_df= pd.DataFrame.from_dict(domain_auprc_ratio_dict)\n",
    "\n",
    "    #Save to file\n",
    "    if (save_to_file):\n",
    "        pred_df.to_csv(curr_dir+\"/phase2_pred_res/\"+datafile_date+\"_\"+str(folds_num)+\"f_\"+out_dirname+\"/\"+tuning_type+\"/per_fold/\"+ligand+\"_\"+classifier_method+\"_fold\"+fold+\"_\"+str(folds_num)+\"w.csv\", sep='\\t')\n",
    "        domain_pred_df.to_csv(curr_dir+\"/phase2_pred_res/\"+datafile_date+\"_\"+str(folds_num)+\"f_\"+out_dirname+\"/\"+tuning_type+\"/per_fold/\"+ligand+\"_\"+classifier_method+\"_fold\"+fold+\"_\"+str(folds_num)+\"w_d.csv\", sep='\\t')\n",
    "\n",
    "        auc_df.to_csv(curr_dir+\"/phase2_pred_res/\"+datafile_date+\"_\"+str(folds_num)+\"f_\"+out_dirname+\"/\"+tuning_type+\"/per_fold/\"+ligand+\"_\"+classifier_method+\"_fold\"+fold+\"_\"+str(folds_num)+\"w_auc.csv\", sep='\\t')\n",
    "        auprc_df.to_csv(curr_dir+\"/phase2_pred_res/\"+datafile_date+\"_\"+str(folds_num)+\"f_\"+out_dirname+\"/\"+tuning_type+\"/per_fold/\"+ligand+\"_\"+classifier_method+\"_fold\"+fold+\"_\"+str(folds_num)+\"w_auprc.csv\", sep='\\t')\n",
    "\n",
    "        domain_auc_mean_df.to_csv(curr_dir+\"/phase2_pred_res/\"+datafile_date+\"_\"+str(folds_num)+\"f_\"+out_dirname+\"/\"+tuning_type+\"/per_fold/\"+ligand+\"_\"+classifier_method+\"_fold\"+fold+\"_\"+str(folds_num)+\"w_dm_auc.csv\", sep='\\t')\n",
    "        domain_auprc_mean_df.to_csv(curr_dir+\"/phase2_pred_res/\"+datafile_date+\"_\"+str(folds_num)+\"f_\"+out_dirname+\"/\"+tuning_type+\"/per_fold/\"+ligand+\"_\"+classifier_method+\"_fold\"+fold+\"_\"+str(folds_num)+\"w_dm_auprc.csv\", sep='\\t')\n",
    "        domain_auprc_ratio_mean_df.to_csv(curr_dir+\"/phase2_pred_res/\"+datafile_date+\"_\"+str(folds_num)+\"f_\"+out_dirname+\"/\"+tuning_type+\"/per_fold/\"+ligand+\"_\"+classifier_method+\"_fold\"+fold+\"_\"+str(folds_num)+\"w_dm_auprc_ratio.csv\", sep='\\t')\n",
    "\n",
    "        domain_auc_df.to_csv(curr_dir+\"/phase2_pred_res/\"+datafile_date+\"_\"+str(folds_num)+\"f_\"+out_dirname+\"/\"+tuning_type+\"/per_fold/\"+ligand+\"_\"+classifier_method+\"_fold\"+fold+\"_\"+str(folds_num)+\"w_d_auc.csv\", sep='\\t')\n",
    "        domain_auprc_df.to_csv(curr_dir+\"/phase2_pred_res/\"+datafile_date+\"_\"+str(folds_num)+\"f_\"+out_dirname+\"/\"+tuning_type+\"/per_fold/\"+ligand+\"_\"+classifier_method+\"_fold\"+fold+\"_\"+str(folds_num)+\"w_d_auprc.csv\", sep='\\t')\n",
    "        domain_auprc_ratio_df.to_csv(curr_dir+\"/phase2_pred_res/\"+datafile_date+\"_\"+str(folds_num)+\"f_\"+out_dirname+\"/\"+tuning_type+\"/per_fold/\"+ligand+\"_\"+classifier_method+\"_fold\"+fold+\"_\"+str(folds_num)+\"w_d_auprc_ratio.csv\", sep='\\t')\n",
    "\n",
    "        pred_df.to_csv(curr_dir+\"/phase2_pred_res/\"+datafile_date+\"_\"+str(folds_num)+\"f_\"+out_dirname+\"/\"+tuning_type+\"/per_fold/\"+ligand+\"_\"+classifier_method+\"_fold\"+fold+\"_\"+str(folds_num)+\"w.csv\", sep='\\t')\n",
    "        domain_pred_df.to_csv(curr_dir+\"/phase2_pred_res/\"+datafile_date+\"_\"+str(folds_num)+\"f_\"+out_dirname+\"/\"+tuning_type+\"/per_fold/\"+ligand+\"_\"+classifier_method+\"_fold\"+fold+\"_\"+str(folds_num)+\"w_d.csv\", sep='\\t')\n",
    "\n",
    "        auc_df.to_csv(curr_dir+\"/phase2_pred_res/\"+datafile_date+\"_\"+str(folds_num)+\"f_\"+out_dirname+\"/\"+tuning_type+\"/per_fold/\"+ligand+\"_\"+classifier_method+\"_fold\"+fold+\"_\"+str(folds_num)+\"w_auc.csv\", sep='\\t')\n",
    "        auprc_df.to_csv(curr_dir+\"/phase2_pred_res/\"+datafile_date+\"_\"+str(folds_num)+\"f_\"+out_dirname+\"/\"+tuning_type+\"/per_fold/\"+ligand+\"_\"+classifier_method+\"_fold\"+fold+\"_\"+str(folds_num)+\"w_auprc.csv\", sep='\\t')\n",
    "\n",
    "        domain_auc_mean_df.to_csv(curr_dir+\"/phase2_pred_res/\"+datafile_date+\"_\"+str(folds_num)+\"f_\"+out_dirname+\"/\"+tuning_type+\"/per_fold/\"+ligand+\"_\"+classifier_method+\"_fold\"+fold+\"_\"+str(folds_num)+\"w_dm_auc.csv\", sep='\\t')\n",
    "        domain_auprc_mean_df.to_csv(curr_dir+\"/phase2_pred_res/\"+datafile_date+\"_\"+str(folds_num)+\"f_\"+out_dirname+\"/\"+tuning_type+\"/per_fold/\"+ligand+\"_\"+classifier_method+\"_fold\"+fold+\"_\"+str(folds_num)+\"w_dm_auprc.csv\", sep='\\t')\n",
    "        domain_auprc_ratio_mean_df.to_csv(curr_dir+\"/phase2_pred_res/\"+datafile_date+\"_\"+str(folds_num)+\"f_\"+out_dirname+\"/\"+tuning_type+\"/per_fold/\"+ligand+\"_\"+classifier_method+\"_fold\"+fold+\"_\"+str(folds_num)+\"w_dm_auprc_ratio.csv\", sep='\\t')\n",
    "\n",
    "        domain_auc_df.to_csv(curr_dir+\"/phase2_pred_res/\"+datafile_date+\"_\"+str(folds_num)+\"f_\"+out_dirname+\"/\"+tuning_type+\"/per_fold/\"+ligand+\"_\"+classifier_method+\"_fold\"+fold+\"_\"+str(folds_num)+\"w_d_auc.csv\", sep='\\t')\n",
    "        domain_auprc_df.to_csv(curr_dir+\"/phase2_pred_res/\"+datafile_date+\"_\"+str(folds_num)+\"f_\"+out_dirname+\"/\"+tuning_type+\"/per_fold/\"+ligand+\"_\"+classifier_method+\"_fold\"+fold+\"_\"+str(folds_num)+\"w_d_auprc.csv\", sep='\\t')\n",
    "        domain_auprc_ratio_df.to_csv(curr_dir+\"/phase2_pred_res/\"+datafile_date+\"_\"+str(folds_num)+\"f_\"+out_dirname+\"/\"+tuning_type+\"/per_fold/\"+ligand+\"_\"+classifier_method+\"_fold\"+fold+\"_\"+str(folds_num)+\"w_d_auprc_ratio.csv\", sep='\\t')\n",
    "\n",
    "print \"Finished ligand \"+ligand"
   ]
  },
  {
   "cell_type": "code",
   "execution_count": 9,
   "metadata": {},
   "outputs": [],
   "source": [
    "#imp_list4 = model.feature_importances_\n",
    "\n",
    "#importance_dict4 = {}\n",
    "#for i in range(len(features_cols)):\n",
    "#    importance_dict4[features_cols[i]] = imp_list4[i]\n",
    "#sorted(importance_dict4.items(), key=lambda x: x[1])"
   ]
  }
 ],
 "metadata": {
  "kernelspec": {
   "display_name": "Python 2",
   "language": "python",
   "name": "python2"
  },
  "language_info": {
   "codemirror_mode": {
    "name": "ipython",
    "version": 2
   },
   "file_extension": ".py",
   "mimetype": "text/x-python",
   "name": "python",
   "nbconvert_exporter": "python",
   "pygments_lexer": "ipython2",
   "version": "2.7.12"
  }
 },
 "nbformat": 4,
 "nbformat_minor": 1
}
