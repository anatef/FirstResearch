{
 "cells": [
  {
   "cell_type": "markdown",
   "metadata": {},
   "source": [
    "## Combining predicted probabilities from several classifiers, for each ligand"
   ]
  },
  {
   "cell_type": "code",
   "execution_count": 1,
   "metadata": {},
   "outputs": [],
   "source": [
    "import pandas as pd\n",
    "import numpy as np\n",
    "import pickle\n",
    "from collections import defaultdict\n",
    "from os import environ"
   ]
  },
  {
   "cell_type": "code",
   "execution_count": 2,
   "metadata": {},
   "outputs": [],
   "source": [
    "curr_dir = !pwd\n",
    "models = [\"XGB\", \"RF\", \"ADA\", \"KNN\", \"SVM\", \"Logistic\"]\n",
    "ligands = [\"dna\", \"rna\", \"ion\", \"peptide\", \"sm\"]\n",
    "datafile_date = \"08.06.18\"\n",
    "folds = 5\n",
    "dirname = \"comb_dna0.5_rna0.25_ion0.75\"\n",
    "\n",
    "oof_path = curr_dir[0]+\"/1st_level_pred/\"+datafile_date+\"_\"+dirname+\"/oof/\"\n",
    "heldout_fold_path = curr_dir[0]+\"/../pred_AUC_AUPRC/mediode_NegLigand_NoFilter/NoDown/\"+datafile_date+\"_\"+str(folds)+\"f_\"+dirname+\"/per_fold/\"\n",
    "missing_path = curr_dir[0]+\"/missing_predictions/\"+datafile_date+\"_\"+dirname+\"/per_fold/\"\n",
    "out_path = curr_dir[0]+\"/1st_level_pred/\"+datafile_date+\"_\"+dirname+\"/all_combined/\""
   ]
  },
  {
   "cell_type": "code",
   "execution_count": 3,
   "metadata": {},
   "outputs": [
    {
     "name": "stdout",
     "output_type": "stream",
     "text": [
      "Finished reading dna XGB\n",
      "Finished reading dna RF\n",
      "Finished reading dna ADA\n",
      "Finished reading dna KNN\n",
      "Finished reading dna SVM\n",
      "Finished reading dna Logistic\n",
      "Finished reading data dna\n",
      "Finished writing dna\n",
      "Finished reading rna XGB\n",
      "Finished reading rna RF\n",
      "Finished reading rna ADA\n",
      "Finished reading rna KNN\n",
      "Finished reading rna SVM\n",
      "Finished reading rna Logistic\n",
      "Finished reading data rna\n",
      "Finished writing rna\n",
      "Finished reading ion XGB\n",
      "Finished reading ion RF\n",
      "Finished reading ion ADA\n",
      "Finished reading ion KNN\n",
      "Finished reading ion SVM\n",
      "Finished reading ion Logistic\n",
      "Finished reading data ion\n",
      "Finished writing ion\n",
      "Finished reading peptide XGB\n",
      "Finished reading peptide RF\n",
      "Finished reading peptide ADA\n",
      "Finished reading peptide KNN\n",
      "Finished reading peptide SVM\n",
      "Finished reading peptide Logistic\n",
      "Finished reading data peptide\n",
      "Finished writing peptide\n",
      "Finished reading sm XGB\n",
      "Finished reading sm RF\n",
      "Finished reading sm ADA\n",
      "Finished reading sm KNN\n",
      "Finished reading sm SVM\n",
      "Finished reading sm Logistic\n",
      "Finished reading data sm\n",
      "Finished writing sm\n"
     ]
    }
   ],
   "source": [
    "#%%time\n",
    "pred_prob_dict = defaultdict(dict)\n",
    "\n",
    "for ligand in ligands:\n",
    "    #Read the data tables\n",
    "    for model in models:\n",
    "        pred_prob_dict[ligand][model] = dict()\n",
    "        \n",
    "        for heldout_fold in range(1,folds+1):\n",
    "            pred_prob_dict[ligand][model][heldout_fold] = dict()\n",
    "        \n",
    "            #Reading the ligand-model missing labels positions\n",
    "            pred_prob_dict[ligand][model][heldout_fold][\"missing\"] = pd.read_csv(missing_path+ligand+\"_\"+model+\"_fold\"+str(heldout_fold)+\"_5w.csv\", sep='\\t', index_col=0)[[\"idx\", \"prob\"]]\n",
    "            pred_prob_dict[ligand][model][heldout_fold][\"missing\"].columns = [\"idx\", model+\"_\"+ligand+\"_prob\"]\n",
    "        \n",
    "            #Reading the ligand-model oof training predictions (of all other 4 folds)\n",
    "            pred_prob_dict[ligand][model][heldout_fold][\"oof-train\"] = pd.DataFrame()\n",
    "            for test_fold in range(1, folds+1):\n",
    "                \n",
    "                if (test_fold == heldout_fold):\n",
    "                    continue\n",
    "                curr_oof_table = pd.read_csv(oof_path+str(heldout_fold)+\"/\"+ligand+\"_\"+model+\"_test_fold\"+str(test_fold)+\"_5w.csv\", sep='\\t', index_col=0)[[\"idx\", \"prob\"]]\n",
    "                curr_oof_table.columns = [\"idx\", model+\"_\"+ligand+\"_prob\"]\n",
    "                \n",
    "                if (pred_prob_dict[ligand][model][heldout_fold][\"oof-train\"].shape[0] == 0): \n",
    "                    pred_prob_dict[ligand][model][heldout_fold][\"oof-train\"] = curr_oof_table\n",
    "                else:\n",
    "                    pred_prob_dict[ligand][model][heldout_fold][\"oof-train\"] = pd.concat([pred_prob_dict[ligand][model][heldout_fold][\"oof-train\"], curr_oof_table])\n",
    "                \n",
    "            #Reading the ligand-model heldout fold predictions\n",
    "            pred_prob_dict[ligand][model][heldout_fold][\"heldout\"] = pd.read_csv(heldout_fold_path+ligand+\"_\"+model+\"_fold\"+str(heldout_fold)+\"_5w.csv\", sep='\\t', index_col=0)[[\"idx\", \"prob\"]]\n",
    "            pred_prob_dict[ligand][model][heldout_fold][\"heldout\"].columns = [\"idx\", model+\"_\"+ligand+\"_prob\"]\n",
    "            \n",
    "        print \"Finished reading \"+ligand+\" \"+model\n",
    "               \n",
    "    print \"Finished reading data \"+ligand\n",
    "    \n",
    "    #Combine them into ligand-folds tables\n",
    "    for heldout_fold in range(1,folds+1):\n",
    "        ligand_fold_combined_table = pd.DataFrame()\n",
    "        \n",
    "        for model in models:\n",
    "            model_combined_table = pd.concat([pred_prob_dict[ligand][model][heldout_fold][\"heldout\"], pred_prob_dict[ligand][model][heldout_fold][\"oof-train\"], pred_prob_dict[ligand][model][heldout_fold][\"missing\"]])\n",
    "        \n",
    "            if (ligand_fold_combined_table.shape[0] == 0):\n",
    "                ligand_fold_combined_table = model_combined_table\n",
    "            else:\n",
    "                ligand_fold_combined_table = pd.merge(ligand_fold_combined_table, model_combined_table, on=\"idx\")\n",
    "        \n",
    "        \n",
    "        #Saving to .csv\n",
    "        ligand_fold_combined_table = ligand_fold_combined_table.sort_values(by=\"idx\")\n",
    "        ligand_fold_combined_table = ligand_fold_combined_table.reset_index(drop=True)\n",
    "        ligand_fold_combined_table.to_csv(out_path+str(heldout_fold)+\"/\"+ligand+\"_stacking1_probs.csv\", sep='\\t')\n",
    "    \n",
    "    print \"Finished writing \"+ligand"
   ]
  },
  {
   "cell_type": "code",
   "execution_count": null,
   "metadata": {},
   "outputs": [],
   "source": []
  }
 ],
 "metadata": {
  "kernelspec": {
   "display_name": "Python 2",
   "language": "python",
   "name": "python2"
  },
  "language_info": {
   "codemirror_mode": {
    "name": "ipython",
    "version": 2
   },
   "file_extension": ".py",
   "mimetype": "text/x-python",
   "name": "python",
   "nbconvert_exporter": "python",
   "pygments_lexer": "ipython2",
   "version": "2.7.12"
  }
 },
 "nbformat": 4,
 "nbformat_minor": 2
}
