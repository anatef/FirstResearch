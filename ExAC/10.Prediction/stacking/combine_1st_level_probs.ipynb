{
 "cells": [
  {
   "cell_type": "markdown",
   "metadata": {},
   "source": [
    "## Combining predicted probabilities from several classifiers, for each ligand"
   ]
  },
  {
   "cell_type": "code",
   "execution_count": 1,
   "metadata": {},
   "outputs": [],
   "source": [
    "import pandas as pd\n",
    "import numpy as np\n",
    "import pickle\n",
    "from collections import defaultdict\n",
    "from os import environ"
   ]
  },
  {
   "cell_type": "code",
   "execution_count": 4,
   "metadata": {},
   "outputs": [],
   "source": [
    "curr_dir = !pwd\n",
    "#models = [\"XGB\", \"RF\", \"ADA\", \"KNN\", \"SVM\", \"Logistic\"]\n",
    "models = [\"XGB\", \"RF\", \"ADA\", \"SVM\", \"KNN\", \"Logistic\"]\n",
    "#ligands = [\"dna\", \"dnabase\", \"dnabackbone\", \"rna\", \"rnabase\", \"rnabackbone\", \"peptide\", \"ion\", \"metabolite\"]\n",
    "ligands = [\"peptide\", \"ion\", \"metabolite\"]\n",
    "dataset_path = curr_dir[0]+\"/1st_level_pred/\"\n",
    "between_path = curr_dir[0]+\"/../pred_AUC_AUPRC/mediode_NegLigand_NoFilter/NoDown/01.25.2018/between_pred_tables/\"\n",
    "K = 10"
   ]
  },
  {
   "cell_type": "code",
   "execution_count": 5,
   "metadata": {},
   "outputs": [
    {
     "name": "stdout",
     "output_type": "stream",
     "text": [
      "Finished reading peptide XGB\n",
      "Finished reading peptide RF\n",
      "Finished reading peptide ADA\n",
      "Finished reading peptide SVM\n",
      "Finished reading peptide KNN\n",
      "Finished reading peptide Logistic\n",
      "Finished reading data peptide\n",
      "Finished writing peptide\n",
      "Finished reading ion XGB\n",
      "Finished reading ion RF\n",
      "Finished reading ion ADA\n",
      "Finished reading ion SVM\n",
      "Finished reading ion KNN\n",
      "Finished reading ion Logistic\n",
      "Finished reading data ion\n",
      "Finished writing ion\n",
      "Finished reading metabolite XGB\n",
      "Finished reading metabolite RF\n",
      "Finished reading metabolite ADA\n",
      "Finished reading metabolite SVM\n",
      "Finished reading metabolite KNN\n",
      "Finished reading metabolite Logistic\n",
      "Finished reading data metabolite\n",
      "Finished writing metabolite\n",
      "CPU times: user 8min 42s, sys: 46.5 s, total: 9min 28s\n",
      "Wall time: 10min 46s\n"
     ]
    }
   ],
   "source": [
    "%%time\n",
    "pred_prob_dict = defaultdict(dict)\n",
    "\n",
    "for ligand in ligands:\n",
    "    #Read the data tables\n",
    "    for model in models:\n",
    "        pred_prob_dict[ligand][model] = dict()\n",
    "        \n",
    "        #Reading the ligand-model between labels positions\n",
    "        between_table = pd.read_csv(between_path+ligand+\"_\"+model+\"_features_pred.csv\", sep='\\t', index_col=0)[[\"fold\", \"prob\"]]\n",
    "        between_table.columns = [\"fold\", model+\"_prob\"]\n",
    "        \n",
    "        for fold in range(1,K+1):\n",
    "            pred_prob_dict[ligand][model][fold] = dict()\n",
    "            #Reading the ligand regular dataset\n",
    "            pred_prob_dict[ligand][model][fold][\"dataset\"] = pd.read_csv(dataset_path+str(fold)+\"/\"+ligand+\"_\"+model+\"_fold\"+str(fold)+\"_features_pred.csv\", sep='\\t', index_col=0)[[\"fold\", \"prob\"]]\n",
    "            pred_prob_dict[ligand][model][fold][\"dataset\"].columns = [\"fold\", model+\"_prob\"]\n",
    "            pred_prob_dict[ligand][model][fold][\"between\"] = between_table[between_table[\"fold\"] == fold]\n",
    "        print \"Finished reading \"+ligand+\" \"+model\n",
    "    print \"Finished reading data \"+ligand\n",
    "    \n",
    "    #Combine them into ligand folds probs table\n",
    "    for fold in range(1,K+1):\n",
    "        \n",
    "        probs_merged_df = pd.DataFrame()\n",
    "        between_merged_df = pd.DataFrame()\n",
    "        \n",
    "        for model in models:\n",
    "        \n",
    "            #The regular dataset\n",
    "            if (probs_merged_df.shape[0] == 0):\n",
    "                probs_merged_df = pred_prob_dict[ligand][model][fold][\"dataset\"]\n",
    "            else:\n",
    "                probs_merged_df = probs_merged_df.merge(pred_prob_dict[ligand][model][fold][\"dataset\"], on=\"fold\", left_index=True, right_index=True)\n",
    "            #The positions between labels\n",
    "            if (between_merged_df.shape[0] == 0):\n",
    "                between_merged_df = pred_prob_dict[ligand][model][fold][\"between\"]\n",
    "            else:\n",
    "                between_merged_df = pd.concat([between_merged_df, pred_prob_dict[ligand][model][fold][\"between\"][[model+\"_prob\"]]], axis=1)\n",
    "    \n",
    "        #Saving to .csv\n",
    "        probs_merged_df.to_csv(dataset_path+str(fold)+\"/\"+ligand+\"_dataset_probs.csv\", sep='\\t')\n",
    "        between_merged_df.to_csv(dataset_path+str(fold)+\"/\"+ligand+\"_between_probs.csv\", sep='\\t')\n",
    "    \n",
    "    print \"Finished writing \"+ligand"
   ]
  },
  {
   "cell_type": "code",
   "execution_count": null,
   "metadata": {},
   "outputs": [],
   "source": []
  }
 ],
 "metadata": {
  "kernelspec": {
   "display_name": "Python 2",
   "language": "python",
   "name": "python2"
  },
  "language_info": {
   "codemirror_mode": {
    "name": "ipython",
    "version": 2
   },
   "file_extension": ".py",
   "mimetype": "text/x-python",
   "name": "python",
   "nbconvert_exporter": "python",
   "pygments_lexer": "ipython2",
   "version": "2.7.12"
  }
 },
 "nbformat": 4,
 "nbformat_minor": 2
}
