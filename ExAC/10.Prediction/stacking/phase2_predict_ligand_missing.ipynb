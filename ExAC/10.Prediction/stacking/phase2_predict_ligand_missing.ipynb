{
 "cells": [
  {
   "cell_type": "code",
   "execution_count": 1,
   "metadata": {},
   "outputs": [
    {
     "data": {
      "text/html": [
       "<style>.container { width:100% !important; }</style>"
      ],
      "text/plain": [
       "<IPython.core.display.HTML object>"
      ]
     },
     "execution_count": 1,
     "metadata": {},
     "output_type": "execute_result"
    }
   ],
   "source": [
    "#Basic imports\n",
    "import pandas as pd\n",
    "import numpy as np\n",
    "import pickle\n",
    "from collections import defaultdict\n",
    "from os import environ, getcwd\n",
    "import sys\n",
    "\n",
    "#Import utils functions\n",
    "curr_dir = getcwd()\n",
    "sys.path.append(curr_dir+\"/../utils\")\n",
    "from prop_threshold_funcs import create_positives_datasets_combined, create_negatives_datasets_combined\n",
    "from prediction_general_funcs import get_features_cols, remove_unimportant_features, test_model_no_performance\n",
    "\n",
    "#Import models dict according to tuning type\n",
    "tuning_type = \"global_auprc\"\n",
    "#tuning_type = \"domain_auc\"\n",
    "if (tuning_type == \"global_auprc\"):\n",
    "    from generate_models_dict_global_auprc import generate_models_dict, Net\n",
    "else:\n",
    "    from generate_models_dict_domain_auc import generate_models_dict, Net\n",
    "\n",
    "from IPython.core.display import HTML\n",
    "HTML(\"<style>.container { width:100% !important; }</style>\")"
   ]
  },
  {
   "cell_type": "markdown",
   "metadata": {},
   "source": [
    "### Reading the input dataset"
   ]
  },
  {
   "cell_type": "code",
   "execution_count": 2,
   "metadata": {},
   "outputs": [
    {
     "name": "stdout",
     "output_type": "stream",
     "text": [
      "all samples positions #: 44872\n"
     ]
    }
   ],
   "source": [
    "pfam_version = \"31\"\n",
    "datafile_date = \"08.06.18\"\n",
    "input_path = curr_dir+\"/../domains_similarity/filtered_features_table/\"\n",
    "filename = \"windowed_positions_features_mediode_filter_\"+datafile_date+\".csv\"\n",
    "out_dirname = \"comb_dna0.5_rna0.5_ion0.75\"\n",
    "\n",
    "#flags for creating negatives\n",
    "zero_prop = True\n",
    "no_prop = True\n",
    "all_ligands = False\n",
    "prec_th = 0.25\n",
    "folds_num = 5\n",
    "ligands = [\"dna\", \"rna\", \"ion\", \"peptide\", \"sm\"]\n",
    "\n",
    "#Features table\n",
    "features_all = pd.read_csv(input_path+filename, sep='\\t', index_col=0)\n",
    "#Features columns names, without the labels (the binding scores)\n",
    "features_cols = get_features_cols(features_all)\n",
    "remove_unimportant_features(features_all, features_cols, update_features_cols=True)\n",
    "\n",
    "print \"all samples positions #: \"+str(features_all.shape[0])\n",
    "\n",
    "#CV splits dictionary\n",
    "with open(curr_dir+\"/../CV_splits/pfam-v\"+pfam_version+\"/domain_\"+str(folds_num)+\"_folds_combined_dna0.5_rna0.25_ion0.75_prec_dict.pik\", 'rb') as handle:\n",
    "        splits_dict = pickle.load(handle)"
   ]
  },
  {
   "cell_type": "markdown",
   "metadata": {},
   "source": [
    "#### Dataset of negative examples"
   ]
  },
  {
   "cell_type": "code",
   "execution_count": 3,
   "metadata": {},
   "outputs": [
    {
     "name": "stdout",
     "output_type": "stream",
     "text": [
      "dna non-binding #:43886\n",
      "dnabase non-binding #:44418\n",
      "dnabackbone non-binding #:44021\n",
      "dna combined non binding #: 43884\n",
      "rna non-binding #:43727\n",
      "rnabase non-binding #:44154\n",
      "rnabackbone non-binding #:43944\n",
      "rna combined non binding #: 43720\n",
      "peptide non-binding #:41105\n",
      "ion non-binding #:39630\n",
      "metabolite non-binding #:39638\n",
      "druglike non-binding #:35018\n",
      "sm non-binding #:32697\n"
     ]
    }
   ],
   "source": [
    "ligands_negatives_df = create_negatives_datasets_combined(zero_prop, no_prop, features_all, features_cols, all_ligands)"
   ]
  },
  {
   "cell_type": "markdown",
   "metadata": {},
   "source": [
    "#### Datasets of positive examples by ligand"
   ]
  },
  {
   "cell_type": "code",
   "execution_count": 4,
   "metadata": {},
   "outputs": [
    {
     "name": "stdout",
     "output_type": "stream",
     "text": [
      "dna #: 369\n",
      "dnabase #: 161\n",
      "dnabackbone #: 245\n",
      "dna combined #: 397\n",
      "rna #: 206\n",
      "rnabase #: 118\n",
      "rnabackbone #: 136\n",
      "rna combined #: 247\n",
      "peptide #: 436\n",
      "ion #: 351\n",
      "metabolite #: 522\n",
      "druglike #: 763\n",
      "sm #: 825\n"
     ]
    },
    {
     "name": "stderr",
     "output_type": "stream",
     "text": [
      "/home/anat/anaconda2/lib/python2.7/site-packages/pandas/core/frame.py:1997: UserWarning: Boolean Series key will be reindexed to match DataFrame index.\n",
      "  \"DataFrame index.\", UserWarning)\n"
     ]
    }
   ],
   "source": [
    "ligands_positives_df = create_positives_datasets_combined(features_all, features_cols, all_ligands)"
   ]
  },
  {
   "cell_type": "markdown",
   "metadata": {},
   "source": [
    "#### Dataset of positive examples - all ligands combined"
   ]
  },
  {
   "cell_type": "code",
   "execution_count": 5,
   "metadata": {},
   "outputs": [
    {
     "name": "stdout",
     "output_type": "stream",
     "text": [
      "all_ligands pos#: 2055\n"
     ]
    }
   ],
   "source": [
    "all_ligands_positives_df = pd.concat([ligands_positives_df[\"dna\"], ligands_positives_df[\"rna\"], ligands_positives_df[\"ion\"], ligands_positives_df[\"peptide\"], ligands_positives_df[\"sm\"]])                                    \n",
    "all_ligands_positives_df = all_ligands_positives_df.drop_duplicates()\n",
    "print \"all_ligands pos#: \"+str(all_ligands_positives_df.shape[0])\n",
    "ligands_positives_df[\"all_ligands\"] = all_ligands_positives_df"
   ]
  },
  {
   "cell_type": "markdown",
   "metadata": {},
   "source": [
    "#### Dataset of negative examples - all ligands combined"
   ]
  },
  {
   "cell_type": "code",
   "execution_count": 6,
   "metadata": {},
   "outputs": [
    {
     "name": "stdout",
     "output_type": "stream",
     "text": [
      "all_ligands neg#: 44855\n"
     ]
    }
   ],
   "source": [
    "all_ligands_negatives_df = pd.concat([ligands_negatives_df[\"dna\"], ligands_negatives_df[\"rna\"], ligands_negatives_df[\"ion\"], ligands_negatives_df[\"peptide\"], ligands_negatives_df[\"sm\"]])                                    \n",
    "all_ligands_negatives_df = all_ligands_negatives_df.drop_duplicates()\n",
    "print \"all_ligands neg#: \"+str(all_ligands_negatives_df.shape[0])\n",
    "ligands_negatives_df[\"all_ligands\"] = all_ligands_negatives_df"
   ]
  },
  {
   "cell_type": "markdown",
   "metadata": {},
   "source": [
    "#### Dataset of all positions examples - all ligands combined"
   ]
  },
  {
   "cell_type": "code",
   "execution_count": 7,
   "metadata": {},
   "outputs": [
    {
     "name": "stdout",
     "output_type": "stream",
     "text": [
      "all_ligands #: 44860\n"
     ]
    }
   ],
   "source": [
    "all_positions_used_df = pd.concat([ligands_positives_df[\"all_ligands\"], ligands_negatives_df[\"all_ligands\"]])\n",
    "all_positions_used_df = all_positions_used_df.drop_duplicates()\n",
    "print \"all_ligands #: \"+str(all_positions_used_df.shape[0])"
   ]
  },
  {
   "cell_type": "markdown",
   "metadata": {},
   "source": [
    "### Datasets of missing positions (for each ligand: positions that are in the training of other ligands)"
   ]
  },
  {
   "cell_type": "code",
   "execution_count": 8,
   "metadata": {},
   "outputs": [
    {
     "name": "stdout",
     "output_type": "stream",
     "text": [
      "dna has 579 missing positions\n",
      "rna has 893 missing positions\n",
      "ion has 4879 missing positions\n",
      "peptide has 3319 missing positions\n",
      "sm has 11338 missing positions\n"
     ]
    }
   ],
   "source": [
    "ligands_missing_df = {}\n",
    "\n",
    "for ligand in ligands:\n",
    "    #All the ligand positions together\n",
    "    ligand_df = pd.concat([ligands_negatives_df[ligand],  ligands_positives_df[ligand]])\n",
    "    ligand_df = ligand_df.drop_duplicates()\n",
    "    \n",
    "    #Find indices of the missing positions\n",
    "    idx_diff = pd.Index.difference(all_positions_used_df.index, ligand_df.index)\n",
    "    \n",
    "    #Save a table with all the missing positions\n",
    "    ligands_missing_df[ligand] = all_positions_used_df.loc[idx_diff]\n",
    "    \n",
    "    print ligand+\" has \"+str(ligands_missing_df[ligand].shape[0])+\" missing positions\""
   ]
  },
  {
   "cell_type": "markdown",
   "metadata": {},
   "source": [
    "### Reading env input for downsampler technique, ligand and classifier"
   ]
  },
  {
   "cell_type": "code",
   "execution_count": 9,
   "metadata": {
    "scrolled": true
   },
   "outputs": [
    {
     "name": "stdout",
     "output_type": "stream",
     "text": [
      "ligand = dna\n",
      "fold = 1\n",
      "classifier_method = XGB\n"
     ]
    }
   ],
   "source": [
    "#Reading the ligand input\n",
    "try:\n",
    "    ligand = environ['ligand']\n",
    "except:\n",
    "    ligand = \"dna\"\n",
    "print \"ligand = \"+ligand\n",
    "\n",
    "#Reading the downsampler input\n",
    "try: \n",
    "    fold = environ['fold']\n",
    "except:\n",
    "    fold = \"1\"\n",
    "print \"fold = \"+fold\n",
    "\n",
    "#Reading the classifier input\n",
    "try: \n",
    "    classifier_method = environ['classifier']\n",
    "except:\n",
    "    classifier_method = \"XGB\"\n",
    "print \"classifier_method = \"+classifier_method"
   ]
  },
  {
   "cell_type": "code",
   "execution_count": 10,
   "metadata": {},
   "outputs": [],
   "source": [
    "no_features = len(features_cols)\n",
    "models_dict = generate_models_dict(ligand, classifier_method, ligands, ligands_positives_df, ligands_negatives_df, folds_num, no_features)"
   ]
  },
  {
   "cell_type": "markdown",
   "metadata": {},
   "source": [
    "### Predicting the missing positions, each time with a different folds training set"
   ]
  },
  {
   "cell_type": "code",
   "execution_count": 11,
   "metadata": {
    "scrolled": true
   },
   "outputs": [
    {
     "name": "stdout",
     "output_type": "stream",
     "text": [
      "fold #: 1\n",
      "Finished dna XGB fold: 1\n",
      "Finished ligand dna\n"
     ]
    }
   ],
   "source": [
    "#%%time\n",
    "\n",
    "pred_dict = defaultdict(list)\n",
    "model = models_dict[classifier_method][ligand][int(fold)]\n",
    "\n",
    "ordered_features = test_model_no_performance(pred_dict, ligands_positives_df[ligand], ligands_negatives_df[ligand], ligands_missing_df[ligand], ligand, model, classifier_method, fold)\n",
    "\n",
    "pred_df = pd.DataFrame.from_dict(pred_dict)\n",
    "\n",
    "#Save to file\n",
    "pred_df.to_csv(curr_dir+\"/missing_predictions/\"+datafile_date+\"_\"+out_dirname+\"/\"+tuning_type+\"/per_fold/\"+ligand+\"_\"+classifier_method+\"_fold\"+fold+\"_\"+str(folds_num)+\"w.csv\", sep='\\t')\n",
    "\n",
    "print \"Finished ligand \"+ligand"
   ]
  }
 ],
 "metadata": {
  "kernelspec": {
   "display_name": "Python 2",
   "language": "python",
   "name": "python2"
  },
  "language_info": {
   "codemirror_mode": {
    "name": "ipython",
    "version": 2
   },
   "file_extension": ".py",
   "mimetype": "text/x-python",
   "name": "python",
   "nbconvert_exporter": "python",
   "pygments_lexer": "ipython2",
   "version": "2.7.12"
  }
 },
 "nbformat": 4,
 "nbformat_minor": 1
}
