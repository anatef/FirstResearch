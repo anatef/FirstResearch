{
 "cells": [
  {
   "cell_type": "code",
   "execution_count": 2,
   "metadata": {},
   "outputs": [],
   "source": [
    "import pandas as pd\n",
    "import numpy as np\n",
    "import pickle\n",
    "from collections import defaultdict"
   ]
  },
  {
   "cell_type": "code",
   "execution_count": 20,
   "metadata": {},
   "outputs": [],
   "source": [
    "curr_dir = !pwd\n",
    "no_stacking_path = curr_dir[0]+\"/../../pred_AUC_AUPRC/mediode_NegLigand_NoFilter/NoDown/01.25.2018/\"\n",
    "stacking_one_ligand_path = curr_dir[0]+\"/../2nd_level_pred/just_probs_one_ligand/\"\n",
    "stacking_all_ligand_path = curr_dir[0]+\"/../2nd_level_pred/just_probs_all_ligands/\"\n",
    "\n",
    "out_path = curr_dir[0]+\"/\"\n",
    "\n",
    "ligands = [\"dna\", \"dnabase\", \"dnabackbone\", \"rna\", \"rnabase\", \"rnabackbone\", \"peptide\", \"ion\", \"metabolite\"]\n",
    "classifiers = [\"RF\", \"SVM\", \"KNN\", \"ADA\", \"XGB\"]\n"
   ]
  },
  {
   "cell_type": "code",
   "execution_count": 26,
   "metadata": {},
   "outputs": [
    {
     "name": "stdout",
     "output_type": "stream",
     "text": [
      "Finished ligand dna\n",
      "Finished ligand dnabase\n",
      "Finished ligand dnabackbone\n",
      "Finished ligand rna\n",
      "Finished ligand rnabase\n",
      "Finished ligand rnabackbone\n",
      "Finished ligand peptide\n",
      "Finished ligand ion\n",
      "Finished ligand metabolite\n"
     ]
    }
   ],
   "source": [
    "for ligand in ligands:\n",
    "    \n",
    "    #Combining AUC files\n",
    "    auc_df = pd.DataFrame()\n",
    "    for classifier in classifiers:\n",
    "        auc_filename = no_stacking_path+ligand+\"_\"+classifier+\"_0.1_auc.csv\"\n",
    "        curr_auc_df = pd.read_csv(auc_filename, sep='\\t', index_col=0)\n",
    "        auc_df[classifier] = curr_auc_df\n",
    "    \n",
    "    auc_one_ligand_filename = stacking_one_ligand_path+ligand+\"_XGB_0.1_auc.csv\"\n",
    "    curr_auc_df = pd.read_csv(auc_one_ligand_filename, sep='\\t', index_col=0)\n",
    "    auc_df[\"REG_STACK\"] = curr_auc_df\n",
    "    \n",
    "    auc_all_ligands_filename = stacking_all_ligand_path+ligand+\"_XGB_0.1_auc.csv\"\n",
    "    curr_auc_df = pd.read_csv(auc_all_ligands_filename, sep='\\t', index_col=0)\n",
    "    auc_df[\"ALL_STACK\"] = curr_auc_df\n",
    "    \n",
    "    auc_df.to_csv(out_path+ligand+\"_0.1_auc.csv\", sep='\\t')\n",
    "    \n",
    "    #Combining AUPRC files\n",
    "    auprc_df = pd.DataFrame()\n",
    "    for classifier in classifiers:\n",
    "        auprc_filename = no_stacking_path+ligand+\"_\"+classifier+\"_0.1_auprc.csv\"\n",
    "        curr_auprc_df = pd.read_csv(auprc_filename, sep='\\t', index_col=0)\n",
    "        auprc_df[classifier] = curr_auprc_df\n",
    "    \n",
    "    auprc_one_ligand_filename = stacking_one_ligand_path+ligand+\"_XGB_0.1_auprc.csv\"\n",
    "    curr_auc_df = pd.read_csv(auprc_one_ligand_filename, sep='\\t', index_col=0)\n",
    "    auprc_df[\"REG_STACK\"] = curr_auc_df\n",
    "    \n",
    "    auprc_all_ligands_filename = stacking_all_ligand_path+ligand+\"_XGB_0.1_auprc.csv\"\n",
    "    curr_auc_df = pd.read_csv(auprc_all_ligands_filename, sep='\\t', index_col=0)\n",
    "    auprc_df[\"ALL_STACK\"] = curr_auc_df\n",
    "    \n",
    "    auprc_df.to_csv(out_path+ligand+\"_0.1_auprc.csv\", sep='\\t')\n",
    "    \n",
    "    #Combining probs results files\n",
    "    probs_df = pd.DataFrame()\n",
    "    for classifier in classifiers:\n",
    "        probs_filename = no_stacking_path+ligand+\"_\"+classifier+\"_0.1.csv\"\n",
    "        curr_probs_df = pd.read_csv(probs_filename, sep='\\t', index_col=0)\n",
    "        if (len(probs_df.columns) == 0):\n",
    "            probs_df = curr_probs_df\n",
    "        else:\n",
    "            probs_df = probs_df.append(curr_probs_df, ignore_index=True)\n",
    "    \n",
    "    probs_one_ligand_filename = stacking_one_ligand_path+ligand+\"_XGB_0.1.csv\"\n",
    "    curr_probs_df = pd.read_csv(probs_one_ligand_filename, sep='\\t', index_col=0)\n",
    "    curr_probs_df[\"model\"] = \"REG_STACK\"\n",
    "    probs_df = probs_df.append(curr_probs_df, ignore_index=True)\n",
    "    \n",
    "    probs_all_ligands_filename = stacking_all_ligand_path+ligand+\"_XGB_0.1.csv\"\n",
    "    curr_probs_df = pd.read_csv(probs_all_ligands_filename, sep='\\t', index_col=0)\n",
    "    curr_probs_df[\"model\"] = \"ALL_STACK\"\n",
    "    probs_df = probs_df.append(curr_probs_df, ignore_index=True)\n",
    "    \n",
    "    probs_df.to_csv(out_path+ligand+\"_0.1.csv\", sep='\\t')\n",
    "    \n",
    "    print \"Finished ligand \"+str(ligand)"
   ]
  },
  {
   "cell_type": "code",
   "execution_count": null,
   "metadata": {},
   "outputs": [],
   "source": []
  }
 ],
 "metadata": {
  "kernelspec": {
   "display_name": "Python 2",
   "language": "python",
   "name": "python2"
  },
  "language_info": {
   "codemirror_mode": {
    "name": "ipython",
    "version": 2
   },
   "file_extension": ".py",
   "mimetype": "text/x-python",
   "name": "python",
   "nbconvert_exporter": "python",
   "pygments_lexer": "ipython2",
   "version": "2.7.12"
  }
 },
 "nbformat": 4,
 "nbformat_minor": 2
}
