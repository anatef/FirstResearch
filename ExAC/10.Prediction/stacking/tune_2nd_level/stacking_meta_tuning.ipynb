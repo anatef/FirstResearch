{
 "cells": [
  {
   "cell_type": "code",
   "execution_count": 1,
   "metadata": {},
   "outputs": [
    {
     "data": {
      "text/html": [
       "<style>.container { width:100% !important; }</style>"
      ],
      "text/plain": [
       "<IPython.core.display.HTML object>"
      ]
     },
     "execution_count": 1,
     "metadata": {},
     "output_type": "execute_result"
    }
   ],
   "source": [
    "#Basic imports\n",
    "import pandas as pd\n",
    "import numpy as np\n",
    "import random\n",
    "import pickle\n",
    "from collections import defaultdict\n",
    "from os import environ, getcwd\n",
    "import sys\n",
    "\n",
    "#Import utils functions\n",
    "curr_dir = getcwd()\n",
    "\n",
    "sys.path.append(curr_dir+\"/../../utils\")\n",
    "from prop_threshold_funcs import create_negatives_datasets_combined, create_positives_datasets_combined\n",
    "from prediction_general_funcs import ligands, score_cols_suffix, get_features_cols, remove_unimportant_features\n",
    "from CV_funcs import add_domain_name_from_table_idx, calc_CV_idx_iterative\n",
    "from tuning_helper_functions import test_model_on_validation, test_model_on_heldout\n",
    "sys.path.append(curr_dir+\"/../utils\")\n",
    "from stacking_hyperparameter_trials import generate_trials_Log, generate_trials_XGB\n",
    "from stacking_funcs import create_stacked_dataset\n",
    "\n",
    "from IPython.core.display import HTML\n",
    "HTML(\"<style>.container { width:100% !important; }</style>\")"
   ]
  },
  {
   "cell_type": "markdown",
   "metadata": {},
   "source": [
    "### Reading the input dataset"
   ]
  },
  {
   "cell_type": "code",
   "execution_count": 2,
   "metadata": {},
   "outputs": [
    {
     "name": "stdout",
     "output_type": "stream",
     "text": [
      "all samples positions #: 44872\n"
     ]
    }
   ],
   "source": [
    "#tuning_type = \"domain_auc\"\n",
    "tuning_type = \"global_auprc\"\n",
    "datafile_date = \"08.06.18\"\n",
    "input_path = curr_dir+\"/../../domains_similarity/filtered_features_table/\"\n",
    "filename = \"windowed_positions_features_mediode_filter_\"+datafile_date+\".csv\"\n",
    "out_dir = \"mediode_NegLigand_NoFilter\"\n",
    "all_models_list = [\"XGB\", \"RF\", \"SVM\", \"Logistic\", \"NN\"]\n",
    "\n",
    "#flags for creating negatives\n",
    "zero_prop = True\n",
    "no_prop = True\n",
    "all_ligands = False\n",
    "prec_th_str = \"dna0.5_rna0.5_ion0.75\"\n",
    "folds_num = 5\n",
    "\n",
    "#Features table\n",
    "features_all = pd.read_csv(input_path+filename, sep='\\t', index_col=0)\n",
    "#Features columns names, without the labels (the binding scores)\n",
    "features_cols = get_features_cols(features_all)\n",
    "remove_unimportant_features(features_all, features_cols, update_features_cols=True)\n",
    "\n",
    "print \"all samples positions #: \"+str(features_all.shape[0])"
   ]
  },
  {
   "cell_type": "markdown",
   "metadata": {},
   "source": [
    "#### Dataset of negative examples"
   ]
  },
  {
   "cell_type": "code",
   "execution_count": 3,
   "metadata": {},
   "outputs": [
    {
     "name": "stdout",
     "output_type": "stream",
     "text": [
      "dna non-binding #:43886\n",
      "dnabase non-binding #:44418\n",
      "dnabackbone non-binding #:44021\n",
      "dna combined non binding #: 43884\n",
      "rna non-binding #:43727\n",
      "rnabase non-binding #:44154\n",
      "rnabackbone non-binding #:43944\n",
      "rna combined non binding #: 43720\n",
      "peptide non-binding #:41105\n",
      "ion non-binding #:39630\n",
      "metabolite non-binding #:39638\n",
      "druglike non-binding #:35018\n",
      "sm non-binding #:32697\n"
     ]
    }
   ],
   "source": [
    "ligands_negatives_df = create_negatives_datasets_combined(zero_prop, no_prop, features_all, features_cols, all_ligands)"
   ]
  },
  {
   "cell_type": "markdown",
   "metadata": {},
   "source": [
    "#### Datasets of positive examples by ligand"
   ]
  },
  {
   "cell_type": "code",
   "execution_count": 4,
   "metadata": {},
   "outputs": [
    {
     "name": "stdout",
     "output_type": "stream",
     "text": [
      "dna #: 369\n",
      "dnabase #: 161\n",
      "dnabackbone #: 245\n",
      "dna combined #: 397\n",
      "rna #: 206\n",
      "rnabase #: 118\n",
      "rnabackbone #: 136\n",
      "rna combined #: 247\n",
      "peptide #: 436\n",
      "ion #: 351\n",
      "metabolite #: 522\n",
      "druglike #: 763\n",
      "sm #: 825\n"
     ]
    },
    {
     "name": "stderr",
     "output_type": "stream",
     "text": [
      "/home/anat/anaconda2/lib/python2.7/site-packages/pandas/core/frame.py:1997: UserWarning: Boolean Series key will be reindexed to match DataFrame index.\n",
      "  \"DataFrame index.\", UserWarning)\n"
     ]
    }
   ],
   "source": [
    "ligands_positives_df = create_positives_datasets_combined(features_all, features_cols, all_ligands)"
   ]
  },
  {
   "cell_type": "markdown",
   "metadata": {},
   "source": [
    "### Reading env input for downsampler technique, ligand and classifier"
   ]
  },
  {
   "cell_type": "code",
   "execution_count": 5,
   "metadata": {
    "scrolled": true
   },
   "outputs": [
    {
     "name": "stdout",
     "output_type": "stream",
     "text": [
      "ligand = rna\n",
      "fold = 1\n",
      "classifier_method = XGB\n",
      "trial idx = 44\n",
      "Error: goto XGB exception\n"
     ]
    }
   ],
   "source": [
    "#Reading the ligand input\n",
    "try:\n",
    "    ligand = environ['ligand']\n",
    "except:\n",
    "    ligand = \"rna\"\n",
    "print \"ligand = \"+ligand\n",
    "    \n",
    "#Reading the downsampler input\n",
    "try: \n",
    "    fold = environ['fold']\n",
    "except:\n",
    "    fold = \"1\"\n",
    "print \"fold = \"+fold\n",
    "\n",
    "#Reading the classifier input\n",
    "try: \n",
    "    classifier_method = environ['classifier']\n",
    "except:\n",
    "    classifier_method = \"XGB\"\n",
    "print \"classifier_method = \"+classifier_method\n",
    "\n",
    "# Reading the index to generate model\n",
    "try:\n",
    "    trial_idx = int(environ[\"trial\"])\n",
    "except:\n",
    "    trial_idx = 44\n",
    "print \"trial idx = \"+ str(trial_idx)\n",
    "   \n",
    "\n",
    "\n",
    "if classifier_method == \"XGB\":    \n",
    "    try:\n",
    "        max_depth_ub = int(environ[\"max_depth_ub\"])\n",
    "        max_depth_lb = int(environ[\"max_depth_lb\"])\n",
    "        min_child_weight_ub = float(environ[\"min_child_weight_ub\"])\n",
    "        min_child_weight_lb = float(environ[\"min_child_weight_lb\"])\n",
    "        colsample_bytree_ub = float(environ[\"colsample_bytree_ub\"])\n",
    "        colsample_bytree_lb = float(environ[\"colsample_bytree_lb\"])\n",
    "        gamma_ub = float(environ[\"gamma_ub\"])\n",
    "        gamma_lb = float(environ[\"gamma_lb\"])\n",
    "        learning_rate_ub = float(environ[\"learning_rate_ub\"])\n",
    "        learning_rate_lb = float(environ[\"learning_rate_lb\"])\n",
    "\n",
    "        try:\n",
    "            sec_max_depth_ub = int(environ[\"sec_max_depth_ub\"])\n",
    "            sec_max_depth_lb = int(environ[\"sec_max_depth_lb\"])\n",
    "            max_depth_weight_1 = float(environ[\"max_depth_weight_1\"])\n",
    "            max_depth_weight_2 = float(environ[\"max_depth_weight_2\"])\n",
    "        except:\n",
    "            sec_max_depth_ub = max_depth_ub\n",
    "            sec_max_depth_lb = max_depth_lb\n",
    "            max_depth_weight_1 = 1\n",
    "            max_depth_weight_2 = 1\n",
    "        try:\n",
    "            sec_min_child_weight_ub = float(environ['sec_min_child_weight_ub'])\n",
    "            sec_min_child_weight_lb = float(environ['sec_min_child_weight_lb'])\n",
    "            min_child_weight_weight_1 = float(environ[\"min_child_weight_weight_1\"])\n",
    "            min_child_weight_weight_2 = float(environ[\"min_child_weight_weight_2\"])\n",
    "\n",
    "        except:\n",
    "            sec_min_child_weight_ub = min_child_weight_ub\n",
    "            sec_min_child_weight_lb = min_child_weight_lb\n",
    "            min_child_weight_weight_1 = 1\n",
    "            min_child_weight_weight_2 = 1\n",
    "        try:\n",
    "            sec_colsample_bytree_ub = float(environ['sec_colsample_bytree_ub'])\n",
    "            sec_colsample_bytree_lb = float(environ['sec_colsample_bytree_lb'])\n",
    "            colsample_bytree_weight_1 = float(environ['colsample_bytree_weight_1'])\n",
    "            colsample_bytree_weight_2 = float(environ['colsample_bytree_weight_2'])\n",
    "        except:\n",
    "            sec_colsample_bytree_ub = colsample_bytree_ub\n",
    "            sec_colsample_bytree_lb = colsample_bytree_lb\n",
    "            colsample_bytree_weight_1 = 1\n",
    "            colsample_bytree_weight_2 = 1\n",
    "\n",
    "        try:\n",
    "            sec_gamma_ub = float(environ['sec_gamma_ub'])\n",
    "            sec_gamma_lb = float(environ['sec_gamma_lb'])\n",
    "            gamma_weight_1 = float(environ['gamma_weight_1'])\n",
    "            gamma_weight_2 = float(environ['gamma_weight_2'])\n",
    "        except:\n",
    "            sec_gamma_ub = gamma_ub\n",
    "            sec_gamma_lb = gamma_lb\n",
    "            gamma_weight_1 = 1\n",
    "            gamma_weight_2 = 1\n",
    "        try:\n",
    "            sec_learning_rate_ub = float(environ['sec_learning_rate_ub'])\n",
    "            sec_learning_rate_lb = float(environ['sec_learning_rate_lb'])\n",
    "            lr_weight_1 = float(environ['lr_weight_1'])\n",
    "            lr_weight_2 = float(environ['lr_weight_2'])\n",
    "        except:\n",
    "            sec_learning_rate_ub = learning_rate_ub\n",
    "            sec_learning_rate_lb = learning_rate_lb\n",
    "            lr_weight_1 = 1\n",
    "            lr_weight_2 = 1\n",
    "\n",
    "    except:    \n",
    "        print \"Error: goto XGB exception\"\n",
    "        max_depth_ub = 100\n",
    "        max_depth_lb = 1\n",
    "        min_child_weight_ub = 20\n",
    "        min_child_weight_lb = 0\n",
    "        colsample_bytree_ub = 1\n",
    "        colsample_bytree_lb = 0.1\n",
    "        gamma_ub = 1\n",
    "        gamma_lb = -3\n",
    "        learning_rate_ub = -0.5\n",
    "        learning_rate_lb = -4\n",
    "\n",
    "        sec_max_depth_ub = 100\n",
    "        sec_max_depth_lb = 1\n",
    "        sec_min_child_weight_ub = 20\n",
    "        sec_min_child_weight_lb = 0\n",
    "        sec_colsample_bytree_ub = 1\n",
    "        sec_colsample_bytree_lb = 0.1\n",
    "        sec_gamma_ub = 1\n",
    "        sec_gamma_lb = -3\n",
    "        sec_learning_rate_ub = -0.5\n",
    "        sec_learning_rate_lb = -4\n",
    "\n",
    "        max_depth_weight_1 = 0.5\n",
    "        max_depth_weight_2 = 0.5\n",
    "        min_child_weight_weight_1 = 0.5\n",
    "        min_child_weight_weight_2 = 0.5\n",
    "        colsample_bytree_weight_1 = 0.5\n",
    "        colsample_bytree_weight_2 = 0.5\n",
    "        gamma_weight_1 = 0.5\n",
    "        gamma_weight_2 = 0.5\n",
    "        lr_weight_1 = 0.5\n",
    "        lr_weight_2 = 0.5\n",
    "\n",
    "elif classifier_method == \"Logistic\":\n",
    "    try:        \n",
    "        C_ub = int(environ[\"C_ub\"])\n",
    "        C_lb = int(environ[\"C_lb\"])\n",
    "\n",
    "        try:\n",
    "            sec_C_ub = int(environ[\"sec_C_ub\"])\n",
    "            sec_C_lb = int(environ[\"sec_C_lb\"])\n",
    "            C_weight_1 = float(environ[\"C_weight_1\"])\n",
    "            C_weight_2 = float(environ[\"C_weight_2\"])\n",
    "            \n",
    "        except:\n",
    "            sec_C_ub = C_ub\n",
    "            sec_C_lb = C_lb\n",
    "            C_weight_1 = 1\n",
    "            C_weight_2 = 1\n",
    "\n",
    "    except: \n",
    "        print \"Error: goto Logistic exception\"\n",
    "        C_ub = 0\n",
    "        C_lb = -3\n",
    "        \n",
    "        sec_C_ub = 0\n",
    "        sec_C_lb = -3\n",
    "        \n",
    "        C_weight_1 = 1\n",
    "        C_weight_2 = 1"
   ]
  },
  {
   "cell_type": "markdown",
   "metadata": {},
   "source": [
    "### Generate hyperparameter trials\n",
    "\n",
    "Choose hyperparameters and generate hyperparameters through random search in a grid, as explained by this video: https://www.youtube.com/watch?v=WrICwRrvuIc&index=66&list=PLBAGcD3siRDguyYYzhVwZ3tLvOyyG5k6K\n",
    "\n",
    "Use logarithmic scale for search for learnining rate and weight decay for NN, as explained by this video: https://www.youtube.com/watch?v=VUbrW8OK3uo&index=67&list=PLBAGcD3siRDguyYYzhVwZ3tLvOyyG5k6K\n",
    "\n",
    "Utilize nested cross validation to choose between models, as described here: https://stats.stackexchange.com/questions/266225/step-by-step-explanation-of-k-fold-cross-validation-with-grid-search-to-optimise/266229"
   ]
  },
  {
   "cell_type": "code",
   "execution_count": 6,
   "metadata": {},
   "outputs": [],
   "source": [
    "no_trials = 100\n",
    "\n",
    "if classifier_method == \"XGB\":\n",
    "    max_depth_list = [[max_depth_lb, max_depth_ub], [sec_max_depth_lb, sec_max_depth_ub]]\n",
    "\n",
    "    max_depth_list_weights = [max_depth_weight_1, max_depth_weight_2]\n",
    "\n",
    "    min_child_weight_list = [[min_child_weight_lb, min_child_weight_ub],[sec_min_child_weight_lb, sec_min_child_weight_ub]]\n",
    "\n",
    "    min_child_weight_list_weights = [min_child_weight_weight_1, min_child_weight_weight_2]\n",
    "\n",
    "    colsample_bytree_list = [[colsample_bytree_lb, colsample_bytree_ub], [sec_colsample_bytree_lb, sec_colsample_bytree_ub]]\n",
    "\n",
    "    colsample_bytree_list_weights = [colsample_bytree_weight_1, colsample_bytree_weight_2]\n",
    "\n",
    "    gamma_list = [[gamma_lb, gamma_ub],[sec_gamma_lb, sec_gamma_ub]] \n",
    "\n",
    "    gamma_list_weights = [gamma_weight_1, gamma_weight_2]\n",
    "\n",
    "    lr_list = [[learning_rate_lb, learning_rate_ub],[sec_learning_rate_lb, sec_learning_rate_ub]]\n",
    "\n",
    "    lr_list_weights = [lr_weight_1, lr_weight_2]\n",
    "\n",
    "    hyperparameter_trials = generate_trials_XGB(no_trials, max_depth_list, max_depth_list_weights, min_child_weight_list, \n",
    "                                                min_child_weight_list_weights, colsample_bytree_list, colsample_bytree_list_weights, \n",
    "                                                gamma_list, gamma_list_weights, lr_list, lr_list_weights)\n",
    "elif classifier_method == \"Logistic\":\n",
    "    C_list = [[C_lb, C_ub], [sec_C_lb, sec_C_ub]]\n",
    "    \n",
    "    C_list_weights = [C_weight_1, C_weight_2]\n",
    "    \n",
    "    hyperparameter_trials = generate_trials_Log(no_trials, C_list, C_list_weights)"
   ]
  },
  {
   "cell_type": "code",
   "execution_count": 7,
   "metadata": {},
   "outputs": [
    {
     "name": "stdout",
     "output_type": "stream",
     "text": [
      "{'models': ['XGB', 'RF', 'SVM', 'Logistic', 'NN'], 'colsample_bytree': 0.5392506525840591, 'gamma': 0.02645153937935788, 'scale_pos_weight': 0.1, 'learning_rate': 0.1956643967991207, 'max_depth': 35, 'min_child_weight': 2.8969551868675447, 'ligands': ['rna']}\n"
     ]
    }
   ],
   "source": [
    "hyperparameters = hyperparameter_trials[trial_idx]\n",
    "\n",
    "#Use all models and all ligands to get weights for all\n",
    "hyperparameters[\"models\"] = all_models_list\n",
    "hyperparameters[\"ligands\"] = [ligand]\n",
    "print hyperparameters"
   ]
  },
  {
   "cell_type": "markdown",
   "metadata": {},
   "source": [
    "### Create ligand positive and negative tables with stacking1 probs"
   ]
  },
  {
   "cell_type": "code",
   "execution_count": 9,
   "metadata": {},
   "outputs": [
    {
     "name": "stdout",
     "output_type": "stream",
     "text": [
      "#(features) = 766\n"
     ]
    }
   ],
   "source": [
    "stacking1_probs_path = curr_dir+\"/../1st_level_pred/\"+datafile_date+\"_comb_dna0.5_rna0.5_ion0.75/\"+tuning_type+\"/all_combined/\"+fold+\"/\"\n",
    "(positives_df_stacking_ligands, negatives_df_stacking_ligands) = create_stacked_dataset(stacking1_probs_path, hyperparameters[\"ligands\"], hyperparameters[\"models\"], \n",
    "                                                                   ligands_positives_df[ligand], ligands_negatives_df[ligand], all_models_list)"
   ]
  },
  {
   "cell_type": "markdown",
   "metadata": {},
   "source": [
    "### Models tested (and their hyper-parameters)"
   ]
  },
  {
   "cell_type": "markdown",
   "metadata": {},
   "source": [
    "#### Predict for each ligand seperatelly"
   ]
  },
  {
   "cell_type": "code",
   "execution_count": 10,
   "metadata": {},
   "outputs": [
    {
     "name": "stdout",
     "output_type": "stream",
     "text": [
      "fold #: 1\n",
      "model.best_iteration = 39\n",
      "AUPRC = 0.13666095714420293\n",
      "AUC = 0.9726365488259172\n",
      "domain AUC mean = 0.7523409290402377\n",
      "domain AUPRC mean = 0.642271290638133\n",
      "domain AUPRC ratio mean = 2.318048550582659\n",
      "model.best_iteration = 15\n",
      "AUPRC = 0.360051227191605\n",
      "AUC = 0.9385990719568602\n",
      "domain AUC mean = 0.5602406150128493\n",
      "domain AUPRC mean = 0.47771436760407343\n",
      "domain AUPRC ratio mean = 1.1939902269447724\n",
      "model.best_iteration = 37\n",
      "AUPRC = 0.06229091523538079\n",
      "AUC = 0.8825666749832574\n",
      "domain AUC mean = 0.8354495124530075\n",
      "domain AUPRC mean = 0.6916961811188428\n",
      "domain AUPRC ratio mean = 2.8344118866336685\n",
      "model.best_iteration = 187\n",
      "AUPRC = 0.028994163483018608\n",
      "AUC = 0.7783815283122595\n",
      "domain AUC mean = 0.7639145141539778\n",
      "domain AUPRC mean = 0.5048260616543885\n",
      "domain AUPRC ratio mean = 5.939933119290614\n",
      "Finished rna XGB fold: 1 trial: 44\n",
      "fold #: 1\n",
      "test AUC = 0.9051327582728677\n",
      "test AUPRC = 0.4994124084421825\n",
      "test domain AUC mean = 0.6411999458874459\n",
      "test domain AUPRC mean = 0.53058341444902\n",
      "test domain AUPRC ratio mean = 1.3395019810218893\n",
      "Finished rna XGB fold: 1\n",
      "Finished ligand rna\n",
      "time elapsed = 287.201306105\n"
     ]
    }
   ],
   "source": [
    "import time\n",
    "start_time = time.time()\n",
    "\n",
    "hyperparameters = hyperparameter_trials[trial_idx]\n",
    "hyperparameters_output_dict = defaultdict(list)\n",
    "\n",
    "#Get validation params\n",
    "test_model_on_validation(hyperparameters, hyperparameters_output_dict,positives_df_stacking_ligands, negatives_df_stacking_ligands, ligand, classifier_method, fold, trial_idx)\n",
    "\n",
    "#Get test fold performance\n",
    "if (classifier_method == \"NN\" or classifier_method == \"XGB\"):\n",
    "    hyperparameters[\"mean_epoch_count\"] = hyperparameters_output_dict[\"mean_epoch_count\"]\n",
    "test_model_on_heldout(hyperparameters, hyperparameters_output_dict, hyperparameters, ligands_positives_df[ligand], ligands_negatives_df[ligand], ligand, classifier_method, fold)\n",
    "\n",
    "hyperparameters_df = pd.DataFrame.from_dict(hyperparameters_output_dict)\n",
    "\n",
    "#Save to file\n",
    "hyperparameters_df.to_csv(curr_dir+\"/\"+datafile_date+\"_\"+prec_th_str+\"/\"+tuning_type+\"/ligand_features_probs/per_trial/\"+ligand+\"_\"+classifier_method+\"_fold\"+fold+\"_trial\"+str(trial_idx)+\"_\"+str(folds_num)+\"w_hyperparameters.csv\", sep='\\t')\n",
    "\n",
    "print \"Finished ligand \"+ligand\n",
    "print \"time elapsed = \"+str(time.time()-start_time)"
   ]
  },
  {
   "cell_type": "code",
   "execution_count": null,
   "metadata": {},
   "outputs": [],
   "source": []
  }
 ],
 "metadata": {
  "kernelspec": {
   "display_name": "Python 2",
   "language": "python",
   "name": "python2"
  },
  "language_info": {
   "codemirror_mode": {
    "name": "ipython",
    "version": 2
   },
   "file_extension": ".py",
   "mimetype": "text/x-python",
   "name": "python",
   "nbconvert_exporter": "python",
   "pygments_lexer": "ipython2",
   "version": "2.7.12"
  }
 },
 "nbformat": 4,
 "nbformat_minor": 1
}
