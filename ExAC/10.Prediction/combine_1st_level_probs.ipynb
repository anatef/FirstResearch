{
 "cells": [
  {
   "cell_type": "markdown",
   "metadata": {},
   "source": [
    "## Combining predicted probabilities from several classifiers, for each ligand\n",
    "The combined tables are saved in: \"pred_AUC_AUPRC/negatives_filtering/downsampling/date/probes_tables/\""
   ]
  },
  {
   "cell_type": "code",
   "execution_count": 1,
   "metadata": {},
   "outputs": [],
   "source": [
    "import pandas as pd\n",
    "import numpy as np\n",
    "import pickle\n",
    "from collections import defaultdict\n",
    "from os import environ"
   ]
  },
  {
   "cell_type": "code",
   "execution_count": 4,
   "metadata": {},
   "outputs": [],
   "source": [
    "curr_dir = !pwd\n",
    "models = [\"XGB\", \"RF\", \"ADA\", \"KNN\", \"SVM\", \"Logistic\"]\n",
    "ligands = [\"dna\", \"dnabase\", \"dnabackbone\", \"rna\", \"rnabase\", \"rnabackbone\", \"peptide\", \"ion\", \"metabolite\"]"
   ]
  },
  {
   "cell_type": "code",
   "execution_count": 62,
   "metadata": {},
   "outputs": [
    {
     "name": "stdout",
     "output_type": "stream",
     "text": [
      "Finished dna\n",
      "Finished dnabase\n",
      "Finished dnabackbone\n",
      "Finished rna\n",
      "Finished rnabase\n",
      "Finished rnabackbone\n",
      "Finished peptide\n",
      "Finished ion\n",
      "Finished metabolite\n"
     ]
    }
   ],
   "source": [
    "pred_prob_dict = defaultdict(dict)\n",
    "\n",
    "for ligand in ligands:\n",
    "    #Read the data tables\n",
    "    for model in models:\n",
    "        pred_prob_dict[ligand][model] = dict()\n",
    "        pred_prob_dict[ligand][model][\"dataset\"] = pd.read_csv(curr_dir[0]+\"/../10.Prediction/pred_AUC_AUPRC/mediode_NegLigand_NoFilter/NoDown/01.25.2018/features_pred_tables/\"+ligand+\"_\"+model+\"_features_pred.csv\", sep='\\t', index_col=0)[[\"fold\", \"prob\"]]\n",
    "        pred_prob_dict[ligand][model][\"dataset\"].columns = [\"fold\", model+\"_prob\"]\n",
    "        pred_prob_dict[ligand][model][\"between\"] = pd.read_csv(curr_dir[0]+\"/../10.Prediction/pred_AUC_AUPRC/mediode_NegLigand_NoFilter/NoDown/01.25.2018/between_pred_tables/\"+ligand+\"_\"+model+\"_features_pred.csv\", sep='\\t', index_col=0)[[\"fold\", \"prob\"]]\n",
    "        pred_prob_dict[ligand][model][\"between\"].columns = [\"fold\", model+\"_prob\"]\n",
    "    \n",
    "    #Combine them into ligand probs table\n",
    "    probs_merged_df = pd.DataFrame()\n",
    "    between_merged_df = pd.DataFrame()\n",
    "    \n",
    "    for model in models:\n",
    "        #The regular dataset\n",
    "        if (probs_merged_df.shape[0] == 0):\n",
    "            probs_merged_df = pred_prob_dict[ligand][model][\"dataset\"]\n",
    "        else:\n",
    "            probs_merged_df = probs_merged_df.merge(pred_prob_dict[ligand][model][\"dataset\"], on=\"fold\", left_index=True, right_index=True)\n",
    "        #The positions between labels\n",
    "        if (between_merged_df.shape[0] == 0):\n",
    "            between_merged_df = pred_prob_dict[ligand][model][\"between\"]\n",
    "        else:\n",
    "            between_merged_df = pd.concat([between_merged_df, pred_prob_dict[ligand][model][\"between\"][[model+\"_prob\"]]], axis=1)\n",
    "    \n",
    "    #Saving to .csv\n",
    "    probs_merged_df.to_csv(curr_dir[0]+\"/pred_AUC_AUPRC/mediode_NegLigand_NoFilter/NoDown/01.25.2018/probs_tables/\"+ligand+\"_dataset_probs.csv\", sep='\\t')\n",
    "    between_merged_df.to_csv(curr_dir[0]+\"/pred_AUC_AUPRC/mediode_NegLigand_NoFilter/NoDown/01.25.2018/probs_tables/\"+ligand+\"_between_probs.csv\", sep='\\t')\n",
    "    print \"Finished \"+ligand"
   ]
  }
 ],
 "metadata": {
  "kernelspec": {
   "display_name": "Python 2",
   "language": "python",
   "name": "python2"
  },
  "language_info": {
   "codemirror_mode": {
    "name": "ipython",
    "version": 2
   },
   "file_extension": ".py",
   "mimetype": "text/x-python",
   "name": "python",
   "nbconvert_exporter": "python",
   "pygments_lexer": "ipython2",
   "version": "2.7.12"
  }
 },
 "nbformat": 4,
 "nbformat_minor": 2
}
