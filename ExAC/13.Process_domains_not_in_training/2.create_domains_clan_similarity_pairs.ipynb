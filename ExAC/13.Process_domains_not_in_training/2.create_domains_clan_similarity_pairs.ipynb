{
 "cells": [
  {
   "cell_type": "markdown",
   "metadata": {},
   "source": [
    "## Creating a list of domains pairs we need to compute similarity - only within clans"
   ]
  },
  {
   "cell_type": "code",
   "execution_count": 1,
   "metadata": {},
   "outputs": [],
   "source": [
    "import pandas as pd\n",
    "import numpy as np\n",
    "import os\n",
    "import subprocess\n",
    "import pickle"
   ]
  },
  {
   "cell_type": "code",
   "execution_count": 3,
   "metadata": {},
   "outputs": [],
   "source": [
    "#Reading clan similarity pairs\n",
    "curr_dir = !pwd\n",
    "pfam_version = \"31\"\n",
    "sim_pairs_df = pd.read_csv(curr_dir[0]+\"/../10.Prediction/domains_similarity/pfam-v\"+pfam_version+\"/domains_pairs_for_hhalign.csv\", sep=\",\", index_col=0)"
   ]
  },
  {
   "cell_type": "code",
   "execution_count": 6,
   "metadata": {},
   "outputs": [
    {
     "name": "stdout",
     "output_type": "stream",
     "text": [
      "number of domains = 443\n"
     ]
    }
   ],
   "source": [
    "### Get the domains used in pipeline\n",
    "domains_th = \"10\"\n",
    "with open(curr_dir[0]+\"/../5.domains_stats/pfam-v\"+pfam_version+\"/filtered\"+domains_th+\"_list.pik\", 'rb') as handle:\n",
    "    filtered_domains_list = pickle.load(handle)\n",
    "filtered_domains_list.sort()\n",
    "\n",
    "with open(curr_dir[0]+\"/../7.InteracDome_targetVariable/domains_ligands_propensity_dict.pik\", 'rb') as handle:\n",
    "    binding_props_dict = pickle.load(handle)\n",
    "    \n",
    "domains_prop_intersection = []\n",
    "for domain in filtered_domains_list:\n",
    "    if (domain in binding_props_dict.keys()):\n",
    "        domains_prop_intersection.append(domain)\n",
    "print \"number of domains = \"+str(len(domains_prop_intersection))"
   ]
  },
  {
   "cell_type": "markdown",
   "metadata": {},
   "source": [
    "### Finding similarity pairs between the processed domains and the pipeline domains and processed domains themselves"
   ]
  },
  {
   "cell_type": "code",
   "execution_count": 7,
   "metadata": {},
   "outputs": [],
   "source": [
    "#Reading the test domains that weren't used in the pipeline\n",
    "with open(curr_dir[0]+\"/processed_domains_with_labels_not_in_pipeline.pik\", 'rb') as handle:\n",
    "    test_domains_list = pickle.load(handle)\n",
    "test_domains_list.sort()  "
   ]
  },
  {
   "cell_type": "code",
   "execution_count": 9,
   "metadata": {},
   "outputs": [],
   "source": [
    "indices_for_remove = []\n",
    "for index, pair in sim_pairs_df.iterrows():\n",
    "    dom1 =  pair[\"sim_dom1\"]\n",
    "    dom2 =  pair[\"sim_dom2\"]\n",
    "    \n",
    "    #Remove pairs that don't have a member from the test domains\n",
    "    if (dom1 not in test_domains_list and dom2 not in test_domains_list):\n",
    "        indices_for_remove.append(index)\n",
    "    \n",
    "    #Remove pairs with a member from the test domains and 2nd member not in the pipeline or test \n",
    "    elif (dom1 in test_domains_list and dom2 not in domains_prop_intersection and dom2 not in test_domains_list):\n",
    "        indices_for_remove.append(index)\n",
    "    elif (dom2 in test_domains_list and dom1 not in domains_prop_intersection and dom1 not in test_domains_list):\n",
    "        indices_for_remove.append(index)"
   ]
  },
  {
   "cell_type": "code",
   "execution_count": 13,
   "metadata": {},
   "outputs": [
    {
     "data": {
      "text/plain": [
       "(6851346, 2)"
      ]
     },
     "execution_count": 13,
     "metadata": {},
     "output_type": "execute_result"
    }
   ],
   "source": [
    "sim_pairs_df.shape"
   ]
  },
  {
   "cell_type": "code",
   "execution_count": 10,
   "metadata": {},
   "outputs": [
    {
     "data": {
      "text/plain": [
       "(61618, 2)"
      ]
     },
     "execution_count": 10,
     "metadata": {},
     "output_type": "execute_result"
    }
   ],
   "source": [
    "sim_pairs_df_filtered = sim_pairs_df.drop(indices_for_remove)\n",
    "sim_pairs_df_filtered = sim_pairs_df_filtered.reset_index(drop=True)\n",
    "sim_pairs_df_filtered.shape"
   ]
  },
  {
   "cell_type": "code",
   "execution_count": 15,
   "metadata": {},
   "outputs": [],
   "source": [
    "sim_pairs_df_filtered.to_csv(curr_dir[0]+\"/processed_domains_pairs_for_hhalign.csv\")"
   ]
  }
 ],
 "metadata": {
  "kernelspec": {
   "display_name": "Python 2",
   "language": "python",
   "name": "python2"
  },
  "language_info": {
   "codemirror_mode": {
    "name": "ipython",
    "version": 2
   },
   "file_extension": ".py",
   "mimetype": "text/x-python",
   "name": "python",
   "nbconvert_exporter": "python",
   "pygments_lexer": "ipython2",
   "version": "2.7.12"
  }
 },
 "nbformat": 4,
 "nbformat_minor": 1
}
