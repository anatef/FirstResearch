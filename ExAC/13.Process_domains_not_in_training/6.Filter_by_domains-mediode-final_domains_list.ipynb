{
 "cells": [
  {
   "cell_type": "markdown",
   "metadata": {},
   "source": [
    "## Leaving only mediode of each similarity cluster"
   ]
  },
  {
   "cell_type": "code",
   "execution_count": 1,
   "metadata": {},
   "outputs": [
    {
     "data": {
      "text/html": [
       "<style>.container { width:100% !important; }</style>"
      ],
      "text/plain": [
       "<IPython.core.display.HTML object>"
      ]
     },
     "execution_count": 1,
     "metadata": {},
     "output_type": "execute_result"
    }
   ],
   "source": [
    "import pandas as pd\n",
    "import numpy as np\n",
    "import pickle\n",
    "from collections import defaultdict\n",
    "\n",
    "from IPython.core.display import HTML\n",
    "HTML(\"<style>.container { width:100% !important; }</style>\")"
   ]
  },
  {
   "cell_type": "markdown",
   "metadata": {},
   "source": [
    "### Reading the input dataset"
   ]
  },
  {
   "cell_type": "code",
   "execution_count": 2,
   "metadata": {},
   "outputs": [
    {
     "name": "stdout",
     "output_type": "stream",
     "text": [
      "clusters #: 50\n",
      "domains in clusters #: 125\n"
     ]
    }
   ],
   "source": [
    "curr_dir = !pwd\n",
    "pfam_version = \"31\"\n",
    "\n",
    "#similarity clusters\n",
    "with open(curr_dir[0]+\"/within_processed_sim_clusters/domain_to_cluster_dict.pik\", 'rb') as handle:\n",
    "    domain_to_cluster_dict = pickle.load(handle)\n",
    "with open(curr_dir[0]+\"/within_processed_sim_clusters/similarity_clusters_dict.pik\", 'rb') as handle:\n",
    "    similarity_clusters_dict = pickle.load(handle)\n",
    "print \"clusters #: \"+str(len(similarity_clusters_dict.keys()))\n",
    "print \"domains in clusters #: \"+str(len(domain_to_cluster_dict.keys()))"
   ]
  },
  {
   "cell_type": "markdown",
   "metadata": {},
   "source": [
    "### Creating the final processed domains list"
   ]
  },
  {
   "cell_type": "code",
   "execution_count": 10,
   "metadata": {},
   "outputs": [],
   "source": [
    "#Reading the non-similar domains list\n",
    "with open(curr_dir[0]+\"/processed_domains_non_similar_at_all.pik\", 'rb') as handle:\n",
    "    non_similar_domains_list = pickle.load(handle)"
   ]
  },
  {
   "cell_type": "markdown",
   "metadata": {},
   "source": [
    "### Adding the clusters mediodes to the list"
   ]
  },
  {
   "cell_type": "code",
   "execution_count": 5,
   "metadata": {},
   "outputs": [],
   "source": [
    "#Finding which domains we need to remove\n",
    "domains_mediodes = []\n",
    "for cluster_num in range(len(similarity_clusters_dict.keys())):\n",
    "    domains_mediodes.append(similarity_clusters_dict[cluster_num][\"mediode\"][0]) #If there's more than one mediode, choosing one randomly"
   ]
  },
  {
   "cell_type": "code",
   "execution_count": 6,
   "metadata": {},
   "outputs": [
    {
     "data": {
      "text/plain": [
       "50"
      ]
     },
     "execution_count": 6,
     "metadata": {},
     "output_type": "execute_result"
    }
   ],
   "source": [
    "len(domains_mediodes)"
   ]
  },
  {
   "cell_type": "code",
   "execution_count": 11,
   "metadata": {},
   "outputs": [
    {
     "data": {
      "text/plain": [
       "825"
      ]
     },
     "execution_count": 11,
     "metadata": {},
     "output_type": "execute_result"
    }
   ],
   "source": [
    "final_processed_domains_list = non_similar_domains_list + domains_mediodes\n",
    "len(final_processed_domains_list)"
   ]
  },
  {
   "cell_type": "code",
   "execution_count": 12,
   "metadata": {},
   "outputs": [
    {
     "data": {
      "text/plain": [
       "825"
      ]
     },
     "execution_count": 12,
     "metadata": {},
     "output_type": "execute_result"
    }
   ],
   "source": [
    "#Verifying no duplicates\n",
    "len(set(final_processed_domains_list))"
   ]
  },
  {
   "cell_type": "code",
   "execution_count": 13,
   "metadata": {},
   "outputs": [],
   "source": [
    "#Saving to file\n",
    "with open(curr_dir[0]+\"/processed_domains_not_in_pipeline_final_list.pik\", 'wb') as handle:\n",
    "    pickle.dump(final_processed_domains_list, handle, protocol=pickle.HIGHEST_PROTOCOL)"
   ]
  }
 ],
 "metadata": {
  "kernelspec": {
   "display_name": "Python 2",
   "language": "python",
   "name": "python2"
  },
  "language_info": {
   "codemirror_mode": {
    "name": "ipython",
    "version": 2
   },
   "file_extension": ".py",
   "mimetype": "text/x-python",
   "name": "python",
   "nbconvert_exporter": "python",
   "pygments_lexer": "ipython2",
   "version": "2.7.12"
  }
 },
 "nbformat": 4,
 "nbformat_minor": 1
}
