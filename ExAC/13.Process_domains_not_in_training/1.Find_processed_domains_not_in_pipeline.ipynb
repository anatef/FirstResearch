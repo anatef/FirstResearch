{
 "cells": [
  {
   "cell_type": "code",
   "execution_count": 1,
   "metadata": {},
   "outputs": [],
   "source": [
    "import pandas as pd\n",
    "import numpy as np\n",
    "import pickle\n",
    "from collections import defaultdict"
   ]
  },
  {
   "cell_type": "code",
   "execution_count": 8,
   "metadata": {},
   "outputs": [],
   "source": [
    "curr_dir = !pwd\n",
    "#Read the InteracDome propensity\n",
    "with open(curr_dir[0]+\"/../7.InteracDome_targetVariable/domains_ligands_propensity_dict.pik\", 'rb') as handle:\n",
    "        binding_props_dict = pickle.load(handle)\n",
    "#Read the list of processed domains not in pipeline (<10 instances)\n",
    "ls_domains_less_than_10 = pd.read_csv(\"../6.Ext_features_to_dicts/ext_features_dicts/less_than_10_domains.txt\", header=None)"
   ]
  },
  {
   "cell_type": "code",
   "execution_count": 14,
   "metadata": {},
   "outputs": [],
   "source": [
    "less_than_10_domains_list = []\n",
    "for index,row in ls_domains_less_than_10.iterrows():\n",
    "    less_than_10_domains_list.append(row[0][:-1])"
   ]
  },
  {
   "cell_type": "code",
   "execution_count": 17,
   "metadata": {},
   "outputs": [],
   "source": [
    "#Find which processed domains have InteracDome scores\n",
    "interacdome_domains_set = set(binding_props_dict.keys())\n",
    "processed_domains_set = set(less_than_10_domains_list)\n",
    "intersect_domains = list(processed_domains_set.intersection(interacdome_domains_set))"
   ]
  },
  {
   "cell_type": "code",
   "execution_count": 20,
   "metadata": {},
   "outputs": [
    {
     "data": {
      "text/plain": [
       "1061"
      ]
     },
     "execution_count": 20,
     "metadata": {},
     "output_type": "execute_result"
    }
   ],
   "source": [
    "len(intersect_domains)"
   ]
  },
  {
   "cell_type": "code",
   "execution_count": 21,
   "metadata": {},
   "outputs": [],
   "source": [
    "#Save to file\n",
    "with open(curr_dir[0]+\"/processed_domains_with_labels_not_in_pipeline.pik\", 'wb') as handle:\n",
    "    pickle.dump(intersect_domains, handle, protocol=pickle.HIGHEST_PROTOCOL)"
   ]
  },
  {
   "cell_type": "code",
   "execution_count": null,
   "metadata": {},
   "outputs": [],
   "source": []
  }
 ],
 "metadata": {
  "kernelspec": {
   "display_name": "Python 2",
   "language": "python",
   "name": "python2"
  },
  "language_info": {
   "codemirror_mode": {
    "name": "ipython",
    "version": 2
   },
   "file_extension": ".py",
   "mimetype": "text/x-python",
   "name": "python",
   "nbconvert_exporter": "python",
   "pygments_lexer": "ipython2",
   "version": "2.7.12"
  }
 },
 "nbformat": 4,
 "nbformat_minor": 2
}
