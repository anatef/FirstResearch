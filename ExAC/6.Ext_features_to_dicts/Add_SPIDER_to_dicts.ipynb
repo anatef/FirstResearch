{
 "cells": [
  {
   "cell_type": "markdown",
   "metadata": {},
   "source": [
    "## Add SPIDER chemical scores to domains positions\n",
    "\n",
    "For each protein position, update dictionaries with SPIDER2 characteristics.\n",
    "\n",
    "input: SPIDER2 info was saved at: \"ExAC/SPIDER/SPIDER2/protein_seq_results/domain_dicts/\"\n",
    "\n",
    "### Output:\n",
    "Creates a new dictionary/update existing dictionary with the mean coverage for each position."
   ]
  },
  {
   "cell_type": "code",
   "execution_count": 1,
   "metadata": {},
   "outputs": [],
   "source": [
    "import pandas as pd\n",
    "import numpy as np\n",
    "import pickle\n",
    "from collections import defaultdict\n",
    "import datetime"
   ]
  },
  {
   "cell_type": "code",
   "execution_count": 2,
   "metadata": {},
   "outputs": [
    {
     "name": "stdout",
     "output_type": "stream",
     "text": [
      "6503\n"
     ]
    }
   ],
   "source": [
    "curr_dir = !pwd\n",
    "pfam_version = \"32\"\n",
    "domains_th = \"10\"\n",
    "update_same_file = True\n",
    "\n",
    "if (update_same_file):\n",
    "    input_path = curr_dir[0]+\"/ext_features_dicts/pfam-v\"+pfam_version+\"/\"\n",
    "else:\n",
    "    input_path = curr_dir[0]+\"/../5.HMM_alter_align/domains_states_dicts/pfam-v\"+pfam_version+\"/\"\n",
    "\n",
    "#Read the list of domains\n",
    "if (pfam_version == \"32\"):\n",
    "    with open(curr_dir[0]+\"/../5.domains_stats/pfam-v\"+pfam_version+\"/regular_human_domains_list.pik\", 'rb') as handle:\n",
    "        filtered_domains_list = pickle.load(handle)\n",
    "else:\n",
    "    with open(curr_dir[0]+\"/../5.domains_stats/pfam-v\"+pfam_version+\"/filtered\"+domains_th+\"_list.pik\", 'rb') as handle:\n",
    "        filtered_domains_list = pickle.load(handle)\n",
    "filtered_domains_list = filtered_domains_list.sort()\n",
    "print (len(filtered_domains_list))\n",
    "\n",
    "#Reading sequence dicts\n",
    "with open(curr_dir[0]+\"/../3.parse_HMMER/canonic_prot_seq/pfam-v32/all_domains_genes_prot_seq.pik\") as handle:\n",
    "    seq_dict = pickle.load(handle)\n",
    "\n",
    "spider_path = curr_dir[0]+\"/../SPIDER/SPIDER2/protein_seq_results/domain_dicts/pfam-v\"+pfam_version+\"/\""
   ]
  },
  {
   "cell_type": "code",
   "execution_count": 3,
   "metadata": {},
   "outputs": [
    {
     "name": "stdout",
     "output_type": "stream",
     "text": [
      "Finished Exo_endo_phos\n",
      "Finished SKICH\n",
      "Finished TIR\n",
      "Finished V-set\n",
      "Finished WAP\n",
      "Finished zf-C2H2\n",
      "Finished zf-CCCH\n"
     ]
    }
   ],
   "source": [
    "#%%time\n",
    "tmp_dict = dict()\n",
    "tmp_dict[\"domain\"] = []\n",
    "tmp_dict[\"gene\"] = []\n",
    "tmp_dict[\"canonic_prot\"] = []\n",
    "spider_problems_domains_list = [\"Exo_endo_phos\", \"SKICH\", \"TIR\", \"V-set\", \"WAP\", \"zf-C2H2\", \"zf-CCCH\"]\n",
    "\n",
    "for domain_name in spider_problems_domains_list:\n",
    "    \n",
    "    dirfiles = !ls -t $input_path$domain_name\n",
    "    filename = dirfiles[0]\n",
    "    with open(input_path+domain_name+\"/\"+filename, 'rb') as handle:\n",
    "        states_dict = pickle.load(handle)\n",
    "    \n",
    "    with open(curr_dir[0]+\"/../4.parse_Uniprot/domains_canonic_prot/pfam-v\"+pfam_version+\"/\"+domain_name+\"_canonic_prot.pik\", 'rb') as handle:\n",
    "        canonic_protein = pickle.load(handle)\n",
    "        \n",
    "    with open(spider_path+domain_name+\"_secondary_struct_dict.pik\",'rb') as handle:\n",
    "        spider_domain_dict = pickle.load(handle)\n",
    "        \n",
    "    for state in states_dict.keys():\n",
    "\n",
    "        for d in states_dict[state]:\n",
    "            ens_prot = canonic_protein[d[\"ens_gene\"]]\n",
    "            seq = seq_dict[d[\"ens_gene\"]][ens_prot]\n",
    "            skip = seq[0:d[\"prot_pos\"]].count('X')+seq[0:d[\"prot_pos\"]].count('*')+seq[0:d[\"prot_pos\"]].count('.')+seq[0:d[\"prot_pos\"]].count('-')\n",
    "            if (skip > 0):\n",
    "                print skip\n",
    "            spider_pos = d[\"prot_pos\"]-skip\n",
    "            \n",
    "            if (spider_domain_dict.has_key(d[\"ens_gene\"]) == False):\n",
    "                print \"Gene is not in the Spider dictionary: \"+d[\"ens_gene\"]\n",
    "                continue\n",
    "            if (spider_domain_dict[d[\"ens_gene\"]].has_key(spider_pos) == False):\n",
    "                print \"protein position is not in the Spider[gene] dictionary: \"+str(d[\"prot_pos\"])\n",
    "                tmp_dict[\"domain\"].append(domain_name)\n",
    "                tmp_dict[\"gene\"].append(d[\"ens_gene\"])\n",
    "                tmp_dict[\"canonic_prot\"].append(ens_prot)\n",
    "                continue\n",
    "            \n",
    "            #Getting the relevant Spider entry\n",
    "            spider_entry = spider_domain_dict[d[\"ens_gene\"]][spider_pos]\n",
    "            \n",
    "            #Validation: Spider has the same AA\n",
    "            if (spider_entry[\"spd3_AA\"] != d[\"aa_ref_orig\"]):\n",
    "                print \"Spider has a different AA: \"+spider_entry[\"hsa2_AA\"]+\" dict AA: \"+d[\"aa_ref_orig\"]+\" Gene: \"+d[\"ens_gene\"]+\" prot_pos: \"+str(d[\"prot_pos\"])\n",
    "                \n",
    "            d[\"spider2-2nd_struct\"] = spider_entry[\"spd3_SS\"] #secondary structure prediction\n",
    "            d[\"spider2-helix_prob\"] = spider_entry[\"spd3_P(H)\"] #alpha-Helix prob.\n",
    "            d[\"spider2-sheet_prob\"] = spider_entry[\"spd3_P(E)\"] #beta-sheet prob.\n",
    "            d[\"spider2-turn_prob\"] = spider_entry[\"spd3_P(C)\"] #turn prob.\n",
    "            d[\"spider2-angle_Phi\"] = spider_entry[\"spd3_Phi\"] #backbone_torsion angle\n",
    "            d[\"spider2-angle_Psi\"] = spider_entry[\"spd3_Psi\"] #backbone_torsion angle\n",
    "            d[\"spider2-angle_tau\"] = spider_entry[\"spd3_Tau(i-2=>i+1)\"] #c-alpha angle (i-2=>i+1)\n",
    "            d[\"spider2-angle_theta\"] = spider_entry [\"spd3_Theta(i-1=>i+1)\"] #c-alpha angle (i-1=>i+1)\n",
    "            d[\"spider2-ASA\"] = spider_entry[\"spd3_ASA\"] #Accessible Surface Area (solvent accessibility)\n",
    "            d[\"spider2-hsa2_HSEu\"] = spider_entry[\"hsa2_HSEu\"] #half-sphere exposure Cα-Cα vectors (HSEα-up)\n",
    "            d[\"spider2-hsa2_HSEd\"] = spider_entry[\"hsa2_HSEd\"] #half-sphere exposure Cα-Cα vectors (HSEα-down)\n",
    "            d[\"spider2-hsb2_HSEu\"] = spider_entry[\"hsb2_HSEu\"] #half-sphere exposure Cα-Cβ vectors (HSEβ-up)\n",
    "            d[\"spider2-hsb2_HSEd\"] = spider_entry[\"hsb2_HSEd\"] #half-sphere exposure Cα-Cβ vectors (HSEβ-down)\n",
    "            d[\"spider2-hsa2_CN\"] = spider_entry[\"hsa2_CN\"] #contanct number for Cα-Cα\n",
    "            d[\"spider2-hsb2_CN\"] = spider_entry[\"hsb2_CN\"] #contact number for Cα-Cβ\n",
    "            \n",
    "        #print \"Finished state \"+str(state)\n",
    "    #Saving the updated dictionary\n",
    "    !mkdir -p ext_features_dicts/pfam-v32/$domain_name\n",
    "    \n",
    "    with open(curr_dir[0]+\"/ext_features_dicts/pfam-v\"+pfam_version+\"/\"+domain_name+\"/\"+domain_name+\"_hmm_states_dict_\"+datetime.date.today().strftime(\"%m.%d.%y\")+\".pik\", 'wb') as handle:\n",
    "        pickle.dump(states_dict, handle, protocol=pickle.HIGHEST_PROTOCOL)\n",
    "           \n",
    "    print \"Finished \"+domain_name"
   ]
  },
  {
   "cell_type": "code",
   "execution_count": 14,
   "metadata": {},
   "outputs": [],
   "source": [
    "tmp_df = pd.DataFrame.from_dict(tmp_dict)\n",
    "tmp_df = tmp_df.drop_duplicates()\n",
    "tmp_df.reset_index(inplace=True, drop=True)"
   ]
  },
  {
   "cell_type": "code",
   "execution_count": 16,
   "metadata": {},
   "outputs": [],
   "source": [
    "tmp_df.to_csv(\"protein_positions_missing_in_spider_dict.csv\", sep=\"\\t\")"
   ]
  },
  {
   "cell_type": "code",
   "execution_count": 43,
   "metadata": {},
   "outputs": [],
   "source": [
    "ens_prot = canonic_protein[\"ENSG00000167612.8\"]"
   ]
  },
  {
   "cell_type": "code",
   "execution_count": 44,
   "metadata": {},
   "outputs": [
    {
     "data": {
      "text/plain": [
       "'ENSP00000301190.6'"
      ]
     },
     "execution_count": 44,
     "metadata": {},
     "output_type": "execute_result"
    }
   ],
   "source": [
    "ens_prot"
   ]
  },
  {
   "cell_type": "code",
   "execution_count": 42,
   "metadata": {},
   "outputs": [
    {
     "data": {
      "text/plain": [
       "{'ENSP00000301190.6': 'MKVQPSVTCVASWGGIVHLEAFGDPVIVLRGAWAVPRVDCLIDTLRTPNASCMRKGTHLLVPCLEEEELALHRRRLDMSEALPCPGKETPTPGCRLGALYWACVHNDPTQLQAILDGGVSPEEATQVDSNGRTGLMVACYHGFQSVVALLSHCPFLDVNQQDKGGDTALMLAAQAGHVPLVSLLLNYYVGLDLERRDQRGLTALMKAAMRNRCADLTAVDPVRGKTALEWAVLTDSFDTVWRIRQLLRRPQVEQLSQHYKPEWPALSGLVAQAQAQAQVAPSLLERLQATLSLPFAPSPQEGGVLDHLVTATTSLASPFVTTACHTLCPDHPPSLGTRSKSVPELLGTAPPPPLVPQSPPGSPQRSPWVFVPYQSPQGILSKCLQWLQPRDSTSPRPQVPKILLSKASSSSHQCQPKPSPSGHQSLALPLWRYQELRIEKRKQEEEARMAQK*',\n",
       " 'ENSP00000344690.4': 'MVACYHGFQSVVALLSHCPFLDVNQQDKGGDTALMLAAQAGHVPLVSLLLNYYVGLDLERRDQRGLTALMKAAMRNRCECVATLLMAGADLTAVDPVRGKTALEWAVLTDSFDTVWRIRQLLRRPQVEQLSQHYKPEWPALSGLVAQAQAQAQVAPSLLERLQATLSLPFAPSPQEGGVLDHLVTATTSLASPFVTTACHTLCPDHPPSLGTRSKSVPELLVPAEAQSFRTPKSGPSSLAIPGAQDREEETGGGGQNGTEVGEDGIGQAGNR*'}"
      ]
     },
     "execution_count": 42,
     "metadata": {},
     "output_type": "execute_result"
    }
   ],
   "source": [
    "seq_dict[\"ENSG00000167612.8\"]"
   ]
  },
  {
   "cell_type": "code",
   "execution_count": 45,
   "metadata": {},
   "outputs": [
    {
     "data": {
      "text/plain": [
       "'G'"
      ]
     },
     "execution_count": 45,
     "metadata": {},
     "output_type": "execute_result"
    }
   ],
   "source": [
    "seq_dict[\"ENSG00000167612.8\"][\"ENSP00000344690.4\"][98]"
   ]
  },
  {
   "cell_type": "code",
   "execution_count": 33,
   "metadata": {},
   "outputs": [
    {
     "data": {
      "text/plain": [
       "{'hsa2_AA': 'P',\n",
       " 'hsa2_CN': '24.8',\n",
       " 'hsa2_HSEd': '16.8',\n",
       " 'hsa2_HSEu': '7.7',\n",
       " 'hsb2_AA': 'P',\n",
       " 'hsb2_CN': '26.0',\n",
       " 'hsb2_HSEd': '18.0',\n",
       " 'hsb2_HSEu': '7.6',\n",
       " 'spd3_AA': 'P',\n",
       " 'spd3_ASA': '74.7',\n",
       " 'spd3_P(C)': '0.924',\n",
       " 'spd3_P(E)': '0.027',\n",
       " 'spd3_P(H)': '0.049',\n",
       " 'spd3_Phi': '-67.3',\n",
       " 'spd3_Psi': '-19.9',\n",
       " 'spd3_SS': 'C',\n",
       " 'spd3_Tau(i-2=>i+1)': '-150.3',\n",
       " 'spd3_Theta(i-1=>i+1)': '92.0'}"
      ]
     },
     "execution_count": 33,
     "metadata": {},
     "output_type": "execute_result"
    }
   ],
   "source": [
    "spider_domain_dict[\"ENSG00000167612.8\"][96]"
   ]
  },
  {
   "cell_type": "code",
   "execution_count": 40,
   "metadata": {},
   "outputs": [],
   "source": [
    "spider_problems_domains_list = [\"Ank_2\", \"Ank_4\", \"Ank_5\", \"Asp\", \"CD45\", \"Cys_knot\", \"DENN\", \"DUF1908\", \"DUF4187\", \"EF-hand_1\", \"EF-hand_5\", \"EF-hand_6\", \"EF-hand_7\", \"EF-hand_8\", \"EF-hand_9\", \"EFhand_Ca_insen\", \"ELM2\", \"Exo_endo_phos\", \"FYVE\", \"G-patch\", \"G-patch_2\", \"GRAM\", \"GSHPx\", \"IQ_SEC7_PH\", \"LRR_1\", \"LRR_12\", \"LRR_6\", \"LRR_8\", \"MFS_1\", \"Myb_DNA-binding\", \"Myotub-related\", \"PDZ\", \"PDZ_6\", \"PH\", \"PNMA\", \"PTP_N\", \"Pkinase\", \"Pkinase_Tyr\", \"RNase_T\", \"RUN\", \"Rdx\", \"SBF2\", \"SKICH\", \"Sec7\", \"SelP_C\", \"SelP_N\", \"SelR\", \"Sep15_SelM\", \"T4_deiodinase\", \"TAXi_N\", \"TIR\", \"Trefoil\", \"V-set\", \"WAP\", \"Y_phosphatase\", \"dDENN\", \"fn3\", \"uDENN\", \"zf-C2H2\", \"zf-C2H2_4\", \"zf-CCCH\", \"zf-H2C2_5\"]"
   ]
  },
  {
   "cell_type": "code",
   "execution_count": 41,
   "metadata": {},
   "outputs": [
    {
     "data": {
      "text/plain": [
       "62"
      ]
     },
     "execution_count": 41,
     "metadata": {},
     "output_type": "execute_result"
    }
   ],
   "source": [
    "len(spider_problems_domains_list)"
   ]
  },
  {
   "cell_type": "code",
   "execution_count": null,
   "metadata": {},
   "outputs": [],
   "source": []
  }
 ],
 "metadata": {
  "kernelspec": {
   "display_name": "Python 2",
   "language": "python",
   "name": "python2"
  },
  "language_info": {
   "codemirror_mode": {
    "name": "ipython",
    "version": 2
   },
   "file_extension": ".py",
   "mimetype": "text/x-python",
   "name": "python",
   "nbconvert_exporter": "python",
   "pygments_lexer": "ipython2",
   "version": "2.7.12"
  }
 },
 "nbformat": 4,
 "nbformat_minor": 1
}
