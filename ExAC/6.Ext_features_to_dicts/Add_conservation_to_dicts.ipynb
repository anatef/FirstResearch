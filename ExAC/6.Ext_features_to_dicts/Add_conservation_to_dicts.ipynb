{
 "cells": [
  {
   "cell_type": "markdown",
   "metadata": {},
   "source": [
    "## Extract conservation scores for each position\n",
    "\n",
    "### Requirements:\n",
    "1. Phylop and phastCons scores arranged in \"chunks\". \n",
    "3. Domains list\n",
    "4. Domain dictionary files\n",
    "\n",
    "### Instructions:\n",
    "Run the cells in order\n",
    "\n",
    "### Output:\n",
    "1. Creates a new dictionary for each domain with phastCons and phyloP conservation scores at each site\n",
    "2. A text file with missing sites"
   ]
  },
  {
   "cell_type": "code",
   "execution_count": 1,
   "metadata": {
    "collapsed": false
   },
   "outputs": [
    {
     "data": {
      "text/html": [
       "<style>.container { width:100% !important; }</style>"
      ],
      "text/plain": [
       "<IPython.core.display.HTML object>"
      ]
     },
     "execution_count": 1,
     "metadata": {},
     "output_type": "execute_result"
    }
   ],
   "source": [
    "import pandas as pd\n",
    "import numpy as np\n",
    "import cPickle as pickle\n",
    "import datetime\n",
    "from IPython.core.display import HTML\n",
    "HTML(\"<style>.container { width:100% !important; }</style>\")"
   ]
  },
  {
   "cell_type": "code",
   "execution_count": 2,
   "metadata": {
    "collapsed": true
   },
   "outputs": [],
   "source": [
    "#Getting path\n",
    "curr_dir = !pwd\n",
    "intance_cutoff = \"10\"\n",
    "\n",
    "update_same_file = True\n",
    "\n",
    "if (update_same_file):\n",
    "    input_path = curr_dir[0]+\"/ext_features_dicts/pfam-v30/\"\n",
    "else:\n",
    "    input_path = curr_dir[0]+\"/../5.HMM_alter_align/domains_states_dicts/pfam-v30/\"\n",
    "\n",
    "\n",
    "#Reading the list of filtered domains\n",
    "with open(curr_dir[0]+\"/../5.domains_stats/filtered\"+intance_cutoff+\"_list.pik\", 'rb') as handle:\n",
    "    filtered_domains_list = pickle.load(handle)\n",
    "filtered_domains_list.sort()"
   ]
  },
  {
   "cell_type": "markdown",
   "metadata": {},
   "source": [
    "### Find the file fragment corresponding to a given position on a chromosome"
   ]
  },
  {
   "cell_type": "code",
   "execution_count": 3,
   "metadata": {
    "collapsed": true
   },
   "outputs": [],
   "source": [
    "# Modified binary search to find correct fragment file\n",
    "# Note: a position in a gap with still return the previous fragment — need to check if position is out of bounds later\n",
    "#\n",
    "# cons: \"phyloP\" or \"phastCons\"\n",
    "# chrom: chromosome number\n",
    "# pos: position number\n",
    "def bin_search(cons,chrom,pos):\n",
    "    input_path = curr_dir[0]+\"/../conservation_scores/\"+cons+\"_frags_txt/chr\"+str(chrom)+\"/\"\n",
    "    with open(input_path+\"index.pik\",'rb') as handle:\n",
    "        index = pickle.load(handle)\n",
    "    if pos < index[0]:\n",
    "        return(-1)\n",
    "    return(rec_helper(0,len(index)-1,index,pos))\n",
    "\n",
    "def rec_helper(lo,hi,a,val):\n",
    "    if hi < lo:\n",
    "        return(-1)\n",
    "    # Indices will never be large, so computing mid in this way is fine\n",
    "    mid = (hi+lo) / 2\n",
    "    a_val = a[mid]\n",
    "    if val >= a_val and mid == len(a)-1:\n",
    "        return(a_val)\n",
    "    elif val >= a_val and val < a[mid+1]:\n",
    "        return(a_val)\n",
    "    elif val > a_val:\n",
    "        return(rec_helper(mid+1,hi,a,val))\n",
    "    else:\n",
    "        return(rec_helper(lo,mid-1,a,val))"
   ]
  },
  {
   "cell_type": "markdown",
   "metadata": {},
   "source": [
    "### Add conservation scores to domain dictionaries"
   ]
  },
  {
   "cell_type": "code",
   "execution_count": 9,
   "metadata": {
    "collapsed": false
   },
   "outputs": [
    {
     "data": {
      "text/plain": [
       "479"
      ]
     },
     "execution_count": 9,
     "metadata": {},
     "output_type": "execute_result"
    }
   ],
   "source": [
    "filtered_domains_list.index(\"Pkinase\")"
   ]
  },
  {
   "cell_type": "code",
   "execution_count": 11,
   "metadata": {
    "collapsed": false
   },
   "outputs": [
    {
     "data": {
      "text/plain": [
       "'Pkinase_C'"
      ]
     },
     "execution_count": 11,
     "metadata": {},
     "output_type": "execute_result"
    }
   ],
   "source": [
    "filtered_domains_list[480]"
   ]
  },
  {
   "cell_type": "code",
   "execution_count": 12,
   "metadata": {
    "collapsed": false
   },
   "outputs": [
    {
     "name": "stdout",
     "output_type": "stream",
     "text": [
      "Finished domain Pkinase_C\n",
      "Finished domain Pkinase_Tyr\n",
      "Finished domain Plectin\n",
      "Finished domain Plexin_cytopl\n",
      "Finished domain Pou\n",
      "Finished domain Pre-SET\n",
      "Finished domain Prenyltrans\n",
      "Finished domain Pro-rich\n",
      "Finished domain Pro_isomerase\n",
      "Finished domain Prok-RING_4\n",
      "Finished domain Proteasome\n",
      "Finished domain Pyr_redox_2\n",
      "Finished domain R3H\n",
      "Finished domain RA\n",
      "Finished domain RAWUL\n",
      "Finished domain RCC1\n",
      "Finished domain RCC1_2\n",
      "Finished domain RGS\n",
      "Finished domain RINGv\n",
      "Finished domain RNase_T\n",
      "Finished domain RPEL\n",
      "Finished domain RRM_1\n",
      "Finished domain RUN\n",
      "Finished domain RYDR_ITPR\n",
      "Finished domain RabGAP-TBC\n",
      "Finished domain Rad60-SLD\n",
      "Finished domain Ran_BP1\n",
      "Finished domain Ras\n",
      "Finished domain RasGAP\n",
      "Finished domain RasGEF\n",
      "Finished domain RasGEF_N\n",
      "Finished domain Recep_L_domain\n",
      "Finished domain Reprolysin\n",
      "Finished domain Reprolysin_2\n",
      "Finished domain Reprolysin_3\n",
      "Finished domain Reprolysin_5\n",
      "Finished domain ResIII\n",
      "Finished domain RhoGAP\n",
      "Finished domain RhoGEF\n",
      "Finished domain Rhodanese\n",
      "Finished domain Ribosomal_L7Ae\n",
      "Finished domain Ricin_B_lectin\n",
      "Finished domain RnaseA\n",
      "Finished domain Roc\n",
      "Finished domain Rpr2\n",
      "Finished domain RyR\n",
      "Finished domain S1\n",
      "Finished domain S4\n",
      "Finished domain SAM_1\n",
      "Finished domain SAM_2\n",
      "Finished domain SAM_PNT\n",
      "Finished domain SAP\n",
      "Finished domain SBP_bac_3\n",
      "Finished domain SCAN\n",
      "Finished domain SEA\n",
      "Finished domain SET\n",
      "Finished domain SH2\n",
      "Finished domain SH3_1\n",
      "Finished domain SH3_2\n",
      "Finished domain SH3_9\n",
      "Finished domain SNARE\n",
      "Finished domain SNF\n",
      "Finished domain SNF2_N\n",
      "Finished domain SOCS_box\n",
      "Finished domain SPAN-X\n",
      "Finished domain SPRY\n",
      "Finished domain SRCR\n",
      "Finished domain SRPRB\n",
      "Finished domain SSF\n",
      "Finished domain SSXRD\n",
      "Finished domain START\n",
      "Finished domain STAS\n",
      "Finished domain S_100\n",
      "Finished domain SapB_2\n",
      "Finished domain Sec7\n",
      "Finished domain Sel1\n",
      "Finished domain Sema\n",
      "Finished domain Septin\n",
      "Finished domain Serpin\n",
      "Finished domain Serum_albumin\n",
      "Finished domain Snf7\n",
      "Finished domain Somatomedin_B\n",
      "Finished domain Spectrin\n",
      "Finished domain Spin-Ssty\n",
      "Finished domain Sterol-sensing\n",
      "Finished domain Sugar_tr\n",
      "Finished domain Sulfatase\n",
      "Finished domain Sulfate_transp\n",
      "Finished domain Sulfotransfer_1\n",
      "Finished domain Sulfotransfer_2\n",
      "Finished domain Sulfotransfer_3\n",
      "Finished domain Sushi\n",
      "Finished domain Syntaxin\n",
      "Finished domain T-box\n",
      "Finished domain TAF\n",
      "Finished domain TAS2R\n",
      "Finished domain TB\n",
      "Finished domain TFIIS_C\n",
      "Finished domain TGF_beta\n",
      "Finished domain TGFb_propeptide\n",
      "Finished domain THAP\n",
      "Finished domain TIG\n",
      "Finished domain TIL\n",
      "Finished domain TILa\n",
      "Finished domain TIR\n",
      "Finished domain TIR_2\n",
      "Finished domain TMC\n",
      "Finished domain TNF\n",
      "Finished domain TNFR_c6\n",
      "Finished domain TPR_1\n",
      "Finished domain TPR_10\n",
      "Finished domain TPR_11\n",
      "Finished domain TPR_12\n",
      "Finished domain TPR_14\n",
      "Finished domain TPR_17\n",
      "Finished domain TPR_19\n",
      "Finished domain TPR_2\n",
      "Finished domain TPR_7\n",
      "Finished domain TPR_8\n",
      "Finished domain TRAM_LAG1_CLN8\n",
      "Finished domain TSP_1\n",
      "Finished domain TSP_3\n",
      "Finished domain TTL\n",
      "Finished domain TUDOR\n",
      "Finished domain Tetraspannin\n",
      "Finished domain ThiF\n",
      "Finished domain Thiol-ester_cl\n",
      "Finished domain Thioredoxin\n",
      "Finished domain Thioredoxin_6\n",
      "Finished domain Thyroglobulin_1\n",
      "Finished domain Tissue_fac\n",
      "Finished domain Transglut_C\n",
      "Finished domain Transglut_core\n",
      "Finished domain Trefoil\n",
      "Finished domain Trypsin\n",
      "Finished domain Trypsin_2\n",
      "Finished domain Tubulin\n",
      "Finished domain Tubulin-binding\n",
      "Finished domain Tubulin_C\n",
      "Finished domain UBA\n",
      "Finished domain UBA_4\n",
      "Finished domain UBX\n",
      "Finished domain UCH\n",
      "Finished domain UCH_1\n",
      "Finished domain UDPGT\n",
      "Finished domain UIM\n",
      "Finished domain UPAR_LY6\n",
      "Finished domain UQ_con\n",
      "Finished domain V-set\n",
      "Finished domain VCBS\n",
      "Finished domain VPS9\n",
      "Finished domain VWA\n",
      "Finished domain VWA_2\n",
      "Finished domain VWA_3\n",
      "Finished domain VWC\n",
      "Finished domain VWD\n",
      "Finished domain WAP\n",
      "Finished domain WD40\n",
      "Finished domain WH1\n",
      "Finished domain WH2\n",
      "Finished domain WW\n",
      "Finished domain WWE\n",
      "Finished domain Xin\n",
      "Finished domain Xlink\n",
      "Finished domain Y_phosphatase\n",
      "Finished domain ZU5\n",
      "Finished domain ZZ\n",
      "Finished domain Zip\n",
      "Finished domain Zona_pellucida\n",
      "Finished domain adh_short\n",
      "Finished domain adh_short_C2\n",
      "Finished domain bZIP_1\n",
      "Finished domain bZIP_2\n",
      "Finished domain bZIP_Maf\n",
      "Finished domain cEGF\n",
      "Finished domain cNMP_binding\n",
      "Finished domain dDENN\n",
      "Finished domain dsrm\n",
      "Finished domain fn1\n",
      "Finished domain fn2\n",
      "Finished domain fn3\n",
      "Finished domain hEGF\n",
      "Finished domain ig\n",
      "Finished domain p450\n",
      "Finished domain tRNA-synt_1\n",
      "Finished domain tRNA_int_endo\n",
      "Finished domain uDENN\n",
      "Finished domain ubiquitin\n",
      "Finished domain wnt\n",
      "Finished domain zf-A20\n",
      "Finished domain zf-AN1\n",
      "Finished domain zf-BED\n",
      "Finished domain zf-B_box\n",
      "Finished domain zf-C2H2\n",
      "Finished domain zf-C2H2_4\n",
      "Finished domain zf-C2H2_6\n",
      "Finished domain zf-C2H2_jaz\n",
      "Finished domain zf-C2HC\n",
      "Finished domain zf-C3HC4\n",
      "Finished domain zf-C3HC4_2\n",
      "Finished domain zf-C3HC4_3\n",
      "Finished domain zf-C3HC4_4\n",
      "Finished domain zf-C4\n",
      "Finished domain zf-CCCH\n",
      "Finished domain zf-CCHC\n",
      "Finished domain zf-CXXC\n",
      "Finished domain zf-DHHC\n",
      "Finished domain zf-FCS\n",
      "Finished domain zf-H2C2_2\n",
      "Finished domain zf-H2C2_5\n",
      "Finished domain zf-HC5HC2H\n",
      "Finished domain zf-HC5HC2H_2\n",
      "Finished domain zf-MYND\n",
      "Finished domain zf-NF-X1\n",
      "Finished domain zf-RING_11\n",
      "Finished domain zf-RING_2\n",
      "Finished domain zf-RING_5\n",
      "Finished domain zf-RING_UBOX\n",
      "Finished domain zf-RanBP\n",
      "Finished domain zf-TRAF\n",
      "Finished domain zf-UBP\n",
      "Finished domain zf-met\n",
      "Finished domain zf-rbx1\n"
     ]
    }
   ],
   "source": [
    "#%%time\n",
    "import linecache\n",
    "\n",
    "# Get current date\n",
    "today = datetime.date.today()\n",
    "\n",
    "# Find missing scores and write to file\n",
    "missing = open(curr_dir[0]+\"/../conservation_scores/missing.txt\",'w')\n",
    "\n",
    "# Loop over domains\n",
    "for domain_name in filtered_domains_list:\n",
    "    \n",
    "    # Reading the domain states dictionary\n",
    "    domain_dirfiles = !ls -t $input_path$domain_name\n",
    "    # Find the most recent file\n",
    "    recent_priority = -1\n",
    "    recent_filename = \"\"\n",
    "    for f in domain_dirfiles:\n",
    "        tokens = f.split(\"_\")\n",
    "        date = tokens[len(tokens)-1].split(\".\")\n",
    "        month = int(date[0])\n",
    "        day = int(date[1])\n",
    "        # Not all files have years, but those that do are the most recent\n",
    "        if date[2] != \"pik\":\n",
    "            year = int(date[2])\n",
    "        else:\n",
    "            year = 0\n",
    "        priority = year*1000 + month*50 + day\n",
    "        if priority > recent_priority:\n",
    "            recent_priority = priority\n",
    "            recent_filename = f\n",
    "    with open(input_path+domain_name+\"/\"+recent_filename, 'rb') as handle:\n",
    "        states_dict = pickle.load(handle)\n",
    "\n",
    "    # Loop over dictionary\n",
    "    for state in states_dict:\n",
    "        for d in states_dict[state]:\n",
    "            for cons in [\"phyloP\",\"phastCons\"]:\n",
    "                # Find correct file\n",
    "                frag_path = curr_dir[0]+\"/../conservation_scores/\"+cons+\"_frags_txt/chr\"+str(d['chrom'])+\"/\"\n",
    "                # Get appropriate scores\n",
    "                scores = []\n",
    "                for pos in d['chrom_pos']:\n",
    "                    start = bin_search(cons,str(d['chrom']),pos)\n",
    "                    score = linecache.getline(frag_path+str(start)+\".txt\",pos-start+1).strip()\n",
    "                    if score != \"\":\n",
    "                        scores.append(float(score))\n",
    "                d[cons] = scores\n",
    "                if len(scores) < 3:\n",
    "                    missing.write(domain_name+\" \"+d['chrom']+\" \"+str(d['chrom_pos'])+\"\\n\")\n",
    "\n",
    "    \n",
    "    #Saving the updated dictionary\n",
    "    !mkdir -p ext_features_dicts/pfam-v30/$domain_name\n",
    "    \n",
    "    with open(curr_dir[0]+\"/ext_features_dicts/pfam-v30/\"+domain_name+\"/\"+domain_name+\"_hmm_states_dict_\"+today.strftime('%m.%d.%y')+\".pik\", 'wb') as handle:\n",
    "        pickle.dump(states_dict, handle, protocol=pickle.HIGHEST_PROTOCOL)\n",
    "    print(\"Finished domain \"+domain_name)\n",
    "    linecache.clearcache()\n",
    "missing.close()"
   ]
  },
  {
   "cell_type": "code",
   "execution_count": 6,
   "metadata": {
    "collapsed": false
   },
   "outputs": [
    {
     "data": {
      "text/plain": [
       "'Pkinase'"
      ]
     },
     "execution_count": 6,
     "metadata": {},
     "output_type": "execute_result"
    }
   ],
   "source": [
    "domain_name"
   ]
  },
  {
   "cell_type": "code",
   "execution_count": 8,
   "metadata": {
    "collapsed": false
   },
   "outputs": [
    {
     "name": "stdout",
     "output_type": "stream",
     "text": [
      "Finished domain Pkinase\n"
     ]
    }
   ],
   "source": [
    "with open(curr_dir[0]+\"/ext_features_dicts/pfam-v30/\"+domain_name+\"/\"+domain_name+\"_hmm_states_dict_\"+today.strftime('%m.%d.%y')+\".pik\", 'wb') as handle:\n",
    "        pickle.dump(states_dict, handle, protocol=pickle.HIGHEST_PROTOCOL)\n",
    "print(\"Finished domain \"+domain_name)\n",
    "linecache.clearcache()"
   ]
  },
  {
   "cell_type": "code",
   "execution_count": null,
   "metadata": {
    "collapsed": true
   },
   "outputs": [],
   "source": []
  }
 ],
 "metadata": {
  "kernelspec": {
   "display_name": "Python 2",
   "language": "python",
   "name": "python2"
  },
  "language_info": {
   "codemirror_mode": {
    "name": "ipython",
    "version": 2
   },
   "file_extension": ".py",
   "mimetype": "text/x-python",
   "name": "python",
   "nbconvert_exporter": "python",
   "pygments_lexer": "ipython2",
   "version": "2.7.12"
  }
 },
 "nbformat": 4,
 "nbformat_minor": 1
}
