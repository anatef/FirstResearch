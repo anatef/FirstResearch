{
 "cells": [
  {
   "cell_type": "markdown",
   "metadata": {},
   "source": [
    "## Extract conservation scores for each position\n",
    "\n",
    "### Requirements:\n",
    "1. Phylop and phastCons scores arranged in \"chunks\". \n",
    "3. Domains list\n",
    "4. Domain dictionary files\n",
    "\n",
    "### Instructions:\n",
    "Run the cells in order\n",
    "\n",
    "### Output:\n",
    "1. Creates a new dictionary for each domain with phastCons and phyloP conservation scores at each site\n",
    "2. A text file with missing sites"
   ]
  },
  {
   "cell_type": "code",
   "execution_count": 1,
   "metadata": {},
   "outputs": [
    {
     "data": {
      "text/html": [
       "<style>.container { width:100% !important; }</style>"
      ],
      "text/plain": [
       "<IPython.core.display.HTML object>"
      ]
     },
     "execution_count": 1,
     "metadata": {},
     "output_type": "execute_result"
    }
   ],
   "source": [
    "import pandas as pd\n",
    "import numpy as np\n",
    "import cPickle as pickle\n",
    "import datetime\n",
    "from IPython.core.display import HTML\n",
    "HTML(\"<style>.container { width:100% !important; }</style>\")"
   ]
  },
  {
   "cell_type": "code",
   "execution_count": 2,
   "metadata": {},
   "outputs": [],
   "source": [
    "#Getting path\n",
    "curr_dir = !pwd\n",
    "pfam_version = \"30\"\n",
    "intance_cutoff = \"10\"\n",
    "\n",
    "update_same_file = False\n",
    "\n",
    "if (update_same_file):\n",
    "    input_path = curr_dir[0]+\"/ext_features_dicts/pfam-v\"+pfam_version+\"/\"\n",
    "else:\n",
    "    input_path = curr_dir[0]+\"/../5.HMM_alter_align/domains_states_dicts/pfam-v\"+pfam_version+\"/\"\n",
    "\n",
    "\n",
    "#Reading the list of filtered domains\n",
    "with open(curr_dir[0]+\"/../5.domains_stats/pfam-v\"+pfam_version+\"/filtered\"+intance_cutoff+\"_list.pik\", 'rb') as handle:\n",
    "    filtered_domains_list = pickle.load(handle)\n",
    "filtered_domains_list.sort()"
   ]
  },
  {
   "cell_type": "markdown",
   "metadata": {},
   "source": [
    "#### Helper functions - Find the file fragment corresponding to a given position on a chromosome"
   ]
  },
  {
   "cell_type": "code",
   "execution_count": 3,
   "metadata": {},
   "outputs": [],
   "source": [
    "# Modified binary search to find correct fragment file\n",
    "# Note: a position in a gap with still return the previous fragment — need to check if position is out of bounds later\n",
    "#\n",
    "# cons: \"phyloP\" or \"phastCons\"\n",
    "# chrom: chromosome number\n",
    "# pos: position number\n",
    "def bin_search(cons,chrom,pos):\n",
    "    input_path = curr_dir[0]+\"/../conservation_scores/\"+cons+\"_frags_txt/chr\"+str(chrom)+\"/\"\n",
    "    with open(input_path+\"index.pik\",'rb') as handle:\n",
    "        index = pickle.load(handle)\n",
    "    if pos < index[0]:\n",
    "        return(-1)\n",
    "    return(rec_helper(0,len(index)-1,index,pos))\n",
    "\n",
    "def rec_helper(lo,hi,a,val):\n",
    "    if hi < lo:\n",
    "        return(-1)\n",
    "    # Indices will never be large, so computing mid in this way is fine\n",
    "    mid = (hi+lo) / 2\n",
    "    a_val = a[mid]\n",
    "    if val >= a_val and mid == len(a)-1:\n",
    "        return(a_val)\n",
    "    elif val >= a_val and val < a[mid+1]:\n",
    "        return(a_val)\n",
    "    elif val > a_val:\n",
    "        return(rec_helper(mid+1,hi,a,val))\n",
    "    else:\n",
    "        return(rec_helper(lo,mid-1,a,val))"
   ]
  },
  {
   "cell_type": "markdown",
   "metadata": {},
   "source": [
    "### Add conservation scores to domain dictionaries"
   ]
  },
  {
   "cell_type": "code",
   "execution_count": 8,
   "metadata": {},
   "outputs": [
    {
     "data": {
      "text/plain": [
       "301"
      ]
     },
     "execution_count": 8,
     "metadata": {},
     "output_type": "execute_result"
    }
   ],
   "source": [
    "filtered_domains_list.index(\"IRS\")"
   ]
  },
  {
   "cell_type": "code",
   "execution_count": 5,
   "metadata": {},
   "outputs": [
    {
     "data": {
      "text/plain": [
       "'Pkinase'"
      ]
     },
     "execution_count": 5,
     "metadata": {},
     "output_type": "execute_result"
    }
   ],
   "source": [
    "filtered_domains_list[478]"
   ]
  },
  {
   "cell_type": "code",
   "execution_count": null,
   "metadata": {},
   "outputs": [
    {
     "name": "stdout",
     "output_type": "stream",
     "text": [
      "Finished domain IBR\n",
      "Finished domain IGFBP\n",
      "Finished domain IL6Ra-bind\n",
      "Finished domain IL8\n",
      "Finished domain INT_SG_DDX_CT_C\n",
      "Finished domain IQ\n",
      "Finished domain IRK\n"
     ]
    }
   ],
   "source": [
    "%%time\n",
    "import linecache\n",
    "\n",
    "# Get current date\n",
    "today = datetime.date.today()\n",
    "\n",
    "# Find missing scores and write to file\n",
    "missing = open(curr_dir[0]+\"/../conservation_scores/missing.txt\",'w')\n",
    "\n",
    "# Loop over domains\n",
    "#for i in range(0,len(filtered_domains_list)):\n",
    "#for domain_name in filtered_domains_list:\n",
    "for i in range(294,302):\n",
    "    domain_name = filtered_domains_list[i]\n",
    "        \n",
    "    # Reading the domain states dictionary\n",
    "    domain_dirfiles = !ls -t $input_path$domain_name\n",
    "    # Find the most recent file\n",
    "    recent_priority = -1\n",
    "    recent_filename = \"\"\n",
    "    for f in domain_dirfiles:\n",
    "        tokens = f.split(\"_\")\n",
    "        date = tokens[len(tokens)-1].split(\".\")\n",
    "        month = int(date[0])\n",
    "        day = int(date[1])\n",
    "        # Not all files have years, but those that do are the most recent\n",
    "        if date[2] != \"pik\":\n",
    "            year = int(date[2])\n",
    "        else:\n",
    "            year = 0\n",
    "        priority = year*1000 + month*50 + day\n",
    "        if priority > recent_priority:\n",
    "            recent_priority = priority\n",
    "            recent_filename = f\n",
    "    with open(input_path+domain_name+\"/\"+recent_filename, 'rb') as handle:\n",
    "        states_dict = pickle.load(handle)\n",
    "\n",
    "    # Loop over dictionary\n",
    "    for state in states_dict:\n",
    "        for d in states_dict[state]:\n",
    "            for cons in [\"phyloP\",\"phastCons\"]:\n",
    "                # Find correct file\n",
    "                frag_path = curr_dir[0]+\"/../conservation_scores/\"+cons+\"_frags_txt/chr\"+str(d['chrom'])+\"/\"\n",
    "                # Get appropriate scores\n",
    "                scores = []\n",
    "                for pos in d['chrom_pos']:\n",
    "                    start = bin_search(cons,str(d['chrom']),pos)\n",
    "                    score = linecache.getline(frag_path+str(start)+\".txt\",pos-start+1).strip()\n",
    "                    \n",
    "                    if score != \"\":\n",
    "                        scores.append(float(score))\n",
    "                d[cons] = scores\n",
    "                if len(scores) < 3:\n",
    "                    missing.write(domain_name+\" \"+d['chrom']+\" \"+str(d['chrom_pos'])+\"\\n\")\n",
    "        linecache.clearcache()\n",
    "    \n",
    "    #Saving the updated dictionary\n",
    "    !mkdir -p ext_features_dicts/pfam-v31/$domain_name\n",
    "    \n",
    "    with open(curr_dir[0]+\"/ext_features_dicts/pfam-v\"+pfam_version+\"/\"+domain_name+\"/\"+domain_name+\"_hmm_states_dict_\"+today.strftime('%m.%d.%y')+\".pik\", 'wb') as handle:\n",
    "        pickle.dump(states_dict, handle, protocol=pickle.HIGHEST_PROTOCOL)\n",
    "    print(\"Finished domain \"+domain_name)\n",
    "    linecache.clearcache()\n",
    "    \n",
    "missing.close()"
   ]
  },
  {
   "cell_type": "code",
   "execution_count": null,
   "metadata": {
    "collapsed": true
   },
   "outputs": [],
   "source": []
  }
 ],
 "metadata": {
  "kernelspec": {
   "display_name": "Python 2",
   "language": "python",
   "name": "python2"
  },
  "language_info": {
   "codemirror_mode": {
    "name": "ipython",
    "version": 2
   },
   "file_extension": ".py",
   "mimetype": "text/x-python",
   "name": "python",
   "nbconvert_exporter": "python",
   "pygments_lexer": "ipython2",
   "version": "2.7.12"
  }
 },
 "nbformat": 4,
 "nbformat_minor": 1
}
