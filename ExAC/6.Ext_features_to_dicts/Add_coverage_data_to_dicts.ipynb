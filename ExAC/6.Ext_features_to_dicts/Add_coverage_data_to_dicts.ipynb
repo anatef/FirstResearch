{
 "cells": [
  {
   "cell_type": "markdown",
   "metadata": {},
   "source": [
    "## Extract coverage scores for each position\n",
    "\n",
    "For ech protein position, extract the ExAC mean coverage for its 3 codon's positions.\n",
    "Add their mean as another attribute.\n",
    "\n",
    "### Output:\n",
    "Creates a new dictionary/update existing dictionary with the mean coverage for each position."
   ]
  },
  {
   "cell_type": "code",
   "execution_count": 1,
   "metadata": {
    "collapsed": false
   },
   "outputs": [],
   "source": [
    "%matplotlib inline\n",
    "import matplotlib.pyplot as plt\n",
    "import pandas as pd\n",
    "import numpy as np\n",
    "import pickle\n",
    "import gzip\n",
    "from collections import defaultdict\n",
    "import datetime\n",
    "from IPython.core.display import HTML\n",
    "HTML(\"<style>.container { width:100% !important; }</style>\");"
   ]
  },
  {
   "cell_type": "code",
   "execution_count": 2,
   "metadata": {
    "collapsed": false
   },
   "outputs": [],
   "source": [
    "curr_dir = !pwd\n",
    "domains_th = \"10\"\n",
    "update_same_file = True\n",
    "\n",
    "if (update_same_file):\n",
    "    input_path = curr_dir[0]+\"/ext_features_dicts/pfam-v30/\"\n",
    "else:\n",
    "    input_path = curr_dir[0]+\"/../5.HMM_alter_align/domains_states_dicts/pfam-v30/\"\n",
    "output_path = curr_dir[0]+\"/ext_features_dicts/pfam-v30/\"\n",
    "\n",
    "#Read the list of domains\n",
    "with open(curr_dir[0]+\"/../5.domains_stats/filtered\"+domains_th+\"_list.pik\", 'rb') as handle:\n",
    "    filtered_domains_list = pickle.load(handle)\n",
    "filtered_domains_list.sort()"
   ]
  },
  {
   "cell_type": "code",
   "execution_count": 3,
   "metadata": {
    "collapsed": false
   },
   "outputs": [],
   "source": [
    "#Load all chromosomes coverage matrices\n",
    "chromosome_names = [\"1\", \"2\", \"3\", \"4\", \"5\", \"6\", \"7\", \"8\", \"9\", \"10\", \"11\", \"12\", \"13\", \"14\", \"15\", \"16\", \"17\", \"18\", \"19\", \"20\", \"21\", \"22\", \"X\", \"Y\"]\n",
    "cov_dict = {}\n",
    "\n",
    "for chrom in chromosome_names:\n",
    "    cov_dict[chrom] = pd.read_csv(curr_dir[0]+\"/coverage_raw/Panel.chr\"+chrom+\".coverage.txt\", sep='\\t')"
   ]
  },
  {
   "cell_type": "code",
   "execution_count": 5,
   "metadata": {
    "collapsed": false
   },
   "outputs": [
    {
     "name": "stdout",
     "output_type": "stream",
     "text": [
      "Finished EF-hand_4\n",
      "CPU times: user 18.4 s, sys: 360 ms, total: 18.8 s\n",
      "Wall time: 19.1 s\n"
     ]
    }
   ],
   "source": [
    "%%time\n",
    "for domain_name in filtered_domains_list:\n",
    "    domain_name = \"EF-hand_4\"\n",
    "    dirfiles = !ls -t $input_path$domain_name\n",
    "    filename = dirfiles[0]\n",
    "    with open(input_path+domain_name+\"/\"+filename, 'rb') as handle:\n",
    "        states_dict = pickle.load(handle)\n",
    "    \n",
    "    for state in states_dict.keys():\n",
    "        \n",
    "        for d in states_dict[state]:\n",
    "            \n",
    "            curr_chrom = d[\"chrom\"]\n",
    "            curr_pos = d[\"chrom_pos\"]\n",
    "            curr_cov = cov_dict[curr_chrom]\n",
    "            cov_mean_sum = 0\n",
    "            cov_mean_num = 0\n",
    "            for pos in curr_pos:\n",
    "                curr_mean = curr_cov[curr_cov[\"pos\"] == pos][\"mean\"]\n",
    "                if (len(curr_mean) == 0):\n",
    "                    continue\n",
    "                cov_mean_sum += float(curr_mean)\n",
    "                cov_mean_num += 1\n",
    "            \n",
    "            if (cov_mean_num == 0):\n",
    "                cov_mean = 0\n",
    "            else:\n",
    "                cov_mean =  float('{:.3e}'.format(float(cov_mean_sum/cov_mean_num)))\n",
    "            d[\"coverage_mean\"] = cov_mean\n",
    "            \n",
    "    \n",
    "    #Saving the updated dictionary\n",
    "    !mkdir -p ext_features_dicts/pfam-v30/$domain_name\n",
    "    \n",
    "    if (update_same_file):\n",
    "        with open(curr_dir[0]+\"/ext_features_dicts/pfam-v30/\"+domain_name+\"/\"+filename, 'wb') as handle:\n",
    "            pickle.dump(states_dict, handle, protocol=pickle.HIGHEST_PROTOCOL)\n",
    "    else:\n",
    "        with open(curr_dir[0]+\"/ext_features_dicts/pfam-v30/\"+domain_name+\"/\"+domain_name+\"_hmm_states_dict_\"+datetime.date.today().strftime(\"%m.%d.%y\")+\".pik\", 'wb') as handle:\n",
    "            pickle.dump(states_dict, handle, protocol=pickle.HIGHEST_PROTOCOL)\n",
    "    \n",
    "    print \"Finished \"+domain_name\n",
    "    "
   ]
  },
  {
   "cell_type": "code",
   "execution_count": 5,
   "metadata": {
    "collapsed": false
   },
   "outputs": [
    {
     "data": {
      "text/plain": [
       "{'100-way-BLOSUM_JSD': 0.782107110231,\n",
       " '100-way-BLOSUM_JSD0-way-BLOSUM_JSD': 0.782107110231,\n",
       " 'PolyPhen': [],\n",
       " 'SIFT': [],\n",
       " 'SwissProt': [],\n",
       " 'aa_ref': 'P',\n",
       " 'ac_adj': [],\n",
       " 'ac_afr': [],\n",
       " 'ac_amr': [],\n",
       " 'ac_eas': [],\n",
       " 'ac_fin': [],\n",
       " 'ac_het': [],\n",
       " 'ac_hom': [],\n",
       " 'ac_nfe': [],\n",
       " 'ac_oth': [],\n",
       " 'ac_sas': [],\n",
       " 'af': 0,\n",
       " 'af_adj': 0,\n",
       " 'af_ref_orig': 'P',\n",
       " 'alterations_af_adj_dict': defaultdict(list, {}),\n",
       " 'an': [],\n",
       " 'an_adj': [],\n",
       " 'an_afr': [],\n",
       " 'an_amr': [],\n",
       " 'an_eas': [],\n",
       " 'an_fin': [],\n",
       " 'an_nfe': [],\n",
       " 'an_oth': [],\n",
       " 'an_sas': [],\n",
       " 'bp_af_adj_dict': {},\n",
       " 'bp_af_dict': {},\n",
       " 'bp_list': [],\n",
       " 'bp_ref': 'CCA',\n",
       " 'chrom': '1',\n",
       " 'chrom_pos': (145684648, 145684649, 145684650),\n",
       " 'clin_sig': [],\n",
       " 'coverage_mean': 53.66,\n",
       " 'ens_gene': 'ENSG00000121848.9',\n",
       " 'ens_prot': [],\n",
       " 'phastCons': [1.0, 1.0, 0.669],\n",
       " 'phyloP': [7.198, 7.198, -0.088],\n",
       " 'prot_pos': 213}"
      ]
     },
     "execution_count": 5,
     "metadata": {},
     "output_type": "execute_result"
    }
   ],
   "source": [
    "states_dict[1][0]"
   ]
  },
  {
   "cell_type": "code",
   "execution_count": null,
   "metadata": {
    "collapsed": true
   },
   "outputs": [],
   "source": []
  }
 ],
 "metadata": {
  "kernelspec": {
   "display_name": "Python 2",
   "language": "python",
   "name": "python2"
  },
  "language_info": {
   "codemirror_mode": {
    "name": "ipython",
    "version": 2
   },
   "file_extension": ".py",
   "mimetype": "text/x-python",
   "name": "python",
   "nbconvert_exporter": "python",
   "pygments_lexer": "ipython2",
   "version": "2.7.12"
  }
 },
 "nbformat": 4,
 "nbformat_minor": 0
}
