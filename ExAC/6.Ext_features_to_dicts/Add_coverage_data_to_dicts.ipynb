{
 "cells": [
  {
   "cell_type": "markdown",
   "metadata": {},
   "source": [
    "## Extract coverage scores for each position\n",
    "\n",
    "### Instructions:\n",
    "Run the cells in order\n",
    "\n",
    "### Output:\n",
    "1. Creates a new dictionary for each domain with phastCons and phyloP conservation scores at each site\n",
    "2. A text file with missing sites"
   ]
  },
  {
   "cell_type": "code",
   "execution_count": 1,
   "metadata": {
    "collapsed": false
   },
   "outputs": [],
   "source": [
    "%matplotlib inline\n",
    "import matplotlib.pyplot as plt\n",
    "import pandas as pd\n",
    "import numpy as np\n",
    "import pickle\n",
    "import gzip\n",
    "from collections import defaultdict\n",
    "import datetime\n",
    "from IPython.core.display import HTML\n",
    "HTML(\"<style>.container { width:100% !important; }</style>\");"
   ]
  },
  {
   "cell_type": "code",
   "execution_count": 2,
   "metadata": {
    "collapsed": false
   },
   "outputs": [],
   "source": [
    "curr_dir = !pwd\n",
    "domain_name = \"PUF\"\n",
    "input_path = curr_dir[0]+\"/../5.HMM_alter_align/domains_states_dicts/pfam-v30/\"+domain_name+\"/\"\n",
    "output_path = curr_dir[0]+\"/coverage_states_dicts/pfam-v30/\"+domain_name+\"/\"\n",
    "dirfiles = !ls -t $input_path\n",
    "filename = dirfiles[0]"
   ]
  },
  {
   "cell_type": "code",
   "execution_count": 3,
   "metadata": {
    "collapsed": false
   },
   "outputs": [],
   "source": [
    "with open(input_path+filename, 'rb') as handle:\n",
    "    states_dict = pickle.load(handle)"
   ]
  },
  {
   "cell_type": "code",
   "execution_count": 4,
   "metadata": {
    "collapsed": false
   },
   "outputs": [
    {
     "data": {
      "text/plain": [
       "{'PolyPhen': [],\n",
       " 'SIFT': [],\n",
       " 'SwissProt': [],\n",
       " 'aa_ref': 'E',\n",
       " 'ac_adj': [],\n",
       " 'ac_afr': [],\n",
       " 'ac_amr': [],\n",
       " 'ac_eas': [],\n",
       " 'ac_fin': [],\n",
       " 'ac_het': [],\n",
       " 'ac_hom': [],\n",
       " 'ac_nfe': [],\n",
       " 'ac_oth': [],\n",
       " 'ac_sas': [],\n",
       " 'af': 0,\n",
       " 'af_adj': 0,\n",
       " 'af_ref_orig': 'E',\n",
       " 'alterations_af_adj_dict': defaultdict(list, {}),\n",
       " 'an': [],\n",
       " 'an_adj': [],\n",
       " 'an_afr': [],\n",
       " 'an_amr': [],\n",
       " 'an_eas': [],\n",
       " 'an_fin': [],\n",
       " 'an_nfe': [],\n",
       " 'an_oth': [],\n",
       " 'an_sas': [],\n",
       " 'bp_af_adj_dict': {},\n",
       " 'bp_af_dict': {},\n",
       " 'bp_list': [],\n",
       " 'bp_ref': 'GAG',\n",
       " 'chrom': '1',\n",
       " 'chrom_pos': (31426610, 31426609, 31426608),\n",
       " 'clin_sig': [],\n",
       " 'ens_gene': 'ENSG00000134644.11',\n",
       " 'ens_prot': [],\n",
       " 'prot_pos': 848}"
      ]
     },
     "execution_count": 4,
     "metadata": {},
     "output_type": "execute_result"
    }
   ],
   "source": [
    "states_dict[1][0]"
   ]
  },
  {
   "cell_type": "code",
   "execution_count": 4,
   "metadata": {
    "collapsed": false
   },
   "outputs": [],
   "source": [
    "#Load all chromosomes coverage matrices\n",
    "chromosome_names = [\"1\", \"2\", \"3\", \"4\", \"5\", \"6\", \"7\", \"8\", \"9\", \"10\", \"11\", \"12\", \"13\", \"14\", \"15\", \"16\", \"17\", \"18\", \"19\", \"20\", \"21\", \"22\", \"X\", \"Y\"]\n",
    "cov_dict = {}\n",
    "\n",
    "for chrom in chromosome_names:\n",
    "    cov_dict[chrom] = pd.read_csv(curr_dir[0]+\"/coverage_raw/Panel.chr\"+chrom+\".coverage.txt\", sep='\\t')"
   ]
  },
  {
   "cell_type": "code",
   "execution_count": 26,
   "metadata": {
    "collapsed": false
   },
   "outputs": [
    {
     "name": "stdout",
     "output_type": "stream",
     "text": [
      "Finished state 1\n",
      "Finished state 2\n",
      "Finished state 3\n",
      "Finished state 4\n",
      "Finished state 5\n",
      "Finished state 6\n",
      "Finished state 7\n",
      "Finished state 8\n",
      "Finished state 9\n",
      "Finished state 10\n",
      "Finished state 11\n",
      "Finished state 12\n",
      "Finished state 13\n",
      "Finished state 14\n",
      "Finished state 15\n",
      "Finished state 16\n",
      "Finished state 17\n",
      "Finished state 18\n",
      "Finished state 19\n",
      "Finished state 20\n",
      "Finished state 21\n",
      "Finished state 22\n",
      "Finished state 23\n",
      "Finished state 24\n",
      "Finished state 25\n",
      "Finished state 26\n",
      "Finished state 27\n",
      "Finished state 28\n",
      "Finished state 29\n",
      "Finished state 30\n",
      "Finished state 31\n",
      "Finished state 32\n",
      "Finished state 33\n",
      "Finished state 34\n",
      "Finished state 35\n",
      "Finished state 36\n",
      "Finished state 37\n",
      "Finished state 38\n",
      "Finished state 39\n",
      "Finished state 40\n",
      "Finished state 41\n",
      "Finished state 42\n",
      "Finished state 43\n",
      "Finished state 44\n",
      "Finished state 45\n",
      "Finished state 46\n",
      "Finished state 47\n",
      "Finished state 48\n",
      "Finished state 49\n",
      "Finished state 50\n",
      "Finished state 51\n",
      "Finished state 52\n",
      "Finished state 53\n",
      "Finished state 54\n",
      "Finished state 55\n",
      "Finished state 56\n",
      "Finished state 57\n",
      "CPU times: user 2min 53s, sys: 948 ms, total: 2min 54s\n",
      "Wall time: 2min 54s\n"
     ]
    }
   ],
   "source": [
    "%%time\n",
    "\n",
    "for state in states_dict.keys():\n",
    "    for i in range(len(states_dict[state])):\n",
    "        curr_dict = states_dict[state][i]\n",
    "        curr_pos = curr_dict[\"chrom_pos\"]\n",
    "        curr_chrom = curr_dict[\"chrom\"]\n",
    "        curr_cov = cov_dict[curr_chrom]\n",
    "        mean_sum = 0\n",
    "        for pos in curr_pos:\n",
    "            curr_mean = curr_cov[curr_cov[\"pos\"] == pos][\"mean\"]\n",
    "            if (len(curr_mean) == 0):\n",
    "                continue\n",
    "            mean_sum += float(curr_mean)\n",
    "        cov_mean = float('{:.3e}'.format(float(mean_sum/3)))\n",
    "        curr_dict[\"coverage_mean\"] = cov_mean\n",
    "    print \"Finished state \"+str(state)"
   ]
  },
  {
   "cell_type": "code",
   "execution_count": 27,
   "metadata": {
    "collapsed": false
   },
   "outputs": [],
   "source": [
    "with open(output_path+domain_name+\"_hmm_states_dict_\"+datetime.date.today().strftime(\"%m.%d\")+\"_cov.pik\", 'wb') as handle:\n",
    "    pickle.dump(states_dict, handle, protocol=pickle.HIGHEST_PROTOCOL)"
   ]
  },
  {
   "cell_type": "code",
   "execution_count": null,
   "metadata": {
    "collapsed": true
   },
   "outputs": [],
   "source": []
  }
 ],
 "metadata": {
  "kernelspec": {
   "display_name": "Python 2",
   "language": "python",
   "name": "python2"
  },
  "language_info": {
   "codemirror_mode": {
    "name": "ipython",
    "version": 2
   },
   "file_extension": ".py",
   "mimetype": "text/x-python",
   "name": "python",
   "nbconvert_exporter": "python",
   "pygments_lexer": "ipython2",
   "version": "2.7.12"
  }
 },
 "nbformat": 4,
 "nbformat_minor": 0
}
