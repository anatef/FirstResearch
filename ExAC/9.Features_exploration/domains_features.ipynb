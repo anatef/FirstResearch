{
 "cells": [
  {
   "cell_type": "code",
   "execution_count": 1,
   "metadata": {
    "collapsed": false
   },
   "outputs": [
    {
     "data": {
      "text/html": [
       "<style>.container { width:100% !important; }</style>"
      ],
      "text/plain": [
       "<IPython.core.display.HTML object>"
      ]
     },
     "execution_count": 1,
     "metadata": {},
     "output_type": "execute_result"
    }
   ],
   "source": [
    "import pandas as pd\n",
    "import numpy as np\n",
    "import pickle\n",
    "import datetime\n",
    "from collections import defaultdict\n",
    "from IPython.core.display import HTML\n",
    "HTML(\"<style>.container { width:100% !important; }</style>\")"
   ]
  },
  {
   "cell_type": "code",
   "execution_count": 6,
   "metadata": {
    "collapsed": true
   },
   "outputs": [],
   "source": [
    "#Getting path\n",
    "curr_dir = !pwd\n",
    "\n",
    "#Reading the list of filtered domains\n",
    "with open(curr_dir[0]+\"/../5.domains_stats/filtered100_list.pik\", 'rb') as handle:\n",
    "    filtered_domains_list = pickle.load(handle)\n",
    "filtered_domains_list.sort()\n",
    "\n",
    "#Reading the table of all domains stats\n",
    "filtered_domains_df = pd.read_csv(curr_dir[0]+\"/../5.domains_stats/filtered50_domains_df.csv\", sep='\\t', index_col=0)"
   ]
  },
  {
   "cell_type": "code",
   "execution_count": 7,
   "metadata": {
    "collapsed": false
   },
   "outputs": [
    {
     "data": {
      "text/plain": [
       "93"
      ]
     },
     "execution_count": 7,
     "metadata": {},
     "output_type": "execute_result"
    }
   ],
   "source": [
    "len(filtered_domains_list)"
   ]
  },
  {
   "cell_type": "code",
   "execution_count": 8,
   "metadata": {
    "collapsed": false
   },
   "outputs": [
    {
     "name": "stdout",
     "output_type": "stream",
     "text": [
      "Finished domain 7TM_GPCR_Srsx\n",
      "Finished domain 7tm_1\n",
      "Finished domain 7tm_4\n",
      "Finished domain ABC_tran\n",
      "Finished domain Ank\n",
      "Finished domain Ank_2\n",
      "Finished domain Ank_3\n",
      "Finished domain Ank_4\n",
      "Finished domain Ank_5\n",
      "Finished domain Arf\n",
      "Finished domain Arm\n",
      "Finished domain BTB\n",
      "Finished domain C1-set\n",
      "Finished domain C2\n",
      "Finished domain C2-set_2\n",
      "Finished domain CH\n",
      "Finished domain CUB\n",
      "Finished domain Cadherin\n",
      "Finished domain Collagen\n",
      "Finished domain DUF1220\n",
      "Finished domain EF-hand_1\n",
      "Finished domain EF-hand_7\n",
      "Finished domain EGF\n",
      "Finished domain EGF_2\n",
      "Finished domain EGF_CA\n",
      "Finished domain FXa_inhibition\n",
      "Finished domain HLH\n",
      "Finished domain Helicase_C\n",
      "Finished domain Homeobox\n",
      "Finished domain I-set\n",
      "Finished domain IQ\n",
      "Finished domain Ig_2\n",
      "Finished domain Ig_3\n",
      "Finished domain Ion_trans\n",
      "Finished domain KRAB\n",
      "Finished domain Kelch_1\n",
      "Finished domain Kelch_2\n",
      "Finished domain Kelch_3\n",
      "Finished domain Kelch_6\n",
      "Finished domain Keratin_B2_2\n",
      "Finished domain LIM\n",
      "Finished domain LRR_4\n",
      "Finished domain LRR_8\n",
      "Finished domain Laminin_EGF\n",
      "Finished domain Laminin_G_2\n",
      "Finished domain Ldl_recept_a\n",
      "Finished domain Ldl_recept_b\n",
      "Finished domain Lectin_C\n",
      "Finished domain MFS_1\n",
      "Finished domain Mito_carr\n",
      "Finished domain Nebulin\n",
      "Finished domain PDZ\n",
      "Finished domain PH\n",
      "Finished domain PHD\n",
      "Finished domain Pkinase\n",
      "Finished domain Pkinase_Tyr\n",
      "Finished domain Plectin\n",
      "Finished domain RCC1\n",
      "Finished domain RRM_1\n",
      "Finished domain Ras\n",
      "Finished domain Roc\n",
      "Finished domain SAM_1\n",
      "Finished domain SAM_2\n",
      "Finished domain SH2\n",
      "Finished domain SH3_1\n",
      "Finished domain SH3_2\n",
      "Finished domain SH3_9\n",
      "Finished domain SPRY\n",
      "Finished domain Spectrin\n",
      "Finished domain Sushi\n",
      "Finished domain TPR_1\n",
      "Finished domain TSP_1\n",
      "Finished domain Trypsin\n",
      "Finished domain V-set\n",
      "Finished domain VWA\n",
      "Finished domain VWA_2\n",
      "Finished domain WD40\n",
      "Finished domain cEGF\n",
      "Finished domain fn3\n",
      "Finished domain hEGF\n",
      "Finished domain ig\n",
      "Finished domain zf-B_box\n",
      "Finished domain zf-C2H2\n",
      "Finished domain zf-C2H2_4\n",
      "Finished domain zf-C2H2_6\n",
      "Finished domain zf-C3HC4\n",
      "Finished domain zf-C3HC4_2\n",
      "Finished domain zf-C3HC4_3\n",
      "Finished domain zf-C3HC4_4\n",
      "Finished domain zf-H2C2_2\n",
      "Finished domain zf-RING_2\n",
      "Finished domain zf-RING_5\n",
      "Finished domain zf-RING_UBOX\n"
     ]
    }
   ],
   "source": [
    "#Calculate domains features\n",
    "input_path = curr_dir[0]+\"/../5.HMM_alter_align/domains_states_dicts/pfam-v30/\"\n",
    "features_dict = defaultdict(list)\n",
    "\n",
    "for domain_name in filtered_domains_list:\n",
    "    \n",
    "    #Reading the domain states dictionary\n",
    "    domain_dirfiles = !ls -t $input_path$domain_name\n",
    "    recent_filename = domain_dirfiles[0]\n",
    "    with open(input_path+domain_name+\"/\"+recent_filename, 'rb') as handle:\n",
    "        states_dict = pickle.load(handle)\n",
    "    \n",
    "    #Initializing feature counters\n",
    "    maf_sum = 0\n",
    "    sites_aa_num = 0\n",
    "    sites_aa_alter_num = 0\n",
    "    sites_snp_alter_num = 0\n",
    "    sites_poly_aa_num = 0 #The number of different aa in all the altered sites (most are 1)\n",
    "    sites_poly_aa_several = 0\n",
    "    \n",
    "    #Rare-poly-counters\n",
    "    maft_5 =  0.005\n",
    "    maft_05 = 0.0005\n",
    "    maft_005 = 0.00005\n",
    "    rare_5_num = 0\n",
    "    rare_05_num = 0\n",
    "    rare_005_num = 0\n",
    "    \n",
    "    for state in states_dict:\n",
    "        sites_aa_num += len(states_dict[state])\n",
    "        for d in states_dict[state]:\n",
    "            if (d[\"af_adj\"] > 0):\n",
    "                sites_aa_alter_num += 1\n",
    "                sites_snp_alter_num += len(d[\"filter\"])\n",
    "                maf_sum += d[\"af_adj\"]\n",
    "                \n",
    "                #Number of different polymorphisms at this site\n",
    "                site_poly_num = len(d[\"alterations_af_adj_dict\"].keys())\n",
    "                sites_poly_aa_num += site_poly_num\n",
    "                if (site_poly_num > 1):\n",
    "                    sites_poly_aa_several += 1\n",
    "                \n",
    "                #Rare poly features\n",
    "                if (d[\"af_adj\"] <= maft_005):\n",
    "                    rare_005_num += 1\n",
    "                    rare_05_num += 1\n",
    "                    rare_5_num += 1\n",
    "                elif (d[\"af_adj\"] <= maft_05):\n",
    "                    rare_05_num += 1\n",
    "                    rare_5_num += 1\n",
    "                elif (d[\"af_adj\"] <= maft_5):\n",
    "                    rare_5_num += 1\n",
    "    \n",
    "    #Feature: domain length\n",
    "    domain_len = len(states_dict.keys())\n",
    "    features_dict[domain_name].append(domain_len)\n",
    "    \n",
    "    #Feature: average MAF overall aa sites\n",
    "    avg_maf_overall = maf_sum/float(sites_aa_num)\n",
    "    features_dict[domain_name].append(avg_maf_overall)\n",
    "    \n",
    "    #Feature: average MAF of all the altered sites\n",
    "    avg_maf_only_altered = maf_sum/float(sites_aa_alter_num)\n",
    "    features_dict[domain_name].append(avg_maf_only_altered)\n",
    "    \n",
    "    #Feature: number of alterations - aa level (raw and normalized by domain length)\n",
    "    norm_aa_alter_num = sites_aa_alter_num/float(domain_len)\n",
    "    features_dict[domain_name].append(sites_aa_alter_num)\n",
    "    features_dict[domain_name].append(norm_aa_alter_num)\n",
    "    \n",
    "    #Feature: number of alterations - DNA level (raw and normalized by domain length)\n",
    "    norm_snp_alter_num = sites_snp_alter_num/float(domain_len)\n",
    "    features_dict[domain_name].append(sites_snp_alter_num)\n",
    "    features_dict[domain_name].append(norm_snp_alter_num)\n",
    "    \n",
    "    #Feature: fraction of aa alterations (fraction of non-zero alterations)\n",
    "    frac_alter_aa = sites_aa_alter_num/float(sites_aa_num)\n",
    "    features_dict[domain_name].append(frac_alter_aa)\n",
    "    \n",
    "    #Feature: average number of poymorphisms at one site\n",
    "    avg_poly_aa = sites_poly_aa_num/float(sites_aa_alter_num)\n",
    "    features_dict[domain_name].append(avg_poly_aa)\n",
    "    \n",
    "    #Feature: fraction of altered sites with more than 1 polymorphism\n",
    "    frac_poly_several = sites_poly_aa_several/float(sites_aa_alter_num)\n",
    "    features_dict[domain_name].append(frac_poly_several)\n",
    "    \n",
    "    #Feature: fraction of rare SNPs (0.5%)\n",
    "    frac_rare_5 = rare_5_num/float(sites_aa_alter_num)\n",
    "    features_dict[domain_name].append(frac_rare_5)\n",
    "    \n",
    "    #Feature: fraction of rare SNPs (0.05%)\n",
    "    frac_rare_05 = rare_05_num/float(sites_aa_alter_num)\n",
    "    features_dict[domain_name].append(frac_rare_05)\n",
    "    \n",
    "    #Feature: fraction of rare SNPs (0.005%)\n",
    "    frac_rare_005 = rare_005_num/float(sites_aa_alter_num)\n",
    "    features_dict[domain_name].append(frac_rare_005)\n",
    "    \n",
    "    print \"Finished domain \"+domain_name"
   ]
  },
  {
   "cell_type": "code",
   "execution_count": 9,
   "metadata": {
    "collapsed": false
   },
   "outputs": [],
   "source": [
    "#Exporting to data-frames table\n",
    "domains_features_df = pd.DataFrame.from_dict(features_dict,orient='index')\n",
    "domains_features_df.columns = [\"length\", \"avg_maf_all\", \"avg_maf_altered\", \"alter_num_aa\", \"alter_num_aa_norm\", \n",
    "                               \"alter_num_dna\", \"alter_num_dna_norm\", \"frac_alter\", \"avg_poly\", \"frac_poly_several\", \"rare_poly_0.5%\", \"rare_poly_0.05%\", \"rare_poly_0.005%\"]\n",
    "domains_features_df = domains_features_df.sort_index()\n",
    "\n",
    "#Adding the data from the df\n",
    "domains_features_df[\"num_genes\"] = filtered_domains_df[\"genes\"]\n",
    "domains_features_df[\"num_instances\"] = filtered_domains_df[\"instances\"]\n",
    "\n",
    "#Computing log2 of genes number\n",
    "domains_features_df[\"num_genes_log2\"] = domains_features_df[\"num_genes\"].apply(lambda x: np.log2(x))\n",
    "\n",
    "#Save to file\n",
    "domains_features_df.to_csv(curr_dir[0]+\"/domains_features_df_filtered100.csv\", sep='\\t')"
   ]
  },
  {
   "cell_type": "code",
   "execution_count": null,
   "metadata": {
    "collapsed": true
   },
   "outputs": [],
   "source": []
  }
 ],
 "metadata": {
  "kernelspec": {
   "display_name": "Python 2",
   "language": "python",
   "name": "python2"
  },
  "language_info": {
   "codemirror_mode": {
    "name": "ipython",
    "version": 2
   },
   "file_extension": ".py",
   "mimetype": "text/x-python",
   "name": "python",
   "nbconvert_exporter": "python",
   "pygments_lexer": "ipython2",
   "version": "2.7.12"
  }
 },
 "nbformat": 4,
 "nbformat_minor": 1
}
