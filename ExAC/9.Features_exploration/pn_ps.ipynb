{
 "cells": [
  {
   "cell_type": "code",
   "execution_count": 1,
   "metadata": {
    "collapsed": true
   },
   "outputs": [],
   "source": [
    "import pandas as pd\n",
    "import numpy as np\n",
    "import pickle\n",
    "from collections import defaultdict\n",
    "import sys \n",
    "sys.path.append('/home/anat/Research/ExAC/5.HMM_alter_align') \n",
    "from calc_exac_freq_func import codon_table"
   ]
  },
  {
   "cell_type": "code",
   "execution_count": 23,
   "metadata": {
    "collapsed": false
   },
   "outputs": [
    {
     "data": {
      "text/plain": [
       "125"
      ]
     },
     "execution_count": 23,
     "metadata": {},
     "output_type": "execute_result"
    }
   ],
   "source": [
    "curr_dir = !pwd\n",
    "\n",
    "input_path = curr_dir[0]+\"/../5.HMM_alter_align/domains_states_dicts/pfam-v30/\"\n",
    "\n",
    "#Read binding scores\n",
    "with open(curr_dir[0]+\"/../binding_score/domains_binding_dict.pik\", 'rb') as handle:\n",
    "    binding_scores_dict = pickle.load(handle)\n",
    "with open(curr_dir[0]+\"/../binding_score/domains_binding_dict.pik\", 'rb') as handle:\n",
    "    binding_scores_all_dict = pickle.load(handle)   \n",
    "\n",
    "\n",
    "#Read the list of domains\n",
    "with open(curr_dir[0]+\"/../5.domains_stats/filtered50_list.pik\", 'rb') as handle:\n",
    "    filtered_domains_list = pickle.load(handle)\n",
    "filtered_domains_list.sort()\n",
    "\n",
    "#Creating a list of the intersection of domains with binding scores and domains with states dicts\n",
    "domains = []\n",
    "for domain in filtered_domains_list:\n",
    "    if (domain in binding_scores_dict.keys()):\n",
    "        domains.append(domain)\n",
    "len(domains)"
   ]
  },
  {
   "cell_type": "code",
   "execution_count": 5,
   "metadata": {
    "collapsed": false
   },
   "outputs": [],
   "source": [
    "def calculate_ns(codon):\n",
    "    \"\"\"Given a codon (string of len=3 of chars from {A,T,G,C}\n",
    "    Calculate n = number of nonsynonymous sites possible for this codon,\n",
    "    and s = number of synnonymous sites possible for this codon.\n",
    "    n+s=3, since this is a site measurment\"\"\"\n",
    "    \n",
    "    ref_aa = codon_table[codon]\n",
    "    bp1 = codon[:1]\n",
    "    bp2 = codon[1:2]\n",
    "    bp3 = codon[2:]\n",
    "    \n",
    "    syn = 0\n",
    "    nonsyn = 0\n",
    "    nucletoides = [\"A\", \"T\", \"G\", \"C\"]\n",
    "    \n",
    "    #Mutating bp1\n",
    "    for n in nucletoides:\n",
    "        if (bp1 == n):\n",
    "            continue  \n",
    "        alt_codon = n+bp2+bp3\n",
    "        alt_aa = codon_table[alt_codon]\n",
    "        if (alt_aa == ref_aa):\n",
    "            syn += 1\n",
    "        else:\n",
    "            nonsyn += 1\n",
    "    \n",
    "    #Mutating bp2\n",
    "    for n in nucletoides:\n",
    "        if (bp2 == n):\n",
    "            continue    \n",
    "        alt_codon = bp1+n+bp3\n",
    "        alt_aa = codon_table[alt_codon]\n",
    "        if (alt_aa == ref_aa):\n",
    "            syn += 1\n",
    "        else:\n",
    "            nonsyn += 1\n",
    "            \n",
    "    #Mutating bp3\n",
    "    for n in nucletoides:\n",
    "        if (bp3 == n):\n",
    "            continue    \n",
    "        alt_codon = bp1+bp2+n\n",
    "        alt_aa = codon_table[alt_codon]\n",
    "        if (alt_aa == ref_aa):\n",
    "            syn += 1\n",
    "        else:\n",
    "            nonsyn += 1\n",
    "\n",
    "    n = float('{:.5e}'.format(float(nonsyn/float(3))))\n",
    "    s = float('{:.5e}'.format(float(syn/float(3))))\n",
    "\n",
    "    return (n,s)"
   ]
  },
  {
   "cell_type": "code",
   "execution_count": 128,
   "metadata": {
    "collapsed": true
   },
   "outputs": [],
   "source": [
    "def seq_ns(sequence):\n",
    "    \"\"\"Given a sequence of nucletides that comprise full codons triplets\n",
    "    calculate and return N = the total number of nonsynnonymous sites,\n",
    "    and S = the total number of synnonymous sites\n",
    "    Each codon is mutiliplied by the individual frequency\"\"\"\n",
    "    \n",
    "    N = 0\n",
    "    S = 0\n",
    "    \n",
    "    for i in range(0,len(sequence),3):\n",
    "        codon = sequence[i:i+3]\n",
    "        N += codon_ns_table[codon][\"N\"] \n",
    "        S += codon_ns_table[codon][\"S\"]\n",
    "        \n",
    "    return (N,S)"
   ]
  },
  {
   "cell_type": "code",
   "execution_count": 125,
   "metadata": {
    "collapsed": false
   },
   "outputs": [],
   "source": [
    "#Creating the substitutions table\n",
    "codon_ns_table = dict.fromkeys(codon_table.keys())\n",
    "for codon in codon_ns_table.keys():\n",
    "    (n,s) = calculate_ns(codon)\n",
    "    codon_ns_table[codon] = dict.fromkeys([\"N\",\"S\"])\n",
    "    codon_ns_table[codon][\"N\"] = n\n",
    "    codon_ns_table[codon][\"S\"] = s\n",
    "    \n",
    "#Exporting the table to file (to enable usage of other scripts)\n",
    "with open(curr_dir[0]+\"/codon_ns_table.pik\", 'wb') as handle:\n",
    "    pickle.dump(codon_ns_table, handle, protocol=pickle.HIGHEST_PROTOCOL)"
   ]
  },
  {
   "cell_type": "code",
   "execution_count": 129,
   "metadata": {
    "collapsed": false
   },
   "outputs": [
    {
     "name": "stdout",
     "output_type": "stream",
     "text": [
      "finished state 1\n",
      "finished state 2\n",
      "finished state 3\n",
      "finished state 4\n",
      "finished state 5\n",
      "finished state 6\n",
      "finished state 7\n",
      "finished state 8\n",
      "finished state 9\n",
      "finished state 10\n",
      "finished state 11\n",
      "finished state 12\n",
      "finished state 13\n",
      "finished state 14\n",
      "finished state 15\n",
      "finished state 16\n",
      "finished state 17\n",
      "finished state 18\n",
      "finished state 19\n",
      "finished state 20\n",
      "finished state 21\n",
      "finished state 22\n",
      "finished state 23\n"
     ]
    }
   ],
   "source": [
    "for domain_name in domains:\n",
    "    \n",
    "    domain_name = \"zf-C2H2\"\n",
    "    dirfiles = !ls -t $input_path$domain_name\n",
    "    filename = dirfiles[0]\n",
    "    with open(input_path+domain_name+\"/\"+filename, 'rb') as handle:\n",
    "        states_dict = pickle.load(handle)\n",
    "    \n",
    "    dn_ds_list = []\n",
    "    \n",
    "    for state in states_dict.keys():\n",
    "        \n",
    "        #Iterating the state dict to compute dn/ds\n",
    "        ref_seq = \"\"\n",
    "        #ref_af_list = []\n",
    "        Nd = 0\n",
    "        Sd = 0\n",
    "        Nd_n = 0\n",
    "        Sd_n = 0\n",
    "        \n",
    "        for d in states_dict[state]:\n",
    "            ref_codon = d[\"bp_ref\"]\n",
    "            ref_seq = ref_seq+ref_codon\n",
    "\n",
    "            #ref_af = d[\"af_adj\"]\n",
    "            #ref_af_list.append(1-ref_af)\n",
    "            \n",
    "            #Calculating frequency-based N/S\n",
    "            bp_af_adj_dict = d[\"bp_af_adj_dict\"]\n",
    "            for alt_codon in bp_af_adj_dict.keys():\n",
    "                alt_aa = codon_table[alt_codon]\n",
    "                #syn\n",
    "                if (alt_aa == d[\"aa_ref\"]):\n",
    "                    Sd += bp_af_adj_dict[alt_codon]\n",
    "                    Sd_n += 1\n",
    "                #Non-syn\n",
    "                else:\n",
    "                    Nd += bp_af_adj_dict[alt_codon]\n",
    "                    Nd_n += 1\n",
    "        \n",
    "        #Refrence expected syn/nonsyn per site\n",
    "        (N,S) = seq_ns(ref_seq)\n",
    "        \n",
    "        #Proportion of nonsyn\n",
    "        PN = Nd/float(N)\n",
    "        \n",
    "        #Proportion of syn\n",
    "        PS = Sd/float(S)\n",
    "        \n",
    "        #num of nonsyn substitutions per syn site\n",
    "        dN = -0.75 * (np.log(1-4*PN/float(3)))\n",
    "        \n",
    "        #num of syn substitutions per nonsyn site\n",
    "        dS = -0.75 * (np.log(1-4*PS/float(3)))\n",
    "        \n",
    "        dN_dS = dN/dS\n",
    "        \n",
    "        dn_ds_list.append(dN_dS)\n",
    "        \n",
    "        print \"finished state \"+str(state)\n",
    "    \n",
    "    break"
   ]
  },
  {
   "cell_type": "code",
   "execution_count": 141,
   "metadata": {
    "collapsed": true
   },
   "outputs": [],
   "source": [
    "Nd = 0.4\n",
    "Sd = 0.4\n",
    "ref_seq = \"ATGAAACCCGGGTTTTAA\"\n",
    "\n",
    "#Refrence expected syn/nonsyn per site\n",
    "(N,S) = seq_ns(ref_seq)\n",
    "        \n",
    "#Proportion of nonsyn\n",
    "PN = Nd/float(N)\n",
    "\n",
    "#Proportion of syn\n",
    "PS = Sd/float(S)\n",
    "\n",
    "#num of nonsyn substitutions per syn site\n",
    "dN = -0.75 * (np.log(1-4*PN/float(3)))\n",
    "\n",
    "#num of syn substitutions per nonsyn site\n",
    "dS = -0.75 * (np.log(1-4*PS/float(3)))\n",
    "\n",
    "dN_dS = dN/dS"
   ]
  },
  {
   "cell_type": "code",
   "execution_count": 154,
   "metadata": {
    "collapsed": false
   },
   "outputs": [
    {
     "data": {
      "text/plain": [
       "(14.66667, 3.333333)"
      ]
     },
     "execution_count": 154,
     "metadata": {},
     "output_type": "execute_result"
    }
   ],
   "source": [
    "(N,S)"
   ]
  },
  {
   "cell_type": "code",
   "execution_count": 139,
   "metadata": {
    "collapsed": false
   },
   "outputs": [
    {
     "data": {
      "text/plain": [
       "1.500921856592186"
      ]
     },
     "execution_count": 139,
     "metadata": {},
     "output_type": "execute_result"
    }
   ],
   "source": [
    "PS"
   ]
  },
  {
   "cell_type": "code",
   "execution_count": 140,
   "metadata": {
    "collapsed": false
   },
   "outputs": [
    {
     "data": {
      "text/plain": [
       "5.003072355000001"
      ]
     },
     "execution_count": 140,
     "metadata": {},
     "output_type": "execute_result"
    }
   ],
   "source": [
    "Sd"
   ]
  },
  {
   "cell_type": "code",
   "execution_count": 76,
   "metadata": {
    "collapsed": false
   },
   "outputs": [
    {
     "data": {
      "text/plain": [
       "4.9597999999999995e-05"
      ]
     },
     "execution_count": 76,
     "metadata": {},
     "output_type": "execute_result"
    }
   ],
   "source": [
    "Nd"
   ]
  },
  {
   "cell_type": "code",
   "execution_count": 78,
   "metadata": {
    "collapsed": false
   },
   "outputs": [
    {
     "data": {
      "text/plain": [
       "4"
      ]
     },
     "execution_count": 78,
     "metadata": {},
     "output_type": "execute_result"
    }
   ],
   "source": [
    "Nd_n"
   ]
  },
  {
   "cell_type": "code",
   "execution_count": 124,
   "metadata": {
    "collapsed": false
   },
   "outputs": [
    {
     "data": {
      "text/plain": [
       "[0.038714287873137632,\n",
       " 0.22676700183044393,\n",
       " 0.017861971094347742,\n",
       " 0.18814651843985269,\n",
       " 0.42056128336809684,\n",
       " 0.014518099402607237,\n",
       " 0.080160642894976805,\n",
       " 0.062768098093980471,\n",
       " 0.16916943428093492,\n",
       " 0.03907715859500796,\n",
       " 0.16071040618676827,\n",
       " 0.032554478761844759,\n",
       " 0.051138723865264482,\n",
       " 0.071976944437929902,\n",
       " 0.058088854810055761,\n",
       " 0.45378505594304669,\n",
       " 0.12939677879175382,\n",
       " 0.44833222599564532,\n",
       " 0.022100931871325436,\n",
       " 0.11447379160250555,\n",
       " 0.12613540430786338,\n",
       " 0.38611899419581669,\n",
       " 0.0038105636672948738]"
      ]
     },
     "execution_count": 124,
     "metadata": {},
     "output_type": "execute_result"
    }
   ],
   "source": [
    "dn_ds_list"
   ]
  },
  {
   "cell_type": "code",
   "execution_count": null,
   "metadata": {
    "collapsed": true
   },
   "outputs": [],
   "source": []
  }
 ],
 "metadata": {
  "kernelspec": {
   "display_name": "Python 2",
   "language": "python",
   "name": "python2"
  },
  "language_info": {
   "codemirror_mode": {
    "name": "ipython",
    "version": 2
   },
   "file_extension": ".py",
   "mimetype": "text/x-python",
   "name": "python",
   "nbconvert_exporter": "python",
   "pygments_lexer": "ipython2",
   "version": "2.7.12"
  }
 },
 "nbformat": 4,
 "nbformat_minor": 1
}
