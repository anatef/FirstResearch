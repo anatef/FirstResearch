{
 "cells": [
  {
   "cell_type": "code",
   "execution_count": 1,
   "metadata": {
    "collapsed": false
   },
   "outputs": [
    {
     "data": {
      "text/html": [
       "<style>.container { width:95% !important; }</style>"
      ],
      "text/plain": [
       "<IPython.core.display.HTML object>"
      ]
     },
     "execution_count": 1,
     "metadata": {},
     "output_type": "execute_result"
    }
   ],
   "source": [
    "import pandas as pd\n",
    "import numpy as np\n",
    "import cPickle as pickle\n",
    "from collections import defaultdict\n",
    "import os\n",
    "from IPython.core.display import HTML\n",
    "HTML(\"<style>.container { width:95% !important; }</style>\")"
   ]
  },
  {
   "cell_type": "code",
   "execution_count": 2,
   "metadata": {
    "collapsed": true
   },
   "outputs": [],
   "source": [
    "#Getting path\n",
    "curr_dir = !pwd\n",
    "intance_cutoff = \"10\"\n",
    "\n",
    "#Reading the list of filtered domains\n",
    "with open(curr_dir[0]+\"/../5.domains_stats/filtered\"+intance_cutoff+\"_list.pik\", 'rb') as handle:\n",
    "    filtered_domains_list = pickle.load(handle)\n",
    "filtered_domains_list.sort()"
   ]
  },
  {
   "cell_type": "code",
   "execution_count": 3,
   "metadata": {
    "collapsed": false
   },
   "outputs": [
    {
     "data": {
      "text/plain": [
       "55060001"
      ]
     },
     "execution_count": 3,
     "metadata": {},
     "output_type": "execute_result"
    }
   ],
   "source": [
    "# Modified binary search to find correct fragment file\n",
    "# Note: a position in a gap with still return the previous fragment — need to check if position is out of bounds later\n",
    "#\n",
    "# cons: \"phyloP\" or \"phastCons\"\n",
    "# chrom: chromosome number\n",
    "# pos: position number\n",
    "def bin_search(cons,chrom,pos):\n",
    "    input_path = curr_dir[0]+\"/../conservation_scores/\"+cons+\"_frags_txt/chr\"+str(chrom)+\"/\"\n",
    "    with open(input_path+\"index.pik\",'rb') as handle:\n",
    "        index = pickle.load(handle)\n",
    "    if pos < index[0]:\n",
    "        return(-1)\n",
    "    return(rec_helper(0,len(index)-1,index,pos))\n",
    "\n",
    "def rec_helper(lo,hi,a,val):\n",
    "    if hi < lo:\n",
    "        return(-1)\n",
    "    # Indices will never be large, so computing mid in this way is fine\n",
    "    mid = (hi+lo) / 2\n",
    "    a_val = a[mid]\n",
    "    if val >= a_val and mid == len(a)-1:\n",
    "        return(a_val)\n",
    "    elif val >= a_val and val < a[mid+1]:\n",
    "        return(a_val)\n",
    "    elif val > a_val:\n",
    "        return(rec_helper(mid+1,hi,a,val))\n",
    "    else:\n",
    "        return(rec_helper(lo,mid-1,a,val))"
   ]
  },
  {
   "cell_type": "code",
   "execution_count": 5,
   "metadata": {
    "collapsed": false
   },
   "outputs": [],
   "source": [
    "# Break each chromosome into more manageable fragments — takes ~1 hour to run\n",
    "input_path = curr_dir[0] + \"/../conservation_scores/\"\n",
    "\n",
    "# Chromosomes\n",
    "chroms = []\n",
    "for i in range(1,23):\n",
    "    chroms.append(str(i))\n",
    "chroms.append('X')\n",
    "chroms.append('Y')\n",
    "\n",
    "for cons in [\"phyloP\",\"phastCons\"]:\n",
    "    os.makedirs(curr_dir[0] + \"/../conservation_scores/\"+cons+\"_frags_txt\")\n",
    "\n",
    "    # Loop over chromosomes\n",
    "    for chrom in chroms:\n",
    "        os.makedirs(curr_dir[0] + \"/../conservation_scores/\"+cons+\"_frags_txt/chr\"+chrom)\n",
    "        index_list = []\n",
    "        with open(input_path + cons+\"/chr\"+chrom+\".\"+cons+\"100way.wigFix\") as f:\n",
    "            for i,line in enumerate(f):\n",
    "                if line[0] == 'f':\n",
    "                    # Close old file if not the first line\n",
    "                    if i != 0:\n",
    "                        frag.close()\n",
    "                    # Create new list\n",
    "                    start = line.split(\" \")[2]\n",
    "                    curr_pos = int(start[6:len(start)])\n",
    "                    frag = open(input_path+cons+\"_frags_txt/chr\"+chrom+\"/\"+str(curr_pos)+\".txt\", 'wb')\n",
    "                    index_list.append(curr_pos)\n",
    "                else:\n",
    "                    frag.write(line)\n",
    "            with open(input_path+cons+\"_frags_txt/chr\"+chrom+\"/index.pik\", 'wb') as handle:\n",
    "                pickle.dump(index_list, handle, protocol=pickle.HIGHEST_PROTOCOL)"
   ]
  },
  {
   "cell_type": "code",
   "execution_count": 14,
   "metadata": {
    "collapsed": false
   },
   "outputs": [
    {
     "name": "stdout",
     "output_type": "stream",
     "text": [
      "Finished domain FERM_M\n",
      "Finished domain Myosin_head\n"
     ]
    }
   ],
   "source": [
    "# Add conservation scores to domain dictionaries — takes ~2 hours\n",
    "\n",
    "import linecache\n",
    "\n",
    "# Find missing scores and write to file\n",
    "missing = open(curr_dir[0]+\"/../conservation_scores/missing.txt\",'w')\n",
    "# Read conservation scores and add to domain dictionaries\n",
    "input_path = curr_dir[0]+\"/../5.HMM_alter_align/domains_states_dicts/pfam-v30/\"\n",
    "\n",
    "# Coverage variables\n",
    "missing_count = 0\n",
    "found_count = 0\n",
    "\n",
    "# Loop over domains\n",
    "for domain_name in filtered_domains_list:\n",
    "    # Reading the domain states dictionary\n",
    "    domain_dirfiles = !ls -t $input_path$domain_name\n",
    "    # Find the most recent file\n",
    "    recent_priority = -1\n",
    "    recent_filename = \"\"\n",
    "    for f in domain_dirfiles:\n",
    "        tokens = f.split(\"_\")\n",
    "        date = tokens[len(tokens)-1].split(\".\")\n",
    "        month = int(date[0])\n",
    "        day = int(date[1])\n",
    "        # Not all files have years, but those that do are the most recent\n",
    "        if date[2] != \"pik\":\n",
    "            year = int(date[2])\n",
    "        else:\n",
    "            year = 0\n",
    "        priority = year*1000 + month*50 + day\n",
    "        if priority > recent_priority:\n",
    "            recent_priority = priority\n",
    "            recent_filename = f\n",
    "    with open(input_path+domain_name+\"/\"+recent_filename, 'rb') as handle:\n",
    "        states_dict = pickle.load(handle)\n",
    "\n",
    "    # Loop over dictionary\n",
    "    for state in states_dict:\n",
    "        for d in states_dict[state]:\n",
    "            for cons in [\"phyloP\",\"phastCons\"]:\n",
    "                # Find correct file\n",
    "                frag_path = curr_dir[0]+\"/../conservation_scores/\"+cons+\"_frags_txt/chr\"+str(d['chrom'])+\"/\"\n",
    "                # Get appropriate scores\n",
    "                scores = []\n",
    "                old_pos = -1\n",
    "                for pos in d['chrom_pos']:\n",
    "                    start = bin_search(cons,str(d['chrom']),pos)\n",
    "                    score = linecache.getline(frag_path+str(start)+\".txt\",pos-start+1).strip()\n",
    "                    # Track number of positions not found\n",
    "                    if score == \"\":\n",
    "                        missing_count += 1\n",
    "                    else:\n",
    "                        scores.append(float(score))\n",
    "                        found_count += 1\n",
    "                    old_pos = pos\n",
    "                d[cons] = scores\n",
    "                if len(scores) < 3:\n",
    "                    missing.write(domain_name+\" \"+d['chrom']+\" \"+str(d['chrom_pos'])+\"\\n\")\n",
    "\n",
    "    # Overwrite original file\n",
    "    with open(input_path+domain_name+\"/\"+recent_filename, 'wb') as handle:\n",
    "        pickle.dump(states_dict, handle, protocol=pickle.HIGHEST_PROTOCOL)\n",
    "    print(\"Finished domain \"+domain_name)\n",
    "    linecache.clearcache()\n",
    "missing.close()"
   ]
  },
  {
   "cell_type": "code",
   "execution_count": null,
   "metadata": {
    "collapsed": false
   },
   "outputs": [],
   "source": [
    "print(found_count)\n",
    "print(missing_count)"
   ]
  },
  {
   "cell_type": "code",
   "execution_count": 12,
   "metadata": {
    "collapsed": false
   },
   "outputs": [
    {
     "name": "stdout",
     "output_type": "stream",
     "text": [
      "1.000\n"
     ]
    }
   ],
   "source": [
    "# Verify correctness of score of a given position by reading through the large chromosome file\n",
    "ver_pos = 68050786\n",
    "chrom = \"14\"\n",
    "cons = \"phastCons\"\n",
    "\n",
    "input_path = curr_dir[0] + \"/../conservation_scores/\"\n",
    "with open(input_path + cons+\"/chr\"+chrom+\".\"+cons+\"100way.wigFix\") as f:\n",
    "    for i,line in enumerate(f):\n",
    "        if line[0] == 'f':\n",
    "            start = line.split(\" \")[2]\n",
    "            curr_pos = int(start[6:len(start)])\n",
    "        elif curr_pos == ver_pos:\n",
    "            print(line.strip())\n",
    "            break\n",
    "        elif curr_pos > ver_pos:\n",
    "            print(\"Not found :(\")\n",
    "            break\n",
    "        else:\n",
    "            curr_pos += 1"
   ]
  }
 ],
 "metadata": {
  "kernelspec": {
   "display_name": "Python 2",
   "language": "python",
   "name": "python2"
  },
  "language_info": {
   "codemirror_mode": {
    "name": "ipython",
    "version": 2
   },
   "file_extension": ".py",
   "mimetype": "text/x-python",
   "name": "python",
   "nbconvert_exporter": "python",
   "pygments_lexer": "ipython2",
   "version": "2.7.13"
  }
 },
 "nbformat": 4,
 "nbformat_minor": 2
}
