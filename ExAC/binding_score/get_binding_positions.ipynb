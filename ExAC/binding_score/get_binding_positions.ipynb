{
 "cells": [
  {
   "cell_type": "code",
   "execution_count": 1,
   "metadata": {
    "collapsed": true
   },
   "outputs": [],
   "source": [
    "import pandas as pd\n",
    "import numpy as np\n",
    "import pickle\n",
    "from collections import defaultdict"
   ]
  },
  {
   "cell_type": "code",
   "execution_count": 2,
   "metadata": {
    "collapsed": true
   },
   "outputs": [],
   "source": [
    "curr_dir = !pwd\n",
    "filename = \"ALL-biolipsummary-mindist.txt\"\n",
    "shilpa_binding_scores = pd.read_csv(curr_dir[0]+\"/\"+filename, sep='\\t')"
   ]
  },
  {
   "cell_type": "code",
   "execution_count": 3,
   "metadata": {
    "collapsed": false
   },
   "outputs": [],
   "source": [
    "#Filter according to score\n",
    "score_filtered = shilpa_binding_scores[shilpa_binding_scores[\"WeightedScore\"] > 0.1]\n",
    "#Filter according to number of instances\n",
    "score_instance_filtered = score_filtered[score_filtered[\"NumInstances\"] >= 10]"
   ]
  },
  {
   "cell_type": "code",
   "execution_count": 4,
   "metadata": {
    "collapsed": false
   },
   "outputs": [
    {
     "name": "stdout",
     "output_type": "stream",
     "text": [
      "CPU times: user 24.9 s, sys: 264 ms, total: 25.1 s\n",
      "Wall time: 24.8 s\n"
     ]
    }
   ],
   "source": [
    "%%time\n",
    "#Filter according to ligands\n",
    "ligand_filter_idx = []\n",
    "#Compose a list of Trues for the indices of \"real ligands\"\n",
    "for i in range(score_instance_filtered.shape[0]):\n",
    "    ligand = score_instance_filtered.iloc[i][\"LigandType\"]\n",
    "    try:\n",
    "        if ((ligand.find(\"PEPTIDE_\") >= 0)  or (ligand.find(\"ION_\") >= 0) or (ligand.find(\"DNABASE_\") >= 0) or (ligand.find(\"RNABASE_\") >= 0) or (ligand.find(\"METABOLITE_\") >= 0)):\n",
    "            ligand_filter_idx.append(True)\n",
    "        else:\n",
    "            ligand_filter_idx.append(False)\n",
    "    except:\n",
    "        ligand_filter_idx.append(False)\n",
    "\n",
    "\n",
    "score_instance_ligand_filtered = score_instance_filtered[ligand_filter_idx]"
   ]
  },
  {
   "cell_type": "code",
   "execution_count": 13,
   "metadata": {
    "collapsed": false
   },
   "outputs": [
    {
     "name": "stdout",
     "output_type": "stream",
     "text": [
      "CPU times: user 5.78 s, sys: 8 ms, total: 5.79 s\n",
      "Wall time: 5.78 s\n"
     ]
    }
   ],
   "source": [
    "%%time\n",
    "domains_ids = (score_instance_ligand_filtered[\"#HmmID\"].unique()).tolist()\n",
    "domains_binding_dict = defaultdict(dict)\n",
    "for domain_id in domains_ids:\n",
    "    domain_name = domain_id[domain_id.find(\"_\")+1:]\n",
    "    curr_binding_info = score_instance_ligand_filtered[score_instance_ligand_filtered[\"#HmmID\"] == domain_id]\n",
    "    domains_binding_dict[domain_name][\"scores\"] = []\n",
    "    domains_binding_dict[domain_name][\"states\"] = []\n",
    "    for index, row in curr_binding_info.iterrows():\n",
    "        state = row[\"MatchState\"]\n",
    "        score = row[\"WeightedScore\"]\n",
    "        domains_binding_dict[domain_name][\"scores\"].append(score)\n",
    "        domains_binding_dict[domain_name][\"states\"].append(state) "
   ]
  },
  {
   "cell_type": "code",
   "execution_count": 15,
   "metadata": {
    "collapsed": false
   },
   "outputs": [],
   "source": [
    "with open(curr_dir[0]+\"/domains_binding_dict.pik\", 'wb') as handle:\n",
    "    pickle.dump(domains_binding_dict, handle, protocol=pickle.HIGHEST_PROTOCOL)"
   ]
  },
  {
   "cell_type": "code",
   "execution_count": 9,
   "metadata": {
    "collapsed": false
   },
   "outputs": [],
   "source": [
    "positions = []\n",
    "for x in domains_binding_dict[\"zf-C2H2\"]:\n",
    "    positions.append(x[\"state\"])"
   ]
  },
  {
   "cell_type": "code",
   "execution_count": 10,
   "metadata": {
    "collapsed": false
   },
   "outputs": [
    {
     "data": {
      "text/plain": [
       "{3, 6, 12, 14, 15, 17, 18, 19, 23}"
      ]
     },
     "execution_count": 10,
     "metadata": {},
     "output_type": "execute_result"
    }
   ],
   "source": [
    "set(positions)"
   ]
  },
  {
   "cell_type": "code",
   "execution_count": null,
   "metadata": {
    "collapsed": true
   },
   "outputs": [],
   "source": []
  }
 ],
 "metadata": {
  "kernelspec": {
   "display_name": "Python 2",
   "language": "python",
   "name": "python2"
  },
  "language_info": {
   "codemirror_mode": {
    "name": "ipython",
    "version": 2
   },
   "file_extension": ".py",
   "mimetype": "text/x-python",
   "name": "python",
   "nbconvert_exporter": "python",
   "pygments_lexer": "ipython2",
   "version": "2.7.12"
  }
 },
 "nbformat": 4,
 "nbformat_minor": 1
}
