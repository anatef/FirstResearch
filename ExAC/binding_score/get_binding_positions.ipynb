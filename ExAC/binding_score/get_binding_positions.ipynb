{
 "cells": [
  {
   "cell_type": "code",
   "execution_count": 1,
   "metadata": {
    "collapsed": true
   },
   "outputs": [],
   "source": [
    "import pandas as pd\n",
    "import numpy as np\n",
    "import pickle\n",
    "from collections import defaultdict"
   ]
  },
  {
   "cell_type": "code",
   "execution_count": 2,
   "metadata": {
    "collapsed": true
   },
   "outputs": [],
   "source": [
    "curr_dir = !pwd\n",
    "filename = \"ALL-biolipsummary-mindist.txt\"\n",
    "shilpa_binding_scores = pd.read_csv(curr_dir[0]+\"/\"+filename, sep='\\t')"
   ]
  },
  {
   "cell_type": "markdown",
   "metadata": {},
   "source": [
    "### Filter to only binding positions, with at least 10 instances"
   ]
  },
  {
   "cell_type": "code",
   "execution_count": 3,
   "metadata": {
    "collapsed": false
   },
   "outputs": [],
   "source": [
    "#Filter according to score\n",
    "score_filtered = shilpa_binding_scores[shilpa_binding_scores[\"WeightedScore\"] > 0.1]\n",
    "#Filter according to number of instances\n",
    "score_instance_filtered = score_filtered[score_filtered[\"NumInstances\"] >= 10]"
   ]
  },
  {
   "cell_type": "markdown",
   "metadata": {},
   "source": [
    "### Filter to all positions . with at least 10 instances"
   ]
  },
  {
   "cell_type": "code",
   "execution_count": 4,
   "metadata": {
    "collapsed": false
   },
   "outputs": [],
   "source": [
    "#Filter according to number of instances only\n",
    "score_instance_filtered = shilpa_binding_scores[shilpa_binding_scores[\"NumInstances\"] >= 10]"
   ]
  },
  {
   "cell_type": "code",
   "execution_count": 6,
   "metadata": {
    "collapsed": false
   },
   "outputs": [
    {
     "name": "stdout",
     "output_type": "stream",
     "text": [
      "CPU times: user 47.7 s, sys: 468 ms, total: 48.2 s\n",
      "Wall time: 47.6 s\n"
     ]
    }
   ],
   "source": [
    "%%time\n",
    "#Filter according to ligands\n",
    "ligand_filter_idx = []\n",
    "#Compose a list of Trues for the indices of \"real ligands\"\n",
    "for i in range(score_instance_filtered.shape[0]):\n",
    "    ligand = score_instance_filtered.iloc[i][\"LigandType\"]\n",
    "    try:\n",
    "        if ((ligand.find(\"PEPTIDE_\") >= 0)  or (ligand.find(\"ION_\") >= 0) or (ligand.find(\"DNABASE_\") >= 0) or (ligand.find(\"RNABASE_\") >= 0) or (ligand.find(\"METABOLITE_\") >= 0)):\n",
    "            ligand_filter_idx.append(True)\n",
    "        else:\n",
    "            ligand_filter_idx.append(False)\n",
    "    except:\n",
    "        ligand_filter_idx.append(False)\n",
    "\n",
    "\n",
    "score_instance_ligand_filtered = score_instance_filtered[ligand_filter_idx]\n",
    "score_instance_ligand_filtered.to_csv(curr_dir[0]+\"/domains_binding_ligands_table.csv\", sep='\\t')"
   ]
  },
  {
   "cell_type": "code",
   "execution_count": 9,
   "metadata": {
    "collapsed": true
   },
   "outputs": [],
   "source": [
    "score_instance_ligand_filtered.to_csv(curr_dir[0]+\"/domains_binding_ligands_table.csv\", sep='\\t')"
   ]
  },
  {
   "cell_type": "code",
   "execution_count": 10,
   "metadata": {
    "collapsed": true
   },
   "outputs": [],
   "source": [
    "peptide_dict = {}\n",
    "ion_dict = {}\n",
    "dna_dict = {}\n",
    "rna_dict = {}\n",
    "metaboltie_dict = {}\n",
    "\n",
    "domains_ids = (score_instance_ligand_filtered[\"#HmmID\"].unique()).tolist()\n",
    "for domain_id in domains_ids:\n",
    "    domain_name = domain_id[domain_id.find(\"_\")+1:]\n",
    "    curr_binding_info = score_instance_ligand_filtered[score_instance_ligand_filtered[\"#HmmID\"] == domain_id]\n",
    "    for index, row in curr_binding_info.iterrows():\n",
    "        state = row[\"MatchState\"]\n",
    "        score = row[\"WeightedScore\"]\n",
    "        ligand = row[\"LigandType\"]"
   ]
  },
  {
   "cell_type": "markdown",
   "metadata": {},
   "source": [
    "### Create dictionaries according to binding-partner and one unified dictionary"
   ]
  },
  {
   "cell_type": "code",
   "execution_count": 34,
   "metadata": {
    "collapsed": false
   },
   "outputs": [
    {
     "name": "stdout",
     "output_type": "stream",
     "text": [
      "CPU times: user 10.8 s, sys: 24 ms, total: 10.8 s\n",
      "Wall time: 10.8 s\n"
     ]
    }
   ],
   "source": [
    "%%time\n",
    "domains_ids = (score_instance_ligand_filtered[\"#HmmID\"].unique()).tolist()\n",
    "\n",
    "peptide_dict = defaultdict(dict)\n",
    "ion_dict = defaultdict(dict)\n",
    "dna_dict = defaultdict(dict)\n",
    "rna_dict = defaultdict(dict)\n",
    "metabolite_dict = defaultdict(dict)\n",
    "\n",
    "domains_binding_dict = defaultdict(dict)\n",
    "for domain_id in domains_ids:\n",
    "    domain_name = domain_id[domain_id.find(\"_\")+1:]\n",
    "    curr_binding_info = score_instance_ligand_filtered[score_instance_ligand_filtered[\"#HmmID\"] == domain_id]\n",
    "    domains_binding_dict[domain_name][\"scores\"] = []\n",
    "    domains_binding_dict[domain_name][\"states\"] = []\n",
    "    for index, row in curr_binding_info.iterrows():\n",
    "        state = row[\"MatchState\"]\n",
    "        score = row[\"WeightedScore\"]\n",
    "        ligand = row[\"LigandType\"]\n",
    "        domains_binding_dict[domain_name][\"scores\"].append(score)\n",
    "        domains_binding_dict[domain_name][\"states\"].append(state)\n",
    "        \n",
    "        #Adding to ligand dictionaries:\n",
    "        if (ligand.find(\"ION_\") >= 0):\n",
    "            ion_dict[domain_name][state] = score\n",
    "        elif (ligand.find(\"PEPTIDE_\") >= 0):\n",
    "            peptide_dict[domain_name][state] = score\n",
    "        elif (ligand.find(\"DNABASE_\") >= 0):\n",
    "            dna_dict[domain_name][state] = score\n",
    "        elif (ligand.find(\"RNABASE_\") >= 0):\n",
    "            rna_dict[domain_name][state] = score\n",
    "        elif (ligand.find(\"METABOLITE_\") >= 0):\n",
    "            metabolite_dict[domain_name][state] = score"
   ]
  },
  {
   "cell_type": "code",
   "execution_count": 35,
   "metadata": {
    "collapsed": true
   },
   "outputs": [],
   "source": [
    "with open(curr_dir[0]+\"/ion_binding_dict.pik\", 'wb') as handle:\n",
    "    pickle.dump(ion_dict, handle, protocol=pickle.HIGHEST_PROTOCOL)\n",
    "    \n",
    "with open(curr_dir[0]+\"/peptide_binding_dict.pik\", 'wb') as handle:\n",
    "    pickle.dump(peptide_dict, handle, protocol=pickle.HIGHEST_PROTOCOL)\n",
    "    \n",
    "with open(curr_dir[0]+\"/dna_binding_dict.pik\", 'wb') as handle:\n",
    "    pickle.dump(dna_dict, handle, protocol=pickle.HIGHEST_PROTOCOL)\n",
    "    \n",
    "with open(curr_dir[0]+\"/rna_binding_dict.pik\", 'wb') as handle:\n",
    "    pickle.dump(rna_dict, handle, protocol=pickle.HIGHEST_PROTOCOL)\n",
    "    \n",
    "with open(curr_dir[0]+\"/metabolite_binding_dict.pik\", 'wb') as handle:\n",
    "    pickle.dump(metabolite_dict, handle, protocol=pickle.HIGHEST_PROTOCOL)"
   ]
  },
  {
   "cell_type": "code",
   "execution_count": 9,
   "metadata": {
    "collapsed": false
   },
   "outputs": [],
   "source": [
    "with open(curr_dir[0]+\"/domains_all_binding_dict.pik\", 'wb') as handle:\n",
    "    pickle.dump(domains_binding_dict, handle, protocol=pickle.HIGHEST_PROTOCOL)"
   ]
  }
 ],
 "metadata": {
  "kernelspec": {
   "display_name": "Python 2",
   "language": "python",
   "name": "python2"
  },
  "language_info": {
   "codemirror_mode": {
    "name": "ipython",
    "version": 2
   },
   "file_extension": ".py",
   "mimetype": "text/x-python",
   "name": "python",
   "nbconvert_exporter": "python",
   "pygments_lexer": "ipython2",
   "version": "2.7.12"
  }
 },
 "nbformat": 4,
 "nbformat_minor": 1
}
