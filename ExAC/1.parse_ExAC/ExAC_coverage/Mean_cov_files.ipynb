{
 "cells": [
  {
   "cell_type": "code",
   "execution_count": 2,
   "metadata": {
    "collapsed": true
   },
   "outputs": [],
   "source": [
    "import pandas as pd\n",
    "import numpy as np\n",
    "import pickle\n",
    "from IPython.core.display import HTML\n",
    "HTML(\"<style>.container { width:100% !important; }</style>\");"
   ]
  },
  {
   "cell_type": "code",
   "execution_count": 3,
   "metadata": {
    "collapsed": true
   },
   "outputs": [],
   "source": [
    "curr_dir = !pwd\n",
    "\n",
    "#Load all chromosomes coverage matrices\n",
    "chromosome_names = [\"1\", \"2\", \"3\", \"4\", \"5\", \"6\", \"7\", \"8\", \"9\", \"10\", \"11\", \"12\", \"13\", \"14\", \"15\", \"16\", \"17\", \"18\", \"19\", \"20\", \"21\", \"22\", \"X\", \"Y\"]\n",
    "#cov_dict = {}\n",
    "\n",
    "#for chrom in chromosome_names:\n",
    "    #cov_dict[chrom] = pd.read_csv(curr_dir[0]+\"/coverage_raw/Panel.chr\"+chrom+\".coverage.txt\", sep='\\t')"
   ]
  },
  {
   "cell_type": "code",
   "execution_count": 6,
   "metadata": {
    "collapsed": false
   },
   "outputs": [
    {
     "name": "stdout",
     "output_type": "stream",
     "text": [
      "Finished chrom 2\n"
     ]
    }
   ],
   "source": [
    "for idx in range(1,len(chromosome_names)):\n",
    "    chrom = chromosome_names[idx]\n",
    "    \n",
    "    cov_chrom = pd.read_csv(curr_dir[0]+\"/coverage_raw/Panel.chr\"+chrom+\".coverage.txt\", sep='\\t')\n",
    "    \n",
    "    positions_list = cov_chrom[\"pos\"]\n",
    "    cov_list = cov_chrom[\"mean\"]\n",
    "    mean_dict = dict(zip(positions_list, cov_list))\n",
    "    with open(curr_dir[0]+\"/mean_coverage/coverage_mean_dict_chr\"+chrom+\".pik\", 'wb') as handle:\n",
    "        pickle.dump(mean_dict, handle, protocol=pickle.HIGHEST_PROTOCOL)\n",
    "    print \"Finished chrom \"+chrom\n",
    "    mean_dict = positions_list = cov_list = cov_chrom = None\n",
    "    break"
   ]
  },
  {
   "cell_type": "code",
   "execution_count": 52,
   "metadata": {
    "collapsed": false
   },
   "outputs": [],
   "source": [
    "a = None"
   ]
  },
  {
   "cell_type": "code",
   "execution_count": 27,
   "metadata": {
    "collapsed": false
   },
   "outputs": [
    {
     "data": {
      "text/plain": [
       "0.85999999999999999"
      ]
     },
     "execution_count": 27,
     "metadata": {},
     "output_type": "execute_result"
    }
   ],
   "source": [
    "mean_dict[50331648]"
   ]
  }
 ],
 "metadata": {
  "kernelspec": {
   "display_name": "Python 2",
   "language": "python",
   "name": "python2"
  },
  "language_info": {
   "codemirror_mode": {
    "name": "ipython",
    "version": 2
   },
   "file_extension": ".py",
   "mimetype": "text/x-python",
   "name": "python",
   "nbconvert_exporter": "python",
   "pygments_lexer": "ipython2",
   "version": "2.7.12"
  }
 },
 "nbformat": 4,
 "nbformat_minor": 1
}
