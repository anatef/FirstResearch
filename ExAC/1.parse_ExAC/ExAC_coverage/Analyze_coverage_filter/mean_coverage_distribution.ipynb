{
 "cells": [
  {
   "cell_type": "markdown",
   "metadata": {},
   "source": [
    "### Testing mean coverage to set filtering threshold"
   ]
  },
  {
   "cell_type": "code",
   "execution_count": 22,
   "metadata": {
    "collapsed": false
   },
   "outputs": [
    {
     "data": {
      "text/html": [
       "<style>.container { width:100% !important; }</style>"
      ],
      "text/plain": [
       "<IPython.core.display.HTML object>"
      ]
     },
     "execution_count": 22,
     "metadata": {},
     "output_type": "execute_result"
    }
   ],
   "source": [
    "%matplotlib inline\n",
    "import pandas as pd\n",
    "import numpy as np\n",
    "import pickle\n",
    "import datetime\n",
    "import matplotlib as plt\n",
    "from collections import defaultdict\n",
    "from IPython.core.display import HTML\n",
    "import matplotlib.pyplot as plt\n",
    "HTML(\"<style>.container { width:100% !important; }</style>\")"
   ]
  },
  {
   "cell_type": "code",
   "execution_count": 2,
   "metadata": {
    "collapsed": true
   },
   "outputs": [],
   "source": [
    "curr_dir = !pwd\n",
    "domains_th = \"10\"\n",
    "input_path = curr_dir[0]+\"/../6.Ext_features_to_dicts/ext_features_dicts/pfam-v30/\"\n",
    "\n",
    "#Read the list of domains\n",
    "with open(curr_dir[0]+\"/../5.domains_stats/filtered\"+domains_th+\"_list.pik\", 'rb') as handle:\n",
    "    filtered_domains_list = pickle.load(handle)\n",
    "filtered_domains_list.sort()"
   ]
  },
  {
   "cell_type": "code",
   "execution_count": 4,
   "metadata": {
    "collapsed": false
   },
   "outputs": [],
   "source": [
    "mean_cov_list = []\n",
    "domain_cov_dict = defaultdict(list)\n",
    "domains_avg_list = []\n",
    "for domain_name in filtered_domains_list:\n",
    "    \n",
    "    dirfiles = !ls -t $input_path$domain_name\n",
    "    filename = dirfiles[0]\n",
    "    with open(input_path+domain_name+\"/\"+filename, 'rb') as handle:\n",
    "        states_dict = pickle.load(handle)\n",
    "    \n",
    "    for state in states_dict.keys():\n",
    "        \n",
    "        for d in states_dict[state]:\n",
    "            mean_cov_list.append(d[\"coverage_mean\"])\n",
    "            domain_cov_dict[domain_name].append(d[\"coverage_mean\"])\n",
    "    \n",
    "    domain_avg_cov = np.average(domain_cov_dict[domain_name])\n",
    "    domains_avg_list.append(domain_avg_cov)\n",
    "    "
   ]
  },
  {
   "cell_type": "code",
   "execution_count": 8,
   "metadata": {
    "collapsed": false
   },
   "outputs": [],
   "source": [
    "with open(curr_dir[0]+\"/domains_avg_list.pik\", 'wb') as handle:\n",
    "        pickle.dump(domains_avg_list, handle, protocol=pickle.HIGHEST_PROTOCOL)\n",
    "with open(curr_dir[0]+\"/mean_cov_list.pik\", 'wb') as handle:\n",
    "        pickle.dump(mean_cov_list, handle, protocol=pickle.HIGHEST_PROTOCOL)\n",
    "with open(curr_dir[0]+\"/domain_cov_dict.pik\", 'wb') as handle:\n",
    "        pickle.dump(domain_cov_dict, handle, protocol=pickle.HIGHEST_PROTOCOL)"
   ]
  },
  {
   "cell_type": "code",
   "execution_count": 13,
   "metadata": {
    "collapsed": false
   },
   "outputs": [
    {
     "data": {
      "image/png": "[encoded data removed]",
      "text/plain": [
       "<matplotlib.figure.Figure at 0x7f653974cbd0>"
      ]
     },
     "metadata": {},
     "output_type": "display_data"
    }
   ],
   "source": [
    "fig1 = plt.figure(1, figsize=(9, 6))\n",
    "ax1 = fig1.add_subplot(111)\n",
    "bp1 = ax1.boxplot(np.array(domains_avg_list))"
   ]
  },
  {
   "cell_type": "code",
   "execution_count": 15,
   "metadata": {
    "collapsed": false
   },
   "outputs": [
    {
     "data": {
      "text/plain": [
       "[array([ 58.63375127,  44.26022329]), array([ 68.39532936,  82.69075949])]"
      ]
     },
     "execution_count": 15,
     "metadata": {},
     "output_type": "execute_result"
    }
   ],
   "source": [
    "[item.get_ydata() for item in bp1['whiskers']]"
   ]
  },
  {
   "cell_type": "code",
   "execution_count": 24,
   "metadata": {
    "collapsed": false
   },
   "outputs": [
    {
     "data": {
      "image/png": "[encoded data removed]",
      "text/plain": [
       "<matplotlib.figure.Figure at 0x7f6532b5df10>"
      ]
     },
     "metadata": {},
     "output_type": "display_data"
    }
   ],
   "source": [
    "h1 = plt.hist(np.array(domains_avg_list), bins=100)"
   ]
  },
  {
   "cell_type": "code",
   "execution_count": 14,
   "metadata": {
    "collapsed": false
   },
   "outputs": [
    {
     "data": {
      "image/png": "[encoded data removed]",
      "text/plain": [
       "<matplotlib.figure.Figure at 0x7f6539d3e910>"
      ]
     },
     "metadata": {},
     "output_type": "display_data"
    }
   ],
   "source": [
    "fig2 = plt.figure(1, figsize=(9, 6))\n",
    "ax2 = fig2.add_subplot(111)\n",
    "bp2 = ax2.boxplot(np.array(mean_cov_list))"
   ]
  },
  {
   "cell_type": "code",
   "execution_count": 16,
   "metadata": {
    "collapsed": false
   },
   "outputs": [
    {
     "data": {
      "text/plain": [
       "[array([ 47.47,   0.  ]), array([ 86.95,  99.99])]"
      ]
     },
     "execution_count": 16,
     "metadata": {},
     "output_type": "execute_result"
    }
   ],
   "source": [
    "[item.get_ydata() for item in bp2['whiskers']]"
   ]
  },
  {
   "cell_type": "code",
   "execution_count": 25,
   "metadata": {
    "collapsed": false
   },
   "outputs": [
    {
     "data": {
      "image/png": "[encoded data removed]",
      "text/plain": [
       "<matplotlib.figure.Figure at 0x7f653bc06f90>"
      ]
     },
     "metadata": {},
     "output_type": "display_data"
    }
   ],
   "source": [
    "h2 = plt.hist(np.array(mean_cov_list), bins=100)"
   ]
  },
  {
   "cell_type": "code",
   "execution_count": 28,
   "metadata": {
    "collapsed": false
   },
   "outputs": [
    {
     "data": {
      "text/plain": [
       "21.969999999999999"
      ]
     },
     "execution_count": 28,
     "metadata": {},
     "output_type": "execute_result"
    }
   ],
   "source": [
    "np.percentile(mean_cov_list,10)"
   ]
  },
  {
   "cell_type": "code",
   "execution_count": null,
   "metadata": {
    "collapsed": true
   },
   "outputs": [],
   "source": []
  }
 ],
 "metadata": {
  "kernelspec": {
   "display_name": "Python 2",
   "language": "python",
   "name": "python2"
  },
  "language_info": {
   "codemirror_mode": {
    "name": "ipython",
    "version": 2
   },
   "file_extension": ".py",
   "mimetype": "text/x-python",
   "name": "python",
   "nbconvert_exporter": "python",
   "pygments_lexer": "ipython2",
   "version": "2.7.12"
  }
 },
 "nbformat": 4,
 "nbformat_minor": 1
}
